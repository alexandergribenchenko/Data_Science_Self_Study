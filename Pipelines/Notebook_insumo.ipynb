{
  "cells": [
    {
      "cell_type": "markdown",
      "metadata": {
        "id": "view-in-github",
        "colab_type": "text"
      },
      "source": [
        "<a href=\"https://colab.research.google.com/github/alexandergribenchenko/Data_Science_Toolkit/blob/main/Pipelines/Notebook_insumo.ipynb\" target=\"_parent\"><img src=\"https://colab.research.google.com/assets/colab-badge.svg\" alt=\"Open In Colab\"/></a>"
      ]
    },
    {
      "cell_type": "markdown",
      "metadata": {
        "id": "CwL-uGNltDsG"
      },
      "source": [
        "# A. Librerias necesarias"
      ]
    },
    {
      "cell_type": "code",
      "execution_count": null,
      "metadata": {
        "id": "fZO2PmV7tDsK"
      },
      "outputs": [],
      "source": [
        "import pandas as pd\n",
        "import numpy as np\n",
        "import seaborn as sns\n",
        "\n",
        "from sklearn.preprocessing import StandardScaler\n",
        "from sklearn.preprocessing import OneHotEncoder\n",
        "from sklearn.impute import SimpleImputer\n",
        "from sklearn.decomposition import PCA\n",
        "from sklearn.neighbors import KNeighborsClassifier\n",
        "\n",
        "from sklearn.compose import ColumnTransformer\n",
        "from sklearn.pipeline import Pipeline\n",
        "\n",
        "from sklearn.model_selection import train_test_split\n",
        "from sklearn.metrics import classification_report, confusion_matrix\n",
        "from sklearn.metrics import accuracy_score, recall_score, f1_score\n",
        "\n",
        "import pickle"
      ]
    },
    {
      "cell_type": "markdown",
      "metadata": {
        "id": "9O9Bg70XtDsM"
      },
      "source": [
        "# 01. Lectura del dataset"
      ]
    },
    {
      "cell_type": "code",
      "execution_count": null,
      "metadata": {
        "id": "hvqJ5IBUtDsM"
      },
      "outputs": [],
      "source": [
        "import pandas as pd\n",
        "import numpy as np"
      ]
    },
    {
      "cell_type": "code",
      "execution_count": null,
      "metadata": {
        "id": "C4VrVCp9tDsM",
        "outputId": "4400f767-44c4-43de-b78e-39ae27112fee"
      },
      "outputs": [
        {
          "data": {
            "text/html": [
              "<div>\n",
              "<style scoped>\n",
              "    .dataframe tbody tr th:only-of-type {\n",
              "        vertical-align: middle;\n",
              "    }\n",
              "\n",
              "    .dataframe tbody tr th {\n",
              "        vertical-align: top;\n",
              "    }\n",
              "\n",
              "    .dataframe thead th {\n",
              "        text-align: right;\n",
              "    }\n",
              "</style>\n",
              "<table border=\"1\" class=\"dataframe\">\n",
              "  <thead>\n",
              "    <tr style=\"text-align: right;\">\n",
              "      <th></th>\n",
              "      <th>Canceled</th>\n",
              "      <th>Month</th>\n",
              "      <th>DepartureTime</th>\n",
              "      <th>UniqueCarrier</th>\n",
              "      <th>SchedElapsedTime</th>\n",
              "      <th>ArrDelay</th>\n",
              "      <th>DepDelay</th>\n",
              "      <th>Distance</th>\n",
              "    </tr>\n",
              "  </thead>\n",
              "  <tbody>\n",
              "    <tr>\n",
              "      <th>0</th>\n",
              "      <td>1</td>\n",
              "      <td>12</td>\n",
              "      <td>814</td>\n",
              "      <td>UA</td>\n",
              "      <td>134.0</td>\n",
              "      <td>0.0</td>\n",
              "      <td>0</td>\n",
              "      <td>679.0</td>\n",
              "    </tr>\n",
              "    <tr>\n",
              "      <th>1</th>\n",
              "      <td>1</td>\n",
              "      <td>12</td>\n",
              "      <td>830</td>\n",
              "      <td>DL</td>\n",
              "      <td>90.0</td>\n",
              "      <td>0.0</td>\n",
              "      <td>0</td>\n",
              "      <td>214.0</td>\n",
              "    </tr>\n",
              "    <tr>\n",
              "      <th>2</th>\n",
              "      <td>1</td>\n",
              "      <td>1</td>\n",
              "      <td>1835</td>\n",
              "      <td>UA</td>\n",
              "      <td>213.0</td>\n",
              "      <td>0.0</td>\n",
              "      <td>0</td>\n",
              "      <td>1605.0</td>\n",
              "    </tr>\n",
              "    <tr>\n",
              "      <th>3</th>\n",
              "      <td>1</td>\n",
              "      <td>4</td>\n",
              "      <td>1730</td>\n",
              "      <td>AA</td>\n",
              "      <td>80.0</td>\n",
              "      <td>0.0</td>\n",
              "      <td>0</td>\n",
              "      <td>235.0</td>\n",
              "    </tr>\n",
              "    <tr>\n",
              "      <th>4</th>\n",
              "      <td>1</td>\n",
              "      <td>7</td>\n",
              "      <td>1442</td>\n",
              "      <td>UA</td>\n",
              "      <td>103.0</td>\n",
              "      <td>0.0</td>\n",
              "      <td>0</td>\n",
              "      <td>413.0</td>\n",
              "    </tr>\n",
              "    <tr>\n",
              "      <th>...</th>\n",
              "      <td>...</td>\n",
              "      <td>...</td>\n",
              "      <td>...</td>\n",
              "      <td>...</td>\n",
              "      <td>...</td>\n",
              "      <td>...</td>\n",
              "      <td>...</td>\n",
              "      <td>...</td>\n",
              "    </tr>\n",
              "    <tr>\n",
              "      <th>5995</th>\n",
              "      <td>0</td>\n",
              "      <td>6</td>\n",
              "      <td>1725</td>\n",
              "      <td>AA</td>\n",
              "      <td>115.0</td>\n",
              "      <td>17.0</td>\n",
              "      <td>30</td>\n",
              "      <td>597.0</td>\n",
              "    </tr>\n",
              "    <tr>\n",
              "      <th>5996</th>\n",
              "      <td>0</td>\n",
              "      <td>9</td>\n",
              "      <td>1945</td>\n",
              "      <td>DL</td>\n",
              "      <td>127.0</td>\n",
              "      <td>-19.0</td>\n",
              "      <td>-9</td>\n",
              "      <td>752.0</td>\n",
              "    </tr>\n",
              "    <tr>\n",
              "      <th>5997</th>\n",
              "      <td>0</td>\n",
              "      <td>8</td>\n",
              "      <td>1850</td>\n",
              "      <td>DL</td>\n",
              "      <td>101.0</td>\n",
              "      <td>6.0</td>\n",
              "      <td>-4</td>\n",
              "      <td>481.0</td>\n",
              "    </tr>\n",
              "    <tr>\n",
              "      <th>5998</th>\n",
              "      <td>0</td>\n",
              "      <td>7</td>\n",
              "      <td>1720</td>\n",
              "      <td>AA</td>\n",
              "      <td>210.0</td>\n",
              "      <td>178.0</td>\n",
              "      <td>42</td>\n",
              "      <td>1302.0</td>\n",
              "    </tr>\n",
              "    <tr>\n",
              "      <th>5999</th>\n",
              "      <td>0</td>\n",
              "      <td>9</td>\n",
              "      <td>1955</td>\n",
              "      <td>AA</td>\n",
              "      <td>265.0</td>\n",
              "      <td>4.0</td>\n",
              "      <td>3</td>\n",
              "      <td>1721.0</td>\n",
              "    </tr>\n",
              "  </tbody>\n",
              "</table>\n",
              "<p>6000 rows × 8 columns</p>\n",
              "</div>"
            ],
            "text/plain": [
              "      Canceled  Month  DepartureTime UniqueCarrier  SchedElapsedTime  \\\n",
              "0            1     12            814            UA             134.0   \n",
              "1            1     12            830            DL              90.0   \n",
              "2            1      1           1835            UA             213.0   \n",
              "3            1      4           1730            AA              80.0   \n",
              "4            1      7           1442            UA             103.0   \n",
              "...        ...    ...            ...           ...               ...   \n",
              "5995         0      6           1725            AA             115.0   \n",
              "5996         0      9           1945            DL             127.0   \n",
              "5997         0      8           1850            DL             101.0   \n",
              "5998         0      7           1720            AA             210.0   \n",
              "5999         0      9           1955            AA             265.0   \n",
              "\n",
              "      ArrDelay  DepDelay  Distance  \n",
              "0          0.0         0     679.0  \n",
              "1          0.0         0     214.0  \n",
              "2          0.0         0    1605.0  \n",
              "3          0.0         0     235.0  \n",
              "4          0.0         0     413.0  \n",
              "...        ...       ...       ...  \n",
              "5995      17.0        30     597.0  \n",
              "5996     -19.0        -9     752.0  \n",
              "5997       6.0        -4     481.0  \n",
              "5998     178.0        42    1302.0  \n",
              "5999       4.0         3    1721.0  \n",
              "\n",
              "[6000 rows x 8 columns]"
            ]
          },
          "execution_count": 47,
          "metadata": {},
          "output_type": "execute_result"
        }
      ],
      "source": [
        "df = pd.read_csv('data/BPT_POC_Data.csv')\n",
        "df"
      ]
    },
    {
      "cell_type": "code",
      "execution_count": null,
      "metadata": {
        "id": "1WPb3f4ZtDsN",
        "outputId": "98eeff4e-8a35-488a-80f5-78702385ce6d"
      },
      "outputs": [
        {
          "name": "stdout",
          "output_type": "stream",
          "text": [
            "<class 'pandas.core.frame.DataFrame'>\n",
            "RangeIndex: 6000 entries, 0 to 5999\n",
            "Data columns (total 8 columns):\n",
            " #   Column            Non-Null Count  Dtype  \n",
            "---  ------            --------------  -----  \n",
            " 0   Canceled          6000 non-null   int64  \n",
            " 1   Month             6000 non-null   int64  \n",
            " 2   DepartureTime     6000 non-null   int64  \n",
            " 3   UniqueCarrier     6000 non-null   object \n",
            " 4   SchedElapsedTime  5998 non-null   float64\n",
            " 5   ArrDelay          5999 non-null   float64\n",
            " 6   DepDelay          6000 non-null   int64  \n",
            " 7   Distance          5999 non-null   float64\n",
            "dtypes: float64(3), int64(4), object(1)\n",
            "memory usage: 375.1+ KB\n"
          ]
        }
      ],
      "source": [
        "df.info()"
      ]
    },
    {
      "cell_type": "markdown",
      "metadata": {
        "id": "xAJHwFhqtDsO"
      },
      "source": [
        "# 02. Train - Test Split"
      ]
    },
    {
      "cell_type": "code",
      "execution_count": null,
      "metadata": {
        "id": "b-zD6MAOtDsO"
      },
      "outputs": [],
      "source": [
        "X = df.drop('Canceled', axis=1)\n",
        "y = df['Canceled']"
      ]
    },
    {
      "cell_type": "code",
      "execution_count": null,
      "metadata": {
        "id": "x7G21smGtDsP"
      },
      "outputs": [],
      "source": [
        "X_train, X_test, y_train, y_test = train_test_split(X, y, \n",
        "                                                    test_size=0.2,\n",
        "                                                    random_state=0)"
      ]
    },
    {
      "cell_type": "markdown",
      "metadata": {
        "id": "r93NzfoJtDsP"
      },
      "source": [
        "# 03. Pipelines"
      ]
    },
    {
      "cell_type": "markdown",
      "metadata": {
        "id": "YZG7pEV4tDsP"
      },
      "source": [
        "## 03.01. Pipeline preprocesamiento: definición"
      ]
    },
    {
      "cell_type": "markdown",
      "metadata": {
        "id": "TOjeD5wFtDsQ"
      },
      "source": [
        "###  Pipeline numerical"
      ]
    },
    {
      "cell_type": "code",
      "execution_count": null,
      "metadata": {
        "id": "IqmzzRHytDsQ",
        "outputId": "983413c0-24ae-4309-9995-b539b10a6589"
      },
      "outputs": [
        {
          "data": {
            "text/html": [
              "<div>\n",
              "<style scoped>\n",
              "    .dataframe tbody tr th:only-of-type {\n",
              "        vertical-align: middle;\n",
              "    }\n",
              "\n",
              "    .dataframe tbody tr th {\n",
              "        vertical-align: top;\n",
              "    }\n",
              "\n",
              "    .dataframe thead th {\n",
              "        text-align: right;\n",
              "    }\n",
              "</style>\n",
              "<table border=\"1\" class=\"dataframe\">\n",
              "  <thead>\n",
              "    <tr style=\"text-align: right;\">\n",
              "      <th></th>\n",
              "      <th>Canceled</th>\n",
              "      <th>Month</th>\n",
              "      <th>DepartureTime</th>\n",
              "      <th>UniqueCarrier</th>\n",
              "      <th>SchedElapsedTime</th>\n",
              "      <th>ArrDelay</th>\n",
              "      <th>DepDelay</th>\n",
              "      <th>Distance</th>\n",
              "    </tr>\n",
              "  </thead>\n",
              "  <tbody>\n",
              "    <tr>\n",
              "      <th>0</th>\n",
              "      <td>1</td>\n",
              "      <td>12</td>\n",
              "      <td>814</td>\n",
              "      <td>UA</td>\n",
              "      <td>134.0</td>\n",
              "      <td>0.0</td>\n",
              "      <td>0</td>\n",
              "      <td>679.0</td>\n",
              "    </tr>\n",
              "    <tr>\n",
              "      <th>1</th>\n",
              "      <td>1</td>\n",
              "      <td>12</td>\n",
              "      <td>830</td>\n",
              "      <td>DL</td>\n",
              "      <td>90.0</td>\n",
              "      <td>0.0</td>\n",
              "      <td>0</td>\n",
              "      <td>214.0</td>\n",
              "    </tr>\n",
              "    <tr>\n",
              "      <th>2</th>\n",
              "      <td>1</td>\n",
              "      <td>1</td>\n",
              "      <td>1835</td>\n",
              "      <td>UA</td>\n",
              "      <td>213.0</td>\n",
              "      <td>0.0</td>\n",
              "      <td>0</td>\n",
              "      <td>1605.0</td>\n",
              "    </tr>\n",
              "  </tbody>\n",
              "</table>\n",
              "</div>"
            ],
            "text/plain": [
              "   Canceled  Month  DepartureTime UniqueCarrier  SchedElapsedTime  ArrDelay  \\\n",
              "0         1     12            814            UA             134.0       0.0   \n",
              "1         1     12            830            DL              90.0       0.0   \n",
              "2         1      1           1835            UA             213.0       0.0   \n",
              "\n",
              "   DepDelay  Distance  \n",
              "0         0     679.0  \n",
              "1         0     214.0  \n",
              "2         0    1605.0  "
            ]
          },
          "execution_count": 51,
          "metadata": {},
          "output_type": "execute_result"
        }
      ],
      "source": [
        "df.head(3)"
      ]
    },
    {
      "cell_type": "code",
      "execution_count": null,
      "metadata": {
        "id": "MvY517eNtDsQ"
      },
      "outputs": [],
      "source": [
        "numeric_features = ['SchedElapsedTime', 'ArrDelay', 'DepDelay', 'Distance']\n",
        "\n",
        "numeric_transformer = Pipeline(steps=[\n",
        "    ('scaler', StandardScaler()),\n",
        "    ('imputer', SimpleImputer()),\n",
        "    ('feature_extraction', PCA(n_components=2))])"
      ]
    },
    {
      "cell_type": "markdown",
      "metadata": {
        "id": "KXrPCpENtDsR"
      },
      "source": [
        "### Pipeline categorical"
      ]
    },
    {
      "cell_type": "code",
      "execution_count": null,
      "metadata": {
        "id": "USAjqRNQtDsR"
      },
      "outputs": [],
      "source": [
        "categorical_features = ['UniqueCarrier', 'Month']\n",
        "categorical_transformer = Pipeline(steps=[\n",
        "    ('onehot', OneHotEncoder())])"
      ]
    },
    {
      "cell_type": "markdown",
      "metadata": {
        "id": "MOZC-2XLtDsR"
      },
      "source": [
        "### Pipeline preprocesamiento consolidado"
      ]
    },
    {
      "cell_type": "code",
      "execution_count": null,
      "metadata": {
        "id": "jkfKBDqAtDsR"
      },
      "outputs": [],
      "source": [
        "preprocessor = ColumnTransformer(\n",
        "    transformers=[\n",
        "        ('num', numeric_transformer, numeric_features),\n",
        "        ('cat', categorical_transformer, categorical_features)])"
      ]
    },
    {
      "cell_type": "markdown",
      "metadata": {
        "id": "BgJKgqyttDsS"
      },
      "source": [
        "## 03.02. Pipeline preprocesamiento: entrenamiento e implementación"
      ]
    },
    {
      "cell_type": "code",
      "execution_count": null,
      "metadata": {
        "id": "SkoxH-zztDsS",
        "outputId": "da546ba7-47d3-4acd-9117-7c2c87c976c1"
      },
      "outputs": [
        {
          "data": {
            "text/plain": [
              "(6000, 17)"
            ]
          },
          "execution_count": 55,
          "metadata": {},
          "output_type": "execute_result"
        }
      ],
      "source": [
        "X_transformado = preprocessor.fit_transform(X)\n",
        "X_transformado.shape"
      ]
    },
    {
      "cell_type": "code",
      "execution_count": null,
      "metadata": {
        "id": "o_do5wEgtDsS",
        "outputId": "68e25940-caea-4f81-a8b5-d4e30b08a1b1"
      },
      "outputs": [
        {
          "data": {
            "text/plain": [
              "scipy.sparse._csr.csr_matrix"
            ]
          },
          "execution_count": 56,
          "metadata": {},
          "output_type": "execute_result"
        }
      ],
      "source": [
        "type(X_transformado)"
      ]
    },
    {
      "cell_type": "code",
      "execution_count": null,
      "metadata": {
        "id": "pGTY-rWKtDsS",
        "outputId": "a0a25f12-4f54-4c0d-f1f2-6162cc86be9c"
      },
      "outputs": [
        {
          "name": "stdout",
          "output_type": "stream",
          "text": [
            "  (0, 0)\t-0.6784433301688055\n",
            "  (0, 1)\t0.005733064767263504\n",
            "  (0, 4)\t1.0\n",
            "  (0, 16)\t1.0\n",
            "  (1, 0)\t-1.4145984265297613\n",
            "  (1, 1)\t0.4835528113032305\n",
            "  (1, 3)\t1.0\n",
            "  (1, 16)\t1.0\n",
            "  (2, 0)\t0.72202070617343\n",
            "  (2, 1)\t-0.9034685645125988\n",
            "  (2, 4)\t1.0\n",
            "  (2, 5)\t1.0\n",
            "  (3, 0)\t-1.4724410203421014\n",
            "  (3, 1)\t0.5208249317373901\n",
            "  (3, 2)\t1.0\n",
            "  (3, 8)\t1.0\n",
            "  (4, 0)\t-1.14385789706446\n",
            "  (4, 1)\t0.3076896308378672\n",
            "  (4, 4)\t1.0\n",
            "  (4, 11)\t1.0\n",
            "  (5, 0)\t-0.7811930159112707\n",
            "  (5, 1)\t0.07205695174711181\n",
            "  (5, 3)\t1.0\n",
            "  (5, 6)\t1.0\n",
            "  (6, 0)\t-1.5665756893439633\n",
            "  :\t:\n",
            "  (5993, 7)\t1.0\n",
            "  (5994, 0)\t8.393844045235383\n",
            "  (5994, 1)\t-4.8449847309036205\n",
            "  (5994, 2)\t1.0\n",
            "  (5994, 16)\t1.0\n",
            "  (5995, 0)\t-0.3427317769992929\n",
            "  (5995, 1)\t0.9868661428609207\n",
            "  (5995, 2)\t1.0\n",
            "  (5995, 10)\t1.0\n",
            "  (5996, 0)\t-0.9806636572213542\n",
            "  (5996, 1)\t-0.48594001762014927\n",
            "  (5996, 3)\t1.0\n",
            "  (5996, 13)\t1.0\n",
            "  (5997, 0)\t-1.0864369316406153\n",
            "  (5997, 1)\t0.30523371656262266\n",
            "  (5997, 3)\t1.0\n",
            "  (5997, 12)\t1.0\n",
            "  (5998, 0)\t2.8375182424069245\n",
            "  (5998, 1)\t3.038729602218328\n",
            "  (5998, 2)\t1.0\n",
            "  (5998, 11)\t1.0\n",
            "  (5999, 0)\t1.2967859874466712\n",
            "  (5999, 1)\t-1.1014448153016296\n",
            "  (5999, 2)\t1.0\n",
            "  (5999, 13)\t1.0\n"
          ]
        }
      ],
      "source": [
        "print(X_transformado)"
      ]
    },
    {
      "cell_type": "markdown",
      "metadata": {
        "id": "gMQ9CS8NtDsT"
      },
      "source": [
        "## 03.03. Pipeline preprocesamiento y estimación: definición"
      ]
    },
    {
      "cell_type": "code",
      "execution_count": null,
      "metadata": {
        "id": "r-mpf3EqtDsT"
      },
      "outputs": [],
      "source": [
        "pipeline_full = Pipeline(steps=[('preprocessor', preprocessor),\n",
        "                      ('classifier', KNeighborsClassifier(p=2))])"
      ]
    },
    {
      "cell_type": "markdown",
      "metadata": {
        "id": "eVBfTNfRtDsT"
      },
      "source": [
        "## 03.04. Pipeline preprocesamiento y estimación: entrenamiento e implementación"
      ]
    },
    {
      "cell_type": "code",
      "execution_count": null,
      "metadata": {
        "id": "biO-mosmtDsT",
        "outputId": "0ea354bc-6468-470e-cced-1aa530671126"
      },
      "outputs": [
        {
          "name": "stdout",
          "output_type": "stream",
          "text": [
            "Test accuracy: 84.91666666666666%\n"
          ]
        }
      ],
      "source": [
        "pipeline_full.fit(X_train, y_train)\n",
        "print(f'Test accuracy: {pipeline_full.score(X_test, y_test)*100}%')"
      ]
    },
    {
      "cell_type": "code",
      "execution_count": null,
      "metadata": {
        "id": "GcNYc-OntDsT"
      },
      "outputs": [],
      "source": [
        "y_pred = pipeline_full.predict(X_test)"
      ]
    },
    {
      "cell_type": "code",
      "execution_count": null,
      "metadata": {
        "id": "wU5WNNNftDsU",
        "outputId": "8e765d9e-d3f1-4b3c-9052-0b440a8efaca"
      },
      "outputs": [
        {
          "name": "stdout",
          "output_type": "stream",
          "text": [
            "              precision    recall  f1-score   support\n",
            "\n",
            "           0       0.90      0.92      0.91      1002\n",
            "           1       0.55      0.51      0.52       198\n",
            "\n",
            "    accuracy                           0.85      1200\n",
            "   macro avg       0.73      0.71      0.72      1200\n",
            "weighted avg       0.84      0.85      0.85      1200\n",
            "\n"
          ]
        }
      ],
      "source": [
        "print(classification_report(y_test, y_pred))"
      ]
    },
    {
      "cell_type": "code",
      "execution_count": null,
      "metadata": {
        "id": "YhKtZo3ctDsU"
      },
      "outputs": [],
      "source": [
        "def ordered_confusion_matrix(input_true, input_pred):\n",
        "  tn, fp, fn, tp = confusion_matrix(input_true, input_pred).ravel()\n",
        "  ordered_cm = np.array([[tp,fn], [fp,tn]])\n",
        "  ordered_cm\n",
        "  x_axis_labels = ['Positive','Negative'] # labels for x-axis\n",
        "  y_axis_labels = ['Positive','Negative'] # labels for y-axis\n",
        "\n",
        "  # create seabvorn heatmap with required labels\n",
        "  ax = sns.heatmap(ordered_cm, xticklabels=x_axis_labels, yticklabels=y_axis_labels, cmap='coolwarm', annot=True)\n",
        "  ax.set_ylabel('Real Label', size=25)\n",
        "  ax.set_xlabel( 'Predicted Label', size=25)\n",
        "  # ax.xaxis.tick_top()\n",
        "  ax.xaxis.set_ticks_position('top')\n",
        "  ax.xaxis.set_label_position('top')"
      ]
    },
    {
      "cell_type": "code",
      "execution_count": null,
      "metadata": {
        "id": "7MfhEYPutDsU",
        "outputId": "2eed3488-87d2-4ad6-a796-76c91630fd03"
      },
      "outputs": [
        {
          "data": {
            "image/png": "[encoded data removed]",
            "text/plain": [
              "<Figure size 640x480 with 2 Axes>"
            ]
          },
          "metadata": {},
          "output_type": "display_data"
        }
      ],
      "source": [
        "ordered_confusion_matrix(y_test, y_pred)"
      ]
    },
    {
      "cell_type": "markdown",
      "metadata": {
        "id": "WkIY2YxHtDsU"
      },
      "source": [
        "# 04. Save model"
      ]
    },
    {
      "cell_type": "code",
      "execution_count": null,
      "metadata": {
        "id": "7njGflnKtDsV"
      },
      "outputs": [],
      "source": [
        "path = 'pipelines/model.pkl'"
      ]
    },
    {
      "cell_type": "code",
      "execution_count": null,
      "metadata": {
        "id": "vcqbskMktDsV"
      },
      "outputs": [],
      "source": [
        "pickle.dump(pipeline_full, open(path, 'wb'))"
      ]
    },
    {
      "cell_type": "markdown",
      "metadata": {
        "id": "ok6shkd3tDsV"
      },
      "source": [
        "# 05. Load model"
      ]
    },
    {
      "cell_type": "code",
      "execution_count": null,
      "metadata": {
        "id": "0G6Gr4N1tDsV"
      },
      "outputs": [],
      "source": [
        "pickled_model = pickle.load(open(path, 'rb'))"
      ]
    },
    {
      "cell_type": "code",
      "execution_count": null,
      "metadata": {
        "id": "1m3427KAtDsV",
        "outputId": "96a44197-fc9b-400d-a4d7-f26c32737bfb"
      },
      "outputs": [
        {
          "data": {
            "text/plain": [
              "array([0, 0, 0, ..., 0, 0, 0], dtype=int64)"
            ]
          },
          "execution_count": 67,
          "metadata": {},
          "output_type": "execute_result"
        }
      ],
      "source": [
        "pickled_model.predict(X_test)"
      ]
    },
    {
      "cell_type": "code",
      "execution_count": null,
      "metadata": {
        "id": "F3a-PbgmtDsV",
        "outputId": "14c51846-52bb-4d91-bd07-cfd056429025"
      },
      "outputs": [
        {
          "data": {
            "text/plain": [
              "array([ True,  True,  True, ...,  True,  True,  True])"
            ]
          },
          "execution_count": 68,
          "metadata": {},
          "output_type": "execute_result"
        }
      ],
      "source": [
        "pickled_model.predict(X_test)==pipeline_full.predict(X_test)"
      ]
    },
    {
      "cell_type": "markdown",
      "metadata": {
        "id": "UjiLoum3tDsW"
      },
      "source": [
        "# 06. Predecir con una muestra"
      ]
    },
    {
      "cell_type": "markdown",
      "metadata": {
        "id": "hcuI-b18tDsW"
      },
      "source": [
        "### Ejemplo 01"
      ]
    },
    {
      "cell_type": "code",
      "execution_count": null,
      "metadata": {
        "id": "_w_SGpBWtDsW",
        "outputId": "72e48690-28b4-424b-80a0-7fe693e84700"
      },
      "outputs": [
        {
          "data": {
            "text/html": [
              "<div>\n",
              "<style scoped>\n",
              "    .dataframe tbody tr th:only-of-type {\n",
              "        vertical-align: middle;\n",
              "    }\n",
              "\n",
              "    .dataframe tbody tr th {\n",
              "        vertical-align: top;\n",
              "    }\n",
              "\n",
              "    .dataframe thead th {\n",
              "        text-align: right;\n",
              "    }\n",
              "</style>\n",
              "<table border=\"1\" class=\"dataframe\">\n",
              "  <thead>\n",
              "    <tr style=\"text-align: right;\">\n",
              "      <th></th>\n",
              "      <th>Month</th>\n",
              "      <th>DepartureTime</th>\n",
              "      <th>UniqueCarrier</th>\n",
              "      <th>SchedElapsedTime</th>\n",
              "      <th>ArrDelay</th>\n",
              "      <th>DepDelay</th>\n",
              "      <th>Distance</th>\n",
              "    </tr>\n",
              "  </thead>\n",
              "  <tbody>\n",
              "    <tr>\n",
              "      <th>0</th>\n",
              "      <td>12</td>\n",
              "      <td>814</td>\n",
              "      <td>UA</td>\n",
              "      <td>134.0</td>\n",
              "      <td>0.0</td>\n",
              "      <td>0</td>\n",
              "      <td>679.0</td>\n",
              "    </tr>\n",
              "  </tbody>\n",
              "</table>\n",
              "</div>"
            ],
            "text/plain": [
              "   Month  DepartureTime UniqueCarrier  SchedElapsedTime  ArrDelay  DepDelay  \\\n",
              "0     12            814            UA             134.0       0.0         0   \n",
              "\n",
              "   Distance  \n",
              "0     679.0  "
            ]
          },
          "execution_count": 69,
          "metadata": {},
          "output_type": "execute_result"
        }
      ],
      "source": [
        "dict_input = {'Month': [12],\n",
        "              'DepartureTime': [814],\n",
        "              'UniqueCarrier': ['UA'],\n",
        "              'SchedElapsedTime': [134.0],\n",
        "              'ArrDelay': [0.0],\n",
        "              'DepDelay': [0],\n",
        "              'Distance': [679.0]\n",
        "              }\n",
        "dict_input\n",
        "X_sample= pd.DataFrame.from_dict(dict_input)\n",
        "X_sample"
      ]
    },
    {
      "cell_type": "code",
      "execution_count": null,
      "metadata": {
        "id": "_PVvvn1FtDsW",
        "outputId": "569be69e-af27-4444-d814-f89ca20f3774"
      },
      "outputs": [
        {
          "data": {
            "text/plain": [
              "array([1], dtype=int64)"
            ]
          },
          "execution_count": 70,
          "metadata": {},
          "output_type": "execute_result"
        }
      ],
      "source": [
        "pickled_model.predict(X_sample)"
      ]
    },
    {
      "cell_type": "markdown",
      "metadata": {
        "id": "C6Vh54qLtDsX"
      },
      "source": [
        "### Ejemplo 02"
      ]
    },
    {
      "cell_type": "code",
      "execution_count": null,
      "metadata": {
        "id": "Gs0Z9jGRtDsX",
        "outputId": "af5b5f1a-9184-4d35-fc72-0999b0e0c7fd"
      },
      "outputs": [
        {
          "data": {
            "text/html": [
              "<div>\n",
              "<style scoped>\n",
              "    .dataframe tbody tr th:only-of-type {\n",
              "        vertical-align: middle;\n",
              "    }\n",
              "\n",
              "    .dataframe tbody tr th {\n",
              "        vertical-align: top;\n",
              "    }\n",
              "\n",
              "    .dataframe thead th {\n",
              "        text-align: right;\n",
              "    }\n",
              "</style>\n",
              "<table border=\"1\" class=\"dataframe\">\n",
              "  <thead>\n",
              "    <tr style=\"text-align: right;\">\n",
              "      <th></th>\n",
              "      <th>Month</th>\n",
              "      <th>DepartureTime</th>\n",
              "      <th>UniqueCarrier</th>\n",
              "      <th>SchedElapsedTime</th>\n",
              "      <th>ArrDelay</th>\n",
              "      <th>DepDelay</th>\n",
              "      <th>Distance</th>\n",
              "    </tr>\n",
              "  </thead>\n",
              "  <tbody>\n",
              "    <tr>\n",
              "      <th>4320</th>\n",
              "      <td>2</td>\n",
              "      <td>1444</td>\n",
              "      <td>DL</td>\n",
              "      <td>67.0</td>\n",
              "      <td>106.0</td>\n",
              "      <td>115</td>\n",
              "      <td>227.0</td>\n",
              "    </tr>\n",
              "  </tbody>\n",
              "</table>\n",
              "</div>"
            ],
            "text/plain": [
              "      Month  DepartureTime UniqueCarrier  SchedElapsedTime  ArrDelay  \\\n",
              "4320      2           1444            DL              67.0     106.0   \n",
              "\n",
              "      DepDelay  Distance  \n",
              "4320       115     227.0  "
            ]
          },
          "execution_count": 71,
          "metadata": {},
          "output_type": "execute_result"
        }
      ],
      "source": [
        "X_test.head(1)"
      ]
    },
    {
      "cell_type": "code",
      "execution_count": null,
      "metadata": {
        "id": "2aYaOuGItDsX",
        "outputId": "8a3f78be-86a5-4b02-c750-fc36b82ede9e"
      },
      "outputs": [
        {
          "data": {
            "text/plain": [
              "array([0], dtype=int64)"
            ]
          },
          "execution_count": 72,
          "metadata": {},
          "output_type": "execute_result"
        }
      ],
      "source": [
        "pickled_model.predict(X_test.head(1))"
      ]
    },
    {
      "cell_type": "markdown",
      "metadata": {
        "id": "-ofg4WeLtDsX"
      },
      "source": [
        "# 07. Funciones para archivo model.py"
      ]
    },
    {
      "cell_type": "markdown",
      "metadata": {
        "id": "MAxvI-qMtDsY"
      },
      "source": [
        "### Función: split_data(df):"
      ]
    },
    {
      "cell_type": "code",
      "execution_count": null,
      "metadata": {
        "id": "qXyReyO8tDsY",
        "outputId": "796e9219-5774-47e3-b4f4-6d832e00b6a5"
      },
      "outputs": [
        {
          "data": {
            "text/html": [
              "<div>\n",
              "<style scoped>\n",
              "    .dataframe tbody tr th:only-of-type {\n",
              "        vertical-align: middle;\n",
              "    }\n",
              "\n",
              "    .dataframe tbody tr th {\n",
              "        vertical-align: top;\n",
              "    }\n",
              "\n",
              "    .dataframe thead th {\n",
              "        text-align: right;\n",
              "    }\n",
              "</style>\n",
              "<table border=\"1\" class=\"dataframe\">\n",
              "  <thead>\n",
              "    <tr style=\"text-align: right;\">\n",
              "      <th></th>\n",
              "      <th>Canceled</th>\n",
              "      <th>Month</th>\n",
              "      <th>DepartureTime</th>\n",
              "      <th>UniqueCarrier</th>\n",
              "      <th>SchedElapsedTime</th>\n",
              "      <th>ArrDelay</th>\n",
              "      <th>DepDelay</th>\n",
              "      <th>Distance</th>\n",
              "    </tr>\n",
              "  </thead>\n",
              "  <tbody>\n",
              "    <tr>\n",
              "      <th>0</th>\n",
              "      <td>1</td>\n",
              "      <td>12</td>\n",
              "      <td>814</td>\n",
              "      <td>UA</td>\n",
              "      <td>134.0</td>\n",
              "      <td>0.0</td>\n",
              "      <td>0</td>\n",
              "      <td>679.0</td>\n",
              "    </tr>\n",
              "    <tr>\n",
              "      <th>1</th>\n",
              "      <td>1</td>\n",
              "      <td>12</td>\n",
              "      <td>830</td>\n",
              "      <td>DL</td>\n",
              "      <td>90.0</td>\n",
              "      <td>0.0</td>\n",
              "      <td>0</td>\n",
              "      <td>214.0</td>\n",
              "    </tr>\n",
              "    <tr>\n",
              "      <th>2</th>\n",
              "      <td>1</td>\n",
              "      <td>1</td>\n",
              "      <td>1835</td>\n",
              "      <td>UA</td>\n",
              "      <td>213.0</td>\n",
              "      <td>0.0</td>\n",
              "      <td>0</td>\n",
              "      <td>1605.0</td>\n",
              "    </tr>\n",
              "    <tr>\n",
              "      <th>3</th>\n",
              "      <td>1</td>\n",
              "      <td>4</td>\n",
              "      <td>1730</td>\n",
              "      <td>AA</td>\n",
              "      <td>80.0</td>\n",
              "      <td>0.0</td>\n",
              "      <td>0</td>\n",
              "      <td>235.0</td>\n",
              "    </tr>\n",
              "    <tr>\n",
              "      <th>4</th>\n",
              "      <td>1</td>\n",
              "      <td>7</td>\n",
              "      <td>1442</td>\n",
              "      <td>UA</td>\n",
              "      <td>103.0</td>\n",
              "      <td>0.0</td>\n",
              "      <td>0</td>\n",
              "      <td>413.0</td>\n",
              "    </tr>\n",
              "    <tr>\n",
              "      <th>...</th>\n",
              "      <td>...</td>\n",
              "      <td>...</td>\n",
              "      <td>...</td>\n",
              "      <td>...</td>\n",
              "      <td>...</td>\n",
              "      <td>...</td>\n",
              "      <td>...</td>\n",
              "      <td>...</td>\n",
              "    </tr>\n",
              "    <tr>\n",
              "      <th>5995</th>\n",
              "      <td>0</td>\n",
              "      <td>6</td>\n",
              "      <td>1725</td>\n",
              "      <td>AA</td>\n",
              "      <td>115.0</td>\n",
              "      <td>17.0</td>\n",
              "      <td>30</td>\n",
              "      <td>597.0</td>\n",
              "    </tr>\n",
              "    <tr>\n",
              "      <th>5996</th>\n",
              "      <td>0</td>\n",
              "      <td>9</td>\n",
              "      <td>1945</td>\n",
              "      <td>DL</td>\n",
              "      <td>127.0</td>\n",
              "      <td>-19.0</td>\n",
              "      <td>-9</td>\n",
              "      <td>752.0</td>\n",
              "    </tr>\n",
              "    <tr>\n",
              "      <th>5997</th>\n",
              "      <td>0</td>\n",
              "      <td>8</td>\n",
              "      <td>1850</td>\n",
              "      <td>DL</td>\n",
              "      <td>101.0</td>\n",
              "      <td>6.0</td>\n",
              "      <td>-4</td>\n",
              "      <td>481.0</td>\n",
              "    </tr>\n",
              "    <tr>\n",
              "      <th>5998</th>\n",
              "      <td>0</td>\n",
              "      <td>7</td>\n",
              "      <td>1720</td>\n",
              "      <td>AA</td>\n",
              "      <td>210.0</td>\n",
              "      <td>178.0</td>\n",
              "      <td>42</td>\n",
              "      <td>1302.0</td>\n",
              "    </tr>\n",
              "    <tr>\n",
              "      <th>5999</th>\n",
              "      <td>0</td>\n",
              "      <td>9</td>\n",
              "      <td>1955</td>\n",
              "      <td>AA</td>\n",
              "      <td>265.0</td>\n",
              "      <td>4.0</td>\n",
              "      <td>3</td>\n",
              "      <td>1721.0</td>\n",
              "    </tr>\n",
              "  </tbody>\n",
              "</table>\n",
              "<p>6000 rows × 8 columns</p>\n",
              "</div>"
            ],
            "text/plain": [
              "      Canceled  Month  DepartureTime UniqueCarrier  SchedElapsedTime  \\\n",
              "0            1     12            814            UA             134.0   \n",
              "1            1     12            830            DL              90.0   \n",
              "2            1      1           1835            UA             213.0   \n",
              "3            1      4           1730            AA              80.0   \n",
              "4            1      7           1442            UA             103.0   \n",
              "...        ...    ...            ...           ...               ...   \n",
              "5995         0      6           1725            AA             115.0   \n",
              "5996         0      9           1945            DL             127.0   \n",
              "5997         0      8           1850            DL             101.0   \n",
              "5998         0      7           1720            AA             210.0   \n",
              "5999         0      9           1955            AA             265.0   \n",
              "\n",
              "      ArrDelay  DepDelay  Distance  \n",
              "0          0.0         0     679.0  \n",
              "1          0.0         0     214.0  \n",
              "2          0.0         0    1605.0  \n",
              "3          0.0         0     235.0  \n",
              "4          0.0         0     413.0  \n",
              "...        ...       ...       ...  \n",
              "5995      17.0        30     597.0  \n",
              "5996     -19.0        -9     752.0  \n",
              "5997       6.0        -4     481.0  \n",
              "5998     178.0        42    1302.0  \n",
              "5999       4.0         3    1721.0  \n",
              "\n",
              "[6000 rows x 8 columns]"
            ]
          },
          "execution_count": 73,
          "metadata": {},
          "output_type": "execute_result"
        }
      ],
      "source": [
        "df"
      ]
    },
    {
      "cell_type": "code",
      "execution_count": null,
      "metadata": {
        "id": "r7YQs_ZRtDsY",
        "outputId": "260364b3-3430-4b4d-ffc5-e6f617663580"
      },
      "outputs": [
        {
          "data": {
            "text/html": [
              "<div>\n",
              "<style scoped>\n",
              "    .dataframe tbody tr th:only-of-type {\n",
              "        vertical-align: middle;\n",
              "    }\n",
              "\n",
              "    .dataframe tbody tr th {\n",
              "        vertical-align: top;\n",
              "    }\n",
              "\n",
              "    .dataframe thead th {\n",
              "        text-align: right;\n",
              "    }\n",
              "</style>\n",
              "<table border=\"1\" class=\"dataframe\">\n",
              "  <thead>\n",
              "    <tr style=\"text-align: right;\">\n",
              "      <th></th>\n",
              "      <th>Month</th>\n",
              "      <th>DepartureTime</th>\n",
              "      <th>UniqueCarrier</th>\n",
              "      <th>SchedElapsedTime</th>\n",
              "      <th>ArrDelay</th>\n",
              "      <th>DepDelay</th>\n",
              "      <th>Distance</th>\n",
              "    </tr>\n",
              "  </thead>\n",
              "  <tbody>\n",
              "    <tr>\n",
              "      <th>0</th>\n",
              "      <td>12</td>\n",
              "      <td>814</td>\n",
              "      <td>UA</td>\n",
              "      <td>134.0</td>\n",
              "      <td>0.0</td>\n",
              "      <td>0</td>\n",
              "      <td>679.0</td>\n",
              "    </tr>\n",
              "    <tr>\n",
              "      <th>1</th>\n",
              "      <td>12</td>\n",
              "      <td>830</td>\n",
              "      <td>DL</td>\n",
              "      <td>90.0</td>\n",
              "      <td>0.0</td>\n",
              "      <td>0</td>\n",
              "      <td>214.0</td>\n",
              "    </tr>\n",
              "    <tr>\n",
              "      <th>2</th>\n",
              "      <td>1</td>\n",
              "      <td>1835</td>\n",
              "      <td>UA</td>\n",
              "      <td>213.0</td>\n",
              "      <td>0.0</td>\n",
              "      <td>0</td>\n",
              "      <td>1605.0</td>\n",
              "    </tr>\n",
              "    <tr>\n",
              "      <th>3</th>\n",
              "      <td>4</td>\n",
              "      <td>1730</td>\n",
              "      <td>AA</td>\n",
              "      <td>80.0</td>\n",
              "      <td>0.0</td>\n",
              "      <td>0</td>\n",
              "      <td>235.0</td>\n",
              "    </tr>\n",
              "    <tr>\n",
              "      <th>4</th>\n",
              "      <td>7</td>\n",
              "      <td>1442</td>\n",
              "      <td>UA</td>\n",
              "      <td>103.0</td>\n",
              "      <td>0.0</td>\n",
              "      <td>0</td>\n",
              "      <td>413.0</td>\n",
              "    </tr>\n",
              "    <tr>\n",
              "      <th>...</th>\n",
              "      <td>...</td>\n",
              "      <td>...</td>\n",
              "      <td>...</td>\n",
              "      <td>...</td>\n",
              "      <td>...</td>\n",
              "      <td>...</td>\n",
              "      <td>...</td>\n",
              "    </tr>\n",
              "    <tr>\n",
              "      <th>5995</th>\n",
              "      <td>6</td>\n",
              "      <td>1725</td>\n",
              "      <td>AA</td>\n",
              "      <td>115.0</td>\n",
              "      <td>17.0</td>\n",
              "      <td>30</td>\n",
              "      <td>597.0</td>\n",
              "    </tr>\n",
              "    <tr>\n",
              "      <th>5996</th>\n",
              "      <td>9</td>\n",
              "      <td>1945</td>\n",
              "      <td>DL</td>\n",
              "      <td>127.0</td>\n",
              "      <td>-19.0</td>\n",
              "      <td>-9</td>\n",
              "      <td>752.0</td>\n",
              "    </tr>\n",
              "    <tr>\n",
              "      <th>5997</th>\n",
              "      <td>8</td>\n",
              "      <td>1850</td>\n",
              "      <td>DL</td>\n",
              "      <td>101.0</td>\n",
              "      <td>6.0</td>\n",
              "      <td>-4</td>\n",
              "      <td>481.0</td>\n",
              "    </tr>\n",
              "    <tr>\n",
              "      <th>5998</th>\n",
              "      <td>7</td>\n",
              "      <td>1720</td>\n",
              "      <td>AA</td>\n",
              "      <td>210.0</td>\n",
              "      <td>178.0</td>\n",
              "      <td>42</td>\n",
              "      <td>1302.0</td>\n",
              "    </tr>\n",
              "    <tr>\n",
              "      <th>5999</th>\n",
              "      <td>9</td>\n",
              "      <td>1955</td>\n",
              "      <td>AA</td>\n",
              "      <td>265.0</td>\n",
              "      <td>4.0</td>\n",
              "      <td>3</td>\n",
              "      <td>1721.0</td>\n",
              "    </tr>\n",
              "  </tbody>\n",
              "</table>\n",
              "<p>6000 rows × 7 columns</p>\n",
              "</div>"
            ],
            "text/plain": [
              "      Month  DepartureTime UniqueCarrier  SchedElapsedTime  ArrDelay  \\\n",
              "0        12            814            UA             134.0       0.0   \n",
              "1        12            830            DL              90.0       0.0   \n",
              "2         1           1835            UA             213.0       0.0   \n",
              "3         4           1730            AA              80.0       0.0   \n",
              "4         7           1442            UA             103.0       0.0   \n",
              "...     ...            ...           ...               ...       ...   \n",
              "5995      6           1725            AA             115.0      17.0   \n",
              "5996      9           1945            DL             127.0     -19.0   \n",
              "5997      8           1850            DL             101.0       6.0   \n",
              "5998      7           1720            AA             210.0     178.0   \n",
              "5999      9           1955            AA             265.0       4.0   \n",
              "\n",
              "      DepDelay  Distance  \n",
              "0            0     679.0  \n",
              "1            0     214.0  \n",
              "2            0    1605.0  \n",
              "3            0     235.0  \n",
              "4            0     413.0  \n",
              "...        ...       ...  \n",
              "5995        30     597.0  \n",
              "5996        -9     752.0  \n",
              "5997        -4     481.0  \n",
              "5998        42    1302.0  \n",
              "5999         3    1721.0  \n",
              "\n",
              "[6000 rows x 7 columns]"
            ]
          },
          "execution_count": 82,
          "metadata": {},
          "output_type": "execute_result"
        }
      ],
      "source": [
        "X = df.iloc[:,1:]\n",
        "X"
      ]
    },
    {
      "cell_type": "code",
      "execution_count": null,
      "metadata": {
        "id": "MuokpVkNtDsY",
        "outputId": "83b4c85d-512b-4db8-9a2c-046e848fc47e"
      },
      "outputs": [
        {
          "data": {
            "text/plain": [
              "0       1\n",
              "1       1\n",
              "2       1\n",
              "3       1\n",
              "4       1\n",
              "       ..\n",
              "5995    0\n",
              "5996    0\n",
              "5997    0\n",
              "5998    0\n",
              "5999    0\n",
              "Name: Canceled, Length: 6000, dtype: int64"
            ]
          },
          "execution_count": 83,
          "metadata": {},
          "output_type": "execute_result"
        }
      ],
      "source": [
        "y = df.iloc[:,0]\n",
        "y"
      ]
    },
    {
      "cell_type": "code",
      "execution_count": null,
      "metadata": {
        "id": "cEsKHb8ftDsY"
      },
      "outputs": [],
      "source": [
        "def split_data(df):\n",
        "\n",
        "    X = df.iloc[:,1:]\n",
        "    y = df.iloc[:,0]\n",
        "    \n",
        "    X_train, X_test, y_train, y_test = train_test_split(X, y, test_size=0.2, random_state=0)\n",
        "    data = {'train': {'X': X_train, 'y': y_train},\n",
        "            'test': {'X': X_test, 'y': y_test}}\n",
        "    return data"
      ]
    },
    {
      "cell_type": "code",
      "execution_count": null,
      "metadata": {
        "id": "90xRqPyptDsY",
        "outputId": "33b7ea12-16ab-4ef4-c29d-a20732cbb98b"
      },
      "outputs": [
        {
          "data": {
            "text/plain": [
              "{'train': {'X':       Month  DepartureTime UniqueCarrier  SchedElapsedTime  ArrDelay  \\\n",
              "  3381      1           1700            DL             118.0      16.0   \n",
              "  31        4           1035            AA             140.0       0.0   \n",
              "  1596      7            900            AA             180.0     -16.0   \n",
              "  1386      1           1725            AA             265.0      -5.0   \n",
              "  4237      8           1134            UA             267.0      -5.0   \n",
              "  ...     ...            ...           ...               ...       ...   \n",
              "  4931      4           1120            DL              96.0      -8.0   \n",
              "  3264      5            959            DL             222.0     -20.0   \n",
              "  1653      8            740            UA              75.0      70.0   \n",
              "  2607      4            906            UA             188.0      15.0   \n",
              "  2732      8           1714            DL             316.0      39.0   \n",
              "  \n",
              "        DepDelay  Distance  \n",
              "  3381        -5     626.0  \n",
              "  31           0     929.0  \n",
              "  1596        -6    1189.0  \n",
              "  1386        40    1391.0  \n",
              "  4237        -2    1846.0  \n",
              "  ...        ...       ...  \n",
              "  4931        -5     481.0  \n",
              "  3264        -4    1481.0  \n",
              "  1653        62     316.0  \n",
              "  2607        22    1144.0  \n",
              "  2732        24    2105.0  \n",
              "  \n",
              "  [4800 rows x 7 columns],\n",
              "  'y': 3381    0\n",
              "  31      1\n",
              "  1596    0\n",
              "  1386    0\n",
              "  4237    0\n",
              "         ..\n",
              "  4931    0\n",
              "  3264    0\n",
              "  1653    0\n",
              "  2607    0\n",
              "  2732    0\n",
              "  Name: Canceled, Length: 4800, dtype: int64},\n",
              " 'test': {'X':       Month  DepartureTime UniqueCarrier  SchedElapsedTime  ArrDelay  \\\n",
              "  4320      2           1444            DL              67.0     106.0   \n",
              "  2006     10           1950            AA             140.0      -2.0   \n",
              "  5689      3           1140            AA             155.0      41.0   \n",
              "  472      12           1755            AA              70.0       0.0   \n",
              "  1370      9           1556            DL              69.0      10.0   \n",
              "  ...     ...            ...           ...               ...       ...   \n",
              "  806       6           1740            DL             153.0       0.0   \n",
              "  5126      6           1718            UA             135.0     -11.0   \n",
              "  4977      5           1725            AA             170.0     -20.0   \n",
              "  1624      5           1706            DL             278.0     -12.0   \n",
              "  4754     10           1406            UA              82.0     -14.0   \n",
              "  \n",
              "        DepDelay  Distance  \n",
              "  4320       115     227.0  \n",
              "  2006        10     802.0  \n",
              "  5689        39    1121.0  \n",
              "  472          0     258.0  \n",
              "  1370        -1     227.0  \n",
              "  ...        ...       ...  \n",
              "  806          0     761.0  \n",
              "  5126        -9     846.0  \n",
              "  4977        -4     984.0  \n",
              "  1624       -11    2105.0  \n",
              "  4754        -9     337.0  \n",
              "  \n",
              "  [1200 rows x 7 columns],\n",
              "  'y': 4320    0\n",
              "  2006    0\n",
              "  5689    0\n",
              "  472     1\n",
              "  1370    0\n",
              "         ..\n",
              "  806     1\n",
              "  5126    0\n",
              "  4977    0\n",
              "  1624    0\n",
              "  4754    0\n",
              "  Name: Canceled, Length: 1200, dtype: int64}}"
            ]
          },
          "execution_count": 111,
          "metadata": {},
          "output_type": "execute_result"
        }
      ],
      "source": [
        "data = split_data(df)\n",
        "data"
      ]
    },
    {
      "cell_type": "code",
      "execution_count": null,
      "metadata": {
        "id": "3Hlw_GvOtDsZ",
        "outputId": "4fe314a8-2327-4af2-e5a5-3123d462536d"
      },
      "outputs": [
        {
          "data": {
            "text/plain": [
              "pandas.core.frame.DataFrame"
            ]
          },
          "execution_count": 112,
          "metadata": {},
          "output_type": "execute_result"
        }
      ],
      "source": [
        "type(data['train']['X'])"
      ]
    },
    {
      "cell_type": "code",
      "execution_count": null,
      "metadata": {
        "id": "1Va2wY2KtDsZ",
        "outputId": "88b4cdca-0ba0-4210-91f6-92918b7b8282"
      },
      "outputs": [
        {
          "data": {
            "text/html": [
              "<div>\n",
              "<style scoped>\n",
              "    .dataframe tbody tr th:only-of-type {\n",
              "        vertical-align: middle;\n",
              "    }\n",
              "\n",
              "    .dataframe tbody tr th {\n",
              "        vertical-align: top;\n",
              "    }\n",
              "\n",
              "    .dataframe thead th {\n",
              "        text-align: right;\n",
              "    }\n",
              "</style>\n",
              "<table border=\"1\" class=\"dataframe\">\n",
              "  <thead>\n",
              "    <tr style=\"text-align: right;\">\n",
              "      <th></th>\n",
              "      <th>Month</th>\n",
              "      <th>DepartureTime</th>\n",
              "      <th>UniqueCarrier</th>\n",
              "      <th>SchedElapsedTime</th>\n",
              "      <th>ArrDelay</th>\n",
              "      <th>DepDelay</th>\n",
              "      <th>Distance</th>\n",
              "    </tr>\n",
              "  </thead>\n",
              "  <tbody>\n",
              "    <tr>\n",
              "      <th>3381</th>\n",
              "      <td>1</td>\n",
              "      <td>1700</td>\n",
              "      <td>DL</td>\n",
              "      <td>118.0</td>\n",
              "      <td>16.0</td>\n",
              "      <td>-5</td>\n",
              "      <td>626.0</td>\n",
              "    </tr>\n",
              "    <tr>\n",
              "      <th>31</th>\n",
              "      <td>4</td>\n",
              "      <td>1035</td>\n",
              "      <td>AA</td>\n",
              "      <td>140.0</td>\n",
              "      <td>0.0</td>\n",
              "      <td>0</td>\n",
              "      <td>929.0</td>\n",
              "    </tr>\n",
              "    <tr>\n",
              "      <th>1596</th>\n",
              "      <td>7</td>\n",
              "      <td>900</td>\n",
              "      <td>AA</td>\n",
              "      <td>180.0</td>\n",
              "      <td>-16.0</td>\n",
              "      <td>-6</td>\n",
              "      <td>1189.0</td>\n",
              "    </tr>\n",
              "    <tr>\n",
              "      <th>1386</th>\n",
              "      <td>1</td>\n",
              "      <td>1725</td>\n",
              "      <td>AA</td>\n",
              "      <td>265.0</td>\n",
              "      <td>-5.0</td>\n",
              "      <td>40</td>\n",
              "      <td>1391.0</td>\n",
              "    </tr>\n",
              "    <tr>\n",
              "      <th>4237</th>\n",
              "      <td>8</td>\n",
              "      <td>1134</td>\n",
              "      <td>UA</td>\n",
              "      <td>267.0</td>\n",
              "      <td>-5.0</td>\n",
              "      <td>-2</td>\n",
              "      <td>1846.0</td>\n",
              "    </tr>\n",
              "    <tr>\n",
              "      <th>...</th>\n",
              "      <td>...</td>\n",
              "      <td>...</td>\n",
              "      <td>...</td>\n",
              "      <td>...</td>\n",
              "      <td>...</td>\n",
              "      <td>...</td>\n",
              "      <td>...</td>\n",
              "    </tr>\n",
              "    <tr>\n",
              "      <th>4931</th>\n",
              "      <td>4</td>\n",
              "      <td>1120</td>\n",
              "      <td>DL</td>\n",
              "      <td>96.0</td>\n",
              "      <td>-8.0</td>\n",
              "      <td>-5</td>\n",
              "      <td>481.0</td>\n",
              "    </tr>\n",
              "    <tr>\n",
              "      <th>3264</th>\n",
              "      <td>5</td>\n",
              "      <td>959</td>\n",
              "      <td>DL</td>\n",
              "      <td>222.0</td>\n",
              "      <td>-20.0</td>\n",
              "      <td>-4</td>\n",
              "      <td>1481.0</td>\n",
              "    </tr>\n",
              "    <tr>\n",
              "      <th>1653</th>\n",
              "      <td>8</td>\n",
              "      <td>740</td>\n",
              "      <td>UA</td>\n",
              "      <td>75.0</td>\n",
              "      <td>70.0</td>\n",
              "      <td>62</td>\n",
              "      <td>316.0</td>\n",
              "    </tr>\n",
              "    <tr>\n",
              "      <th>2607</th>\n",
              "      <td>4</td>\n",
              "      <td>906</td>\n",
              "      <td>UA</td>\n",
              "      <td>188.0</td>\n",
              "      <td>15.0</td>\n",
              "      <td>22</td>\n",
              "      <td>1144.0</td>\n",
              "    </tr>\n",
              "    <tr>\n",
              "      <th>2732</th>\n",
              "      <td>8</td>\n",
              "      <td>1714</td>\n",
              "      <td>DL</td>\n",
              "      <td>316.0</td>\n",
              "      <td>39.0</td>\n",
              "      <td>24</td>\n",
              "      <td>2105.0</td>\n",
              "    </tr>\n",
              "  </tbody>\n",
              "</table>\n",
              "<p>4800 rows × 7 columns</p>\n",
              "</div>"
            ],
            "text/plain": [
              "      Month  DepartureTime UniqueCarrier  SchedElapsedTime  ArrDelay  \\\n",
              "3381      1           1700            DL             118.0      16.0   \n",
              "31        4           1035            AA             140.0       0.0   \n",
              "1596      7            900            AA             180.0     -16.0   \n",
              "1386      1           1725            AA             265.0      -5.0   \n",
              "4237      8           1134            UA             267.0      -5.0   \n",
              "...     ...            ...           ...               ...       ...   \n",
              "4931      4           1120            DL              96.0      -8.0   \n",
              "3264      5            959            DL             222.0     -20.0   \n",
              "1653      8            740            UA              75.0      70.0   \n",
              "2607      4            906            UA             188.0      15.0   \n",
              "2732      8           1714            DL             316.0      39.0   \n",
              "\n",
              "      DepDelay  Distance  \n",
              "3381        -5     626.0  \n",
              "31           0     929.0  \n",
              "1596        -6    1189.0  \n",
              "1386        40    1391.0  \n",
              "4237        -2    1846.0  \n",
              "...        ...       ...  \n",
              "4931        -5     481.0  \n",
              "3264        -4    1481.0  \n",
              "1653        62     316.0  \n",
              "2607        22    1144.0  \n",
              "2732        24    2105.0  \n",
              "\n",
              "[4800 rows x 7 columns]"
            ]
          },
          "execution_count": 113,
          "metadata": {},
          "output_type": "execute_result"
        }
      ],
      "source": [
        "data['train']['X']"
      ]
    },
    {
      "cell_type": "markdown",
      "metadata": {
        "id": "UUI3iuNHtDsZ"
      },
      "source": [
        "### Función: train_model(data, model):"
      ]
    },
    {
      "cell_type": "code",
      "execution_count": null,
      "metadata": {
        "id": "rZ0wPnTctDsZ"
      },
      "outputs": [],
      "source": [
        "def train_model(data, model):\n",
        "    model.fit(data[\"train\"][\"X\"], data[\"train\"][\"y\"])\n",
        "    return model"
      ]
    },
    {
      "cell_type": "code",
      "execution_count": null,
      "metadata": {
        "id": "ieDglfmQtDsZ"
      },
      "outputs": [],
      "source": [
        "pickled_model = pickle.load(open(path, 'rb'))"
      ]
    },
    {
      "cell_type": "code",
      "execution_count": null,
      "metadata": {
        "id": "1oivjWgYtDsZ",
        "outputId": "8e100915-cd2f-41d6-bbfe-e59edc9dc123"
      },
      "outputs": [
        {
          "data": {
            "text/plain": [
              "sklearn.pipeline.Pipeline"
            ]
          },
          "execution_count": 103,
          "metadata": {},
          "output_type": "execute_result"
        }
      ],
      "source": [
        "type(pickled_model)"
      ]
    },
    {
      "cell_type": "code",
      "execution_count": null,
      "metadata": {
        "id": "o3uYTSRVtDsZ"
      },
      "outputs": [],
      "source": [
        "pickled_model_trained = train_model(data, pickled_model)"
      ]
    },
    {
      "cell_type": "code",
      "execution_count": null,
      "metadata": {
        "id": "-p1yBbLJtDsa",
        "outputId": "92bf2472-35b8-4607-9afd-5ed2a558a46e"
      },
      "outputs": [
        {
          "data": {
            "text/plain": [
              "array([0, 0, 0, ..., 0, 0, 0], dtype=int64)"
            ]
          },
          "execution_count": 117,
          "metadata": {},
          "output_type": "execute_result"
        }
      ],
      "source": [
        "pickled_model_trained.predict(data[\"test\"][\"X\"])"
      ]
    },
    {
      "cell_type": "markdown",
      "metadata": {
        "id": "11WrXJZktDsa"
      },
      "source": [
        "### Función: get_model_metrics(model, data):"
      ]
    },
    {
      "cell_type": "code",
      "execution_count": null,
      "metadata": {
        "id": "CeiN2gthtDsa"
      },
      "outputs": [],
      "source": [
        "def get_model_metrics(model, data):\n",
        "    preds = model.predict(data[\"test\"][\"X\"])\n",
        "    accuracy = accuracy_score(data[\"test\"][\"y\"], preds)\n",
        "    recall = recall_score(data[\"test\"][\"y\"], preds)\n",
        "    f1 = f1_score(data[\"test\"][\"y\"], preds)\n",
        "\n",
        "    metrics = {\"accuracy\": accuracy,\n",
        "               \"recall\": recall,\n",
        "               \"f1\": f1 \n",
        "    }\n",
        "    return metrics"
      ]
    },
    {
      "cell_type": "code",
      "execution_count": null,
      "metadata": {
        "id": "j_5syNSstDsa",
        "outputId": "349bab04-1436-4f9e-f84d-2343d7b59444"
      },
      "outputs": [
        {
          "data": {
            "text/plain": [
              "{'accuracy': 0.8491666666666666,\n",
              " 'recall': 0.5050505050505051,\n",
              " 'f1': 0.5249343832020998}"
            ]
          },
          "execution_count": 121,
          "metadata": {},
          "output_type": "execute_result"
        }
      ],
      "source": [
        "metrics = get_model_metrics(pickled_model_trained, data)\n",
        "metrics"
      ]
    }
  ],
  "metadata": {
    "kernelspec": {
      "display_name": "Python 3.8.13 ('mlops-base-env')",
      "language": "python",
      "name": "python3"
    },
    "language_info": {
      "codemirror_mode": {
        "name": "ipython",
        "version": 3
      },
      "file_extension": ".py",
      "mimetype": "text/x-python",
      "name": "python",
      "nbconvert_exporter": "python",
      "pygments_lexer": "ipython3",
      "version": "3.8.13"
    },
    "orig_nbformat": 4,
    "vscode": {
      "interpreter": {
        "hash": "b12679fbaf654f039b5c94f99862f7c9043bd9c62f462404a3b964e8175162c1"
      }
    },
    "colab": {
      "provenance": [],
      "include_colab_link": true
    }
  },
  "nbformat": 4,
  "nbformat_minor": 0
}