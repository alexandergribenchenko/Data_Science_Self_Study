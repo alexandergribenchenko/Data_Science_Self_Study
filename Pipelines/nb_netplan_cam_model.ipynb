{
  "cells": [
    {
      "cell_type": "markdown",
      "metadata": {
        "id": "view-in-github",
        "colab_type": "text"
      },
      "source": [
        "<a href=\"https://colab.research.google.com/github/alexandergribenchenko/Data_Science_Toolkit/blob/main/Pipelines/nb_netplan_cam_model.ipynb\" target=\"_parent\"><img src=\"https://colab.research.google.com/assets/colab-badge.svg\" alt=\"Open In Colab\"/></a>"
      ]
    },
    {
      "cell_type": "markdown",
      "metadata": {
        "application/vnd.databricks.v1+cell": {
          "cellMetadata": {
            "byteLimit": 2048000,
            "rowLimit": 10000
          },
          "inputWidgets": {},
          "nuid": "d91e8e95-d784-4171-92ae-f22617a8519e",
          "showTitle": false,
          "title": ""
        },
        "id": "TN8z4YUpuLeT"
      },
      "source": [
        "# 01. Parametros"
      ]
    },
    {
      "cell_type": "markdown",
      "metadata": {
        "application/vnd.databricks.v1+cell": {
          "cellMetadata": {
            "byteLimit": 2048000,
            "rowLimit": 10000
          },
          "inputWidgets": {},
          "nuid": "23f4b15d-6170-4b19-b9ab-5dd23164ab31",
          "showTitle": false,
          "title": ""
        },
        "id": "7gi1PxFcuLeW"
      },
      "source": [
        "## 01.01. Parametros pipeline anterior"
      ]
    },
    {
      "cell_type": "code",
      "execution_count": null,
      "metadata": {
        "application/vnd.databricks.v1+cell": {
          "cellMetadata": {
            "byteLimit": 2048000,
            "rowLimit": 10000
          },
          "inputWidgets": {},
          "nuid": "be2cbbca-a5a9-4365-8833-d0f330d392aa",
          "showTitle": false,
          "title": ""
        },
        "id": "001UL7M9uLeX",
        "outputId": "ae013ae0-fde1-41b7-bc8a-745ad28e6fc0"
      },
      "outputs": [
        {
          "output_type": "stream",
          "name": "stdout",
          "text": [
            "20230115\n"
          ]
        }
      ],
      "source": [
        "dbutils.widgets.text('last_date','')\n",
        "last_date = dbutils.widgets.get('last_date')\n",
        "print(last_date)"
      ]
    },
    {
      "cell_type": "markdown",
      "metadata": {
        "application/vnd.databricks.v1+cell": {
          "cellMetadata": {
            "byteLimit": 2048000,
            "rowLimit": 10000
          },
          "inputWidgets": {},
          "nuid": "4f1f2430-47c6-4cf8-88c7-eb09cc939b6f",
          "showTitle": false,
          "title": ""
        },
        "id": "-CfKQddZuLeZ"
      },
      "source": [
        "## 01.02. Parametros pipeline anterior"
      ]
    },
    {
      "cell_type": "code",
      "execution_count": null,
      "metadata": {
        "application/vnd.databricks.v1+cell": {
          "cellMetadata": {
            "byteLimit": 2048000,
            "rowLimit": 10000
          },
          "inputWidgets": {},
          "nuid": "119428e1-8ef4-4e58-a478-64b5c4b66258",
          "showTitle": false,
          "title": ""
        },
        "id": "agjFcOkquLeZ"
      },
      "outputs": [],
      "source": [
        "%run \"./nb_netplan_cam_medians\""
      ]
    },
    {
      "cell_type": "code",
      "execution_count": null,
      "metadata": {
        "application/vnd.databricks.v1+cell": {
          "cellMetadata": {
            "byteLimit": 2048000,
            "rowLimit": 10000
          },
          "inputWidgets": {},
          "nuid": "27438791-dfad-419c-a951-e9433c3c65df",
          "showTitle": false,
          "title": ""
        },
        "id": "vRLwIx7vuLeZ",
        "outputId": "46445355-36c2-48fe-858c-367ad610738e"
      },
      "outputs": [
        {
          "output_type": "display_data",
          "data": {
            "text/html": [
              "<div>\n<style scoped>\n    .dataframe tbody tr th:only-of-type {\n        vertical-align: middle;\n    }\n\n    .dataframe tbody tr th {\n        vertical-align: top;\n    }\n\n    .dataframe thead th {\n        text-align: right;\n    }\n</style>\n<table border=\"1\" class=\"dataframe\">\n  <thead>\n    <tr style=\"text-align: right;\">\n      <th></th>\n      <th>airline_code</th>\n      <th>rt</th>\n      <th>median_asks_hist</th>\n      <th>median_lower_thresh_hist</th>\n      <th>median_upper_thresh_hist</th>\n    </tr>\n  </thead>\n  <tbody>\n    <tr>\n      <th>0</th>\n      <td>2D</td>\n      <td>GYEJFK</td>\n      <td>2293508.32</td>\n      <td>458701.664</td>\n      <td>4.128315e+06</td>\n    </tr>\n    <tr>\n      <th>1</th>\n      <td>4J</td>\n      <td>CURMDE</td>\n      <td>1331957.52</td>\n      <td>266391.504</td>\n      <td>2.397524e+06</td>\n    </tr>\n    <tr>\n      <th>2</th>\n      <td>5U</td>\n      <td>CUNGUA</td>\n      <td>3510945.00</td>\n      <td>702189.000</td>\n      <td>6.319701e+06</td>\n    </tr>\n    <tr>\n      <th>3</th>\n      <td>5U</td>\n      <td>FRSGUA</td>\n      <td>6315452.40</td>\n      <td>1263090.480</td>\n      <td>1.136781e+07</td>\n    </tr>\n    <tr>\n      <th>4</th>\n      <td>5U</td>\n      <td>GUASAL</td>\n      <td>427454.66</td>\n      <td>85490.932</td>\n      <td>7.694184e+05</td>\n    </tr>\n    <tr>\n      <th>...</th>\n      <td>...</td>\n      <td>...</td>\n      <td>...</td>\n      <td>...</td>\n      <td>...</td>\n    </tr>\n    <tr>\n      <th>504</th>\n      <td>Y4</td>\n      <td>MEXSJO</td>\n      <td>16491012.60</td>\n      <td>3298202.520</td>\n      <td>2.968382e+07</td>\n    </tr>\n    <tr>\n      <th>505</th>\n      <td>Y4</td>\n      <td>MIASAP</td>\n      <td>6739894.20</td>\n      <td>1347978.840</td>\n      <td>1.213181e+07</td>\n    </tr>\n    <tr>\n      <th>506</th>\n      <td>Y4</td>\n      <td>RTBSAL</td>\n      <td>1400901.84</td>\n      <td>280180.368</td>\n      <td>2.521623e+06</td>\n    </tr>\n    <tr>\n      <th>507</th>\n      <td>Y4</td>\n      <td>SALSAP</td>\n      <td>1229680.40</td>\n      <td>245936.080</td>\n      <td>2.213425e+06</td>\n    </tr>\n    <tr>\n      <th>508</th>\n      <td>Y4</td>\n      <td>SALSJO</td>\n      <td>2534137.38</td>\n      <td>506827.476</td>\n      <td>4.561447e+06</td>\n    </tr>\n  </tbody>\n</table>\n<p>509 rows × 5 columns</p>\n</div>"
            ]
          },
          "metadata": {
            "application/vnd.databricks.v1+output": {
              "addedWidgets": {},
              "arguments": {},
              "data": "<div>\n<style scoped>\n    .dataframe tbody tr th:only-of-type {\n        vertical-align: middle;\n    }\n\n    .dataframe tbody tr th {\n        vertical-align: top;\n    }\n\n    .dataframe thead th {\n        text-align: right;\n    }\n</style>\n<table border=\"1\" class=\"dataframe\">\n  <thead>\n    <tr style=\"text-align: right;\">\n      <th></th>\n      <th>airline_code</th>\n      <th>rt</th>\n      <th>median_asks_hist</th>\n      <th>median_lower_thresh_hist</th>\n      <th>median_upper_thresh_hist</th>\n    </tr>\n  </thead>\n  <tbody>\n    <tr>\n      <th>0</th>\n      <td>2D</td>\n      <td>GYEJFK</td>\n      <td>2293508.32</td>\n      <td>458701.664</td>\n      <td>4.128315e+06</td>\n    </tr>\n    <tr>\n      <th>1</th>\n      <td>4J</td>\n      <td>CURMDE</td>\n      <td>1331957.52</td>\n      <td>266391.504</td>\n      <td>2.397524e+06</td>\n    </tr>\n    <tr>\n      <th>2</th>\n      <td>5U</td>\n      <td>CUNGUA</td>\n      <td>3510945.00</td>\n      <td>702189.000</td>\n      <td>6.319701e+06</td>\n    </tr>\n    <tr>\n      <th>3</th>\n      <td>5U</td>\n      <td>FRSGUA</td>\n      <td>6315452.40</td>\n      <td>1263090.480</td>\n      <td>1.136781e+07</td>\n    </tr>\n    <tr>\n      <th>4</th>\n      <td>5U</td>\n      <td>GUASAL</td>\n      <td>427454.66</td>\n      <td>85490.932</td>\n      <td>7.694184e+05</td>\n    </tr>\n    <tr>\n      <th>...</th>\n      <td>...</td>\n      <td>...</td>\n      <td>...</td>\n      <td>...</td>\n      <td>...</td>\n    </tr>\n    <tr>\n      <th>504</th>\n      <td>Y4</td>\n      <td>MEXSJO</td>\n      <td>16491012.60</td>\n      <td>3298202.520</td>\n      <td>2.968382e+07</td>\n    </tr>\n    <tr>\n      <th>505</th>\n      <td>Y4</td>\n      <td>MIASAP</td>\n      <td>6739894.20</td>\n      <td>1347978.840</td>\n      <td>1.213181e+07</td>\n    </tr>\n    <tr>\n      <th>506</th>\n      <td>Y4</td>\n      <td>RTBSAL</td>\n      <td>1400901.84</td>\n      <td>280180.368</td>\n      <td>2.521623e+06</td>\n    </tr>\n    <tr>\n      <th>507</th>\n      <td>Y4</td>\n      <td>SALSAP</td>\n      <td>1229680.40</td>\n      <td>245936.080</td>\n      <td>2.213425e+06</td>\n    </tr>\n    <tr>\n      <th>508</th>\n      <td>Y4</td>\n      <td>SALSJO</td>\n      <td>2534137.38</td>\n      <td>506827.476</td>\n      <td>4.561447e+06</td>\n    </tr>\n  </tbody>\n</table>\n<p>509 rows × 5 columns</p>\n</div>",
              "datasetInfos": [],
              "metadata": {},
              "removedWidgets": [],
              "textData": null,
              "type": "htmlSandbox"
            }
          }
        }
      ],
      "source": [
        "df_median_threshold"
      ]
    },
    {
      "cell_type": "code",
      "execution_count": null,
      "metadata": {
        "application/vnd.databricks.v1+cell": {
          "cellMetadata": {
            "byteLimit": 2048000,
            "rowLimit": 10000
          },
          "inputWidgets": {},
          "nuid": "25ee45fb-8852-460a-bb59-4c17590d4f2c",
          "showTitle": false,
          "title": ""
        },
        "id": "HIDLIJo8uLea",
        "outputId": "db992dc5-8633-43cb-995e-100a3d4339a5"
      },
      "outputs": [
        {
          "output_type": "stream",
          "name": "stdout",
          "text": [
            "Out[39]: 0.8"
          ]
        }
      ],
      "source": [
        "percentage_threshold"
      ]
    },
    {
      "cell_type": "markdown",
      "metadata": {
        "application/vnd.databricks.v1+cell": {
          "cellMetadata": {
            "byteLimit": 2048000,
            "rowLimit": 10000
          },
          "inputWidgets": {},
          "nuid": "9ad01c5f-c404-4a32-b45b-0f27f08538d8",
          "showTitle": false,
          "title": ""
        },
        "id": "hFIyp2i5uLea"
      },
      "source": [
        "## 01.03. Paths datalake"
      ]
    },
    {
      "cell_type": "code",
      "execution_count": null,
      "metadata": {
        "application/vnd.databricks.v1+cell": {
          "cellMetadata": {
            "byteLimit": 2048000,
            "rowLimit": 10000
          },
          "inputWidgets": {},
          "nuid": "5d74f460-c656-4e43-bef6-c374e4262ba7",
          "showTitle": false,
          "title": ""
        },
        "id": "mi2UfuiVuLea"
      },
      "outputs": [],
      "source": [
        "path_delta_input= 'abfss://harmonized@azdlkbidev.dfs.core.windows.net/network-planning/schedules-data/schedules_data_snapshot'\n",
        "path_parquet_output = f'abfss://curated@azdlkbidev.dfs.core.windows.net/ADV/network-planning/schedules-data/competitor_alerts_parquet/output_competitor_alerts_{last_date}/'"
      ]
    },
    {
      "cell_type": "markdown",
      "metadata": {
        "application/vnd.databricks.v1+cell": {
          "cellMetadata": {
            "byteLimit": 2048000,
            "rowLimit": 10000
          },
          "inputWidgets": {},
          "nuid": "50eb3331-802f-4836-a4e3-2422c252d1e6",
          "showTitle": false,
          "title": ""
        },
        "id": "1cK7qBVmuLeb"
      },
      "source": [
        "# 02. Librerías"
      ]
    },
    {
      "cell_type": "code",
      "execution_count": null,
      "metadata": {
        "application/vnd.databricks.v1+cell": {
          "cellMetadata": {
            "byteLimit": 2048000,
            "rowLimit": 10000
          },
          "inputWidgets": {},
          "nuid": "4ac63a92-f5b5-4dd7-9b30-f42b2aa9ac39",
          "showTitle": false,
          "title": ""
        },
        "id": "msOosoumuLeb"
      },
      "outputs": [],
      "source": [
        "import pandas as pd\n",
        "import numpy as np\n",
        "\n",
        "from sklearn.base import BaseEstimator, TransformerMixin\n",
        "from sklearn.pipeline import Pipeline\n",
        "\n",
        "import warnings\n",
        "warnings.filterwarnings(\"ignore\")"
      ]
    },
    {
      "cell_type": "code",
      "execution_count": null,
      "metadata": {
        "application/vnd.databricks.v1+cell": {
          "cellMetadata": {
            "byteLimit": 2048000,
            "rowLimit": 10000
          },
          "inputWidgets": {},
          "nuid": "8d343b8b-06d9-42c0-bf8f-d83e2f1823a2",
          "showTitle": false,
          "title": ""
        },
        "id": "ffJV0V5WuLec"
      },
      "outputs": [],
      "source": [
        "import time\n",
        "start_time=time.time()"
      ]
    },
    {
      "cell_type": "markdown",
      "metadata": {
        "application/vnd.databricks.v1+cell": {
          "cellMetadata": {
            "byteLimit": 2048000,
            "rowLimit": 10000
          },
          "inputWidgets": {},
          "nuid": "ffbb2f8d-d81f-48a5-90cd-93d25d8bf6b7",
          "showTitle": false,
          "title": ""
        },
        "id": "z0ULTkrMuLec"
      },
      "source": [
        "# 03. Carga de la tabla delta"
      ]
    },
    {
      "cell_type": "code",
      "execution_count": null,
      "metadata": {
        "application/vnd.databricks.v1+cell": {
          "cellMetadata": {
            "byteLimit": 2048000,
            "rowLimit": 10000
          },
          "inputWidgets": {},
          "nuid": "6ce2c2d0-dd8a-4f98-a332-c5a126c5ab68",
          "showTitle": false,
          "title": ""
        },
        "id": "Z0dQuFgwuLec"
      },
      "outputs": [],
      "source": [
        "spark.conf.set(\"fs.azure.account.key.azdlkbidev.dfs.core.windows.net\",dbutils.secrets.get(scope=\"scKyADV\",key=\"KvADLSKey\"))\n",
        "spark.conf.set(\"spark.databricks.io.cache.enabled\", True)\n",
        "spark.conf.set(\"spark.sql.session.timeZone\", \"EST\")\n",
        "spark.conf.set(\"spark.sql.session.timeZone\", \"EST\")\n",
        "spark.conf.set(\"spark.sql.legacy.timeParserPolicy\",\"LEGACY\")"
      ]
    },
    {
      "cell_type": "code",
      "execution_count": null,
      "metadata": {
        "application/vnd.databricks.v1+cell": {
          "cellMetadata": {
            "byteLimit": 2048000,
            "rowLimit": 10000
          },
          "inputWidgets": {},
          "nuid": "a0af34f5-4dec-4670-94ad-ef0291ec96a7",
          "showTitle": false,
          "title": ""
        },
        "id": "5pA8kVcVuLec",
        "outputId": "6f9ce9f0-9188-419d-cad5-ccdd338d5022"
      },
      "outputs": [
        {
          "output_type": "stream",
          "name": "stdout",
          "text": [
            "Out[44]: 'abfss://harmonized@azdlkbidev.dfs.core.windows.net/network-planning/schedules-data/schedules_data_snapshot'"
          ]
        }
      ],
      "source": [
        "path_delta_input"
      ]
    },
    {
      "cell_type": "code",
      "execution_count": null,
      "metadata": {
        "application/vnd.databricks.v1+cell": {
          "cellMetadata": {
            "byteLimit": 2048000,
            "rowLimit": 10000
          },
          "inputWidgets": {},
          "nuid": "ecfe5858-146b-4279-911a-556e90121e96",
          "showTitle": false,
          "title": ""
        },
        "id": "zQ6h56YTuLed"
      },
      "outputs": [],
      "source": [
        "df_delta = spark.read.load(path_delta_input, \n",
        "                           format='delta', \n",
        "                           inferSchema='False', \n",
        "                           encoding='UTF-8', \n",
        "                           header=\"True\")"
      ]
    },
    {
      "cell_type": "code",
      "execution_count": null,
      "metadata": {
        "application/vnd.databricks.v1+cell": {
          "cellMetadata": {
            "byteLimit": 2048000,
            "rowLimit": 10000
          },
          "inputWidgets": {},
          "nuid": "ac0f5787-b274-42b6-abb6-ce22c4cab08e",
          "showTitle": false,
          "title": ""
        },
        "id": "ihfKSZ62uLed"
      },
      "outputs": [],
      "source": [
        "# df_delta.printSchema()"
      ]
    },
    {
      "cell_type": "code",
      "execution_count": null,
      "metadata": {
        "application/vnd.databricks.v1+cell": {
          "cellMetadata": {
            "byteLimit": 2048000,
            "rowLimit": 10000
          },
          "inputWidgets": {},
          "nuid": "2ab937c6-18bb-45b9-9e9d-ab2e890d75c2",
          "showTitle": false,
          "title": ""
        },
        "id": "BodBsUd7uLed",
        "outputId": "5105c715-198c-4d0f-be8a-16df3f2635ef"
      },
      "outputs": [
        {
          "output_type": "display_data",
          "data": {
            "text/html": [
              "<div>\n<style scoped>\n    .dataframe tbody tr th:only-of-type {\n        vertical-align: middle;\n    }\n\n    .dataframe tbody tr th {\n        vertical-align: top;\n    }\n\n    .dataframe thead th {\n        text-align: right;\n    }\n</style>\n<table border=\"1\" class=\"dataframe\">\n  <thead>\n    <tr style=\"text-align: right;\">\n      <th></th>\n      <th>flight_date</th>\n      <th>airline_code</th>\n      <th>flight</th>\n      <th>origin_code</th>\n      <th>thru_point_code</th>\n      <th>destination_code</th>\n      <th>dep_time</th>\n      <th>arr_time</th>\n      <th>service_type</th>\n      <th>equipment_code</th>\n      <th>seats</th>\n      <th>asks</th>\n      <th>block_mins</th>\n      <th>seats_economy</th>\n      <th>file_name</th>\n      <th>snapshot_date</th>\n      <th>od</th>\n      <th>rt</th>\n      <th>op_av</th>\n    </tr>\n  </thead>\n  <tbody>\n    <tr>\n      <th>0</th>\n      <td>20220101</td>\n      <td>2D</td>\n      <td>162</td>\n      <td>MIA</td>\n      <td></td>\n      <td>ASU</td>\n      <td>0110</td>\n      <td>1110</td>\n      <td>Sched. Pax</td>\n      <td>763</td>\n      <td>261</td>\n      <td>1606228.32</td>\n      <td>480</td>\n      <td>245</td>\n      <td>Schedule_Dynamic_Table_Report_220213.tsv</td>\n      <td>20220213</td>\n      <td>MIAASU</td>\n      <td>ASUMIA</td>\n      <td>N</td>\n    </tr>\n    <tr>\n      <th>1</th>\n      <td>20220101</td>\n      <td>2D</td>\n      <td>322</td>\n      <td>JFK</td>\n      <td></td>\n      <td>GYE</td>\n      <td>0655</td>\n      <td>1335</td>\n      <td>Sched. Pax</td>\n      <td>763</td>\n      <td>240</td>\n      <td>1146754.16</td>\n      <td>400</td>\n      <td>212</td>\n      <td>Schedule_Dynamic_Table_Report_220213.tsv</td>\n      <td>20220213</td>\n      <td>JFKGYE</td>\n      <td>GYEJFK</td>\n      <td>Y</td>\n    </tr>\n    <tr>\n      <th>2</th>\n      <td>20220101</td>\n      <td>2D</td>\n      <td>323</td>\n      <td>GYE</td>\n      <td></td>\n      <td>JFK</td>\n      <td>1625</td>\n      <td>2305</td>\n      <td>Sched. Pax</td>\n      <td>763</td>\n      <td>240</td>\n      <td>1146754.16</td>\n      <td>400</td>\n      <td>212</td>\n      <td>Schedule_Dynamic_Table_Report_220213.tsv</td>\n      <td>20220213</td>\n      <td>GYEJFK</td>\n      <td>GYEJFK</td>\n      <td>Y</td>\n    </tr>\n    <tr>\n      <th>3</th>\n      <td>20220101</td>\n      <td>2I</td>\n      <td>2123</td>\n      <td>LIM</td>\n      <td></td>\n      <td>CIX</td>\n      <td>0755</td>\n      <td>0910</td>\n      <td>Sched. Pax</td>\n      <td>733</td>\n      <td>143</td>\n      <td>93205.16</td>\n      <td>75</td>\n      <td>0</td>\n      <td>Schedule_Dynamic_Table_Report_220213.tsv</td>\n      <td>20220213</td>\n      <td>LIMCIX</td>\n      <td>CIXLIM</td>\n      <td>N</td>\n    </tr>\n    <tr>\n      <th>4</th>\n      <td>20220101</td>\n      <td>2I</td>\n      <td>2124</td>\n      <td>CIX</td>\n      <td></td>\n      <td>LIM</td>\n      <td>0945</td>\n      <td>1100</td>\n      <td>Sched. Pax</td>\n      <td>733</td>\n      <td>143</td>\n      <td>93205.16</td>\n      <td>75</td>\n      <td>0</td>\n      <td>Schedule_Dynamic_Table_Report_220213.tsv</td>\n      <td>20220213</td>\n      <td>CIXLIM</td>\n      <td>CIXLIM</td>\n      <td>N</td>\n    </tr>\n  </tbody>\n</table>\n</div>"
            ]
          },
          "metadata": {
            "application/vnd.databricks.v1+output": {
              "addedWidgets": {},
              "arguments": {},
              "data": "<div>\n<style scoped>\n    .dataframe tbody tr th:only-of-type {\n        vertical-align: middle;\n    }\n\n    .dataframe tbody tr th {\n        vertical-align: top;\n    }\n\n    .dataframe thead th {\n        text-align: right;\n    }\n</style>\n<table border=\"1\" class=\"dataframe\">\n  <thead>\n    <tr style=\"text-align: right;\">\n      <th></th>\n      <th>flight_date</th>\n      <th>airline_code</th>\n      <th>flight</th>\n      <th>origin_code</th>\n      <th>thru_point_code</th>\n      <th>destination_code</th>\n      <th>dep_time</th>\n      <th>arr_time</th>\n      <th>service_type</th>\n      <th>equipment_code</th>\n      <th>seats</th>\n      <th>asks</th>\n      <th>block_mins</th>\n      <th>seats_economy</th>\n      <th>file_name</th>\n      <th>snapshot_date</th>\n      <th>od</th>\n      <th>rt</th>\n      <th>op_av</th>\n    </tr>\n  </thead>\n  <tbody>\n    <tr>\n      <th>0</th>\n      <td>20220101</td>\n      <td>2D</td>\n      <td>162</td>\n      <td>MIA</td>\n      <td></td>\n      <td>ASU</td>\n      <td>0110</td>\n      <td>1110</td>\n      <td>Sched. Pax</td>\n      <td>763</td>\n      <td>261</td>\n      <td>1606228.32</td>\n      <td>480</td>\n      <td>245</td>\n      <td>Schedule_Dynamic_Table_Report_220213.tsv</td>\n      <td>20220213</td>\n      <td>MIAASU</td>\n      <td>ASUMIA</td>\n      <td>N</td>\n    </tr>\n    <tr>\n      <th>1</th>\n      <td>20220101</td>\n      <td>2D</td>\n      <td>322</td>\n      <td>JFK</td>\n      <td></td>\n      <td>GYE</td>\n      <td>0655</td>\n      <td>1335</td>\n      <td>Sched. Pax</td>\n      <td>763</td>\n      <td>240</td>\n      <td>1146754.16</td>\n      <td>400</td>\n      <td>212</td>\n      <td>Schedule_Dynamic_Table_Report_220213.tsv</td>\n      <td>20220213</td>\n      <td>JFKGYE</td>\n      <td>GYEJFK</td>\n      <td>Y</td>\n    </tr>\n    <tr>\n      <th>2</th>\n      <td>20220101</td>\n      <td>2D</td>\n      <td>323</td>\n      <td>GYE</td>\n      <td></td>\n      <td>JFK</td>\n      <td>1625</td>\n      <td>2305</td>\n      <td>Sched. Pax</td>\n      <td>763</td>\n      <td>240</td>\n      <td>1146754.16</td>\n      <td>400</td>\n      <td>212</td>\n      <td>Schedule_Dynamic_Table_Report_220213.tsv</td>\n      <td>20220213</td>\n      <td>GYEJFK</td>\n      <td>GYEJFK</td>\n      <td>Y</td>\n    </tr>\n    <tr>\n      <th>3</th>\n      <td>20220101</td>\n      <td>2I</td>\n      <td>2123</td>\n      <td>LIM</td>\n      <td></td>\n      <td>CIX</td>\n      <td>0755</td>\n      <td>0910</td>\n      <td>Sched. Pax</td>\n      <td>733</td>\n      <td>143</td>\n      <td>93205.16</td>\n      <td>75</td>\n      <td>0</td>\n      <td>Schedule_Dynamic_Table_Report_220213.tsv</td>\n      <td>20220213</td>\n      <td>LIMCIX</td>\n      <td>CIXLIM</td>\n      <td>N</td>\n    </tr>\n    <tr>\n      <th>4</th>\n      <td>20220101</td>\n      <td>2I</td>\n      <td>2124</td>\n      <td>CIX</td>\n      <td></td>\n      <td>LIM</td>\n      <td>0945</td>\n      <td>1100</td>\n      <td>Sched. Pax</td>\n      <td>733</td>\n      <td>143</td>\n      <td>93205.16</td>\n      <td>75</td>\n      <td>0</td>\n      <td>Schedule_Dynamic_Table_Report_220213.tsv</td>\n      <td>20220213</td>\n      <td>CIXLIM</td>\n      <td>CIXLIM</td>\n      <td>N</td>\n    </tr>\n  </tbody>\n</table>\n</div>",
              "datasetInfos": [],
              "metadata": {},
              "removedWidgets": [],
              "textData": null,
              "type": "htmlSandbox"
            }
          }
        }
      ],
      "source": [
        "df_delta.limit(5).toPandas()"
      ]
    },
    {
      "cell_type": "code",
      "execution_count": null,
      "metadata": {
        "application/vnd.databricks.v1+cell": {
          "cellMetadata": {
            "byteLimit": 2048000,
            "rowLimit": 10000
          },
          "inputWidgets": {},
          "nuid": "679f9a8e-7885-432a-982e-7eb300376224",
          "showTitle": false,
          "title": ""
        },
        "id": "qvOQbfEyuLed"
      },
      "outputs": [],
      "source": [
        "# print(sorted([i.snapshot_date for i in df_delta.select('snapshot_date').distinct().collect()]))"
      ]
    },
    {
      "cell_type": "code",
      "execution_count": null,
      "metadata": {
        "application/vnd.databricks.v1+cell": {
          "cellMetadata": {
            "byteLimit": 2048000,
            "rowLimit": 10000
          },
          "inputWidgets": {},
          "nuid": "de74e372-c615-4a51-a6de-1f0cc029f79c",
          "showTitle": false,
          "title": ""
        },
        "id": "tnlzTlkBuLee",
        "outputId": "42a5823a-6b0b-4fc7-8e95-8a9815f93aca"
      },
      "outputs": [
        {
          "output_type": "stream",
          "name": "stdout",
          "text": [
            "['2D', '2I', '2M', '2W', '2Z', '4A', '4J', '4Y', '5R', '5U', '7P', '7Z', '9A', '9N', '9R', '9V', 'AA', 'ABJ', 'AC', 'AD', 'AF', 'AM', 'ANS', 'AR', 'AS', 'AV', 'AZ', 'B6', 'BA', 'BW', 'CC', 'CM', 'CU', 'DL', 'DM', 'E4', 'E9', 'ECO', 'EK', 'EO', 'ES', 'ET', 'F9', 'FO', 'G3', 'GL', 'GW', 'H2', 'H8', 'HN', 'IB', 'JA', 'JY', 'JZ', 'KL', 'KX', 'LA', 'LH', 'LX', 'N3', 'N4', 'NIS', 'NK', 'OB', 'OR', 'P5', 'PU', 'PY', 'Q6', 'QL', 'RZ', 'S0', 'S6', 'SY', 'T9', 'TA', 'TK', 'TOM', 'TP', 'TS', 'TX', 'U0', 'UA', 'ULS', 'UX', 'V0', 'V5', 'VB', 'VE', 'VH', 'VNE', 'VV', 'VW', 'W2', 'WG', 'WJ', 'WN', 'WS', 'WW', 'XL', 'Y2', 'Y4', 'Z8', 'ZP']\n"
          ]
        }
      ],
      "source": [
        "print(sorted([i.airline_code for i in df_delta.select('airline_code').distinct().collect()]))"
      ]
    },
    {
      "cell_type": "markdown",
      "metadata": {
        "application/vnd.databricks.v1+cell": {
          "cellMetadata": {
            "byteLimit": 2048000,
            "rowLimit": 10000
          },
          "inputWidgets": {},
          "nuid": "29419a39-c8c1-4b94-a8a8-58e4bd24a1d0",
          "showTitle": false,
          "title": ""
        },
        "id": "b3RnhBfkuLee"
      },
      "source": [
        "# 03. Transformadores"
      ]
    },
    {
      "cell_type": "markdown",
      "metadata": {
        "application/vnd.databricks.v1+cell": {
          "cellMetadata": {
            "byteLimit": 2048000,
            "rowLimit": 10000
          },
          "inputWidgets": {},
          "nuid": "52e07110-4f71-426c-921b-2b3c7d0bdb57",
          "showTitle": false,
          "title": ""
        },
        "id": "qYUG1OPsuLee"
      },
      "source": [
        "## 03.01. FeatureSelector"
      ]
    },
    {
      "cell_type": "code",
      "execution_count": null,
      "metadata": {
        "application/vnd.databricks.v1+cell": {
          "cellMetadata": {
            "byteLimit": 2048000,
            "rowLimit": 10000
          },
          "inputWidgets": {},
          "nuid": "4cf59570-b05a-404a-8ab4-9380781323b7",
          "showTitle": false,
          "title": ""
        },
        "id": "jprPiBYsuLee"
      },
      "outputs": [],
      "source": [
        "class FeatureSelector(BaseEstimator, TransformerMixin):\n",
        "    \n",
        "    def __init__(self, params_FeatureSelector):\n",
        "        self.feature_names = params_FeatureSelector['feature_names'] \n",
        "    \n",
        "    def fit(self, X, y = None):\n",
        "        return self \n",
        "    \n",
        "    def transform(self, X, y = None):\n",
        "      X_output = X.select(self.feature_names)\n",
        "      return X_output"
      ]
    },
    {
      "cell_type": "markdown",
      "metadata": {
        "application/vnd.databricks.v1+cell": {
          "cellMetadata": {
            "byteLimit": 2048000,
            "rowLimit": 10000
          },
          "inputWidgets": {},
          "nuid": "f43ae156-8591-4f76-9147-168513a814cd",
          "showTitle": false,
          "title": ""
        },
        "id": "bZ9YmqVquLef"
      },
      "source": [
        "## 03.02. FilterDates"
      ]
    },
    {
      "cell_type": "code",
      "execution_count": null,
      "metadata": {
        "application/vnd.databricks.v1+cell": {
          "cellMetadata": {
            "byteLimit": 2048000,
            "rowLimit": 10000
          },
          "inputWidgets": {},
          "nuid": "318f83d0-1a96-4cd5-b282-682872f7fc01",
          "showTitle": false,
          "title": ""
        },
        "id": "JG_LAMTwuLef"
      },
      "outputs": [],
      "source": [
        "class FilterDates(BaseEstimator, TransformerMixin):\n",
        "    \n",
        "    def __init__(self, params_FilterDates):\n",
        "      self.column = params_FilterDates['column']\n",
        "      self.last_date = params_FilterDates['last_date'] \n",
        "    \n",
        "    def fit(self, X, y = None):\n",
        "        return self\n",
        "    \n",
        "    def transform(self, X, y = None):\n",
        "      delta_all_dates = sorted([i.snapshot_date for i in X.select('snapshot_date').distinct().collect()])\n",
        "      dates_to_select = [delta_all_dates[delta_all_dates.index(self.last_date)-1], delta_all_dates[delta_all_dates.index(self.last_date)]]\n",
        "      X_output = X.filter(X[self.column].isin(dates_to_select))\n",
        "      return X_output"
      ]
    },
    {
      "cell_type": "markdown",
      "metadata": {
        "application/vnd.databricks.v1+cell": {
          "cellMetadata": {
            "byteLimit": 2048000,
            "rowLimit": 10000
          },
          "inputWidgets": {},
          "nuid": "7e88ebd7-0448-4060-a470-e63c5d831cde",
          "showTitle": false,
          "title": ""
        },
        "id": "yg9VsAhcuLef"
      },
      "source": [
        "## 03.03. FilterOpAv"
      ]
    },
    {
      "cell_type": "code",
      "execution_count": null,
      "metadata": {
        "application/vnd.databricks.v1+cell": {
          "cellMetadata": {
            "byteLimit": 2048000,
            "rowLimit": 10000
          },
          "inputWidgets": {},
          "nuid": "41feaa8b-7494-4daf-8697-663ba11f13c8",
          "showTitle": false,
          "title": ""
        },
        "id": "OgR37pquuLef"
      },
      "outputs": [],
      "source": [
        "class FilterOpAv(BaseEstimator, TransformerMixin):\n",
        "    \n",
        "    def __init__(self, params_FilterDates):\n",
        "      self.column = params_FilterOpAv['column']\n",
        "      self.op_av_option = params_FilterOpAv['op_av_option']\n",
        "    \n",
        "    def fit(self, X, y = None):\n",
        "        return self\n",
        "    \n",
        "    def transform(self, X, y = None):\n",
        "      X_output = X.filter(X[self.column]==self.op_av_option )\n",
        "      return X_output"
      ]
    },
    {
      "cell_type": "markdown",
      "metadata": {
        "application/vnd.databricks.v1+cell": {
          "cellMetadata": {
            "byteLimit": 2048000,
            "rowLimit": 10000
          },
          "inputWidgets": {},
          "nuid": "30362db4-2139-41f0-9ef7-ec9378bae162",
          "showTitle": false,
          "title": ""
        },
        "id": "hpysoKqCuLef"
      },
      "source": [
        "## 03.04. SparkToPandas"
      ]
    },
    {
      "cell_type": "code",
      "execution_count": null,
      "metadata": {
        "application/vnd.databricks.v1+cell": {
          "cellMetadata": {
            "byteLimit": 2048000,
            "rowLimit": 10000
          },
          "inputWidgets": {},
          "nuid": "9078a9a7-a3c3-4178-be71-91131fd3bedc",
          "showTitle": false,
          "title": ""
        },
        "id": "sdftd83nuLeg"
      },
      "outputs": [],
      "source": [
        "class SparkToPandas(BaseEstimator, TransformerMixin):\n",
        "    \n",
        "    def __init__(self, params_SparkToPandas):\n",
        "      self.empty = params_SparkToPandas\n",
        "    \n",
        "    def fit(self, X, y = None):\n",
        "        return self\n",
        "    \n",
        "    def transform(self, X, y = None):\n",
        "      X_output = X.toPandas()\n",
        "      return X_output"
      ]
    },
    {
      "cell_type": "markdown",
      "metadata": {
        "application/vnd.databricks.v1+cell": {
          "cellMetadata": {
            "byteLimit": 2048000,
            "rowLimit": 10000
          },
          "inputWidgets": {},
          "nuid": "df936e94-b246-4b34-a18a-4203a7cd6caa",
          "showTitle": false,
          "title": ""
        },
        "id": "4op3u-8xuLeg"
      },
      "source": [
        "## 03.05. ChangeAirlineCode"
      ]
    },
    {
      "cell_type": "code",
      "execution_count": null,
      "metadata": {
        "application/vnd.databricks.v1+cell": {
          "cellMetadata": {
            "byteLimit": 2048000,
            "rowLimit": 10000
          },
          "inputWidgets": {},
          "nuid": "711294fb-a241-4a9d-98d7-8a1a829f9ce6",
          "showTitle": false,
          "title": ""
        },
        "id": "fEmNlIpGuLeg"
      },
      "outputs": [],
      "source": [
        "class ChangeAirlineCode(BaseEstimator, TransformerMixin):\n",
        "    \n",
        "  def __init__(self, params_ChangeAirlineCode):\n",
        "      self.cols_to_trans = params_ChangeAirlineCode['cols_to_trans']\n",
        "      self.dict_replace = params_ChangeAirlineCode['dict_replace']\n",
        "    \n",
        "  def fit(self, X, y = None):\n",
        "      return self \n",
        "    \n",
        "  def transform(self, X, y = None):\n",
        "    X_output = X.copy()\n",
        "    for col_i in self.cols_to_trans:\n",
        "      X_output = X_output.replace({col_i: self.dict_replace})\n",
        "    return X_output"
      ]
    },
    {
      "cell_type": "markdown",
      "metadata": {
        "application/vnd.databricks.v1+cell": {
          "cellMetadata": {
            "byteLimit": 2048000,
            "rowLimit": 10000
          },
          "inputWidgets": {},
          "nuid": "5ef8a3d7-8e4c-4d05-ad1f-a7bb0c2d131e",
          "showTitle": false,
          "title": ""
        },
        "id": "zWPx27xruLeg"
      },
      "source": [
        "## 03.06. DateFormatTransformer"
      ]
    },
    {
      "cell_type": "code",
      "execution_count": null,
      "metadata": {
        "application/vnd.databricks.v1+cell": {
          "cellMetadata": {
            "byteLimit": 2048000,
            "rowLimit": 10000
          },
          "inputWidgets": {},
          "nuid": "661501b5-d612-4314-bc49-3d1b1dc639e3",
          "showTitle": false,
          "title": ""
        },
        "id": "3uVMU4xOuLeg"
      },
      "outputs": [],
      "source": [
        "class DateFormatTransformer(BaseEstimator, TransformerMixin):\n",
        "    \n",
        "  def __init__(self, params_DateFormatTransformer):\n",
        "      self.cols_to_trans = params_DateFormatTransformer['cols_to_trans'] \n",
        "    \n",
        "  def fit(self, X, y = None):\n",
        "      return self \n",
        "    \n",
        "  def transform(self, X, y = None):\n",
        "    X_output = X.copy()\n",
        "    for col_i in self.cols_to_trans:\n",
        "      X_output[col_i] = X_output[col_i].apply(lambda x: x[:6])\n",
        "    return X_output"
      ]
    },
    {
      "cell_type": "markdown",
      "metadata": {
        "application/vnd.databricks.v1+cell": {
          "cellMetadata": {
            "byteLimit": 2048000,
            "rowLimit": 10000
          },
          "inputWidgets": {},
          "nuid": "c8010ef6-6a9a-4124-9c4a-593e91b6a81b",
          "showTitle": false,
          "title": ""
        },
        "id": "D0dsiycEuLeg"
      },
      "source": [
        "## 03.07. AskAggregator"
      ]
    },
    {
      "cell_type": "code",
      "execution_count": null,
      "metadata": {
        "application/vnd.databricks.v1+cell": {
          "cellMetadata": {
            "byteLimit": 2048000,
            "rowLimit": 10000
          },
          "inputWidgets": {},
          "nuid": "55c8fff2-c954-4916-99a7-e1e971859803",
          "showTitle": false,
          "title": ""
        },
        "id": "qoHWlPKRuLeh"
      },
      "outputs": [],
      "source": [
        "class AskAggregator(BaseEstimator, TransformerMixin):\n",
        "    \n",
        "  def __init__(self, params_DateFormatTransformer):\n",
        "      self.cols_to_agg = params_DateFormatTransformer['cols_to_agg'] \n",
        "    \n",
        "  def fit(self, X, y = None):\n",
        "      return self \n",
        "    \n",
        "  def transform(self, X, y = None):\n",
        "    X_output = X.copy()\n",
        "    X_output = X_output.groupby(self.cols_to_agg, as_index=False).\\\n",
        "                         agg(sum_asks = ('asks', 'sum'))\n",
        "    return X_output"
      ]
    },
    {
      "cell_type": "markdown",
      "metadata": {
        "application/vnd.databricks.v1+cell": {
          "cellMetadata": {
            "byteLimit": 2048000,
            "rowLimit": 10000
          },
          "inputWidgets": {},
          "nuid": "7b640d69-4869-4fe5-86e2-85336d4210b5",
          "showTitle": false,
          "title": ""
        },
        "id": "865CeQe7uLeh"
      },
      "source": [
        "## 03.07.B. MedianThreshold"
      ]
    },
    {
      "cell_type": "code",
      "execution_count": null,
      "metadata": {
        "application/vnd.databricks.v1+cell": {
          "cellMetadata": {
            "byteLimit": 2048000,
            "rowLimit": 10000
          },
          "inputWidgets": {},
          "nuid": "6efff872-a3c9-49f6-bc65-3c9d3f45585f",
          "showTitle": false,
          "title": ""
        },
        "id": "aKLGgJrXuLeh"
      },
      "outputs": [],
      "source": [
        "class MedianThreshold(BaseEstimator, TransformerMixin):\n",
        "    \n",
        "  def __init__(self, params_MedianThreshold):\n",
        "      self.df_median_threshold = params_MedianThreshold['df_median_threshold'] \n",
        "    \n",
        "  def fit(self, X, y = None):\n",
        "      return self \n",
        "    \n",
        "  def transform(self, X, y = None):\n",
        "#     X_output = X.copy()\n",
        "    X_output = pd.merge(X, self.df_median_threshold, on=['airline_code','rt'], how='left')\n",
        "    return X_output"
      ]
    },
    {
      "cell_type": "code",
      "execution_count": null,
      "metadata": {
        "application/vnd.databricks.v1+cell": {
          "cellMetadata": {
            "byteLimit": 2048000,
            "rowLimit": 10000
          },
          "inputWidgets": {},
          "nuid": "e3014eaa-4f8f-4b85-b88d-7824551ed6f1",
          "showTitle": false,
          "title": ""
        },
        "id": "PdljXOu-uLei"
      },
      "outputs": [],
      "source": [
        "# df_merged = pd.merge(df,df_median_threshold, on=['airline_code','rt'], how='left')\n",
        "# df_merged"
      ]
    },
    {
      "cell_type": "markdown",
      "metadata": {
        "application/vnd.databricks.v1+cell": {
          "cellMetadata": {
            "byteLimit": 2048000,
            "rowLimit": 10000
          },
          "inputWidgets": {},
          "nuid": "afa67766-e361-4fb5-a6db-deccb314068a",
          "showTitle": false,
          "title": ""
        },
        "id": "J0F9ZCvHuLei"
      },
      "source": [
        "## 03.08. RcsCalculator"
      ]
    },
    {
      "cell_type": "code",
      "execution_count": null,
      "metadata": {
        "application/vnd.databricks.v1+cell": {
          "cellMetadata": {
            "byteLimit": 2048000,
            "rowLimit": 10000
          },
          "inputWidgets": {},
          "nuid": "2f6136a2-9e2c-449c-9581-5f7d1a6ceccb",
          "showTitle": false,
          "title": ""
        },
        "id": "nOzkAyp4uLei"
      },
      "outputs": [],
      "source": [
        "class RcsCalculator(BaseEstimator, TransformerMixin):\n",
        "    \n",
        "  def __init__(self, params_RcsCalculator):\n",
        "      self.empty = params_RcsCalculator \n",
        "    \n",
        "  def fit(self, X, y = None):\n",
        "      return self \n",
        "    \n",
        "  def transform(self, X, y = None):\n",
        "\n",
        "    df_av = X[X['airline_code']=='AV'].groupby(['snapshot_date', \n",
        "                                              'rt', \n",
        "                                              'flight_date'], as_index=False).\\\n",
        "                                     agg(total_asks_av = ('sum_asks', 'sum'), \n",
        "                                         median_asks_hist_av = ('median_asks_hist', 'median'),\n",
        "                                         median_lower_thresh_hist_av = ('median_lower_thresh_hist', 'median'), \n",
        "                                         median_upper_thresh_hist_av = ('median_upper_thresh_hist', 'median'))\n",
        "    \n",
        "    df_competitors = X[X['airline_code']!='AV'].groupby(['snapshot_date', \n",
        "                                              'rt', \n",
        "                                              'flight_date', \n",
        "                                              'airline_code'], as_index=False).\\\n",
        "                                     agg(total_asks_competitor = ('sum_asks', 'sum'), \n",
        "                                         median_asks_hist_competitor = ('median_asks_hist', 'median'),\n",
        "                                         median_lower_thresh_hist_competitor = ('median_lower_thresh_hist', 'median'), \n",
        "                                         median_upper_thresh_hist_competitor = ('median_upper_thresh_hist', 'median'))\n",
        "    \n",
        "    df_competitors_max = df_competitors.loc[df_competitors.groupby(['snapshot_date', 'rt', 'flight_date'])\\\n",
        "                                                       ['total_asks_competitor'].idxmax()].\\\n",
        "                                                       reset_index(drop=True).\\\n",
        "                                                       rename(columns={'airline_code':'competitor', \n",
        "                                                                       'total_asks_competitor': 'max_asks_competitor'})\n",
        "    \n",
        "    X_output = df_av.merge(df_competitors_max,  how='left', on=['snapshot_date', 'rt', 'flight_date'])\n",
        "    X_output['rcs']= round(X_output['total_asks_av']/X_output['max_asks_competitor'],2)\n",
        "\n",
        "    return X_output"
      ]
    },
    {
      "cell_type": "code",
      "execution_count": null,
      "metadata": {
        "application/vnd.databricks.v1+cell": {
          "cellMetadata": {
            "byteLimit": 2048000,
            "rowLimit": 10000
          },
          "inputWidgets": {},
          "nuid": "0120bbdd-6a32-4a37-84c9-acdf14cf26f3",
          "showTitle": false,
          "title": ""
        },
        "id": "0JObxsfquLej"
      },
      "outputs": [],
      "source": [
        "# df"
      ]
    },
    {
      "cell_type": "code",
      "execution_count": null,
      "metadata": {
        "application/vnd.databricks.v1+cell": {
          "cellMetadata": {
            "byteLimit": 2048000,
            "rowLimit": 10000
          },
          "inputWidgets": {},
          "nuid": "931ae580-0e8e-4042-8763-5089c57ed03d",
          "showTitle": false,
          "title": ""
        },
        "id": "9nvQdqC5uLej"
      },
      "outputs": [],
      "source": []
    },
    {
      "cell_type": "code",
      "execution_count": null,
      "metadata": {
        "application/vnd.databricks.v1+cell": {
          "cellMetadata": {
            "byteLimit": 2048000,
            "rowLimit": 10000
          },
          "inputWidgets": {},
          "nuid": "2cbf5f51-6539-4c12-8277-269ef02e5553",
          "showTitle": false,
          "title": ""
        },
        "id": "AShVDlO7uLej",
        "outputId": "faf97635-cdd8-40de-974a-7160cc1d123b"
      },
      "outputs": [
        {
          "output_type": "display_data",
          "data": {
            "text/html": [
              "<div>\n<style scoped>\n    .dataframe tbody tr th:only-of-type {\n        vertical-align: middle;\n    }\n\n    .dataframe tbody tr th {\n        vertical-align: top;\n    }\n\n    .dataframe thead th {\n        text-align: right;\n    }\n</style>\n<table border=\"1\" class=\"dataframe\">\n  <thead>\n    <tr style=\"text-align: right;\">\n      <th></th>\n      <th>airline_code</th>\n      <th>rt</th>\n      <th>flight_date</th>\n      <th>snapshot_date</th>\n      <th>sum_asks</th>\n    </tr>\n  </thead>\n  <tbody>\n    <tr>\n      <th>0</th>\n      <td>2D</td>\n      <td>GYEJFK</td>\n      <td>202201</td>\n      <td>20220131</td>\n      <td>38989641.44</td>\n    </tr>\n    <tr>\n      <th>1</th>\n      <td>2D</td>\n      <td>GYEJFK</td>\n      <td>202201</td>\n      <td>20220213</td>\n      <td>38989641.44</td>\n    </tr>\n    <tr>\n      <th>2</th>\n      <td>2D</td>\n      <td>GYEJFK</td>\n      <td>202201</td>\n      <td>20220227</td>\n      <td>38989641.44</td>\n    </tr>\n    <tr>\n      <th>3</th>\n      <td>2D</td>\n      <td>GYEJFK</td>\n      <td>202202</td>\n      <td>20220131</td>\n      <td>17201312.40</td>\n    </tr>\n    <tr>\n      <th>4</th>\n      <td>2D</td>\n      <td>GYEJFK</td>\n      <td>202202</td>\n      <td>20220213</td>\n      <td>17201312.40</td>\n    </tr>\n    <tr>\n      <th>...</th>\n      <td>...</td>\n      <td>...</td>\n      <td>...</td>\n      <td>...</td>\n      <td>...</td>\n    </tr>\n    <tr>\n      <th>144757</th>\n      <td>Y4</td>\n      <td>SALSJO</td>\n      <td>202401</td>\n      <td>20230212</td>\n      <td>2440280.44</td>\n    </tr>\n    <tr>\n      <th>144758</th>\n      <td>Y4</td>\n      <td>SALSJO</td>\n      <td>202401</td>\n      <td>20230219</td>\n      <td>2440280.44</td>\n    </tr>\n    <tr>\n      <th>144759</th>\n      <td>Y4</td>\n      <td>SALSJO</td>\n      <td>202401</td>\n      <td>20230226</td>\n      <td>2440280.44</td>\n    </tr>\n    <tr>\n      <th>144760</th>\n      <td>Y4</td>\n      <td>SALSJO</td>\n      <td>202401</td>\n      <td>20230305</td>\n      <td>2440280.44</td>\n    </tr>\n    <tr>\n      <th>144761</th>\n      <td>Y4</td>\n      <td>SALSJO</td>\n      <td>202402</td>\n      <td>20230305</td>\n      <td>2346423.50</td>\n    </tr>\n  </tbody>\n</table>\n<p>144762 rows × 5 columns</p>\n</div>"
            ]
          },
          "metadata": {
            "application/vnd.databricks.v1+output": {
              "addedWidgets": {},
              "arguments": {},
              "data": "<div>\n<style scoped>\n    .dataframe tbody tr th:only-of-type {\n        vertical-align: middle;\n    }\n\n    .dataframe tbody tr th {\n        vertical-align: top;\n    }\n\n    .dataframe thead th {\n        text-align: right;\n    }\n</style>\n<table border=\"1\" class=\"dataframe\">\n  <thead>\n    <tr style=\"text-align: right;\">\n      <th></th>\n      <th>airline_code</th>\n      <th>rt</th>\n      <th>flight_date</th>\n      <th>snapshot_date</th>\n      <th>sum_asks</th>\n    </tr>\n  </thead>\n  <tbody>\n    <tr>\n      <th>0</th>\n      <td>2D</td>\n      <td>GYEJFK</td>\n      <td>202201</td>\n      <td>20220131</td>\n      <td>38989641.44</td>\n    </tr>\n    <tr>\n      <th>1</th>\n      <td>2D</td>\n      <td>GYEJFK</td>\n      <td>202201</td>\n      <td>20220213</td>\n      <td>38989641.44</td>\n    </tr>\n    <tr>\n      <th>2</th>\n      <td>2D</td>\n      <td>GYEJFK</td>\n      <td>202201</td>\n      <td>20220227</td>\n      <td>38989641.44</td>\n    </tr>\n    <tr>\n      <th>3</th>\n      <td>2D</td>\n      <td>GYEJFK</td>\n      <td>202202</td>\n      <td>20220131</td>\n      <td>17201312.40</td>\n    </tr>\n    <tr>\n      <th>4</th>\n      <td>2D</td>\n      <td>GYEJFK</td>\n      <td>202202</td>\n      <td>20220213</td>\n      <td>17201312.40</td>\n    </tr>\n    <tr>\n      <th>...</th>\n      <td>...</td>\n      <td>...</td>\n      <td>...</td>\n      <td>...</td>\n      <td>...</td>\n    </tr>\n    <tr>\n      <th>144757</th>\n      <td>Y4</td>\n      <td>SALSJO</td>\n      <td>202401</td>\n      <td>20230212</td>\n      <td>2440280.44</td>\n    </tr>\n    <tr>\n      <th>144758</th>\n      <td>Y4</td>\n      <td>SALSJO</td>\n      <td>202401</td>\n      <td>20230219</td>\n      <td>2440280.44</td>\n    </tr>\n    <tr>\n      <th>144759</th>\n      <td>Y4</td>\n      <td>SALSJO</td>\n      <td>202401</td>\n      <td>20230226</td>\n      <td>2440280.44</td>\n    </tr>\n    <tr>\n      <th>144760</th>\n      <td>Y4</td>\n      <td>SALSJO</td>\n      <td>202401</td>\n      <td>20230305</td>\n      <td>2440280.44</td>\n    </tr>\n    <tr>\n      <th>144761</th>\n      <td>Y4</td>\n      <td>SALSJO</td>\n      <td>202402</td>\n      <td>20230305</td>\n      <td>2346423.50</td>\n    </tr>\n  </tbody>\n</table>\n<p>144762 rows × 5 columns</p>\n</div>",
              "datasetInfos": [],
              "metadata": {},
              "removedWidgets": [],
              "textData": null,
              "type": "htmlSandbox"
            }
          }
        }
      ],
      "source": [
        "df"
      ]
    },
    {
      "cell_type": "code",
      "execution_count": null,
      "metadata": {
        "application/vnd.databricks.v1+cell": {
          "cellMetadata": {
            "byteLimit": 2048000,
            "rowLimit": 10000
          },
          "inputWidgets": {},
          "nuid": "6c5fc811-8c81-49e4-97cd-3ff57f6adfdc",
          "showTitle": false,
          "title": ""
        },
        "id": "egNUFvbUuLek"
      },
      "outputs": [],
      "source": []
    },
    {
      "cell_type": "markdown",
      "metadata": {
        "application/vnd.databricks.v1+cell": {
          "cellMetadata": {
            "byteLimit": 2048000,
            "rowLimit": 10000
          },
          "inputWidgets": {},
          "nuid": "abd45af6-b581-4dd7-8ff1-206a1e7ec559",
          "showTitle": false,
          "title": ""
        },
        "id": "4wIcRDq3uLek"
      },
      "source": [
        "## 03.09. CategoryCalculator"
      ]
    },
    {
      "cell_type": "code",
      "execution_count": null,
      "metadata": {
        "application/vnd.databricks.v1+cell": {
          "cellMetadata": {
            "byteLimit": 2048000,
            "rowLimit": 10000
          },
          "inputWidgets": {},
          "nuid": "2534422f-4f6d-453b-9960-302f78c0c7c2",
          "showTitle": false,
          "title": ""
        },
        "id": "_V7oUvtEuLek"
      },
      "outputs": [],
      "source": [
        "class CategoryCalculator(BaseEstimator, TransformerMixin):\n",
        "    \n",
        "    def __init__(self, params_CategoryCalculator):\n",
        "      self.intervals_values = params_CategoryCalculator['intervals_values'] \n",
        "      self.intervals_names = params_CategoryCalculator['intervals_names']\n",
        "    \n",
        "    def fit(self, X, y = None):\n",
        "        return self\n",
        "    \n",
        "    def transform(self, X, y = None):\n",
        "      X_output = X.copy()\n",
        "      \n",
        "      bins = pd.IntervalIndex.from_tuples(self.intervals_values, closed='left')\n",
        "      categorias = self.intervals_names\n",
        "      \n",
        "      X_output['category'] = pd.Series(np.array(categorias)[pd.cut(X_output['rcs'], bins = bins).cat.codes], index=X_output.index)\n",
        "      \n",
        "      indx_competitor_NaN = X_output[X_output.competitor.isnull()].index\n",
        "      indx_competitor_NaN\n",
        "      X_output['category'][indx_competitor_NaN] = 'Sole_Player'\n",
        "      \n",
        "      return X_output"
      ]
    },
    {
      "cell_type": "code",
      "execution_count": null,
      "metadata": {
        "application/vnd.databricks.v1+cell": {
          "cellMetadata": {
            "byteLimit": 2048000,
            "rowLimit": 10000
          },
          "inputWidgets": {},
          "nuid": "c23dac49-41c4-498d-8fd5-8fc1fe7ff760",
          "showTitle": false,
          "title": ""
        },
        "id": "M4pIzlueuLek",
        "outputId": "3df21758-a731-4492-f8d4-ff62698ed474"
      },
      "outputs": [
        {
          "output_type": "display_data",
          "data": {
            "text/html": [
              "<div>\n<style scoped>\n    .dataframe tbody tr th:only-of-type {\n        vertical-align: middle;\n    }\n\n    .dataframe tbody tr th {\n        vertical-align: top;\n    }\n\n    .dataframe thead th {\n        text-align: right;\n    }\n</style>\n<table border=\"1\" class=\"dataframe\">\n  <thead>\n    <tr style=\"text-align: right;\">\n      <th></th>\n      <th>airline_code</th>\n      <th>rt</th>\n      <th>flight_date</th>\n      <th>snapshot_date</th>\n      <th>sum_asks</th>\n    </tr>\n  </thead>\n  <tbody>\n    <tr>\n      <th>0</th>\n      <td>2D</td>\n      <td>GYEJFK</td>\n      <td>202201</td>\n      <td>20220131</td>\n      <td>38989641.44</td>\n    </tr>\n    <tr>\n      <th>1</th>\n      <td>2D</td>\n      <td>GYEJFK</td>\n      <td>202201</td>\n      <td>20220213</td>\n      <td>38989641.44</td>\n    </tr>\n    <tr>\n      <th>2</th>\n      <td>2D</td>\n      <td>GYEJFK</td>\n      <td>202201</td>\n      <td>20220227</td>\n      <td>38989641.44</td>\n    </tr>\n  </tbody>\n</table>\n</div>"
            ]
          },
          "metadata": {
            "application/vnd.databricks.v1+output": {
              "addedWidgets": {},
              "arguments": {},
              "data": "<div>\n<style scoped>\n    .dataframe tbody tr th:only-of-type {\n        vertical-align: middle;\n    }\n\n    .dataframe tbody tr th {\n        vertical-align: top;\n    }\n\n    .dataframe thead th {\n        text-align: right;\n    }\n</style>\n<table border=\"1\" class=\"dataframe\">\n  <thead>\n    <tr style=\"text-align: right;\">\n      <th></th>\n      <th>airline_code</th>\n      <th>rt</th>\n      <th>flight_date</th>\n      <th>snapshot_date</th>\n      <th>sum_asks</th>\n    </tr>\n  </thead>\n  <tbody>\n    <tr>\n      <th>0</th>\n      <td>2D</td>\n      <td>GYEJFK</td>\n      <td>202201</td>\n      <td>20220131</td>\n      <td>38989641.44</td>\n    </tr>\n    <tr>\n      <th>1</th>\n      <td>2D</td>\n      <td>GYEJFK</td>\n      <td>202201</td>\n      <td>20220213</td>\n      <td>38989641.44</td>\n    </tr>\n    <tr>\n      <th>2</th>\n      <td>2D</td>\n      <td>GYEJFK</td>\n      <td>202201</td>\n      <td>20220227</td>\n      <td>38989641.44</td>\n    </tr>\n  </tbody>\n</table>\n</div>",
              "datasetInfos": [],
              "metadata": {},
              "removedWidgets": [],
              "textData": null,
              "type": "htmlSandbox"
            }
          }
        }
      ],
      "source": [
        "df.head(3)"
      ]
    },
    {
      "cell_type": "markdown",
      "metadata": {
        "application/vnd.databricks.v1+cell": {
          "cellMetadata": {
            "byteLimit": 2048000,
            "rowLimit": 10000
          },
          "inputWidgets": {},
          "nuid": "585409ef-7aee-4b9e-97f1-f9d5faf130d9",
          "showTitle": false,
          "title": ""
        },
        "id": "NFXHXq_EuLel"
      },
      "source": [
        "## 03.10. ChangeCategoryCalculator"
      ]
    },
    {
      "cell_type": "code",
      "execution_count": null,
      "metadata": {
        "application/vnd.databricks.v1+cell": {
          "cellMetadata": {
            "byteLimit": 2048000,
            "rowLimit": 10000
          },
          "inputWidgets": {},
          "nuid": "8caef661-0575-4f27-aca7-17c54ba3b240",
          "showTitle": false,
          "title": ""
        },
        "id": "RJ0F2anMuLel"
      },
      "outputs": [],
      "source": [
        "class ChangeCategoryCalculator(BaseEstimator, TransformerMixin):\n",
        "    \n",
        "    def __init__(self, params_ChangeCategoryCalculator):\n",
        "      self.empty = params_ChangeCategoryCalculator\n",
        "    \n",
        "    def fit(self, X, y = None):\n",
        "        return self\n",
        "    \n",
        "    def transform(self, X, y = None):\n",
        "\n",
        "      list_last_dates = sorted(list(X.snapshot_date.unique()))[-2:]\n",
        "\n",
        "      df_cw = X[X.snapshot_date==list_last_dates[1]]\n",
        "      df_lw = X[X.snapshot_date==list_last_dates[0]]\n",
        "\n",
        "      df_merge = df_cw.merge(df_lw, how='inner', on = ['rt', 'flight_date'], suffixes=('_cw', '_lw'))\n",
        "      df_merge['rcs_delta_abs'] = round(abs(df_merge['rcs_cw']-df_merge['rcs_lw']),2)\n",
        "\n",
        "      cols_interest =  ['rt', \n",
        "                        'flight_date', \n",
        "                        'snapshot_date_lw',\n",
        "                        'snapshot_date_cw',\n",
        "                        'rcs_lw',\n",
        "                        'rcs_cw',\n",
        "                        'rcs_delta_abs',\n",
        "                        'category_lw',\n",
        "                        'category_cw',\n",
        "                        'competitor_lw',\n",
        "                        'competitor_cw', \n",
        "                        'total_asks_av_lw',\n",
        "                        'total_asks_av_cw',\n",
        "                        'max_asks_competitor_lw', \n",
        "                        'max_asks_competitor_cw', \n",
        "                        'median_asks_hist_av_lw',\n",
        "                        'median_asks_hist_av_cw',\n",
        "                        'median_lower_thresh_hist_av_lw',\n",
        "                        'median_lower_thresh_hist_av_cw',\n",
        "                        'median_upper_thresh_hist_av_lw',\n",
        "                        'median_upper_thresh_hist_av_cw',\n",
        "                        'median_asks_hist_competitor_lw',\n",
        "                        'median_asks_hist_competitor_cw',\n",
        "                        'median_lower_thresh_hist_competitor_lw',\n",
        "                        'median_lower_thresh_hist_competitor_cw',\n",
        "                        'median_upper_thresh_hist_competitor_lw',\n",
        "                        'median_upper_thresh_hist_competitor_cw'\n",
        "                       ]\n",
        "\n",
        "      df_merge = df_merge[cols_interest]\n",
        "\n",
        "      df_merge['change'] = df_merge.apply(lambda x: 'No_change' if x['category_cw'] == x['category_lw'] \n",
        "                                               else 'Upgrade'   if x['category_cw'] == 'Sole_Player'\n",
        "                                               else 'Upgrade'   if x['rcs_cw'] > x['rcs_lw']\n",
        "                                               else 'Downgrade', \n",
        "                                                        axis=1)\n",
        "\n",
        "      X_output = df_merge[df_merge.change!='No_change'].\\\n",
        "                 sort_values(by=['rcs_delta_abs','rt'], ascending=[False,True]).\\\n",
        "                 reset_index(drop=True)\n",
        "      \n",
        "      return X_output"
      ]
    },
    {
      "cell_type": "markdown",
      "metadata": {
        "application/vnd.databricks.v1+cell": {
          "cellMetadata": {
            "byteLimit": 2048000,
            "rowLimit": 10000
          },
          "inputWidgets": {},
          "nuid": "bd18f616-7326-4923-9f1d-3f7220712220",
          "showTitle": false,
          "title": ""
        },
        "id": "mGn_jYsouLel"
      },
      "source": [
        "## 03.11. IdGenerator"
      ]
    },
    {
      "cell_type": "code",
      "execution_count": null,
      "metadata": {
        "application/vnd.databricks.v1+cell": {
          "cellMetadata": {
            "byteLimit": 2048000,
            "rowLimit": 10000
          },
          "inputWidgets": {},
          "nuid": "121dafb6-dfe6-448f-a9ef-83ef6f207b72",
          "showTitle": false,
          "title": ""
        },
        "id": "yUfLtQyyuLel"
      },
      "outputs": [],
      "source": [
        "class IdGenerator(BaseEstimator, TransformerMixin):\n",
        "    \n",
        "  def __init__(self, params_DateFormatTransformer):\n",
        "      self.empty = params_SparkToPandas\n",
        "    \n",
        "  def fit(self, X, y = None):\n",
        "      return self \n",
        "    \n",
        "  def transform(self, X, y = None):\n",
        "    X_output = X.copy()\n",
        "    cols= list(X_output.columns)\n",
        "    cols_to_join = ['snapshot_date_cw', 'rt', 'flight_date']\n",
        "    X_output['id_alert'] = X_output[cols_to_join].apply(lambda x: ''.join(x), axis=1)\n",
        "    X_output = X_output[['id_alert']+cols]\n",
        "    return X_output"
      ]
    },
    {
      "cell_type": "markdown",
      "metadata": {
        "application/vnd.databricks.v1+cell": {
          "cellMetadata": {
            "byteLimit": 2048000,
            "rowLimit": 10000
          },
          "inputWidgets": {},
          "nuid": "2ca51fcc-88f9-48cb-9b3c-b4617d8675cc",
          "showTitle": false,
          "title": ""
        },
        "id": "rNLwQuXluLel"
      },
      "source": [
        "# 04. Pipeline"
      ]
    },
    {
      "cell_type": "markdown",
      "metadata": {
        "application/vnd.databricks.v1+cell": {
          "cellMetadata": {
            "byteLimit": 2048000,
            "rowLimit": 10000
          },
          "inputWidgets": {},
          "nuid": "17839865-0de2-43a9-a4c7-49eee2bcac33",
          "showTitle": false,
          "title": ""
        },
        "id": "-99NtQ-ZuLem"
      },
      "source": [
        "## 04.01. Parameters"
      ]
    },
    {
      "cell_type": "code",
      "execution_count": null,
      "metadata": {
        "application/vnd.databricks.v1+cell": {
          "cellMetadata": {
            "byteLimit": 2048000,
            "rowLimit": 10000
          },
          "inputWidgets": {},
          "nuid": "ac6c324a-5059-44d9-b0c6-668e34d0ab1c",
          "showTitle": false,
          "title": ""
        },
        "id": "JslFrVpnuLem"
      },
      "outputs": [],
      "source": [
        "params_FeatureSelector = {}\n",
        "params_FeatureSelector['feature_names']= ['snapshot_date', \n",
        "                                          'flight_date',\n",
        "                                          'rt', \n",
        "                                          'op_av', \n",
        "                                          'airline_code',\n",
        "                                          'asks'\n",
        "                                         ]\n",
        "\n",
        "params_FilterDates = {}\n",
        "params_FilterDates['column'] = 'snapshot_date'\n",
        "params_FilterDates['last_date'] = last_date\n",
        "\n",
        "params_FilterOpAv = {}\n",
        "params_FilterOpAv['column'] = 'op_av'\n",
        "params_FilterOpAv['op_av_option'] = 'Y'\n",
        "\n",
        "params_SparkToPandas = {}\n",
        "\n",
        "params_ChangeAirlineCode = {}\n",
        "params_ChangeAirlineCode['cols_to_trans']= ['airline_code']\n",
        "params_ChangeAirlineCode['dict_replace']= {'Q6': 'Y4', \n",
        "                                           'N3': 'Y4',\n",
        "                                           'TA': 'AV',\n",
        "                                           'VV': 'VH'}\n",
        "\n",
        "params_DateFormatTransformer = {}\n",
        "params_DateFormatTransformer['cols_to_trans']= ['flight_date']\n",
        "params_DateFormatTransformer\n",
        "\n",
        "params_AskAggregator = {}\n",
        "params_AskAggregator['cols_to_agg'] = ['snapshot_date','flight_date', 'rt', 'airline_code']\n",
        "\n",
        "params_MedianThreshold = {}\n",
        "params_MedianThreshold['df_median_threshold'] = df_median_threshold\n",
        "\n",
        "params_RcsCalculator = {}\n",
        "\n",
        "params_CategoryCalculator = {}\n",
        "params_CategoryCalculator['intervals_values'] = [(0, 0.4), (0.4, 0.7), (0.7, 1), (1, 1.5), (1.5, 1E10)]\n",
        "params_CategoryCalculator['intervals_names'] = ['Bottom_Feeder','Challenger', 'Follower', 'Co_Leader', 'Leader']\n",
        "\n",
        "params_ChangeCategoryCalculator = {}\n",
        "\n",
        "params_IdGenerator = {}"
      ]
    },
    {
      "cell_type": "markdown",
      "metadata": {
        "application/vnd.databricks.v1+cell": {
          "cellMetadata": {
            "byteLimit": 2048000,
            "rowLimit": 10000
          },
          "inputWidgets": {},
          "nuid": "1b03b57b-eb76-42c2-831d-655e2073ecca",
          "showTitle": false,
          "title": ""
        },
        "id": "3HVrAvxXuLem"
      },
      "source": [
        "## 04.02. Instantiated Transformers"
      ]
    },
    {
      "cell_type": "code",
      "execution_count": null,
      "metadata": {
        "application/vnd.databricks.v1+cell": {
          "cellMetadata": {
            "byteLimit": 2048000,
            "rowLimit": 10000
          },
          "inputWidgets": {},
          "nuid": "d3dad2a1-ce15-46b5-b0d5-39a391373432",
          "showTitle": false,
          "title": ""
        },
        "id": "SIvq9LO3uLem"
      },
      "outputs": [],
      "source": [
        "Transformer_FeatureSelector = FeatureSelector(params_FeatureSelector)\n",
        "Transformer_FilterDates = FilterDates(params_FilterDates)\n",
        "Transformer_FilterOpAv = FilterOpAv(params_FilterOpAv)\n",
        "Transformer_SparkToPandas = SparkToPandas(params_SparkToPandas)\n",
        "Transformer_ChangeAirlineCode = ChangeAirlineCode(params_ChangeAirlineCode)\n",
        "Transformer_DateFormatTransformer = DateFormatTransformer(params_DateFormatTransformer)\n",
        "Transformer_AskAggregator = AskAggregator(params_AskAggregator)\n",
        "Transformer_MedianThreshold = MedianThreshold(params_MedianThreshold)\n",
        "#\n",
        "Transformer_RcsCalculator = RcsCalculator(params_RcsCalculator)\n",
        "Transformer_CategoryCalculator = CategoryCalculator(params_CategoryCalculator)\n",
        "Transformer_ChangeCategoryCalculator = ChangeCategoryCalculator(params_ChangeCategoryCalculator)\n",
        "Transformer_IdGenerator = IdGenerator(params_IdGenerator)"
      ]
    },
    {
      "cell_type": "markdown",
      "metadata": {
        "application/vnd.databricks.v1+cell": {
          "cellMetadata": {
            "byteLimit": 2048000,
            "rowLimit": 10000
          },
          "inputWidgets": {},
          "nuid": "7e292c1c-f8f6-4521-b665-68da196ef372",
          "showTitle": false,
          "title": ""
        },
        "id": "DckNElWmuLem"
      },
      "source": [
        "## 04.03. Pipeline"
      ]
    },
    {
      "cell_type": "code",
      "execution_count": null,
      "metadata": {
        "application/vnd.databricks.v1+cell": {
          "cellMetadata": {
            "byteLimit": 2048000,
            "rowLimit": 10000
          },
          "inputWidgets": {},
          "nuid": "c646c251-3a7f-4e3c-921d-0c3d110b1bf7",
          "showTitle": false,
          "title": ""
        },
        "id": "j7w0kCyFuLem"
      },
      "outputs": [],
      "source": [
        "pipeline_mod_competitor_alerts = Pipeline(steps=[('NameFeatureSelector', Transformer_FeatureSelector),\n",
        "                              ('NameFilterDates', Transformer_FilterDates),\n",
        "                              ('NameFilterOpAv', Transformer_FilterOpAv),\n",
        "                              ('NameSparkToPandas', Transformer_SparkToPandas),\n",
        "                              ('NameDateFormatChangeAirlineCode', Transformer_ChangeAirlineCode),\n",
        "                              ('NameDateFormatTransformer', Transformer_DateFormatTransformer),\n",
        "                              ('NameAskAggregator', Transformer_AskAggregator),\n",
        "                              ('NameMedianThreshold', Transformer_MedianThreshold), \n",
        "                              ('NameRcsCalculator', Transformer_RcsCalculator),\n",
        "                              ('NameCategoryCalculator', Transformer_CategoryCalculator),\n",
        "                              ('NameChangeCategoryCalculator', Transformer_ChangeCategoryCalculator), \n",
        "                              ('NameTransformer_IdGenerator', Transformer_IdGenerator)\n",
        "                              ])"
      ]
    },
    {
      "cell_type": "code",
      "execution_count": null,
      "metadata": {
        "application/vnd.databricks.v1+cell": {
          "cellMetadata": {
            "byteLimit": 2048000,
            "rowLimit": 10000
          },
          "inputWidgets": {},
          "nuid": "ea9065d9-daad-47e2-a2a5-066505129e88",
          "showTitle": false,
          "title": ""
        },
        "id": "nUtJT5XwuLen",
        "outputId": "1d2e38c2-bde0-4907-8f0c-77435e7770ce"
      },
      "outputs": [
        {
          "output_type": "display_data",
          "data": {
            "text/html": [
              "<div>\n<style scoped>\n    .dataframe tbody tr th:only-of-type {\n        vertical-align: middle;\n    }\n\n    .dataframe tbody tr th {\n        vertical-align: top;\n    }\n\n    .dataframe thead th {\n        text-align: right;\n    }\n</style>\n<table border=\"1\" class=\"dataframe\">\n  <thead>\n    <tr style=\"text-align: right;\">\n      <th></th>\n      <th>id_alert</th>\n      <th>rt</th>\n      <th>flight_date</th>\n      <th>snapshot_date_lw</th>\n      <th>snapshot_date_cw</th>\n      <th>rcs_lw</th>\n      <th>rcs_cw</th>\n      <th>rcs_delta_abs</th>\n      <th>category_lw</th>\n      <th>category_cw</th>\n      <th>competitor_lw</th>\n      <th>competitor_cw</th>\n      <th>total_asks_av_lw</th>\n      <th>total_asks_av_cw</th>\n      <th>max_asks_competitor_lw</th>\n      <th>max_asks_competitor_cw</th>\n      <th>median_asks_hist_av_lw</th>\n      <th>median_asks_hist_av_cw</th>\n      <th>median_lower_thresh_hist_av_lw</th>\n      <th>median_lower_thresh_hist_av_cw</th>\n      <th>median_upper_thresh_hist_av_lw</th>\n      <th>median_upper_thresh_hist_av_cw</th>\n      <th>median_asks_hist_competitor_lw</th>\n      <th>median_asks_hist_competitor_cw</th>\n      <th>median_lower_thresh_hist_competitor_lw</th>\n      <th>median_lower_thresh_hist_competitor_cw</th>\n      <th>median_upper_thresh_hist_competitor_lw</th>\n      <th>median_upper_thresh_hist_competitor_cw</th>\n      <th>change</th>\n    </tr>\n  </thead>\n  <tbody>\n    <tr>\n      <th>0</th>\n      <td>20230115MDERCH202302</td>\n      <td>MDERCH</td>\n      <td>202302</td>\n      <td>20230108</td>\n      <td>20230115</td>\n      <td>2.00</td>\n      <td>0.92</td>\n      <td>1.08</td>\n      <td>Leader</td>\n      <td>Follower</td>\n      <td>VH</td>\n      <td>VH</td>\n      <td>3763547.52</td>\n      <td>1735413.58</td>\n      <td>1881773.76</td>\n      <td>1881773.76</td>\n      <td>3159811.72</td>\n      <td>3159811.72</td>\n      <td>6.319623e+05</td>\n      <td>6.319623e+05</td>\n      <td>5.687661e+06</td>\n      <td>5.687661e+06</td>\n      <td>2822660.64</td>\n      <td>2822660.64</td>\n      <td>5.645321e+05</td>\n      <td>5.645321e+05</td>\n      <td>5.080789e+06</td>\n      <td>5.080789e+06</td>\n      <td>Downgrade</td>\n    </tr>\n    <tr>\n      <th>1</th>\n      <td>20230115CLOSMR202311</td>\n      <td>CLOSMR</td>\n      <td>202311</td>\n      <td>20230108</td>\n      <td>20230115</td>\n      <td>0.77</td>\n      <td>1.83</td>\n      <td>1.06</td>\n      <td>Follower</td>\n      <td>Leader</td>\n      <td>VH</td>\n      <td>LA</td>\n      <td>9403075.20</td>\n      <td>9403075.20</td>\n      <td>12223997.76</td>\n      <td>5150795.66</td>\n      <td>8744860.06</td>\n      <td>8744860.06</td>\n      <td>1.748972e+06</td>\n      <td>1.748972e+06</td>\n      <td>1.574075e+07</td>\n      <td>1.574075e+07</td>\n      <td>10970254.40</td>\n      <td>5150795.66</td>\n      <td>2.194051e+06</td>\n      <td>1.030159e+06</td>\n      <td>1.974646e+07</td>\n      <td>9.271432e+06</td>\n      <td>Upgrade</td>\n    </tr>\n    <tr>\n      <th>2</th>\n      <td>20230115CLOSMR202312</td>\n      <td>CLOSMR</td>\n      <td>202312</td>\n      <td>20230108</td>\n      <td>20230115</td>\n      <td>0.79</td>\n      <td>1.78</td>\n      <td>0.99</td>\n      <td>Follower</td>\n      <td>Leader</td>\n      <td>VH</td>\n      <td>LA</td>\n      <td>9716511.04</td>\n      <td>9716511.04</td>\n      <td>12223997.76</td>\n      <td>5453783.64</td>\n      <td>8744860.06</td>\n      <td>8744860.06</td>\n      <td>1.748972e+06</td>\n      <td>1.748972e+06</td>\n      <td>1.574075e+07</td>\n      <td>1.574075e+07</td>\n      <td>10970254.40</td>\n      <td>5150795.66</td>\n      <td>2.194051e+06</td>\n      <td>1.030159e+06</td>\n      <td>1.974646e+07</td>\n      <td>9.271432e+06</td>\n      <td>Upgrade</td>\n    </tr>\n    <tr>\n      <th>3</th>\n      <td>20230115BGACTG202302</td>\n      <td>BGACTG</td>\n      <td>202302</td>\n      <td>20230108</td>\n      <td>20230115</td>\n      <td>1.25</td>\n      <td>0.38</td>\n      <td>0.87</td>\n      <td>Co_Leader</td>\n      <td>Bottom_Feeder</td>\n      <td>U0</td>\n      <td>U0</td>\n      <td>3256024.80</td>\n      <td>976807.44</td>\n      <td>2604819.84</td>\n      <td>2604819.84</td>\n      <td>3256024.80</td>\n      <td>3256024.80</td>\n      <td>6.512050e+05</td>\n      <td>6.512050e+05</td>\n      <td>5.860845e+06</td>\n      <td>5.860845e+06</td>\n      <td>2767621.08</td>\n      <td>2767621.08</td>\n      <td>5.535242e+05</td>\n      <td>5.535242e+05</td>\n      <td>4.981718e+06</td>\n      <td>4.981718e+06</td>\n      <td>Downgrade</td>\n    </tr>\n    <tr>\n      <th>4</th>\n      <td>20230115GYEJFK202312</td>\n      <td>GYEJFK</td>\n      <td>202312</td>\n      <td>20230108</td>\n      <td>20230115</td>\n      <td>1.80</td>\n      <td>1.01</td>\n      <td>0.79</td>\n      <td>Leader</td>\n      <td>Co_Leader</td>\n      <td>B6</td>\n      <td>B6</td>\n      <td>30962362.32</td>\n      <td>30962362.32</td>\n      <td>17201312.46</td>\n      <td>30580111.04</td>\n      <td>30388985.24</td>\n      <td>30388985.24</td>\n      <td>6.077797e+06</td>\n      <td>6.077797e+06</td>\n      <td>5.470017e+07</td>\n      <td>5.470017e+07</td>\n      <td>59248965.14</td>\n      <td>59248965.14</td>\n      <td>1.184979e+07</td>\n      <td>1.184979e+07</td>\n      <td>1.066481e+08</td>\n      <td>1.066481e+08</td>\n      <td>Downgrade</td>\n    </tr>\n    <tr>\n      <th>5</th>\n      <td>20230115CTGPEI202311</td>\n      <td>CTGPEI</td>\n      <td>202311</td>\n      <td>20230108</td>\n      <td>20230115</td>\n      <td>0.89</td>\n      <td>1.67</td>\n      <td>0.78</td>\n      <td>Follower</td>\n      <td>Leader</td>\n      <td>VH</td>\n      <td>VH</td>\n      <td>11210690.40</td>\n      <td>11210690.40</td>\n      <td>12555972.80</td>\n      <td>6726414.00</td>\n      <td>11434904.16</td>\n      <td>11434904.16</td>\n      <td>2.286981e+06</td>\n      <td>2.286981e+06</td>\n      <td>2.058283e+07</td>\n      <td>2.058283e+07</td>\n      <td>8520124.40</td>\n      <td>8520124.40</td>\n      <td>1.704025e+06</td>\n      <td>1.704025e+06</td>\n      <td>1.533622e+07</td>\n      <td>1.533622e+07</td>\n      <td>Upgrade</td>\n    </tr>\n    <tr>\n      <th>6</th>\n      <td>20230115CTGPEI202312</td>\n      <td>CTGPEI</td>\n      <td>202312</td>\n      <td>20230108</td>\n      <td>20230115</td>\n      <td>0.92</td>\n      <td>1.67</td>\n      <td>0.75</td>\n      <td>Follower</td>\n      <td>Leader</td>\n      <td>VH</td>\n      <td>VH</td>\n      <td>11584380.08</td>\n      <td>11584380.08</td>\n      <td>12555972.80</td>\n      <td>6950627.80</td>\n      <td>11434904.16</td>\n      <td>11434904.16</td>\n      <td>2.286981e+06</td>\n      <td>2.286981e+06</td>\n      <td>2.058283e+07</td>\n      <td>2.058283e+07</td>\n      <td>8520124.40</td>\n      <td>8520124.40</td>\n      <td>1.704025e+06</td>\n      <td>1.704025e+06</td>\n      <td>1.533622e+07</td>\n      <td>1.533622e+07</td>\n      <td>Upgrade</td>\n    </tr>\n    <tr>\n      <th>7</th>\n      <td>20230115CTGJFK202312</td>\n      <td>CTGJFK</td>\n      <td>202312</td>\n      <td>20230108</td>\n      <td>20230115</td>\n      <td>1.67</td>\n      <td>0.94</td>\n      <td>0.73</td>\n      <td>Leader</td>\n      <td>Follower</td>\n      <td>B6</td>\n      <td>B6</td>\n      <td>16276358.16</td>\n      <td>16276358.16</td>\n      <td>9765814.86</td>\n      <td>17361448.64</td>\n      <td>16276358.16</td>\n      <td>16276358.16</td>\n      <td>3.255272e+06</td>\n      <td>3.255272e+06</td>\n      <td>2.929744e+07</td>\n      <td>2.929744e+07</td>\n      <td>33637806.74</td>\n      <td>33637806.74</td>\n      <td>6.727561e+06</td>\n      <td>6.727561e+06</td>\n      <td>6.054805e+07</td>\n      <td>6.054805e+07</td>\n      <td>Downgrade</td>\n    </tr>\n    <tr>\n      <th>8</th>\n      <td>20230115CLOPSO202301</td>\n      <td>CLOPSO</td>\n      <td>202301</td>\n      <td>20230108</td>\n      <td>20230115</td>\n      <td>1.83</td>\n      <td>1.15</td>\n      <td>0.68</td>\n      <td>Leader</td>\n      <td>Co_Leader</td>\n      <td>VE</td>\n      <td>VE</td>\n      <td>2672090.52</td>\n      <td>2851693.32</td>\n      <td>1460769.44</td>\n      <td>2478518.64</td>\n      <td>2366266.89</td>\n      <td>2366266.89</td>\n      <td>4.732534e+05</td>\n      <td>4.732534e+05</td>\n      <td>4.259280e+06</td>\n      <td>4.259280e+06</td>\n      <td>1269193.12</td>\n      <td>1269193.12</td>\n      <td>2.538386e+05</td>\n      <td>2.538386e+05</td>\n      <td>2.284548e+06</td>\n      <td>2.284548e+06</td>\n      <td>Downgrade</td>\n    </tr>\n    <tr>\n      <th>9</th>\n      <td>20230115CLOCTG202302</td>\n      <td>CLOCTG</td>\n      <td>202302</td>\n      <td>20230108</td>\n      <td>20230115</td>\n      <td>0.81</td>\n      <td>0.30</td>\n      <td>0.51</td>\n      <td>Follower</td>\n      <td>Bottom_Feeder</td>\n      <td>LA</td>\n      <td>LA</td>\n      <td>8308077.60</td>\n      <td>3046295.12</td>\n      <td>10223551.01</td>\n      <td>10223551.01</td>\n      <td>20770194.00</td>\n      <td>20770194.00</td>\n      <td>4.154039e+06</td>\n      <td>4.154039e+06</td>\n      <td>3.738635e+07</td>\n      <td>3.738635e+07</td>\n      <td>11779007.68</td>\n      <td>11779007.68</td>\n      <td>2.355802e+06</td>\n      <td>2.355802e+06</td>\n      <td>2.120221e+07</td>\n      <td>2.120221e+07</td>\n      <td>Downgrade</td>\n    </tr>\n    <tr>\n      <th>10</th>\n      <td>20230115BGAMDE202302</td>\n      <td>BGAMDE</td>\n      <td>202302</td>\n      <td>20230108</td>\n      <td>20230115</td>\n      <td>0.98</td>\n      <td>0.52</td>\n      <td>0.46</td>\n      <td>Follower</td>\n      <td>Challenger</td>\n      <td>LA</td>\n      <td>LA</td>\n      <td>3939674.40</td>\n      <td>2101159.68</td>\n      <td>4038166.20</td>\n      <td>4038166.20</td>\n      <td>3155022.36</td>\n      <td>3155022.36</td>\n      <td>6.310045e+05</td>\n      <td>6.310045e+05</td>\n      <td>5.679040e+06</td>\n      <td>5.679040e+06</td>\n      <td>4307377.28</td>\n      <td>4307377.28</td>\n      <td>8.614755e+05</td>\n      <td>8.614755e+05</td>\n      <td>7.753279e+06</td>\n      <td>7.753279e+06</td>\n      <td>Downgrade</td>\n    </tr>\n    <tr>\n      <th>11</th>\n      <td>20230115MDESMR202311</td>\n      <td>MDESMR</td>\n      <td>202311</td>\n      <td>20230108</td>\n      <td>20230115</td>\n      <td>0.82</td>\n      <td>1.27</td>\n      <td>0.45</td>\n      <td>Follower</td>\n      <td>Co_Leader</td>\n      <td>VH</td>\n      <td>VH</td>\n      <td>23184209.32</td>\n      <td>23184209.32</td>\n      <td>28186050.26</td>\n      <td>18249960.60</td>\n      <td>22913839.20</td>\n      <td>22913839.20</td>\n      <td>4.582768e+06</td>\n      <td>4.582768e+06</td>\n      <td>4.124491e+07</td>\n      <td>4.124491e+07</td>\n      <td>28186050.26</td>\n      <td>28186050.26</td>\n      <td>5.637210e+06</td>\n      <td>5.637210e+06</td>\n      <td>5.073489e+07</td>\n      <td>5.073489e+07</td>\n      <td>Upgrade</td>\n    </tr>\n    <tr>\n      <th>12</th>\n      <td>20230115MDESMR202312</td>\n      <td>MDESMR</td>\n      <td>202312</td>\n      <td>20230108</td>\n      <td>20230115</td>\n      <td>0.86</td>\n      <td>1.27</td>\n      <td>0.41</td>\n      <td>Follower</td>\n      <td>Co_Leader</td>\n      <td>VH</td>\n      <td>VH</td>\n      <td>23927726.24</td>\n      <td>23927726.24</td>\n      <td>27983272.92</td>\n      <td>18858292.62</td>\n      <td>22913839.20</td>\n      <td>22913839.20</td>\n      <td>4.582768e+06</td>\n      <td>4.582768e+06</td>\n      <td>4.124491e+07</td>\n      <td>4.124491e+07</td>\n      <td>28186050.26</td>\n      <td>28186050.26</td>\n      <td>5.637210e+06</td>\n      <td>5.637210e+06</td>\n      <td>5.073489e+07</td>\n      <td>5.073489e+07</td>\n      <td>Upgrade</td>\n    </tr>\n    <tr>\n      <th>13</th>\n      <td>20230115CTGMDE202311</td>\n      <td>CTGMDE</td>\n      <td>202311</td>\n      <td>20230108</td>\n      <td>20230115</td>\n      <td>0.61</td>\n      <td>1.00</td>\n      <td>0.39</td>\n      <td>Challenger</td>\n      <td>Co_Leader</td>\n      <td>VH</td>\n      <td>VH</td>\n      <td>20439955.20</td>\n      <td>20439955.20</td>\n      <td>33725926.08</td>\n      <td>20439955.20</td>\n      <td>21447759.39</td>\n      <td>21447759.39</td>\n      <td>4.289552e+06</td>\n      <td>4.289552e+06</td>\n      <td>3.860597e+07</td>\n      <td>3.860597e+07</td>\n      <td>34918256.80</td>\n      <td>34918256.80</td>\n      <td>6.983651e+06</td>\n      <td>6.983651e+06</td>\n      <td>6.285286e+07</td>\n      <td>6.285286e+07</td>\n      <td>Upgrade</td>\n    </tr>\n    <tr>\n      <th>14</th>\n      <td>20230115GUAJFK202312</td>\n      <td>GUAJFK</td>\n      <td>202312</td>\n      <td>20230108</td>\n      <td>20230115</td>\n      <td>0.90</td>\n      <td>0.51</td>\n      <td>0.39</td>\n      <td>Follower</td>\n      <td>Challenger</td>\n      <td>B6</td>\n      <td>B6</td>\n      <td>10736191.44</td>\n      <td>10736191.44</td>\n      <td>11929101.48</td>\n      <td>21207291.52</td>\n      <td>10736191.44</td>\n      <td>10736191.44</td>\n      <td>2.147238e+06</td>\n      <td>2.147238e+06</td>\n      <td>1.932514e+07</td>\n      <td>1.932514e+07</td>\n      <td>39763671.60</td>\n      <td>39763671.60</td>\n      <td>7.952734e+06</td>\n      <td>7.952734e+06</td>\n      <td>7.157461e+07</td>\n      <td>7.157461e+07</td>\n      <td>Downgrade</td>\n    </tr>\n    <tr>\n      <th>15</th>\n      <td>20230115CTGMDE202312</td>\n      <td>CTGMDE</td>\n      <td>202312</td>\n      <td>20230108</td>\n      <td>20230115</td>\n      <td>0.62</td>\n      <td>1.00</td>\n      <td>0.38</td>\n      <td>Challenger</td>\n      <td>Co_Leader</td>\n      <td>VH</td>\n      <td>VH</td>\n      <td>21121287.04</td>\n      <td>21121287.04</td>\n      <td>33896259.04</td>\n      <td>21121287.04</td>\n      <td>21447759.39</td>\n      <td>21447759.39</td>\n      <td>4.289552e+06</td>\n      <td>4.289552e+06</td>\n      <td>3.860597e+07</td>\n      <td>3.860597e+07</td>\n      <td>34918256.80</td>\n      <td>34918256.80</td>\n      <td>6.983651e+06</td>\n      <td>6.983651e+06</td>\n      <td>6.285286e+07</td>\n      <td>6.285286e+07</td>\n      <td>Upgrade</td>\n    </tr>\n    <tr>\n      <th>16</th>\n      <td>20230115MDESMR202302</td>\n      <td>MDESMR</td>\n      <td>202302</td>\n      <td>20230108</td>\n      <td>20230115</td>\n      <td>0.87</td>\n      <td>0.51</td>\n      <td>0.36</td>\n      <td>Follower</td>\n      <td>Challenger</td>\n      <td>VH</td>\n      <td>VH</td>\n      <td>17033296.56</td>\n      <td>10814791.48</td>\n      <td>19669401.98</td>\n      <td>21291620.70</td>\n      <td>22913839.20</td>\n      <td>22913839.20</td>\n      <td>4.582768e+06</td>\n      <td>4.582768e+06</td>\n      <td>4.124491e+07</td>\n      <td>4.124491e+07</td>\n      <td>28186050.26</td>\n      <td>28186050.26</td>\n      <td>5.637210e+06</td>\n      <td>5.637210e+06</td>\n      <td>5.073489e+07</td>\n      <td>5.073489e+07</td>\n      <td>Downgrade</td>\n    </tr>\n    <tr>\n      <th>17</th>\n      <td>20230115ADZBOG202303</td>\n      <td>ADZBOG</td>\n      <td>202303</td>\n      <td>20230108</td>\n      <td>20230115</td>\n      <td>1.48</td>\n      <td>1.81</td>\n      <td>0.33</td>\n      <td>Co_Leader</td>\n      <td>Leader</td>\n      <td>LA</td>\n      <td>LA</td>\n      <td>54083846.88</td>\n      <td>54083846.88</td>\n      <td>36503707.00</td>\n      <td>29844344.56</td>\n      <td>53737154.40</td>\n      <td>53737154.40</td>\n      <td>1.074743e+07</td>\n      <td>1.074743e+07</td>\n      <td>9.672688e+07</td>\n      <td>9.672688e+07</td>\n      <td>37406549.00</td>\n      <td>37406549.00</td>\n      <td>7.481310e+06</td>\n      <td>7.481310e+06</td>\n      <td>6.733179e+07</td>\n      <td>6.733179e+07</td>\n      <td>Upgrade</td>\n    </tr>\n    <tr>\n      <th>18</th>\n      <td>20230115GUASAL202302</td>\n      <td>GUASAL</td>\n      <td>202302</td>\n      <td>20230108</td>\n      <td>20230115</td>\n      <td>1.62</td>\n      <td>1.37</td>\n      <td>0.25</td>\n      <td>Leader</td>\n      <td>Co_Leader</td>\n      <td>IB</td>\n      <td>IB</td>\n      <td>2654760.98</td>\n      <td>2238661.76</td>\n      <td>1635196.64</td>\n      <td>1635196.64</td>\n      <td>2654760.98</td>\n      <td>2654760.98</td>\n      <td>5.309522e+05</td>\n      <td>5.309522e+05</td>\n      <td>4.778570e+06</td>\n      <td>4.778570e+06</td>\n      <td>1751996.40</td>\n      <td>1751996.40</td>\n      <td>3.503993e+05</td>\n      <td>3.503993e+05</td>\n      <td>3.153594e+06</td>\n      <td>3.153594e+06</td>\n      <td>Downgrade</td>\n    </tr>\n    <tr>\n      <th>19</th>\n      <td>20230115GUASAP202302</td>\n      <td>GUASAP</td>\n      <td>202302</td>\n      <td>20230108</td>\n      <td>20230115</td>\n      <td>1.22</td>\n      <td>0.97</td>\n      <td>0.25</td>\n      <td>Co_Leader</td>\n      <td>Follower</td>\n      <td>CC</td>\n      <td>CC</td>\n      <td>1293449.04</td>\n      <td>1030495.18</td>\n      <td>1058922.68</td>\n      <td>1058922.68</td>\n      <td>1385838.22</td>\n      <td>1385838.22</td>\n      <td>2.771676e+05</td>\n      <td>2.771676e+05</td>\n      <td>2.494509e+06</td>\n      <td>2.494509e+06</td>\n      <td>1132952.51</td>\n      <td>1132952.51</td>\n      <td>2.265905e+05</td>\n      <td>2.265905e+05</td>\n      <td>2.039315e+06</td>\n      <td>2.039315e+06</td>\n      <td>Downgrade</td>\n    </tr>\n    <tr>\n      <th>20</th>\n      <td>20230115CTGMDE202302</td>\n      <td>CTGMDE</td>\n      <td>202302</td>\n      <td>20230108</td>\n      <td>20230115</td>\n      <td>0.88</td>\n      <td>0.64</td>\n      <td>0.24</td>\n      <td>Follower</td>\n      <td>Challenger</td>\n      <td>VH</td>\n      <td>VH</td>\n      <td>22256840.48</td>\n      <td>16238409.24</td>\n      <td>25379611.04</td>\n      <td>25379611.04</td>\n      <td>21447759.39</td>\n      <td>21447759.39</td>\n      <td>4.289552e+06</td>\n      <td>4.289552e+06</td>\n      <td>3.860597e+07</td>\n      <td>3.860597e+07</td>\n      <td>34918256.80</td>\n      <td>34918256.80</td>\n      <td>6.983651e+06</td>\n      <td>6.983651e+06</td>\n      <td>6.285286e+07</td>\n      <td>6.285286e+07</td>\n      <td>Downgrade</td>\n    </tr>\n    <tr>\n      <th>21</th>\n      <td>20230115MDEMIA202302</td>\n      <td>MDEMIA</td>\n      <td>202302</td>\n      <td>20230108</td>\n      <td>20230115</td>\n      <td>0.52</td>\n      <td>0.30</td>\n      <td>0.22</td>\n      <td>Challenger</td>\n      <td>Bottom_Feeder</td>\n      <td>AA</td>\n      <td>AA</td>\n      <td>22500173.92</td>\n      <td>12857242.24</td>\n      <td>43000332.48</td>\n      <td>43000332.48</td>\n      <td>24910906.84</td>\n      <td>24910906.84</td>\n      <td>4.982181e+06</td>\n      <td>4.982181e+06</td>\n      <td>4.483963e+07</td>\n      <td>4.483963e+07</td>\n      <td>69107677.20</td>\n      <td>69107677.20</td>\n      <td>1.382154e+07</td>\n      <td>1.382154e+07</td>\n      <td>1.243938e+08</td>\n      <td>1.243938e+08</td>\n      <td>Downgrade</td>\n    </tr>\n    <tr>\n      <th>22</th>\n      <td>20230115MDEMEX202311</td>\n      <td>MDEMEX</td>\n      <td>202311</td>\n      <td>20230108</td>\n      <td>20230115</td>\n      <td>0.22</td>\n      <td>0.43</td>\n      <td>0.21</td>\n      <td>Bottom_Feeder</td>\n      <td>Challenger</td>\n      <td>VH</td>\n      <td>VH</td>\n      <td>13813192.64</td>\n      <td>13813192.64</td>\n      <td>63753196.80</td>\n      <td>31876598.40</td>\n      <td>15371604.08</td>\n      <td>15371604.08</td>\n      <td>3.074321e+06</td>\n      <td>3.074321e+06</td>\n      <td>2.766889e+07</td>\n      <td>2.766889e+07</td>\n      <td>59502983.68</td>\n      <td>59502983.68</td>\n      <td>1.190060e+07</td>\n      <td>1.190060e+07</td>\n      <td>1.071054e+08</td>\n      <td>1.071054e+08</td>\n      <td>Upgrade</td>\n    </tr>\n    <tr>\n      <th>23</th>\n      <td>20230115MDEMEX202312</td>\n      <td>MDEMEX</td>\n      <td>202312</td>\n      <td>20230108</td>\n      <td>20230115</td>\n      <td>0.21</td>\n      <td>0.42</td>\n      <td>0.21</td>\n      <td>Bottom_Feeder</td>\n      <td>Challenger</td>\n      <td>VH</td>\n      <td>VH</td>\n      <td>13813192.64</td>\n      <td>13813192.64</td>\n      <td>65878303.36</td>\n      <td>32939151.68</td>\n      <td>15371604.08</td>\n      <td>15371604.08</td>\n      <td>3.074321e+06</td>\n      <td>3.074321e+06</td>\n      <td>2.766889e+07</td>\n      <td>2.766889e+07</td>\n      <td>59502983.68</td>\n      <td>59502983.68</td>\n      <td>1.190060e+07</td>\n      <td>1.190060e+07</td>\n      <td>1.071054e+08</td>\n      <td>1.071054e+08</td>\n      <td>Upgrade</td>\n    </tr>\n    <tr>\n      <th>24</th>\n      <td>20230115MDEPUJ202302</td>\n      <td>MDEPUJ</td>\n      <td>202302</td>\n      <td>20230108</td>\n      <td>20230115</td>\n      <td>1.00</td>\n      <td>0.79</td>\n      <td>0.21</td>\n      <td>Co_Leader</td>\n      <td>Follower</td>\n      <td>VH</td>\n      <td>VH</td>\n      <td>15832854.80</td>\n      <td>12440100.20</td>\n      <td>15832854.80</td>\n      <td>15832854.80</td>\n      <td>17529232.10</td>\n      <td>17529232.10</td>\n      <td>3.505846e+06</td>\n      <td>3.505846e+06</td>\n      <td>3.155262e+07</td>\n      <td>3.155262e+07</td>\n      <td>17529232.10</td>\n      <td>17529232.10</td>\n      <td>3.505846e+06</td>\n      <td>3.505846e+06</td>\n      <td>3.155262e+07</td>\n      <td>3.155262e+07</td>\n      <td>Downgrade</td>\n    </tr>\n    <tr>\n      <th>25</th>\n      <td>20230115CUNMDE202303</td>\n      <td>CUNMDE</td>\n      <td>202303</td>\n      <td>20230108</td>\n      <td>20230115</td>\n      <td>0.82</td>\n      <td>1.01</td>\n      <td>0.19</td>\n      <td>Follower</td>\n      <td>Co_Leader</td>\n      <td>VH</td>\n      <td>VH</td>\n      <td>23101322.28</td>\n      <td>23101322.28</td>\n      <td>28136226.00</td>\n      <td>22953237.00</td>\n      <td>22953236.40</td>\n      <td>22953236.40</td>\n      <td>4.590647e+06</td>\n      <td>4.590647e+06</td>\n      <td>4.131583e+07</td>\n      <td>4.131583e+07</td>\n      <td>22953237.00</td>\n      <td>22953237.00</td>\n      <td>4.590647e+06</td>\n      <td>4.590647e+06</td>\n      <td>4.131583e+07</td>\n      <td>4.131583e+07</td>\n      <td>Upgrade</td>\n    </tr>\n    <tr>\n      <th>26</th>\n      <td>20230115BOGSDQ202312</td>\n      <td>BOGSDQ</td>\n      <td>202312</td>\n      <td>20230108</td>\n      <td>20230115</td>\n      <td>0.97</td>\n      <td>1.15</td>\n      <td>0.18</td>\n      <td>Follower</td>\n      <td>Co_Leader</td>\n      <td>P5</td>\n      <td>P5</td>\n      <td>17798636.36</td>\n      <td>17798636.36</td>\n      <td>18391924.28</td>\n      <td>15425484.88</td>\n      <td>21243533.78</td>\n      <td>21243533.78</td>\n      <td>4.248707e+06</td>\n      <td>4.248707e+06</td>\n      <td>3.823836e+07</td>\n      <td>3.823836e+07</td>\n      <td>14015628.64</td>\n      <td>14015628.64</td>\n      <td>2.803126e+06</td>\n      <td>2.803126e+06</td>\n      <td>2.522813e+07</td>\n      <td>2.522813e+07</td>\n      <td>Upgrade</td>\n    </tr>\n    <tr>\n      <th>27</th>\n      <td>20230115CUCMDE202302</td>\n      <td>CUCMDE</td>\n      <td>202302</td>\n      <td>20230108</td>\n      <td>20230115</td>\n      <td>0.44</td>\n      <td>0.26</td>\n      <td>0.18</td>\n      <td>Challenger</td>\n      <td>Bottom_Feeder</td>\n      <td>VH</td>\n      <td>VH</td>\n      <td>3795991.92</td>\n      <td>2259519.00</td>\n      <td>8540981.82</td>\n      <td>8540981.82</td>\n      <td>4121362.68</td>\n      <td>4121362.68</td>\n      <td>8.242725e+05</td>\n      <td>8.242725e+05</td>\n      <td>7.418453e+06</td>\n      <td>7.418453e+06</td>\n      <td>8676552.96</td>\n      <td>8676552.96</td>\n      <td>1.735311e+06</td>\n      <td>1.735311e+06</td>\n      <td>1.561780e+07</td>\n      <td>1.561780e+07</td>\n      <td>Downgrade</td>\n    </tr>\n    <tr>\n      <th>28</th>\n      <td>20230115CUNMDE202312</td>\n      <td>CUNMDE</td>\n      <td>202312</td>\n      <td>20230108</td>\n      <td>20230115</td>\n      <td>1.02</td>\n      <td>0.85</td>\n      <td>0.17</td>\n      <td>Co_Leader</td>\n      <td>Follower</td>\n      <td>VH</td>\n      <td>VH</td>\n      <td>19621315.50</td>\n      <td>19621315.50</td>\n      <td>19251102.00</td>\n      <td>22953237.00</td>\n      <td>22953236.40</td>\n      <td>22953236.40</td>\n      <td>4.590647e+06</td>\n      <td>4.590647e+06</td>\n      <td>4.131583e+07</td>\n      <td>4.131583e+07</td>\n      <td>22953237.00</td>\n      <td>22953237.00</td>\n      <td>4.590647e+06</td>\n      <td>4.590647e+06</td>\n      <td>4.131583e+07</td>\n      <td>4.131583e+07</td>\n      <td>Downgrade</td>\n    </tr>\n    <tr>\n      <th>29</th>\n      <td>20230115MDESMR202303</td>\n      <td>MDESMR</td>\n      <td>202303</td>\n      <td>20230108</td>\n      <td>20230115</td>\n      <td>0.66</td>\n      <td>0.83</td>\n      <td>0.17</td>\n      <td>Challenger</td>\n      <td>Follower</td>\n      <td>VH</td>\n      <td>VH</td>\n      <td>19791068.34</td>\n      <td>19791068.34</td>\n      <td>30011046.32</td>\n      <td>23724948.78</td>\n      <td>22913839.20</td>\n      <td>22913839.20</td>\n      <td>4.582768e+06</td>\n      <td>4.582768e+06</td>\n      <td>4.124491e+07</td>\n      <td>4.124491e+07</td>\n      <td>28186050.26</td>\n      <td>28186050.26</td>\n      <td>5.637210e+06</td>\n      <td>5.637210e+06</td>\n      <td>5.073489e+07</td>\n      <td>5.073489e+07</td>\n      <td>Upgrade</td>\n    </tr>\n    <tr>\n      <th>30</th>\n      <td>20230115BOGSDQ202311</td>\n      <td>BOGSDQ</td>\n      <td>202311</td>\n      <td>20230108</td>\n      <td>20230115</td>\n      <td>0.97</td>\n      <td>1.12</td>\n      <td>0.15</td>\n      <td>Follower</td>\n      <td>Co_Leader</td>\n      <td>P5</td>\n      <td>P5</td>\n      <td>17224486.80</td>\n      <td>17224486.80</td>\n      <td>17798636.40</td>\n      <td>15425484.88</td>\n      <td>21243533.78</td>\n      <td>21243533.78</td>\n      <td>4.248707e+06</td>\n      <td>4.248707e+06</td>\n      <td>3.823836e+07</td>\n      <td>3.823836e+07</td>\n      <td>14015628.64</td>\n      <td>14015628.64</td>\n      <td>2.803126e+06</td>\n      <td>2.803126e+06</td>\n      <td>2.522813e+07</td>\n      <td>2.522813e+07</td>\n      <td>Upgrade</td>\n    </tr>\n    <tr>\n      <th>31</th>\n      <td>20230115CUNMDE202311</td>\n      <td>CUNMDE</td>\n      <td>202311</td>\n      <td>20230108</td>\n      <td>20230115</td>\n      <td>1.02</td>\n      <td>0.88</td>\n      <td>0.14</td>\n      <td>Co_Leader</td>\n      <td>Follower</td>\n      <td>VH</td>\n      <td>VH</td>\n      <td>19621315.50</td>\n      <td>19621315.50</td>\n      <td>19251102.00</td>\n      <td>22212810.00</td>\n      <td>22953236.40</td>\n      <td>22953236.40</td>\n      <td>4.590647e+06</td>\n      <td>4.590647e+06</td>\n      <td>4.131583e+07</td>\n      <td>4.131583e+07</td>\n      <td>22953237.00</td>\n      <td>22953237.00</td>\n      <td>4.590647e+06</td>\n      <td>4.590647e+06</td>\n      <td>4.131583e+07</td>\n      <td>4.131583e+07</td>\n      <td>Downgrade</td>\n    </tr>\n    <tr>\n      <th>32</th>\n      <td>20230115CLOCUC202310</td>\n      <td>CLOCUC</td>\n      <td>202310</td>\n      <td>20230108</td>\n      <td>20230115</td>\n      <td>1.38</td>\n      <td>1.50</td>\n      <td>0.12</td>\n      <td>Co_Leader</td>\n      <td>Leader</td>\n      <td>VH</td>\n      <td>VH</td>\n      <td>4192276.68</td>\n      <td>4192276.68</td>\n      <td>3027755.38</td>\n      <td>2794851.12</td>\n      <td>3959372.42</td>\n      <td>3959372.42</td>\n      <td>7.918745e+05</td>\n      <td>7.918745e+05</td>\n      <td>7.126870e+06</td>\n      <td>7.126870e+06</td>\n      <td>3027755.38</td>\n      <td>3027755.38</td>\n      <td>6.055511e+05</td>\n      <td>6.055511e+05</td>\n      <td>5.449960e+06</td>\n      <td>5.449960e+06</td>\n      <td>Upgrade</td>\n    </tr>\n    <tr>\n      <th>33</th>\n      <td>20230115BOGFLA202301</td>\n      <td>BOGFLA</td>\n      <td>202301</td>\n      <td>20230108</td>\n      <td>20230115</td>\n      <td>0.89</td>\n      <td>1.00</td>\n      <td>0.11</td>\n      <td>Follower</td>\n      <td>Co_Leader</td>\n      <td>VE</td>\n      <td>VE</td>\n      <td>1633806.00</td>\n      <td>1633806.00</td>\n      <td>1825929.54</td>\n      <td>1626998.53</td>\n      <td>2723010.00</td>\n      <td>2723010.00</td>\n      <td>5.446020e+05</td>\n      <td>5.446020e+05</td>\n      <td>4.901418e+06</td>\n      <td>4.901418e+06</td>\n      <td>1673138.40</td>\n      <td>1673138.40</td>\n      <td>3.346277e+05</td>\n      <td>3.346277e+05</td>\n      <td>3.011649e+06</td>\n      <td>3.011649e+06</td>\n      <td>Upgrade</td>\n    </tr>\n    <tr>\n      <th>34</th>\n      <td>20230115GUAJFK202302</td>\n      <td>GUAJFK</td>\n      <td>202302</td>\n      <td>20230108</td>\n      <td>20230115</td>\n      <td>0.40</td>\n      <td>0.29</td>\n      <td>0.11</td>\n      <td>Challenger</td>\n      <td>Bottom_Feeder</td>\n      <td>B6</td>\n      <td>B6</td>\n      <td>14752322.18</td>\n      <td>10736191.44</td>\n      <td>37112760.16</td>\n      <td>37112760.16</td>\n      <td>10736191.44</td>\n      <td>10736191.44</td>\n      <td>2.147238e+06</td>\n      <td>2.147238e+06</td>\n      <td>1.932514e+07</td>\n      <td>1.932514e+07</td>\n      <td>39763671.60</td>\n      <td>39763671.60</td>\n      <td>7.952734e+06</td>\n      <td>7.952734e+06</td>\n      <td>7.157461e+07</td>\n      <td>7.157461e+07</td>\n      <td>Downgrade</td>\n    </tr>\n    <tr>\n      <th>35</th>\n      <td>20230115CLOCTG202310</td>\n      <td>CLOCTG</td>\n      <td>202310</td>\n      <td>20230108</td>\n      <td>20230115</td>\n      <td>1.45</td>\n      <td>1.54</td>\n      <td>0.09</td>\n      <td>Co_Leader</td>\n      <td>Leader</td>\n      <td>VH</td>\n      <td>VH</td>\n      <td>22108717.80</td>\n      <td>22108717.80</td>\n      <td>15231475.60</td>\n      <td>14400667.84</td>\n      <td>20770194.00</td>\n      <td>20770194.00</td>\n      <td>4.154039e+06</td>\n      <td>4.154039e+06</td>\n      <td>3.738635e+07</td>\n      <td>3.738635e+07</td>\n      <td>13015988.24</td>\n      <td>13015988.24</td>\n      <td>2.603198e+06</td>\n      <td>2.603198e+06</td>\n      <td>2.342878e+07</td>\n      <td>2.342878e+07</td>\n      <td>Upgrade</td>\n    </tr>\n    <tr>\n      <th>36</th>\n      <td>20230115GUASJO202302</td>\n      <td>GUASJO</td>\n      <td>202302</td>\n      <td>20230108</td>\n      <td>20230115</td>\n      <td>0.99</td>\n      <td>1.06</td>\n      <td>0.07</td>\n      <td>Follower</td>\n      <td>Co_Leader</td>\n      <td>Y4</td>\n      <td>Y4</td>\n      <td>14777080.34</td>\n      <td>15792299.60</td>\n      <td>14889882.72</td>\n      <td>14889882.72</td>\n      <td>12715877.60</td>\n      <td>12715877.60</td>\n      <td>2.543176e+06</td>\n      <td>2.543176e+06</td>\n      <td>2.288858e+07</td>\n      <td>2.288858e+07</td>\n      <td>14274598.08</td>\n      <td>14274598.08</td>\n      <td>2.854920e+06</td>\n      <td>2.854920e+06</td>\n      <td>2.569428e+07</td>\n      <td>2.569428e+07</td>\n      <td>Upgrade</td>\n    </tr>\n    <tr>\n      <th>37</th>\n      <td>20230115BOGLET202302</td>\n      <td>BOGLET</td>\n      <td>202302</td>\n      <td>20230108</td>\n      <td>20230115</td>\n      <td>0.66</td>\n      <td>0.72</td>\n      <td>0.06</td>\n      <td>Challenger</td>\n      <td>Follower</td>\n      <td>LA</td>\n      <td>LA</td>\n      <td>9936476.16</td>\n      <td>10982420.96</td>\n      <td>15166200.80</td>\n      <td>15166200.80</td>\n      <td>12159109.20</td>\n      <td>12159109.20</td>\n      <td>2.431822e+06</td>\n      <td>2.431822e+06</td>\n      <td>2.188640e+07</td>\n      <td>2.188640e+07</td>\n      <td>16159848.40</td>\n      <td>16159848.40</td>\n      <td>3.231970e+06</td>\n      <td>3.231970e+06</td>\n      <td>2.908773e+07</td>\n      <td>2.908773e+07</td>\n      <td>Upgrade</td>\n    </tr>\n    <tr>\n      <th>38</th>\n      <td>20230115CTGMDE202303</td>\n      <td>CTGMDE</td>\n      <td>202303</td>\n      <td>20230108</td>\n      <td>20230115</td>\n      <td>0.67</td>\n      <td>0.73</td>\n      <td>0.06</td>\n      <td>Challenger</td>\n      <td>Follower</td>\n      <td>VH</td>\n      <td>VH</td>\n      <td>24102114.54</td>\n      <td>24102114.54</td>\n      <td>35769921.60</td>\n      <td>33214927.20</td>\n      <td>21447759.39</td>\n      <td>21447759.39</td>\n      <td>4.289552e+06</td>\n      <td>4.289552e+06</td>\n      <td>3.860597e+07</td>\n      <td>3.860597e+07</td>\n      <td>34918256.80</td>\n      <td>34918256.80</td>\n      <td>6.983651e+06</td>\n      <td>6.983651e+06</td>\n      <td>6.285286e+07</td>\n      <td>6.285286e+07</td>\n      <td>Upgrade</td>\n    </tr>\n    <tr>\n      <th>39</th>\n      <td>20230115CLOSMR202310</td>\n      <td>CLOSMR</td>\n      <td>202310</td>\n      <td>20230108</td>\n      <td>20230115</td>\n      <td>0.66</td>\n      <td>0.71</td>\n      <td>0.05</td>\n      <td>Challenger</td>\n      <td>Follower</td>\n      <td>VH</td>\n      <td>VH</td>\n      <td>8838890.80</td>\n      <td>8838890.80</td>\n      <td>13477741.12</td>\n      <td>12537433.60</td>\n      <td>8744860.06</td>\n      <td>8744860.06</td>\n      <td>1.748972e+06</td>\n      <td>1.748972e+06</td>\n      <td>1.574075e+07</td>\n      <td>1.574075e+07</td>\n      <td>10970254.40</td>\n      <td>10970254.40</td>\n      <td>2.194051e+06</td>\n      <td>2.194051e+06</td>\n      <td>1.974646e+07</td>\n      <td>1.974646e+07</td>\n      <td>Upgrade</td>\n    </tr>\n    <tr>\n      <th>40</th>\n      <td>20230115CLOCUC202311</td>\n      <td>CLOCUC</td>\n      <td>202311</td>\n      <td>20230108</td>\n      <td>20230115</td>\n      <td>1.31</td>\n      <td>NaN</td>\n      <td>NaN</td>\n      <td>Co_Leader</td>\n      <td>Sole_Player</td>\n      <td>VH</td>\n      <td>NaN</td>\n      <td>3959372.42</td>\n      <td>3959372.42</td>\n      <td>3027755.38</td>\n      <td>NaN</td>\n      <td>3959372.42</td>\n      <td>3959372.42</td>\n      <td>7.918745e+05</td>\n      <td>7.918745e+05</td>\n      <td>7.126870e+06</td>\n      <td>7.126870e+06</td>\n      <td>3027755.38</td>\n      <td>NaN</td>\n      <td>6.055511e+05</td>\n      <td>NaN</td>\n      <td>5.449960e+06</td>\n      <td>NaN</td>\n      <td>Upgrade</td>\n    </tr>\n    <tr>\n      <th>41</th>\n      <td>20230115CLOCUC202312</td>\n      <td>CLOCUC</td>\n      <td>202312</td>\n      <td>20230108</td>\n      <td>20230115</td>\n      <td>1.38</td>\n      <td>NaN</td>\n      <td>NaN</td>\n      <td>Co_Leader</td>\n      <td>Sole_Player</td>\n      <td>VH</td>\n      <td>NaN</td>\n      <td>4192276.68</td>\n      <td>4192276.68</td>\n      <td>3027755.38</td>\n      <td>NaN</td>\n      <td>3959372.42</td>\n      <td>3959372.42</td>\n      <td>7.918745e+05</td>\n      <td>7.918745e+05</td>\n      <td>7.126870e+06</td>\n      <td>7.126870e+06</td>\n      <td>3027755.38</td>\n      <td>NaN</td>\n      <td>6.055511e+05</td>\n      <td>NaN</td>\n      <td>5.449960e+06</td>\n      <td>NaN</td>\n      <td>Upgrade</td>\n    </tr>\n  </tbody>\n</table>\n</div>"
            ]
          },
          "metadata": {
            "application/vnd.databricks.v1+output": {
              "addedWidgets": {},
              "arguments": {},
              "data": "<div>\n<style scoped>\n    .dataframe tbody tr th:only-of-type {\n        vertical-align: middle;\n    }\n\n    .dataframe tbody tr th {\n        vertical-align: top;\n    }\n\n    .dataframe thead th {\n        text-align: right;\n    }\n</style>\n<table border=\"1\" class=\"dataframe\">\n  <thead>\n    <tr style=\"text-align: right;\">\n      <th></th>\n      <th>id_alert</th>\n      <th>rt</th>\n      <th>flight_date</th>\n      <th>snapshot_date_lw</th>\n      <th>snapshot_date_cw</th>\n      <th>rcs_lw</th>\n      <th>rcs_cw</th>\n      <th>rcs_delta_abs</th>\n      <th>category_lw</th>\n      <th>category_cw</th>\n      <th>competitor_lw</th>\n      <th>competitor_cw</th>\n      <th>total_asks_av_lw</th>\n      <th>total_asks_av_cw</th>\n      <th>max_asks_competitor_lw</th>\n      <th>max_asks_competitor_cw</th>\n      <th>median_asks_hist_av_lw</th>\n      <th>median_asks_hist_av_cw</th>\n      <th>median_lower_thresh_hist_av_lw</th>\n      <th>median_lower_thresh_hist_av_cw</th>\n      <th>median_upper_thresh_hist_av_lw</th>\n      <th>median_upper_thresh_hist_av_cw</th>\n      <th>median_asks_hist_competitor_lw</th>\n      <th>median_asks_hist_competitor_cw</th>\n      <th>median_lower_thresh_hist_competitor_lw</th>\n      <th>median_lower_thresh_hist_competitor_cw</th>\n      <th>median_upper_thresh_hist_competitor_lw</th>\n      <th>median_upper_thresh_hist_competitor_cw</th>\n      <th>change</th>\n    </tr>\n  </thead>\n  <tbody>\n    <tr>\n      <th>0</th>\n      <td>20230115MDERCH202302</td>\n      <td>MDERCH</td>\n      <td>202302</td>\n      <td>20230108</td>\n      <td>20230115</td>\n      <td>2.00</td>\n      <td>0.92</td>\n      <td>1.08</td>\n      <td>Leader</td>\n      <td>Follower</td>\n      <td>VH</td>\n      <td>VH</td>\n      <td>3763547.52</td>\n      <td>1735413.58</td>\n      <td>1881773.76</td>\n      <td>1881773.76</td>\n      <td>3159811.72</td>\n      <td>3159811.72</td>\n      <td>6.319623e+05</td>\n      <td>6.319623e+05</td>\n      <td>5.687661e+06</td>\n      <td>5.687661e+06</td>\n      <td>2822660.64</td>\n      <td>2822660.64</td>\n      <td>5.645321e+05</td>\n      <td>5.645321e+05</td>\n      <td>5.080789e+06</td>\n      <td>5.080789e+06</td>\n      <td>Downgrade</td>\n    </tr>\n    <tr>\n      <th>1</th>\n      <td>20230115CLOSMR202311</td>\n      <td>CLOSMR</td>\n      <td>202311</td>\n      <td>20230108</td>\n      <td>20230115</td>\n      <td>0.77</td>\n      <td>1.83</td>\n      <td>1.06</td>\n      <td>Follower</td>\n      <td>Leader</td>\n      <td>VH</td>\n      <td>LA</td>\n      <td>9403075.20</td>\n      <td>9403075.20</td>\n      <td>12223997.76</td>\n      <td>5150795.66</td>\n      <td>8744860.06</td>\n      <td>8744860.06</td>\n      <td>1.748972e+06</td>\n      <td>1.748972e+06</td>\n      <td>1.574075e+07</td>\n      <td>1.574075e+07</td>\n      <td>10970254.40</td>\n      <td>5150795.66</td>\n      <td>2.194051e+06</td>\n      <td>1.030159e+06</td>\n      <td>1.974646e+07</td>\n      <td>9.271432e+06</td>\n      <td>Upgrade</td>\n    </tr>\n    <tr>\n      <th>2</th>\n      <td>20230115CLOSMR202312</td>\n      <td>CLOSMR</td>\n      <td>202312</td>\n      <td>20230108</td>\n      <td>20230115</td>\n      <td>0.79</td>\n      <td>1.78</td>\n      <td>0.99</td>\n      <td>Follower</td>\n      <td>Leader</td>\n      <td>VH</td>\n      <td>LA</td>\n      <td>9716511.04</td>\n      <td>9716511.04</td>\n      <td>12223997.76</td>\n      <td>5453783.64</td>\n      <td>8744860.06</td>\n      <td>8744860.06</td>\n      <td>1.748972e+06</td>\n      <td>1.748972e+06</td>\n      <td>1.574075e+07</td>\n      <td>1.574075e+07</td>\n      <td>10970254.40</td>\n      <td>5150795.66</td>\n      <td>2.194051e+06</td>\n      <td>1.030159e+06</td>\n      <td>1.974646e+07</td>\n      <td>9.271432e+06</td>\n      <td>Upgrade</td>\n    </tr>\n    <tr>\n      <th>3</th>\n      <td>20230115BGACTG202302</td>\n      <td>BGACTG</td>\n      <td>202302</td>\n      <td>20230108</td>\n      <td>20230115</td>\n      <td>1.25</td>\n      <td>0.38</td>\n      <td>0.87</td>\n      <td>Co_Leader</td>\n      <td>Bottom_Feeder</td>\n      <td>U0</td>\n      <td>U0</td>\n      <td>3256024.80</td>\n      <td>976807.44</td>\n      <td>2604819.84</td>\n      <td>2604819.84</td>\n      <td>3256024.80</td>\n      <td>3256024.80</td>\n      <td>6.512050e+05</td>\n      <td>6.512050e+05</td>\n      <td>5.860845e+06</td>\n      <td>5.860845e+06</td>\n      <td>2767621.08</td>\n      <td>2767621.08</td>\n      <td>5.535242e+05</td>\n      <td>5.535242e+05</td>\n      <td>4.981718e+06</td>\n      <td>4.981718e+06</td>\n      <td>Downgrade</td>\n    </tr>\n    <tr>\n      <th>4</th>\n      <td>20230115GYEJFK202312</td>\n      <td>GYEJFK</td>\n      <td>202312</td>\n      <td>20230108</td>\n      <td>20230115</td>\n      <td>1.80</td>\n      <td>1.01</td>\n      <td>0.79</td>\n      <td>Leader</td>\n      <td>Co_Leader</td>\n      <td>B6</td>\n      <td>B6</td>\n      <td>30962362.32</td>\n      <td>30962362.32</td>\n      <td>17201312.46</td>\n      <td>30580111.04</td>\n      <td>30388985.24</td>\n      <td>30388985.24</td>\n      <td>6.077797e+06</td>\n      <td>6.077797e+06</td>\n      <td>5.470017e+07</td>\n      <td>5.470017e+07</td>\n      <td>59248965.14</td>\n      <td>59248965.14</td>\n      <td>1.184979e+07</td>\n      <td>1.184979e+07</td>\n      <td>1.066481e+08</td>\n      <td>1.066481e+08</td>\n      <td>Downgrade</td>\n    </tr>\n    <tr>\n      <th>5</th>\n      <td>20230115CTGPEI202311</td>\n      <td>CTGPEI</td>\n      <td>202311</td>\n      <td>20230108</td>\n      <td>20230115</td>\n      <td>0.89</td>\n      <td>1.67</td>\n      <td>0.78</td>\n      <td>Follower</td>\n      <td>Leader</td>\n      <td>VH</td>\n      <td>VH</td>\n      <td>11210690.40</td>\n      <td>11210690.40</td>\n      <td>12555972.80</td>\n      <td>6726414.00</td>\n      <td>11434904.16</td>\n      <td>11434904.16</td>\n      <td>2.286981e+06</td>\n      <td>2.286981e+06</td>\n      <td>2.058283e+07</td>\n      <td>2.058283e+07</td>\n      <td>8520124.40</td>\n      <td>8520124.40</td>\n      <td>1.704025e+06</td>\n      <td>1.704025e+06</td>\n      <td>1.533622e+07</td>\n      <td>1.533622e+07</td>\n      <td>Upgrade</td>\n    </tr>\n    <tr>\n      <th>6</th>\n      <td>20230115CTGPEI202312</td>\n      <td>CTGPEI</td>\n      <td>202312</td>\n      <td>20230108</td>\n      <td>20230115</td>\n      <td>0.92</td>\n      <td>1.67</td>\n      <td>0.75</td>\n      <td>Follower</td>\n      <td>Leader</td>\n      <td>VH</td>\n      <td>VH</td>\n      <td>11584380.08</td>\n      <td>11584380.08</td>\n      <td>12555972.80</td>\n      <td>6950627.80</td>\n      <td>11434904.16</td>\n      <td>11434904.16</td>\n      <td>2.286981e+06</td>\n      <td>2.286981e+06</td>\n      <td>2.058283e+07</td>\n      <td>2.058283e+07</td>\n      <td>8520124.40</td>\n      <td>8520124.40</td>\n      <td>1.704025e+06</td>\n      <td>1.704025e+06</td>\n      <td>1.533622e+07</td>\n      <td>1.533622e+07</td>\n      <td>Upgrade</td>\n    </tr>\n    <tr>\n      <th>7</th>\n      <td>20230115CTGJFK202312</td>\n      <td>CTGJFK</td>\n      <td>202312</td>\n      <td>20230108</td>\n      <td>20230115</td>\n      <td>1.67</td>\n      <td>0.94</td>\n      <td>0.73</td>\n      <td>Leader</td>\n      <td>Follower</td>\n      <td>B6</td>\n      <td>B6</td>\n      <td>16276358.16</td>\n      <td>16276358.16</td>\n      <td>9765814.86</td>\n      <td>17361448.64</td>\n      <td>16276358.16</td>\n      <td>16276358.16</td>\n      <td>3.255272e+06</td>\n      <td>3.255272e+06</td>\n      <td>2.929744e+07</td>\n      <td>2.929744e+07</td>\n      <td>33637806.74</td>\n      <td>33637806.74</td>\n      <td>6.727561e+06</td>\n      <td>6.727561e+06</td>\n      <td>6.054805e+07</td>\n      <td>6.054805e+07</td>\n      <td>Downgrade</td>\n    </tr>\n    <tr>\n      <th>8</th>\n      <td>20230115CLOPSO202301</td>\n      <td>CLOPSO</td>\n      <td>202301</td>\n      <td>20230108</td>\n      <td>20230115</td>\n      <td>1.83</td>\n      <td>1.15</td>\n      <td>0.68</td>\n      <td>Leader</td>\n      <td>Co_Leader</td>\n      <td>VE</td>\n      <td>VE</td>\n      <td>2672090.52</td>\n      <td>2851693.32</td>\n      <td>1460769.44</td>\n      <td>2478518.64</td>\n      <td>2366266.89</td>\n      <td>2366266.89</td>\n      <td>4.732534e+05</td>\n      <td>4.732534e+05</td>\n      <td>4.259280e+06</td>\n      <td>4.259280e+06</td>\n      <td>1269193.12</td>\n      <td>1269193.12</td>\n      <td>2.538386e+05</td>\n      <td>2.538386e+05</td>\n      <td>2.284548e+06</td>\n      <td>2.284548e+06</td>\n      <td>Downgrade</td>\n    </tr>\n    <tr>\n      <th>9</th>\n      <td>20230115CLOCTG202302</td>\n      <td>CLOCTG</td>\n      <td>202302</td>\n      <td>20230108</td>\n      <td>20230115</td>\n      <td>0.81</td>\n      <td>0.30</td>\n      <td>0.51</td>\n      <td>Follower</td>\n      <td>Bottom_Feeder</td>\n      <td>LA</td>\n      <td>LA</td>\n      <td>8308077.60</td>\n      <td>3046295.12</td>\n      <td>10223551.01</td>\n      <td>10223551.01</td>\n      <td>20770194.00</td>\n      <td>20770194.00</td>\n      <td>4.154039e+06</td>\n      <td>4.154039e+06</td>\n      <td>3.738635e+07</td>\n      <td>3.738635e+07</td>\n      <td>11779007.68</td>\n      <td>11779007.68</td>\n      <td>2.355802e+06</td>\n      <td>2.355802e+06</td>\n      <td>2.120221e+07</td>\n      <td>2.120221e+07</td>\n      <td>Downgrade</td>\n    </tr>\n    <tr>\n      <th>10</th>\n      <td>20230115BGAMDE202302</td>\n      <td>BGAMDE</td>\n      <td>202302</td>\n      <td>20230108</td>\n      <td>20230115</td>\n      <td>0.98</td>\n      <td>0.52</td>\n      <td>0.46</td>\n      <td>Follower</td>\n      <td>Challenger</td>\n      <td>LA</td>\n      <td>LA</td>\n      <td>3939674.40</td>\n      <td>2101159.68</td>\n      <td>4038166.20</td>\n      <td>4038166.20</td>\n      <td>3155022.36</td>\n      <td>3155022.36</td>\n      <td>6.310045e+05</td>\n      <td>6.310045e+05</td>\n      <td>5.679040e+06</td>\n      <td>5.679040e+06</td>\n      <td>4307377.28</td>\n      <td>4307377.28</td>\n      <td>8.614755e+05</td>\n      <td>8.614755e+05</td>\n      <td>7.753279e+06</td>\n      <td>7.753279e+06</td>\n      <td>Downgrade</td>\n    </tr>\n    <tr>\n      <th>11</th>\n      <td>20230115MDESMR202311</td>\n      <td>MDESMR</td>\n      <td>202311</td>\n      <td>20230108</td>\n      <td>20230115</td>\n      <td>0.82</td>\n      <td>1.27</td>\n      <td>0.45</td>\n      <td>Follower</td>\n      <td>Co_Leader</td>\n      <td>VH</td>\n      <td>VH</td>\n      <td>23184209.32</td>\n      <td>23184209.32</td>\n      <td>28186050.26</td>\n      <td>18249960.60</td>\n      <td>22913839.20</td>\n      <td>22913839.20</td>\n      <td>4.582768e+06</td>\n      <td>4.582768e+06</td>\n      <td>4.124491e+07</td>\n      <td>4.124491e+07</td>\n      <td>28186050.26</td>\n      <td>28186050.26</td>\n      <td>5.637210e+06</td>\n      <td>5.637210e+06</td>\n      <td>5.073489e+07</td>\n      <td>5.073489e+07</td>\n      <td>Upgrade</td>\n    </tr>\n    <tr>\n      <th>12</th>\n      <td>20230115MDESMR202312</td>\n      <td>MDESMR</td>\n      <td>202312</td>\n      <td>20230108</td>\n      <td>20230115</td>\n      <td>0.86</td>\n      <td>1.27</td>\n      <td>0.41</td>\n      <td>Follower</td>\n      <td>Co_Leader</td>\n      <td>VH</td>\n      <td>VH</td>\n      <td>23927726.24</td>\n      <td>23927726.24</td>\n      <td>27983272.92</td>\n      <td>18858292.62</td>\n      <td>22913839.20</td>\n      <td>22913839.20</td>\n      <td>4.582768e+06</td>\n      <td>4.582768e+06</td>\n      <td>4.124491e+07</td>\n      <td>4.124491e+07</td>\n      <td>28186050.26</td>\n      <td>28186050.26</td>\n      <td>5.637210e+06</td>\n      <td>5.637210e+06</td>\n      <td>5.073489e+07</td>\n      <td>5.073489e+07</td>\n      <td>Upgrade</td>\n    </tr>\n    <tr>\n      <th>13</th>\n      <td>20230115CTGMDE202311</td>\n      <td>CTGMDE</td>\n      <td>202311</td>\n      <td>20230108</td>\n      <td>20230115</td>\n      <td>0.61</td>\n      <td>1.00</td>\n      <td>0.39</td>\n      <td>Challenger</td>\n      <td>Co_Leader</td>\n      <td>VH</td>\n      <td>VH</td>\n      <td>20439955.20</td>\n      <td>20439955.20</td>\n      <td>33725926.08</td>\n      <td>20439955.20</td>\n      <td>21447759.39</td>\n      <td>21447759.39</td>\n      <td>4.289552e+06</td>\n      <td>4.289552e+06</td>\n      <td>3.860597e+07</td>\n      <td>3.860597e+07</td>\n      <td>34918256.80</td>\n      <td>34918256.80</td>\n      <td>6.983651e+06</td>\n      <td>6.983651e+06</td>\n      <td>6.285286e+07</td>\n      <td>6.285286e+07</td>\n      <td>Upgrade</td>\n    </tr>\n    <tr>\n      <th>14</th>\n      <td>20230115GUAJFK202312</td>\n      <td>GUAJFK</td>\n      <td>202312</td>\n      <td>20230108</td>\n      <td>20230115</td>\n      <td>0.90</td>\n      <td>0.51</td>\n      <td>0.39</td>\n      <td>Follower</td>\n      <td>Challenger</td>\n      <td>B6</td>\n      <td>B6</td>\n      <td>10736191.44</td>\n      <td>10736191.44</td>\n      <td>11929101.48</td>\n      <td>21207291.52</td>\n      <td>10736191.44</td>\n      <td>10736191.44</td>\n      <td>2.147238e+06</td>\n      <td>2.147238e+06</td>\n      <td>1.932514e+07</td>\n      <td>1.932514e+07</td>\n      <td>39763671.60</td>\n      <td>39763671.60</td>\n      <td>7.952734e+06</td>\n      <td>7.952734e+06</td>\n      <td>7.157461e+07</td>\n      <td>7.157461e+07</td>\n      <td>Downgrade</td>\n    </tr>\n    <tr>\n      <th>15</th>\n      <td>20230115CTGMDE202312</td>\n      <td>CTGMDE</td>\n      <td>202312</td>\n      <td>20230108</td>\n      <td>20230115</td>\n      <td>0.62</td>\n      <td>1.00</td>\n      <td>0.38</td>\n      <td>Challenger</td>\n      <td>Co_Leader</td>\n      <td>VH</td>\n      <td>VH</td>\n      <td>21121287.04</td>\n      <td>21121287.04</td>\n      <td>33896259.04</td>\n      <td>21121287.04</td>\n      <td>21447759.39</td>\n      <td>21447759.39</td>\n      <td>4.289552e+06</td>\n      <td>4.289552e+06</td>\n      <td>3.860597e+07</td>\n      <td>3.860597e+07</td>\n      <td>34918256.80</td>\n      <td>34918256.80</td>\n      <td>6.983651e+06</td>\n      <td>6.983651e+06</td>\n      <td>6.285286e+07</td>\n      <td>6.285286e+07</td>\n      <td>Upgrade</td>\n    </tr>\n    <tr>\n      <th>16</th>\n      <td>20230115MDESMR202302</td>\n      <td>MDESMR</td>\n      <td>202302</td>\n      <td>20230108</td>\n      <td>20230115</td>\n      <td>0.87</td>\n      <td>0.51</td>\n      <td>0.36</td>\n      <td>Follower</td>\n      <td>Challenger</td>\n      <td>VH</td>\n      <td>VH</td>\n      <td>17033296.56</td>\n      <td>10814791.48</td>\n      <td>19669401.98</td>\n      <td>21291620.70</td>\n      <td>22913839.20</td>\n      <td>22913839.20</td>\n      <td>4.582768e+06</td>\n      <td>4.582768e+06</td>\n      <td>4.124491e+07</td>\n      <td>4.124491e+07</td>\n      <td>28186050.26</td>\n      <td>28186050.26</td>\n      <td>5.637210e+06</td>\n      <td>5.637210e+06</td>\n      <td>5.073489e+07</td>\n      <td>5.073489e+07</td>\n      <td>Downgrade</td>\n    </tr>\n    <tr>\n      <th>17</th>\n      <td>20230115ADZBOG202303</td>\n      <td>ADZBOG</td>\n      <td>202303</td>\n      <td>20230108</td>\n      <td>20230115</td>\n      <td>1.48</td>\n      <td>1.81</td>\n      <td>0.33</td>\n      <td>Co_Leader</td>\n      <td>Leader</td>\n      <td>LA</td>\n      <td>LA</td>\n      <td>54083846.88</td>\n      <td>54083846.88</td>\n      <td>36503707.00</td>\n      <td>29844344.56</td>\n      <td>53737154.40</td>\n      <td>53737154.40</td>\n      <td>1.074743e+07</td>\n      <td>1.074743e+07</td>\n      <td>9.672688e+07</td>\n      <td>9.672688e+07</td>\n      <td>37406549.00</td>\n      <td>37406549.00</td>\n      <td>7.481310e+06</td>\n      <td>7.481310e+06</td>\n      <td>6.733179e+07</td>\n      <td>6.733179e+07</td>\n      <td>Upgrade</td>\n    </tr>\n    <tr>\n      <th>18</th>\n      <td>20230115GUASAL202302</td>\n      <td>GUASAL</td>\n      <td>202302</td>\n      <td>20230108</td>\n      <td>20230115</td>\n      <td>1.62</td>\n      <td>1.37</td>\n      <td>0.25</td>\n      <td>Leader</td>\n      <td>Co_Leader</td>\n      <td>IB</td>\n      <td>IB</td>\n      <td>2654760.98</td>\n      <td>2238661.76</td>\n      <td>1635196.64</td>\n      <td>1635196.64</td>\n      <td>2654760.98</td>\n      <td>2654760.98</td>\n      <td>5.309522e+05</td>\n      <td>5.309522e+05</td>\n      <td>4.778570e+06</td>\n      <td>4.778570e+06</td>\n      <td>1751996.40</td>\n      <td>1751996.40</td>\n      <td>3.503993e+05</td>\n      <td>3.503993e+05</td>\n      <td>3.153594e+06</td>\n      <td>3.153594e+06</td>\n      <td>Downgrade</td>\n    </tr>\n    <tr>\n      <th>19</th>\n      <td>20230115GUASAP202302</td>\n      <td>GUASAP</td>\n      <td>202302</td>\n      <td>20230108</td>\n      <td>20230115</td>\n      <td>1.22</td>\n      <td>0.97</td>\n      <td>0.25</td>\n      <td>Co_Leader</td>\n      <td>Follower</td>\n      <td>CC</td>\n      <td>CC</td>\n      <td>1293449.04</td>\n      <td>1030495.18</td>\n      <td>1058922.68</td>\n      <td>1058922.68</td>\n      <td>1385838.22</td>\n      <td>1385838.22</td>\n      <td>2.771676e+05</td>\n      <td>2.771676e+05</td>\n      <td>2.494509e+06</td>\n      <td>2.494509e+06</td>\n      <td>1132952.51</td>\n      <td>1132952.51</td>\n      <td>2.265905e+05</td>\n      <td>2.265905e+05</td>\n      <td>2.039315e+06</td>\n      <td>2.039315e+06</td>\n      <td>Downgrade</td>\n    </tr>\n    <tr>\n      <th>20</th>\n      <td>20230115CTGMDE202302</td>\n      <td>CTGMDE</td>\n      <td>202302</td>\n      <td>20230108</td>\n      <td>20230115</td>\n      <td>0.88</td>\n      <td>0.64</td>\n      <td>0.24</td>\n      <td>Follower</td>\n      <td>Challenger</td>\n      <td>VH</td>\n      <td>VH</td>\n      <td>22256840.48</td>\n      <td>16238409.24</td>\n      <td>25379611.04</td>\n      <td>25379611.04</td>\n      <td>21447759.39</td>\n      <td>21447759.39</td>\n      <td>4.289552e+06</td>\n      <td>4.289552e+06</td>\n      <td>3.860597e+07</td>\n      <td>3.860597e+07</td>\n      <td>34918256.80</td>\n      <td>34918256.80</td>\n      <td>6.983651e+06</td>\n      <td>6.983651e+06</td>\n      <td>6.285286e+07</td>\n      <td>6.285286e+07</td>\n      <td>Downgrade</td>\n    </tr>\n    <tr>\n      <th>21</th>\n      <td>20230115MDEMIA202302</td>\n      <td>MDEMIA</td>\n      <td>202302</td>\n      <td>20230108</td>\n      <td>20230115</td>\n      <td>0.52</td>\n      <td>0.30</td>\n      <td>0.22</td>\n      <td>Challenger</td>\n      <td>Bottom_Feeder</td>\n      <td>AA</td>\n      <td>AA</td>\n      <td>22500173.92</td>\n      <td>12857242.24</td>\n      <td>43000332.48</td>\n      <td>43000332.48</td>\n      <td>24910906.84</td>\n      <td>24910906.84</td>\n      <td>4.982181e+06</td>\n      <td>4.982181e+06</td>\n      <td>4.483963e+07</td>\n      <td>4.483963e+07</td>\n      <td>69107677.20</td>\n      <td>69107677.20</td>\n      <td>1.382154e+07</td>\n      <td>1.382154e+07</td>\n      <td>1.243938e+08</td>\n      <td>1.243938e+08</td>\n      <td>Downgrade</td>\n    </tr>\n    <tr>\n      <th>22</th>\n      <td>20230115MDEMEX202311</td>\n      <td>MDEMEX</td>\n      <td>202311</td>\n      <td>20230108</td>\n      <td>20230115</td>\n      <td>0.22</td>\n      <td>0.43</td>\n      <td>0.21</td>\n      <td>Bottom_Feeder</td>\n      <td>Challenger</td>\n      <td>VH</td>\n      <td>VH</td>\n      <td>13813192.64</td>\n      <td>13813192.64</td>\n      <td>63753196.80</td>\n      <td>31876598.40</td>\n      <td>15371604.08</td>\n      <td>15371604.08</td>\n      <td>3.074321e+06</td>\n      <td>3.074321e+06</td>\n      <td>2.766889e+07</td>\n      <td>2.766889e+07</td>\n      <td>59502983.68</td>\n      <td>59502983.68</td>\n      <td>1.190060e+07</td>\n      <td>1.190060e+07</td>\n      <td>1.071054e+08</td>\n      <td>1.071054e+08</td>\n      <td>Upgrade</td>\n    </tr>\n    <tr>\n      <th>23</th>\n      <td>20230115MDEMEX202312</td>\n      <td>MDEMEX</td>\n      <td>202312</td>\n      <td>20230108</td>\n      <td>20230115</td>\n      <td>0.21</td>\n      <td>0.42</td>\n      <td>0.21</td>\n      <td>Bottom_Feeder</td>\n      <td>Challenger</td>\n      <td>VH</td>\n      <td>VH</td>\n      <td>13813192.64</td>\n      <td>13813192.64</td>\n      <td>65878303.36</td>\n      <td>32939151.68</td>\n      <td>15371604.08</td>\n      <td>15371604.08</td>\n      <td>3.074321e+06</td>\n      <td>3.074321e+06</td>\n      <td>2.766889e+07</td>\n      <td>2.766889e+07</td>\n      <td>59502983.68</td>\n      <td>59502983.68</td>\n      <td>1.190060e+07</td>\n      <td>1.190060e+07</td>\n      <td>1.071054e+08</td>\n      <td>1.071054e+08</td>\n      <td>Upgrade</td>\n    </tr>\n    <tr>\n      <th>24</th>\n      <td>20230115MDEPUJ202302</td>\n      <td>MDEPUJ</td>\n      <td>202302</td>\n      <td>20230108</td>\n      <td>20230115</td>\n      <td>1.00</td>\n      <td>0.79</td>\n      <td>0.21</td>\n      <td>Co_Leader</td>\n      <td>Follower</td>\n      <td>VH</td>\n      <td>VH</td>\n      <td>15832854.80</td>\n      <td>12440100.20</td>\n      <td>15832854.80</td>\n      <td>15832854.80</td>\n      <td>17529232.10</td>\n      <td>17529232.10</td>\n      <td>3.505846e+06</td>\n      <td>3.505846e+06</td>\n      <td>3.155262e+07</td>\n      <td>3.155262e+07</td>\n      <td>17529232.10</td>\n      <td>17529232.10</td>\n      <td>3.505846e+06</td>\n      <td>3.505846e+06</td>\n      <td>3.155262e+07</td>\n      <td>3.155262e+07</td>\n      <td>Downgrade</td>\n    </tr>\n    <tr>\n      <th>25</th>\n      <td>20230115CUNMDE202303</td>\n      <td>CUNMDE</td>\n      <td>202303</td>\n      <td>20230108</td>\n      <td>20230115</td>\n      <td>0.82</td>\n      <td>1.01</td>\n      <td>0.19</td>\n      <td>Follower</td>\n      <td>Co_Leader</td>\n      <td>VH</td>\n      <td>VH</td>\n      <td>23101322.28</td>\n      <td>23101322.28</td>\n      <td>28136226.00</td>\n      <td>22953237.00</td>\n      <td>22953236.40</td>\n      <td>22953236.40</td>\n      <td>4.590647e+06</td>\n      <td>4.590647e+06</td>\n      <td>4.131583e+07</td>\n      <td>4.131583e+07</td>\n      <td>22953237.00</td>\n      <td>22953237.00</td>\n      <td>4.590647e+06</td>\n      <td>4.590647e+06</td>\n      <td>4.131583e+07</td>\n      <td>4.131583e+07</td>\n      <td>Upgrade</td>\n    </tr>\n    <tr>\n      <th>26</th>\n      <td>20230115BOGSDQ202312</td>\n      <td>BOGSDQ</td>\n      <td>202312</td>\n      <td>20230108</td>\n      <td>20230115</td>\n      <td>0.97</td>\n      <td>1.15</td>\n      <td>0.18</td>\n      <td>Follower</td>\n      <td>Co_Leader</td>\n      <td>P5</td>\n      <td>P5</td>\n      <td>17798636.36</td>\n      <td>17798636.36</td>\n      <td>18391924.28</td>\n      <td>15425484.88</td>\n      <td>21243533.78</td>\n      <td>21243533.78</td>\n      <td>4.248707e+06</td>\n      <td>4.248707e+06</td>\n      <td>3.823836e+07</td>\n      <td>3.823836e+07</td>\n      <td>14015628.64</td>\n      <td>14015628.64</td>\n      <td>2.803126e+06</td>\n      <td>2.803126e+06</td>\n      <td>2.522813e+07</td>\n      <td>2.522813e+07</td>\n      <td>Upgrade</td>\n    </tr>\n    <tr>\n      <th>27</th>\n      <td>20230115CUCMDE202302</td>\n      <td>CUCMDE</td>\n      <td>202302</td>\n      <td>20230108</td>\n      <td>20230115</td>\n      <td>0.44</td>\n      <td>0.26</td>\n      <td>0.18</td>\n      <td>Challenger</td>\n      <td>Bottom_Feeder</td>\n      <td>VH</td>\n      <td>VH</td>\n      <td>3795991.92</td>\n      <td>2259519.00</td>\n      <td>8540981.82</td>\n      <td>8540981.82</td>\n      <td>4121362.68</td>\n      <td>4121362.68</td>\n      <td>8.242725e+05</td>\n      <td>8.242725e+05</td>\n      <td>7.418453e+06</td>\n      <td>7.418453e+06</td>\n      <td>8676552.96</td>\n      <td>8676552.96</td>\n      <td>1.735311e+06</td>\n      <td>1.735311e+06</td>\n      <td>1.561780e+07</td>\n      <td>1.561780e+07</td>\n      <td>Downgrade</td>\n    </tr>\n    <tr>\n      <th>28</th>\n      <td>20230115CUNMDE202312</td>\n      <td>CUNMDE</td>\n      <td>202312</td>\n      <td>20230108</td>\n      <td>20230115</td>\n      <td>1.02</td>\n      <td>0.85</td>\n      <td>0.17</td>\n      <td>Co_Leader</td>\n      <td>Follower</td>\n      <td>VH</td>\n      <td>VH</td>\n      <td>19621315.50</td>\n      <td>19621315.50</td>\n      <td>19251102.00</td>\n      <td>22953237.00</td>\n      <td>22953236.40</td>\n      <td>22953236.40</td>\n      <td>4.590647e+06</td>\n      <td>4.590647e+06</td>\n      <td>4.131583e+07</td>\n      <td>4.131583e+07</td>\n      <td>22953237.00</td>\n      <td>22953237.00</td>\n      <td>4.590647e+06</td>\n      <td>4.590647e+06</td>\n      <td>4.131583e+07</td>\n      <td>4.131583e+07</td>\n      <td>Downgrade</td>\n    </tr>\n    <tr>\n      <th>29</th>\n      <td>20230115MDESMR202303</td>\n      <td>MDESMR</td>\n      <td>202303</td>\n      <td>20230108</td>\n      <td>20230115</td>\n      <td>0.66</td>\n      <td>0.83</td>\n      <td>0.17</td>\n      <td>Challenger</td>\n      <td>Follower</td>\n      <td>VH</td>\n      <td>VH</td>\n      <td>19791068.34</td>\n      <td>19791068.34</td>\n      <td>30011046.32</td>\n      <td>23724948.78</td>\n      <td>22913839.20</td>\n      <td>22913839.20</td>\n      <td>4.582768e+06</td>\n      <td>4.582768e+06</td>\n      <td>4.124491e+07</td>\n      <td>4.124491e+07</td>\n      <td>28186050.26</td>\n      <td>28186050.26</td>\n      <td>5.637210e+06</td>\n      <td>5.637210e+06</td>\n      <td>5.073489e+07</td>\n      <td>5.073489e+07</td>\n      <td>Upgrade</td>\n    </tr>\n    <tr>\n      <th>30</th>\n      <td>20230115BOGSDQ202311</td>\n      <td>BOGSDQ</td>\n      <td>202311</td>\n      <td>20230108</td>\n      <td>20230115</td>\n      <td>0.97</td>\n      <td>1.12</td>\n      <td>0.15</td>\n      <td>Follower</td>\n      <td>Co_Leader</td>\n      <td>P5</td>\n      <td>P5</td>\n      <td>17224486.80</td>\n      <td>17224486.80</td>\n      <td>17798636.40</td>\n      <td>15425484.88</td>\n      <td>21243533.78</td>\n      <td>21243533.78</td>\n      <td>4.248707e+06</td>\n      <td>4.248707e+06</td>\n      <td>3.823836e+07</td>\n      <td>3.823836e+07</td>\n      <td>14015628.64</td>\n      <td>14015628.64</td>\n      <td>2.803126e+06</td>\n      <td>2.803126e+06</td>\n      <td>2.522813e+07</td>\n      <td>2.522813e+07</td>\n      <td>Upgrade</td>\n    </tr>\n    <tr>\n      <th>31</th>\n      <td>20230115CUNMDE202311</td>\n      <td>CUNMDE</td>\n      <td>202311</td>\n      <td>20230108</td>\n      <td>20230115</td>\n      <td>1.02</td>\n      <td>0.88</td>\n      <td>0.14</td>\n      <td>Co_Leader</td>\n      <td>Follower</td>\n      <td>VH</td>\n      <td>VH</td>\n      <td>19621315.50</td>\n      <td>19621315.50</td>\n      <td>19251102.00</td>\n      <td>22212810.00</td>\n      <td>22953236.40</td>\n      <td>22953236.40</td>\n      <td>4.590647e+06</td>\n      <td>4.590647e+06</td>\n      <td>4.131583e+07</td>\n      <td>4.131583e+07</td>\n      <td>22953237.00</td>\n      <td>22953237.00</td>\n      <td>4.590647e+06</td>\n      <td>4.590647e+06</td>\n      <td>4.131583e+07</td>\n      <td>4.131583e+07</td>\n      <td>Downgrade</td>\n    </tr>\n    <tr>\n      <th>32</th>\n      <td>20230115CLOCUC202310</td>\n      <td>CLOCUC</td>\n      <td>202310</td>\n      <td>20230108</td>\n      <td>20230115</td>\n      <td>1.38</td>\n      <td>1.50</td>\n      <td>0.12</td>\n      <td>Co_Leader</td>\n      <td>Leader</td>\n      <td>VH</td>\n      <td>VH</td>\n      <td>4192276.68</td>\n      <td>4192276.68</td>\n      <td>3027755.38</td>\n      <td>2794851.12</td>\n      <td>3959372.42</td>\n      <td>3959372.42</td>\n      <td>7.918745e+05</td>\n      <td>7.918745e+05</td>\n      <td>7.126870e+06</td>\n      <td>7.126870e+06</td>\n      <td>3027755.38</td>\n      <td>3027755.38</td>\n      <td>6.055511e+05</td>\n      <td>6.055511e+05</td>\n      <td>5.449960e+06</td>\n      <td>5.449960e+06</td>\n      <td>Upgrade</td>\n    </tr>\n    <tr>\n      <th>33</th>\n      <td>20230115BOGFLA202301</td>\n      <td>BOGFLA</td>\n      <td>202301</td>\n      <td>20230108</td>\n      <td>20230115</td>\n      <td>0.89</td>\n      <td>1.00</td>\n      <td>0.11</td>\n      <td>Follower</td>\n      <td>Co_Leader</td>\n      <td>VE</td>\n      <td>VE</td>\n      <td>1633806.00</td>\n      <td>1633806.00</td>\n      <td>1825929.54</td>\n      <td>1626998.53</td>\n      <td>2723010.00</td>\n      <td>2723010.00</td>\n      <td>5.446020e+05</td>\n      <td>5.446020e+05</td>\n      <td>4.901418e+06</td>\n      <td>4.901418e+06</td>\n      <td>1673138.40</td>\n      <td>1673138.40</td>\n      <td>3.346277e+05</td>\n      <td>3.346277e+05</td>\n      <td>3.011649e+06</td>\n      <td>3.011649e+06</td>\n      <td>Upgrade</td>\n    </tr>\n    <tr>\n      <th>34</th>\n      <td>20230115GUAJFK202302</td>\n      <td>GUAJFK</td>\n      <td>202302</td>\n      <td>20230108</td>\n      <td>20230115</td>\n      <td>0.40</td>\n      <td>0.29</td>\n      <td>0.11</td>\n      <td>Challenger</td>\n      <td>Bottom_Feeder</td>\n      <td>B6</td>\n      <td>B6</td>\n      <td>14752322.18</td>\n      <td>10736191.44</td>\n      <td>37112760.16</td>\n      <td>37112760.16</td>\n      <td>10736191.44</td>\n      <td>10736191.44</td>\n      <td>2.147238e+06</td>\n      <td>2.147238e+06</td>\n      <td>1.932514e+07</td>\n      <td>1.932514e+07</td>\n      <td>39763671.60</td>\n      <td>39763671.60</td>\n      <td>7.952734e+06</td>\n      <td>7.952734e+06</td>\n      <td>7.157461e+07</td>\n      <td>7.157461e+07</td>\n      <td>Downgrade</td>\n    </tr>\n    <tr>\n      <th>35</th>\n      <td>20230115CLOCTG202310</td>\n      <td>CLOCTG</td>\n      <td>202310</td>\n      <td>20230108</td>\n      <td>20230115</td>\n      <td>1.45</td>\n      <td>1.54</td>\n      <td>0.09</td>\n      <td>Co_Leader</td>\n      <td>Leader</td>\n      <td>VH</td>\n      <td>VH</td>\n      <td>22108717.80</td>\n      <td>22108717.80</td>\n      <td>15231475.60</td>\n      <td>14400667.84</td>\n      <td>20770194.00</td>\n      <td>20770194.00</td>\n      <td>4.154039e+06</td>\n      <td>4.154039e+06</td>\n      <td>3.738635e+07</td>\n      <td>3.738635e+07</td>\n      <td>13015988.24</td>\n      <td>13015988.24</td>\n      <td>2.603198e+06</td>\n      <td>2.603198e+06</td>\n      <td>2.342878e+07</td>\n      <td>2.342878e+07</td>\n      <td>Upgrade</td>\n    </tr>\n    <tr>\n      <th>36</th>\n      <td>20230115GUASJO202302</td>\n      <td>GUASJO</td>\n      <td>202302</td>\n      <td>20230108</td>\n      <td>20230115</td>\n      <td>0.99</td>\n      <td>1.06</td>\n      <td>0.07</td>\n      <td>Follower</td>\n      <td>Co_Leader</td>\n      <td>Y4</td>\n      <td>Y4</td>\n      <td>14777080.34</td>\n      <td>15792299.60</td>\n      <td>14889882.72</td>\n      <td>14889882.72</td>\n      <td>12715877.60</td>\n      <td>12715877.60</td>\n      <td>2.543176e+06</td>\n      <td>2.543176e+06</td>\n      <td>2.288858e+07</td>\n      <td>2.288858e+07</td>\n      <td>14274598.08</td>\n      <td>14274598.08</td>\n      <td>2.854920e+06</td>\n      <td>2.854920e+06</td>\n      <td>2.569428e+07</td>\n      <td>2.569428e+07</td>\n      <td>Upgrade</td>\n    </tr>\n    <tr>\n      <th>37</th>\n      <td>20230115BOGLET202302</td>\n      <td>BOGLET</td>\n      <td>202302</td>\n      <td>20230108</td>\n      <td>20230115</td>\n      <td>0.66</td>\n      <td>0.72</td>\n      <td>0.06</td>\n      <td>Challenger</td>\n      <td>Follower</td>\n      <td>LA</td>\n      <td>LA</td>\n      <td>9936476.16</td>\n      <td>10982420.96</td>\n      <td>15166200.80</td>\n      <td>15166200.80</td>\n      <td>12159109.20</td>\n      <td>12159109.20</td>\n      <td>2.431822e+06</td>\n      <td>2.431822e+06</td>\n      <td>2.188640e+07</td>\n      <td>2.188640e+07</td>\n      <td>16159848.40</td>\n      <td>16159848.40</td>\n      <td>3.231970e+06</td>\n      <td>3.231970e+06</td>\n      <td>2.908773e+07</td>\n      <td>2.908773e+07</td>\n      <td>Upgrade</td>\n    </tr>\n    <tr>\n      <th>38</th>\n      <td>20230115CTGMDE202303</td>\n      <td>CTGMDE</td>\n      <td>202303</td>\n      <td>20230108</td>\n      <td>20230115</td>\n      <td>0.67</td>\n      <td>0.73</td>\n      <td>0.06</td>\n      <td>Challenger</td>\n      <td>Follower</td>\n      <td>VH</td>\n      <td>VH</td>\n      <td>24102114.54</td>\n      <td>24102114.54</td>\n      <td>35769921.60</td>\n      <td>33214927.20</td>\n      <td>21447759.39</td>\n      <td>21447759.39</td>\n      <td>4.289552e+06</td>\n      <td>4.289552e+06</td>\n      <td>3.860597e+07</td>\n      <td>3.860597e+07</td>\n      <td>34918256.80</td>\n      <td>34918256.80</td>\n      <td>6.983651e+06</td>\n      <td>6.983651e+06</td>\n      <td>6.285286e+07</td>\n      <td>6.285286e+07</td>\n      <td>Upgrade</td>\n    </tr>\n    <tr>\n      <th>39</th>\n      <td>20230115CLOSMR202310</td>\n      <td>CLOSMR</td>\n      <td>202310</td>\n      <td>20230108</td>\n      <td>20230115</td>\n      <td>0.66</td>\n      <td>0.71</td>\n      <td>0.05</td>\n      <td>Challenger</td>\n      <td>Follower</td>\n      <td>VH</td>\n      <td>VH</td>\n      <td>8838890.80</td>\n      <td>8838890.80</td>\n      <td>13477741.12</td>\n      <td>12537433.60</td>\n      <td>8744860.06</td>\n      <td>8744860.06</td>\n      <td>1.748972e+06</td>\n      <td>1.748972e+06</td>\n      <td>1.574075e+07</td>\n      <td>1.574075e+07</td>\n      <td>10970254.40</td>\n      <td>10970254.40</td>\n      <td>2.194051e+06</td>\n      <td>2.194051e+06</td>\n      <td>1.974646e+07</td>\n      <td>1.974646e+07</td>\n      <td>Upgrade</td>\n    </tr>\n    <tr>\n      <th>40</th>\n      <td>20230115CLOCUC202311</td>\n      <td>CLOCUC</td>\n      <td>202311</td>\n      <td>20230108</td>\n      <td>20230115</td>\n      <td>1.31</td>\n      <td>NaN</td>\n      <td>NaN</td>\n      <td>Co_Leader</td>\n      <td>Sole_Player</td>\n      <td>VH</td>\n      <td>NaN</td>\n      <td>3959372.42</td>\n      <td>3959372.42</td>\n      <td>3027755.38</td>\n      <td>NaN</td>\n      <td>3959372.42</td>\n      <td>3959372.42</td>\n      <td>7.918745e+05</td>\n      <td>7.918745e+05</td>\n      <td>7.126870e+06</td>\n      <td>7.126870e+06</td>\n      <td>3027755.38</td>\n      <td>NaN</td>\n      <td>6.055511e+05</td>\n      <td>NaN</td>\n      <td>5.449960e+06</td>\n      <td>NaN</td>\n      <td>Upgrade</td>\n    </tr>\n    <tr>\n      <th>41</th>\n      <td>20230115CLOCUC202312</td>\n      <td>CLOCUC</td>\n      <td>202312</td>\n      <td>20230108</td>\n      <td>20230115</td>\n      <td>1.38</td>\n      <td>NaN</td>\n      <td>NaN</td>\n      <td>Co_Leader</td>\n      <td>Sole_Player</td>\n      <td>VH</td>\n      <td>NaN</td>\n      <td>4192276.68</td>\n      <td>4192276.68</td>\n      <td>3027755.38</td>\n      <td>NaN</td>\n      <td>3959372.42</td>\n      <td>3959372.42</td>\n      <td>7.918745e+05</td>\n      <td>7.918745e+05</td>\n      <td>7.126870e+06</td>\n      <td>7.126870e+06</td>\n      <td>3027755.38</td>\n      <td>NaN</td>\n      <td>6.055511e+05</td>\n      <td>NaN</td>\n      <td>5.449960e+06</td>\n      <td>NaN</td>\n      <td>Upgrade</td>\n    </tr>\n  </tbody>\n</table>\n</div>",
              "datasetInfos": [],
              "metadata": {},
              "removedWidgets": [],
              "textData": null,
              "type": "htmlSandbox"
            }
          }
        }
      ],
      "source": [
        "df = pipeline_mod_competitor_alerts.transform(df_delta)\n",
        "df"
      ]
    },
    {
      "cell_type": "code",
      "execution_count": null,
      "metadata": {
        "application/vnd.databricks.v1+cell": {
          "cellMetadata": {
            "byteLimit": 2048000,
            "rowLimit": 10000
          },
          "inputWidgets": {},
          "nuid": "7f8c73ac-f002-459a-bfa9-ba2d01755c78",
          "showTitle": false,
          "title": ""
        },
        "id": "JEch_n7uuLen",
        "outputId": "900add52-6d49-4861-8e47-d9572c64db85"
      },
      "outputs": [
        {
          "output_type": "display_data",
          "data": {
            "text/html": [
              "<div>\n<style scoped>\n    .dataframe tbody tr th:only-of-type {\n        vertical-align: middle;\n    }\n\n    .dataframe tbody tr th {\n        vertical-align: top;\n    }\n\n    .dataframe thead th {\n        text-align: right;\n    }\n</style>\n<table border=\"1\" class=\"dataframe\">\n  <thead>\n    <tr style=\"text-align: right;\">\n      <th></th>\n      <th>id_alert</th>\n      <th>rt</th>\n      <th>flight_date</th>\n      <th>snapshot_date_lw</th>\n      <th>snapshot_date_cw</th>\n      <th>rcs_lw</th>\n      <th>rcs_cw</th>\n      <th>rcs_delta_abs</th>\n      <th>category_lw</th>\n      <th>category_cw</th>\n      <th>competitor_lw</th>\n      <th>competitor_cw</th>\n      <th>total_asks_av_lw</th>\n      <th>total_asks_av_cw</th>\n      <th>max_asks_competitor_lw</th>\n      <th>max_asks_competitor_cw</th>\n      <th>median_asks_hist_av_lw</th>\n      <th>median_asks_hist_av_cw</th>\n      <th>median_lower_thresh_hist_av_lw</th>\n      <th>median_lower_thresh_hist_av_cw</th>\n      <th>median_upper_thresh_hist_av_lw</th>\n      <th>median_upper_thresh_hist_av_cw</th>\n      <th>median_asks_hist_competitor_lw</th>\n      <th>median_asks_hist_competitor_cw</th>\n      <th>median_lower_thresh_hist_competitor_lw</th>\n      <th>median_lower_thresh_hist_competitor_cw</th>\n      <th>median_upper_thresh_hist_competitor_lw</th>\n      <th>median_upper_thresh_hist_competitor_cw</th>\n      <th>change</th>\n      <th>suspicious</th>\n      <th>threshold</th>\n    </tr>\n  </thead>\n  <tbody>\n    <tr>\n      <th>0</th>\n      <td>20230115MDERCH202302</td>\n      <td>MDERCH</td>\n      <td>202302</td>\n      <td>20230108</td>\n      <td>20230115</td>\n      <td>2.00</td>\n      <td>0.92</td>\n      <td>1.08</td>\n      <td>Leader</td>\n      <td>Follower</td>\n      <td>VH</td>\n      <td>VH</td>\n      <td>3763547.52</td>\n      <td>1735413.58</td>\n      <td>1881773.76</td>\n      <td>1881773.76</td>\n      <td>3159811.72</td>\n      <td>3159811.72</td>\n      <td>6.319623e+05</td>\n      <td>6.319623e+05</td>\n      <td>5.687661e+06</td>\n      <td>5.687661e+06</td>\n      <td>2822660.64</td>\n      <td>2822660.64</td>\n      <td>5.645321e+05</td>\n      <td>5.645321e+05</td>\n      <td>5.080789e+06</td>\n      <td>5.080789e+06</td>\n      <td>Downgrade</td>\n      <td>Not suspicious</td>\n      <td>0.8</td>\n    </tr>\n    <tr>\n      <th>1</th>\n      <td>20230115CLOSMR202311</td>\n      <td>CLOSMR</td>\n      <td>202311</td>\n      <td>20230108</td>\n      <td>20230115</td>\n      <td>0.77</td>\n      <td>1.83</td>\n      <td>1.06</td>\n      <td>Follower</td>\n      <td>Leader</td>\n      <td>VH</td>\n      <td>LA</td>\n      <td>9403075.20</td>\n      <td>9403075.20</td>\n      <td>12223997.76</td>\n      <td>5150795.66</td>\n      <td>8744860.06</td>\n      <td>8744860.06</td>\n      <td>1.748972e+06</td>\n      <td>1.748972e+06</td>\n      <td>1.574075e+07</td>\n      <td>1.574075e+07</td>\n      <td>10970254.40</td>\n      <td>5150795.66</td>\n      <td>2.194051e+06</td>\n      <td>1.030159e+06</td>\n      <td>1.974646e+07</td>\n      <td>9.271432e+06</td>\n      <td>Upgrade</td>\n      <td>Not suspicious</td>\n      <td>0.8</td>\n    </tr>\n    <tr>\n      <th>2</th>\n      <td>20230115CLOSMR202312</td>\n      <td>CLOSMR</td>\n      <td>202312</td>\n      <td>20230108</td>\n      <td>20230115</td>\n      <td>0.79</td>\n      <td>1.78</td>\n      <td>0.99</td>\n      <td>Follower</td>\n      <td>Leader</td>\n      <td>VH</td>\n      <td>LA</td>\n      <td>9716511.04</td>\n      <td>9716511.04</td>\n      <td>12223997.76</td>\n      <td>5453783.64</td>\n      <td>8744860.06</td>\n      <td>8744860.06</td>\n      <td>1.748972e+06</td>\n      <td>1.748972e+06</td>\n      <td>1.574075e+07</td>\n      <td>1.574075e+07</td>\n      <td>10970254.40</td>\n      <td>5150795.66</td>\n      <td>2.194051e+06</td>\n      <td>1.030159e+06</td>\n      <td>1.974646e+07</td>\n      <td>9.271432e+06</td>\n      <td>Upgrade</td>\n      <td>Not suspicious</td>\n      <td>0.8</td>\n    </tr>\n    <tr>\n      <th>3</th>\n      <td>20230115BGACTG202302</td>\n      <td>BGACTG</td>\n      <td>202302</td>\n      <td>20230108</td>\n      <td>20230115</td>\n      <td>1.25</td>\n      <td>0.38</td>\n      <td>0.87</td>\n      <td>Co_Leader</td>\n      <td>Bottom_Feeder</td>\n      <td>U0</td>\n      <td>U0</td>\n      <td>3256024.80</td>\n      <td>976807.44</td>\n      <td>2604819.84</td>\n      <td>2604819.84</td>\n      <td>3256024.80</td>\n      <td>3256024.80</td>\n      <td>6.512050e+05</td>\n      <td>6.512050e+05</td>\n      <td>5.860845e+06</td>\n      <td>5.860845e+06</td>\n      <td>2767621.08</td>\n      <td>2767621.08</td>\n      <td>5.535242e+05</td>\n      <td>5.535242e+05</td>\n      <td>4.981718e+06</td>\n      <td>4.981718e+06</td>\n      <td>Downgrade</td>\n      <td>Not suspicious</td>\n      <td>0.8</td>\n    </tr>\n    <tr>\n      <th>4</th>\n      <td>20230115GYEJFK202312</td>\n      <td>GYEJFK</td>\n      <td>202312</td>\n      <td>20230108</td>\n      <td>20230115</td>\n      <td>1.80</td>\n      <td>1.01</td>\n      <td>0.79</td>\n      <td>Leader</td>\n      <td>Co_Leader</td>\n      <td>B6</td>\n      <td>B6</td>\n      <td>30962362.32</td>\n      <td>30962362.32</td>\n      <td>17201312.46</td>\n      <td>30580111.04</td>\n      <td>30388985.24</td>\n      <td>30388985.24</td>\n      <td>6.077797e+06</td>\n      <td>6.077797e+06</td>\n      <td>5.470017e+07</td>\n      <td>5.470017e+07</td>\n      <td>59248965.14</td>\n      <td>59248965.14</td>\n      <td>1.184979e+07</td>\n      <td>1.184979e+07</td>\n      <td>1.066481e+08</td>\n      <td>1.066481e+08</td>\n      <td>Downgrade</td>\n      <td>Not suspicious</td>\n      <td>0.8</td>\n    </tr>\n    <tr>\n      <th>5</th>\n      <td>20230115CTGPEI202311</td>\n      <td>CTGPEI</td>\n      <td>202311</td>\n      <td>20230108</td>\n      <td>20230115</td>\n      <td>0.89</td>\n      <td>1.67</td>\n      <td>0.78</td>\n      <td>Follower</td>\n      <td>Leader</td>\n      <td>VH</td>\n      <td>VH</td>\n      <td>11210690.40</td>\n      <td>11210690.40</td>\n      <td>12555972.80</td>\n      <td>6726414.00</td>\n      <td>11434904.16</td>\n      <td>11434904.16</td>\n      <td>2.286981e+06</td>\n      <td>2.286981e+06</td>\n      <td>2.058283e+07</td>\n      <td>2.058283e+07</td>\n      <td>8520124.40</td>\n      <td>8520124.40</td>\n      <td>1.704025e+06</td>\n      <td>1.704025e+06</td>\n      <td>1.533622e+07</td>\n      <td>1.533622e+07</td>\n      <td>Upgrade</td>\n      <td>Not suspicious</td>\n      <td>0.8</td>\n    </tr>\n    <tr>\n      <th>6</th>\n      <td>20230115CTGPEI202312</td>\n      <td>CTGPEI</td>\n      <td>202312</td>\n      <td>20230108</td>\n      <td>20230115</td>\n      <td>0.92</td>\n      <td>1.67</td>\n      <td>0.75</td>\n      <td>Follower</td>\n      <td>Leader</td>\n      <td>VH</td>\n      <td>VH</td>\n      <td>11584380.08</td>\n      <td>11584380.08</td>\n      <td>12555972.80</td>\n      <td>6950627.80</td>\n      <td>11434904.16</td>\n      <td>11434904.16</td>\n      <td>2.286981e+06</td>\n      <td>2.286981e+06</td>\n      <td>2.058283e+07</td>\n      <td>2.058283e+07</td>\n      <td>8520124.40</td>\n      <td>8520124.40</td>\n      <td>1.704025e+06</td>\n      <td>1.704025e+06</td>\n      <td>1.533622e+07</td>\n      <td>1.533622e+07</td>\n      <td>Upgrade</td>\n      <td>Not suspicious</td>\n      <td>0.8</td>\n    </tr>\n    <tr>\n      <th>7</th>\n      <td>20230115CTGJFK202312</td>\n      <td>CTGJFK</td>\n      <td>202312</td>\n      <td>20230108</td>\n      <td>20230115</td>\n      <td>1.67</td>\n      <td>0.94</td>\n      <td>0.73</td>\n      <td>Leader</td>\n      <td>Follower</td>\n      <td>B6</td>\n      <td>B6</td>\n      <td>16276358.16</td>\n      <td>16276358.16</td>\n      <td>9765814.86</td>\n      <td>17361448.64</td>\n      <td>16276358.16</td>\n      <td>16276358.16</td>\n      <td>3.255272e+06</td>\n      <td>3.255272e+06</td>\n      <td>2.929744e+07</td>\n      <td>2.929744e+07</td>\n      <td>33637806.74</td>\n      <td>33637806.74</td>\n      <td>6.727561e+06</td>\n      <td>6.727561e+06</td>\n      <td>6.054805e+07</td>\n      <td>6.054805e+07</td>\n      <td>Downgrade</td>\n      <td>Not suspicious</td>\n      <td>0.8</td>\n    </tr>\n    <tr>\n      <th>8</th>\n      <td>20230115CLOPSO202301</td>\n      <td>CLOPSO</td>\n      <td>202301</td>\n      <td>20230108</td>\n      <td>20230115</td>\n      <td>1.83</td>\n      <td>1.15</td>\n      <td>0.68</td>\n      <td>Leader</td>\n      <td>Co_Leader</td>\n      <td>VE</td>\n      <td>VE</td>\n      <td>2672090.52</td>\n      <td>2851693.32</td>\n      <td>1460769.44</td>\n      <td>2478518.64</td>\n      <td>2366266.89</td>\n      <td>2366266.89</td>\n      <td>4.732534e+05</td>\n      <td>4.732534e+05</td>\n      <td>4.259280e+06</td>\n      <td>4.259280e+06</td>\n      <td>1269193.12</td>\n      <td>1269193.12</td>\n      <td>2.538386e+05</td>\n      <td>2.538386e+05</td>\n      <td>2.284548e+06</td>\n      <td>2.284548e+06</td>\n      <td>Downgrade</td>\n      <td>Suspicious</td>\n      <td>0.8</td>\n    </tr>\n    <tr>\n      <th>9</th>\n      <td>20230115CLOCTG202302</td>\n      <td>CLOCTG</td>\n      <td>202302</td>\n      <td>20230108</td>\n      <td>20230115</td>\n      <td>0.81</td>\n      <td>0.30</td>\n      <td>0.51</td>\n      <td>Follower</td>\n      <td>Bottom_Feeder</td>\n      <td>LA</td>\n      <td>LA</td>\n      <td>8308077.60</td>\n      <td>3046295.12</td>\n      <td>10223551.01</td>\n      <td>10223551.01</td>\n      <td>20770194.00</td>\n      <td>20770194.00</td>\n      <td>4.154039e+06</td>\n      <td>4.154039e+06</td>\n      <td>3.738635e+07</td>\n      <td>3.738635e+07</td>\n      <td>11779007.68</td>\n      <td>11779007.68</td>\n      <td>2.355802e+06</td>\n      <td>2.355802e+06</td>\n      <td>2.120221e+07</td>\n      <td>2.120221e+07</td>\n      <td>Downgrade</td>\n      <td>Suspicious</td>\n      <td>0.8</td>\n    </tr>\n    <tr>\n      <th>10</th>\n      <td>20230115BGAMDE202302</td>\n      <td>BGAMDE</td>\n      <td>202302</td>\n      <td>20230108</td>\n      <td>20230115</td>\n      <td>0.98</td>\n      <td>0.52</td>\n      <td>0.46</td>\n      <td>Follower</td>\n      <td>Challenger</td>\n      <td>LA</td>\n      <td>LA</td>\n      <td>3939674.40</td>\n      <td>2101159.68</td>\n      <td>4038166.20</td>\n      <td>4038166.20</td>\n      <td>3155022.36</td>\n      <td>3155022.36</td>\n      <td>6.310045e+05</td>\n      <td>6.310045e+05</td>\n      <td>5.679040e+06</td>\n      <td>5.679040e+06</td>\n      <td>4307377.28</td>\n      <td>4307377.28</td>\n      <td>8.614755e+05</td>\n      <td>8.614755e+05</td>\n      <td>7.753279e+06</td>\n      <td>7.753279e+06</td>\n      <td>Downgrade</td>\n      <td>Not suspicious</td>\n      <td>0.8</td>\n    </tr>\n    <tr>\n      <th>11</th>\n      <td>20230115MDESMR202311</td>\n      <td>MDESMR</td>\n      <td>202311</td>\n      <td>20230108</td>\n      <td>20230115</td>\n      <td>0.82</td>\n      <td>1.27</td>\n      <td>0.45</td>\n      <td>Follower</td>\n      <td>Co_Leader</td>\n      <td>VH</td>\n      <td>VH</td>\n      <td>23184209.32</td>\n      <td>23184209.32</td>\n      <td>28186050.26</td>\n      <td>18249960.60</td>\n      <td>22913839.20</td>\n      <td>22913839.20</td>\n      <td>4.582768e+06</td>\n      <td>4.582768e+06</td>\n      <td>4.124491e+07</td>\n      <td>4.124491e+07</td>\n      <td>28186050.26</td>\n      <td>28186050.26</td>\n      <td>5.637210e+06</td>\n      <td>5.637210e+06</td>\n      <td>5.073489e+07</td>\n      <td>5.073489e+07</td>\n      <td>Upgrade</td>\n      <td>Not suspicious</td>\n      <td>0.8</td>\n    </tr>\n    <tr>\n      <th>12</th>\n      <td>20230115MDESMR202312</td>\n      <td>MDESMR</td>\n      <td>202312</td>\n      <td>20230108</td>\n      <td>20230115</td>\n      <td>0.86</td>\n      <td>1.27</td>\n      <td>0.41</td>\n      <td>Follower</td>\n      <td>Co_Leader</td>\n      <td>VH</td>\n      <td>VH</td>\n      <td>23927726.24</td>\n      <td>23927726.24</td>\n      <td>27983272.92</td>\n      <td>18858292.62</td>\n      <td>22913839.20</td>\n      <td>22913839.20</td>\n      <td>4.582768e+06</td>\n      <td>4.582768e+06</td>\n      <td>4.124491e+07</td>\n      <td>4.124491e+07</td>\n      <td>28186050.26</td>\n      <td>28186050.26</td>\n      <td>5.637210e+06</td>\n      <td>5.637210e+06</td>\n      <td>5.073489e+07</td>\n      <td>5.073489e+07</td>\n      <td>Upgrade</td>\n      <td>Not suspicious</td>\n      <td>0.8</td>\n    </tr>\n    <tr>\n      <th>13</th>\n      <td>20230115CTGMDE202311</td>\n      <td>CTGMDE</td>\n      <td>202311</td>\n      <td>20230108</td>\n      <td>20230115</td>\n      <td>0.61</td>\n      <td>1.00</td>\n      <td>0.39</td>\n      <td>Challenger</td>\n      <td>Co_Leader</td>\n      <td>VH</td>\n      <td>VH</td>\n      <td>20439955.20</td>\n      <td>20439955.20</td>\n      <td>33725926.08</td>\n      <td>20439955.20</td>\n      <td>21447759.39</td>\n      <td>21447759.39</td>\n      <td>4.289552e+06</td>\n      <td>4.289552e+06</td>\n      <td>3.860597e+07</td>\n      <td>3.860597e+07</td>\n      <td>34918256.80</td>\n      <td>34918256.80</td>\n      <td>6.983651e+06</td>\n      <td>6.983651e+06</td>\n      <td>6.285286e+07</td>\n      <td>6.285286e+07</td>\n      <td>Upgrade</td>\n      <td>Not suspicious</td>\n      <td>0.8</td>\n    </tr>\n    <tr>\n      <th>14</th>\n      <td>20230115GUAJFK202312</td>\n      <td>GUAJFK</td>\n      <td>202312</td>\n      <td>20230108</td>\n      <td>20230115</td>\n      <td>0.90</td>\n      <td>0.51</td>\n      <td>0.39</td>\n      <td>Follower</td>\n      <td>Challenger</td>\n      <td>B6</td>\n      <td>B6</td>\n      <td>10736191.44</td>\n      <td>10736191.44</td>\n      <td>11929101.48</td>\n      <td>21207291.52</td>\n      <td>10736191.44</td>\n      <td>10736191.44</td>\n      <td>2.147238e+06</td>\n      <td>2.147238e+06</td>\n      <td>1.932514e+07</td>\n      <td>1.932514e+07</td>\n      <td>39763671.60</td>\n      <td>39763671.60</td>\n      <td>7.952734e+06</td>\n      <td>7.952734e+06</td>\n      <td>7.157461e+07</td>\n      <td>7.157461e+07</td>\n      <td>Downgrade</td>\n      <td>Not suspicious</td>\n      <td>0.8</td>\n    </tr>\n    <tr>\n      <th>15</th>\n      <td>20230115CTGMDE202312</td>\n      <td>CTGMDE</td>\n      <td>202312</td>\n      <td>20230108</td>\n      <td>20230115</td>\n      <td>0.62</td>\n      <td>1.00</td>\n      <td>0.38</td>\n      <td>Challenger</td>\n      <td>Co_Leader</td>\n      <td>VH</td>\n      <td>VH</td>\n      <td>21121287.04</td>\n      <td>21121287.04</td>\n      <td>33896259.04</td>\n      <td>21121287.04</td>\n      <td>21447759.39</td>\n      <td>21447759.39</td>\n      <td>4.289552e+06</td>\n      <td>4.289552e+06</td>\n      <td>3.860597e+07</td>\n      <td>3.860597e+07</td>\n      <td>34918256.80</td>\n      <td>34918256.80</td>\n      <td>6.983651e+06</td>\n      <td>6.983651e+06</td>\n      <td>6.285286e+07</td>\n      <td>6.285286e+07</td>\n      <td>Upgrade</td>\n      <td>Not suspicious</td>\n      <td>0.8</td>\n    </tr>\n    <tr>\n      <th>16</th>\n      <td>20230115MDESMR202302</td>\n      <td>MDESMR</td>\n      <td>202302</td>\n      <td>20230108</td>\n      <td>20230115</td>\n      <td>0.87</td>\n      <td>0.51</td>\n      <td>0.36</td>\n      <td>Follower</td>\n      <td>Challenger</td>\n      <td>VH</td>\n      <td>VH</td>\n      <td>17033296.56</td>\n      <td>10814791.48</td>\n      <td>19669401.98</td>\n      <td>21291620.70</td>\n      <td>22913839.20</td>\n      <td>22913839.20</td>\n      <td>4.582768e+06</td>\n      <td>4.582768e+06</td>\n      <td>4.124491e+07</td>\n      <td>4.124491e+07</td>\n      <td>28186050.26</td>\n      <td>28186050.26</td>\n      <td>5.637210e+06</td>\n      <td>5.637210e+06</td>\n      <td>5.073489e+07</td>\n      <td>5.073489e+07</td>\n      <td>Downgrade</td>\n      <td>Not suspicious</td>\n      <td>0.8</td>\n    </tr>\n    <tr>\n      <th>17</th>\n      <td>20230115ADZBOG202303</td>\n      <td>ADZBOG</td>\n      <td>202303</td>\n      <td>20230108</td>\n      <td>20230115</td>\n      <td>1.48</td>\n      <td>1.81</td>\n      <td>0.33</td>\n      <td>Co_Leader</td>\n      <td>Leader</td>\n      <td>LA</td>\n      <td>LA</td>\n      <td>54083846.88</td>\n      <td>54083846.88</td>\n      <td>36503707.00</td>\n      <td>29844344.56</td>\n      <td>53737154.40</td>\n      <td>53737154.40</td>\n      <td>1.074743e+07</td>\n      <td>1.074743e+07</td>\n      <td>9.672688e+07</td>\n      <td>9.672688e+07</td>\n      <td>37406549.00</td>\n      <td>37406549.00</td>\n      <td>7.481310e+06</td>\n      <td>7.481310e+06</td>\n      <td>6.733179e+07</td>\n      <td>6.733179e+07</td>\n      <td>Upgrade</td>\n      <td>Not suspicious</td>\n      <td>0.8</td>\n    </tr>\n    <tr>\n      <th>18</th>\n      <td>20230115GUASAL202302</td>\n      <td>GUASAL</td>\n      <td>202302</td>\n      <td>20230108</td>\n      <td>20230115</td>\n      <td>1.62</td>\n      <td>1.37</td>\n      <td>0.25</td>\n      <td>Leader</td>\n      <td>Co_Leader</td>\n      <td>IB</td>\n      <td>IB</td>\n      <td>2654760.98</td>\n      <td>2238661.76</td>\n      <td>1635196.64</td>\n      <td>1635196.64</td>\n      <td>2654760.98</td>\n      <td>2654760.98</td>\n      <td>5.309522e+05</td>\n      <td>5.309522e+05</td>\n      <td>4.778570e+06</td>\n      <td>4.778570e+06</td>\n      <td>1751996.40</td>\n      <td>1751996.40</td>\n      <td>3.503993e+05</td>\n      <td>3.503993e+05</td>\n      <td>3.153594e+06</td>\n      <td>3.153594e+06</td>\n      <td>Downgrade</td>\n      <td>Not suspicious</td>\n      <td>0.8</td>\n    </tr>\n    <tr>\n      <th>19</th>\n      <td>20230115GUASAP202302</td>\n      <td>GUASAP</td>\n      <td>202302</td>\n      <td>20230108</td>\n      <td>20230115</td>\n      <td>1.22</td>\n      <td>0.97</td>\n      <td>0.25</td>\n      <td>Co_Leader</td>\n      <td>Follower</td>\n      <td>CC</td>\n      <td>CC</td>\n      <td>1293449.04</td>\n      <td>1030495.18</td>\n      <td>1058922.68</td>\n      <td>1058922.68</td>\n      <td>1385838.22</td>\n      <td>1385838.22</td>\n      <td>2.771676e+05</td>\n      <td>2.771676e+05</td>\n      <td>2.494509e+06</td>\n      <td>2.494509e+06</td>\n      <td>1132952.51</td>\n      <td>1132952.51</td>\n      <td>2.265905e+05</td>\n      <td>2.265905e+05</td>\n      <td>2.039315e+06</td>\n      <td>2.039315e+06</td>\n      <td>Downgrade</td>\n      <td>Not suspicious</td>\n      <td>0.8</td>\n    </tr>\n    <tr>\n      <th>20</th>\n      <td>20230115CTGMDE202302</td>\n      <td>CTGMDE</td>\n      <td>202302</td>\n      <td>20230108</td>\n      <td>20230115</td>\n      <td>0.88</td>\n      <td>0.64</td>\n      <td>0.24</td>\n      <td>Follower</td>\n      <td>Challenger</td>\n      <td>VH</td>\n      <td>VH</td>\n      <td>22256840.48</td>\n      <td>16238409.24</td>\n      <td>25379611.04</td>\n      <td>25379611.04</td>\n      <td>21447759.39</td>\n      <td>21447759.39</td>\n      <td>4.289552e+06</td>\n      <td>4.289552e+06</td>\n      <td>3.860597e+07</td>\n      <td>3.860597e+07</td>\n      <td>34918256.80</td>\n      <td>34918256.80</td>\n      <td>6.983651e+06</td>\n      <td>6.983651e+06</td>\n      <td>6.285286e+07</td>\n      <td>6.285286e+07</td>\n      <td>Downgrade</td>\n      <td>Not suspicious</td>\n      <td>0.8</td>\n    </tr>\n    <tr>\n      <th>21</th>\n      <td>20230115MDEMIA202302</td>\n      <td>MDEMIA</td>\n      <td>202302</td>\n      <td>20230108</td>\n      <td>20230115</td>\n      <td>0.52</td>\n      <td>0.30</td>\n      <td>0.22</td>\n      <td>Challenger</td>\n      <td>Bottom_Feeder</td>\n      <td>AA</td>\n      <td>AA</td>\n      <td>22500173.92</td>\n      <td>12857242.24</td>\n      <td>43000332.48</td>\n      <td>43000332.48</td>\n      <td>24910906.84</td>\n      <td>24910906.84</td>\n      <td>4.982181e+06</td>\n      <td>4.982181e+06</td>\n      <td>4.483963e+07</td>\n      <td>4.483963e+07</td>\n      <td>69107677.20</td>\n      <td>69107677.20</td>\n      <td>1.382154e+07</td>\n      <td>1.382154e+07</td>\n      <td>1.243938e+08</td>\n      <td>1.243938e+08</td>\n      <td>Downgrade</td>\n      <td>Not suspicious</td>\n      <td>0.8</td>\n    </tr>\n    <tr>\n      <th>22</th>\n      <td>20230115MDEMEX202311</td>\n      <td>MDEMEX</td>\n      <td>202311</td>\n      <td>20230108</td>\n      <td>20230115</td>\n      <td>0.22</td>\n      <td>0.43</td>\n      <td>0.21</td>\n      <td>Bottom_Feeder</td>\n      <td>Challenger</td>\n      <td>VH</td>\n      <td>VH</td>\n      <td>13813192.64</td>\n      <td>13813192.64</td>\n      <td>63753196.80</td>\n      <td>31876598.40</td>\n      <td>15371604.08</td>\n      <td>15371604.08</td>\n      <td>3.074321e+06</td>\n      <td>3.074321e+06</td>\n      <td>2.766889e+07</td>\n      <td>2.766889e+07</td>\n      <td>59502983.68</td>\n      <td>59502983.68</td>\n      <td>1.190060e+07</td>\n      <td>1.190060e+07</td>\n      <td>1.071054e+08</td>\n      <td>1.071054e+08</td>\n      <td>Upgrade</td>\n      <td>Not suspicious</td>\n      <td>0.8</td>\n    </tr>\n    <tr>\n      <th>23</th>\n      <td>20230115MDEMEX202312</td>\n      <td>MDEMEX</td>\n      <td>202312</td>\n      <td>20230108</td>\n      <td>20230115</td>\n      <td>0.21</td>\n      <td>0.42</td>\n      <td>0.21</td>\n      <td>Bottom_Feeder</td>\n      <td>Challenger</td>\n      <td>VH</td>\n      <td>VH</td>\n      <td>13813192.64</td>\n      <td>13813192.64</td>\n      <td>65878303.36</td>\n      <td>32939151.68</td>\n      <td>15371604.08</td>\n      <td>15371604.08</td>\n      <td>3.074321e+06</td>\n      <td>3.074321e+06</td>\n      <td>2.766889e+07</td>\n      <td>2.766889e+07</td>\n      <td>59502983.68</td>\n      <td>59502983.68</td>\n      <td>1.190060e+07</td>\n      <td>1.190060e+07</td>\n      <td>1.071054e+08</td>\n      <td>1.071054e+08</td>\n      <td>Upgrade</td>\n      <td>Not suspicious</td>\n      <td>0.8</td>\n    </tr>\n    <tr>\n      <th>24</th>\n      <td>20230115MDEPUJ202302</td>\n      <td>MDEPUJ</td>\n      <td>202302</td>\n      <td>20230108</td>\n      <td>20230115</td>\n      <td>1.00</td>\n      <td>0.79</td>\n      <td>0.21</td>\n      <td>Co_Leader</td>\n      <td>Follower</td>\n      <td>VH</td>\n      <td>VH</td>\n      <td>15832854.80</td>\n      <td>12440100.20</td>\n      <td>15832854.80</td>\n      <td>15832854.80</td>\n      <td>17529232.10</td>\n      <td>17529232.10</td>\n      <td>3.505846e+06</td>\n      <td>3.505846e+06</td>\n      <td>3.155262e+07</td>\n      <td>3.155262e+07</td>\n      <td>17529232.10</td>\n      <td>17529232.10</td>\n      <td>3.505846e+06</td>\n      <td>3.505846e+06</td>\n      <td>3.155262e+07</td>\n      <td>3.155262e+07</td>\n      <td>Downgrade</td>\n      <td>Not suspicious</td>\n      <td>0.8</td>\n    </tr>\n    <tr>\n      <th>25</th>\n      <td>20230115CUNMDE202303</td>\n      <td>CUNMDE</td>\n      <td>202303</td>\n      <td>20230108</td>\n      <td>20230115</td>\n      <td>0.82</td>\n      <td>1.01</td>\n      <td>0.19</td>\n      <td>Follower</td>\n      <td>Co_Leader</td>\n      <td>VH</td>\n      <td>VH</td>\n      <td>23101322.28</td>\n      <td>23101322.28</td>\n      <td>28136226.00</td>\n      <td>22953237.00</td>\n      <td>22953236.40</td>\n      <td>22953236.40</td>\n      <td>4.590647e+06</td>\n      <td>4.590647e+06</td>\n      <td>4.131583e+07</td>\n      <td>4.131583e+07</td>\n      <td>22953237.00</td>\n      <td>22953237.00</td>\n      <td>4.590647e+06</td>\n      <td>4.590647e+06</td>\n      <td>4.131583e+07</td>\n      <td>4.131583e+07</td>\n      <td>Upgrade</td>\n      <td>Not suspicious</td>\n      <td>0.8</td>\n    </tr>\n    <tr>\n      <th>26</th>\n      <td>20230115BOGSDQ202312</td>\n      <td>BOGSDQ</td>\n      <td>202312</td>\n      <td>20230108</td>\n      <td>20230115</td>\n      <td>0.97</td>\n      <td>1.15</td>\n      <td>0.18</td>\n      <td>Follower</td>\n      <td>Co_Leader</td>\n      <td>P5</td>\n      <td>P5</td>\n      <td>17798636.36</td>\n      <td>17798636.36</td>\n      <td>18391924.28</td>\n      <td>15425484.88</td>\n      <td>21243533.78</td>\n      <td>21243533.78</td>\n      <td>4.248707e+06</td>\n      <td>4.248707e+06</td>\n      <td>3.823836e+07</td>\n      <td>3.823836e+07</td>\n      <td>14015628.64</td>\n      <td>14015628.64</td>\n      <td>2.803126e+06</td>\n      <td>2.803126e+06</td>\n      <td>2.522813e+07</td>\n      <td>2.522813e+07</td>\n      <td>Upgrade</td>\n      <td>Not suspicious</td>\n      <td>0.8</td>\n    </tr>\n    <tr>\n      <th>27</th>\n      <td>20230115CUCMDE202302</td>\n      <td>CUCMDE</td>\n      <td>202302</td>\n      <td>20230108</td>\n      <td>20230115</td>\n      <td>0.44</td>\n      <td>0.26</td>\n      <td>0.18</td>\n      <td>Challenger</td>\n      <td>Bottom_Feeder</td>\n      <td>VH</td>\n      <td>VH</td>\n      <td>3795991.92</td>\n      <td>2259519.00</td>\n      <td>8540981.82</td>\n      <td>8540981.82</td>\n      <td>4121362.68</td>\n      <td>4121362.68</td>\n      <td>8.242725e+05</td>\n      <td>8.242725e+05</td>\n      <td>7.418453e+06</td>\n      <td>7.418453e+06</td>\n      <td>8676552.96</td>\n      <td>8676552.96</td>\n      <td>1.735311e+06</td>\n      <td>1.735311e+06</td>\n      <td>1.561780e+07</td>\n      <td>1.561780e+07</td>\n      <td>Downgrade</td>\n      <td>Not suspicious</td>\n      <td>0.8</td>\n    </tr>\n    <tr>\n      <th>28</th>\n      <td>20230115CUNMDE202312</td>\n      <td>CUNMDE</td>\n      <td>202312</td>\n      <td>20230108</td>\n      <td>20230115</td>\n      <td>1.02</td>\n      <td>0.85</td>\n      <td>0.17</td>\n      <td>Co_Leader</td>\n      <td>Follower</td>\n      <td>VH</td>\n      <td>VH</td>\n      <td>19621315.50</td>\n      <td>19621315.50</td>\n      <td>19251102.00</td>\n      <td>22953237.00</td>\n      <td>22953236.40</td>\n      <td>22953236.40</td>\n      <td>4.590647e+06</td>\n      <td>4.590647e+06</td>\n      <td>4.131583e+07</td>\n      <td>4.131583e+07</td>\n      <td>22953237.00</td>\n      <td>22953237.00</td>\n      <td>4.590647e+06</td>\n      <td>4.590647e+06</td>\n      <td>4.131583e+07</td>\n      <td>4.131583e+07</td>\n      <td>Downgrade</td>\n      <td>Not suspicious</td>\n      <td>0.8</td>\n    </tr>\n    <tr>\n      <th>29</th>\n      <td>20230115MDESMR202303</td>\n      <td>MDESMR</td>\n      <td>202303</td>\n      <td>20230108</td>\n      <td>20230115</td>\n      <td>0.66</td>\n      <td>0.83</td>\n      <td>0.17</td>\n      <td>Challenger</td>\n      <td>Follower</td>\n      <td>VH</td>\n      <td>VH</td>\n      <td>19791068.34</td>\n      <td>19791068.34</td>\n      <td>30011046.32</td>\n      <td>23724948.78</td>\n      <td>22913839.20</td>\n      <td>22913839.20</td>\n      <td>4.582768e+06</td>\n      <td>4.582768e+06</td>\n      <td>4.124491e+07</td>\n      <td>4.124491e+07</td>\n      <td>28186050.26</td>\n      <td>28186050.26</td>\n      <td>5.637210e+06</td>\n      <td>5.637210e+06</td>\n      <td>5.073489e+07</td>\n      <td>5.073489e+07</td>\n      <td>Upgrade</td>\n      <td>Not suspicious</td>\n      <td>0.8</td>\n    </tr>\n    <tr>\n      <th>30</th>\n      <td>20230115BOGSDQ202311</td>\n      <td>BOGSDQ</td>\n      <td>202311</td>\n      <td>20230108</td>\n      <td>20230115</td>\n      <td>0.97</td>\n      <td>1.12</td>\n      <td>0.15</td>\n      <td>Follower</td>\n      <td>Co_Leader</td>\n      <td>P5</td>\n      <td>P5</td>\n      <td>17224486.80</td>\n      <td>17224486.80</td>\n      <td>17798636.40</td>\n      <td>15425484.88</td>\n      <td>21243533.78</td>\n      <td>21243533.78</td>\n      <td>4.248707e+06</td>\n      <td>4.248707e+06</td>\n      <td>3.823836e+07</td>\n      <td>3.823836e+07</td>\n      <td>14015628.64</td>\n      <td>14015628.64</td>\n      <td>2.803126e+06</td>\n      <td>2.803126e+06</td>\n      <td>2.522813e+07</td>\n      <td>2.522813e+07</td>\n      <td>Upgrade</td>\n      <td>Not suspicious</td>\n      <td>0.8</td>\n    </tr>\n    <tr>\n      <th>31</th>\n      <td>20230115CUNMDE202311</td>\n      <td>CUNMDE</td>\n      <td>202311</td>\n      <td>20230108</td>\n      <td>20230115</td>\n      <td>1.02</td>\n      <td>0.88</td>\n      <td>0.14</td>\n      <td>Co_Leader</td>\n      <td>Follower</td>\n      <td>VH</td>\n      <td>VH</td>\n      <td>19621315.50</td>\n      <td>19621315.50</td>\n      <td>19251102.00</td>\n      <td>22212810.00</td>\n      <td>22953236.40</td>\n      <td>22953236.40</td>\n      <td>4.590647e+06</td>\n      <td>4.590647e+06</td>\n      <td>4.131583e+07</td>\n      <td>4.131583e+07</td>\n      <td>22953237.00</td>\n      <td>22953237.00</td>\n      <td>4.590647e+06</td>\n      <td>4.590647e+06</td>\n      <td>4.131583e+07</td>\n      <td>4.131583e+07</td>\n      <td>Downgrade</td>\n      <td>Not suspicious</td>\n      <td>0.8</td>\n    </tr>\n    <tr>\n      <th>32</th>\n      <td>20230115CLOCUC202310</td>\n      <td>CLOCUC</td>\n      <td>202310</td>\n      <td>20230108</td>\n      <td>20230115</td>\n      <td>1.38</td>\n      <td>1.50</td>\n      <td>0.12</td>\n      <td>Co_Leader</td>\n      <td>Leader</td>\n      <td>VH</td>\n      <td>VH</td>\n      <td>4192276.68</td>\n      <td>4192276.68</td>\n      <td>3027755.38</td>\n      <td>2794851.12</td>\n      <td>3959372.42</td>\n      <td>3959372.42</td>\n      <td>7.918745e+05</td>\n      <td>7.918745e+05</td>\n      <td>7.126870e+06</td>\n      <td>7.126870e+06</td>\n      <td>3027755.38</td>\n      <td>3027755.38</td>\n      <td>6.055511e+05</td>\n      <td>6.055511e+05</td>\n      <td>5.449960e+06</td>\n      <td>5.449960e+06</td>\n      <td>Upgrade</td>\n      <td>Not suspicious</td>\n      <td>0.8</td>\n    </tr>\n    <tr>\n      <th>33</th>\n      <td>20230115BOGFLA202301</td>\n      <td>BOGFLA</td>\n      <td>202301</td>\n      <td>20230108</td>\n      <td>20230115</td>\n      <td>0.89</td>\n      <td>1.00</td>\n      <td>0.11</td>\n      <td>Follower</td>\n      <td>Co_Leader</td>\n      <td>VE</td>\n      <td>VE</td>\n      <td>1633806.00</td>\n      <td>1633806.00</td>\n      <td>1825929.54</td>\n      <td>1626998.53</td>\n      <td>2723010.00</td>\n      <td>2723010.00</td>\n      <td>5.446020e+05</td>\n      <td>5.446020e+05</td>\n      <td>4.901418e+06</td>\n      <td>4.901418e+06</td>\n      <td>1673138.40</td>\n      <td>1673138.40</td>\n      <td>3.346277e+05</td>\n      <td>3.346277e+05</td>\n      <td>3.011649e+06</td>\n      <td>3.011649e+06</td>\n      <td>Upgrade</td>\n      <td>Not suspicious</td>\n      <td>0.8</td>\n    </tr>\n    <tr>\n      <th>34</th>\n      <td>20230115GUAJFK202302</td>\n      <td>GUAJFK</td>\n      <td>202302</td>\n      <td>20230108</td>\n      <td>20230115</td>\n      <td>0.40</td>\n      <td>0.29</td>\n      <td>0.11</td>\n      <td>Challenger</td>\n      <td>Bottom_Feeder</td>\n      <td>B6</td>\n      <td>B6</td>\n      <td>14752322.18</td>\n      <td>10736191.44</td>\n      <td>37112760.16</td>\n      <td>37112760.16</td>\n      <td>10736191.44</td>\n      <td>10736191.44</td>\n      <td>2.147238e+06</td>\n      <td>2.147238e+06</td>\n      <td>1.932514e+07</td>\n      <td>1.932514e+07</td>\n      <td>39763671.60</td>\n      <td>39763671.60</td>\n      <td>7.952734e+06</td>\n      <td>7.952734e+06</td>\n      <td>7.157461e+07</td>\n      <td>7.157461e+07</td>\n      <td>Downgrade</td>\n      <td>Not suspicious</td>\n      <td>0.8</td>\n    </tr>\n    <tr>\n      <th>35</th>\n      <td>20230115CLOCTG202310</td>\n      <td>CLOCTG</td>\n      <td>202310</td>\n      <td>20230108</td>\n      <td>20230115</td>\n      <td>1.45</td>\n      <td>1.54</td>\n      <td>0.09</td>\n      <td>Co_Leader</td>\n      <td>Leader</td>\n      <td>VH</td>\n      <td>VH</td>\n      <td>22108717.80</td>\n      <td>22108717.80</td>\n      <td>15231475.60</td>\n      <td>14400667.84</td>\n      <td>20770194.00</td>\n      <td>20770194.00</td>\n      <td>4.154039e+06</td>\n      <td>4.154039e+06</td>\n      <td>3.738635e+07</td>\n      <td>3.738635e+07</td>\n      <td>13015988.24</td>\n      <td>13015988.24</td>\n      <td>2.603198e+06</td>\n      <td>2.603198e+06</td>\n      <td>2.342878e+07</td>\n      <td>2.342878e+07</td>\n      <td>Upgrade</td>\n      <td>Not suspicious</td>\n      <td>0.8</td>\n    </tr>\n    <tr>\n      <th>36</th>\n      <td>20230115GUASJO202302</td>\n      <td>GUASJO</td>\n      <td>202302</td>\n      <td>20230108</td>\n      <td>20230115</td>\n      <td>0.99</td>\n      <td>1.06</td>\n      <td>0.07</td>\n      <td>Follower</td>\n      <td>Co_Leader</td>\n      <td>Y4</td>\n      <td>Y4</td>\n      <td>14777080.34</td>\n      <td>15792299.60</td>\n      <td>14889882.72</td>\n      <td>14889882.72</td>\n      <td>12715877.60</td>\n      <td>12715877.60</td>\n      <td>2.543176e+06</td>\n      <td>2.543176e+06</td>\n      <td>2.288858e+07</td>\n      <td>2.288858e+07</td>\n      <td>14274598.08</td>\n      <td>14274598.08</td>\n      <td>2.854920e+06</td>\n      <td>2.854920e+06</td>\n      <td>2.569428e+07</td>\n      <td>2.569428e+07</td>\n      <td>Upgrade</td>\n      <td>Not suspicious</td>\n      <td>0.8</td>\n    </tr>\n    <tr>\n      <th>37</th>\n      <td>20230115BOGLET202302</td>\n      <td>BOGLET</td>\n      <td>202302</td>\n      <td>20230108</td>\n      <td>20230115</td>\n      <td>0.66</td>\n      <td>0.72</td>\n      <td>0.06</td>\n      <td>Challenger</td>\n      <td>Follower</td>\n      <td>LA</td>\n      <td>LA</td>\n      <td>9936476.16</td>\n      <td>10982420.96</td>\n      <td>15166200.80</td>\n      <td>15166200.80</td>\n      <td>12159109.20</td>\n      <td>12159109.20</td>\n      <td>2.431822e+06</td>\n      <td>2.431822e+06</td>\n      <td>2.188640e+07</td>\n      <td>2.188640e+07</td>\n      <td>16159848.40</td>\n      <td>16159848.40</td>\n      <td>3.231970e+06</td>\n      <td>3.231970e+06</td>\n      <td>2.908773e+07</td>\n      <td>2.908773e+07</td>\n      <td>Upgrade</td>\n      <td>Not suspicious</td>\n      <td>0.8</td>\n    </tr>\n    <tr>\n      <th>38</th>\n      <td>20230115CTGMDE202303</td>\n      <td>CTGMDE</td>\n      <td>202303</td>\n      <td>20230108</td>\n      <td>20230115</td>\n      <td>0.67</td>\n      <td>0.73</td>\n      <td>0.06</td>\n      <td>Challenger</td>\n      <td>Follower</td>\n      <td>VH</td>\n      <td>VH</td>\n      <td>24102114.54</td>\n      <td>24102114.54</td>\n      <td>35769921.60</td>\n      <td>33214927.20</td>\n      <td>21447759.39</td>\n      <td>21447759.39</td>\n      <td>4.289552e+06</td>\n      <td>4.289552e+06</td>\n      <td>3.860597e+07</td>\n      <td>3.860597e+07</td>\n      <td>34918256.80</td>\n      <td>34918256.80</td>\n      <td>6.983651e+06</td>\n      <td>6.983651e+06</td>\n      <td>6.285286e+07</td>\n      <td>6.285286e+07</td>\n      <td>Upgrade</td>\n      <td>Not suspicious</td>\n      <td>0.8</td>\n    </tr>\n    <tr>\n      <th>39</th>\n      <td>20230115CLOSMR202310</td>\n      <td>CLOSMR</td>\n      <td>202310</td>\n      <td>20230108</td>\n      <td>20230115</td>\n      <td>0.66</td>\n      <td>0.71</td>\n      <td>0.05</td>\n      <td>Challenger</td>\n      <td>Follower</td>\n      <td>VH</td>\n      <td>VH</td>\n      <td>8838890.80</td>\n      <td>8838890.80</td>\n      <td>13477741.12</td>\n      <td>12537433.60</td>\n      <td>8744860.06</td>\n      <td>8744860.06</td>\n      <td>1.748972e+06</td>\n      <td>1.748972e+06</td>\n      <td>1.574075e+07</td>\n      <td>1.574075e+07</td>\n      <td>10970254.40</td>\n      <td>10970254.40</td>\n      <td>2.194051e+06</td>\n      <td>2.194051e+06</td>\n      <td>1.974646e+07</td>\n      <td>1.974646e+07</td>\n      <td>Upgrade</td>\n      <td>Not suspicious</td>\n      <td>0.8</td>\n    </tr>\n    <tr>\n      <th>40</th>\n      <td>20230115CLOCUC202311</td>\n      <td>CLOCUC</td>\n      <td>202311</td>\n      <td>20230108</td>\n      <td>20230115</td>\n      <td>1.31</td>\n      <td>NaN</td>\n      <td>NaN</td>\n      <td>Co_Leader</td>\n      <td>Sole_Player</td>\n      <td>VH</td>\n      <td>NaN</td>\n      <td>3959372.42</td>\n      <td>3959372.42</td>\n      <td>3027755.38</td>\n      <td>NaN</td>\n      <td>3959372.42</td>\n      <td>3959372.42</td>\n      <td>7.918745e+05</td>\n      <td>7.918745e+05</td>\n      <td>7.126870e+06</td>\n      <td>7.126870e+06</td>\n      <td>3027755.38</td>\n      <td>NaN</td>\n      <td>6.055511e+05</td>\n      <td>NaN</td>\n      <td>5.449960e+06</td>\n      <td>NaN</td>\n      <td>Upgrade</td>\n      <td>Suspicious</td>\n      <td>0.8</td>\n    </tr>\n    <tr>\n      <th>41</th>\n      <td>20230115CLOCUC202312</td>\n      <td>CLOCUC</td>\n      <td>202312</td>\n      <td>20230108</td>\n      <td>20230115</td>\n      <td>1.38</td>\n      <td>NaN</td>\n      <td>NaN</td>\n      <td>Co_Leader</td>\n      <td>Sole_Player</td>\n      <td>VH</td>\n      <td>NaN</td>\n      <td>4192276.68</td>\n      <td>4192276.68</td>\n      <td>3027755.38</td>\n      <td>NaN</td>\n      <td>3959372.42</td>\n      <td>3959372.42</td>\n      <td>7.918745e+05</td>\n      <td>7.918745e+05</td>\n      <td>7.126870e+06</td>\n      <td>7.126870e+06</td>\n      <td>3027755.38</td>\n      <td>NaN</td>\n      <td>6.055511e+05</td>\n      <td>NaN</td>\n      <td>5.449960e+06</td>\n      <td>NaN</td>\n      <td>Upgrade</td>\n      <td>Suspicious</td>\n      <td>0.8</td>\n    </tr>\n  </tbody>\n</table>\n</div>"
            ]
          },
          "metadata": {
            "application/vnd.databricks.v1+output": {
              "addedWidgets": {},
              "arguments": {},
              "data": "<div>\n<style scoped>\n    .dataframe tbody tr th:only-of-type {\n        vertical-align: middle;\n    }\n\n    .dataframe tbody tr th {\n        vertical-align: top;\n    }\n\n    .dataframe thead th {\n        text-align: right;\n    }\n</style>\n<table border=\"1\" class=\"dataframe\">\n  <thead>\n    <tr style=\"text-align: right;\">\n      <th></th>\n      <th>id_alert</th>\n      <th>rt</th>\n      <th>flight_date</th>\n      <th>snapshot_date_lw</th>\n      <th>snapshot_date_cw</th>\n      <th>rcs_lw</th>\n      <th>rcs_cw</th>\n      <th>rcs_delta_abs</th>\n      <th>category_lw</th>\n      <th>category_cw</th>\n      <th>competitor_lw</th>\n      <th>competitor_cw</th>\n      <th>total_asks_av_lw</th>\n      <th>total_asks_av_cw</th>\n      <th>max_asks_competitor_lw</th>\n      <th>max_asks_competitor_cw</th>\n      <th>median_asks_hist_av_lw</th>\n      <th>median_asks_hist_av_cw</th>\n      <th>median_lower_thresh_hist_av_lw</th>\n      <th>median_lower_thresh_hist_av_cw</th>\n      <th>median_upper_thresh_hist_av_lw</th>\n      <th>median_upper_thresh_hist_av_cw</th>\n      <th>median_asks_hist_competitor_lw</th>\n      <th>median_asks_hist_competitor_cw</th>\n      <th>median_lower_thresh_hist_competitor_lw</th>\n      <th>median_lower_thresh_hist_competitor_cw</th>\n      <th>median_upper_thresh_hist_competitor_lw</th>\n      <th>median_upper_thresh_hist_competitor_cw</th>\n      <th>change</th>\n      <th>suspicious</th>\n      <th>threshold</th>\n    </tr>\n  </thead>\n  <tbody>\n    <tr>\n      <th>0</th>\n      <td>20230115MDERCH202302</td>\n      <td>MDERCH</td>\n      <td>202302</td>\n      <td>20230108</td>\n      <td>20230115</td>\n      <td>2.00</td>\n      <td>0.92</td>\n      <td>1.08</td>\n      <td>Leader</td>\n      <td>Follower</td>\n      <td>VH</td>\n      <td>VH</td>\n      <td>3763547.52</td>\n      <td>1735413.58</td>\n      <td>1881773.76</td>\n      <td>1881773.76</td>\n      <td>3159811.72</td>\n      <td>3159811.72</td>\n      <td>6.319623e+05</td>\n      <td>6.319623e+05</td>\n      <td>5.687661e+06</td>\n      <td>5.687661e+06</td>\n      <td>2822660.64</td>\n      <td>2822660.64</td>\n      <td>5.645321e+05</td>\n      <td>5.645321e+05</td>\n      <td>5.080789e+06</td>\n      <td>5.080789e+06</td>\n      <td>Downgrade</td>\n      <td>Not suspicious</td>\n      <td>0.8</td>\n    </tr>\n    <tr>\n      <th>1</th>\n      <td>20230115CLOSMR202311</td>\n      <td>CLOSMR</td>\n      <td>202311</td>\n      <td>20230108</td>\n      <td>20230115</td>\n      <td>0.77</td>\n      <td>1.83</td>\n      <td>1.06</td>\n      <td>Follower</td>\n      <td>Leader</td>\n      <td>VH</td>\n      <td>LA</td>\n      <td>9403075.20</td>\n      <td>9403075.20</td>\n      <td>12223997.76</td>\n      <td>5150795.66</td>\n      <td>8744860.06</td>\n      <td>8744860.06</td>\n      <td>1.748972e+06</td>\n      <td>1.748972e+06</td>\n      <td>1.574075e+07</td>\n      <td>1.574075e+07</td>\n      <td>10970254.40</td>\n      <td>5150795.66</td>\n      <td>2.194051e+06</td>\n      <td>1.030159e+06</td>\n      <td>1.974646e+07</td>\n      <td>9.271432e+06</td>\n      <td>Upgrade</td>\n      <td>Not suspicious</td>\n      <td>0.8</td>\n    </tr>\n    <tr>\n      <th>2</th>\n      <td>20230115CLOSMR202312</td>\n      <td>CLOSMR</td>\n      <td>202312</td>\n      <td>20230108</td>\n      <td>20230115</td>\n      <td>0.79</td>\n      <td>1.78</td>\n      <td>0.99</td>\n      <td>Follower</td>\n      <td>Leader</td>\n      <td>VH</td>\n      <td>LA</td>\n      <td>9716511.04</td>\n      <td>9716511.04</td>\n      <td>12223997.76</td>\n      <td>5453783.64</td>\n      <td>8744860.06</td>\n      <td>8744860.06</td>\n      <td>1.748972e+06</td>\n      <td>1.748972e+06</td>\n      <td>1.574075e+07</td>\n      <td>1.574075e+07</td>\n      <td>10970254.40</td>\n      <td>5150795.66</td>\n      <td>2.194051e+06</td>\n      <td>1.030159e+06</td>\n      <td>1.974646e+07</td>\n      <td>9.271432e+06</td>\n      <td>Upgrade</td>\n      <td>Not suspicious</td>\n      <td>0.8</td>\n    </tr>\n    <tr>\n      <th>3</th>\n      <td>20230115BGACTG202302</td>\n      <td>BGACTG</td>\n      <td>202302</td>\n      <td>20230108</td>\n      <td>20230115</td>\n      <td>1.25</td>\n      <td>0.38</td>\n      <td>0.87</td>\n      <td>Co_Leader</td>\n      <td>Bottom_Feeder</td>\n      <td>U0</td>\n      <td>U0</td>\n      <td>3256024.80</td>\n      <td>976807.44</td>\n      <td>2604819.84</td>\n      <td>2604819.84</td>\n      <td>3256024.80</td>\n      <td>3256024.80</td>\n      <td>6.512050e+05</td>\n      <td>6.512050e+05</td>\n      <td>5.860845e+06</td>\n      <td>5.860845e+06</td>\n      <td>2767621.08</td>\n      <td>2767621.08</td>\n      <td>5.535242e+05</td>\n      <td>5.535242e+05</td>\n      <td>4.981718e+06</td>\n      <td>4.981718e+06</td>\n      <td>Downgrade</td>\n      <td>Not suspicious</td>\n      <td>0.8</td>\n    </tr>\n    <tr>\n      <th>4</th>\n      <td>20230115GYEJFK202312</td>\n      <td>GYEJFK</td>\n      <td>202312</td>\n      <td>20230108</td>\n      <td>20230115</td>\n      <td>1.80</td>\n      <td>1.01</td>\n      <td>0.79</td>\n      <td>Leader</td>\n      <td>Co_Leader</td>\n      <td>B6</td>\n      <td>B6</td>\n      <td>30962362.32</td>\n      <td>30962362.32</td>\n      <td>17201312.46</td>\n      <td>30580111.04</td>\n      <td>30388985.24</td>\n      <td>30388985.24</td>\n      <td>6.077797e+06</td>\n      <td>6.077797e+06</td>\n      <td>5.470017e+07</td>\n      <td>5.470017e+07</td>\n      <td>59248965.14</td>\n      <td>59248965.14</td>\n      <td>1.184979e+07</td>\n      <td>1.184979e+07</td>\n      <td>1.066481e+08</td>\n      <td>1.066481e+08</td>\n      <td>Downgrade</td>\n      <td>Not suspicious</td>\n      <td>0.8</td>\n    </tr>\n    <tr>\n      <th>5</th>\n      <td>20230115CTGPEI202311</td>\n      <td>CTGPEI</td>\n      <td>202311</td>\n      <td>20230108</td>\n      <td>20230115</td>\n      <td>0.89</td>\n      <td>1.67</td>\n      <td>0.78</td>\n      <td>Follower</td>\n      <td>Leader</td>\n      <td>VH</td>\n      <td>VH</td>\n      <td>11210690.40</td>\n      <td>11210690.40</td>\n      <td>12555972.80</td>\n      <td>6726414.00</td>\n      <td>11434904.16</td>\n      <td>11434904.16</td>\n      <td>2.286981e+06</td>\n      <td>2.286981e+06</td>\n      <td>2.058283e+07</td>\n      <td>2.058283e+07</td>\n      <td>8520124.40</td>\n      <td>8520124.40</td>\n      <td>1.704025e+06</td>\n      <td>1.704025e+06</td>\n      <td>1.533622e+07</td>\n      <td>1.533622e+07</td>\n      <td>Upgrade</td>\n      <td>Not suspicious</td>\n      <td>0.8</td>\n    </tr>\n    <tr>\n      <th>6</th>\n      <td>20230115CTGPEI202312</td>\n      <td>CTGPEI</td>\n      <td>202312</td>\n      <td>20230108</td>\n      <td>20230115</td>\n      <td>0.92</td>\n      <td>1.67</td>\n      <td>0.75</td>\n      <td>Follower</td>\n      <td>Leader</td>\n      <td>VH</td>\n      <td>VH</td>\n      <td>11584380.08</td>\n      <td>11584380.08</td>\n      <td>12555972.80</td>\n      <td>6950627.80</td>\n      <td>11434904.16</td>\n      <td>11434904.16</td>\n      <td>2.286981e+06</td>\n      <td>2.286981e+06</td>\n      <td>2.058283e+07</td>\n      <td>2.058283e+07</td>\n      <td>8520124.40</td>\n      <td>8520124.40</td>\n      <td>1.704025e+06</td>\n      <td>1.704025e+06</td>\n      <td>1.533622e+07</td>\n      <td>1.533622e+07</td>\n      <td>Upgrade</td>\n      <td>Not suspicious</td>\n      <td>0.8</td>\n    </tr>\n    <tr>\n      <th>7</th>\n      <td>20230115CTGJFK202312</td>\n      <td>CTGJFK</td>\n      <td>202312</td>\n      <td>20230108</td>\n      <td>20230115</td>\n      <td>1.67</td>\n      <td>0.94</td>\n      <td>0.73</td>\n      <td>Leader</td>\n      <td>Follower</td>\n      <td>B6</td>\n      <td>B6</td>\n      <td>16276358.16</td>\n      <td>16276358.16</td>\n      <td>9765814.86</td>\n      <td>17361448.64</td>\n      <td>16276358.16</td>\n      <td>16276358.16</td>\n      <td>3.255272e+06</td>\n      <td>3.255272e+06</td>\n      <td>2.929744e+07</td>\n      <td>2.929744e+07</td>\n      <td>33637806.74</td>\n      <td>33637806.74</td>\n      <td>6.727561e+06</td>\n      <td>6.727561e+06</td>\n      <td>6.054805e+07</td>\n      <td>6.054805e+07</td>\n      <td>Downgrade</td>\n      <td>Not suspicious</td>\n      <td>0.8</td>\n    </tr>\n    <tr>\n      <th>8</th>\n      <td>20230115CLOPSO202301</td>\n      <td>CLOPSO</td>\n      <td>202301</td>\n      <td>20230108</td>\n      <td>20230115</td>\n      <td>1.83</td>\n      <td>1.15</td>\n      <td>0.68</td>\n      <td>Leader</td>\n      <td>Co_Leader</td>\n      <td>VE</td>\n      <td>VE</td>\n      <td>2672090.52</td>\n      <td>2851693.32</td>\n      <td>1460769.44</td>\n      <td>2478518.64</td>\n      <td>2366266.89</td>\n      <td>2366266.89</td>\n      <td>4.732534e+05</td>\n      <td>4.732534e+05</td>\n      <td>4.259280e+06</td>\n      <td>4.259280e+06</td>\n      <td>1269193.12</td>\n      <td>1269193.12</td>\n      <td>2.538386e+05</td>\n      <td>2.538386e+05</td>\n      <td>2.284548e+06</td>\n      <td>2.284548e+06</td>\n      <td>Downgrade</td>\n      <td>Suspicious</td>\n      <td>0.8</td>\n    </tr>\n    <tr>\n      <th>9</th>\n      <td>20230115CLOCTG202302</td>\n      <td>CLOCTG</td>\n      <td>202302</td>\n      <td>20230108</td>\n      <td>20230115</td>\n      <td>0.81</td>\n      <td>0.30</td>\n      <td>0.51</td>\n      <td>Follower</td>\n      <td>Bottom_Feeder</td>\n      <td>LA</td>\n      <td>LA</td>\n      <td>8308077.60</td>\n      <td>3046295.12</td>\n      <td>10223551.01</td>\n      <td>10223551.01</td>\n      <td>20770194.00</td>\n      <td>20770194.00</td>\n      <td>4.154039e+06</td>\n      <td>4.154039e+06</td>\n      <td>3.738635e+07</td>\n      <td>3.738635e+07</td>\n      <td>11779007.68</td>\n      <td>11779007.68</td>\n      <td>2.355802e+06</td>\n      <td>2.355802e+06</td>\n      <td>2.120221e+07</td>\n      <td>2.120221e+07</td>\n      <td>Downgrade</td>\n      <td>Suspicious</td>\n      <td>0.8</td>\n    </tr>\n    <tr>\n      <th>10</th>\n      <td>20230115BGAMDE202302</td>\n      <td>BGAMDE</td>\n      <td>202302</td>\n      <td>20230108</td>\n      <td>20230115</td>\n      <td>0.98</td>\n      <td>0.52</td>\n      <td>0.46</td>\n      <td>Follower</td>\n      <td>Challenger</td>\n      <td>LA</td>\n      <td>LA</td>\n      <td>3939674.40</td>\n      <td>2101159.68</td>\n      <td>4038166.20</td>\n      <td>4038166.20</td>\n      <td>3155022.36</td>\n      <td>3155022.36</td>\n      <td>6.310045e+05</td>\n      <td>6.310045e+05</td>\n      <td>5.679040e+06</td>\n      <td>5.679040e+06</td>\n      <td>4307377.28</td>\n      <td>4307377.28</td>\n      <td>8.614755e+05</td>\n      <td>8.614755e+05</td>\n      <td>7.753279e+06</td>\n      <td>7.753279e+06</td>\n      <td>Downgrade</td>\n      <td>Not suspicious</td>\n      <td>0.8</td>\n    </tr>\n    <tr>\n      <th>11</th>\n      <td>20230115MDESMR202311</td>\n      <td>MDESMR</td>\n      <td>202311</td>\n      <td>20230108</td>\n      <td>20230115</td>\n      <td>0.82</td>\n      <td>1.27</td>\n      <td>0.45</td>\n      <td>Follower</td>\n      <td>Co_Leader</td>\n      <td>VH</td>\n      <td>VH</td>\n      <td>23184209.32</td>\n      <td>23184209.32</td>\n      <td>28186050.26</td>\n      <td>18249960.60</td>\n      <td>22913839.20</td>\n      <td>22913839.20</td>\n      <td>4.582768e+06</td>\n      <td>4.582768e+06</td>\n      <td>4.124491e+07</td>\n      <td>4.124491e+07</td>\n      <td>28186050.26</td>\n      <td>28186050.26</td>\n      <td>5.637210e+06</td>\n      <td>5.637210e+06</td>\n      <td>5.073489e+07</td>\n      <td>5.073489e+07</td>\n      <td>Upgrade</td>\n      <td>Not suspicious</td>\n      <td>0.8</td>\n    </tr>\n    <tr>\n      <th>12</th>\n      <td>20230115MDESMR202312</td>\n      <td>MDESMR</td>\n      <td>202312</td>\n      <td>20230108</td>\n      <td>20230115</td>\n      <td>0.86</td>\n      <td>1.27</td>\n      <td>0.41</td>\n      <td>Follower</td>\n      <td>Co_Leader</td>\n      <td>VH</td>\n      <td>VH</td>\n      <td>23927726.24</td>\n      <td>23927726.24</td>\n      <td>27983272.92</td>\n      <td>18858292.62</td>\n      <td>22913839.20</td>\n      <td>22913839.20</td>\n      <td>4.582768e+06</td>\n      <td>4.582768e+06</td>\n      <td>4.124491e+07</td>\n      <td>4.124491e+07</td>\n      <td>28186050.26</td>\n      <td>28186050.26</td>\n      <td>5.637210e+06</td>\n      <td>5.637210e+06</td>\n      <td>5.073489e+07</td>\n      <td>5.073489e+07</td>\n      <td>Upgrade</td>\n      <td>Not suspicious</td>\n      <td>0.8</td>\n    </tr>\n    <tr>\n      <th>13</th>\n      <td>20230115CTGMDE202311</td>\n      <td>CTGMDE</td>\n      <td>202311</td>\n      <td>20230108</td>\n      <td>20230115</td>\n      <td>0.61</td>\n      <td>1.00</td>\n      <td>0.39</td>\n      <td>Challenger</td>\n      <td>Co_Leader</td>\n      <td>VH</td>\n      <td>VH</td>\n      <td>20439955.20</td>\n      <td>20439955.20</td>\n      <td>33725926.08</td>\n      <td>20439955.20</td>\n      <td>21447759.39</td>\n      <td>21447759.39</td>\n      <td>4.289552e+06</td>\n      <td>4.289552e+06</td>\n      <td>3.860597e+07</td>\n      <td>3.860597e+07</td>\n      <td>34918256.80</td>\n      <td>34918256.80</td>\n      <td>6.983651e+06</td>\n      <td>6.983651e+06</td>\n      <td>6.285286e+07</td>\n      <td>6.285286e+07</td>\n      <td>Upgrade</td>\n      <td>Not suspicious</td>\n      <td>0.8</td>\n    </tr>\n    <tr>\n      <th>14</th>\n      <td>20230115GUAJFK202312</td>\n      <td>GUAJFK</td>\n      <td>202312</td>\n      <td>20230108</td>\n      <td>20230115</td>\n      <td>0.90</td>\n      <td>0.51</td>\n      <td>0.39</td>\n      <td>Follower</td>\n      <td>Challenger</td>\n      <td>B6</td>\n      <td>B6</td>\n      <td>10736191.44</td>\n      <td>10736191.44</td>\n      <td>11929101.48</td>\n      <td>21207291.52</td>\n      <td>10736191.44</td>\n      <td>10736191.44</td>\n      <td>2.147238e+06</td>\n      <td>2.147238e+06</td>\n      <td>1.932514e+07</td>\n      <td>1.932514e+07</td>\n      <td>39763671.60</td>\n      <td>39763671.60</td>\n      <td>7.952734e+06</td>\n      <td>7.952734e+06</td>\n      <td>7.157461e+07</td>\n      <td>7.157461e+07</td>\n      <td>Downgrade</td>\n      <td>Not suspicious</td>\n      <td>0.8</td>\n    </tr>\n    <tr>\n      <th>15</th>\n      <td>20230115CTGMDE202312</td>\n      <td>CTGMDE</td>\n      <td>202312</td>\n      <td>20230108</td>\n      <td>20230115</td>\n      <td>0.62</td>\n      <td>1.00</td>\n      <td>0.38</td>\n      <td>Challenger</td>\n      <td>Co_Leader</td>\n      <td>VH</td>\n      <td>VH</td>\n      <td>21121287.04</td>\n      <td>21121287.04</td>\n      <td>33896259.04</td>\n      <td>21121287.04</td>\n      <td>21447759.39</td>\n      <td>21447759.39</td>\n      <td>4.289552e+06</td>\n      <td>4.289552e+06</td>\n      <td>3.860597e+07</td>\n      <td>3.860597e+07</td>\n      <td>34918256.80</td>\n      <td>34918256.80</td>\n      <td>6.983651e+06</td>\n      <td>6.983651e+06</td>\n      <td>6.285286e+07</td>\n      <td>6.285286e+07</td>\n      <td>Upgrade</td>\n      <td>Not suspicious</td>\n      <td>0.8</td>\n    </tr>\n    <tr>\n      <th>16</th>\n      <td>20230115MDESMR202302</td>\n      <td>MDESMR</td>\n      <td>202302</td>\n      <td>20230108</td>\n      <td>20230115</td>\n      <td>0.87</td>\n      <td>0.51</td>\n      <td>0.36</td>\n      <td>Follower</td>\n      <td>Challenger</td>\n      <td>VH</td>\n      <td>VH</td>\n      <td>17033296.56</td>\n      <td>10814791.48</td>\n      <td>19669401.98</td>\n      <td>21291620.70</td>\n      <td>22913839.20</td>\n      <td>22913839.20</td>\n      <td>4.582768e+06</td>\n      <td>4.582768e+06</td>\n      <td>4.124491e+07</td>\n      <td>4.124491e+07</td>\n      <td>28186050.26</td>\n      <td>28186050.26</td>\n      <td>5.637210e+06</td>\n      <td>5.637210e+06</td>\n      <td>5.073489e+07</td>\n      <td>5.073489e+07</td>\n      <td>Downgrade</td>\n      <td>Not suspicious</td>\n      <td>0.8</td>\n    </tr>\n    <tr>\n      <th>17</th>\n      <td>20230115ADZBOG202303</td>\n      <td>ADZBOG</td>\n      <td>202303</td>\n      <td>20230108</td>\n      <td>20230115</td>\n      <td>1.48</td>\n      <td>1.81</td>\n      <td>0.33</td>\n      <td>Co_Leader</td>\n      <td>Leader</td>\n      <td>LA</td>\n      <td>LA</td>\n      <td>54083846.88</td>\n      <td>54083846.88</td>\n      <td>36503707.00</td>\n      <td>29844344.56</td>\n      <td>53737154.40</td>\n      <td>53737154.40</td>\n      <td>1.074743e+07</td>\n      <td>1.074743e+07</td>\n      <td>9.672688e+07</td>\n      <td>9.672688e+07</td>\n      <td>37406549.00</td>\n      <td>37406549.00</td>\n      <td>7.481310e+06</td>\n      <td>7.481310e+06</td>\n      <td>6.733179e+07</td>\n      <td>6.733179e+07</td>\n      <td>Upgrade</td>\n      <td>Not suspicious</td>\n      <td>0.8</td>\n    </tr>\n    <tr>\n      <th>18</th>\n      <td>20230115GUASAL202302</td>\n      <td>GUASAL</td>\n      <td>202302</td>\n      <td>20230108</td>\n      <td>20230115</td>\n      <td>1.62</td>\n      <td>1.37</td>\n      <td>0.25</td>\n      <td>Leader</td>\n      <td>Co_Leader</td>\n      <td>IB</td>\n      <td>IB</td>\n      <td>2654760.98</td>\n      <td>2238661.76</td>\n      <td>1635196.64</td>\n      <td>1635196.64</td>\n      <td>2654760.98</td>\n      <td>2654760.98</td>\n      <td>5.309522e+05</td>\n      <td>5.309522e+05</td>\n      <td>4.778570e+06</td>\n      <td>4.778570e+06</td>\n      <td>1751996.40</td>\n      <td>1751996.40</td>\n      <td>3.503993e+05</td>\n      <td>3.503993e+05</td>\n      <td>3.153594e+06</td>\n      <td>3.153594e+06</td>\n      <td>Downgrade</td>\n      <td>Not suspicious</td>\n      <td>0.8</td>\n    </tr>\n    <tr>\n      <th>19</th>\n      <td>20230115GUASAP202302</td>\n      <td>GUASAP</td>\n      <td>202302</td>\n      <td>20230108</td>\n      <td>20230115</td>\n      <td>1.22</td>\n      <td>0.97</td>\n      <td>0.25</td>\n      <td>Co_Leader</td>\n      <td>Follower</td>\n      <td>CC</td>\n      <td>CC</td>\n      <td>1293449.04</td>\n      <td>1030495.18</td>\n      <td>1058922.68</td>\n      <td>1058922.68</td>\n      <td>1385838.22</td>\n      <td>1385838.22</td>\n      <td>2.771676e+05</td>\n      <td>2.771676e+05</td>\n      <td>2.494509e+06</td>\n      <td>2.494509e+06</td>\n      <td>1132952.51</td>\n      <td>1132952.51</td>\n      <td>2.265905e+05</td>\n      <td>2.265905e+05</td>\n      <td>2.039315e+06</td>\n      <td>2.039315e+06</td>\n      <td>Downgrade</td>\n      <td>Not suspicious</td>\n      <td>0.8</td>\n    </tr>\n    <tr>\n      <th>20</th>\n      <td>20230115CTGMDE202302</td>\n      <td>CTGMDE</td>\n      <td>202302</td>\n      <td>20230108</td>\n      <td>20230115</td>\n      <td>0.88</td>\n      <td>0.64</td>\n      <td>0.24</td>\n      <td>Follower</td>\n      <td>Challenger</td>\n      <td>VH</td>\n      <td>VH</td>\n      <td>22256840.48</td>\n      <td>16238409.24</td>\n      <td>25379611.04</td>\n      <td>25379611.04</td>\n      <td>21447759.39</td>\n      <td>21447759.39</td>\n      <td>4.289552e+06</td>\n      <td>4.289552e+06</td>\n      <td>3.860597e+07</td>\n      <td>3.860597e+07</td>\n      <td>34918256.80</td>\n      <td>34918256.80</td>\n      <td>6.983651e+06</td>\n      <td>6.983651e+06</td>\n      <td>6.285286e+07</td>\n      <td>6.285286e+07</td>\n      <td>Downgrade</td>\n      <td>Not suspicious</td>\n      <td>0.8</td>\n    </tr>\n    <tr>\n      <th>21</th>\n      <td>20230115MDEMIA202302</td>\n      <td>MDEMIA</td>\n      <td>202302</td>\n      <td>20230108</td>\n      <td>20230115</td>\n      <td>0.52</td>\n      <td>0.30</td>\n      <td>0.22</td>\n      <td>Challenger</td>\n      <td>Bottom_Feeder</td>\n      <td>AA</td>\n      <td>AA</td>\n      <td>22500173.92</td>\n      <td>12857242.24</td>\n      <td>43000332.48</td>\n      <td>43000332.48</td>\n      <td>24910906.84</td>\n      <td>24910906.84</td>\n      <td>4.982181e+06</td>\n      <td>4.982181e+06</td>\n      <td>4.483963e+07</td>\n      <td>4.483963e+07</td>\n      <td>69107677.20</td>\n      <td>69107677.20</td>\n      <td>1.382154e+07</td>\n      <td>1.382154e+07</td>\n      <td>1.243938e+08</td>\n      <td>1.243938e+08</td>\n      <td>Downgrade</td>\n      <td>Not suspicious</td>\n      <td>0.8</td>\n    </tr>\n    <tr>\n      <th>22</th>\n      <td>20230115MDEMEX202311</td>\n      <td>MDEMEX</td>\n      <td>202311</td>\n      <td>20230108</td>\n      <td>20230115</td>\n      <td>0.22</td>\n      <td>0.43</td>\n      <td>0.21</td>\n      <td>Bottom_Feeder</td>\n      <td>Challenger</td>\n      <td>VH</td>\n      <td>VH</td>\n      <td>13813192.64</td>\n      <td>13813192.64</td>\n      <td>63753196.80</td>\n      <td>31876598.40</td>\n      <td>15371604.08</td>\n      <td>15371604.08</td>\n      <td>3.074321e+06</td>\n      <td>3.074321e+06</td>\n      <td>2.766889e+07</td>\n      <td>2.766889e+07</td>\n      <td>59502983.68</td>\n      <td>59502983.68</td>\n      <td>1.190060e+07</td>\n      <td>1.190060e+07</td>\n      <td>1.071054e+08</td>\n      <td>1.071054e+08</td>\n      <td>Upgrade</td>\n      <td>Not suspicious</td>\n      <td>0.8</td>\n    </tr>\n    <tr>\n      <th>23</th>\n      <td>20230115MDEMEX202312</td>\n      <td>MDEMEX</td>\n      <td>202312</td>\n      <td>20230108</td>\n      <td>20230115</td>\n      <td>0.21</td>\n      <td>0.42</td>\n      <td>0.21</td>\n      <td>Bottom_Feeder</td>\n      <td>Challenger</td>\n      <td>VH</td>\n      <td>VH</td>\n      <td>13813192.64</td>\n      <td>13813192.64</td>\n      <td>65878303.36</td>\n      <td>32939151.68</td>\n      <td>15371604.08</td>\n      <td>15371604.08</td>\n      <td>3.074321e+06</td>\n      <td>3.074321e+06</td>\n      <td>2.766889e+07</td>\n      <td>2.766889e+07</td>\n      <td>59502983.68</td>\n      <td>59502983.68</td>\n      <td>1.190060e+07</td>\n      <td>1.190060e+07</td>\n      <td>1.071054e+08</td>\n      <td>1.071054e+08</td>\n      <td>Upgrade</td>\n      <td>Not suspicious</td>\n      <td>0.8</td>\n    </tr>\n    <tr>\n      <th>24</th>\n      <td>20230115MDEPUJ202302</td>\n      <td>MDEPUJ</td>\n      <td>202302</td>\n      <td>20230108</td>\n      <td>20230115</td>\n      <td>1.00</td>\n      <td>0.79</td>\n      <td>0.21</td>\n      <td>Co_Leader</td>\n      <td>Follower</td>\n      <td>VH</td>\n      <td>VH</td>\n      <td>15832854.80</td>\n      <td>12440100.20</td>\n      <td>15832854.80</td>\n      <td>15832854.80</td>\n      <td>17529232.10</td>\n      <td>17529232.10</td>\n      <td>3.505846e+06</td>\n      <td>3.505846e+06</td>\n      <td>3.155262e+07</td>\n      <td>3.155262e+07</td>\n      <td>17529232.10</td>\n      <td>17529232.10</td>\n      <td>3.505846e+06</td>\n      <td>3.505846e+06</td>\n      <td>3.155262e+07</td>\n      <td>3.155262e+07</td>\n      <td>Downgrade</td>\n      <td>Not suspicious</td>\n      <td>0.8</td>\n    </tr>\n    <tr>\n      <th>25</th>\n      <td>20230115CUNMDE202303</td>\n      <td>CUNMDE</td>\n      <td>202303</td>\n      <td>20230108</td>\n      <td>20230115</td>\n      <td>0.82</td>\n      <td>1.01</td>\n      <td>0.19</td>\n      <td>Follower</td>\n      <td>Co_Leader</td>\n      <td>VH</td>\n      <td>VH</td>\n      <td>23101322.28</td>\n      <td>23101322.28</td>\n      <td>28136226.00</td>\n      <td>22953237.00</td>\n      <td>22953236.40</td>\n      <td>22953236.40</td>\n      <td>4.590647e+06</td>\n      <td>4.590647e+06</td>\n      <td>4.131583e+07</td>\n      <td>4.131583e+07</td>\n      <td>22953237.00</td>\n      <td>22953237.00</td>\n      <td>4.590647e+06</td>\n      <td>4.590647e+06</td>\n      <td>4.131583e+07</td>\n      <td>4.131583e+07</td>\n      <td>Upgrade</td>\n      <td>Not suspicious</td>\n      <td>0.8</td>\n    </tr>\n    <tr>\n      <th>26</th>\n      <td>20230115BOGSDQ202312</td>\n      <td>BOGSDQ</td>\n      <td>202312</td>\n      <td>20230108</td>\n      <td>20230115</td>\n      <td>0.97</td>\n      <td>1.15</td>\n      <td>0.18</td>\n      <td>Follower</td>\n      <td>Co_Leader</td>\n      <td>P5</td>\n      <td>P5</td>\n      <td>17798636.36</td>\n      <td>17798636.36</td>\n      <td>18391924.28</td>\n      <td>15425484.88</td>\n      <td>21243533.78</td>\n      <td>21243533.78</td>\n      <td>4.248707e+06</td>\n      <td>4.248707e+06</td>\n      <td>3.823836e+07</td>\n      <td>3.823836e+07</td>\n      <td>14015628.64</td>\n      <td>14015628.64</td>\n      <td>2.803126e+06</td>\n      <td>2.803126e+06</td>\n      <td>2.522813e+07</td>\n      <td>2.522813e+07</td>\n      <td>Upgrade</td>\n      <td>Not suspicious</td>\n      <td>0.8</td>\n    </tr>\n    <tr>\n      <th>27</th>\n      <td>20230115CUCMDE202302</td>\n      <td>CUCMDE</td>\n      <td>202302</td>\n      <td>20230108</td>\n      <td>20230115</td>\n      <td>0.44</td>\n      <td>0.26</td>\n      <td>0.18</td>\n      <td>Challenger</td>\n      <td>Bottom_Feeder</td>\n      <td>VH</td>\n      <td>VH</td>\n      <td>3795991.92</td>\n      <td>2259519.00</td>\n      <td>8540981.82</td>\n      <td>8540981.82</td>\n      <td>4121362.68</td>\n      <td>4121362.68</td>\n      <td>8.242725e+05</td>\n      <td>8.242725e+05</td>\n      <td>7.418453e+06</td>\n      <td>7.418453e+06</td>\n      <td>8676552.96</td>\n      <td>8676552.96</td>\n      <td>1.735311e+06</td>\n      <td>1.735311e+06</td>\n      <td>1.561780e+07</td>\n      <td>1.561780e+07</td>\n      <td>Downgrade</td>\n      <td>Not suspicious</td>\n      <td>0.8</td>\n    </tr>\n    <tr>\n      <th>28</th>\n      <td>20230115CUNMDE202312</td>\n      <td>CUNMDE</td>\n      <td>202312</td>\n      <td>20230108</td>\n      <td>20230115</td>\n      <td>1.02</td>\n      <td>0.85</td>\n      <td>0.17</td>\n      <td>Co_Leader</td>\n      <td>Follower</td>\n      <td>VH</td>\n      <td>VH</td>\n      <td>19621315.50</td>\n      <td>19621315.50</td>\n      <td>19251102.00</td>\n      <td>22953237.00</td>\n      <td>22953236.40</td>\n      <td>22953236.40</td>\n      <td>4.590647e+06</td>\n      <td>4.590647e+06</td>\n      <td>4.131583e+07</td>\n      <td>4.131583e+07</td>\n      <td>22953237.00</td>\n      <td>22953237.00</td>\n      <td>4.590647e+06</td>\n      <td>4.590647e+06</td>\n      <td>4.131583e+07</td>\n      <td>4.131583e+07</td>\n      <td>Downgrade</td>\n      <td>Not suspicious</td>\n      <td>0.8</td>\n    </tr>\n    <tr>\n      <th>29</th>\n      <td>20230115MDESMR202303</td>\n      <td>MDESMR</td>\n      <td>202303</td>\n      <td>20230108</td>\n      <td>20230115</td>\n      <td>0.66</td>\n      <td>0.83</td>\n      <td>0.17</td>\n      <td>Challenger</td>\n      <td>Follower</td>\n      <td>VH</td>\n      <td>VH</td>\n      <td>19791068.34</td>\n      <td>19791068.34</td>\n      <td>30011046.32</td>\n      <td>23724948.78</td>\n      <td>22913839.20</td>\n      <td>22913839.20</td>\n      <td>4.582768e+06</td>\n      <td>4.582768e+06</td>\n      <td>4.124491e+07</td>\n      <td>4.124491e+07</td>\n      <td>28186050.26</td>\n      <td>28186050.26</td>\n      <td>5.637210e+06</td>\n      <td>5.637210e+06</td>\n      <td>5.073489e+07</td>\n      <td>5.073489e+07</td>\n      <td>Upgrade</td>\n      <td>Not suspicious</td>\n      <td>0.8</td>\n    </tr>\n    <tr>\n      <th>30</th>\n      <td>20230115BOGSDQ202311</td>\n      <td>BOGSDQ</td>\n      <td>202311</td>\n      <td>20230108</td>\n      <td>20230115</td>\n      <td>0.97</td>\n      <td>1.12</td>\n      <td>0.15</td>\n      <td>Follower</td>\n      <td>Co_Leader</td>\n      <td>P5</td>\n      <td>P5</td>\n      <td>17224486.80</td>\n      <td>17224486.80</td>\n      <td>17798636.40</td>\n      <td>15425484.88</td>\n      <td>21243533.78</td>\n      <td>21243533.78</td>\n      <td>4.248707e+06</td>\n      <td>4.248707e+06</td>\n      <td>3.823836e+07</td>\n      <td>3.823836e+07</td>\n      <td>14015628.64</td>\n      <td>14015628.64</td>\n      <td>2.803126e+06</td>\n      <td>2.803126e+06</td>\n      <td>2.522813e+07</td>\n      <td>2.522813e+07</td>\n      <td>Upgrade</td>\n      <td>Not suspicious</td>\n      <td>0.8</td>\n    </tr>\n    <tr>\n      <th>31</th>\n      <td>20230115CUNMDE202311</td>\n      <td>CUNMDE</td>\n      <td>202311</td>\n      <td>20230108</td>\n      <td>20230115</td>\n      <td>1.02</td>\n      <td>0.88</td>\n      <td>0.14</td>\n      <td>Co_Leader</td>\n      <td>Follower</td>\n      <td>VH</td>\n      <td>VH</td>\n      <td>19621315.50</td>\n      <td>19621315.50</td>\n      <td>19251102.00</td>\n      <td>22212810.00</td>\n      <td>22953236.40</td>\n      <td>22953236.40</td>\n      <td>4.590647e+06</td>\n      <td>4.590647e+06</td>\n      <td>4.131583e+07</td>\n      <td>4.131583e+07</td>\n      <td>22953237.00</td>\n      <td>22953237.00</td>\n      <td>4.590647e+06</td>\n      <td>4.590647e+06</td>\n      <td>4.131583e+07</td>\n      <td>4.131583e+07</td>\n      <td>Downgrade</td>\n      <td>Not suspicious</td>\n      <td>0.8</td>\n    </tr>\n    <tr>\n      <th>32</th>\n      <td>20230115CLOCUC202310</td>\n      <td>CLOCUC</td>\n      <td>202310</td>\n      <td>20230108</td>\n      <td>20230115</td>\n      <td>1.38</td>\n      <td>1.50</td>\n      <td>0.12</td>\n      <td>Co_Leader</td>\n      <td>Leader</td>\n      <td>VH</td>\n      <td>VH</td>\n      <td>4192276.68</td>\n      <td>4192276.68</td>\n      <td>3027755.38</td>\n      <td>2794851.12</td>\n      <td>3959372.42</td>\n      <td>3959372.42</td>\n      <td>7.918745e+05</td>\n      <td>7.918745e+05</td>\n      <td>7.126870e+06</td>\n      <td>7.126870e+06</td>\n      <td>3027755.38</td>\n      <td>3027755.38</td>\n      <td>6.055511e+05</td>\n      <td>6.055511e+05</td>\n      <td>5.449960e+06</td>\n      <td>5.449960e+06</td>\n      <td>Upgrade</td>\n      <td>Not suspicious</td>\n      <td>0.8</td>\n    </tr>\n    <tr>\n      <th>33</th>\n      <td>20230115BOGFLA202301</td>\n      <td>BOGFLA</td>\n      <td>202301</td>\n      <td>20230108</td>\n      <td>20230115</td>\n      <td>0.89</td>\n      <td>1.00</td>\n      <td>0.11</td>\n      <td>Follower</td>\n      <td>Co_Leader</td>\n      <td>VE</td>\n      <td>VE</td>\n      <td>1633806.00</td>\n      <td>1633806.00</td>\n      <td>1825929.54</td>\n      <td>1626998.53</td>\n      <td>2723010.00</td>\n      <td>2723010.00</td>\n      <td>5.446020e+05</td>\n      <td>5.446020e+05</td>\n      <td>4.901418e+06</td>\n      <td>4.901418e+06</td>\n      <td>1673138.40</td>\n      <td>1673138.40</td>\n      <td>3.346277e+05</td>\n      <td>3.346277e+05</td>\n      <td>3.011649e+06</td>\n      <td>3.011649e+06</td>\n      <td>Upgrade</td>\n      <td>Not suspicious</td>\n      <td>0.8</td>\n    </tr>\n    <tr>\n      <th>34</th>\n      <td>20230115GUAJFK202302</td>\n      <td>GUAJFK</td>\n      <td>202302</td>\n      <td>20230108</td>\n      <td>20230115</td>\n      <td>0.40</td>\n      <td>0.29</td>\n      <td>0.11</td>\n      <td>Challenger</td>\n      <td>Bottom_Feeder</td>\n      <td>B6</td>\n      <td>B6</td>\n      <td>14752322.18</td>\n      <td>10736191.44</td>\n      <td>37112760.16</td>\n      <td>37112760.16</td>\n      <td>10736191.44</td>\n      <td>10736191.44</td>\n      <td>2.147238e+06</td>\n      <td>2.147238e+06</td>\n      <td>1.932514e+07</td>\n      <td>1.932514e+07</td>\n      <td>39763671.60</td>\n      <td>39763671.60</td>\n      <td>7.952734e+06</td>\n      <td>7.952734e+06</td>\n      <td>7.157461e+07</td>\n      <td>7.157461e+07</td>\n      <td>Downgrade</td>\n      <td>Not suspicious</td>\n      <td>0.8</td>\n    </tr>\n    <tr>\n      <th>35</th>\n      <td>20230115CLOCTG202310</td>\n      <td>CLOCTG</td>\n      <td>202310</td>\n      <td>20230108</td>\n      <td>20230115</td>\n      <td>1.45</td>\n      <td>1.54</td>\n      <td>0.09</td>\n      <td>Co_Leader</td>\n      <td>Leader</td>\n      <td>VH</td>\n      <td>VH</td>\n      <td>22108717.80</td>\n      <td>22108717.80</td>\n      <td>15231475.60</td>\n      <td>14400667.84</td>\n      <td>20770194.00</td>\n      <td>20770194.00</td>\n      <td>4.154039e+06</td>\n      <td>4.154039e+06</td>\n      <td>3.738635e+07</td>\n      <td>3.738635e+07</td>\n      <td>13015988.24</td>\n      <td>13015988.24</td>\n      <td>2.603198e+06</td>\n      <td>2.603198e+06</td>\n      <td>2.342878e+07</td>\n      <td>2.342878e+07</td>\n      <td>Upgrade</td>\n      <td>Not suspicious</td>\n      <td>0.8</td>\n    </tr>\n    <tr>\n      <th>36</th>\n      <td>20230115GUASJO202302</td>\n      <td>GUASJO</td>\n      <td>202302</td>\n      <td>20230108</td>\n      <td>20230115</td>\n      <td>0.99</td>\n      <td>1.06</td>\n      <td>0.07</td>\n      <td>Follower</td>\n      <td>Co_Leader</td>\n      <td>Y4</td>\n      <td>Y4</td>\n      <td>14777080.34</td>\n      <td>15792299.60</td>\n      <td>14889882.72</td>\n      <td>14889882.72</td>\n      <td>12715877.60</td>\n      <td>12715877.60</td>\n      <td>2.543176e+06</td>\n      <td>2.543176e+06</td>\n      <td>2.288858e+07</td>\n      <td>2.288858e+07</td>\n      <td>14274598.08</td>\n      <td>14274598.08</td>\n      <td>2.854920e+06</td>\n      <td>2.854920e+06</td>\n      <td>2.569428e+07</td>\n      <td>2.569428e+07</td>\n      <td>Upgrade</td>\n      <td>Not suspicious</td>\n      <td>0.8</td>\n    </tr>\n    <tr>\n      <th>37</th>\n      <td>20230115BOGLET202302</td>\n      <td>BOGLET</td>\n      <td>202302</td>\n      <td>20230108</td>\n      <td>20230115</td>\n      <td>0.66</td>\n      <td>0.72</td>\n      <td>0.06</td>\n      <td>Challenger</td>\n      <td>Follower</td>\n      <td>LA</td>\n      <td>LA</td>\n      <td>9936476.16</td>\n      <td>10982420.96</td>\n      <td>15166200.80</td>\n      <td>15166200.80</td>\n      <td>12159109.20</td>\n      <td>12159109.20</td>\n      <td>2.431822e+06</td>\n      <td>2.431822e+06</td>\n      <td>2.188640e+07</td>\n      <td>2.188640e+07</td>\n      <td>16159848.40</td>\n      <td>16159848.40</td>\n      <td>3.231970e+06</td>\n      <td>3.231970e+06</td>\n      <td>2.908773e+07</td>\n      <td>2.908773e+07</td>\n      <td>Upgrade</td>\n      <td>Not suspicious</td>\n      <td>0.8</td>\n    </tr>\n    <tr>\n      <th>38</th>\n      <td>20230115CTGMDE202303</td>\n      <td>CTGMDE</td>\n      <td>202303</td>\n      <td>20230108</td>\n      <td>20230115</td>\n      <td>0.67</td>\n      <td>0.73</td>\n      <td>0.06</td>\n      <td>Challenger</td>\n      <td>Follower</td>\n      <td>VH</td>\n      <td>VH</td>\n      <td>24102114.54</td>\n      <td>24102114.54</td>\n      <td>35769921.60</td>\n      <td>33214927.20</td>\n      <td>21447759.39</td>\n      <td>21447759.39</td>\n      <td>4.289552e+06</td>\n      <td>4.289552e+06</td>\n      <td>3.860597e+07</td>\n      <td>3.860597e+07</td>\n      <td>34918256.80</td>\n      <td>34918256.80</td>\n      <td>6.983651e+06</td>\n      <td>6.983651e+06</td>\n      <td>6.285286e+07</td>\n      <td>6.285286e+07</td>\n      <td>Upgrade</td>\n      <td>Not suspicious</td>\n      <td>0.8</td>\n    </tr>\n    <tr>\n      <th>39</th>\n      <td>20230115CLOSMR202310</td>\n      <td>CLOSMR</td>\n      <td>202310</td>\n      <td>20230108</td>\n      <td>20230115</td>\n      <td>0.66</td>\n      <td>0.71</td>\n      <td>0.05</td>\n      <td>Challenger</td>\n      <td>Follower</td>\n      <td>VH</td>\n      <td>VH</td>\n      <td>8838890.80</td>\n      <td>8838890.80</td>\n      <td>13477741.12</td>\n      <td>12537433.60</td>\n      <td>8744860.06</td>\n      <td>8744860.06</td>\n      <td>1.748972e+06</td>\n      <td>1.748972e+06</td>\n      <td>1.574075e+07</td>\n      <td>1.574075e+07</td>\n      <td>10970254.40</td>\n      <td>10970254.40</td>\n      <td>2.194051e+06</td>\n      <td>2.194051e+06</td>\n      <td>1.974646e+07</td>\n      <td>1.974646e+07</td>\n      <td>Upgrade</td>\n      <td>Not suspicious</td>\n      <td>0.8</td>\n    </tr>\n    <tr>\n      <th>40</th>\n      <td>20230115CLOCUC202311</td>\n      <td>CLOCUC</td>\n      <td>202311</td>\n      <td>20230108</td>\n      <td>20230115</td>\n      <td>1.31</td>\n      <td>NaN</td>\n      <td>NaN</td>\n      <td>Co_Leader</td>\n      <td>Sole_Player</td>\n      <td>VH</td>\n      <td>NaN</td>\n      <td>3959372.42</td>\n      <td>3959372.42</td>\n      <td>3027755.38</td>\n      <td>NaN</td>\n      <td>3959372.42</td>\n      <td>3959372.42</td>\n      <td>7.918745e+05</td>\n      <td>7.918745e+05</td>\n      <td>7.126870e+06</td>\n      <td>7.126870e+06</td>\n      <td>3027755.38</td>\n      <td>NaN</td>\n      <td>6.055511e+05</td>\n      <td>NaN</td>\n      <td>5.449960e+06</td>\n      <td>NaN</td>\n      <td>Upgrade</td>\n      <td>Suspicious</td>\n      <td>0.8</td>\n    </tr>\n    <tr>\n      <th>41</th>\n      <td>20230115CLOCUC202312</td>\n      <td>CLOCUC</td>\n      <td>202312</td>\n      <td>20230108</td>\n      <td>20230115</td>\n      <td>1.38</td>\n      <td>NaN</td>\n      <td>NaN</td>\n      <td>Co_Leader</td>\n      <td>Sole_Player</td>\n      <td>VH</td>\n      <td>NaN</td>\n      <td>4192276.68</td>\n      <td>4192276.68</td>\n      <td>3027755.38</td>\n      <td>NaN</td>\n      <td>3959372.42</td>\n      <td>3959372.42</td>\n      <td>7.918745e+05</td>\n      <td>7.918745e+05</td>\n      <td>7.126870e+06</td>\n      <td>7.126870e+06</td>\n      <td>3027755.38</td>\n      <td>NaN</td>\n      <td>6.055511e+05</td>\n      <td>NaN</td>\n      <td>5.449960e+06</td>\n      <td>NaN</td>\n      <td>Upgrade</td>\n      <td>Suspicious</td>\n      <td>0.8</td>\n    </tr>\n  </tbody>\n</table>\n</div>",
              "datasetInfos": [],
              "metadata": {},
              "removedWidgets": [],
              "textData": null,
              "type": "htmlSandbox"
            }
          }
        }
      ],
      "source": [
        "df['suspicious'] = df.apply(lambda x: 'Not suspicious ' if x['median_lower_thresh_hist_av_lw']<=x['total_asks_av_lw']<=x['median_upper_thresh_hist_av_lw']\n",
        "                                       and x['median_lower_thresh_hist_av_cw']<=x['total_asks_av_cw']<=x['median_upper_thresh_hist_av_cw']\n",
        "                                       and x['median_lower_thresh_hist_competitor_lw']<=x['max_asks_competitor_lw']<=x['median_upper_thresh_hist_competitor_lw']\n",
        "                                       and x['median_lower_thresh_hist_competitor_cw']<=x['max_asks_competitor_cw']<=x['median_upper_thresh_hist_competitor_cw']\n",
        "                                       else 'Suspicious', \n",
        "                                                       axis=1)\n",
        "df['threshold'] = percentage_threshold\n",
        "\n",
        "df"
      ]
    },
    {
      "cell_type": "markdown",
      "metadata": {
        "application/vnd.databricks.v1+cell": {
          "cellMetadata": {
            "byteLimit": 2048000,
            "rowLimit": 10000
          },
          "inputWidgets": {},
          "nuid": "0ac5e973-5e2f-4623-81e9-a2a176ab8ed7",
          "showTitle": false,
          "title": ""
        },
        "id": "-sHV0nBJuLen"
      },
      "source": [
        "# 05. Escritura parquet salida"
      ]
    },
    {
      "cell_type": "code",
      "execution_count": null,
      "metadata": {
        "application/vnd.databricks.v1+cell": {
          "cellMetadata": {
            "byteLimit": 2048000,
            "rowLimit": 10000
          },
          "inputWidgets": {},
          "nuid": "54a31d0d-50bc-44e2-b177-0885785adb6c",
          "showTitle": false,
          "title": ""
        },
        "id": "K4EpiQFsuLen"
      },
      "outputs": [],
      "source": [
        "df_parquet_output = spark.createDataFrame(df)\n",
        "df_parquet_output.coalesce(1).write.mode('overwrite').parquet(path_parquet_output)"
      ]
    },
    {
      "cell_type": "markdown",
      "metadata": {
        "application/vnd.databricks.v1+cell": {
          "cellMetadata": {
            "byteLimit": 2048000,
            "rowLimit": 10000
          },
          "inputWidgets": {},
          "nuid": "f0bb1544-45d4-48f2-8501-acf7d8c8fc75",
          "showTitle": false,
          "title": ""
        },
        "id": "Y7v2MKCeuLen"
      },
      "source": [
        "# 05. Tiempo total de ejecución"
      ]
    },
    {
      "cell_type": "code",
      "execution_count": null,
      "metadata": {
        "application/vnd.databricks.v1+cell": {
          "cellMetadata": {
            "byteLimit": 2048000,
            "rowLimit": 10000
          },
          "inputWidgets": {},
          "nuid": "e9f21d8f-37f8-4eca-801c-74bba15ab936",
          "showTitle": false,
          "title": ""
        },
        "id": "_UdhiLyeuLeo",
        "outputId": "822cab6b-026c-4d5e-8883-a0f4da5fa2a6"
      },
      "outputs": [
        {
          "output_type": "stream",
          "name": "stdout",
          "text": [
            "Out[72]: 13.36"
          ]
        },
        {
          "output_type": "display_data",
          "data": {
            "application/vnd.databricks.v1+bamboolib_hint": "{\"pd.DataFrames\": [], \"version\": \"0.0.1\"}",
            "text/plain": ""
          },
          "metadata": {
            "application/vnd.databricks.v1+output": {
              "addedWidgets": {},
              "arguments": {},
              "data": {
                "application/vnd.databricks.v1+bamboolib_hint": "{\"pd.DataFrames\": [], \"version\": \"0.0.1\"}",
                "text/plain": ""
              },
              "datasetInfos": [],
              "executionCount": null,
              "metadata": {
                "kernelSessionId": "ca3b9689-7e4eee6ce14b261a9d3afc0e"
              },
              "removedWidgets": [],
              "type": "mimeBundle"
            }
          }
        },
        {
          "output_type": "display_data",
          "data": {
            "text/html": [
              "<div>\n<style scoped>\n    .dataframe tbody tr th:only-of-type {\n        vertical-align: middle;\n    }\n\n    .dataframe tbody tr th {\n        vertical-align: top;\n    }\n\n    .dataframe thead th {\n        text-align: right;\n    }\n</style>\n<table border=\"1\" class=\"dataframe\">\n  <thead>\n    <tr style=\"text-align: right;\">\n      <th></th>\n      <th>flight_date</th>\n      <th>airline_code</th>\n      <th>flight</th>\n      <th>origin_code</th>\n      <th>thru_point_code</th>\n      <th>destination_code</th>\n      <th>dep_time</th>\n      <th>arr_time</th>\n      <th>service_type</th>\n      <th>equipment_code</th>\n      <th>seats</th>\n      <th>asks</th>\n      <th>block_mins</th>\n      <th>seats_economy</th>\n      <th>file_name</th>\n      <th>snapshot_date</th>\n      <th>od</th>\n      <th>rt</th>\n      <th>op_av</th>\n    </tr>\n  </thead>\n  <tbody>\n    <tr>\n      <th>0</th>\n      <td>20220101</td>\n      <td>2D</td>\n      <td>162</td>\n      <td>MIA</td>\n      <td></td>\n      <td>ASU</td>\n      <td>0110</td>\n      <td>1110</td>\n      <td>Sched. Pax</td>\n      <td>763</td>\n      <td>261</td>\n      <td>1606228.32</td>\n      <td>480</td>\n      <td>245</td>\n      <td>Schedule_Dynamic_Table_Report_220213.tsv</td>\n      <td>20220213</td>\n      <td>MIAASU</td>\n      <td>ASUMIA</td>\n      <td>N</td>\n    </tr>\n    <tr>\n      <th>1</th>\n      <td>20220101</td>\n      <td>2D</td>\n      <td>322</td>\n      <td>JFK</td>\n      <td></td>\n      <td>GYE</td>\n      <td>0655</td>\n      <td>1335</td>\n      <td>Sched. Pax</td>\n      <td>763</td>\n      <td>240</td>\n      <td>1146754.16</td>\n      <td>400</td>\n      <td>212</td>\n      <td>Schedule_Dynamic_Table_Report_220213.tsv</td>\n      <td>20220213</td>\n      <td>JFKGYE</td>\n      <td>GYEJFK</td>\n      <td>Y</td>\n    </tr>\n    <tr>\n      <th>2</th>\n      <td>20220101</td>\n      <td>2D</td>\n      <td>323</td>\n      <td>GYE</td>\n      <td></td>\n      <td>JFK</td>\n      <td>1625</td>\n      <td>2305</td>\n      <td>Sched. Pax</td>\n      <td>763</td>\n      <td>240</td>\n      <td>1146754.16</td>\n      <td>400</td>\n      <td>212</td>\n      <td>Schedule_Dynamic_Table_Report_220213.tsv</td>\n      <td>20220213</td>\n      <td>GYEJFK</td>\n      <td>GYEJFK</td>\n      <td>Y</td>\n    </tr>\n    <tr>\n      <th>3</th>\n      <td>20220101</td>\n      <td>2I</td>\n      <td>2123</td>\n      <td>LIM</td>\n      <td></td>\n      <td>CIX</td>\n      <td>0755</td>\n      <td>0910</td>\n      <td>Sched. Pax</td>\n      <td>733</td>\n      <td>143</td>\n      <td>93205.16</td>\n      <td>75</td>\n      <td>0</td>\n      <td>Schedule_Dynamic_Table_Report_220213.tsv</td>\n      <td>20220213</td>\n      <td>LIMCIX</td>\n      <td>CIXLIM</td>\n      <td>N</td>\n    </tr>\n    <tr>\n      <th>4</th>\n      <td>20220101</td>\n      <td>2I</td>\n      <td>2124</td>\n      <td>CIX</td>\n      <td></td>\n      <td>LIM</td>\n      <td>0945</td>\n      <td>1100</td>\n      <td>Sched. Pax</td>\n      <td>733</td>\n      <td>143</td>\n      <td>93205.16</td>\n      <td>75</td>\n      <td>0</td>\n      <td>Schedule_Dynamic_Table_Report_220213.tsv</td>\n      <td>20220213</td>\n      <td>CIXLIM</td>\n      <td>CIXLIM</td>\n      <td>N</td>\n    </tr>\n  </tbody>\n</table>\n</div>"
            ]
          },
          "metadata": {
            "application/vnd.databricks.v1+output": {
              "addedWidgets": {},
              "arguments": {},
              "data": "<div>\n<style scoped>\n    .dataframe tbody tr th:only-of-type {\n        vertical-align: middle;\n    }\n\n    .dataframe tbody tr th {\n        vertical-align: top;\n    }\n\n    .dataframe thead th {\n        text-align: right;\n    }\n</style>\n<table border=\"1\" class=\"dataframe\">\n  <thead>\n    <tr style=\"text-align: right;\">\n      <th></th>\n      <th>flight_date</th>\n      <th>airline_code</th>\n      <th>flight</th>\n      <th>origin_code</th>\n      <th>thru_point_code</th>\n      <th>destination_code</th>\n      <th>dep_time</th>\n      <th>arr_time</th>\n      <th>service_type</th>\n      <th>equipment_code</th>\n      <th>seats</th>\n      <th>asks</th>\n      <th>block_mins</th>\n      <th>seats_economy</th>\n      <th>file_name</th>\n      <th>snapshot_date</th>\n      <th>od</th>\n      <th>rt</th>\n      <th>op_av</th>\n    </tr>\n  </thead>\n  <tbody>\n    <tr>\n      <th>0</th>\n      <td>20220101</td>\n      <td>2D</td>\n      <td>162</td>\n      <td>MIA</td>\n      <td></td>\n      <td>ASU</td>\n      <td>0110</td>\n      <td>1110</td>\n      <td>Sched. Pax</td>\n      <td>763</td>\n      <td>261</td>\n      <td>1606228.32</td>\n      <td>480</td>\n      <td>245</td>\n      <td>Schedule_Dynamic_Table_Report_220213.tsv</td>\n      <td>20220213</td>\n      <td>MIAASU</td>\n      <td>ASUMIA</td>\n      <td>N</td>\n    </tr>\n    <tr>\n      <th>1</th>\n      <td>20220101</td>\n      <td>2D</td>\n      <td>322</td>\n      <td>JFK</td>\n      <td></td>\n      <td>GYE</td>\n      <td>0655</td>\n      <td>1335</td>\n      <td>Sched. Pax</td>\n      <td>763</td>\n      <td>240</td>\n      <td>1146754.16</td>\n      <td>400</td>\n      <td>212</td>\n      <td>Schedule_Dynamic_Table_Report_220213.tsv</td>\n      <td>20220213</td>\n      <td>JFKGYE</td>\n      <td>GYEJFK</td>\n      <td>Y</td>\n    </tr>\n    <tr>\n      <th>2</th>\n      <td>20220101</td>\n      <td>2D</td>\n      <td>323</td>\n      <td>GYE</td>\n      <td></td>\n      <td>JFK</td>\n      <td>1625</td>\n      <td>2305</td>\n      <td>Sched. Pax</td>\n      <td>763</td>\n      <td>240</td>\n      <td>1146754.16</td>\n      <td>400</td>\n      <td>212</td>\n      <td>Schedule_Dynamic_Table_Report_220213.tsv</td>\n      <td>20220213</td>\n      <td>GYEJFK</td>\n      <td>GYEJFK</td>\n      <td>Y</td>\n    </tr>\n    <tr>\n      <th>3</th>\n      <td>20220101</td>\n      <td>2I</td>\n      <td>2123</td>\n      <td>LIM</td>\n      <td></td>\n      <td>CIX</td>\n      <td>0755</td>\n      <td>0910</td>\n      <td>Sched. Pax</td>\n      <td>733</td>\n      <td>143</td>\n      <td>93205.16</td>\n      <td>75</td>\n      <td>0</td>\n      <td>Schedule_Dynamic_Table_Report_220213.tsv</td>\n      <td>20220213</td>\n      <td>LIMCIX</td>\n      <td>CIXLIM</td>\n      <td>N</td>\n    </tr>\n    <tr>\n      <th>4</th>\n      <td>20220101</td>\n      <td>2I</td>\n      <td>2124</td>\n      <td>CIX</td>\n      <td></td>\n      <td>LIM</td>\n      <td>0945</td>\n      <td>1100</td>\n      <td>Sched. Pax</td>\n      <td>733</td>\n      <td>143</td>\n      <td>93205.16</td>\n      <td>75</td>\n      <td>0</td>\n      <td>Schedule_Dynamic_Table_Report_220213.tsv</td>\n      <td>20220213</td>\n      <td>CIXLIM</td>\n      <td>CIXLIM</td>\n      <td>N</td>\n    </tr>\n  </tbody>\n</table>\n</div>",
              "datasetInfos": [],
              "metadata": {},
              "removedWidgets": [],
              "textData": null,
              "type": "htmlSandbox"
            }
          }
        },
        {
          "output_type": "stream",
          "name": "stdout",
          "text": [
            "Out[26]: 64036582"
          ]
        },
        {
          "output_type": "display_data",
          "data": {
            "text/html": [
              "<div>\n<style scoped>\n    .dataframe tbody tr th:only-of-type {\n        vertical-align: middle;\n    }\n\n    .dataframe tbody tr th {\n        vertical-align: top;\n    }\n\n    .dataframe thead th {\n        text-align: right;\n    }\n</style>\n<table border=\"1\" class=\"dataframe\">\n  <thead>\n    <tr style=\"text-align: right;\">\n      <th></th>\n      <th>airline_code</th>\n      <th>rt</th>\n      <th>flight_date</th>\n      <th>snapshot_date</th>\n      <th>sum_asks</th>\n    </tr>\n  </thead>\n  <tbody>\n    <tr>\n      <th>0</th>\n      <td>2D</td>\n      <td>GYEJFK</td>\n      <td>202201</td>\n      <td>20220131</td>\n      <td>38989641.44</td>\n    </tr>\n    <tr>\n      <th>1</th>\n      <td>2D</td>\n      <td>GYEJFK</td>\n      <td>202201</td>\n      <td>20220213</td>\n      <td>38989641.44</td>\n    </tr>\n    <tr>\n      <th>2</th>\n      <td>2D</td>\n      <td>GYEJFK</td>\n      <td>202201</td>\n      <td>20220227</td>\n      <td>38989641.44</td>\n    </tr>\n    <tr>\n      <th>3</th>\n      <td>2D</td>\n      <td>GYEJFK</td>\n      <td>202202</td>\n      <td>20220131</td>\n      <td>17201312.40</td>\n    </tr>\n    <tr>\n      <th>4</th>\n      <td>2D</td>\n      <td>GYEJFK</td>\n      <td>202202</td>\n      <td>20220213</td>\n      <td>17201312.40</td>\n    </tr>\n    <tr>\n      <th>...</th>\n      <td>...</td>\n      <td>...</td>\n      <td>...</td>\n      <td>...</td>\n      <td>...</td>\n    </tr>\n    <tr>\n      <th>144757</th>\n      <td>Y4</td>\n      <td>SALSJO</td>\n      <td>202401</td>\n      <td>20230212</td>\n      <td>2440280.44</td>\n    </tr>\n    <tr>\n      <th>144758</th>\n      <td>Y4</td>\n      <td>SALSJO</td>\n      <td>202401</td>\n      <td>20230219</td>\n      <td>2440280.44</td>\n    </tr>\n    <tr>\n      <th>144759</th>\n      <td>Y4</td>\n      <td>SALSJO</td>\n      <td>202401</td>\n      <td>20230226</td>\n      <td>2440280.44</td>\n    </tr>\n    <tr>\n      <th>144760</th>\n      <td>Y4</td>\n      <td>SALSJO</td>\n      <td>202401</td>\n      <td>20230305</td>\n      <td>2440280.44</td>\n    </tr>\n    <tr>\n      <th>144761</th>\n      <td>Y4</td>\n      <td>SALSJO</td>\n      <td>202402</td>\n      <td>20230305</td>\n      <td>2346423.50</td>\n    </tr>\n  </tbody>\n</table>\n<p>144762 rows × 5 columns</p>\n</div>"
            ]
          },
          "metadata": {
            "application/vnd.databricks.v1+output": {
              "addedWidgets": {},
              "arguments": {},
              "data": "<div>\n<style scoped>\n    .dataframe tbody tr th:only-of-type {\n        vertical-align: middle;\n    }\n\n    .dataframe tbody tr th {\n        vertical-align: top;\n    }\n\n    .dataframe thead th {\n        text-align: right;\n    }\n</style>\n<table border=\"1\" class=\"dataframe\">\n  <thead>\n    <tr style=\"text-align: right;\">\n      <th></th>\n      <th>airline_code</th>\n      <th>rt</th>\n      <th>flight_date</th>\n      <th>snapshot_date</th>\n      <th>sum_asks</th>\n    </tr>\n  </thead>\n  <tbody>\n    <tr>\n      <th>0</th>\n      <td>2D</td>\n      <td>GYEJFK</td>\n      <td>202201</td>\n      <td>20220131</td>\n      <td>38989641.44</td>\n    </tr>\n    <tr>\n      <th>1</th>\n      <td>2D</td>\n      <td>GYEJFK</td>\n      <td>202201</td>\n      <td>20220213</td>\n      <td>38989641.44</td>\n    </tr>\n    <tr>\n      <th>2</th>\n      <td>2D</td>\n      <td>GYEJFK</td>\n      <td>202201</td>\n      <td>20220227</td>\n      <td>38989641.44</td>\n    </tr>\n    <tr>\n      <th>3</th>\n      <td>2D</td>\n      <td>GYEJFK</td>\n      <td>202202</td>\n      <td>20220131</td>\n      <td>17201312.40</td>\n    </tr>\n    <tr>\n      <th>4</th>\n      <td>2D</td>\n      <td>GYEJFK</td>\n      <td>202202</td>\n      <td>20220213</td>\n      <td>17201312.40</td>\n    </tr>\n    <tr>\n      <th>...</th>\n      <td>...</td>\n      <td>...</td>\n      <td>...</td>\n      <td>...</td>\n      <td>...</td>\n    </tr>\n    <tr>\n      <th>144757</th>\n      <td>Y4</td>\n      <td>SALSJO</td>\n      <td>202401</td>\n      <td>20230212</td>\n      <td>2440280.44</td>\n    </tr>\n    <tr>\n      <th>144758</th>\n      <td>Y4</td>\n      <td>SALSJO</td>\n      <td>202401</td>\n      <td>20230219</td>\n      <td>2440280.44</td>\n    </tr>\n    <tr>\n      <th>144759</th>\n      <td>Y4</td>\n      <td>SALSJO</td>\n      <td>202401</td>\n      <td>20230226</td>\n      <td>2440280.44</td>\n    </tr>\n    <tr>\n      <th>144760</th>\n      <td>Y4</td>\n      <td>SALSJO</td>\n      <td>202401</td>\n      <td>20230305</td>\n      <td>2440280.44</td>\n    </tr>\n    <tr>\n      <th>144761</th>\n      <td>Y4</td>\n      <td>SALSJO</td>\n      <td>202402</td>\n      <td>20230305</td>\n      <td>2346423.50</td>\n    </tr>\n  </tbody>\n</table>\n<p>144762 rows × 5 columns</p>\n</div>",
              "datasetInfos": [],
              "metadata": {},
              "removedWidgets": [],
              "textData": null,
              "type": "htmlSandbox"
            }
          }
        },
        {
          "output_type": "display_data",
          "data": {
            "text/html": [
              "<div>\n<style scoped>\n    .dataframe tbody tr th:only-of-type {\n        vertical-align: middle;\n    }\n\n    .dataframe tbody tr th {\n        vertical-align: top;\n    }\n\n    .dataframe thead th {\n        text-align: right;\n    }\n</style>\n<table border=\"1\" class=\"dataframe\">\n  <thead>\n    <tr style=\"text-align: right;\">\n      <th></th>\n      <th>airline_code</th>\n      <th>rt</th>\n      <th>flight_date</th>\n      <th>snapshot_date</th>\n      <th>sum_asks</th>\n    </tr>\n  </thead>\n  <tbody>\n    <tr>\n      <th>0</th>\n      <td>2D</td>\n      <td>GYEJFK</td>\n      <td>202201</td>\n      <td>20220131</td>\n      <td>38989641.44</td>\n    </tr>\n    <tr>\n      <th>1</th>\n      <td>2D</td>\n      <td>GYEJFK</td>\n      <td>202201</td>\n      <td>20220213</td>\n      <td>38989641.44</td>\n    </tr>\n  </tbody>\n</table>\n</div>"
            ]
          },
          "metadata": {
            "application/vnd.databricks.v1+output": {
              "addedWidgets": {},
              "arguments": {},
              "data": "<div>\n<style scoped>\n    .dataframe tbody tr th:only-of-type {\n        vertical-align: middle;\n    }\n\n    .dataframe tbody tr th {\n        vertical-align: top;\n    }\n\n    .dataframe thead th {\n        text-align: right;\n    }\n</style>\n<table border=\"1\" class=\"dataframe\">\n  <thead>\n    <tr style=\"text-align: right;\">\n      <th></th>\n      <th>airline_code</th>\n      <th>rt</th>\n      <th>flight_date</th>\n      <th>snapshot_date</th>\n      <th>sum_asks</th>\n    </tr>\n  </thead>\n  <tbody>\n    <tr>\n      <th>0</th>\n      <td>2D</td>\n      <td>GYEJFK</td>\n      <td>202201</td>\n      <td>20220131</td>\n      <td>38989641.44</td>\n    </tr>\n    <tr>\n      <th>1</th>\n      <td>2D</td>\n      <td>GYEJFK</td>\n      <td>202201</td>\n      <td>20220213</td>\n      <td>38989641.44</td>\n    </tr>\n  </tbody>\n</table>\n</div>",
              "datasetInfos": [],
              "metadata": {},
              "removedWidgets": [],
              "textData": null,
              "type": "htmlSandbox"
            }
          }
        },
        {
          "output_type": "display_data",
          "data": {
            "text/html": [
              "<div>\n<style scoped>\n    .dataframe tbody tr th:only-of-type {\n        vertical-align: middle;\n    }\n\n    .dataframe tbody tr th {\n        vertical-align: top;\n    }\n\n    .dataframe thead th {\n        text-align: right;\n    }\n</style>\n<table border=\"1\" class=\"dataframe\">\n  <thead>\n    <tr style=\"text-align: right;\">\n      <th></th>\n      <th>airline_code</th>\n      <th>rt</th>\n      <th>median_asks_hist</th>\n      <th>median_lower_thresh_hist</th>\n      <th>median_upper_thresh_hist</th>\n    </tr>\n  </thead>\n  <tbody>\n    <tr>\n      <th>0</th>\n      <td>2D</td>\n      <td>GYEJFK</td>\n      <td>2293508.32</td>\n      <td>458701.664</td>\n      <td>4.128315e+06</td>\n    </tr>\n    <tr>\n      <th>1</th>\n      <td>4J</td>\n      <td>CURMDE</td>\n      <td>1331957.52</td>\n      <td>266391.504</td>\n      <td>2.397524e+06</td>\n    </tr>\n    <tr>\n      <th>2</th>\n      <td>5U</td>\n      <td>CUNGUA</td>\n      <td>3510945.00</td>\n      <td>702189.000</td>\n      <td>6.319701e+06</td>\n    </tr>\n    <tr>\n      <th>3</th>\n      <td>5U</td>\n      <td>FRSGUA</td>\n      <td>6315452.40</td>\n      <td>1263090.480</td>\n      <td>1.136781e+07</td>\n    </tr>\n    <tr>\n      <th>4</th>\n      <td>5U</td>\n      <td>GUASAL</td>\n      <td>427454.66</td>\n      <td>85490.932</td>\n      <td>7.694184e+05</td>\n    </tr>\n    <tr>\n      <th>...</th>\n      <td>...</td>\n      <td>...</td>\n      <td>...</td>\n      <td>...</td>\n      <td>...</td>\n    </tr>\n    <tr>\n      <th>504</th>\n      <td>Y4</td>\n      <td>MEXSJO</td>\n      <td>16491012.60</td>\n      <td>3298202.520</td>\n      <td>2.968382e+07</td>\n    </tr>\n    <tr>\n      <th>505</th>\n      <td>Y4</td>\n      <td>MIASAP</td>\n      <td>6739894.20</td>\n      <td>1347978.840</td>\n      <td>1.213181e+07</td>\n    </tr>\n    <tr>\n      <th>506</th>\n      <td>Y4</td>\n      <td>RTBSAL</td>\n      <td>1400901.84</td>\n      <td>280180.368</td>\n      <td>2.521623e+06</td>\n    </tr>\n    <tr>\n      <th>507</th>\n      <td>Y4</td>\n      <td>SALSAP</td>\n      <td>1229680.40</td>\n      <td>245936.080</td>\n      <td>2.213425e+06</td>\n    </tr>\n    <tr>\n      <th>508</th>\n      <td>Y4</td>\n      <td>SALSJO</td>\n      <td>2534137.38</td>\n      <td>506827.476</td>\n      <td>4.561447e+06</td>\n    </tr>\n  </tbody>\n</table>\n<p>509 rows × 5 columns</p>\n</div>"
            ]
          },
          "metadata": {
            "application/vnd.databricks.v1+output": {
              "addedWidgets": {},
              "arguments": {},
              "data": "<div>\n<style scoped>\n    .dataframe tbody tr th:only-of-type {\n        vertical-align: middle;\n    }\n\n    .dataframe tbody tr th {\n        vertical-align: top;\n    }\n\n    .dataframe thead th {\n        text-align: right;\n    }\n</style>\n<table border=\"1\" class=\"dataframe\">\n  <thead>\n    <tr style=\"text-align: right;\">\n      <th></th>\n      <th>airline_code</th>\n      <th>rt</th>\n      <th>median_asks_hist</th>\n      <th>median_lower_thresh_hist</th>\n      <th>median_upper_thresh_hist</th>\n    </tr>\n  </thead>\n  <tbody>\n    <tr>\n      <th>0</th>\n      <td>2D</td>\n      <td>GYEJFK</td>\n      <td>2293508.32</td>\n      <td>458701.664</td>\n      <td>4.128315e+06</td>\n    </tr>\n    <tr>\n      <th>1</th>\n      <td>4J</td>\n      <td>CURMDE</td>\n      <td>1331957.52</td>\n      <td>266391.504</td>\n      <td>2.397524e+06</td>\n    </tr>\n    <tr>\n      <th>2</th>\n      <td>5U</td>\n      <td>CUNGUA</td>\n      <td>3510945.00</td>\n      <td>702189.000</td>\n      <td>6.319701e+06</td>\n    </tr>\n    <tr>\n      <th>3</th>\n      <td>5U</td>\n      <td>FRSGUA</td>\n      <td>6315452.40</td>\n      <td>1263090.480</td>\n      <td>1.136781e+07</td>\n    </tr>\n    <tr>\n      <th>4</th>\n      <td>5U</td>\n      <td>GUASAL</td>\n      <td>427454.66</td>\n      <td>85490.932</td>\n      <td>7.694184e+05</td>\n    </tr>\n    <tr>\n      <th>...</th>\n      <td>...</td>\n      <td>...</td>\n      <td>...</td>\n      <td>...</td>\n      <td>...</td>\n    </tr>\n    <tr>\n      <th>504</th>\n      <td>Y4</td>\n      <td>MEXSJO</td>\n      <td>16491012.60</td>\n      <td>3298202.520</td>\n      <td>2.968382e+07</td>\n    </tr>\n    <tr>\n      <th>505</th>\n      <td>Y4</td>\n      <td>MIASAP</td>\n      <td>6739894.20</td>\n      <td>1347978.840</td>\n      <td>1.213181e+07</td>\n    </tr>\n    <tr>\n      <th>506</th>\n      <td>Y4</td>\n      <td>RTBSAL</td>\n      <td>1400901.84</td>\n      <td>280180.368</td>\n      <td>2.521623e+06</td>\n    </tr>\n    <tr>\n      <th>507</th>\n      <td>Y4</td>\n      <td>SALSAP</td>\n      <td>1229680.40</td>\n      <td>245936.080</td>\n      <td>2.213425e+06</td>\n    </tr>\n    <tr>\n      <th>508</th>\n      <td>Y4</td>\n      <td>SALSJO</td>\n      <td>2534137.38</td>\n      <td>506827.476</td>\n      <td>4.561447e+06</td>\n    </tr>\n  </tbody>\n</table>\n<p>509 rows × 5 columns</p>\n</div>",
              "datasetInfos": [],
              "metadata": {},
              "removedWidgets": [],
              "textData": null,
              "type": "htmlSandbox"
            }
          }
        },
        {
          "output_type": "display_data",
          "data": {
            "image/png": "[encoded data removed]"
          },
          "metadata": {
            "application/vnd.databricks.v1+output": {
              "addedWidgets": {},
              "arguments": {},
              "data": "data:image/png;base64,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\n",
              "datasetInfos": [],
              "metadata": {},
              "removedWidgets": [],
              "type": "image"
            }
          }
        },
        {
          "output_type": "display_data",
          "data": {
            "text/html": [
              "<div>\n<style scoped>\n    .dataframe tbody tr th:only-of-type {\n        vertical-align: middle;\n    }\n\n    .dataframe tbody tr th {\n        vertical-align: top;\n    }\n\n    .dataframe thead th {\n        text-align: right;\n    }\n</style>\n<table border=\"1\" class=\"dataframe\">\n  <thead>\n    <tr style=\"text-align: right;\">\n      <th></th>\n      <th>airline_code</th>\n      <th>rt</th>\n      <th>median_asks_hist</th>\n      <th>median_lower_thresh_hist</th>\n      <th>median_upper_thresh_hist</th>\n    </tr>\n  </thead>\n  <tbody>\n    <tr>\n      <th>173</th>\n      <td>AV</td>\n      <td>MDERCH</td>\n      <td>3159811.72</td>\n      <td>631962.344</td>\n      <td>5687661.096</td>\n    </tr>\n    <tr>\n      <th>480</th>\n      <td>VH</td>\n      <td>MDERCH</td>\n      <td>2822660.64</td>\n      <td>564532.128</td>\n      <td>5080789.152</td>\n    </tr>\n  </tbody>\n</table>\n</div>"
            ]
          },
          "metadata": {
            "application/vnd.databricks.v1+output": {
              "addedWidgets": {},
              "arguments": {},
              "data": "<div>\n<style scoped>\n    .dataframe tbody tr th:only-of-type {\n        vertical-align: middle;\n    }\n\n    .dataframe tbody tr th {\n        vertical-align: top;\n    }\n\n    .dataframe thead th {\n        text-align: right;\n    }\n</style>\n<table border=\"1\" class=\"dataframe\">\n  <thead>\n    <tr style=\"text-align: right;\">\n      <th></th>\n      <th>airline_code</th>\n      <th>rt</th>\n      <th>median_asks_hist</th>\n      <th>median_lower_thresh_hist</th>\n      <th>median_upper_thresh_hist</th>\n    </tr>\n  </thead>\n  <tbody>\n    <tr>\n      <th>173</th>\n      <td>AV</td>\n      <td>MDERCH</td>\n      <td>3159811.72</td>\n      <td>631962.344</td>\n      <td>5687661.096</td>\n    </tr>\n    <tr>\n      <th>480</th>\n      <td>VH</td>\n      <td>MDERCH</td>\n      <td>2822660.64</td>\n      <td>564532.128</td>\n      <td>5080789.152</td>\n    </tr>\n  </tbody>\n</table>\n</div>",
              "datasetInfos": [],
              "metadata": {},
              "removedWidgets": [],
              "textData": null,
              "type": "htmlSandbox"
            }
          }
        },
        {
          "output_type": "stream",
          "name": "stdout",
          "text": [
            "Out[37]: 70.49"
          ]
        }
      ],
      "source": [
        "total_time_execution_secs = round((time.time() - start_time),2)\n",
        "total_time_execution_secs"
      ]
    },
    {
      "cell_type": "markdown",
      "metadata": {
        "application/vnd.databricks.v1+cell": {
          "cellMetadata": {
            "byteLimit": 2048000,
            "rowLimit": 10000
          },
          "inputWidgets": {},
          "nuid": "9159eaff-cbfd-4ea6-a441-d3b006fdb15f",
          "showTitle": false,
          "title": ""
        },
        "id": "-C89qGAEuLeo"
      },
      "source": [
        "# XX. Espacio de prueba"
      ]
    },
    {
      "cell_type": "code",
      "execution_count": null,
      "metadata": {
        "application/vnd.databricks.v1+cell": {
          "cellMetadata": {
            "byteLimit": 2048000,
            "rowLimit": 10000
          },
          "inputWidgets": {},
          "nuid": "7ffec18f-b231-4ffa-9a90-60c7884be42d",
          "showTitle": false,
          "title": ""
        },
        "id": "ECbN1IRouLeo"
      },
      "outputs": [],
      "source": []
    }
  ],
  "metadata": {
    "application/vnd.databricks.v1+notebook": {
      "dashboards": [],
      "language": "python",
      "notebookMetadata": {
        "pythonIndentUnit": 2
      },
      "notebookName": "nb_netplan_cam_model",
      "notebookOrigID": 2402349787176844,
      "widgets": {
        "last_date": {
          "currentValue": "20230115",
          "nuid": "5fe9df4d-7afe-43e6-83c8-c8f7386df83e",
          "widgetInfo": {
            "widgetType": "text",
            "defaultValue": "",
            "label": null,
            "name": "last_date",
            "options": {
              "widgetType": "text",
              "validationRegex": null
            }
          }
        }
      }
    },
    "colab": {
      "provenance": [],
      "include_colab_link": true
    }
  },
  "nbformat": 4,
  "nbformat_minor": 0
}