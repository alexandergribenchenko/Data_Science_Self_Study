{
  "nbformat": 4,
  "nbformat_minor": 0,
  "metadata": {
    "colab": {
      "name": "OOP_for_Data_Science.ipynb",
      "provenance": [],
      "authorship_tag": "ABX9TyO3qlhbLRDqG4CJTQBolzf5",
      "include_colab_link": true
    },
    "kernelspec": {
      "name": "python3",
      "display_name": "Python 3"
    },
    "language_info": {
      "name": "python"
    }
  },
  "cells": [
    {
      "cell_type": "markdown",
      "metadata": {
        "id": "view-in-github",
        "colab_type": "text"
      },
      "source": [
        "<a href=\"https://colab.research.google.com/github/alexandergribenchenko/Data_Science_Self_Study/blob/main/OOP_for_Data_Science.ipynb\" target=\"_parent\"><img src=\"https://colab.research.google.com/assets/colab-badge.svg\" alt=\"Open In Colab\"/></a>"
      ]
    },
    {
      "cell_type": "markdown",
      "source": [
        "# **Python Object-Oriented Programming (OOP) for Data Science**"
      ],
      "metadata": {
        "id": "o8hIfiqqgDpC"
      }
    },
    {
      "cell_type": "markdown",
      "source": [
        "**Nota introductoria**: Este notebook toma como fuente base el artículo:  [Python Object-Oriented Programming (OOP) for Data Science](https://acortar.link/0463Nz)"
      ],
      "metadata": {
        "id": "8Tr0hTFJjbxk"
      }
    },
    {
      "cell_type": "code",
      "source": [
        ""
      ],
      "metadata": {
        "id": "ae42O7B3jZ27"
      },
      "execution_count": null,
      "outputs": []
    },
    {
      "cell_type": "code",
      "source": [
        ""
      ],
      "metadata": {
        "id": "AxAVTjSzkCCm"
      },
      "execution_count": 1,
      "outputs": []
    },
    {
      "cell_type": "markdown",
      "source": [
        "## **02. Conceptos fundamentales de la Programación orientada a objetos**"
      ],
      "metadata": {
        "id": "KWrVbYHfljZx"
      }
    },
    {
      "cell_type": "markdown",
      "source": [
        "La programación orientada a objetos se centra en los siguientes conceptos:\n",
        "\n",
        "- **Encapsulación:** La idea detrás de la encapsulación es que todas las propiedades y métodos de un objeto se mantengan privados y a salvo de que otro objeto los herede. Esto le permite definir métodos y atributos públicos y privados. Las personas que usan su programa pueden usar los métodos públicos, mientras que los métodos privados no.\n",
        "\n",
        "- **Abstracción:** Detrás del concepto de abstracción está el concepto de encapsulación. La abstracción le permite exponer solo mecanismos de alto nivel para hacer ciertas cosas mientras oculta (o \"abstrae\") los mecanismos complejos detrás de esto. Por ejemplo, su automóvil abstrae toda la mecánica detrás de encender su automóvil presionando un botón o girando una llave.\n",
        "\n",
        "- **Herencia**: La herencia le permite crear objetos similares que mantienen un número base de propiedades (atributos) y habilidades (métodos). Esto le permite crear un tipo de objeto que puede usarse como base para muchos otros objetos sin necesidad de repetir su código. Por ejemplo, la base de un automóvil se puede usar para crear objetos como camiones, SUV y autocaravanas.\n",
        "\n",
        "- **Polimorfismo**: El concepto de polimorfismo se basa en el concepto de herencia. Si bien puede ser útil definir objetos secundarios, estos objetos secundarios pueden funcionar de forma ligeramente diferente. El polimorfismo le permite definir un objeto secundario pero crear y usar sus propios métodos. Siguiendo el ejemplo de los automóviles y camiones, el método para encender un camión puede ser ligeramente diferente al de encender un automóvil.\n",
        "\n",
        "\n"
      ],
      "metadata": {
        "id": "rH7WCzYfi6yy"
      }
    },
    {
      "cell_type": "code",
      "execution_count": null,
      "metadata": {
        "id": "u0Vt0YvDfdwl"
      },
      "outputs": [],
      "source": [
        ""
      ]
    },
    {
      "cell_type": "code",
      "source": [
        ""
      ],
      "metadata": {
        "id": "ZAvM1mpYfjo9"
      },
      "execution_count": null,
      "outputs": []
    },
    {
      "cell_type": "code",
      "source": [
        ""
      ],
      "metadata": {
        "id": "lVWrUpUsfjm3"
      },
      "execution_count": null,
      "outputs": []
    },
    {
      "cell_type": "code",
      "source": [
        ""
      ],
      "metadata": {
        "id": "oe87wgFvfjk6"
      },
      "execution_count": null,
      "outputs": []
    },
    {
      "cell_type": "code",
      "source": [
        ""
      ],
      "metadata": {
        "id": "AZ38VUkYfjio"
      },
      "execution_count": null,
      "outputs": []
    },
    {
      "cell_type": "code",
      "source": [
        ""
      ],
      "metadata": {
        "id": "J966vM60fjgO"
      },
      "execution_count": null,
      "outputs": []
    },
    {
      "cell_type": "code",
      "source": [
        ""
      ],
      "metadata": {
        "id": "-dbura6CfjeC"
      },
      "execution_count": null,
      "outputs": []
    },
    {
      "cell_type": "code",
      "source": [
        ""
      ],
      "metadata": {
        "id": "r_EjaCrxfjWM"
      },
      "execution_count": null,
      "outputs": []
    },
    {
      "cell_type": "code",
      "source": [
        ""
      ],
      "metadata": {
        "id": "5bZ7PCCIfjTr"
      },
      "execution_count": null,
      "outputs": []
    }
  ]
}