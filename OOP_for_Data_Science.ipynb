{
  "nbformat": 4,
  "nbformat_minor": 0,
  "metadata": {
    "colab": {
      "name": "OOP_for_Data_Science.ipynb",
      "provenance": [],
      "authorship_tag": "ABX9TyMH7ZxHicoc5J4r2Jbo7j8c",
      "include_colab_link": true
    },
    "kernelspec": {
      "name": "python3",
      "display_name": "Python 3"
    },
    "language_info": {
      "name": "python"
    }
  },
  "cells": [
    {
      "cell_type": "markdown",
      "metadata": {
        "id": "view-in-github",
        "colab_type": "text"
      },
      "source": [
        "<a href=\"https://colab.research.google.com/github/alexandergribenchenko/Data_Science_Self_Study/blob/main/OOP_for_Data_Science.ipynb\" target=\"_parent\"><img src=\"https://colab.research.google.com/assets/colab-badge.svg\" alt=\"Open In Colab\"/></a>"
      ]
    },
    {
      "cell_type": "markdown",
      "source": [
        "# **Python Object-Oriented Programming (OOP) for Data Science**"
      ],
      "metadata": {
        "id": "o8hIfiqqgDpC"
      }
    },
    {
      "cell_type": "markdown",
      "source": [
        "**Nota introductoria**: Este notebook toma como fuente base el artículo:  [Python Object-Oriented Programming (OOP) for Data Science](https://acortar.link/0463Nz)"
      ],
      "metadata": {
        "id": "8Tr0hTFJjbxk"
      }
    },
    {
      "cell_type": "markdown",
      "source": [
        "## **01. ¿Que es la Programación Orientada a Objetos?**"
      ],
      "metadata": {
        "id": "a1Sz0jh9m4ap"
      }
    },
    {
      "cell_type": "markdown",
      "source": [
        "La Programación Orientada a objetos (o OOP) se refiere a un paradigma de programación que basa su desarrollo en un elemento fundamantal denomiado `objeto`. Los objetos presentan 2 elementos constitutivos: \n",
        "\n",
        "- **Atributos:** son las propiedades especificas de un objeto.\n",
        "- **Métodos:** son  las acciones o comportamientos que sobre el propio objeto se pueden tener."
      ],
      "metadata": {
        "id": "tVsQ1zj2nAjk"
      }
    },
    {
      "cell_type": "markdown",
      "source": [
        "## **02. Conceptos fundamentales de la Programación Orientada a Objetos**"
      ],
      "metadata": {
        "id": "KWrVbYHfljZx"
      }
    },
    {
      "cell_type": "markdown",
      "source": [
        "La programación orientada a objetos presenta los siguientes conceptos fundamantales:\n",
        "\n",
        "- **Encapsulación:** La idea detrás de la encapsulación es que todos los atributos y métodos de un objeto se mantengan privados y a salvo de que otro objeto los herede. Esto le permite definir métodos y atributos públicos y privados. Las personas que usan su programa pueden usar los métodos públicos, mientras que los métodos privados no.\n",
        "\n",
        "- **Abstracción:** Detrás del concepto de abstracción está el concepto de encapsulación. La abstracción le permite exponer solo mecanismos de alto nivel para hacer ciertas cosas mientras oculta (o \"abstrae\") los mecanismos complejos detrás de esto. Por ejemplo, su automóvil abstrae toda la mecánica detrás de encender su automóvil presionando un botón o girando una llave.\n",
        "\n",
        "- **Herencia**: La herencia le permite crear objetos similares que mantienen un número base de propiedades (atributos) y habilidades (métodos). Esto le permite crear un tipo de objeto que puede usarse como base para muchos otros objetos sin necesidad de repetir su código. Por ejemplo, la base de un automóvil se puede usar para crear objetos como camiones, SUV y autocaravanas. **Nota:** Existen diferentes tipos de herencia: herencia simple, herencia multiple, herencia multinivel, herencia jerárquica y herencia híbrida.\n",
        "\n",
        "- **Polimorfismo**: El concepto de polimorfismo se basa en el concepto de herencia. Si bien puede ser útil definir objetos secundarios, estos objetos secundarios pueden funcionar de forma ligeramente diferente. El polimorfismo le permite definir un objeto secundario pero crear y usar sus propios métodos. Siguiendo el ejemplo de los automóviles y camiones, el método para encender un camión puede ser ligeramente diferente al de encender un automóvil.\n",
        "\n",
        "\n"
      ],
      "metadata": {
        "id": "rH7WCzYfi6yy"
      }
    },
    {
      "cell_type": "markdown",
      "source": [
        "## **03. ¿Por qué la programación orientada a objetos es importante para la ciencia de datos?**"
      ],
      "metadata": {
        "id": "CCceiTC4rAod"
      }
    },
    {
      "cell_type": "markdown",
      "source": [
        "En muchos casos en ciencia de datos, el paradigma de la `programación procedimental` será suficiente. Esto estructura un programa casi como una receta o un manual de instrucciones. En este caso, cada línea de código se ejecuta en orden. Entonces, ¿qué tiene para ti aprender programación orientada a objetos cuando todo lo que quieres hacer es analizar datos?\n",
        "\n",
        "Hay dos razones principales para hacer esto:\n",
        "\n",
        "1. **Los objetos están en todas partes:** en Python (de hecho, todo es un objeto).\n",
        "2. **Organización del código:** a medida que crecen sus programas, también crece la complejidad. La programación orientada a objetos le permite organizar su código, lo que facilita la prueba, la depuración y la expansión. Permite mejorar modularizando lo que inicialmente tenemos como *código spaguetti*.\n",
        "\n",
        "En las primeras etapas de trabajo con Python para la ciencia de datos, puede parecer que los conceptos detrás de la programación orientada a objetos no tienen sentido o no se aplican. ¡Pero no te desesperes!\n",
        "\n",
        "Aprender a pensar en el paradigma de la programación orientada a objetos le permite comprender mejor cómo funcionan muchas aplicaciones de Python. Por ejemplo, un Pandas DataFrame es un objeto complejo que tiene muchos atributos y métodos. El simple hecho de saber que un DataFrame es un objeto le permite comprender por qué el DataFrame tiene ciertos métodos, mientras que, por ejemplo, una lista de Python no los tiene.\n",
        "\n",
        "Como científico de datos, no siempre necesitará usar programación orientada a objetos. No caiga en la trampa de que todo debe seguir un paradigma OOP. Más adelante en el tutorial, aprenderá algunos casos de uso excelentes para cuando debería intentar usar la programación orientada a objetos.\n"
      ],
      "metadata": {
        "id": "vTtSRmgtrTWa"
      }
    },
    {
      "cell_type": "markdown",
      "source": [
        "## **04. ¿Por qué crear objetos en Python?**"
      ],
      "metadata": {
        "id": "FDq1oO9Wsrke"
      }
    },
    {
      "cell_type": "markdown",
      "source": [
        "En muchos casos, Python le brinda la capacidad de definir conceptos simples utilizando tipos de datos primitivos, como listas y diccionarios. Por ejemplo, podría crear una lista para contener información sobre los estudiantes de su clase. Vamos a crear algunas listas para contener esta información:"
      ],
      "metadata": {
        "id": "XD5ZMb2lsrii"
      }
    },
    {
      "cell_type": "code",
      "source": [
        "# Creating lists to store data\n",
        "nik = ['Nik', 33, 'datagy.io', 'Toronto']\n",
        "kate = ['Kate', 33, 'government', 'Toronto']\n",
        "evan = ['Evan', 40, 'teaching', 'London']"
      ],
      "metadata": {
        "id": "uWQ0o3hgtEZk"
      },
      "execution_count": 1,
      "outputs": []
    },
    {
      "cell_type": "markdown",
      "source": [
        "Si bien este enfoque funciona, hay una serie de problemas diferentes con este enfoque:\n",
        "1. Es necesario recordar la posición de cada elemento. \n",
        "2. Cuando un elemento no existe, el índice puede apuntar a un elemento diferente. \n",
        "3. No está claro qué representa cada elemento.\n",
        "\n",
        "Si bien podríamos convertir estas listas en diccionarios, o en un dictado predeterminado, todavía hay una serie de problemas con este enfoque. Debe definir funciones para permitir que estos diccionarios hagan algo. Estas funciones son entonces accesibles para cualquier otra cosa en su programa. Esto puede hacer que sea bastante confuso para los lectores de su código y tener consecuencias no deseadas.\n",
        "\n",
        "Todos estos problemas se pueden resolver creando una clase, que puede contener diferentes piezas de información, pero también puede contener funciones. ¡En la siguiente sección, aprenderá cómo crear su primera clase en Python!"
      ],
      "metadata": {
        "id": "yM8StFQTsrgO"
      }
    },
    {
      "cell_type": "markdown",
      "source": [
        "## **05. Objetos y Clases en Python**"
      ],
      "metadata": {
        "id": "QSmeqbz7srd-"
      }
    },
    {
      "cell_type": "markdown",
      "source": [
        "En Python, puede definir una clase usando la palabra clave `class`. La palabra clave va seguida del nombre de la clase y dos puntos. ¡Eso, en sí mismo, es suficiente para definir una clase! Vamos a crear una nueva clase siguiendo nuestra convención anterior:"
      ],
      "metadata": {
        "id": "z1M6awqFsrbs"
      }
    },
    {
      "cell_type": "code",
      "source": [
        "# Creating your first class\n",
        "class Person:\n",
        "   pass"
      ],
      "metadata": {
        "id": "BLh6QxOkuT2H"
      },
      "execution_count": 2,
      "outputs": []
    },
    {
      "cell_type": "markdown",
      "source": [
        "Por convención, una clase de Python se escribe con letras mayúsculas separando cada palabra. Si tuviéramos una clase de varias palabras, entonces cada palabra sería una letra mayúscula. \n",
        "\n",
        "Analicemos algunas piezas de terminología antes de pasar a algo más detallado:"
      ],
      "metadata": {
        "id": "paXM_BpIsrZc"
      }
    },
    {
      "cell_type": "markdown",
      "source": [
        "Aprendamos cómo podemos expandir nuestro método dándole algunas propiedades. Esto se hace usando lo que se llama el método `__init__`, también conocido como el método constructor."
      ],
      "metadata": {
        "id": "EL1Q5tAyyI6F"
      }
    },
    {
      "cell_type": "markdown",
      "source": [
        "## **06. Python init: el método del constructor**"
      ],
      "metadata": {
        "id": "Yu_nfhbRyKcw"
      }
    },
    {
      "cell_type": "markdown",
      "source": [
        "En este momento, nuestra clase `Person` no contiene ninguna información ni hace nada. Crear esta clase, tal como está ahora, en realidad no logra nada. Veamos cómo podemos ampliar esto estableciendo los atributos iniciales de una persona."
      ],
      "metadata": {
        "id": "5z1dcVHqyLSx"
      }
    },
    {
      "cell_type": "code",
      "source": [
        "# Adding details to the Person class\n",
        "class Person:\n",
        "    def __init__(self, name, age, company):\n",
        "        self.name = name\n",
        "        self.age = age\n",
        "        self.company = company"
      ],
      "metadata": {
        "id": "5n3fucxw0jN1"
      },
      "execution_count": 3,
      "outputs": []
    },
    {
      "cell_type": "markdown",
      "source": [
        "Nuestra clase Persona ahora tiene tres atributos, `name`, `age` y `company`. Cuando creamos una nueva persona, podemos pasar estos parámetros para hacer que nuestra persona sea un poco más interesante."
      ],
      "metadata": {
        "id": "bHmFrEuwyLBI"
      }
    },
    {
      "cell_type": "code",
      "source": [
        "# Creating our first Person instance\n",
        "Nik = Person('Nik', 33, 'datagy.io')\n",
        "print (Nik.name, Nik.age, Nik.company)"
      ],
      "metadata": {
        "colab": {
          "base_uri": "https://localhost:8080/"
        },
        "id": "6GFlcomJ077X",
        "outputId": "f541d5ff-7f88-4fd2-ccdf-ee4e70ef1c2f"
      },
      "execution_count": 4,
      "outputs": [
        {
          "output_type": "stream",
          "name": "stdout",
          "text": [
            "Nik 33 datagy.io\n"
          ]
        }
      ]
    },
    {
      "cell_type": "markdown",
      "source": [
        "A primera vista, esta función parece un poco extraña. La función `__init__()` se conoce como método constructor. Este método establece el estado inicial del objeto, inicializando esa instancia de la clase.\n",
        "\n",
        "La función `__init__()` puede contener cualquier cantidad de parámetros, pero el primer argumento siempre debe ser la variable self."
      ],
      "metadata": {
        "id": "TUtKMmTi1QWt"
      }
    },
    {
      "cell_type": "markdown",
      "source": [
        "## **07. Comprender `self` en la programación orientada a objetos de Python**"
      ],
      "metadata": {
        "id": "Rn1MHfgk2VHi"
      }
    },
    {
      "cell_type": "markdown",
      "source": [
        "El parámetro `self` se usa para representar esa instancia de una clase. `self` le permite a Python saber que el atributo o los métodos deben aplicarse a ese objeto (y solo a ese objeto). En esencia, el parámetro `self` asigna los atributos con los argumentos dados.\n",
        "\n",
        "Cuando creó el primer objeto anterior, a las variables que se pasaron se les asignaron los enlaces `self`. Así por ejemplo:\n",
        "\n",
        "- `self.name` se le asignó el argumento del parámetro de `name` \n",
        "- `self.company` se le asignó el argumento del parámetro `company`.\n",
        "\n",
        "Entonces, `self` apunta a la instancia de esa clase. En Python, `self` permite que los objetos accedan a sus atributos y métodos y hace que estas instancias sean únicas."
      ],
      "metadata": {
        "id": "yTmKikt62rRY"
      }
    },
    {
      "cell_type": "markdown",
      "source": [
        "## **08. Atributos de clase e instancia de Python**"
      ],
      "metadata": {
        "id": "u0Umsqkh29gt"
      }
    },
    {
      "cell_type": "markdown",
      "source": [
        "En esta sección, aprenderá más sobre los atributos en las clases de Python. De hecho, hay dos tipos principales de atributos contenidos en las clases de Python. Hay atributos de clase y atributos de instancia. Carguemos algo de código nuevamente y echemos un vistazo a la diferencia:"
      ],
      "metadata": {
        "id": "No5mtqI229d2"
      }
    },
    {
      "cell_type": "code",
      "source": [
        "# Looking at the difference between class and instance attributes\n",
        "class Person:\n",
        "    # Class attribute\n",
        "    type = 'Human'\n",
        "    perro = 'gato'\n",
        "    def __init__(self, name, age, company):\n",
        "        # Instance attributes\n",
        "        self.name = name\n",
        "        self.age = age\n",
        "        self.company = company"
      ],
      "metadata": {
        "id": "VYs8mkyg2UcH"
      },
      "execution_count": 11,
      "outputs": []
    },
    {
      "cell_type": "code",
      "source": [
        "Nik = Person('Nik', 33, 'datagy.io')\n",
        "print (Nik.type, Nik.name, Nik.age, Nik.company, Nik.perro)"
      ],
      "metadata": {
        "colab": {
          "base_uri": "https://localhost:8080/"
        },
        "id": "ihIqHDF4Y8if",
        "outputId": "6a338150-3120-4a4e-c2b7-8b565b7e41da"
      },
      "execution_count": 12,
      "outputs": [
        {
          "output_type": "stream",
          "name": "stdout",
          "text": [
            "Human Nik 33 datagy.io gato\n"
          ]
        }
      ]
    },
    {
      "cell_type": "markdown",
      "source": [
        "En el ejemplo anterior hemos declarado cuatro atributos. Tres de estos atributos son atributos de instancia, mientras que solo uno es un atributo de clase. Entonces, ¿cuál es la diferencia? La siguiente tabla desglosa algunas de las diferencias clave entre los atributos de clase e instancia:"
      ],
      "metadata": {
        "id": "0ruWn_I3WMF4"
      }
    },
    {
      "cell_type": "markdown",
      "source": [
        "Descripción\t| Atributo de instancia |\tAtributo de clase\n",
        "--- | --- | ---\n",
        "Creado\t| Dentro de la función `__init__()` |\tCreado antes de la función `__init__()`\n",
        "Referencias `self` | No referencia a `self` | Se especifica usando `self.attribute_name`\n",
        "Genérico / Específico | Genérico para todas las instancias, a menos que se modifique | Específico para una instancia de clase\n",
        "\n",
        "\n",
        "\n",
        "\n",
        "\n",
        "\n"
      ],
      "metadata": {
        "id": "1n-3WLFxU46G"
      }
    },
    {
      "cell_type": "markdown",
      "source": [
        "Entonces, ¿cuándo deberías usar uno sobre el otro?\n",
        "\n",
        "- Si desea que un atributo sea el mismo para cada instancia de su clase, como el atributo de tipo en la clase Persona, utilice un atributo de clase. Esto evita que necesite pasarlo como un valor cada vez que crea una clase.\n",
        "- Si desea que un atributo sea específico para un objeto, utilice un atributo de instancia. Esto le permite personalizar el objeto para satisfacer sus necesidades."
      ],
      "metadata": {
        "id": "h4Ap0nA3YUXY"
      }
    },
    {
      "cell_type": "markdown",
      "source": [
        "## **09. Acceder a atributos de objetos en Python**"
      ],
      "metadata": {
        "id": "TuShzPEfZfVC"
      }
    },
    {
      "cell_type": "markdown",
      "source": [
        "Ahora que comprende los atributos de los objetos de Python, veamos cómo puede acceder a estos atributos. Se puede acceder a los atributos de los objetos de Python mediante la notación de puntos. Esta es una forma familiar de acceder a datos en listas o diccionarios y funciona como es de esperar."
      ],
      "metadata": {
        "id": "4TKWxpTNZfPq"
      }
    },
    {
      "cell_type": "code",
      "source": [
        "class Person:\n",
        "    # Class attribute\n",
        "    type = 'Human'\n",
        "\n",
        "    def __init__(self, name, age, company):\n",
        "        # Instance attributes\n",
        "        self.name = name\n",
        "        self.age = age\n",
        "        self.company = company\n",
        "\n",
        "Nik = Person('Nik', 33, 'datagy.io')"
      ],
      "metadata": {
        "id": "gethHq3eZzbU"
      },
      "execution_count": 13,
      "outputs": []
    },
    {
      "cell_type": "markdown",
      "source": [
        "Este objeto ahora tiene cuatro atributos. Si está trabajando en un IDE como VS Code, estos atributos son incluso accesibles a través de Intellisense. Esto le permite ahorrar algo de tiempo escribiendo y hacer que los nombres de sus atributos se llamen correctamente.\n",
        "\n",
        "Veamos cómo podemos imprimir el atributo de empresa en nuestro objeto Nik.\n",
        "\n"
      ],
      "metadata": {
        "id": "goN-5L6EZfMf"
      }
    },
    {
      "cell_type": "code",
      "source": [
        "# Printing an object's attribute\n",
        "print(Nik.company)\n"
      ],
      "metadata": {
        "colab": {
          "base_uri": "https://localhost:8080/"
        },
        "id": "u47o3RSjZ_Nx",
        "outputId": "067cec27-8c85-4d42-daf8-7021b447b7a1"
      },
      "execution_count": 14,
      "outputs": [
        {
          "output_type": "stream",
          "name": "stdout",
          "text": [
            "datagy.io\n"
          ]
        }
      ]
    },
    {
      "cell_type": "markdown",
      "source": [
        "Incluso podemos modificar estos atributos simplemente asignándoles directamente un nuevo valor. Digamos que tenía un cumpleaños y quería actualizar mi edad, simplemente podría escribir:"
      ],
      "metadata": {
        "id": "7YHaU1sbZfJm"
      }
    },
    {
      "cell_type": "code",
      "source": [
        "# Modifying an object's attribute\n",
        "Nik.age = 34\n",
        "print(Nik.age)"
      ],
      "metadata": {
        "colab": {
          "base_uri": "https://localhost:8080/"
        },
        "id": "iJsuJqAC2UZf",
        "outputId": "471999e5-4401-4e4e-893b-2d7adf7768ef"
      },
      "execution_count": 15,
      "outputs": [
        {
          "output_type": "stream",
          "name": "stdout",
          "text": [
            "34\n"
          ]
        }
      ]
    },
    {
      "cell_type": "markdown",
      "source": [
        "El estado de ese objeto se mantiene y se puede modificar. Esta es una de las ventajas de usar la programación orientada a objetos: puede ejecutar su programa mientras se mantienen los datos de su programa de una manera útil y fácil de entender."
      ],
      "metadata": {
        "id": "eACxiAqkavU4"
      }
    },
    {
      "cell_type": "markdown",
      "source": [
        "## **10. Funciones y métodos de Python**"
      ],
      "metadata": {
        "id": "8JW84jpJa9pF"
      }
    },
    {
      "cell_type": "markdown",
      "source": [
        "Hasta ahora, los objetos que ha creado contienen información, pero en realidad no hacen nada. En Python, usamos funciones para crear acciones repetitivas. En la programación orientada a objetos, también existen funciones. Sin embargo, los métodos se refieren a funciones contenidas en un objeto.\n",
        "\n",
        "La conclusión aquí es: si bien se puede llamar a una función desde cualquier lugar, un método de clase solo se puede llamar desde una instancia de esa clase. Debido a esto, todo método es una función pero no toda función es un método.\n",
        "\n",
        "¡Vamos a definir nuestro primer método de objeto! Crearemos un método que permita que nuestro objeto salude a alguien usando su nombre:"
      ],
      "metadata": {
        "id": "S_KnVZN1a9nC"
      }
    },
    {
      "cell_type": "code",
      "source": [
        "# Writing your first object method\n",
        "class Person:\n",
        "    type = 'Human'\n",
        "\n",
        "    def __init__(self, name, age, company):\n",
        "        self.name = name\n",
        "        self.age = age\n",
        "        self.company = company\n",
        "    \n",
        "    def greet(self):\n",
        "        print('Hi there! My name is ', self.name)\n",
        "\n",
        "Nik = Person('Nik', 33, 'datagy.io')\n",
        "Nik.greet()"
      ],
      "metadata": {
        "colab": {
          "base_uri": "https://localhost:8080/"
        },
        "id": "ju5SB5CFbY0e",
        "outputId": "00d28fa5-82ad-4be8-97c0-e81dcf071ac5"
      },
      "execution_count": 20,
      "outputs": [
        {
          "output_type": "stream",
          "name": "stdout",
          "text": [
            "Hi there! My name is  Nik\n"
          ]
        }
      ]
    },
    {
      "cell_type": "markdown",
      "source": [
        "Definir un método de objeto es casi lo mismo que crear una función regular. Hay una serie de diferencias clave:"
      ],
      "metadata": {
        "id": "PrzmAKHvc6Yh"
      }
    },
    {
      "cell_type": "markdown",
      "source": [
        "- La función se define dentro del objeto.\n",
        "- Se requiere el argumento `self`.\n",
        "Se requiere que el primer argumento debe ser `self`."
      ],
      "metadata": {
        "id": "2HX0c7rFc6V8"
      }
    },
    {
      "cell_type": "markdown",
      "source": [
        "Recuerde, `self` apunta a esa instancia del objeto. Debido a esto, el método puede acceder a sus atributos. Sin embargo, incluso si la función no requiere ningún atributo de sí mismo, se requiere el argumento.\n",
        "\n",
        "Ahora vamos a crear un método que modifique el objeto en sí. Creemos un método que permita que nuestro objeto tenga un cumpleaños. Esto aumentará la edad en uno, utilizando el operador de asignación de aumento."
      ],
      "metadata": {
        "id": "qsnufQE-c6Tc"
      }
    },
    {
      "cell_type": "code",
      "source": [
        "# Adding a birthday method to our class\n",
        "class Person:\n",
        "    type = 'Human'\n",
        "\n",
        "    def __init__(self, name, age, company):\n",
        "        self.name = name\n",
        "        self.age = age\n",
        "        self.company = company\n",
        "    \n",
        "    def greet(self):\n",
        "        print('Hi there! My name is ', self.name)\n",
        "\n",
        "    def have_birthday(self):\n",
        "        self.age += 1\n",
        "\n",
        "Nik = Person('Nik', 33, 'datagy.io')\n",
        "print(Nik.age)         \n",
        "Nik.have_birthday()\n",
        "print(Nik.age)\n",
        "Nik.have_birthday()\n",
        "print(Nik.age)     "
      ],
      "metadata": {
        "colab": {
          "base_uri": "https://localhost:8080/"
        },
        "id": "1azzKNzqd3rW",
        "outputId": "d65d4a9a-0aa2-4b12-f3b4-b444f12cb8be"
      },
      "execution_count": 22,
      "outputs": [
        {
          "output_type": "stream",
          "name": "stdout",
          "text": [
            "33\n",
            "34\n",
            "35\n"
          ]
        }
      ]
    },
    {
      "cell_type": "markdown",
      "source": [
        "Si bien la complejidad de nuestro método `have_birthday()` es bastante sencilla, esto lleva al punto de la programación orientada a objetos. Somos capaces de abstraer la mecánica detrás de lo que hace el programa detrás de un método fácil de entender."
      ],
      "metadata": {
        "id": "zfhT8qR4c6PK"
      }
    },
    {
      "cell_type": "markdown",
      "source": [
        "## **11. Herencia de clases en Python**"
      ],
      "metadata": {
        "id": "j-5ahqs9c6MF"
      }
    },
    {
      "cell_type": "markdown",
      "source": [
        "En esta sección, aprenderá sobre un concepto importante relacionado con la programación orientada a objetos de Python: `la herencia`. La herencia es un proceso por el cual una clase adquiere los atributos y métodos de otra clase. Sin embargo, la clase también puede tener sus propios atributos y métodos.\n",
        "\n",
        "En el caso de la herencia, la clase original se denomina *parent class*, mientras que la clase que hereda se denomina *child class*.\n",
        "\n",
        "Lo especial de las *child classes* en Python es que:"
      ],
      "metadata": {
        "id": "Ij12KpSnc6J3"
      }
    },
    {
      "cell_type": "markdown",
      "source": [
        "- Heredan todos los atributos y métodos de la clase principal. \n",
        "- Pueden definir sus propios atributos y métodos.\n",
        "- Pueden sobrescribir los atributos y métodos de la clase principal."
      ],
      "metadata": {
        "id": "ctX81e_5a9j_"
      }
    },
    {
      "cell_type": "markdown",
      "source": [
        "Veamos cómo podemos aprovechar el concepto de herencia para crear una nueva clase: `Employee`. Cada `Employee` tendrá los mismos atributos y métodos de `Person`, pero también tendrá acceso a algunos propios:"
      ],
      "metadata": {
        "id": "vwVzimTHa9hh"
      }
    },
    {
      "cell_type": "code",
      "source": [
        "# Creating your first sub-class\n",
        "class Employee(Person):\n",
        "    def __init__(self, name, age, company, employee_number, income):\n",
        "        super().__init__(name, age, company)\n",
        "        self.employee_number = employee_number\n",
        "        self.income = income\n",
        "\n",
        "    def do_work(self):\n",
        "        print(\"Working hard!\")\n",
        "\n",
        "kate = Employee('Kate', 33, 'government', 12345, 90000)\n",
        "\n",
        "kate.do_work()\n",
        "kate.greet()\n",
        "print(kate.age)\n",
        "kate.have_birthday()\n",
        "print(kate.age)"
      ],
      "metadata": {
        "colab": {
          "base_uri": "https://localhost:8080/"
        },
        "id": "gU3NGEpi1Lsw",
        "outputId": "88399963-59ec-4fdf-fb1d-3379b0856b2e"
      },
      "execution_count": 35,
      "outputs": [
        {
          "output_type": "stream",
          "name": "stdout",
          "text": [
            "Working hard!\n",
            "Hi there! My name is  Kate\n",
            "33\n",
            "34\n"
          ]
        }
      ]
    },
    {
      "cell_type": "code",
      "source": [
        "print (kate.type, kate.name, kate.age, kate.company, kate.employee_number, kate.income )"
      ],
      "metadata": {
        "colab": {
          "base_uri": "https://localhost:8080/"
        },
        "id": "SbjrH0uBglro",
        "outputId": "b8e20013-7026-441b-dc69-d31c7592609c"
      },
      "execution_count": 36,
      "outputs": [
        {
          "output_type": "stream",
          "name": "stdout",
          "text": [
            "Human Kate 34 government 12345 90000\n"
          ]
        }
      ]
    },
    {
      "cell_type": "markdown",
      "source": [
        "Ahora que hemos creado una subclase de Empleado, podemos crear estos objetos. Los objetos tendrán acceso a los mismos métodos y atributos, pero también a atributos o métodos adicionales. Hay algunas cosas a tener en cuenta aquí:"
      ],
      "metadata": {
        "id": "CMkODPnRh6nY"
      }
    },
    {
      "cell_type": "markdown",
      "source": [
        "- `super().__init__()` se incluye en la primera línea de la función `__init__()` de la subclase. Esto permite que la clase herede todos los atributos de la clase principal, sin necesidad de repetirlos.\n",
        "- La función `super()` toma todos los argumentos originales de la clase principal\n",
        "- No necesitábamos repetir ningún método de la clase original, pero aún podemos acceder a ellos.\n",
        "\n",
        "Veamos cómo podemos acceder a un método de clase padre:"
      ],
      "metadata": {
        "id": "CMpMd7fWiQRs"
      }
    },
    {
      "cell_type": "code",
      "source": [
        "# Accessing a parent class method\n",
        "kate = Employee('Kate', 33, 'government', 12345, 90000)\n",
        "kate.greet()"
      ],
      "metadata": {
        "colab": {
          "base_uri": "https://localhost:8080/"
        },
        "id": "JOM6ZP8-jTQU",
        "outputId": "44be5d00-12f0-496b-971d-aa38b4bab3ff"
      },
      "execution_count": 37,
      "outputs": [
        {
          "output_type": "stream",
          "name": "stdout",
          "text": [
            "Hi there! My name is  Kate\n"
          ]
        }
      ]
    },
    {
      "cell_type": "markdown",
      "source": [
        "En el ejemplo anterior, aunque la clase `Employee` no define explícitamente el método `greeting()`, ¡tiene acceso a él por el poder de la herencia!"
      ],
      "metadata": {
        "id": "Zl1fv2NpiQPq"
      }
    },
    {
      "cell_type": "markdown",
      "source": [
        "## **12. Polimorfismo en clases de Python**"
      ],
      "metadata": {
        "id": "wU_-vCQ4iQMY"
      }
    },
    {
      "cell_type": "markdown",
      "source": [
        "Ahora, supongamos que desea asegurarse de que sus empleados usen un saludo más formal. La clase principal, `Person`, que definiste anteriormente ya tiene un método `greeting()`. Veamos cómo puede modificar el comportamiento de la clase secundaria, Empleado, para tener su propio saludo único."
      ],
      "metadata": {
        "id": "VtrSQDHDiQJ4"
      }
    },
    {
      "cell_type": "markdown",
      "source": [
        "En Python, el polimorfismo es tan simple como definir ese método en la clase secundaria. Esto le permite sobrescribir cualquier método principal sin tener que preocuparse por los gastos generales. Veamos cómo podemos implementar esto:"
      ],
      "metadata": {
        "id": "fhdmDqVeiQHr"
      }
    },
    {
      "cell_type": "code",
      "source": [
        "# Polymorphism in Python classes\n",
        "class Employee(Person):\n",
        "    def __init__(self, name, age, company, employee_number, income):\n",
        "        super().__init__(name, age, company)\n",
        "        self.employee_number = employee_number\n",
        "        self.income = income\n",
        "\n",
        "    def greet(self):\n",
        "        print('Welcome! How may I help you?')\n",
        "\n",
        "    def do_work(self):\n",
        "        print(\"Working hard!\")\n",
        "\n",
        "kate = Employee('Kate', 33, 'government', 12345, 90000)\n",
        "kate.greet()"
      ],
      "metadata": {
        "colab": {
          "base_uri": "https://localhost:8080/"
        },
        "id": "PUlPwvQDhTcn",
        "outputId": "8ac18dc1-4f4a-4f56-d0c3-f2367c25693e"
      },
      "execution_count": 38,
      "outputs": [
        {
          "output_type": "stream",
          "name": "stdout",
          "text": [
            "Welcome! How may I help you?\n"
          ]
        }
      ]
    },
    {
      "cell_type": "markdown",
      "source": [
        "Aquí, definió un nuevo método `greeting()` que se comporta de manera diferente al método del mismo nombre en la clase principal. Este proceso se conoce como anulación de métodos. El polimorfismo le permite acceder a los métodos y atributos anulados en una clase secundaria."
      ],
      "metadata": {
        "id": "lbQKJVtrlm3L"
      }
    },
    {
      "cell_type": "markdown",
      "source": [
        "## **13. ¿Cuándo debería usar la programación orientada a objetos?**"
      ],
      "metadata": {
        "id": "pB49T-htmJiZ"
      }
    },
    {
      "cell_type": "markdown",
      "source": [
        "Entonces, has aprendido mucho sobre la programación orientada a objetos en Python. Es posible que aún se pregunte: \"¿Cómo se aplica esto al aprendizaje de la ciencia de datos en Python?\" En muchos casos, la programación procedimental puede ser suficiente para usted al principio. Hay dos razones clave por las que querrá aprender programación orientada a objetos, incluso si confía principalmente en la programación procedimental.\n",
        "\n",
        "**Los objetos de Python están en todas partes, literalmente.** Todo en Python es un objeto (ya sea un número entero o incluso una función). Comprender cómo funcionan los métodos y atributos de los objetos le permite comprender mejor cómo funciona Python. Los objetos son una parte fundamental de las bibliotecas de ciencia de datos. Comprender, por ejemplo, que un DataFrame es un objeto abre la comprensión de cómo los métodos de DataFrame pueden funcionar para manipular sus datos.\n",
        "\n",
        "**La programación orientada a objetos en Python le permite organizar su código.** No todos los proyectos requieren que use programación orientada a objetos. Pero una vez que su programa gane complejidad y/o usuarios, puede ser útil comenzar a pensar en la programación orientada a objetos. Al igual que las funciones te permiten organizar y abstraer el código, los objetos también lo hacen."
      ],
      "metadata": {
        "id": "tyjfjhX2mJc-"
      }
    },
    {
      "cell_type": "markdown",
      "source": [
        "## **14. Conclusión y resumen**"
      ],
      "metadata": {
        "id": "TtWQY9ijmI7G"
      }
    },
    {
      "cell_type": "markdown",
      "source": [
        "En este tutorial, aprendió a usar la programación orientada a objetos en Python y cómo se relaciona con el ámbito de la ciencia de datos. La siguiente sección proporciona un resumen rápido de la programación orientada a objetos de Python:\n",
        "\n",
        "- La programación orientada a objetos está relacionada con cuatro conceptos principales: encapsulación, abstracción, herencia y polimorfismo.\n",
        "- Todo en Python es un objeto: comprender OOP le permite comprender mejor los conceptos detrás de las bibliotecas de ciencia de datos.\n",
        "- OOP te permite seguir trabajando con programación procedural, pero de una forma más estructurada.\n",
        "- El método `__init__()` le permite pasar atributos de instancia. Los atributos de clase se definen fuera del método constructor.\n",
        "- Se puede acceder a los atributos de los objetos usando la notación de puntos, similar a acceder a los elementos del diccionario.\n",
        "- Los métodos son funciones definidas en una clase, a las que solo puede acceder esa clase (o cualquier clase secundaria).\n",
        "- La herencia de clases le permite reutilizar el código de las clases principales mientras agrega atributos y métodos únicos a una clase secundaria.\n",
        "- El polimorfismo le permite sobrescribir cualquier método o atributo definido en una clase principal."
      ],
      "metadata": {
        "id": "OsNMrE0QmI3m"
      }
    }
  ]
}