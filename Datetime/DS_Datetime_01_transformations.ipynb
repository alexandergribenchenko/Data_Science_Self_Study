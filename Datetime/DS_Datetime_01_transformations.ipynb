{
  "nbformat": 4,
  "nbformat_minor": 0,
  "metadata": {
    "colab": {
      "provenance": [],
      "authorship_tag": "ABX9TyPjnr+ZF7pNTpGj86a+whhf",
      "include_colab_link": true
    },
    "kernelspec": {
      "name": "python3",
      "display_name": "Python 3"
    },
    "language_info": {
      "name": "python"
    }
  },
  "cells": [
    {
      "cell_type": "markdown",
      "metadata": {
        "id": "view-in-github",
        "colab_type": "text"
      },
      "source": [
        "<a href=\"https://colab.research.google.com/github/alexandergribenchenko/Data_Science_Self_Study/blob/main/Datetime/DS_Datetime_01_transformations.ipynb\" target=\"_parent\"><img src=\"https://colab.research.google.com/assets/colab-badge.svg\" alt=\"Open In Colab\"/></a>"
      ]
    },
    {
      "cell_type": "markdown",
      "source": [
        "# Datetime transformations"
      ],
      "metadata": {
        "id": "P4oDh4mJqJSh"
      }
    },
    {
      "cell_type": "code",
      "source": [
        "from datetime import datetime\n",
        "import pandas as pd"
      ],
      "metadata": {
        "id": "JiSpDUkgqUSw"
      },
      "execution_count": 1,
      "outputs": []
    },
    {
      "cell_type": "markdown",
      "source": [
        "## 01. Str to Datetime"
      ],
      "metadata": {
        "id": "H3L4uA23IwCp"
      }
    },
    {
      "cell_type": "code",
      "execution_count": 2,
      "metadata": {
        "colab": {
          "base_uri": "https://localhost:8080/"
        },
        "id": "OnvX8XZHpXBb",
        "outputId": "dcf650c2-29c4-41ff-f0ed-73c235d6fab6"
      },
      "outputs": [
        {
          "output_type": "stream",
          "name": "stdout",
          "text": [
            "2023-02-10\n",
            "2023-02-10 00:00:00\n"
          ]
        }
      ],
      "source": [
        "date_str = 'Feb 10, 2023'\n",
        "format_str = '%b %d, %Y'\n",
        "datetime_obj = datetime.strptime(date_str, format_str)\n",
        "print(datetime_obj.date())\n",
        "print(datetime_obj)"
      ]
    },
    {
      "cell_type": "code",
      "source": [
        "date_str = '05SEP2014:00:00:00.000'\n",
        "format_str = '%d%b%Y:%H:%M:%S.%f'\n",
        "datetime_obj = datetime.strptime(date_str, format_str)\n",
        "print(datetime_obj.date())\n",
        "print(datetime_obj)"
      ],
      "metadata": {
        "colab": {
          "base_uri": "https://localhost:8080/"
        },
        "id": "iB9D4kpmIiud",
        "outputId": "1285017d-7a3b-4983-ef1a-9892f43ef790"
      },
      "execution_count": 3,
      "outputs": [
        {
          "output_type": "stream",
          "name": "stdout",
          "text": [
            "2014-09-05\n",
            "2014-09-05 00:00:00\n"
          ]
        }
      ]
    },
    {
      "cell_type": "code",
      "source": [
        "date_str = '29/12/2017'\n",
        "format_str = '%d/%m/%Y'\n",
        "datetime_obj = datetime.strptime(date_str, format_str)\n",
        "print(datetime_obj.date())\n",
        "print(datetime_obj)"
      ],
      "metadata": {
        "colab": {
          "base_uri": "https://localhost:8080/"
        },
        "id": "NRFWchNWIiqk",
        "outputId": "710b207f-8d32-4759-efe2-bb40e04a34ae"
      },
      "execution_count": 4,
      "outputs": [
        {
          "output_type": "stream",
          "name": "stdout",
          "text": [
            "2017-12-29\n",
            "2017-12-29 00:00:00\n"
          ]
        }
      ]
    },
    {
      "cell_type": "markdown",
      "source": [
        "## 02. Datetime to str"
      ],
      "metadata": {
        "id": "Eu6MbLDTRGrM"
      }
    },
    {
      "cell_type": "code",
      "source": [
        "datetime_example = datetime(year = 2018, month = 7, day = 12, hour = 7, minute = 9, second = 33)\n",
        "print(datetime_example)\n",
        "str_example = datetime_example.strftime('%y%m')\n",
        "print(str_example)"
      ],
      "metadata": {
        "colab": {
          "base_uri": "https://localhost:8080/"
        },
        "id": "esHhh-xeRHmY",
        "outputId": "329a6772-6a03-4f9d-d187-9966c0657c2a"
      },
      "execution_count": 5,
      "outputs": [
        {
          "output_type": "stream",
          "name": "stdout",
          "text": [
            "2018-07-12 07:09:33\n",
            "1807\n"
          ]
        }
      ]
    },
    {
      "cell_type": "markdown",
      "source": [
        "## 03. Str to str (change format)"
      ],
      "metadata": {
        "id": "EOVfNxh_WIBT"
      }
    },
    {
      "cell_type": "code",
      "source": [
        "date_str_input = 'Feb 10, 2023' # The date - 29 Dec 2017\n",
        "date_format_input = '%b %d, %Y'\n",
        "date_format_output = '%y%m'\n",
        "date_str_output = datetime.strptime(date_str_input, date_format_input).strftime(date_format_output)\n",
        "date_str_output"
      ],
      "metadata": {
        "colab": {
          "base_uri": "https://localhost:8080/",
          "height": 36
        },
        "id": "I_tbJZXoWHaX",
        "outputId": "010318fd-c444-4308-dba0-891e2a6ab8d0"
      },
      "execution_count": 6,
      "outputs": [
        {
          "output_type": "execute_result",
          "data": {
            "text/plain": [
              "'2302'"
            ],
            "application/vnd.google.colaboratory.intrinsic+json": {
              "type": "string"
            }
          },
          "metadata": {},
          "execution_count": 6
        }
      ]
    },
    {
      "cell_type": "markdown",
      "source": [
        "## 04. Datetime atributes"
      ],
      "metadata": {
        "id": "_UWfPhvzTp5N"
      }
    },
    {
      "cell_type": "code",
      "source": [
        "datetime_example = datetime(year = 2018, month = 7, day = 12, hour = 7, minute = 9, second = 33)\n",
        "print(datetime_example)"
      ],
      "metadata": {
        "colab": {
          "base_uri": "https://localhost:8080/"
        },
        "id": "UB3KKRZPTtgH",
        "outputId": "f87fdb0d-72d1-42bb-9d16-8e319e7df8d4"
      },
      "execution_count": 7,
      "outputs": [
        {
          "output_type": "stream",
          "name": "stdout",
          "text": [
            "2018-07-12 07:09:33\n"
          ]
        }
      ]
    },
    {
      "cell_type": "code",
      "source": [
        "datetime_example.date()"
      ],
      "metadata": {
        "colab": {
          "base_uri": "https://localhost:8080/"
        },
        "id": "qsFnhHYxSGjt",
        "outputId": "1a455fc9-8bd5-442f-d227-521bba80478f"
      },
      "execution_count": 8,
      "outputs": [
        {
          "output_type": "execute_result",
          "data": {
            "text/plain": [
              "datetime.date(2018, 7, 12)"
            ]
          },
          "metadata": {},
          "execution_count": 8
        }
      ]
    },
    {
      "cell_type": "code",
      "source": [
        "print(datetime_example.date())"
      ],
      "metadata": {
        "colab": {
          "base_uri": "https://localhost:8080/"
        },
        "id": "sfdTngWISGat",
        "outputId": "9cd06a49-5f0b-4497-9189-6dfa344c4836"
      },
      "execution_count": 9,
      "outputs": [
        {
          "output_type": "stream",
          "name": "stdout",
          "text": [
            "2018-07-12\n"
          ]
        }
      ]
    },
    {
      "cell_type": "code",
      "source": [
        "datetime_example.year"
      ],
      "metadata": {
        "colab": {
          "base_uri": "https://localhost:8080/"
        },
        "id": "JK3CZyJ9SRP-",
        "outputId": "b2713414-d6ff-48ed-a1ea-6c2ce4c9ecd5"
      },
      "execution_count": 10,
      "outputs": [
        {
          "output_type": "execute_result",
          "data": {
            "text/plain": [
              "2018"
            ]
          },
          "metadata": {},
          "execution_count": 10
        }
      ]
    },
    {
      "cell_type": "code",
      "source": [
        "type(datetime_example.year)"
      ],
      "metadata": {
        "colab": {
          "base_uri": "https://localhost:8080/"
        },
        "id": "AvwTiFVtSRNy",
        "outputId": "90caae43-5bb1-4625-fb83-b41e6b8b0ca3"
      },
      "execution_count": 11,
      "outputs": [
        {
          "output_type": "execute_result",
          "data": {
            "text/plain": [
              "int"
            ]
          },
          "metadata": {},
          "execution_count": 11
        }
      ]
    },
    {
      "cell_type": "markdown",
      "source": [
        "## 05. Column Pandas: Str to Datetime"
      ],
      "metadata": {
        "id": "uhENbRAbJH8E"
      }
    },
    {
      "cell_type": "code",
      "source": [
        "df = pd.DataFrame({'perro': ['Feb 10, 2023',\n",
        "                                'Feb 10, 2023',\n",
        "                                'Feb 10, 2023']})\n",
        "df"
      ],
      "metadata": {
        "colab": {
          "base_uri": "https://localhost:8080/",
          "height": 143
        },
        "id": "jceGE6HlJIaV",
        "outputId": "e124b01b-2537-4001-c459-b7454f3f88c5"
      },
      "execution_count": 12,
      "outputs": [
        {
          "output_type": "execute_result",
          "data": {
            "text/plain": [
              "          perro\n",
              "0  Feb 10, 2023\n",
              "1  Feb 10, 2023\n",
              "2  Feb 10, 2023"
            ],
            "text/html": [
              "\n",
              "  <div id=\"df-b2ade9dc-2c0d-4935-8613-3ac9b33b07d4\">\n",
              "    <div class=\"colab-df-container\">\n",
              "      <div>\n",
              "<style scoped>\n",
              "    .dataframe tbody tr th:only-of-type {\n",
              "        vertical-align: middle;\n",
              "    }\n",
              "\n",
              "    .dataframe tbody tr th {\n",
              "        vertical-align: top;\n",
              "    }\n",
              "\n",
              "    .dataframe thead th {\n",
              "        text-align: right;\n",
              "    }\n",
              "</style>\n",
              "<table border=\"1\" class=\"dataframe\">\n",
              "  <thead>\n",
              "    <tr style=\"text-align: right;\">\n",
              "      <th></th>\n",
              "      <th>perro</th>\n",
              "    </tr>\n",
              "  </thead>\n",
              "  <tbody>\n",
              "    <tr>\n",
              "      <th>0</th>\n",
              "      <td>Feb 10, 2023</td>\n",
              "    </tr>\n",
              "    <tr>\n",
              "      <th>1</th>\n",
              "      <td>Feb 10, 2023</td>\n",
              "    </tr>\n",
              "    <tr>\n",
              "      <th>2</th>\n",
              "      <td>Feb 10, 2023</td>\n",
              "    </tr>\n",
              "  </tbody>\n",
              "</table>\n",
              "</div>\n",
              "      <button class=\"colab-df-convert\" onclick=\"convertToInteractive('df-b2ade9dc-2c0d-4935-8613-3ac9b33b07d4')\"\n",
              "              title=\"Convert this dataframe to an interactive table.\"\n",
              "              style=\"display:none;\">\n",
              "        \n",
              "  <svg xmlns=\"http://www.w3.org/2000/svg\" height=\"24px\"viewBox=\"0 0 24 24\"\n",
              "       width=\"24px\">\n",
              "    <path d=\"M0 0h24v24H0V0z\" fill=\"none\"/>\n",
              "    <path d=\"M18.56 5.44l.94 2.06.94-2.06 2.06-.94-2.06-.94-.94-2.06-.94 2.06-2.06.94zm-11 1L8.5 8.5l.94-2.06 2.06-.94-2.06-.94L8.5 2.5l-.94 2.06-2.06.94zm10 10l.94 2.06.94-2.06 2.06-.94-2.06-.94-.94-2.06-.94 2.06-2.06.94z\"/><path d=\"M17.41 7.96l-1.37-1.37c-.4-.4-.92-.59-1.43-.59-.52 0-1.04.2-1.43.59L10.3 9.45l-7.72 7.72c-.78.78-.78 2.05 0 2.83L4 21.41c.39.39.9.59 1.41.59.51 0 1.02-.2 1.41-.59l7.78-7.78 2.81-2.81c.8-.78.8-2.07 0-2.86zM5.41 20L4 18.59l7.72-7.72 1.47 1.35L5.41 20z\"/>\n",
              "  </svg>\n",
              "      </button>\n",
              "      \n",
              "  <style>\n",
              "    .colab-df-container {\n",
              "      display:flex;\n",
              "      flex-wrap:wrap;\n",
              "      gap: 12px;\n",
              "    }\n",
              "\n",
              "    .colab-df-convert {\n",
              "      background-color: #E8F0FE;\n",
              "      border: none;\n",
              "      border-radius: 50%;\n",
              "      cursor: pointer;\n",
              "      display: none;\n",
              "      fill: #1967D2;\n",
              "      height: 32px;\n",
              "      padding: 0 0 0 0;\n",
              "      width: 32px;\n",
              "    }\n",
              "\n",
              "    .colab-df-convert:hover {\n",
              "      background-color: #E2EBFA;\n",
              "      box-shadow: 0px 1px 2px rgba(60, 64, 67, 0.3), 0px 1px 3px 1px rgba(60, 64, 67, 0.15);\n",
              "      fill: #174EA6;\n",
              "    }\n",
              "\n",
              "    [theme=dark] .colab-df-convert {\n",
              "      background-color: #3B4455;\n",
              "      fill: #D2E3FC;\n",
              "    }\n",
              "\n",
              "    [theme=dark] .colab-df-convert:hover {\n",
              "      background-color: #434B5C;\n",
              "      box-shadow: 0px 1px 3px 1px rgba(0, 0, 0, 0.15);\n",
              "      filter: drop-shadow(0px 1px 2px rgba(0, 0, 0, 0.3));\n",
              "      fill: #FFFFFF;\n",
              "    }\n",
              "  </style>\n",
              "\n",
              "      <script>\n",
              "        const buttonEl =\n",
              "          document.querySelector('#df-b2ade9dc-2c0d-4935-8613-3ac9b33b07d4 button.colab-df-convert');\n",
              "        buttonEl.style.display =\n",
              "          google.colab.kernel.accessAllowed ? 'block' : 'none';\n",
              "\n",
              "        async function convertToInteractive(key) {\n",
              "          const element = document.querySelector('#df-b2ade9dc-2c0d-4935-8613-3ac9b33b07d4');\n",
              "          const dataTable =\n",
              "            await google.colab.kernel.invokeFunction('convertToInteractive',\n",
              "                                                     [key], {});\n",
              "          if (!dataTable) return;\n",
              "\n",
              "          const docLinkHtml = 'Like what you see? Visit the ' +\n",
              "            '<a target=\"_blank\" href=https://colab.research.google.com/notebooks/data_table.ipynb>data table notebook</a>'\n",
              "            + ' to learn more about interactive tables.';\n",
              "          element.innerHTML = '';\n",
              "          dataTable['output_type'] = 'display_data';\n",
              "          await google.colab.output.renderOutput(dataTable, element);\n",
              "          const docLink = document.createElement('div');\n",
              "          docLink.innerHTML = docLinkHtml;\n",
              "          element.appendChild(docLink);\n",
              "        }\n",
              "      </script>\n",
              "    </div>\n",
              "  </div>\n",
              "  "
            ]
          },
          "metadata": {},
          "execution_count": 12
        }
      ]
    },
    {
      "cell_type": "code",
      "source": [
        "df.info()"
      ],
      "metadata": {
        "colab": {
          "base_uri": "https://localhost:8080/"
        },
        "id": "oTMlItMdJONg",
        "outputId": "137b5e03-e76d-42c0-8561-8d80cc35d23e"
      },
      "execution_count": 13,
      "outputs": [
        {
          "output_type": "stream",
          "name": "stdout",
          "text": [
            "<class 'pandas.core.frame.DataFrame'>\n",
            "RangeIndex: 3 entries, 0 to 2\n",
            "Data columns (total 1 columns):\n",
            " #   Column  Non-Null Count  Dtype \n",
            "---  ------  --------------  ----- \n",
            " 0   perro   3 non-null      object\n",
            "dtypes: object(1)\n",
            "memory usage: 152.0+ bytes\n"
          ]
        }
      ]
    },
    {
      "cell_type": "markdown",
      "source": [
        "Note que la función datetime es \"smart\", es decir, infiere sin que sea necesario el uso del parametro `format` pero se recomienda dar el formato para que sea más ágil."
      ],
      "metadata": {
        "id": "nhbp3BdZN3tH"
      }
    },
    {
      "cell_type": "code",
      "source": [
        "# df['perro'] =  pd.to_datetime(df['perro'])"
      ],
      "metadata": {
        "id": "IER_lJ2YKGaG"
      },
      "execution_count": 14,
      "outputs": []
    },
    {
      "cell_type": "code",
      "source": [
        "df['perro'] =  pd.to_datetime(df['perro'], format='%b %d, %Y')"
      ],
      "metadata": {
        "id": "KULqV5srJODV"
      },
      "execution_count": 15,
      "outputs": []
    },
    {
      "cell_type": "code",
      "source": [
        "df"
      ],
      "metadata": {
        "colab": {
          "base_uri": "https://localhost:8080/",
          "height": 143
        },
        "id": "koJfnAH6J7z1",
        "outputId": "e20ad48a-3495-42db-bf9a-64151e8fea4d"
      },
      "execution_count": 16,
      "outputs": [
        {
          "output_type": "execute_result",
          "data": {
            "text/plain": [
              "       perro\n",
              "0 2023-02-10\n",
              "1 2023-02-10\n",
              "2 2023-02-10"
            ],
            "text/html": [
              "\n",
              "  <div id=\"df-d5ca8c5b-ae32-40da-b380-6f6ba2c3dc84\">\n",
              "    <div class=\"colab-df-container\">\n",
              "      <div>\n",
              "<style scoped>\n",
              "    .dataframe tbody tr th:only-of-type {\n",
              "        vertical-align: middle;\n",
              "    }\n",
              "\n",
              "    .dataframe tbody tr th {\n",
              "        vertical-align: top;\n",
              "    }\n",
              "\n",
              "    .dataframe thead th {\n",
              "        text-align: right;\n",
              "    }\n",
              "</style>\n",
              "<table border=\"1\" class=\"dataframe\">\n",
              "  <thead>\n",
              "    <tr style=\"text-align: right;\">\n",
              "      <th></th>\n",
              "      <th>perro</th>\n",
              "    </tr>\n",
              "  </thead>\n",
              "  <tbody>\n",
              "    <tr>\n",
              "      <th>0</th>\n",
              "      <td>2023-02-10</td>\n",
              "    </tr>\n",
              "    <tr>\n",
              "      <th>1</th>\n",
              "      <td>2023-02-10</td>\n",
              "    </tr>\n",
              "    <tr>\n",
              "      <th>2</th>\n",
              "      <td>2023-02-10</td>\n",
              "    </tr>\n",
              "  </tbody>\n",
              "</table>\n",
              "</div>\n",
              "      <button class=\"colab-df-convert\" onclick=\"convertToInteractive('df-d5ca8c5b-ae32-40da-b380-6f6ba2c3dc84')\"\n",
              "              title=\"Convert this dataframe to an interactive table.\"\n",
              "              style=\"display:none;\">\n",
              "        \n",
              "  <svg xmlns=\"http://www.w3.org/2000/svg\" height=\"24px\"viewBox=\"0 0 24 24\"\n",
              "       width=\"24px\">\n",
              "    <path d=\"M0 0h24v24H0V0z\" fill=\"none\"/>\n",
              "    <path d=\"M18.56 5.44l.94 2.06.94-2.06 2.06-.94-2.06-.94-.94-2.06-.94 2.06-2.06.94zm-11 1L8.5 8.5l.94-2.06 2.06-.94-2.06-.94L8.5 2.5l-.94 2.06-2.06.94zm10 10l.94 2.06.94-2.06 2.06-.94-2.06-.94-.94-2.06-.94 2.06-2.06.94z\"/><path d=\"M17.41 7.96l-1.37-1.37c-.4-.4-.92-.59-1.43-.59-.52 0-1.04.2-1.43.59L10.3 9.45l-7.72 7.72c-.78.78-.78 2.05 0 2.83L4 21.41c.39.39.9.59 1.41.59.51 0 1.02-.2 1.41-.59l7.78-7.78 2.81-2.81c.8-.78.8-2.07 0-2.86zM5.41 20L4 18.59l7.72-7.72 1.47 1.35L5.41 20z\"/>\n",
              "  </svg>\n",
              "      </button>\n",
              "      \n",
              "  <style>\n",
              "    .colab-df-container {\n",
              "      display:flex;\n",
              "      flex-wrap:wrap;\n",
              "      gap: 12px;\n",
              "    }\n",
              "\n",
              "    .colab-df-convert {\n",
              "      background-color: #E8F0FE;\n",
              "      border: none;\n",
              "      border-radius: 50%;\n",
              "      cursor: pointer;\n",
              "      display: none;\n",
              "      fill: #1967D2;\n",
              "      height: 32px;\n",
              "      padding: 0 0 0 0;\n",
              "      width: 32px;\n",
              "    }\n",
              "\n",
              "    .colab-df-convert:hover {\n",
              "      background-color: #E2EBFA;\n",
              "      box-shadow: 0px 1px 2px rgba(60, 64, 67, 0.3), 0px 1px 3px 1px rgba(60, 64, 67, 0.15);\n",
              "      fill: #174EA6;\n",
              "    }\n",
              "\n",
              "    [theme=dark] .colab-df-convert {\n",
              "      background-color: #3B4455;\n",
              "      fill: #D2E3FC;\n",
              "    }\n",
              "\n",
              "    [theme=dark] .colab-df-convert:hover {\n",
              "      background-color: #434B5C;\n",
              "      box-shadow: 0px 1px 3px 1px rgba(0, 0, 0, 0.15);\n",
              "      filter: drop-shadow(0px 1px 2px rgba(0, 0, 0, 0.3));\n",
              "      fill: #FFFFFF;\n",
              "    }\n",
              "  </style>\n",
              "\n",
              "      <script>\n",
              "        const buttonEl =\n",
              "          document.querySelector('#df-d5ca8c5b-ae32-40da-b380-6f6ba2c3dc84 button.colab-df-convert');\n",
              "        buttonEl.style.display =\n",
              "          google.colab.kernel.accessAllowed ? 'block' : 'none';\n",
              "\n",
              "        async function convertToInteractive(key) {\n",
              "          const element = document.querySelector('#df-d5ca8c5b-ae32-40da-b380-6f6ba2c3dc84');\n",
              "          const dataTable =\n",
              "            await google.colab.kernel.invokeFunction('convertToInteractive',\n",
              "                                                     [key], {});\n",
              "          if (!dataTable) return;\n",
              "\n",
              "          const docLinkHtml = 'Like what you see? Visit the ' +\n",
              "            '<a target=\"_blank\" href=https://colab.research.google.com/notebooks/data_table.ipynb>data table notebook</a>'\n",
              "            + ' to learn more about interactive tables.';\n",
              "          element.innerHTML = '';\n",
              "          dataTable['output_type'] = 'display_data';\n",
              "          await google.colab.output.renderOutput(dataTable, element);\n",
              "          const docLink = document.createElement('div');\n",
              "          docLink.innerHTML = docLinkHtml;\n",
              "          element.appendChild(docLink);\n",
              "        }\n",
              "      </script>\n",
              "    </div>\n",
              "  </div>\n",
              "  "
            ]
          },
          "metadata": {},
          "execution_count": 16
        }
      ]
    },
    {
      "cell_type": "code",
      "source": [
        "df.info()"
      ],
      "metadata": {
        "colab": {
          "base_uri": "https://localhost:8080/"
        },
        "id": "ebBFUrCmJ9oA",
        "outputId": "9b4e4467-35ff-404f-bf98-856f489f75ee"
      },
      "execution_count": 17,
      "outputs": [
        {
          "output_type": "stream",
          "name": "stdout",
          "text": [
            "<class 'pandas.core.frame.DataFrame'>\n",
            "RangeIndex: 3 entries, 0 to 2\n",
            "Data columns (total 1 columns):\n",
            " #   Column  Non-Null Count  Dtype         \n",
            "---  ------  --------------  -----         \n",
            " 0   perro   3 non-null      datetime64[ns]\n",
            "dtypes: datetime64[ns](1)\n",
            "memory usage: 152.0 bytes\n"
          ]
        }
      ]
    },
    {
      "cell_type": "markdown",
      "source": [
        "## 06. Column Pandas: Str to str (change format)"
      ],
      "metadata": {
        "id": "D93V63k7YEZi"
      }
    },
    {
      "cell_type": "code",
      "source": [
        "df = pd.DataFrame({'perro': ['Feb 10, 2023',\n",
        "                                'Feb 10, 2023',\n",
        "                                'Feb 10, 2023']})\n",
        "df"
      ],
      "metadata": {
        "colab": {
          "base_uri": "https://localhost:8080/",
          "height": 143
        },
        "id": "G7E36GiwYD5N",
        "outputId": "06b67fe4-d475-465b-fe5f-c90dfa035323"
      },
      "execution_count": 18,
      "outputs": [
        {
          "output_type": "execute_result",
          "data": {
            "text/plain": [
              "          perro\n",
              "0  Feb 10, 2023\n",
              "1  Feb 10, 2023\n",
              "2  Feb 10, 2023"
            ],
            "text/html": [
              "\n",
              "  <div id=\"df-d4baabcb-b85f-48ac-a3a7-fba1d14b01e3\">\n",
              "    <div class=\"colab-df-container\">\n",
              "      <div>\n",
              "<style scoped>\n",
              "    .dataframe tbody tr th:only-of-type {\n",
              "        vertical-align: middle;\n",
              "    }\n",
              "\n",
              "    .dataframe tbody tr th {\n",
              "        vertical-align: top;\n",
              "    }\n",
              "\n",
              "    .dataframe thead th {\n",
              "        text-align: right;\n",
              "    }\n",
              "</style>\n",
              "<table border=\"1\" class=\"dataframe\">\n",
              "  <thead>\n",
              "    <tr style=\"text-align: right;\">\n",
              "      <th></th>\n",
              "      <th>perro</th>\n",
              "    </tr>\n",
              "  </thead>\n",
              "  <tbody>\n",
              "    <tr>\n",
              "      <th>0</th>\n",
              "      <td>Feb 10, 2023</td>\n",
              "    </tr>\n",
              "    <tr>\n",
              "      <th>1</th>\n",
              "      <td>Feb 10, 2023</td>\n",
              "    </tr>\n",
              "    <tr>\n",
              "      <th>2</th>\n",
              "      <td>Feb 10, 2023</td>\n",
              "    </tr>\n",
              "  </tbody>\n",
              "</table>\n",
              "</div>\n",
              "      <button class=\"colab-df-convert\" onclick=\"convertToInteractive('df-d4baabcb-b85f-48ac-a3a7-fba1d14b01e3')\"\n",
              "              title=\"Convert this dataframe to an interactive table.\"\n",
              "              style=\"display:none;\">\n",
              "        \n",
              "  <svg xmlns=\"http://www.w3.org/2000/svg\" height=\"24px\"viewBox=\"0 0 24 24\"\n",
              "       width=\"24px\">\n",
              "    <path d=\"M0 0h24v24H0V0z\" fill=\"none\"/>\n",
              "    <path d=\"M18.56 5.44l.94 2.06.94-2.06 2.06-.94-2.06-.94-.94-2.06-.94 2.06-2.06.94zm-11 1L8.5 8.5l.94-2.06 2.06-.94-2.06-.94L8.5 2.5l-.94 2.06-2.06.94zm10 10l.94 2.06.94-2.06 2.06-.94-2.06-.94-.94-2.06-.94 2.06-2.06.94z\"/><path d=\"M17.41 7.96l-1.37-1.37c-.4-.4-.92-.59-1.43-.59-.52 0-1.04.2-1.43.59L10.3 9.45l-7.72 7.72c-.78.78-.78 2.05 0 2.83L4 21.41c.39.39.9.59 1.41.59.51 0 1.02-.2 1.41-.59l7.78-7.78 2.81-2.81c.8-.78.8-2.07 0-2.86zM5.41 20L4 18.59l7.72-7.72 1.47 1.35L5.41 20z\"/>\n",
              "  </svg>\n",
              "      </button>\n",
              "      \n",
              "  <style>\n",
              "    .colab-df-container {\n",
              "      display:flex;\n",
              "      flex-wrap:wrap;\n",
              "      gap: 12px;\n",
              "    }\n",
              "\n",
              "    .colab-df-convert {\n",
              "      background-color: #E8F0FE;\n",
              "      border: none;\n",
              "      border-radius: 50%;\n",
              "      cursor: pointer;\n",
              "      display: none;\n",
              "      fill: #1967D2;\n",
              "      height: 32px;\n",
              "      padding: 0 0 0 0;\n",
              "      width: 32px;\n",
              "    }\n",
              "\n",
              "    .colab-df-convert:hover {\n",
              "      background-color: #E2EBFA;\n",
              "      box-shadow: 0px 1px 2px rgba(60, 64, 67, 0.3), 0px 1px 3px 1px rgba(60, 64, 67, 0.15);\n",
              "      fill: #174EA6;\n",
              "    }\n",
              "\n",
              "    [theme=dark] .colab-df-convert {\n",
              "      background-color: #3B4455;\n",
              "      fill: #D2E3FC;\n",
              "    }\n",
              "\n",
              "    [theme=dark] .colab-df-convert:hover {\n",
              "      background-color: #434B5C;\n",
              "      box-shadow: 0px 1px 3px 1px rgba(0, 0, 0, 0.15);\n",
              "      filter: drop-shadow(0px 1px 2px rgba(0, 0, 0, 0.3));\n",
              "      fill: #FFFFFF;\n",
              "    }\n",
              "  </style>\n",
              "\n",
              "      <script>\n",
              "        const buttonEl =\n",
              "          document.querySelector('#df-d4baabcb-b85f-48ac-a3a7-fba1d14b01e3 button.colab-df-convert');\n",
              "        buttonEl.style.display =\n",
              "          google.colab.kernel.accessAllowed ? 'block' : 'none';\n",
              "\n",
              "        async function convertToInteractive(key) {\n",
              "          const element = document.querySelector('#df-d4baabcb-b85f-48ac-a3a7-fba1d14b01e3');\n",
              "          const dataTable =\n",
              "            await google.colab.kernel.invokeFunction('convertToInteractive',\n",
              "                                                     [key], {});\n",
              "          if (!dataTable) return;\n",
              "\n",
              "          const docLinkHtml = 'Like what you see? Visit the ' +\n",
              "            '<a target=\"_blank\" href=https://colab.research.google.com/notebooks/data_table.ipynb>data table notebook</a>'\n",
              "            + ' to learn more about interactive tables.';\n",
              "          element.innerHTML = '';\n",
              "          dataTable['output_type'] = 'display_data';\n",
              "          await google.colab.output.renderOutput(dataTable, element);\n",
              "          const docLink = document.createElement('div');\n",
              "          docLink.innerHTML = docLinkHtml;\n",
              "          element.appendChild(docLink);\n",
              "        }\n",
              "      </script>\n",
              "    </div>\n",
              "  </div>\n",
              "  "
            ]
          },
          "metadata": {},
          "execution_count": 18
        }
      ]
    },
    {
      "cell_type": "code",
      "source": [
        "def transform_yymm(df, column):\n",
        "  date_format_input = '%b %d, %Y'\n",
        "  date_format_output = '%y%m'\n",
        "  df[column+'_M']  = df[column].apply(lambda x: datetime.strptime(x, date_format_input).strftime(date_format_output))\n",
        "  return df"
      ],
      "metadata": {
        "id": "FVmJ9bSCYPD4"
      },
      "execution_count": 19,
      "outputs": []
    },
    {
      "cell_type": "code",
      "source": [
        "df_output = transform_yymm(df, 'perro')\n",
        "df_output"
      ],
      "metadata": {
        "colab": {
          "base_uri": "https://localhost:8080/",
          "height": 143
        },
        "id": "mwiUSuBJYO7b",
        "outputId": "803194d8-2fde-4b27-ed70-436a7074b43b"
      },
      "execution_count": 21,
      "outputs": [
        {
          "output_type": "execute_result",
          "data": {
            "text/plain": [
              "          perro perro_M\n",
              "0  Feb 10, 2023    2302\n",
              "1  Feb 10, 2023    2302\n",
              "2  Feb 10, 2023    2302"
            ],
            "text/html": [
              "\n",
              "  <div id=\"df-dd5e0b8b-0778-4c8d-8a3b-80abc4798bb3\">\n",
              "    <div class=\"colab-df-container\">\n",
              "      <div>\n",
              "<style scoped>\n",
              "    .dataframe tbody tr th:only-of-type {\n",
              "        vertical-align: middle;\n",
              "    }\n",
              "\n",
              "    .dataframe tbody tr th {\n",
              "        vertical-align: top;\n",
              "    }\n",
              "\n",
              "    .dataframe thead th {\n",
              "        text-align: right;\n",
              "    }\n",
              "</style>\n",
              "<table border=\"1\" class=\"dataframe\">\n",
              "  <thead>\n",
              "    <tr style=\"text-align: right;\">\n",
              "      <th></th>\n",
              "      <th>perro</th>\n",
              "      <th>perro_M</th>\n",
              "    </tr>\n",
              "  </thead>\n",
              "  <tbody>\n",
              "    <tr>\n",
              "      <th>0</th>\n",
              "      <td>Feb 10, 2023</td>\n",
              "      <td>2302</td>\n",
              "    </tr>\n",
              "    <tr>\n",
              "      <th>1</th>\n",
              "      <td>Feb 10, 2023</td>\n",
              "      <td>2302</td>\n",
              "    </tr>\n",
              "    <tr>\n",
              "      <th>2</th>\n",
              "      <td>Feb 10, 2023</td>\n",
              "      <td>2302</td>\n",
              "    </tr>\n",
              "  </tbody>\n",
              "</table>\n",
              "</div>\n",
              "      <button class=\"colab-df-convert\" onclick=\"convertToInteractive('df-dd5e0b8b-0778-4c8d-8a3b-80abc4798bb3')\"\n",
              "              title=\"Convert this dataframe to an interactive table.\"\n",
              "              style=\"display:none;\">\n",
              "        \n",
              "  <svg xmlns=\"http://www.w3.org/2000/svg\" height=\"24px\"viewBox=\"0 0 24 24\"\n",
              "       width=\"24px\">\n",
              "    <path d=\"M0 0h24v24H0V0z\" fill=\"none\"/>\n",
              "    <path d=\"M18.56 5.44l.94 2.06.94-2.06 2.06-.94-2.06-.94-.94-2.06-.94 2.06-2.06.94zm-11 1L8.5 8.5l.94-2.06 2.06-.94-2.06-.94L8.5 2.5l-.94 2.06-2.06.94zm10 10l.94 2.06.94-2.06 2.06-.94-2.06-.94-.94-2.06-.94 2.06-2.06.94z\"/><path d=\"M17.41 7.96l-1.37-1.37c-.4-.4-.92-.59-1.43-.59-.52 0-1.04.2-1.43.59L10.3 9.45l-7.72 7.72c-.78.78-.78 2.05 0 2.83L4 21.41c.39.39.9.59 1.41.59.51 0 1.02-.2 1.41-.59l7.78-7.78 2.81-2.81c.8-.78.8-2.07 0-2.86zM5.41 20L4 18.59l7.72-7.72 1.47 1.35L5.41 20z\"/>\n",
              "  </svg>\n",
              "      </button>\n",
              "      \n",
              "  <style>\n",
              "    .colab-df-container {\n",
              "      display:flex;\n",
              "      flex-wrap:wrap;\n",
              "      gap: 12px;\n",
              "    }\n",
              "\n",
              "    .colab-df-convert {\n",
              "      background-color: #E8F0FE;\n",
              "      border: none;\n",
              "      border-radius: 50%;\n",
              "      cursor: pointer;\n",
              "      display: none;\n",
              "      fill: #1967D2;\n",
              "      height: 32px;\n",
              "      padding: 0 0 0 0;\n",
              "      width: 32px;\n",
              "    }\n",
              "\n",
              "    .colab-df-convert:hover {\n",
              "      background-color: #E2EBFA;\n",
              "      box-shadow: 0px 1px 2px rgba(60, 64, 67, 0.3), 0px 1px 3px 1px rgba(60, 64, 67, 0.15);\n",
              "      fill: #174EA6;\n",
              "    }\n",
              "\n",
              "    [theme=dark] .colab-df-convert {\n",
              "      background-color: #3B4455;\n",
              "      fill: #D2E3FC;\n",
              "    }\n",
              "\n",
              "    [theme=dark] .colab-df-convert:hover {\n",
              "      background-color: #434B5C;\n",
              "      box-shadow: 0px 1px 3px 1px rgba(0, 0, 0, 0.15);\n",
              "      filter: drop-shadow(0px 1px 2px rgba(0, 0, 0, 0.3));\n",
              "      fill: #FFFFFF;\n",
              "    }\n",
              "  </style>\n",
              "\n",
              "      <script>\n",
              "        const buttonEl =\n",
              "          document.querySelector('#df-dd5e0b8b-0778-4c8d-8a3b-80abc4798bb3 button.colab-df-convert');\n",
              "        buttonEl.style.display =\n",
              "          google.colab.kernel.accessAllowed ? 'block' : 'none';\n",
              "\n",
              "        async function convertToInteractive(key) {\n",
              "          const element = document.querySelector('#df-dd5e0b8b-0778-4c8d-8a3b-80abc4798bb3');\n",
              "          const dataTable =\n",
              "            await google.colab.kernel.invokeFunction('convertToInteractive',\n",
              "                                                     [key], {});\n",
              "          if (!dataTable) return;\n",
              "\n",
              "          const docLinkHtml = 'Like what you see? Visit the ' +\n",
              "            '<a target=\"_blank\" href=https://colab.research.google.com/notebooks/data_table.ipynb>data table notebook</a>'\n",
              "            + ' to learn more about interactive tables.';\n",
              "          element.innerHTML = '';\n",
              "          dataTable['output_type'] = 'display_data';\n",
              "          await google.colab.output.renderOutput(dataTable, element);\n",
              "          const docLink = document.createElement('div');\n",
              "          docLink.innerHTML = docLinkHtml;\n",
              "          element.appendChild(docLink);\n",
              "        }\n",
              "      </script>\n",
              "    </div>\n",
              "  </div>\n",
              "  "
            ]
          },
          "metadata": {},
          "execution_count": 21
        }
      ]
    },
    {
      "cell_type": "code",
      "source": [
        "df_output.info()"
      ],
      "metadata": {
        "colab": {
          "base_uri": "https://localhost:8080/"
        },
        "id": "a7jdK8W5defw",
        "outputId": "ac3dc72b-7121-47c6-c8ff-66be84bb3062"
      },
      "execution_count": 22,
      "outputs": [
        {
          "output_type": "stream",
          "name": "stdout",
          "text": [
            "<class 'pandas.core.frame.DataFrame'>\n",
            "RangeIndex: 3 entries, 0 to 2\n",
            "Data columns (total 2 columns):\n",
            " #   Column   Non-Null Count  Dtype \n",
            "---  ------   --------------  ----- \n",
            " 0   perro    3 non-null      object\n",
            " 1   perro_M  3 non-null      object\n",
            "dtypes: object(2)\n",
            "memory usage: 176.0+ bytes\n"
          ]
        }
      ]
    },
    {
      "cell_type": "markdown",
      "source": [
        "# Bibliography"
      ],
      "metadata": {
        "id": "g2Ml_NH6pfzK"
      }
    },
    {
      "cell_type": "markdown",
      "source": [
        "- [Python strftime cheatsheet](https://strftime.org/)"
      ],
      "metadata": {
        "id": "JZCv1lXZpnL2"
      }
    },
    {
      "cell_type": "markdown",
      "source": [
        "\n",
        "<div class=\"reference\">\n",
        "\n",
        "<table cellpadding=\"0\" cellspacing=\"0\" border=\"0\"><colgroup><col id=\"directive\"> <col id=\"example\"> <col id=\"description\"></colgroup> \n",
        "\n",
        "<thead>\n",
        "\n",
        "<tr>\n",
        "\n",
        "<th>Code</th>\n",
        "\n",
        "<th>Example</th>\n",
        "\n",
        "<th>Description</th>\n",
        "\n",
        "</tr>\n",
        "\n",
        "</thead>\n",
        "\n",
        "<tbody>\n",
        "\n",
        "<tr>\n",
        "\n",
        "<td>`%a`</td>\n",
        "\n",
        "<td>`Sun`</td>\n",
        "\n",
        "<td>Weekday as locale’s abbreviated name.</td>\n",
        "\n",
        "</tr>\n",
        "\n",
        "<tr>\n",
        "\n",
        "<td>`%A`</td>\n",
        "\n",
        "<td>`Sunday`</td>\n",
        "\n",
        "<td>Weekday as locale’s full name.</td>\n",
        "\n",
        "</tr>\n",
        "\n",
        "<tr>\n",
        "\n",
        "<td>`%w`</td>\n",
        "\n",
        "<td>`0`</td>\n",
        "\n",
        "<td>Weekday as a decimal number, where 0 is Sunday and 6 is Saturday.</td>\n",
        "\n",
        "</tr>\n",
        "\n",
        "<tr>\n",
        "\n",
        "<td>`%d`</td>\n",
        "\n",
        "<td>`08`</td>\n",
        "\n",
        "<td>Day of the month as a zero-padded decimal number.</td>\n",
        "\n",
        "</tr>\n",
        "\n",
        "<tr>\n",
        "\n",
        "<td>`%-d`</td>\n",
        "\n",
        "<td>`8`</td>\n",
        "\n",
        "<td>Day of the month as a decimal number. (Platform specific)</td>\n",
        "\n",
        "</tr>\n",
        "\n",
        "<tr>\n",
        "\n",
        "<td>`%b`</td>\n",
        "\n",
        "<td>`Sep`</td>\n",
        "\n",
        "<td>Month as locale’s abbreviated name.</td>\n",
        "\n",
        "</tr>\n",
        "\n",
        "<tr>\n",
        "\n",
        "<td>`%B`</td>\n",
        "\n",
        "<td>`September`</td>\n",
        "\n",
        "<td>Month as locale’s full name.</td>\n",
        "\n",
        "</tr>\n",
        "\n",
        "<tr>\n",
        "\n",
        "<td>`%m`</td>\n",
        "\n",
        "<td>`09`</td>\n",
        "\n",
        "<td>Month as a zero-padded decimal number.</td>\n",
        "\n",
        "</tr>\n",
        "\n",
        "<tr>\n",
        "\n",
        "<td>`%-m`</td>\n",
        "\n",
        "<td>`9`</td>\n",
        "\n",
        "<td>Month as a decimal number. (Platform specific)</td>\n",
        "\n",
        "</tr>\n",
        "\n",
        "<tr>\n",
        "\n",
        "<td>`%y`</td>\n",
        "\n",
        "<td>`13`</td>\n",
        "\n",
        "<td>Year without century as a zero-padded decimal number.</td>\n",
        "\n",
        "</tr>\n",
        "\n",
        "<tr>\n",
        "\n",
        "<td>`%Y`</td>\n",
        "\n",
        "<td>`2013`</td>\n",
        "\n",
        "<td>Year with century as a decimal number.</td>\n",
        "\n",
        "</tr>\n",
        "\n",
        "<tr>\n",
        "\n",
        "<td>`%H`</td>\n",
        "\n",
        "<td>`07`</td>\n",
        "\n",
        "<td>Hour (24-hour clock) as a zero-padded decimal number.</td>\n",
        "\n",
        "</tr>\n",
        "\n",
        "<tr>\n",
        "\n",
        "<td>`%-H`</td>\n",
        "\n",
        "<td>`7`</td>\n",
        "\n",
        "<td>Hour (24-hour clock) as a decimal number. (Platform specific)</td>\n",
        "\n",
        "</tr>\n",
        "\n",
        "<tr>\n",
        "\n",
        "<td>`%I`</td>\n",
        "\n",
        "<td>`07`</td>\n",
        "\n",
        "<td>Hour (12-hour clock) as a zero-padded decimal number.</td>\n",
        "\n",
        "</tr>\n",
        "\n",
        "<tr>\n",
        "\n",
        "<td>`%-I`</td>\n",
        "\n",
        "<td>`7`</td>\n",
        "\n",
        "<td>Hour (12-hour clock) as a decimal number. (Platform specific)</td>\n",
        "\n",
        "</tr>\n",
        "\n",
        "<tr>\n",
        "\n",
        "<td>`%p`</td>\n",
        "\n",
        "<td>`AM`</td>\n",
        "\n",
        "<td>Locale’s equivalent of either AM or PM.</td>\n",
        "\n",
        "</tr>\n",
        "\n",
        "<tr>\n",
        "\n",
        "<td>`%M`</td>\n",
        "\n",
        "<td>`06`</td>\n",
        "\n",
        "<td>Minute as a zero-padded decimal number.</td>\n",
        "\n",
        "</tr>\n",
        "\n",
        "<tr>\n",
        "\n",
        "<td>`%-M`</td>\n",
        "\n",
        "<td>`6`</td>\n",
        "\n",
        "<td>Minute as a decimal number. (Platform specific)</td>\n",
        "\n",
        "</tr>\n",
        "\n",
        "<tr>\n",
        "\n",
        "<td>`%S`</td>\n",
        "\n",
        "<td>`05`</td>\n",
        "\n",
        "<td>Second as a zero-padded decimal number.</td>\n",
        "\n",
        "</tr>\n",
        "\n",
        "<tr>\n",
        "\n",
        "<td>`%-S`</td>\n",
        "\n",
        "<td>`5`</td>\n",
        "\n",
        "<td>Second as a decimal number. (Platform specific)</td>\n",
        "\n",
        "</tr>\n",
        "\n",
        "<tr>\n",
        "\n",
        "<td>`%f`</td>\n",
        "\n",
        "<td>`000000`</td>\n",
        "\n",
        "<td>Microsecond as a decimal number, zero-padded on the left.</td>\n",
        "\n",
        "</tr>\n",
        "\n",
        "<tr>\n",
        "\n",
        "<td>`%z`</td>\n",
        "\n",
        "<td>`+0000`</td>\n",
        "\n",
        "<td>UTC offset in the form ±HHMM[SS[.ffffff]] (empty string if the object is naive).</td>\n",
        "\n",
        "</tr>\n",
        "\n",
        "<tr>\n",
        "\n",
        "<td>`%Z`</td>\n",
        "\n",
        "<td>`UTC`</td>\n",
        "\n",
        "<td>Time zone name (empty string if the object is naive).</td>\n",
        "\n",
        "</tr>\n",
        "\n",
        "<tr>\n",
        "\n",
        "<td>`%j`</td>\n",
        "\n",
        "<td>`251`</td>\n",
        "\n",
        "<td>Day of the year as a zero-padded decimal number.</td>\n",
        "\n",
        "</tr>\n",
        "\n",
        "<tr>\n",
        "\n",
        "<td>`%-j`</td>\n",
        "\n",
        "<td>`251`</td>\n",
        "\n",
        "<td>Day of the year as a decimal number. (Platform specific)</td>\n",
        "\n",
        "</tr>\n",
        "\n",
        "<tr>\n",
        "\n",
        "<td>`%U`</td>\n",
        "\n",
        "<td>`36`</td>\n",
        "\n",
        "<td>Week number of the year (Sunday as the first day of the week) as a zero padded decimal number. All days in a new year preceding the first Sunday are considered to be in week 0.</td>\n",
        "\n",
        "</tr>\n",
        "\n",
        "<tr>\n",
        "\n",
        "<td>`%W`</td>\n",
        "\n",
        "<td>`35`</td>\n",
        "\n",
        "<td>Week number of the year (Monday as the first day of the week) as a decimal number. All days in a new year preceding the first Monday are considered to be in week 0.</td>\n",
        "\n",
        "</tr>\n",
        "\n",
        "<tr>\n",
        "\n",
        "<td>`%c`</td>\n",
        "\n",
        "<td>`Sun Sep 8 07:06:05 2013`</td>\n",
        "\n",
        "<td>Locale’s appropriate date and time representation.</td>\n",
        "\n",
        "</tr>\n",
        "\n",
        "<tr>\n",
        "\n",
        "<td>`%x`</td>\n",
        "\n",
        "<td>`09/08/13`</td>\n",
        "\n",
        "<td>Locale’s appropriate date representation.</td>\n",
        "\n",
        "</tr>\n",
        "\n",
        "<tr>\n",
        "\n",
        "<td>`%X`</td>\n",
        "\n",
        "<td>`07:06:05`</td>\n",
        "\n",
        "<td>Locale’s appropriate time representation.</td>\n",
        "\n",
        "</tr>\n",
        "\n",
        "<tr>\n",
        "\n",
        "<td>`%%`</td>\n",
        "\n",
        "<td>`%`</td>\n",
        "\n",
        "<td>A literal '%' character.</td>\n",
        "\n",
        "</tr>\n",
        "\n",
        "</tbody>\n",
        "\n",
        "</table>\n",
        "\n",
        "</div>"
      ],
      "metadata": {
        "id": "f7M-fyEYGTxe"
      }
    }
  ]
}