{
  "nbformat": 4,
  "nbformat_minor": 0,
  "metadata": {
    "colab": {
      "name": "DS_DV_OW_01_Basics_Seaborn.ipynb",
      "provenance": [],
      "authorship_tag": "ABX9TyOvW+vBcDtcoOP/UEYc728b",
      "include_colab_link": true
    },
    "kernelspec": {
      "name": "python3",
      "display_name": "Python 3"
    },
    "language_info": {
      "name": "python"
    }
  },
  "cells": [
    {
      "cell_type": "markdown",
      "metadata": {
        "id": "view-in-github",
        "colab_type": "text"
      },
      "source": [
        "<a href=\"https://colab.research.google.com/github/alexandergribenchenko/Data_Science_Toolkit/blob/main/Data_Visualization/DS_DV_OW_01_Basics_Seaborn.ipynb\" target=\"_parent\"><img src=\"https://colab.research.google.com/assets/colab-badge.svg\" alt=\"Open In Colab\"/></a>"
      ]
    },
    {
      "cell_type": "markdown",
      "source": [
        "# **01. Carga dataset base**"
      ],
      "metadata": {
        "id": "OxrjG6gTJoKT"
      }
    },
    {
      "cell_type": "code",
      "source": [
        "import pandas as pd\n",
        "import numpy as np\n",
        "\n",
        "import matplotlib.pyplot as plt\n",
        "import seaborn as sns"
      ],
      "metadata": {
        "id": "lisYd1B9NADK"
      },
      "execution_count": null,
      "outputs": []
    },
    {
      "cell_type": "code",
      "source": [
        "from google.colab import drive\n",
        "drive.mount('/content/drive')"
      ],
      "metadata": {
        "id": "2l8tO_niIE24",
        "outputId": "227fd192-a9ec-4c1b-ca51-67c30c9e1c4d",
        "colab": {
          "base_uri": "https://localhost:8080/"
        }
      },
      "execution_count": null,
      "outputs": [
        {
          "output_type": "stream",
          "name": "stdout",
          "text": [
            "Mounted at /content/drive\n"
          ]
        }
      ]
    },
    {
      "cell_type": "code",
      "source": [
        "path = '/content/drive/MyDrive/01_Code/16_Pipelines/'\n",
        "file_name = 'titanic_train.csv'"
      ],
      "metadata": {
        "id": "HhkJQ3ApJ6V3"
      },
      "execution_count": null,
      "outputs": []
    },
    {
      "cell_type": "code",
      "source": [
        "df = pd.read_csv(path + file_name, sep=',')\n",
        "df"
      ],
      "metadata": {
        "id": "CeRzB3xxLxv3",
        "outputId": "084337f5-b28c-475e-f533-68270ce39b3c",
        "colab": {
          "base_uri": "https://localhost:8080/",
          "height": 424
        }
      },
      "execution_count": null,
      "outputs": [
        {
          "output_type": "execute_result",
          "data": {
            "text/plain": [
              "     PassengerId  Survived  Pclass  \\\n",
              "0              1         0       3   \n",
              "1              2         1       1   \n",
              "2              3         1       3   \n",
              "3              4         1       1   \n",
              "4              5         0       3   \n",
              "..           ...       ...     ...   \n",
              "886          887         0       2   \n",
              "887          888         1       1   \n",
              "888          889         0       3   \n",
              "889          890         1       1   \n",
              "890          891         0       3   \n",
              "\n",
              "                                                  Name     Sex   Age  SibSp  \\\n",
              "0                              Braund, Mr. Owen Harris    male  22.0      1   \n",
              "1    Cumings, Mrs. John Bradley (Florence Briggs Th...  female  38.0      1   \n",
              "2                               Heikkinen, Miss. Laina  female  26.0      0   \n",
              "3         Futrelle, Mrs. Jacques Heath (Lily May Peel)  female  35.0      1   \n",
              "4                             Allen, Mr. William Henry    male  35.0      0   \n",
              "..                                                 ...     ...   ...    ...   \n",
              "886                              Montvila, Rev. Juozas    male  27.0      0   \n",
              "887                       Graham, Miss. Margaret Edith  female  19.0      0   \n",
              "888           Johnston, Miss. Catherine Helen \"Carrie\"  female   NaN      1   \n",
              "889                              Behr, Mr. Karl Howell    male  26.0      0   \n",
              "890                                Dooley, Mr. Patrick    male  32.0      0   \n",
              "\n",
              "     Parch            Ticket     Fare Cabin Embarked  \n",
              "0        0         A/5 21171   7.2500   NaN        S  \n",
              "1        0          PC 17599  71.2833   C85        C  \n",
              "2        0  STON/O2. 3101282   7.9250   NaN        S  \n",
              "3        0            113803  53.1000  C123        S  \n",
              "4        0            373450   8.0500   NaN        S  \n",
              "..     ...               ...      ...   ...      ...  \n",
              "886      0            211536  13.0000   NaN        S  \n",
              "887      0            112053  30.0000   B42        S  \n",
              "888      2        W./C. 6607  23.4500   NaN        S  \n",
              "889      0            111369  30.0000  C148        C  \n",
              "890      0            370376   7.7500   NaN        Q  \n",
              "\n",
              "[891 rows x 12 columns]"
            ],
            "text/html": [
              "\n",
              "  <div id=\"df-bc08f6d2-d5cf-411c-b551-504f09bef800\">\n",
              "    <div class=\"colab-df-container\">\n",
              "      <div>\n",
              "<style scoped>\n",
              "    .dataframe tbody tr th:only-of-type {\n",
              "        vertical-align: middle;\n",
              "    }\n",
              "\n",
              "    .dataframe tbody tr th {\n",
              "        vertical-align: top;\n",
              "    }\n",
              "\n",
              "    .dataframe thead th {\n",
              "        text-align: right;\n",
              "    }\n",
              "</style>\n",
              "<table border=\"1\" class=\"dataframe\">\n",
              "  <thead>\n",
              "    <tr style=\"text-align: right;\">\n",
              "      <th></th>\n",
              "      <th>PassengerId</th>\n",
              "      <th>Survived</th>\n",
              "      <th>Pclass</th>\n",
              "      <th>Name</th>\n",
              "      <th>Sex</th>\n",
              "      <th>Age</th>\n",
              "      <th>SibSp</th>\n",
              "      <th>Parch</th>\n",
              "      <th>Ticket</th>\n",
              "      <th>Fare</th>\n",
              "      <th>Cabin</th>\n",
              "      <th>Embarked</th>\n",
              "    </tr>\n",
              "  </thead>\n",
              "  <tbody>\n",
              "    <tr>\n",
              "      <th>0</th>\n",
              "      <td>1</td>\n",
              "      <td>0</td>\n",
              "      <td>3</td>\n",
              "      <td>Braund, Mr. Owen Harris</td>\n",
              "      <td>male</td>\n",
              "      <td>22.0</td>\n",
              "      <td>1</td>\n",
              "      <td>0</td>\n",
              "      <td>A/5 21171</td>\n",
              "      <td>7.2500</td>\n",
              "      <td>NaN</td>\n",
              "      <td>S</td>\n",
              "    </tr>\n",
              "    <tr>\n",
              "      <th>1</th>\n",
              "      <td>2</td>\n",
              "      <td>1</td>\n",
              "      <td>1</td>\n",
              "      <td>Cumings, Mrs. John Bradley (Florence Briggs Th...</td>\n",
              "      <td>female</td>\n",
              "      <td>38.0</td>\n",
              "      <td>1</td>\n",
              "      <td>0</td>\n",
              "      <td>PC 17599</td>\n",
              "      <td>71.2833</td>\n",
              "      <td>C85</td>\n",
              "      <td>C</td>\n",
              "    </tr>\n",
              "    <tr>\n",
              "      <th>2</th>\n",
              "      <td>3</td>\n",
              "      <td>1</td>\n",
              "      <td>3</td>\n",
              "      <td>Heikkinen, Miss. Laina</td>\n",
              "      <td>female</td>\n",
              "      <td>26.0</td>\n",
              "      <td>0</td>\n",
              "      <td>0</td>\n",
              "      <td>STON/O2. 3101282</td>\n",
              "      <td>7.9250</td>\n",
              "      <td>NaN</td>\n",
              "      <td>S</td>\n",
              "    </tr>\n",
              "    <tr>\n",
              "      <th>3</th>\n",
              "      <td>4</td>\n",
              "      <td>1</td>\n",
              "      <td>1</td>\n",
              "      <td>Futrelle, Mrs. Jacques Heath (Lily May Peel)</td>\n",
              "      <td>female</td>\n",
              "      <td>35.0</td>\n",
              "      <td>1</td>\n",
              "      <td>0</td>\n",
              "      <td>113803</td>\n",
              "      <td>53.1000</td>\n",
              "      <td>C123</td>\n",
              "      <td>S</td>\n",
              "    </tr>\n",
              "    <tr>\n",
              "      <th>4</th>\n",
              "      <td>5</td>\n",
              "      <td>0</td>\n",
              "      <td>3</td>\n",
              "      <td>Allen, Mr. William Henry</td>\n",
              "      <td>male</td>\n",
              "      <td>35.0</td>\n",
              "      <td>0</td>\n",
              "      <td>0</td>\n",
              "      <td>373450</td>\n",
              "      <td>8.0500</td>\n",
              "      <td>NaN</td>\n",
              "      <td>S</td>\n",
              "    </tr>\n",
              "    <tr>\n",
              "      <th>...</th>\n",
              "      <td>...</td>\n",
              "      <td>...</td>\n",
              "      <td>...</td>\n",
              "      <td>...</td>\n",
              "      <td>...</td>\n",
              "      <td>...</td>\n",
              "      <td>...</td>\n",
              "      <td>...</td>\n",
              "      <td>...</td>\n",
              "      <td>...</td>\n",
              "      <td>...</td>\n",
              "      <td>...</td>\n",
              "    </tr>\n",
              "    <tr>\n",
              "      <th>886</th>\n",
              "      <td>887</td>\n",
              "      <td>0</td>\n",
              "      <td>2</td>\n",
              "      <td>Montvila, Rev. Juozas</td>\n",
              "      <td>male</td>\n",
              "      <td>27.0</td>\n",
              "      <td>0</td>\n",
              "      <td>0</td>\n",
              "      <td>211536</td>\n",
              "      <td>13.0000</td>\n",
              "      <td>NaN</td>\n",
              "      <td>S</td>\n",
              "    </tr>\n",
              "    <tr>\n",
              "      <th>887</th>\n",
              "      <td>888</td>\n",
              "      <td>1</td>\n",
              "      <td>1</td>\n",
              "      <td>Graham, Miss. Margaret Edith</td>\n",
              "      <td>female</td>\n",
              "      <td>19.0</td>\n",
              "      <td>0</td>\n",
              "      <td>0</td>\n",
              "      <td>112053</td>\n",
              "      <td>30.0000</td>\n",
              "      <td>B42</td>\n",
              "      <td>S</td>\n",
              "    </tr>\n",
              "    <tr>\n",
              "      <th>888</th>\n",
              "      <td>889</td>\n",
              "      <td>0</td>\n",
              "      <td>3</td>\n",
              "      <td>Johnston, Miss. Catherine Helen \"Carrie\"</td>\n",
              "      <td>female</td>\n",
              "      <td>NaN</td>\n",
              "      <td>1</td>\n",
              "      <td>2</td>\n",
              "      <td>W./C. 6607</td>\n",
              "      <td>23.4500</td>\n",
              "      <td>NaN</td>\n",
              "      <td>S</td>\n",
              "    </tr>\n",
              "    <tr>\n",
              "      <th>889</th>\n",
              "      <td>890</td>\n",
              "      <td>1</td>\n",
              "      <td>1</td>\n",
              "      <td>Behr, Mr. Karl Howell</td>\n",
              "      <td>male</td>\n",
              "      <td>26.0</td>\n",
              "      <td>0</td>\n",
              "      <td>0</td>\n",
              "      <td>111369</td>\n",
              "      <td>30.0000</td>\n",
              "      <td>C148</td>\n",
              "      <td>C</td>\n",
              "    </tr>\n",
              "    <tr>\n",
              "      <th>890</th>\n",
              "      <td>891</td>\n",
              "      <td>0</td>\n",
              "      <td>3</td>\n",
              "      <td>Dooley, Mr. Patrick</td>\n",
              "      <td>male</td>\n",
              "      <td>32.0</td>\n",
              "      <td>0</td>\n",
              "      <td>0</td>\n",
              "      <td>370376</td>\n",
              "      <td>7.7500</td>\n",
              "      <td>NaN</td>\n",
              "      <td>Q</td>\n",
              "    </tr>\n",
              "  </tbody>\n",
              "</table>\n",
              "<p>891 rows × 12 columns</p>\n",
              "</div>\n",
              "      <button class=\"colab-df-convert\" onclick=\"convertToInteractive('df-bc08f6d2-d5cf-411c-b551-504f09bef800')\"\n",
              "              title=\"Convert this dataframe to an interactive table.\"\n",
              "              style=\"display:none;\">\n",
              "        \n",
              "  <svg xmlns=\"http://www.w3.org/2000/svg\" height=\"24px\"viewBox=\"0 0 24 24\"\n",
              "       width=\"24px\">\n",
              "    <path d=\"M0 0h24v24H0V0z\" fill=\"none\"/>\n",
              "    <path d=\"M18.56 5.44l.94 2.06.94-2.06 2.06-.94-2.06-.94-.94-2.06-.94 2.06-2.06.94zm-11 1L8.5 8.5l.94-2.06 2.06-.94-2.06-.94L8.5 2.5l-.94 2.06-2.06.94zm10 10l.94 2.06.94-2.06 2.06-.94-2.06-.94-.94-2.06-.94 2.06-2.06.94z\"/><path d=\"M17.41 7.96l-1.37-1.37c-.4-.4-.92-.59-1.43-.59-.52 0-1.04.2-1.43.59L10.3 9.45l-7.72 7.72c-.78.78-.78 2.05 0 2.83L4 21.41c.39.39.9.59 1.41.59.51 0 1.02-.2 1.41-.59l7.78-7.78 2.81-2.81c.8-.78.8-2.07 0-2.86zM5.41 20L4 18.59l7.72-7.72 1.47 1.35L5.41 20z\"/>\n",
              "  </svg>\n",
              "      </button>\n",
              "      \n",
              "  <style>\n",
              "    .colab-df-container {\n",
              "      display:flex;\n",
              "      flex-wrap:wrap;\n",
              "      gap: 12px;\n",
              "    }\n",
              "\n",
              "    .colab-df-convert {\n",
              "      background-color: #E8F0FE;\n",
              "      border: none;\n",
              "      border-radius: 50%;\n",
              "      cursor: pointer;\n",
              "      display: none;\n",
              "      fill: #1967D2;\n",
              "      height: 32px;\n",
              "      padding: 0 0 0 0;\n",
              "      width: 32px;\n",
              "    }\n",
              "\n",
              "    .colab-df-convert:hover {\n",
              "      background-color: #E2EBFA;\n",
              "      box-shadow: 0px 1px 2px rgba(60, 64, 67, 0.3), 0px 1px 3px 1px rgba(60, 64, 67, 0.15);\n",
              "      fill: #174EA6;\n",
              "    }\n",
              "\n",
              "    [theme=dark] .colab-df-convert {\n",
              "      background-color: #3B4455;\n",
              "      fill: #D2E3FC;\n",
              "    }\n",
              "\n",
              "    [theme=dark] .colab-df-convert:hover {\n",
              "      background-color: #434B5C;\n",
              "      box-shadow: 0px 1px 3px 1px rgba(0, 0, 0, 0.15);\n",
              "      filter: drop-shadow(0px 1px 2px rgba(0, 0, 0, 0.3));\n",
              "      fill: #FFFFFF;\n",
              "    }\n",
              "  </style>\n",
              "\n",
              "      <script>\n",
              "        const buttonEl =\n",
              "          document.querySelector('#df-bc08f6d2-d5cf-411c-b551-504f09bef800 button.colab-df-convert');\n",
              "        buttonEl.style.display =\n",
              "          google.colab.kernel.accessAllowed ? 'block' : 'none';\n",
              "\n",
              "        async function convertToInteractive(key) {\n",
              "          const element = document.querySelector('#df-bc08f6d2-d5cf-411c-b551-504f09bef800');\n",
              "          const dataTable =\n",
              "            await google.colab.kernel.invokeFunction('convertToInteractive',\n",
              "                                                     [key], {});\n",
              "          if (!dataTable) return;\n",
              "\n",
              "          const docLinkHtml = 'Like what you see? Visit the ' +\n",
              "            '<a target=\"_blank\" href=https://colab.research.google.com/notebooks/data_table.ipynb>data table notebook</a>'\n",
              "            + ' to learn more about interactive tables.';\n",
              "          element.innerHTML = '';\n",
              "          dataTable['output_type'] = 'display_data';\n",
              "          await google.colab.output.renderOutput(dataTable, element);\n",
              "          const docLink = document.createElement('div');\n",
              "          docLink.innerHTML = docLinkHtml;\n",
              "          element.appendChild(docLink);\n",
              "        }\n",
              "      </script>\n",
              "    </div>\n",
              "  </div>\n",
              "  "
            ]
          },
          "metadata": {},
          "execution_count": 21
        }
      ]
    },
    {
      "cell_type": "code",
      "source": [
        "df.info()"
      ],
      "metadata": {
        "id": "eeWyc2IdN4sh",
        "outputId": "c803ccfa-4bdb-4ca4-902f-08d10cdef7c8",
        "colab": {
          "base_uri": "https://localhost:8080/"
        }
      },
      "execution_count": null,
      "outputs": [
        {
          "output_type": "stream",
          "name": "stdout",
          "text": [
            "<class 'pandas.core.frame.DataFrame'>\n",
            "RangeIndex: 891 entries, 0 to 890\n",
            "Data columns (total 12 columns):\n",
            " #   Column       Non-Null Count  Dtype  \n",
            "---  ------       --------------  -----  \n",
            " 0   PassengerId  891 non-null    int64  \n",
            " 1   Survived     891 non-null    int64  \n",
            " 2   Pclass       891 non-null    int64  \n",
            " 3   Name         891 non-null    object \n",
            " 4   Sex          891 non-null    object \n",
            " 5   Age          714 non-null    float64\n",
            " 6   SibSp        891 non-null    int64  \n",
            " 7   Parch        891 non-null    int64  \n",
            " 8   Ticket       891 non-null    object \n",
            " 9   Fare         891 non-null    float64\n",
            " 10  Cabin        204 non-null    object \n",
            " 11  Embarked     889 non-null    object \n",
            "dtypes: float64(2), int64(5), object(5)\n",
            "memory usage: 83.7+ KB\n"
          ]
        }
      ]
    },
    {
      "cell_type": "markdown",
      "source": [
        "# **02. Exploración**"
      ],
      "metadata": {
        "id": "pzUaN8Moxtfy"
      }
    },
    {
      "cell_type": "code",
      "source": [
        "fig, ax =plt.subplots(1,2, constrained_layout=True)\n",
        "# sns.boxplot(ax=ax[0], x=\"Sex\", y=\"Fare\", data=df, showfliers = False, order=sorted(df.Sex.unique()))\n",
        "sns.countplot(ax=ax[1], x=\"Sex\", data=df, order=sorted(df.Sex.unique()))\n",
        "fig.set_size_inches(10, 8)\n",
        "fig.suptitle('This is a somewhat long figure title', fontsize=24)\n",
        "plt.show()"
      ],
      "metadata": {
        "colab": {
          "base_uri": "https://localhost:8080/",
          "height": 601
        },
        "id": "iosf6qq4xU7-",
        "outputId": "7903ff03-2b25-4f34-a6f4-96888a7502b4"
      },
      "execution_count": null,
      "outputs": [
        {
          "output_type": "display_data",
          "data": {
            "text/plain": [
              "<Figure size 720x576 with 2 Axes>"
            ],
            "image/png": "[encoded data removed]"
          },
          "metadata": {
            "needs_background": "light"
          }
        }
      ]
    },
    {
      "cell_type": "code",
      "source": [
        "fig, ax =plt.subplots(1,2, constrained_layout=False)\n",
        "# sns.boxplot(ax=ax[0], x=\"Sex\", y=\"Fare\", data=df, showfliers = False, order=sorted(df.Sex.unique()))\n",
        "sns.countplot(ax=ax[1], x=\"Sex\", data=df, order=sorted(df.Sex.unique()))\n",
        "fig.set_size_inches(10, 8)\n",
        "fig.suptitle('This is a somewhat long figure title', fontsize=24)\n",
        "plt.show()"
      ],
      "metadata": {
        "colab": {
          "base_uri": "https://localhost:8080/",
          "height": 554
        },
        "id": "ktZXg5d43mLS",
        "outputId": "0bc6cefc-2d29-4252-e429-ca71387517f3"
      },
      "execution_count": null,
      "outputs": [
        {
          "output_type": "display_data",
          "data": {
            "text/plain": [
              "<Figure size 720x576 with 2 Axes>"
            ],
            "image/png": "[encoded data removed]"
          },
          "metadata": {
            "needs_background": "light"
          }
        }
      ]
    },
    {
      "cell_type": "code",
      "source": [
        "dir(fig)"
      ],
      "metadata": {
        "colab": {
          "base_uri": "https://localhost:8080/"
        },
        "id": "T6y9qc_I1EYA",
        "outputId": "89b67787-b993-4833-98f1-839d12ad7a83"
      },
      "execution_count": null,
      "outputs": [
        {
          "output_type": "execute_result",
          "data": {
            "text/plain": [
              "['__class__',\n",
              " '__delattr__',\n",
              " '__dict__',\n",
              " '__dir__',\n",
              " '__doc__',\n",
              " '__eq__',\n",
              " '__format__',\n",
              " '__ge__',\n",
              " '__getattribute__',\n",
              " '__getstate__',\n",
              " '__gt__',\n",
              " '__hash__',\n",
              " '__init__',\n",
              " '__init_subclass__',\n",
              " '__le__',\n",
              " '__lt__',\n",
              " '__module__',\n",
              " '__ne__',\n",
              " '__new__',\n",
              " '__reduce__',\n",
              " '__reduce_ex__',\n",
              " '__repr__',\n",
              " '__setattr__',\n",
              " '__setstate__',\n",
              " '__sizeof__',\n",
              " '__str__',\n",
              " '__subclasshook__',\n",
              " '__weakref__',\n",
              " '_add_axes_internal',\n",
              " '_agg_filter',\n",
              " '_align_xlabel_grp',\n",
              " '_align_ylabel_grp',\n",
              " '_alpha',\n",
              " '_animated',\n",
              " '_axobservers',\n",
              " '_axstack',\n",
              " '_cachedRenderer',\n",
              " '_clipon',\n",
              " '_clippath',\n",
              " '_constrained',\n",
              " '_constrained_layout_pads',\n",
              " '_contains',\n",
              " '_default_contains',\n",
              " '_dpi',\n",
              " '_gci',\n",
              " '_get_axes',\n",
              " '_get_clipping_extent_bbox',\n",
              " '_get_dpi',\n",
              " '_gid',\n",
              " '_gridspecs',\n",
              " '_in_layout',\n",
              " '_label',\n",
              " '_layoutbox',\n",
              " '_make_key',\n",
              " '_mouseover',\n",
              " '_oid',\n",
              " '_path_effects',\n",
              " '_picker',\n",
              " '_process_projection_requirements',\n",
              " '_prop_order',\n",
              " '_propobservers',\n",
              " '_rasterized',\n",
              " '_remove_ax',\n",
              " '_remove_method',\n",
              " '_repr_html_',\n",
              " '_set_artist_props',\n",
              " '_set_dpi',\n",
              " '_set_gc_clip',\n",
              " '_sketch',\n",
              " '_snap',\n",
              " '_stale',\n",
              " '_sticky_edges',\n",
              " '_suptitle',\n",
              " '_tight',\n",
              " '_tight_parameters',\n",
              " '_transform',\n",
              " '_transformSet',\n",
              " '_url',\n",
              " '_visible',\n",
              " 'add_artist',\n",
              " 'add_axes',\n",
              " 'add_axobserver',\n",
              " 'add_callback',\n",
              " 'add_gridspec',\n",
              " 'add_subplot',\n",
              " 'align_labels',\n",
              " 'align_xlabels',\n",
              " 'align_ylabels',\n",
              " 'aname',\n",
              " 'artists',\n",
              " 'autofmt_xdate',\n",
              " 'axes',\n",
              " 'bbox',\n",
              " 'bbox_inches',\n",
              " 'callbacks',\n",
              " 'canvas',\n",
              " 'clear',\n",
              " 'clf',\n",
              " 'clipbox',\n",
              " 'colorbar',\n",
              " 'contains',\n",
              " 'convert_xunits',\n",
              " 'convert_yunits',\n",
              " 'delaxes',\n",
              " 'dpi',\n",
              " 'dpi_scale_trans',\n",
              " 'draw',\n",
              " 'draw_artist',\n",
              " 'eventson',\n",
              " 'execute_constrained_layout',\n",
              " 'figimage',\n",
              " 'figure',\n",
              " 'findobj',\n",
              " 'format_cursor_data',\n",
              " 'frameon',\n",
              " 'gca',\n",
              " 'get_agg_filter',\n",
              " 'get_alpha',\n",
              " 'get_animated',\n",
              " 'get_axes',\n",
              " 'get_children',\n",
              " 'get_clip_box',\n",
              " 'get_clip_on',\n",
              " 'get_clip_path',\n",
              " 'get_constrained_layout',\n",
              " 'get_constrained_layout_pads',\n",
              " 'get_contains',\n",
              " 'get_cursor_data',\n",
              " 'get_default_bbox_extra_artists',\n",
              " 'get_dpi',\n",
              " 'get_edgecolor',\n",
              " 'get_facecolor',\n",
              " 'get_figheight',\n",
              " 'get_figure',\n",
              " 'get_figwidth',\n",
              " 'get_frameon',\n",
              " 'get_gid',\n",
              " 'get_in_layout',\n",
              " 'get_label',\n",
              " 'get_path_effects',\n",
              " 'get_picker',\n",
              " 'get_rasterized',\n",
              " 'get_size_inches',\n",
              " 'get_sketch_params',\n",
              " 'get_snap',\n",
              " 'get_tight_layout',\n",
              " 'get_tightbbox',\n",
              " 'get_transform',\n",
              " 'get_transformed_clip_path_and_affine',\n",
              " 'get_url',\n",
              " 'get_visible',\n",
              " 'get_window_extent',\n",
              " 'get_zorder',\n",
              " 'ginput',\n",
              " 'have_units',\n",
              " 'images',\n",
              " 'init_layoutbox',\n",
              " 'is_transform_set',\n",
              " 'legend',\n",
              " 'legends',\n",
              " 'lines',\n",
              " 'mouseover',\n",
              " 'number',\n",
              " 'patch',\n",
              " 'patches',\n",
              " 'pchanged',\n",
              " 'pick',\n",
              " 'pickable',\n",
              " 'properties',\n",
              " 'remove',\n",
              " 'remove_callback',\n",
              " 'savefig',\n",
              " 'sca',\n",
              " 'set',\n",
              " 'set_agg_filter',\n",
              " 'set_alpha',\n",
              " 'set_animated',\n",
              " 'set_canvas',\n",
              " 'set_clip_box',\n",
              " 'set_clip_on',\n",
              " 'set_clip_path',\n",
              " 'set_constrained_layout',\n",
              " 'set_constrained_layout_pads',\n",
              " 'set_contains',\n",
              " 'set_dpi',\n",
              " 'set_edgecolor',\n",
              " 'set_facecolor',\n",
              " 'set_figheight',\n",
              " 'set_figure',\n",
              " 'set_figwidth',\n",
              " 'set_frameon',\n",
              " 'set_gid',\n",
              " 'set_in_layout',\n",
              " 'set_label',\n",
              " 'set_path_effects',\n",
              " 'set_picker',\n",
              " 'set_rasterized',\n",
              " 'set_size_inches',\n",
              " 'set_sketch_params',\n",
              " 'set_snap',\n",
              " 'set_tight_layout',\n",
              " 'set_transform',\n",
              " 'set_url',\n",
              " 'set_visible',\n",
              " 'set_zorder',\n",
              " 'show',\n",
              " 'stale',\n",
              " 'stale_callback',\n",
              " 'sticky_edges',\n",
              " 'subplotpars',\n",
              " 'subplots',\n",
              " 'subplots_adjust',\n",
              " 'suppressComposite',\n",
              " 'suptitle',\n",
              " 'text',\n",
              " 'texts',\n",
              " 'tight_layout',\n",
              " 'transFigure',\n",
              " 'update',\n",
              " 'update_from',\n",
              " 'waitforbuttonpress',\n",
              " 'zorder']"
            ]
          },
          "metadata": {},
          "execution_count": 24
        }
      ]
    },
    {
      "cell_type": "code",
      "source": [
        "fig, ax =plt.subplots()\n",
        "# sns.boxplot(ax=ax[0], x=\"Sex\", y=\"Fare\", data=df, showfliers = False, order=sorted(df.Sex.unique()))\n",
        "sns.countplot(x=\"Sex\", data=df, order=sorted(df.Sex.unique()))\n",
        "fig.set_size_inches(10, 8)\n",
        "plt.show()"
      ],
      "metadata": {
        "colab": {
          "base_uri": "https://localhost:8080/",
          "height": 497
        },
        "id": "Qo9OLlasxUtj",
        "outputId": "8420a811-334c-43f8-afab-eae9bc0b8d17"
      },
      "execution_count": null,
      "outputs": [
        {
          "output_type": "display_data",
          "data": {
            "text/plain": [
              "<Figure size 720x576 with 1 Axes>"
            ],
            "image/png": "[encoded data removed]"
          },
          "metadata": {
            "needs_background": "light"
          }
        }
      ]
    },
    {
      "cell_type": "code",
      "source": [],
      "metadata": {
        "id": "xWbC5_mfxUqY"
      },
      "execution_count": null,
      "outputs": []
    },
    {
      "cell_type": "code",
      "source": [],
      "metadata": {
        "id": "6FIfBzpCxUn9"
      },
      "execution_count": null,
      "outputs": []
    },
    {
      "cell_type": "code",
      "source": [
        "\n",
        "def f(t):\n",
        "    s1 = np.cos(2*np.pi*t)\n",
        "    e1 = np.exp(-t)\n",
        "    return s1 * e1\n",
        "\n",
        "t1 = np.arange(0.0, 5.0, 0.1)\n",
        "t2 = np.arange(0.0, 5.0, 0.02)\n",
        "t3 = np.arange(0.0, 2.0, 0.01)\n",
        "\n",
        "\n",
        "fig, axs = plt.subplots(2, 1, constrained_layout=True)\n",
        "axs[0].plot(t1, f(t1), 'o', t2, f(t2), '-')\n",
        "axs[0].set_title('subplot 1')\n",
        "axs[0].set_xlabel('distance (m)')\n",
        "axs[0].set_ylabel('Damped oscillation')\n",
        "fig.suptitle('This is a somewhat long figure title', fontsize=16)\n",
        "\n",
        "axs[1].plot(t3, np.cos(2*np.pi*t3), '--')\n",
        "axs[1].set_xlabel('time (s)')\n",
        "axs[1].set_title('subplot 2')\n",
        "axs[1].set_ylabel('Undamped')\n",
        "\n",
        "plt.show()"
      ],
      "metadata": {
        "colab": {
          "base_uri": "https://localhost:8080/",
          "height": 313
        },
        "id": "IY9IBG0OxUlC",
        "outputId": "6e539a50-7ef5-42e8-ac19-ac0269827f88"
      },
      "execution_count": null,
      "outputs": [
        {
          "output_type": "display_data",
          "data": {
            "text/plain": [
              "<Figure size 432x288 with 2 Axes>"
            ],
            "image/png": "[encoded data removed]"
          },
          "metadata": {
            "needs_background": "light"
          }
        }
      ]
    },
    {
      "cell_type": "code",
      "source": [
        "import numpy as np\n",
        "import pandas as pd\n",
        "import seaborn as sns\n",
        "sns.set(color_codes=True)\n",
        "\n",
        "df = sns.load_dataset('titanic')\n",
        "df.head()\n",
        "\n",
        "x,y = 'class', 'survived'\n",
        "\n",
        "(df\n",
        ".groupby(x)[y]\n",
        ".value_counts(normalize=True)\n",
        ".mul(100)\n",
        ".rename('percent')\n",
        ".reset_index()\n",
        ".pipe((sns.catplot,'data'), x=x,y='percent',hue=y,kind='bar'))"
      ],
      "metadata": {
        "id": "HNcT6Jw635LS",
        "colab": {
          "base_uri": "https://localhost:8080/",
          "height": 382
        },
        "outputId": "0a874d7f-0a06-491c-9710-369031656e68"
      },
      "execution_count": 1,
      "outputs": [
        {
          "output_type": "execute_result",
          "data": {
            "text/plain": [
              "<seaborn.axisgrid.FacetGrid at 0x7f33e32e5950>"
            ]
          },
          "metadata": {},
          "execution_count": 1
        },
        {
          "output_type": "display_data",
          "data": {
            "text/plain": [
              "<Figure size 420.425x360 with 1 Axes>"
            ],
            "image/png": "[encoded data removed]"
          },
          "metadata": {}
        }
      ]
    },
    {
      "cell_type": "code",
      "source": [],
      "metadata": {
        "id": "l_rpbVqGyMzv"
      },
      "execution_count": null,
      "outputs": []
    }
  ]
}