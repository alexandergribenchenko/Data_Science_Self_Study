{
  "cells": [
    {
      "cell_type": "markdown",
      "metadata": {
        "id": "view-in-github",
        "colab_type": "text"
      },
      "source": [
        "<a href=\"https://colab.research.google.com/github/alexandergribenchenko/Data_Science_Self_Study/blob/main/01_Prog_Ori_Obj_Pyspark.ipynb\" target=\"_parent\"><img src=\"https://colab.research.google.com/assets/colab-badge.svg\" alt=\"Open In Colab\"/></a>"
      ]
    },
    {
      "cell_type": "markdown",
      "source": [
        "# Transformador personalizado multicolumna para Pyspark"
      ],
      "metadata": {
        "application/vnd.databricks.v1+cell": {
          "title": "",
          "showTitle": false,
          "inputWidgets": {},
          "nuid": "430ceca1-ba11-4ad4-af2b-164ca384509f"
        },
        "id": "xaH18wKeS3As"
      }
    },
    {
      "cell_type": "markdown",
      "source": [
        "# A. Instalción y carga de Pyspark"
      ],
      "metadata": {
        "id": "dMm_KqdGTK_J"
      }
    },
    {
      "cell_type": "code",
      "source": [
        "!pip install pyspark py4j"
      ],
      "metadata": {
        "id": "Z9m8DLJhS-qk",
        "outputId": "18b77688-1563-455c-9adb-67373136ac87",
        "colab": {
          "base_uri": "https://localhost:8080/"
        }
      },
      "execution_count": 1,
      "outputs": [
        {
          "output_type": "stream",
          "name": "stdout",
          "text": [
            "Looking in indexes: https://pypi.org/simple, https://us-python.pkg.dev/colab-wheels/public/simple/\n",
            "Requirement already satisfied: pyspark in /usr/local/lib/python3.7/dist-packages (3.3.0)\n",
            "Requirement already satisfied: py4j in /usr/local/lib/python3.7/dist-packages (0.10.9.5)\n"
          ]
        }
      ]
    },
    {
      "cell_type": "code",
      "source": [
        "from pyspark.sql import SparkSession"
      ],
      "metadata": {
        "id": "keHU5xpgTSLJ"
      },
      "execution_count": 2,
      "outputs": []
    },
    {
      "cell_type": "code",
      "source": [
        "spark = SparkSession.builder.appName('test_pyspark').getOrCreate()"
      ],
      "metadata": {
        "id": "kHEfpZ9wTSIj"
      },
      "execution_count": 3,
      "outputs": []
    },
    {
      "cell_type": "markdown",
      "source": [
        "# B. Librerías de trabajo"
      ],
      "metadata": {
        "application/vnd.databricks.v1+cell": {
          "title": "",
          "showTitle": false,
          "inputWidgets": {},
          "nuid": "320487cf-f93b-4531-90ef-b28c2cbd1d92"
        },
        "id": "kSYszDudS3Ax"
      }
    },
    {
      "cell_type": "code",
      "source": [
        "from pyspark.ml import Transformer\n",
        "from pyspark.ml.param.shared import HasInputCol, HasOutputCol, HasInputCols, HasOutputCols, Param, Params, TypeConverters\n",
        "from pyspark import keyword_only\n",
        "from pyspark.ml import Pipeline, PipelineModel\n",
        "\n",
        "import pyspark.sql.functions as F\n",
        "from pyspark.sql.types import StringType,BooleanType,DateType, FloatType"
      ],
      "metadata": {
        "application/vnd.databricks.v1+cell": {
          "title": "",
          "showTitle": false,
          "inputWidgets": {},
          "nuid": "c091ba54-5b54-4063-9c6f-b73c2f264a47"
        },
        "id": "pe2xtzGIS3Ay"
      },
      "outputs": [],
      "execution_count": 4
    },
    {
      "cell_type": "markdown",
      "source": [
        "# C. Montaje de Google Drive"
      ],
      "metadata": {
        "id": "py1Awg9_UK0U"
      }
    },
    {
      "cell_type": "code",
      "source": [
        "from google.colab import drive\n",
        "drive.mount('/content/drive')"
      ],
      "metadata": {
        "id": "bCB5u1M1UJ24",
        "outputId": "90a06d20-fa32-40ae-ee96-0502a00292ed",
        "colab": {
          "base_uri": "https://localhost:8080/"
        }
      },
      "execution_count": 5,
      "outputs": [
        {
          "output_type": "stream",
          "name": "stdout",
          "text": [
            "Drive already mounted at /content/drive; to attempt to forcibly remount, call drive.mount(\"/content/drive\", force_remount=True).\n"
          ]
        }
      ]
    },
    {
      "cell_type": "markdown",
      "source": [
        "# 01. Carga del dataset raw"
      ],
      "metadata": {
        "application/vnd.databricks.v1+cell": {
          "title": "",
          "showTitle": false,
          "inputWidgets": {},
          "nuid": "6c899fbe-8d7c-4d8c-9957-f9cbfa78879d"
        },
        "id": "kV-vdi8oS3A2"
      }
    },
    {
      "cell_type": "code",
      "source": [
        "location_input = '/content/drive/MyDrive/01_Code/16_Pipelines/'\n",
        "input_name = 'titanic_train.csv'"
      ],
      "metadata": {
        "application/vnd.databricks.v1+cell": {
          "title": "",
          "showTitle": false,
          "inputWidgets": {},
          "nuid": "579312a5-5f09-4494-9097-f22ce850e160"
        },
        "id": "V3jlxHh7S3A2"
      },
      "outputs": [],
      "execution_count": 6
    },
    {
      "cell_type": "code",
      "source": [
        "df_raw = spark.read\\\n",
        "     .format('csv')\\\n",
        "     .option('header', 'true')\\\n",
        "     .option('sep',',')\\\n",
        "     .option('mode', 'DROPMALFORMED')\\\n",
        "     .load(location_input+ input_name).limit(10)"
      ],
      "metadata": {
        "application/vnd.databricks.v1+cell": {
          "title": "",
          "showTitle": false,
          "inputWidgets": {},
          "nuid": "8094d95b-d541-4aee-95a3-dcefce33f0ff"
        },
        "id": "3XDTu6__S3A3"
      },
      "outputs": [],
      "execution_count": 7
    },
    {
      "cell_type": "code",
      "source": [
        "df_raw.show()"
      ],
      "metadata": {
        "application/vnd.databricks.v1+cell": {
          "title": "",
          "showTitle": false,
          "inputWidgets": {},
          "nuid": "624d28fe-3e43-4f74-bf9f-adc60c86fe4e"
        },
        "id": "GoPRt7MnS3A4",
        "outputId": "dbd06925-0f71-4429-c7d2-b74a30c08f94",
        "colab": {
          "base_uri": "https://localhost:8080/"
        }
      },
      "outputs": [
        {
          "output_type": "stream",
          "name": "stdout",
          "text": [
            "+-----------+--------+------+--------------------+------+----+-----+-----+----------------+-------+-----+--------+\n",
            "|PassengerId|Survived|Pclass|                Name|   Sex| Age|SibSp|Parch|          Ticket|   Fare|Cabin|Embarked|\n",
            "+-----------+--------+------+--------------------+------+----+-----+-----+----------------+-------+-----+--------+\n",
            "|          1|       0|     3|Braund, Mr. Owen ...|  male|  22|    1|    0|       A/5 21171|   7.25| null|       S|\n",
            "|          2|       1|     1|Cumings, Mrs. Joh...|female|  38|    1|    0|        PC 17599|71.2833|  C85|       C|\n",
            "|          3|       1|     3|Heikkinen, Miss. ...|female|  26|    0|    0|STON/O2. 3101282|  7.925| null|       S|\n",
            "|          4|       1|     1|Futrelle, Mrs. Ja...|female|  35|    1|    0|          113803|   53.1| C123|       S|\n",
            "|          5|       0|     3|Allen, Mr. Willia...|  male|  35|    0|    0|          373450|   8.05| null|       S|\n",
            "|          6|       0|     3|    Moran, Mr. James|  male|null|    0|    0|          330877| 8.4583| null|       Q|\n",
            "|          7|       0|     1|McCarthy, Mr. Tim...|  male|  54|    0|    0|           17463|51.8625|  E46|       S|\n",
            "|          8|       0|     3|Palsson, Master. ...|  male|   2|    3|    1|          349909| 21.075| null|       S|\n",
            "|          9|       1|     3|Johnson, Mrs. Osc...|female|  27|    0|    2|          347742|11.1333| null|       S|\n",
            "|         10|       1|     2|Nasser, Mrs. Nich...|female|  14|    1|    0|          237736|30.0708| null|       C|\n",
            "+-----------+--------+------+--------------------+------+----+-----+-----+----------------+-------+-----+--------+\n",
            "\n"
          ]
        }
      ],
      "execution_count": 8
    },
    {
      "cell_type": "code",
      "source": [
        "df_raw.printSchema()"
      ],
      "metadata": {
        "application/vnd.databricks.v1+cell": {
          "title": "",
          "showTitle": false,
          "inputWidgets": {},
          "nuid": "26311d3d-9aed-411c-8077-25a72227f0d6"
        },
        "id": "dJb3_KE8S3A5",
        "outputId": "33c332fc-12a7-4a52-8d2f-c17a045c8b62",
        "colab": {
          "base_uri": "https://localhost:8080/"
        }
      },
      "outputs": [
        {
          "output_type": "stream",
          "name": "stdout",
          "text": [
            "root\n",
            " |-- PassengerId: string (nullable = true)\n",
            " |-- Survived: string (nullable = true)\n",
            " |-- Pclass: string (nullable = true)\n",
            " |-- Name: string (nullable = true)\n",
            " |-- Sex: string (nullable = true)\n",
            " |-- Age: string (nullable = true)\n",
            " |-- SibSp: string (nullable = true)\n",
            " |-- Parch: string (nullable = true)\n",
            " |-- Ticket: string (nullable = true)\n",
            " |-- Fare: string (nullable = true)\n",
            " |-- Cabin: string (nullable = true)\n",
            " |-- Embarked: string (nullable = true)\n",
            "\n"
          ]
        }
      ],
      "execution_count": 9
    },
    {
      "cell_type": "markdown",
      "source": [
        "# 02. Transformadores"
      ],
      "metadata": {
        "application/vnd.databricks.v1+cell": {
          "title": "",
          "showTitle": false,
          "inputWidgets": {},
          "nuid": "e4fe1211-2977-419f-b45d-98d771275762"
        },
        "id": "DG77tmWDS3A5"
      }
    },
    {
      "cell_type": "markdown",
      "source": [
        "## 02.01. FeatureSelector"
      ],
      "metadata": {
        "application/vnd.databricks.v1+cell": {
          "title": "",
          "showTitle": false,
          "inputWidgets": {},
          "nuid": "9f90dcbf-58da-43d9-942a-cf3b1dd21674"
        },
        "id": "TsMnt9ktS3A6"
      }
    },
    {
      "cell_type": "code",
      "source": [
        "class FeatureSelector(Transformer, HasInputCols):\n",
        "  \n",
        "  @keyword_only\n",
        "  def __init__(self, inputCols=None):\n",
        "    super().__init__()\n",
        "    kwargs = self._input_kwargs\n",
        "    self.setParams(**kwargs)\n",
        "    \n",
        "  @keyword_only\n",
        "  def setParams(self, inputCols=None):\n",
        "      kwargs = self._input_kwargs\n",
        "      return self._set(**kwargs)\n",
        "\n",
        "  def setInputCol(self, new_inputCols):\n",
        "    return self.setParams(inputCols=new_inputCols)\n",
        "  \n",
        "  def _transform(self, dataset):\n",
        "    input_columns = (self.getInputCols() if self.isSet(\"inputCols\") else self.getInputCols())\n",
        "    answer = dataset.select(*input_columns)\n",
        "    return answer"
      ],
      "metadata": {
        "application/vnd.databricks.v1+cell": {
          "title": "",
          "showTitle": false,
          "inputWidgets": {},
          "nuid": "d9ea123f-ea2c-42b7-ac80-f4d63fd35277"
        },
        "id": "CutfExycS3A7"
      },
      "outputs": [],
      "execution_count": 10
    },
    {
      "cell_type": "code",
      "source": [
        "columns_selected = ['PassengerId', 'Pclass', 'Sex', 'Age', 'Fare','Survived']"
      ],
      "metadata": {
        "application/vnd.databricks.v1+cell": {
          "title": "",
          "showTitle": false,
          "inputWidgets": {},
          "nuid": "cb51a6e7-3aba-4d00-b472-3c49bbeeee11"
        },
        "id": "lDNlmvThS3A7"
      },
      "outputs": [],
      "execution_count": 11
    },
    {
      "cell_type": "code",
      "source": [
        "Transformer_FeatureSelector = FeatureSelector(inputCols=columns_selected)"
      ],
      "metadata": {
        "application/vnd.databricks.v1+cell": {
          "title": "",
          "showTitle": false,
          "inputWidgets": {},
          "nuid": "40ba14dc-eaba-4fdb-8eb5-e7a749d5dd4e"
        },
        "id": "QIMkKpSLS3A8"
      },
      "outputs": [],
      "execution_count": 12
    },
    {
      "cell_type": "code",
      "source": [
        "df_transformed_01 = Transformer_FeatureSelector.transform(df_raw)\n",
        "df_transformed_01.show()"
      ],
      "metadata": {
        "application/vnd.databricks.v1+cell": {
          "title": "",
          "showTitle": false,
          "inputWidgets": {},
          "nuid": "210d9d1d-c108-429a-9b70-19de65ad094c"
        },
        "id": "w10pUd3zS3A8",
        "outputId": "4dda6c62-6fa0-4c2d-e2cb-ae752e6fc854",
        "colab": {
          "base_uri": "https://localhost:8080/"
        }
      },
      "outputs": [
        {
          "output_type": "stream",
          "name": "stdout",
          "text": [
            "+-----------+------+------+----+-------+--------+\n",
            "|PassengerId|Pclass|   Sex| Age|   Fare|Survived|\n",
            "+-----------+------+------+----+-------+--------+\n",
            "|          1|     3|  male|  22|   7.25|       0|\n",
            "|          2|     1|female|  38|71.2833|       1|\n",
            "|          3|     3|female|  26|  7.925|       1|\n",
            "|          4|     1|female|  35|   53.1|       1|\n",
            "|          5|     3|  male|  35|   8.05|       0|\n",
            "|          6|     3|  male|null| 8.4583|       0|\n",
            "|          7|     1|  male|  54|51.8625|       0|\n",
            "|          8|     3|  male|   2| 21.075|       0|\n",
            "|          9|     3|female|  27|11.1333|       1|\n",
            "|         10|     2|female|  14|30.0708|       1|\n",
            "+-----------+------+------+----+-------+--------+\n",
            "\n"
          ]
        }
      ],
      "execution_count": 13
    },
    {
      "cell_type": "code",
      "source": [
        "df_raw.show()"
      ],
      "metadata": {
        "application/vnd.databricks.v1+cell": {
          "title": "",
          "showTitle": false,
          "inputWidgets": {},
          "nuid": "606f569e-6f83-441c-b7b3-e301ec6d626d"
        },
        "id": "Fp-AEvhgS3A9",
        "outputId": "ba486634-ac85-4167-9718-eeb81c8f5bb1",
        "colab": {
          "base_uri": "https://localhost:8080/"
        }
      },
      "outputs": [
        {
          "output_type": "stream",
          "name": "stdout",
          "text": [
            "+-----------+--------+------+--------------------+------+----+-----+-----+----------------+-------+-----+--------+\n",
            "|PassengerId|Survived|Pclass|                Name|   Sex| Age|SibSp|Parch|          Ticket|   Fare|Cabin|Embarked|\n",
            "+-----------+--------+------+--------------------+------+----+-----+-----+----------------+-------+-----+--------+\n",
            "|          1|       0|     3|Braund, Mr. Owen ...|  male|  22|    1|    0|       A/5 21171|   7.25| null|       S|\n",
            "|          2|       1|     1|Cumings, Mrs. Joh...|female|  38|    1|    0|        PC 17599|71.2833|  C85|       C|\n",
            "|          3|       1|     3|Heikkinen, Miss. ...|female|  26|    0|    0|STON/O2. 3101282|  7.925| null|       S|\n",
            "|          4|       1|     1|Futrelle, Mrs. Ja...|female|  35|    1|    0|          113803|   53.1| C123|       S|\n",
            "|          5|       0|     3|Allen, Mr. Willia...|  male|  35|    0|    0|          373450|   8.05| null|       S|\n",
            "|          6|       0|     3|    Moran, Mr. James|  male|null|    0|    0|          330877| 8.4583| null|       Q|\n",
            "|          7|       0|     1|McCarthy, Mr. Tim...|  male|  54|    0|    0|           17463|51.8625|  E46|       S|\n",
            "|          8|       0|     3|Palsson, Master. ...|  male|   2|    3|    1|          349909| 21.075| null|       S|\n",
            "|          9|       1|     3|Johnson, Mrs. Osc...|female|  27|    0|    2|          347742|11.1333| null|       S|\n",
            "|         10|       1|     2|Nasser, Mrs. Nich...|female|  14|    1|    0|          237736|30.0708| null|       C|\n",
            "+-----------+--------+------+--------------------+------+----+-----+-----+----------------+-------+-----+--------+\n",
            "\n"
          ]
        }
      ],
      "execution_count": 14
    },
    {
      "cell_type": "markdown",
      "source": [
        "## 02.02. TypeAssignatorFloat"
      ],
      "metadata": {
        "application/vnd.databricks.v1+cell": {
          "title": "",
          "showTitle": false,
          "inputWidgets": {},
          "nuid": "1b0a1078-5182-4e41-b66a-15caddd60415"
        },
        "id": "DxAz8w8jS3A9"
      }
    },
    {
      "cell_type": "code",
      "source": [
        "class TypeAssignatorFloat(Transformer, HasInputCols):\n",
        "  \n",
        "  @keyword_only\n",
        "  def __init__(self, inputCols=None):\n",
        "    super().__init__()\n",
        "    kwargs = self._input_kwargs\n",
        "    self.setParams(**kwargs)\n",
        "    \n",
        "  @keyword_only\n",
        "  def setParams(self, inputCols=None):\n",
        "      kwargs = self._input_kwargs\n",
        "      return self._set(**kwargs)\n",
        "\n",
        "  def setInputCol(self, new_inputCols):\n",
        "    return self.setParams(inputCols=new_inputCols)\n",
        "  \n",
        "  def _transform(self, dataset):\n",
        "    input_columns = (self.getInputCols() if self.isSet(\"inputCols\") else self.getInputCols())\n",
        "    answer = dataset\n",
        "    for col_i in input_columns: \n",
        "      answer=answer.withColumn(col_i,F.col(col_i).cast(FloatType()))\n",
        "    return answer"
      ],
      "metadata": {
        "application/vnd.databricks.v1+cell": {
          "title": "",
          "showTitle": false,
          "inputWidgets": {},
          "nuid": "7cf902b1-46c5-414c-815d-e36042b18ae7"
        },
        "id": "lwnVYZ7kS3A9"
      },
      "outputs": [],
      "execution_count": 15
    },
    {
      "cell_type": "code",
      "source": [
        "df_transformed_01.show()"
      ],
      "metadata": {
        "application/vnd.databricks.v1+cell": {
          "title": "",
          "showTitle": false,
          "inputWidgets": {},
          "nuid": "17802acb-2916-40e5-bb93-a7434775d6d1"
        },
        "id": "SQdJUBPoS3A-",
        "outputId": "4e8802ac-2910-4403-b09f-31ece16bc2e1",
        "colab": {
          "base_uri": "https://localhost:8080/"
        }
      },
      "outputs": [
        {
          "output_type": "stream",
          "name": "stdout",
          "text": [
            "+-----------+------+------+----+-------+--------+\n",
            "|PassengerId|Pclass|   Sex| Age|   Fare|Survived|\n",
            "+-----------+------+------+----+-------+--------+\n",
            "|          1|     3|  male|  22|   7.25|       0|\n",
            "|          2|     1|female|  38|71.2833|       1|\n",
            "|          3|     3|female|  26|  7.925|       1|\n",
            "|          4|     1|female|  35|   53.1|       1|\n",
            "|          5|     3|  male|  35|   8.05|       0|\n",
            "|          6|     3|  male|null| 8.4583|       0|\n",
            "|          7|     1|  male|  54|51.8625|       0|\n",
            "|          8|     3|  male|   2| 21.075|       0|\n",
            "|          9|     3|female|  27|11.1333|       1|\n",
            "|         10|     2|female|  14|30.0708|       1|\n",
            "+-----------+------+------+----+-------+--------+\n",
            "\n"
          ]
        }
      ],
      "execution_count": 16
    },
    {
      "cell_type": "code",
      "source": [
        "df_transformed_01.printSchema()"
      ],
      "metadata": {
        "application/vnd.databricks.v1+cell": {
          "title": "",
          "showTitle": false,
          "inputWidgets": {},
          "nuid": "ade44926-d1e8-4b27-a5e8-13b44dafb3e0"
        },
        "id": "CoM-1NhsS3A-",
        "outputId": "cd8c3218-37be-4c15-ab17-e7f4325b6536",
        "colab": {
          "base_uri": "https://localhost:8080/"
        }
      },
      "outputs": [
        {
          "output_type": "stream",
          "name": "stdout",
          "text": [
            "root\n",
            " |-- PassengerId: string (nullable = true)\n",
            " |-- Pclass: string (nullable = true)\n",
            " |-- Sex: string (nullable = true)\n",
            " |-- Age: string (nullable = true)\n",
            " |-- Fare: string (nullable = true)\n",
            " |-- Survived: string (nullable = true)\n",
            "\n"
          ]
        }
      ],
      "execution_count": 17
    },
    {
      "cell_type": "code",
      "source": [
        "Transformer_TypeAssignatorFloat = TypeAssignatorFloat(inputCols=['Age','Fare'])"
      ],
      "metadata": {
        "application/vnd.databricks.v1+cell": {
          "title": "",
          "showTitle": false,
          "inputWidgets": {},
          "nuid": "4e3afddb-2694-4f0c-b8b8-9715e7f7ef1b"
        },
        "id": "0vbg1Nx5S3A-"
      },
      "outputs": [],
      "execution_count": 18
    },
    {
      "cell_type": "code",
      "source": [
        "df_transformed_02 = Transformer_TypeAssignatorFloat.transform(df_transformed_01)\n",
        "df_transformed_02.show()"
      ],
      "metadata": {
        "application/vnd.databricks.v1+cell": {
          "title": "",
          "showTitle": false,
          "inputWidgets": {},
          "nuid": "d1727e58-b31e-4376-aa95-854b949de160"
        },
        "id": "7UDTihcrS3A_",
        "outputId": "51d7c7fc-5fc1-452d-bc71-e79b6dcac1de",
        "colab": {
          "base_uri": "https://localhost:8080/"
        }
      },
      "outputs": [
        {
          "output_type": "stream",
          "name": "stdout",
          "text": [
            "+-----------+------+------+----+-------+--------+\n",
            "|PassengerId|Pclass|   Sex| Age|   Fare|Survived|\n",
            "+-----------+------+------+----+-------+--------+\n",
            "|          1|     3|  male|22.0|   7.25|       0|\n",
            "|          2|     1|female|38.0|71.2833|       1|\n",
            "|          3|     3|female|26.0|  7.925|       1|\n",
            "|          4|     1|female|35.0|   53.1|       1|\n",
            "|          5|     3|  male|35.0|   8.05|       0|\n",
            "|          6|     3|  male|null| 8.4583|       0|\n",
            "|          7|     1|  male|54.0|51.8625|       0|\n",
            "|          8|     3|  male| 2.0| 21.075|       0|\n",
            "|          9|     3|female|27.0|11.1333|       1|\n",
            "|         10|     2|female|14.0|30.0708|       1|\n",
            "+-----------+------+------+----+-------+--------+\n",
            "\n"
          ]
        }
      ],
      "execution_count": 19
    },
    {
      "cell_type": "code",
      "source": [
        "df_transformed_02.printSchema()"
      ],
      "metadata": {
        "application/vnd.databricks.v1+cell": {
          "title": "",
          "showTitle": false,
          "inputWidgets": {},
          "nuid": "092cbb1d-dee1-4251-b9da-1badeae55d1d"
        },
        "id": "xBIfdY9JS3A_",
        "outputId": "6ac078f7-2a4b-42fb-8bf1-22a7147fbde2",
        "colab": {
          "base_uri": "https://localhost:8080/"
        }
      },
      "outputs": [
        {
          "output_type": "stream",
          "name": "stdout",
          "text": [
            "root\n",
            " |-- PassengerId: string (nullable = true)\n",
            " |-- Pclass: string (nullable = true)\n",
            " |-- Sex: string (nullable = true)\n",
            " |-- Age: float (nullable = true)\n",
            " |-- Fare: float (nullable = true)\n",
            " |-- Survived: string (nullable = true)\n",
            "\n"
          ]
        }
      ],
      "execution_count": 20
    },
    {
      "cell_type": "markdown",
      "source": [
        "## 02.03. LogScaler"
      ],
      "metadata": {
        "application/vnd.databricks.v1+cell": {
          "title": "",
          "showTitle": false,
          "inputWidgets": {},
          "nuid": "0d915fca-1afa-4225-9135-caa7adf7cf6c"
        },
        "id": "TX9Owz2GS3A_"
      }
    },
    {
      "cell_type": "code",
      "source": [
        "class LogScaler(Transformer, HasInputCols):\n",
        "  \n",
        "  @keyword_only\n",
        "  def __init__(self, inputCols=None):\n",
        "    super().__init__()\n",
        "    kwargs = self._input_kwargs\n",
        "    self.setParams(**kwargs)\n",
        "    \n",
        "  @keyword_only\n",
        "  def setParams(self, inputCols=None):\n",
        "      kwargs = self._input_kwargs\n",
        "      return self._set(**kwargs)\n",
        "\n",
        "  def setInputCol(self, new_inputCols):\n",
        "    return self.setParams(inputCols=new_inputCols)\n",
        "  \n",
        "  def _transform(self, dataset):\n",
        "    input_columns = (self.getInputCols() if self.isSet(\"inputCols\") else self.getInputCols())\n",
        "    answer = dataset\n",
        "    for col_i in input_columns: \n",
        "      answer=answer.withColumn(col_i, F.log(F.col(col_i)))\n",
        "    return answer"
      ],
      "metadata": {
        "application/vnd.databricks.v1+cell": {
          "title": "",
          "showTitle": false,
          "inputWidgets": {},
          "nuid": "b0f5358a-7521-4483-9a77-9a1d349119c0"
        },
        "id": "ye5YZpG4S3BA"
      },
      "outputs": [],
      "execution_count": 21
    },
    {
      "cell_type": "code",
      "source": [
        "df_transformed_02.show()"
      ],
      "metadata": {
        "application/vnd.databricks.v1+cell": {
          "title": "",
          "showTitle": false,
          "inputWidgets": {},
          "nuid": "f2387590-f332-41a3-9d5a-7793aa529c5d"
        },
        "id": "nlwz83UfS3BA",
        "outputId": "31740aad-70ad-497a-a492-2d2818a84c28",
        "colab": {
          "base_uri": "https://localhost:8080/"
        }
      },
      "outputs": [
        {
          "output_type": "stream",
          "name": "stdout",
          "text": [
            "+-----------+------+------+----+-------+--------+\n",
            "|PassengerId|Pclass|   Sex| Age|   Fare|Survived|\n",
            "+-----------+------+------+----+-------+--------+\n",
            "|          1|     3|  male|22.0|   7.25|       0|\n",
            "|          2|     1|female|38.0|71.2833|       1|\n",
            "|          3|     3|female|26.0|  7.925|       1|\n",
            "|          4|     1|female|35.0|   53.1|       1|\n",
            "|          5|     3|  male|35.0|   8.05|       0|\n",
            "|          6|     3|  male|null| 8.4583|       0|\n",
            "|          7|     1|  male|54.0|51.8625|       0|\n",
            "|          8|     3|  male| 2.0| 21.075|       0|\n",
            "|          9|     3|female|27.0|11.1333|       1|\n",
            "|         10|     2|female|14.0|30.0708|       1|\n",
            "+-----------+------+------+----+-------+--------+\n",
            "\n"
          ]
        }
      ],
      "execution_count": 22
    },
    {
      "cell_type": "code",
      "source": [
        "df_transformed_02.printSchema()"
      ],
      "metadata": {
        "application/vnd.databricks.v1+cell": {
          "title": "",
          "showTitle": false,
          "inputWidgets": {},
          "nuid": "3ae413d1-9817-4410-b91f-89393629ebc4"
        },
        "id": "_b9FfLcUS3BA",
        "outputId": "dd9e2c6e-a5e7-40ad-b281-0e489765a36f",
        "colab": {
          "base_uri": "https://localhost:8080/"
        }
      },
      "outputs": [
        {
          "output_type": "stream",
          "name": "stdout",
          "text": [
            "root\n",
            " |-- PassengerId: string (nullable = true)\n",
            " |-- Pclass: string (nullable = true)\n",
            " |-- Sex: string (nullable = true)\n",
            " |-- Age: float (nullable = true)\n",
            " |-- Fare: float (nullable = true)\n",
            " |-- Survived: string (nullable = true)\n",
            "\n"
          ]
        }
      ],
      "execution_count": 23
    },
    {
      "cell_type": "code",
      "source": [
        "Transformer_LogScaler = LogScaler(inputCols=['Age','Fare'])"
      ],
      "metadata": {
        "application/vnd.databricks.v1+cell": {
          "title": "",
          "showTitle": false,
          "inputWidgets": {},
          "nuid": "9dfe2894-0236-4e00-b0f0-32bb2b5cde22"
        },
        "id": "BrY6u8MuS3BB"
      },
      "outputs": [],
      "execution_count": 24
    },
    {
      "cell_type": "code",
      "source": [
        "df_transformed_03 = Transformer_LogScaler.transform(df_transformed_02)\n",
        "df_transformed_03.show()"
      ],
      "metadata": {
        "application/vnd.databricks.v1+cell": {
          "title": "",
          "showTitle": false,
          "inputWidgets": {},
          "nuid": "51388c65-2312-4a68-8551-1e9a892f290d"
        },
        "id": "ea3zuLH3S3BB",
        "outputId": "79e9ce8b-8088-4677-de47-8d8626715820",
        "colab": {
          "base_uri": "https://localhost:8080/"
        }
      },
      "outputs": [
        {
          "output_type": "stream",
          "name": "stdout",
          "text": [
            "+-----------+------+------+------------------+------------------+--------+\n",
            "|PassengerId|Pclass|   Sex|               Age|              Fare|Survived|\n",
            "+-----------+------+------+------------------+------------------+--------+\n",
            "|          1|     3|  male| 3.091042453358316|1.9810014688665833|       0|\n",
            "|          2|     1|female|3.6375861597263857| 4.266662110752839|       1|\n",
            "|          3|     3|female| 3.258096538021482|2.0700223438308347|       1|\n",
            "|          4|     1|female|3.5553480614894135|3.9721768995119433|       1|\n",
            "|          5|     3|  male|3.5553480614894135|2.0856721151242437|       0|\n",
            "|          6|     3|  male|              null|2.1351481648641313|       0|\n",
            "|          7|     1|  male|3.9889840465642745| 3.948595970948175|       0|\n",
            "|          8|     3|  male|0.6931471805599453| 3.048087540089079|       0|\n",
            "|          9|     3|female| 3.295836866004329|2.4099406018108263|       1|\n",
            "|         10|     2|female|2.6390573296152584|3.4035546272161863|       1|\n",
            "+-----------+------+------+------------------+------------------+--------+\n",
            "\n"
          ]
        }
      ],
      "execution_count": 25
    },
    {
      "cell_type": "markdown",
      "source": [
        "# 03. Pipelines"
      ],
      "metadata": {
        "application/vnd.databricks.v1+cell": {
          "title": "",
          "showTitle": false,
          "inputWidgets": {},
          "nuid": "83ee7bd2-a042-47f1-9a7b-6d6bce51ebe8"
        },
        "id": "mXGAeoC-S3BB"
      }
    },
    {
      "cell_type": "markdown",
      "source": [
        "## 03.01. Pipeline"
      ],
      "metadata": {
        "application/vnd.databricks.v1+cell": {
          "title": "",
          "showTitle": false,
          "inputWidgets": {},
          "nuid": "83761952-ec0e-47e6-8624-57eab6ff19f9"
        },
        "id": "xILPZ-u5S3BB"
      }
    },
    {
      "cell_type": "code",
      "source": [
        "pipeline_my = Pipeline(stages=[\n",
        "  Transformer_FeatureSelector,\n",
        "  Transformer_TypeAssignatorFloat, \n",
        "  Transformer_LogScaler\n",
        "])"
      ],
      "metadata": {
        "application/vnd.databricks.v1+cell": {
          "title": "",
          "showTitle": false,
          "inputWidgets": {},
          "nuid": "9c4af6f4-b101-49ee-bf02-045d5d38b031"
        },
        "id": "SE4bUHoiS3BC"
      },
      "outputs": [],
      "execution_count": 26
    },
    {
      "cell_type": "code",
      "source": [
        "type(pipeline_my)"
      ],
      "metadata": {
        "application/vnd.databricks.v1+cell": {
          "title": "",
          "showTitle": false,
          "inputWidgets": {},
          "nuid": "7b9ccdf7-ad57-4806-aa66-893330b17db7"
        },
        "id": "Bup7GgboS3BC",
        "outputId": "8da4c9d4-799d-4152-b067-78a4c88e6f7d",
        "colab": {
          "base_uri": "https://localhost:8080/"
        }
      },
      "outputs": [
        {
          "output_type": "execute_result",
          "data": {
            "text/plain": [
              "pyspark.ml.pipeline.Pipeline"
            ]
          },
          "metadata": {},
          "execution_count": 27
        }
      ],
      "execution_count": 27
    },
    {
      "cell_type": "code",
      "source": [
        "pipelineModel = pipeline_my.fit(df_raw)"
      ],
      "metadata": {
        "application/vnd.databricks.v1+cell": {
          "title": "",
          "showTitle": false,
          "inputWidgets": {},
          "nuid": "7b371431-e139-4276-a8b4-44700a1bc662"
        },
        "id": "iXvBtLMxS3BC"
      },
      "outputs": [],
      "execution_count": 28
    },
    {
      "cell_type": "code",
      "source": [
        "type(pipelineModel)"
      ],
      "metadata": {
        "application/vnd.databricks.v1+cell": {
          "title": "",
          "showTitle": false,
          "inputWidgets": {},
          "nuid": "25cc675b-c9cb-451f-a7d5-12f143ea0542"
        },
        "id": "65OdG185S3BC",
        "outputId": "a04ab66b-c91d-4fb0-81f8-aa6ec921cb73",
        "colab": {
          "base_uri": "https://localhost:8080/"
        }
      },
      "outputs": [
        {
          "output_type": "execute_result",
          "data": {
            "text/plain": [
              "pyspark.ml.pipeline.PipelineModel"
            ]
          },
          "metadata": {},
          "execution_count": 29
        }
      ],
      "execution_count": 29
    },
    {
      "cell_type": "code",
      "source": [
        "dir(pipeline_my)"
      ],
      "metadata": {
        "application/vnd.databricks.v1+cell": {
          "title": "",
          "showTitle": false,
          "inputWidgets": {},
          "nuid": "39f0d42e-5faa-4994-8526-e6c3fb6af0a3"
        },
        "id": "xTnJs_4-S3BD",
        "outputId": "f5fd24f8-5efc-4d59-8812-bbaa243f884b",
        "colab": {
          "base_uri": "https://localhost:8080/"
        }
      },
      "outputs": [
        {
          "output_type": "execute_result",
          "data": {
            "text/plain": [
              "['__abstractmethods__',\n",
              " '__annotations__',\n",
              " '__class__',\n",
              " '__class_getitem__',\n",
              " '__delattr__',\n",
              " '__dict__',\n",
              " '__dir__',\n",
              " '__doc__',\n",
              " '__eq__',\n",
              " '__format__',\n",
              " '__ge__',\n",
              " '__getattribute__',\n",
              " '__gt__',\n",
              " '__hash__',\n",
              " '__init__',\n",
              " '__init_subclass__',\n",
              " '__le__',\n",
              " '__lt__',\n",
              " '__module__',\n",
              " '__ne__',\n",
              " '__new__',\n",
              " '__orig_bases__',\n",
              " '__parameters__',\n",
              " '__reduce__',\n",
              " '__reduce_ex__',\n",
              " '__repr__',\n",
              " '__setattr__',\n",
              " '__sizeof__',\n",
              " '__slots__',\n",
              " '__str__',\n",
              " '__subclasshook__',\n",
              " '__weakref__',\n",
              " '_abc_impl',\n",
              " '_copyValues',\n",
              " '_copy_params',\n",
              " '_defaultParamMap',\n",
              " '_dummy',\n",
              " '_fit',\n",
              " '_from_java',\n",
              " '_input_kwargs',\n",
              " '_paramMap',\n",
              " '_params',\n",
              " '_randomUID',\n",
              " '_resetUid',\n",
              " '_resolveParam',\n",
              " '_set',\n",
              " '_setDefault',\n",
              " '_shouldOwn',\n",
              " '_testOwnParam',\n",
              " '_to_java',\n",
              " 'clear',\n",
              " 'copy',\n",
              " 'explainParam',\n",
              " 'explainParams',\n",
              " 'extractParamMap',\n",
              " 'fit',\n",
              " 'fitMultiple',\n",
              " 'getOrDefault',\n",
              " 'getParam',\n",
              " 'getStages',\n",
              " 'hasDefault',\n",
              " 'hasParam',\n",
              " 'isDefined',\n",
              " 'isSet',\n",
              " 'load',\n",
              " 'params',\n",
              " 'read',\n",
              " 'save',\n",
              " 'set',\n",
              " 'setParams',\n",
              " 'setStages',\n",
              " 'stages',\n",
              " 'uid',\n",
              " 'write']"
            ]
          },
          "metadata": {},
          "execution_count": 30
        }
      ],
      "execution_count": 30
    },
    {
      "cell_type": "code",
      "source": [
        "dir(pipelineModel)"
      ],
      "metadata": {
        "application/vnd.databricks.v1+cell": {
          "title": "",
          "showTitle": false,
          "inputWidgets": {},
          "nuid": "9877f3e7-efa8-4994-8ed9-0d28023b5324"
        },
        "id": "7pTFLbZxS3BD",
        "outputId": "429d117b-fd6c-45c8-f260-3eb43b508988",
        "colab": {
          "base_uri": "https://localhost:8080/"
        }
      },
      "outputs": [
        {
          "output_type": "execute_result",
          "data": {
            "text/plain": [
              "['__abstractmethods__',\n",
              " '__class__',\n",
              " '__class_getitem__',\n",
              " '__delattr__',\n",
              " '__dict__',\n",
              " '__dir__',\n",
              " '__doc__',\n",
              " '__eq__',\n",
              " '__format__',\n",
              " '__ge__',\n",
              " '__getattribute__',\n",
              " '__gt__',\n",
              " '__hash__',\n",
              " '__init__',\n",
              " '__init_subclass__',\n",
              " '__le__',\n",
              " '__lt__',\n",
              " '__module__',\n",
              " '__ne__',\n",
              " '__new__',\n",
              " '__orig_bases__',\n",
              " '__parameters__',\n",
              " '__reduce__',\n",
              " '__reduce_ex__',\n",
              " '__repr__',\n",
              " '__setattr__',\n",
              " '__sizeof__',\n",
              " '__slots__',\n",
              " '__str__',\n",
              " '__subclasshook__',\n",
              " '__weakref__',\n",
              " '_abc_impl',\n",
              " '_copyValues',\n",
              " '_copy_params',\n",
              " '_defaultParamMap',\n",
              " '_dummy',\n",
              " '_from_java',\n",
              " '_paramMap',\n",
              " '_params',\n",
              " '_randomUID',\n",
              " '_resetUid',\n",
              " '_resolveParam',\n",
              " '_set',\n",
              " '_setDefault',\n",
              " '_shouldOwn',\n",
              " '_testOwnParam',\n",
              " '_to_java',\n",
              " '_transform',\n",
              " 'clear',\n",
              " 'copy',\n",
              " 'explainParam',\n",
              " 'explainParams',\n",
              " 'extractParamMap',\n",
              " 'getOrDefault',\n",
              " 'getParam',\n",
              " 'hasDefault',\n",
              " 'hasParam',\n",
              " 'isDefined',\n",
              " 'isSet',\n",
              " 'load',\n",
              " 'params',\n",
              " 'read',\n",
              " 'save',\n",
              " 'set',\n",
              " 'stages',\n",
              " 'transform',\n",
              " 'uid',\n",
              " 'write']"
            ]
          },
          "metadata": {},
          "execution_count": 31
        }
      ],
      "execution_count": 31
    },
    {
      "cell_type": "code",
      "source": [
        "transformedDF = pipelineModel.transform(df_raw)\n",
        "\n",
        "transformedDF.show()"
      ],
      "metadata": {
        "application/vnd.databricks.v1+cell": {
          "title": "",
          "showTitle": false,
          "inputWidgets": {},
          "nuid": "1c70e900-4eae-4785-8712-73ee4bfe7ee6"
        },
        "id": "Khl33CFxS3BE",
        "outputId": "68c1502b-ffe1-494d-e337-ea2bf62db04e",
        "colab": {
          "base_uri": "https://localhost:8080/"
        }
      },
      "outputs": [
        {
          "output_type": "stream",
          "name": "stdout",
          "text": [
            "+-----------+------+------+------------------+------------------+--------+\n",
            "|PassengerId|Pclass|   Sex|               Age|              Fare|Survived|\n",
            "+-----------+------+------+------------------+------------------+--------+\n",
            "|          1|     3|  male| 3.091042453358316|1.9810014688665833|       0|\n",
            "|          2|     1|female|3.6375861597263857| 4.266662110752839|       1|\n",
            "|          3|     3|female| 3.258096538021482|2.0700223438308347|       1|\n",
            "|          4|     1|female|3.5553480614894135|3.9721768995119433|       1|\n",
            "|          5|     3|  male|3.5553480614894135|2.0856721151242437|       0|\n",
            "|          6|     3|  male|              null|2.1351481648641313|       0|\n",
            "|          7|     1|  male|3.9889840465642745| 3.948595970948175|       0|\n",
            "|          8|     3|  male|0.6931471805599453| 3.048087540089079|       0|\n",
            "|          9|     3|female| 3.295836866004329|2.4099406018108263|       1|\n",
            "|         10|     2|female|2.6390573296152584|3.4035546272161863|       1|\n",
            "+-----------+------+------+------------------+------------------+--------+\n",
            "\n"
          ]
        }
      ],
      "execution_count": 32
    },
    {
      "cell_type": "code",
      "source": [
        "type(df_raw)"
      ],
      "metadata": {
        "application/vnd.databricks.v1+cell": {
          "title": "",
          "showTitle": false,
          "inputWidgets": {},
          "nuid": "c6b56014-80fe-454f-ac3f-cd9d73b9c0b7"
        },
        "id": "EAb5-UGHS3BE",
        "outputId": "e3691b10-30f6-4d25-8f12-436a2bb820f7",
        "colab": {
          "base_uri": "https://localhost:8080/"
        }
      },
      "outputs": [
        {
          "output_type": "execute_result",
          "data": {
            "text/plain": [
              "pyspark.sql.dataframe.DataFrame"
            ]
          },
          "metadata": {},
          "execution_count": 33
        }
      ],
      "execution_count": 33
    },
    {
      "cell_type": "code",
      "source": [
        "dir(df_raw)"
      ],
      "metadata": {
        "application/vnd.databricks.v1+cell": {
          "title": "",
          "showTitle": false,
          "inputWidgets": {},
          "nuid": "0585cc4b-709d-4e93-b7dd-07a2275d1455"
        },
        "id": "tD0x12t3S3BE",
        "outputId": "201d32bf-3fc4-413c-af80-cbf6bdee9c98",
        "colab": {
          "base_uri": "https://localhost:8080/"
        }
      },
      "outputs": [
        {
          "output_type": "execute_result",
          "data": {
            "text/plain": [
              "['__class__',\n",
              " '__delattr__',\n",
              " '__dict__',\n",
              " '__dir__',\n",
              " '__doc__',\n",
              " '__eq__',\n",
              " '__format__',\n",
              " '__ge__',\n",
              " '__getattr__',\n",
              " '__getattribute__',\n",
              " '__getitem__',\n",
              " '__gt__',\n",
              " '__hash__',\n",
              " '__init__',\n",
              " '__init_subclass__',\n",
              " '__le__',\n",
              " '__lt__',\n",
              " '__module__',\n",
              " '__ne__',\n",
              " '__new__',\n",
              " '__reduce__',\n",
              " '__reduce_ex__',\n",
              " '__repr__',\n",
              " '__setattr__',\n",
              " '__sizeof__',\n",
              " '__str__',\n",
              " '__subclasshook__',\n",
              " '__weakref__',\n",
              " '_collect_as_arrow',\n",
              " '_jcols',\n",
              " '_jdf',\n",
              " '_jmap',\n",
              " '_joinAsOf',\n",
              " '_jseq',\n",
              " '_lazy_rdd',\n",
              " '_repr_html_',\n",
              " '_sc',\n",
              " '_schema',\n",
              " '_session',\n",
              " '_sort_cols',\n",
              " '_sql_ctx',\n",
              " '_support_repr_html',\n",
              " '_to_corrected_pandas_type',\n",
              " 'agg',\n",
              " 'alias',\n",
              " 'approxQuantile',\n",
              " 'cache',\n",
              " 'checkpoint',\n",
              " 'coalesce',\n",
              " 'colRegex',\n",
              " 'collect',\n",
              " 'columns',\n",
              " 'corr',\n",
              " 'count',\n",
              " 'cov',\n",
              " 'createGlobalTempView',\n",
              " 'createOrReplaceGlobalTempView',\n",
              " 'createOrReplaceTempView',\n",
              " 'createTempView',\n",
              " 'crossJoin',\n",
              " 'crosstab',\n",
              " 'cube',\n",
              " 'describe',\n",
              " 'distinct',\n",
              " 'drop',\n",
              " 'dropDuplicates',\n",
              " 'drop_duplicates',\n",
              " 'dropna',\n",
              " 'dtypes',\n",
              " 'exceptAll',\n",
              " 'explain',\n",
              " 'fillna',\n",
              " 'filter',\n",
              " 'first',\n",
              " 'foreach',\n",
              " 'foreachPartition',\n",
              " 'freqItems',\n",
              " 'groupBy',\n",
              " 'groupby',\n",
              " 'head',\n",
              " 'hint',\n",
              " 'inputFiles',\n",
              " 'intersect',\n",
              " 'intersectAll',\n",
              " 'isEmpty',\n",
              " 'isLocal',\n",
              " 'isStreaming',\n",
              " 'is_cached',\n",
              " 'join',\n",
              " 'limit',\n",
              " 'localCheckpoint',\n",
              " 'mapInArrow',\n",
              " 'mapInPandas',\n",
              " 'na',\n",
              " 'observe',\n",
              " 'orderBy',\n",
              " 'pandas_api',\n",
              " 'persist',\n",
              " 'printSchema',\n",
              " 'randomSplit',\n",
              " 'rdd',\n",
              " 'registerTempTable',\n",
              " 'repartition',\n",
              " 'repartitionByRange',\n",
              " 'replace',\n",
              " 'rollup',\n",
              " 'sameSemantics',\n",
              " 'sample',\n",
              " 'sampleBy',\n",
              " 'schema',\n",
              " 'select',\n",
              " 'selectExpr',\n",
              " 'semanticHash',\n",
              " 'show',\n",
              " 'sort',\n",
              " 'sortWithinPartitions',\n",
              " 'sparkSession',\n",
              " 'sql_ctx',\n",
              " 'stat',\n",
              " 'storageLevel',\n",
              " 'subtract',\n",
              " 'summary',\n",
              " 'tail',\n",
              " 'take',\n",
              " 'toDF',\n",
              " 'toJSON',\n",
              " 'toLocalIterator',\n",
              " 'toPandas',\n",
              " 'to_koalas',\n",
              " 'to_pandas_on_spark',\n",
              " 'transform',\n",
              " 'union',\n",
              " 'unionAll',\n",
              " 'unionByName',\n",
              " 'unpersist',\n",
              " 'where',\n",
              " 'withColumn',\n",
              " 'withColumnRenamed',\n",
              " 'withColumns',\n",
              " 'withMetadata',\n",
              " 'withWatermark',\n",
              " 'write',\n",
              " 'writeStream',\n",
              " 'writeTo']"
            ]
          },
          "metadata": {},
          "execution_count": 34
        }
      ],
      "execution_count": 34
    }
  ],
  "metadata": {
    "application/vnd.databricks.v1+notebook": {
      "notebookName": "01_Prog_Ori_Obj_Pyspark",
      "dashboards": [],
      "notebookMetadata": {
        "pythonIndentUnit": 2
      },
      "language": "python",
      "widgets": {},
      "notebookOrigID": 65415367805971
    },
    "colab": {
      "name": "01_Prog_Ori_Obj_Pyspark.ipynb",
      "provenance": [],
      "include_colab_link": true
    },
    "language_info": {
      "name": "python"
    },
    "kernelspec": {
      "name": "python3",
      "display_name": "Python 3"
    },
    "gpuClass": "standard"
  },
  "nbformat": 4,
  "nbformat_minor": 0
}