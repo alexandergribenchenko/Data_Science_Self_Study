{
  "cells": [
    {
      "cell_type": "markdown",
      "metadata": {
        "id": "view-in-github",
        "colab_type": "text"
      },
      "source": [
        "<a href=\"https://colab.research.google.com/github/alexandergribenchenko/Data_Science_Self_Study/blob/main/01_Prog_Ori_Obj_Pyspark.ipynb\" target=\"_parent\"><img src=\"https://colab.research.google.com/assets/colab-badge.svg\" alt=\"Open In Colab\"/></a>"
      ]
    },
    {
      "cell_type": "markdown",
      "source": [
        "# Transformador personalizado multicolumna para Pyspark"
      ],
      "metadata": {
        "application/vnd.databricks.v1+cell": {
          "title": "",
          "showTitle": false,
          "inputWidgets": {},
          "nuid": "430ceca1-ba11-4ad4-af2b-164ca384509f"
        },
        "id": "VmiGS8-wSop9"
      }
    },
    {
      "cell_type": "markdown",
      "source": [
        "# A. Librerías de trabajo"
      ],
      "metadata": {
        "application/vnd.databricks.v1+cell": {
          "title": "",
          "showTitle": false,
          "inputWidgets": {},
          "nuid": "320487cf-f93b-4531-90ef-b28c2cbd1d92"
        },
        "id": "-4J34tb6SoqC"
      }
    },
    {
      "cell_type": "code",
      "source": [
        "from pyspark.ml import Transformer\n",
        "from pyspark.ml.param.shared import HasInputCol, HasOutputCol, HasInputCols, HasOutputCols, Param, Params, TypeConverters\n",
        "from pyspark import keyword_only\n",
        "from pyspark.ml import Pipeline, PipelineModel\n",
        "\n",
        "import pyspark.sql.functions as F\n",
        "from pyspark.sql.types import StringType,BooleanType,DateType, FloatType"
      ],
      "metadata": {
        "application/vnd.databricks.v1+cell": {
          "title": "",
          "showTitle": false,
          "inputWidgets": {},
          "nuid": "c091ba54-5b54-4063-9c6f-b73c2f264a47"
        },
        "id": "dHA87f4gSoqE"
      },
      "outputs": [],
      "execution_count": null
    },
    {
      "cell_type": "markdown",
      "source": [
        "# 01. Carga del dataset raw"
      ],
      "metadata": {
        "application/vnd.databricks.v1+cell": {
          "title": "",
          "showTitle": false,
          "inputWidgets": {},
          "nuid": "6c899fbe-8d7c-4d8c-9957-f9cbfa78879d"
        },
        "id": "0X2J74DOSoqF"
      }
    },
    {
      "cell_type": "code",
      "source": [
        "location_input = '/mnt/'+'adv/Ancillaries/Sample_Input_Data/'\n",
        "input_name = 'titanic.csv'"
      ],
      "metadata": {
        "application/vnd.databricks.v1+cell": {
          "title": "",
          "showTitle": false,
          "inputWidgets": {},
          "nuid": "579312a5-5f09-4494-9097-f22ce850e160"
        },
        "id": "gVwxzVq-SoqG"
      },
      "outputs": [],
      "execution_count": null
    },
    {
      "cell_type": "code",
      "source": [
        "df_raw = spark.read\\\n",
        "     .format('csv')\\\n",
        "     .option('header', 'true')\\\n",
        "     .option('sep',',')\\\n",
        "     .option('mode', 'DROPMALFORMED')\\\n",
        "     .load(location_input+ input_name).limit(10)"
      ],
      "metadata": {
        "application/vnd.databricks.v1+cell": {
          "title": "",
          "showTitle": false,
          "inputWidgets": {},
          "nuid": "8094d95b-d541-4aee-95a3-dcefce33f0ff"
        },
        "id": "_ipQer6DSoqH"
      },
      "outputs": [],
      "execution_count": null
    },
    {
      "cell_type": "code",
      "source": [
        "df_raw.show()"
      ],
      "metadata": {
        "application/vnd.databricks.v1+cell": {
          "title": "",
          "showTitle": false,
          "inputWidgets": {},
          "nuid": "624d28fe-3e43-4f74-bf9f-adc60c86fe4e"
        },
        "id": "QOWIQKWCSoqH"
      },
      "outputs": [],
      "execution_count": null
    },
    {
      "cell_type": "code",
      "source": [
        "df_raw.printSchema()"
      ],
      "metadata": {
        "application/vnd.databricks.v1+cell": {
          "title": "",
          "showTitle": false,
          "inputWidgets": {},
          "nuid": "26311d3d-9aed-411c-8077-25a72227f0d6"
        },
        "id": "-In5Oqy_SoqI"
      },
      "outputs": [],
      "execution_count": null
    },
    {
      "cell_type": "markdown",
      "source": [
        "# 02. Transformadores"
      ],
      "metadata": {
        "application/vnd.databricks.v1+cell": {
          "title": "",
          "showTitle": false,
          "inputWidgets": {},
          "nuid": "e4fe1211-2977-419f-b45d-98d771275762"
        },
        "id": "Ry7sVThPSoqJ"
      }
    },
    {
      "cell_type": "markdown",
      "source": [
        "## 02.01. FeatureSelector"
      ],
      "metadata": {
        "application/vnd.databricks.v1+cell": {
          "title": "",
          "showTitle": false,
          "inputWidgets": {},
          "nuid": "9f90dcbf-58da-43d9-942a-cf3b1dd21674"
        },
        "id": "Hc5nrpu3SoqL"
      }
    },
    {
      "cell_type": "code",
      "source": [
        "class FeatureSelector(Transformer, HasInputCols):\n",
        "  \n",
        "  @keyword_only\n",
        "  def __init__(self, inputCols=None):\n",
        "    super().__init__()\n",
        "    kwargs = self._input_kwargs\n",
        "    self.setParams(**kwargs)\n",
        "    \n",
        "  @keyword_only\n",
        "  def setParams(self, inputCols=None):\n",
        "      kwargs = self._input_kwargs\n",
        "      return self._set(**kwargs)\n",
        "\n",
        "  def setInputCol(self, new_inputCols):\n",
        "    return self.setParams(inputCols=new_inputCols)\n",
        "  \n",
        "  def _transform(self, dataset):\n",
        "    input_columns = (self.getInputCols() if self.isSet(\"inputCols\") else self.getInputCols())\n",
        "    answer = dataset.select(*input_columns)\n",
        "    return answer"
      ],
      "metadata": {
        "application/vnd.databricks.v1+cell": {
          "title": "",
          "showTitle": false,
          "inputWidgets": {},
          "nuid": "d9ea123f-ea2c-42b7-ac80-f4d63fd35277"
        },
        "id": "ISyCI1OsSoqM"
      },
      "outputs": [],
      "execution_count": null
    },
    {
      "cell_type": "code",
      "source": [
        "columns_selected = ['PassengerId', 'Pclass', 'Sex', 'Age', 'Fare','Survived']"
      ],
      "metadata": {
        "application/vnd.databricks.v1+cell": {
          "title": "",
          "showTitle": false,
          "inputWidgets": {},
          "nuid": "cb51a6e7-3aba-4d00-b472-3c49bbeeee11"
        },
        "id": "L3OhXkuoSoqM"
      },
      "outputs": [],
      "execution_count": null
    },
    {
      "cell_type": "code",
      "source": [
        "Transformer_FeatureSelector = FeatureSelector(inputCols=columns_selected)"
      ],
      "metadata": {
        "application/vnd.databricks.v1+cell": {
          "title": "",
          "showTitle": false,
          "inputWidgets": {},
          "nuid": "40ba14dc-eaba-4fdb-8eb5-e7a749d5dd4e"
        },
        "id": "vs4SuShySoqN"
      },
      "outputs": [],
      "execution_count": null
    },
    {
      "cell_type": "code",
      "source": [
        "df_transformed_01 = Transformer_FeatureSelector.transform(df_raw)\n",
        "df_transformed_01.show()"
      ],
      "metadata": {
        "application/vnd.databricks.v1+cell": {
          "title": "",
          "showTitle": false,
          "inputWidgets": {},
          "nuid": "210d9d1d-c108-429a-9b70-19de65ad094c"
        },
        "id": "_h34nVRgSoqN"
      },
      "outputs": [],
      "execution_count": null
    },
    {
      "cell_type": "code",
      "source": [
        "df_raw.show()"
      ],
      "metadata": {
        "application/vnd.databricks.v1+cell": {
          "title": "",
          "showTitle": false,
          "inputWidgets": {},
          "nuid": "606f569e-6f83-441c-b7b3-e301ec6d626d"
        },
        "id": "A04YunKiSoqO"
      },
      "outputs": [],
      "execution_count": null
    },
    {
      "cell_type": "markdown",
      "source": [
        "## 02.02. TypeAssignatorFloat"
      ],
      "metadata": {
        "application/vnd.databricks.v1+cell": {
          "title": "",
          "showTitle": false,
          "inputWidgets": {},
          "nuid": "1b0a1078-5182-4e41-b66a-15caddd60415"
        },
        "id": "PCcWBjeASoqO"
      }
    },
    {
      "cell_type": "code",
      "source": [
        "class TypeAssignatorFloat(Transformer, HasInputCols):\n",
        "  \n",
        "  @keyword_only\n",
        "  def __init__(self, inputCols=None):\n",
        "    super().__init__()\n",
        "    kwargs = self._input_kwargs\n",
        "    self.setParams(**kwargs)\n",
        "    \n",
        "  @keyword_only\n",
        "  def setParams(self, inputCols=None):\n",
        "      kwargs = self._input_kwargs\n",
        "      return self._set(**kwargs)\n",
        "\n",
        "  def setInputCol(self, new_inputCols):\n",
        "    return self.setParams(inputCols=new_inputCols)\n",
        "  \n",
        "  def _transform(self, dataset):\n",
        "    input_columns = (self.getInputCols() if self.isSet(\"inputCols\") else self.getInputCols())\n",
        "    answer = dataset\n",
        "    for col_i in input_columns: \n",
        "      answer=answer.withColumn(col_i,F.col(col_i).cast(FloatType()))\n",
        "    return answer"
      ],
      "metadata": {
        "application/vnd.databricks.v1+cell": {
          "title": "",
          "showTitle": false,
          "inputWidgets": {},
          "nuid": "7cf902b1-46c5-414c-815d-e36042b18ae7"
        },
        "id": "-Yl-fS-1SoqO"
      },
      "outputs": [],
      "execution_count": null
    },
    {
      "cell_type": "code",
      "source": [
        "df_transformed_01.show()"
      ],
      "metadata": {
        "application/vnd.databricks.v1+cell": {
          "title": "",
          "showTitle": false,
          "inputWidgets": {},
          "nuid": "17802acb-2916-40e5-bb93-a7434775d6d1"
        },
        "id": "O3R-PzznSoqP"
      },
      "outputs": [],
      "execution_count": null
    },
    {
      "cell_type": "code",
      "source": [
        "df_transformed_01.printSchema()"
      ],
      "metadata": {
        "application/vnd.databricks.v1+cell": {
          "title": "",
          "showTitle": false,
          "inputWidgets": {},
          "nuid": "ade44926-d1e8-4b27-a5e8-13b44dafb3e0"
        },
        "id": "t_zIx8_rSoqP"
      },
      "outputs": [],
      "execution_count": null
    },
    {
      "cell_type": "code",
      "source": [
        "Transformer_TypeAssignatorFloat = TypeAssignatorFloat(inputCols=['Age','Fare'])"
      ],
      "metadata": {
        "application/vnd.databricks.v1+cell": {
          "title": "",
          "showTitle": false,
          "inputWidgets": {},
          "nuid": "4e3afddb-2694-4f0c-b8b8-9715e7f7ef1b"
        },
        "id": "YT_7couxSoqP"
      },
      "outputs": [],
      "execution_count": null
    },
    {
      "cell_type": "code",
      "source": [
        "df_transformed_02 = Transformer_TypeAssignatorFloat.transform(df_transformed_01)\n",
        "df_transformed_02.show()"
      ],
      "metadata": {
        "application/vnd.databricks.v1+cell": {
          "title": "",
          "showTitle": false,
          "inputWidgets": {},
          "nuid": "d1727e58-b31e-4376-aa95-854b949de160"
        },
        "id": "uum3wATwSoqQ"
      },
      "outputs": [],
      "execution_count": null
    },
    {
      "cell_type": "code",
      "source": [
        "df_transformed_02.printSchema()"
      ],
      "metadata": {
        "application/vnd.databricks.v1+cell": {
          "title": "",
          "showTitle": false,
          "inputWidgets": {},
          "nuid": "092cbb1d-dee1-4251-b9da-1badeae55d1d"
        },
        "id": "WDecSkvASoqQ"
      },
      "outputs": [],
      "execution_count": null
    },
    {
      "cell_type": "markdown",
      "source": [
        "## 02.03. LogScaler"
      ],
      "metadata": {
        "application/vnd.databricks.v1+cell": {
          "title": "",
          "showTitle": false,
          "inputWidgets": {},
          "nuid": "0d915fca-1afa-4225-9135-caa7adf7cf6c"
        },
        "id": "t-b5F76USoqQ"
      }
    },
    {
      "cell_type": "code",
      "source": [
        "class LogScaler(Transformer, HasInputCols):\n",
        "  \n",
        "  @keyword_only\n",
        "  def __init__(self, inputCols=None):\n",
        "    super().__init__()\n",
        "    kwargs = self._input_kwargs\n",
        "    self.setParams(**kwargs)\n",
        "    \n",
        "  @keyword_only\n",
        "  def setParams(self, inputCols=None):\n",
        "      kwargs = self._input_kwargs\n",
        "      return self._set(**kwargs)\n",
        "\n",
        "  def setInputCol(self, new_inputCols):\n",
        "    return self.setParams(inputCols=new_inputCols)\n",
        "  \n",
        "  def _transform(self, dataset):\n",
        "    input_columns = (self.getInputCols() if self.isSet(\"inputCols\") else self.getInputCols())\n",
        "    answer = dataset\n",
        "    for col_i in input_columns: \n",
        "      answer=answer.withColumn(col_i, F.log(F.col(col_i)))\n",
        "    return answer"
      ],
      "metadata": {
        "application/vnd.databricks.v1+cell": {
          "title": "",
          "showTitle": false,
          "inputWidgets": {},
          "nuid": "b0f5358a-7521-4483-9a77-9a1d349119c0"
        },
        "id": "POGBUcfJSoqR"
      },
      "outputs": [],
      "execution_count": null
    },
    {
      "cell_type": "code",
      "source": [
        "df_transformed_02.show()"
      ],
      "metadata": {
        "application/vnd.databricks.v1+cell": {
          "title": "",
          "showTitle": false,
          "inputWidgets": {},
          "nuid": "f2387590-f332-41a3-9d5a-7793aa529c5d"
        },
        "id": "mFVNns7fSoqR"
      },
      "outputs": [],
      "execution_count": null
    },
    {
      "cell_type": "code",
      "source": [
        "df_transformed_02.printSchema()"
      ],
      "metadata": {
        "application/vnd.databricks.v1+cell": {
          "title": "",
          "showTitle": false,
          "inputWidgets": {},
          "nuid": "3ae413d1-9817-4410-b91f-89393629ebc4"
        },
        "id": "1bpM5pdRSoqR"
      },
      "outputs": [],
      "execution_count": null
    },
    {
      "cell_type": "code",
      "source": [
        "Transformer_LogScaler = LogScaler(inputCols=['Age','Fare'])"
      ],
      "metadata": {
        "application/vnd.databricks.v1+cell": {
          "title": "",
          "showTitle": false,
          "inputWidgets": {},
          "nuid": "9dfe2894-0236-4e00-b0f0-32bb2b5cde22"
        },
        "id": "iTvoDWnPSoqR"
      },
      "outputs": [],
      "execution_count": null
    },
    {
      "cell_type": "code",
      "source": [
        "df_transformed_03 = Transformer_LogScaler.transform(df_transformed_02)\n",
        "df_transformed_03.show()"
      ],
      "metadata": {
        "application/vnd.databricks.v1+cell": {
          "title": "",
          "showTitle": false,
          "inputWidgets": {},
          "nuid": "51388c65-2312-4a68-8551-1e9a892f290d"
        },
        "id": "T08TtPh5SoqR"
      },
      "outputs": [],
      "execution_count": null
    },
    {
      "cell_type": "markdown",
      "source": [
        "# 03. Pipelines"
      ],
      "metadata": {
        "application/vnd.databricks.v1+cell": {
          "title": "",
          "showTitle": false,
          "inputWidgets": {},
          "nuid": "83ee7bd2-a042-47f1-9a7b-6d6bce51ebe8"
        },
        "id": "xy-V6mpfSoqS"
      }
    },
    {
      "cell_type": "markdown",
      "source": [
        "## 03.01. Pipeline"
      ],
      "metadata": {
        "application/vnd.databricks.v1+cell": {
          "title": "",
          "showTitle": false,
          "inputWidgets": {},
          "nuid": "83761952-ec0e-47e6-8624-57eab6ff19f9"
        },
        "id": "63Vap6TQSoqS"
      }
    },
    {
      "cell_type": "code",
      "source": [
        "pipeline_my = Pipeline(stages=[\n",
        "  Transformer_FeatureSelector,\n",
        "  Transformer_TypeAssignatorFloat, \n",
        "  Transformer_LogScaler\n",
        "])"
      ],
      "metadata": {
        "application/vnd.databricks.v1+cell": {
          "title": "",
          "showTitle": false,
          "inputWidgets": {},
          "nuid": "9c4af6f4-b101-49ee-bf02-045d5d38b031"
        },
        "id": "P6ujR1lhSoqS"
      },
      "outputs": [],
      "execution_count": null
    },
    {
      "cell_type": "code",
      "source": [
        "type(pipeline_my)"
      ],
      "metadata": {
        "application/vnd.databricks.v1+cell": {
          "title": "",
          "showTitle": false,
          "inputWidgets": {},
          "nuid": "7b9ccdf7-ad57-4806-aa66-893330b17db7"
        },
        "id": "70sO1RxHSoqS"
      },
      "outputs": [],
      "execution_count": null
    },
    {
      "cell_type": "code",
      "source": [
        "pipelineModel = pipeline_my.fit(df_raw)"
      ],
      "metadata": {
        "application/vnd.databricks.v1+cell": {
          "title": "",
          "showTitle": false,
          "inputWidgets": {},
          "nuid": "7b371431-e139-4276-a8b4-44700a1bc662"
        },
        "id": "7NT5r8fxSoqT"
      },
      "outputs": [],
      "execution_count": null
    },
    {
      "cell_type": "code",
      "source": [
        "type(pipelineModel)"
      ],
      "metadata": {
        "application/vnd.databricks.v1+cell": {
          "title": "",
          "showTitle": false,
          "inputWidgets": {},
          "nuid": "25cc675b-c9cb-451f-a7d5-12f143ea0542"
        },
        "id": "FyIxleLaSoqT"
      },
      "outputs": [],
      "execution_count": null
    },
    {
      "cell_type": "code",
      "source": [
        "dir(pipeline_my)"
      ],
      "metadata": {
        "application/vnd.databricks.v1+cell": {
          "title": "",
          "showTitle": false,
          "inputWidgets": {},
          "nuid": "39f0d42e-5faa-4994-8526-e6c3fb6af0a3"
        },
        "id": "CJkQ_TinSoqT"
      },
      "outputs": [],
      "execution_count": null
    },
    {
      "cell_type": "code",
      "source": [
        "dir(pipelineModel)"
      ],
      "metadata": {
        "application/vnd.databricks.v1+cell": {
          "title": "",
          "showTitle": false,
          "inputWidgets": {},
          "nuid": "9877f3e7-efa8-4994-8ed9-0d28023b5324"
        },
        "id": "Vuwunu-kSoqT"
      },
      "outputs": [],
      "execution_count": null
    },
    {
      "cell_type": "code",
      "source": [
        "transformedDF = pipelineModel.transform(df_raw)\n",
        "\n",
        "transformedDF.show()"
      ],
      "metadata": {
        "application/vnd.databricks.v1+cell": {
          "title": "",
          "showTitle": false,
          "inputWidgets": {},
          "nuid": "1c70e900-4eae-4785-8712-73ee4bfe7ee6"
        },
        "id": "YTRA7newSoqT"
      },
      "outputs": [],
      "execution_count": null
    },
    {
      "cell_type": "code",
      "source": [
        "type(df_raw)"
      ],
      "metadata": {
        "application/vnd.databricks.v1+cell": {
          "title": "",
          "showTitle": false,
          "inputWidgets": {},
          "nuid": "c6b56014-80fe-454f-ac3f-cd9d73b9c0b7"
        },
        "id": "poL0aNv3SoqU"
      },
      "outputs": [],
      "execution_count": null
    },
    {
      "cell_type": "code",
      "source": [
        "dir(df_raw)"
      ],
      "metadata": {
        "application/vnd.databricks.v1+cell": {
          "title": "",
          "showTitle": false,
          "inputWidgets": {},
          "nuid": "0585cc4b-709d-4e93-b7dd-07a2275d1455"
        },
        "id": "5nMud1CGSoqU"
      },
      "outputs": [],
      "execution_count": null
    },
    {
      "cell_type": "code",
      "source": [
        ""
      ],
      "metadata": {
        "application/vnd.databricks.v1+cell": {
          "title": "",
          "showTitle": false,
          "inputWidgets": {},
          "nuid": "8c5e2be0-bdde-45d9-8ac6-7115cce58f84"
        },
        "id": "qqin1X4nSoqU"
      },
      "outputs": [],
      "execution_count": null
    }
  ],
  "metadata": {
    "application/vnd.databricks.v1+notebook": {
      "notebookName": "01_Prog_Ori_Obj_Pyspark",
      "dashboards": [],
      "notebookMetadata": {
        "pythonIndentUnit": 2
      },
      "language": "python",
      "widgets": {},
      "notebookOrigID": 65415367805971
    },
    "colab": {
      "name": "01_Prog_Ori_Obj_Pyspark.ipynb",
      "provenance": [],
      "include_colab_link": true
    }
  },
  "nbformat": 4,
  "nbformat_minor": 0
}