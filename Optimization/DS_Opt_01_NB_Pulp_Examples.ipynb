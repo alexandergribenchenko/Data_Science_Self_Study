{
  "cells": [
    {
      "cell_type": "markdown",
      "metadata": {
        "id": "view-in-github",
        "colab_type": "text"
      },
      "source": [
        "<a href=\"https://colab.research.google.com/github/alexandergribenchenko/Data_Science_Toolkit/blob/main/Optimization/DS_Opt_01_NB_Pulp_Examples.ipynb\" target=\"_parent\"><img src=\"https://colab.research.google.com/assets/colab-badge.svg\" alt=\"Open In Colab\"/></a>"
      ]
    },
    {
      "cell_type": "markdown",
      "source": [
        "# 01. Problema Ejemplo 01"
      ],
      "metadata": {
        "application/vnd.databricks.v1+cell": {
          "showTitle": false,
          "cellMetadata": {},
          "nuid": "060bcbf1-d54d-407c-8a86-ac5fdf149939",
          "inputWidgets": {},
          "title": ""
        },
        "id": "UeCJ8O6M_pu_"
      }
    },
    {
      "cell_type": "markdown",
      "source": [
        "## 01.01.Plantea"
      ],
      "metadata": {
        "application/vnd.databricks.v1+cell": {
          "showTitle": false,
          "cellMetadata": {},
          "nuid": "bcc3fbbf-1b41-47f7-b0e4-3cef3131ca81",
          "inputWidgets": {},
          "title": ""
        },
        "id": "FsM9fyV1_pvD"
      }
    },
    {
      "cell_type": "markdown",
      "source": [
        "[Fuente del problema](https://www.ingenieriaindustrialonline.com/investigacion-de-operaciones/ejercicios-de-programacion-lineal/)"
      ],
      "metadata": {
        "application/vnd.databricks.v1+cell": {
          "showTitle": false,
          "cellMetadata": {},
          "nuid": "2a23fc6d-20f1-4bcc-bec2-f61054c48343",
          "inputWidgets": {},
          "title": ""
        },
        "id": "U5Kg7ycW_pvE"
      }
    },
    {
      "cell_type": "markdown",
      "source": [
        "Un herrero con 80 Kg de acero y 120 Kg de aluminio quiere hacer bicicletas de paseo y de montaña que quiere vender, respectivamente a 20.000 y 15.000 pesos cada una para sacar el máximo beneficio. Para la de paseo empleará 1 Kg De acero y 3 Kg de aluminio, y para la de montaña 2 Kg de ambos metales. La cantida total de acero con que cuenta es 80 Kg y la cantidad total de Aluminio es 120 Kg. \n",
        "\n",
        "¿Cuántas bicicletas de paseo y de montaña deberá fabricar para maximizar las utilidades?"
      ],
      "metadata": {
        "application/vnd.databricks.v1+cell": {
          "showTitle": false,
          "cellMetadata": {},
          "nuid": "2e289cab-789b-43e8-bdc6-5a614d4da6dd",
          "inputWidgets": {},
          "title": ""
        },
        "id": "4A6O6doD_pvE"
      }
    },
    {
      "cell_type": "markdown",
      "source": [
        "|\t|Requerimiento de materiales| |\t\tPrecio de venta|\n",
        "|-|:----:|-|-|\n",
        "|\t              |Acero (Kg)|\tAluminio (Kg)|\t\n",
        "|Bicicleta paseo  |\t1        |\t3|\t20000|\n",
        "|Bicicleta montaña|\t2        |\t2|\t15000|\n",
        "|Total material   |\t80       |\t120|\t |"
      ],
      "metadata": {
        "application/vnd.databricks.v1+cell": {
          "showTitle": false,
          "cellMetadata": {},
          "nuid": "09c7c194-49b4-4b89-a022-1cbee0f0b5f1",
          "inputWidgets": {},
          "title": ""
        },
        "id": "1DzGB5sj_pvF"
      }
    },
    {
      "cell_type": "markdown",
      "source": [
        "#### Definición de las variables\n",
        "- **X** = Cantidad de bicicletas de paseo a producir\n",
        "- **Y** = Cantidad de bicicletas de montaña a producir"
      ],
      "metadata": {
        "application/vnd.databricks.v1+cell": {
          "showTitle": false,
          "cellMetadata": {},
          "nuid": "adb5c103-bdb2-4e93-8fa1-2eba1c8bf45e",
          "inputWidgets": {},
          "title": ""
        },
        "id": "n5OlkxEI_pvF"
      }
    },
    {
      "cell_type": "markdown",
      "source": [
        "#### Función objetivo\n",
        "\n",
        "- Zmax = 20000X + 15000Y"
      ],
      "metadata": {
        "application/vnd.databricks.v1+cell": {
          "showTitle": false,
          "cellMetadata": {},
          "nuid": "6017a198-09ba-434f-918e-9eec07e876c7",
          "inputWidgets": {},
          "title": ""
        },
        "id": "qkhlZh5r_pvF"
      }
    },
    {
      "cell_type": "markdown",
      "source": [
        "#### Restricciones\n",
        "\n",
        "- X + 2Y <= 80 (Disponibilidad de acero)\n",
        "- 3X + 2Y <= 120 (Disponibilidad de aluminio)\n",
        "- X; Y >= 0 (Restricciones de NO negatividad)"
      ],
      "metadata": {
        "application/vnd.databricks.v1+cell": {
          "showTitle": false,
          "cellMetadata": {},
          "nuid": "37fbf16a-b3a4-4944-8518-d4b5dc4c4dc3",
          "inputWidgets": {},
          "title": ""
        },
        "id": "Qvf0J_gW_pvG"
      }
    },
    {
      "cell_type": "code",
      "source": [
        "import pandas as pd\n",
        "from pulp import *"
      ],
      "metadata": {
        "application/vnd.databricks.v1+cell": {
          "showTitle": false,
          "cellMetadata": {},
          "nuid": "13672ab3-90b9-49cb-95c9-25f8aff48f5c",
          "inputWidgets": {},
          "title": ""
        },
        "id": "jOf8YM9q_pvG",
        "outputId": "cb612267-5c5e-412c-c918-cf6a47249cb4"
      },
      "outputs": [
        {
          "output_type": "display_data",
          "metadata": {
            "application/vnd.databricks.v1+output": {
              "datasetInfos": [],
              "data": {
                "text/plain": "",
                "application/vnd.databricks.v1+bamboolib_hint": "{\"pd.DataFrames\": [], \"version\": \"0.0.1\"}"
              },
              "removedWidgets": [],
              "addedWidgets": {},
              "executionCount": null,
              "metadata": {
                "kernelSessionId": "3894984f-bb4d705c23cbb955be0c325e"
              },
              "type": "mimeBundle",
              "arguments": {}
            }
          },
          "data": {
            "text/plain": "",
            "application/vnd.databricks.v1+bamboolib_hint": "{\"pd.DataFrames\": [], \"version\": \"0.0.1\"}"
          }
        }
      ],
      "execution_count": null
    },
    {
      "cell_type": "code",
      "source": [
        "problema_bicicletas = LpProblem('Bicicletas', LpMaximize)\n",
        "problema_bicicletas"
      ],
      "metadata": {
        "application/vnd.databricks.v1+cell": {
          "showTitle": false,
          "cellMetadata": {},
          "nuid": "a71ebcec-4a07-4787-b9a0-2aff294d9095",
          "inputWidgets": {},
          "title": ""
        },
        "id": "i8wr0ufW_pvI",
        "outputId": "709e32d6-269f-460b-bca6-bd30fbc92626"
      },
      "outputs": [
        {
          "output_type": "display_data",
          "metadata": {
            "application/vnd.databricks.v1+output": {
              "name": null,
              "datasetInfos": [],
              "data": "Out[2]: Bicicletas:\nMAXIMIZE\nNone\nVARIABLES",
              "removedWidgets": [],
              "addedWidgets": {},
              "metadata": {},
              "type": "ansi",
              "arguments": {}
            }
          },
          "data": {
            "text/plain": [
              "Out[2]: Bicicletas:\nMAXIMIZE\nNone\nVARIABLES"
            ]
          }
        }
      ],
      "execution_count": null
    },
    {
      "cell_type": "code",
      "source": [
        "origen = ['bic_paseo','bic_montaña']\n",
        "destino = ['venta'] "
      ],
      "metadata": {
        "application/vnd.databricks.v1+cell": {
          "showTitle": false,
          "cellMetadata": {},
          "nuid": "44a25304-5c6c-497d-a3bd-af3e10128d0a",
          "inputWidgets": {},
          "title": ""
        },
        "id": "uoBmEmfv_pvI"
      },
      "outputs": [],
      "execution_count": null
    },
    {
      "cell_type": "code",
      "source": [
        "rutas = [(i,j) for i in origen for j in destino] ### indicamos las rutas (aristas) del modelo\n",
        "rutas"
      ],
      "metadata": {
        "application/vnd.databricks.v1+cell": {
          "showTitle": false,
          "cellMetadata": {},
          "nuid": "7f71afac-90e3-4119-ad97-eb0484abfc5e",
          "inputWidgets": {},
          "title": ""
        },
        "id": "es38x-Nr_pvJ",
        "outputId": "c37e0409-85e1-4360-9adb-be4731aeebe0"
      },
      "outputs": [
        {
          "output_type": "display_data",
          "metadata": {
            "application/vnd.databricks.v1+output": {
              "name": null,
              "datasetInfos": [],
              "data": "Out[4]: [('bic_paseo', 'venta'), ('bic_montaña', 'venta')]",
              "removedWidgets": [],
              "addedWidgets": {},
              "metadata": {},
              "type": "ansi",
              "arguments": {}
            }
          },
          "data": {
            "text/plain": [
              "Out[4]: [('bic_paseo', 'venta'), ('bic_montaña', 'venta')]"
            ]
          }
        }
      ],
      "execution_count": null
    },
    {
      "cell_type": "code",
      "source": [
        "cantidad = LpVariable.dicts('Cantidad', (origen, destino),0)\n",
        "cantidad"
      ],
      "metadata": {
        "application/vnd.databricks.v1+cell": {
          "showTitle": false,
          "cellMetadata": {},
          "nuid": "207d9a11-e391-4df8-b268-844d464becba",
          "inputWidgets": {},
          "title": ""
        },
        "id": "Lie8ovwL_pvJ",
        "outputId": "7fb7e0dd-b653-45c3-fa68-209dd005968f"
      },
      "outputs": [
        {
          "output_type": "display_data",
          "metadata": {
            "application/vnd.databricks.v1+output": {
              "name": null,
              "datasetInfos": [],
              "data": "Out[5]: {'bic_paseo': {'venta': Cantidad_bic_paseo_venta},\n 'bic_montaña': {'venta': Cantidad_bic_montaña_venta}}",
              "removedWidgets": [],
              "addedWidgets": {},
              "metadata": {},
              "type": "ansi",
              "arguments": {}
            }
          },
          "data": {
            "text/plain": [
              "Out[5]: {'bic_paseo': {'venta': Cantidad_bic_paseo_venta},\n 'bic_montaña': {'venta': Cantidad_bic_montaña_venta}}"
            ]
          }
        }
      ],
      "execution_count": null
    },
    {
      "cell_type": "code",
      "source": [
        "origen"
      ],
      "metadata": {
        "application/vnd.databricks.v1+cell": {
          "showTitle": false,
          "cellMetadata": {},
          "nuid": "2a249f0e-8a93-43c6-bab8-e8af046f39ca",
          "inputWidgets": {},
          "title": ""
        },
        "id": "EIsvpfgK_pvJ",
        "outputId": "0d4aa4c7-26c8-41c1-9e83-7dc0bbf84b4e"
      },
      "outputs": [
        {
          "output_type": "display_data",
          "metadata": {
            "application/vnd.databricks.v1+output": {
              "name": null,
              "datasetInfos": [],
              "data": "Out[6]: ['bic_paseo', 'bic_montaña']",
              "removedWidgets": [],
              "addedWidgets": {},
              "metadata": {},
              "type": "ansi",
              "arguments": {}
            }
          },
          "data": {
            "text/plain": [
              "Out[6]: ['bic_paseo', 'bic_montaña']"
            ]
          }
        }
      ],
      "execution_count": null
    },
    {
      "cell_type": "code",
      "source": [
        "valor_venta = {'bic_paseo':{'venta': 20000},\n",
        "               'bic_montaña':{'venta': 15000}}\n",
        "valor_venta"
      ],
      "metadata": {
        "application/vnd.databricks.v1+cell": {
          "showTitle": false,
          "cellMetadata": {},
          "nuid": "7ace62e5-5e39-40a2-bf9d-34870d459c05",
          "inputWidgets": {},
          "title": ""
        },
        "id": "4s-CX2Vw_pvJ",
        "outputId": "5259e15e-54d4-4b14-8979-d4a9e3daeefd"
      },
      "outputs": [
        {
          "output_type": "display_data",
          "metadata": {
            "application/vnd.databricks.v1+output": {
              "name": null,
              "datasetInfos": [],
              "data": "Out[7]: {'bic_paseo': {'venta': 20000}, 'bic_montaña': {'venta': 15000}}",
              "removedWidgets": [],
              "addedWidgets": {},
              "metadata": {},
              "type": "ansi",
              "arguments": {}
            }
          },
          "data": {
            "text/plain": [
              "Out[7]: {'bic_paseo': {'venta': 20000}, 'bic_montaña': {'venta': 15000}}"
            ]
          }
        }
      ],
      "execution_count": null
    },
    {
      "cell_type": "code",
      "source": [
        "problema_bicicletas += lpSum(cantidad[i][j]*valor_venta[i][j] for (i,j) in rutas)\n",
        "problema_bicicletas"
      ],
      "metadata": {
        "application/vnd.databricks.v1+cell": {
          "showTitle": false,
          "cellMetadata": {},
          "nuid": "6e00a321-fa41-4f36-9175-c547610be468",
          "inputWidgets": {},
          "title": ""
        },
        "id": "3FJ1WUz__pvK",
        "outputId": "c8f4ecce-236f-4c5a-9918-e45358bdd39f"
      },
      "outputs": [
        {
          "output_type": "display_data",
          "metadata": {
            "application/vnd.databricks.v1+output": {
              "name": null,
              "datasetInfos": [],
              "data": "Out[8]: Bicicletas:\nMAXIMIZE\n15000*Cantidad_bic_montaña_venta + 20000*Cantidad_bic_paseo_venta + 0\nVARIABLES\nCantidad_bic_montaña_venta Continuous\nCantidad_bic_paseo_venta Continuous",
              "removedWidgets": [],
              "addedWidgets": {},
              "metadata": {},
              "type": "ansi",
              "arguments": {}
            }
          },
          "data": {
            "text/plain": [
              "Out[8]: Bicicletas:\nMAXIMIZE\n15000*Cantidad_bic_montaña_venta + 20000*Cantidad_bic_paseo_venta + 0\nVARIABLES\nCantidad_bic_montaña_venta Continuous\nCantidad_bic_paseo_venta Continuous"
            ]
          }
        }
      ],
      "execution_count": null
    },
    {
      "cell_type": "code",
      "source": [
        "acero_total = {'venta': 80}"
      ],
      "metadata": {
        "application/vnd.databricks.v1+cell": {
          "showTitle": false,
          "cellMetadata": {},
          "nuid": "316151d5-459f-4009-8945-3eb6323af21b",
          "inputWidgets": {},
          "title": ""
        },
        "id": "LxSy4eRj_pvK"
      },
      "outputs": [],
      "execution_count": null
    },
    {
      "cell_type": "code",
      "source": [
        "aluminio_total = {'venta': 120}"
      ],
      "metadata": {
        "application/vnd.databricks.v1+cell": {
          "showTitle": false,
          "cellMetadata": {},
          "nuid": "d607020a-01a2-4cfb-8ce3-db0dcdd90757",
          "inputWidgets": {},
          "title": ""
        },
        "id": "PPewGanX_pvK"
      },
      "outputs": [],
      "execution_count": null
    },
    {
      "cell_type": "code",
      "source": [
        "destino"
      ],
      "metadata": {
        "application/vnd.databricks.v1+cell": {
          "showTitle": false,
          "cellMetadata": {},
          "nuid": "480d5857-b6a2-4389-b387-766d4688e482",
          "inputWidgets": {},
          "title": ""
        },
        "id": "hq-QhFeC_pvK",
        "outputId": "434b23e9-c62f-4ee9-8ab1-f21c536abcc1"
      },
      "outputs": [
        {
          "output_type": "display_data",
          "metadata": {
            "application/vnd.databricks.v1+output": {
              "name": null,
              "datasetInfos": [],
              "data": "Out[12]: ['venta']",
              "removedWidgets": [],
              "addedWidgets": {},
              "metadata": {},
              "type": "ansi",
              "arguments": {}
            }
          },
          "data": {
            "text/plain": [
              "Out[12]: ['venta']"
            ]
          }
        }
      ],
      "execution_count": null
    },
    {
      "cell_type": "code",
      "source": [
        "cantidad"
      ],
      "metadata": {
        "application/vnd.databricks.v1+cell": {
          "showTitle": false,
          "cellMetadata": {},
          "nuid": "58b42ed7-8f94-4c0c-bbaf-d4a21e2c47ad",
          "inputWidgets": {},
          "title": ""
        },
        "id": "8XQr7N-f_pvL",
        "outputId": "05929433-0eb1-4b43-d073-14083daa37d6"
      },
      "outputs": [
        {
          "output_type": "display_data",
          "metadata": {
            "application/vnd.databricks.v1+output": {
              "name": null,
              "datasetInfos": [],
              "data": "Out[11]: {'bic_paseo': {'venta': Cantidad_bic_paseo_venta},\n 'bic_montaña': {'venta': Cantidad_bic_montaña_venta}}",
              "removedWidgets": [],
              "addedWidgets": {},
              "metadata": {},
              "type": "ansi",
              "arguments": {}
            }
          },
          "data": {
            "text/plain": [
              "Out[11]: {'bic_paseo': {'venta': Cantidad_bic_paseo_venta},\n 'bic_montaña': {'venta': Cantidad_bic_montaña_venta}}"
            ]
          }
        }
      ],
      "execution_count": null
    },
    {
      "cell_type": "code",
      "source": [
        "demanda_acero = {'bic_paseo': 1 , 'bic_montaña': 2}\n",
        "demanda_acero"
      ],
      "metadata": {
        "application/vnd.databricks.v1+cell": {
          "showTitle": false,
          "cellMetadata": {},
          "nuid": "ee5354cb-a572-40d0-8cf1-40e12feb6af5",
          "inputWidgets": {},
          "title": ""
        },
        "id": "nO-ic-3X_pvL",
        "outputId": "790b9dfc-88b7-40f0-ab67-3308dc7b48e4"
      },
      "outputs": [
        {
          "output_type": "display_data",
          "metadata": {
            "application/vnd.databricks.v1+output": {
              "name": null,
              "datasetInfos": [],
              "data": "Out[12]: {'bic_paseo': 1, 'bic_montaña': 2}",
              "removedWidgets": [],
              "addedWidgets": {},
              "metadata": {},
              "type": "ansi",
              "arguments": {}
            }
          },
          "data": {
            "text/plain": [
              "Out[12]: {'bic_paseo': 1, 'bic_montaña': 2}"
            ]
          }
        }
      ],
      "execution_count": null
    },
    {
      "cell_type": "code",
      "source": [
        "demanda_aluminio = {'bic_paseo': 3 , 'bic_montaña': 2}\n",
        "demanda_aluminio"
      ],
      "metadata": {
        "application/vnd.databricks.v1+cell": {
          "showTitle": false,
          "cellMetadata": {},
          "nuid": "89cf03a2-2dd4-41db-bc04-b48992193ce4",
          "inputWidgets": {},
          "title": ""
        },
        "id": "k-DZ8YD-_pvL",
        "outputId": "db0a2fa8-9866-4950-b0b8-eb0129e783d4"
      },
      "outputs": [
        {
          "output_type": "display_data",
          "metadata": {
            "application/vnd.databricks.v1+output": {
              "name": null,
              "datasetInfos": [],
              "data": "Out[13]: {'bic_paseo': 3, 'bic_montaña': 2}",
              "removedWidgets": [],
              "addedWidgets": {},
              "metadata": {},
              "type": "ansi",
              "arguments": {}
            }
          },
          "data": {
            "text/plain": [
              "Out[13]: {'bic_paseo': 3, 'bic_montaña': 2}"
            ]
          }
        }
      ],
      "execution_count": null
    },
    {
      "cell_type": "code",
      "source": [
        "for j in destino:\n",
        "    problema_bicicletas += lpSum(cantidad[i][j]*demanda_acero[i] for i in origen) == acero_total[j]\n",
        "\n",
        "for j in destino:\n",
        "    problema_bicicletas += lpSum(cantidad[i][j]*demanda_aluminio[i] for i in origen) == aluminio_total[j]\n",
        "    \n",
        "problema_bicicletas"
      ],
      "metadata": {
        "application/vnd.databricks.v1+cell": {
          "showTitle": false,
          "cellMetadata": {},
          "nuid": "b4c76923-04bb-47f4-bd10-b1d2b9e31ec7",
          "inputWidgets": {},
          "title": ""
        },
        "id": "YBzjd7ki_pvL",
        "outputId": "70e61a4a-4d40-447c-e5f4-516f288c6e0c"
      },
      "outputs": [
        {
          "output_type": "display_data",
          "metadata": {
            "application/vnd.databricks.v1+output": {
              "name": null,
              "datasetInfos": [],
              "data": "Out[14]: Bicicletas:\nMAXIMIZE\n15000*Cantidad_bic_montaña_venta + 20000*Cantidad_bic_paseo_venta + 0\nSUBJECT TO\n_C1: 2 Cantidad_bic_montaña_venta + Cantidad_bic_paseo_venta = 80\n\n_C2: 2 Cantidad_bic_montaña_venta + 3 Cantidad_bic_paseo_venta = 120\n\nVARIABLES\nCantidad_bic_montaña_venta Continuous\nCantidad_bic_paseo_venta Continuous",
              "removedWidgets": [],
              "addedWidgets": {},
              "metadata": {},
              "type": "ansi",
              "arguments": {}
            }
          },
          "data": {
            "text/plain": [
              "Out[14]: Bicicletas:\nMAXIMIZE\n15000*Cantidad_bic_montaña_venta + 20000*Cantidad_bic_paseo_venta + 0\nSUBJECT TO\n_C1: 2 Cantidad_bic_montaña_venta + Cantidad_bic_paseo_venta = 80\n\n_C2: 2 Cantidad_bic_montaña_venta + 3 Cantidad_bic_paseo_venta = 120\n\nVARIABLES\nCantidad_bic_montaña_venta Continuous\nCantidad_bic_paseo_venta Continuous"
            ]
          }
        }
      ],
      "execution_count": null
    },
    {
      "cell_type": "code",
      "source": [
        "### Resolvemos e imprimimos el estatus de la solución\n",
        "problema_bicicletas.solve()\n",
        "print(\"Status:\", LpStatus[problema_bicicletas.status])"
      ],
      "metadata": {
        "application/vnd.databricks.v1+cell": {
          "showTitle": false,
          "cellMetadata": {},
          "nuid": "aa8804e5-cfec-423a-bbfd-958e144a0513",
          "inputWidgets": {},
          "title": ""
        },
        "id": "CqbVIlRK_pvM",
        "outputId": "34602bd2-faa9-453a-82d2-067d5fe3dd9b"
      },
      "outputs": [
        {
          "output_type": "display_data",
          "metadata": {
            "application/vnd.databricks.v1+output": {
              "name": null,
              "datasetInfos": [],
              "data": "Status: Optimal\n",
              "removedWidgets": [],
              "addedWidgets": {},
              "metadata": {},
              "type": "ansi",
              "arguments": {}
            }
          },
          "data": {
            "text/plain": [
              "Status: Optimal\n"
            ]
          }
        }
      ],
      "execution_count": null
    },
    {
      "cell_type": "code",
      "source": [
        "### Imprimamos la solución\n",
        "for v in problema_bicicletas.variables():\n",
        "    if v.varValue > 0:\n",
        "        print(v.name, \"=\", v.varValue)\n",
        "print('El costo maximo es:', value(problema_bicicletas.objective))"
      ],
      "metadata": {
        "application/vnd.databricks.v1+cell": {
          "showTitle": false,
          "cellMetadata": {},
          "nuid": "92545dc9-3cc1-48cf-ac4c-a3874b6ddc73",
          "inputWidgets": {},
          "title": ""
        },
        "id": "zf02DwFD_pvM",
        "outputId": "b7bebc9d-1e95-418a-ac0a-a426f6be08e7"
      },
      "outputs": [
        {
          "output_type": "display_data",
          "metadata": {
            "application/vnd.databricks.v1+output": {
              "name": null,
              "datasetInfos": [],
              "data": "Cantidad_bic_montaña_venta = 30.0\nCantidad_bic_paseo_venta = 20.0\nEl costo maximo es: 850000.0\n",
              "removedWidgets": [],
              "addedWidgets": {},
              "metadata": {},
              "type": "ansi",
              "arguments": {}
            }
          },
          "data": {
            "text/plain": [
              "Cantidad_bic_montaña_venta = 30.0\nCantidad_bic_paseo_venta = 20.0\nEl costo maximo es: 850000.0\n"
            ]
          }
        }
      ],
      "execution_count": null
    },
    {
      "cell_type": "markdown",
      "source": [
        "# 02. Problema Ejemplo 02"
      ],
      "metadata": {
        "application/vnd.databricks.v1+cell": {
          "showTitle": false,
          "cellMetadata": {},
          "nuid": "fcbcced4-c60f-4e4a-8295-3104228fb500",
          "inputWidgets": {},
          "title": ""
        },
        "id": "SosUM024_pvM"
      }
    },
    {
      "cell_type": "markdown",
      "source": [
        "MG Auto has three plants in Los Angeles, Detroit, and New Orleans, and two major distribution centers in Denver and Miami. The capacities of the three plants during the next quarter are 1000, 1500, and 1200 cars. The quarterly demands at the two distribution centers are 2300 and 1400 cars.\n",
        "\n",
        "The trucking company in charge of transporting the cars charges 8 cents per mile per car. The transportation costs per car on the different routes, rounded to the closest dollar, are given in the table below.\n",
        "\n",
        "MG Auto wants to determine how many cars to transport from each plant to its distribution centers while minimizing the total cost to transport these cars.\n",
        "\n",
        "1. What is the number of car shipped from Detroit to Denver?\n",
        "\n",
        "2. What is the optimal objective value?"
      ],
      "metadata": {
        "application/vnd.databricks.v1+cell": {
          "showTitle": false,
          "cellMetadata": {},
          "nuid": "0216605b-8abb-4ad3-9d02-76fa1a9e40a9",
          "inputWidgets": {},
          "title": ""
        },
        "id": "k8bLTkWm_pvM"
      }
    },
    {
      "cell_type": "code",
      "source": [
        "origen = ['LA', 'Detroit','New Orleans']\n",
        "destino = ['Denver', 'Miami']\n",
        "\n",
        "oferta = {'LA': 1000, 'Detroit': 1500, 'New Orleans': 1200}\n",
        "demanda = {'Denver': 2300, 'Miami': 1400}\n",
        "\n",
        "costo_envio = {'LA':{'Denver': 80, 'Miami': 215},\n",
        "                'Detroit':{'Denver': 100, 'Miami': 108},\n",
        "                'New Orleans': {'Denver':102, 'Miami':68}}"
      ],
      "metadata": {
        "application/vnd.databricks.v1+cell": {
          "showTitle": false,
          "cellMetadata": {},
          "nuid": "f27e687f-307f-4c58-a890-964b3b540495",
          "inputWidgets": {},
          "title": ""
        },
        "id": "DiNIX-iP_pvN"
      },
      "outputs": [],
      "execution_count": null
    },
    {
      "cell_type": "code",
      "source": [
        "prob = LpProblem('Transporte', LpMinimize) ### Buscamos minimizar los costos"
      ],
      "metadata": {
        "application/vnd.databricks.v1+cell": {
          "showTitle": false,
          "cellMetadata": {},
          "nuid": "a0c13f67-7180-4d25-978b-9539532e11af",
          "inputWidgets": {},
          "title": ""
        },
        "id": "8K2R4yWi_pvN"
      },
      "outputs": [],
      "execution_count": null
    },
    {
      "cell_type": "code",
      "source": [
        "type(prob)"
      ],
      "metadata": {
        "application/vnd.databricks.v1+cell": {
          "showTitle": false,
          "cellMetadata": {},
          "nuid": "469a601a-ca55-4afd-8065-537471ca9d4a",
          "inputWidgets": {},
          "title": ""
        },
        "id": "WhfmdZZz_pvN",
        "outputId": "7318b948-8d48-471f-aa01-8ea9fff216cf"
      },
      "outputs": [
        {
          "output_type": "display_data",
          "metadata": {
            "application/vnd.databricks.v1+output": {
              "name": null,
              "datasetInfos": [],
              "data": "Out[22]: pulp.pulp.LpProblem",
              "removedWidgets": [],
              "addedWidgets": {},
              "metadata": {},
              "type": "ansi",
              "arguments": {}
            }
          },
          "data": {
            "text/plain": [
              "Out[22]: pulp.pulp.LpProblem"
            ]
          }
        }
      ],
      "execution_count": null
    },
    {
      "cell_type": "code",
      "source": [
        "prob\n"
      ],
      "metadata": {
        "application/vnd.databricks.v1+cell": {
          "showTitle": false,
          "cellMetadata": {},
          "nuid": "8ae49c13-f4fe-4312-bfe2-b1537375b82e",
          "inputWidgets": {},
          "title": ""
        },
        "id": "Wv65snfu_pvN",
        "outputId": "8ce45750-8e64-4c5f-c683-9ddc124c754f"
      },
      "outputs": [
        {
          "output_type": "display_data",
          "metadata": {
            "application/vnd.databricks.v1+output": {
              "name": null,
              "datasetInfos": [],
              "data": "Out[23]: Transporte:\nMINIMIZE\nNone\nVARIABLES",
              "removedWidgets": [],
              "addedWidgets": {},
              "metadata": {},
              "type": "ansi",
              "arguments": {}
            }
          },
          "data": {
            "text/plain": [
              "Out[23]: Transporte:\nMINIMIZE\nNone\nVARIABLES"
            ]
          }
        }
      ],
      "execution_count": null
    },
    {
      "cell_type": "code",
      "source": [
        "rutas = [(i,j) for i in origen for j in destino] ### indicamos las rutas (aristas) del modelo\n",
        "rutas"
      ],
      "metadata": {
        "application/vnd.databricks.v1+cell": {
          "showTitle": false,
          "cellMetadata": {},
          "nuid": "bcd24361-5dd4-4a10-912d-e8771fc8606f",
          "inputWidgets": {},
          "title": ""
        },
        "id": "BRW_yGwJ_pvO",
        "outputId": "3ac6c54f-3d54-48b9-aa79-5d506854a3cd"
      },
      "outputs": [
        {
          "output_type": "display_data",
          "metadata": {
            "application/vnd.databricks.v1+output": {
              "name": null,
              "datasetInfos": [],
              "data": "Out[24]: [('LA', 'Denver'),\n ('LA', 'Miami'),\n ('Detroit', 'Denver'),\n ('Detroit', 'Miami'),\n ('New Orleans', 'Denver'),\n ('New Orleans', 'Miami')]",
              "removedWidgets": [],
              "addedWidgets": {},
              "metadata": {},
              "type": "ansi",
              "arguments": {}
            }
          },
          "data": {
            "text/plain": [
              "Out[24]: [('LA', 'Denver'),\n ('LA', 'Miami'),\n ('Detroit', 'Denver'),\n ('Detroit', 'Miami'),\n ('New Orleans', 'Denver'),\n ('New Orleans', 'Miami')]"
            ]
          }
        }
      ],
      "execution_count": null
    },
    {
      "cell_type": "code",
      "source": [
        "cantidad = LpVariable.dicts('Cantidad de Envio', (origen, destino),0)\n",
        "cantidad"
      ],
      "metadata": {
        "application/vnd.databricks.v1+cell": {
          "showTitle": false,
          "cellMetadata": {},
          "nuid": "d0fa397d-d052-4436-8c62-e887ac4662b7",
          "inputWidgets": {},
          "title": ""
        },
        "id": "cgEY7s7V_pvO",
        "outputId": "96905e26-97e1-4544-e94e-9a9e40007230"
      },
      "outputs": [
        {
          "output_type": "display_data",
          "metadata": {
            "application/vnd.databricks.v1+output": {
              "name": null,
              "datasetInfos": [],
              "data": "Out[25]: {'LA': {'Denver': Cantidad_de_Envio_LA_Denver,\n  'Miami': Cantidad_de_Envio_LA_Miami},\n 'Detroit': {'Denver': Cantidad_de_Envio_Detroit_Denver,\n  'Miami': Cantidad_de_Envio_Detroit_Miami},\n 'New Orleans': {'Denver': Cantidad_de_Envio_New_Orleans_Denver,\n  'Miami': Cantidad_de_Envio_New_Orleans_Miami}}",
              "removedWidgets": [],
              "addedWidgets": {},
              "metadata": {},
              "type": "ansi",
              "arguments": {}
            }
          },
          "data": {
            "text/plain": [
              "Out[25]: {'LA': {'Denver': Cantidad_de_Envio_LA_Denver,\n  'Miami': Cantidad_de_Envio_LA_Miami},\n 'Detroit': {'Denver': Cantidad_de_Envio_Detroit_Denver,\n  'Miami': Cantidad_de_Envio_Detroit_Miami},\n 'New Orleans': {'Denver': Cantidad_de_Envio_New_Orleans_Denver,\n  'Miami': Cantidad_de_Envio_New_Orleans_Miami}}"
            ]
          }
        }
      ],
      "execution_count": null
    },
    {
      "cell_type": "code",
      "source": [
        "costo_envio = {'LA':{'Denver': 80, 'Miami': 215},\n",
        "                'Detroit':{'Denver': 100, 'Miami': 108},\n",
        "                'New Orleans': {'Denver':102, 'Miami':68}}"
      ],
      "metadata": {
        "application/vnd.databricks.v1+cell": {
          "showTitle": false,
          "cellMetadata": {},
          "nuid": "4f3255aa-e2b5-423b-8326-bcfe6e702aaf",
          "inputWidgets": {},
          "title": ""
        },
        "id": "HI6vmIKh_pvO"
      },
      "outputs": [],
      "execution_count": null
    },
    {
      "cell_type": "code",
      "source": [
        "type(cantidad['LA']['Denver'])"
      ],
      "metadata": {
        "application/vnd.databricks.v1+cell": {
          "showTitle": false,
          "cellMetadata": {},
          "nuid": "a568228d-5ae1-41eb-8e7b-923dd01df2b0",
          "inputWidgets": {},
          "title": ""
        },
        "id": "vnfFFGgt_pvO",
        "outputId": "d6ed4ff7-2bca-4490-e460-d3d18654f317"
      },
      "outputs": [
        {
          "output_type": "display_data",
          "metadata": {
            "application/vnd.databricks.v1+output": {
              "name": null,
              "datasetInfos": [],
              "data": "Out[27]: pulp.pulp.LpVariable",
              "removedWidgets": [],
              "addedWidgets": {},
              "metadata": {},
              "type": "ansi",
              "arguments": {}
            }
          },
          "data": {
            "text/plain": [
              "Out[27]: pulp.pulp.LpVariable"
            ]
          }
        }
      ],
      "execution_count": null
    },
    {
      "cell_type": "code",
      "source": [
        "costo_envio"
      ],
      "metadata": {
        "application/vnd.databricks.v1+cell": {
          "showTitle": false,
          "cellMetadata": {},
          "nuid": "a5027330-2c8e-408a-8227-919aaa22ee00",
          "inputWidgets": {},
          "title": ""
        },
        "id": "PWHOYpRp_pvO",
        "outputId": "3eef25ae-6249-4100-f1bd-aab3fb595838"
      },
      "outputs": [
        {
          "output_type": "display_data",
          "metadata": {
            "application/vnd.databricks.v1+output": {
              "name": null,
              "datasetInfos": [],
              "data": "Out[28]: {'LA': {'Denver': 80, 'Miami': 215},\n 'Detroit': {'Denver': 100, 'Miami': 108},\n 'New Orleans': {'Denver': 102, 'Miami': 68}}",
              "removedWidgets": [],
              "addedWidgets": {},
              "metadata": {},
              "type": "ansi",
              "arguments": {}
            }
          },
          "data": {
            "text/plain": [
              "Out[28]: {'LA': {'Denver': 80, 'Miami': 215},\n 'Detroit': {'Denver': 100, 'Miami': 108},\n 'New Orleans': {'Denver': 102, 'Miami': 68}}"
            ]
          }
        }
      ],
      "execution_count": null
    },
    {
      "cell_type": "code",
      "source": [
        "variable_01 = lpSum(cantidad[i][j]*costo_envio[i][j] for (i,j) in rutas)\n",
        "variable_01"
      ],
      "metadata": {
        "application/vnd.databricks.v1+cell": {
          "showTitle": false,
          "cellMetadata": {},
          "nuid": "028c2483-539b-4089-9c56-e38a71e194a1",
          "inputWidgets": {},
          "title": ""
        },
        "id": "vb0ArmhV_pvP",
        "outputId": "73d93f8e-c656-4e77-fad1-6276390de728"
      },
      "outputs": [
        {
          "output_type": "display_data",
          "metadata": {
            "application/vnd.databricks.v1+output": {
              "name": null,
              "datasetInfos": [],
              "data": "Out[19]: 100*Cantidad_de_Envio_Detroit_Denver + 108*Cantidad_de_Envio_Detroit_Miami + 80*Cantidad_de_Envio_LA_Denver + 215*Cantidad_de_Envio_LA_Miami + 102*Cantidad_de_Envio_New_Orleans_Denver + 68*Cantidad_de_Envio_New_Orleans_Miami + 0",
              "removedWidgets": [],
              "addedWidgets": {},
              "metadata": {},
              "type": "ansi",
              "arguments": {}
            }
          },
          "data": {
            "text/plain": [
              "Out[19]: 100*Cantidad_de_Envio_Detroit_Denver + 108*Cantidad_de_Envio_Detroit_Miami + 80*Cantidad_de_Envio_LA_Denver + 215*Cantidad_de_Envio_LA_Miami + 102*Cantidad_de_Envio_New_Orleans_Denver + 68*Cantidad_de_Envio_New_Orleans_Miami + 0"
            ]
          }
        }
      ],
      "execution_count": null
    },
    {
      "cell_type": "code",
      "source": [
        "prob"
      ],
      "metadata": {
        "application/vnd.databricks.v1+cell": {
          "showTitle": false,
          "cellMetadata": {},
          "nuid": "955417ce-dbdd-4b3a-b49d-efda26a9ec7d",
          "inputWidgets": {},
          "title": ""
        },
        "id": "sYIX5gMy_pvP",
        "outputId": "c031f84f-f871-44f6-e3d4-16e1a890b236"
      },
      "outputs": [
        {
          "output_type": "display_data",
          "metadata": {
            "application/vnd.databricks.v1+output": {
              "name": null,
              "datasetInfos": [],
              "data": "Out[20]: Transporte:\nMINIMIZE\nNone\nVARIABLES",
              "removedWidgets": [],
              "addedWidgets": {},
              "metadata": {},
              "type": "ansi",
              "arguments": {}
            }
          },
          "data": {
            "text/plain": [
              "Out[20]: Transporte:\nMINIMIZE\nNone\nVARIABLES"
            ]
          }
        }
      ],
      "execution_count": null
    },
    {
      "cell_type": "code",
      "source": [
        "prob += variable_01\n",
        "prob"
      ],
      "metadata": {
        "application/vnd.databricks.v1+cell": {
          "showTitle": false,
          "cellMetadata": {},
          "nuid": "e70bc243-a759-4007-bc69-259a33c4dac2",
          "inputWidgets": {},
          "title": ""
        },
        "id": "I806G2uR_pvP",
        "outputId": "4d218f70-5ba2-42c7-a63f-9c7811edaef6"
      },
      "outputs": [
        {
          "output_type": "display_data",
          "metadata": {
            "application/vnd.databricks.v1+output": {
              "name": null,
              "datasetInfos": [],
              "data": "Out[21]: Transporte:\nMINIMIZE\n100*Cantidad_de_Envio_Detroit_Denver + 108*Cantidad_de_Envio_Detroit_Miami + 80*Cantidad_de_Envio_LA_Denver + 215*Cantidad_de_Envio_LA_Miami + 102*Cantidad_de_Envio_New_Orleans_Denver + 68*Cantidad_de_Envio_New_Orleans_Miami + 0\nVARIABLES\nCantidad_de_Envio_Detroit_Denver Continuous\nCantidad_de_Envio_Detroit_Miami Continuous\nCantidad_de_Envio_LA_Denver Continuous\nCantidad_de_Envio_LA_Miami Continuous\nCantidad_de_Envio_New_Orleans_Denver Continuous\nCantidad_de_Envio_New_Orleans_Miami Continuous",
              "removedWidgets": [],
              "addedWidgets": {},
              "metadata": {},
              "type": "ansi",
              "arguments": {}
            }
          },
          "data": {
            "text/plain": [
              "Out[21]: Transporte:\nMINIMIZE\n100*Cantidad_de_Envio_Detroit_Denver + 108*Cantidad_de_Envio_Detroit_Miami + 80*Cantidad_de_Envio_LA_Denver + 215*Cantidad_de_Envio_LA_Miami + 102*Cantidad_de_Envio_New_Orleans_Denver + 68*Cantidad_de_Envio_New_Orleans_Miami + 0\nVARIABLES\nCantidad_de_Envio_Detroit_Denver Continuous\nCantidad_de_Envio_Detroit_Miami Continuous\nCantidad_de_Envio_LA_Denver Continuous\nCantidad_de_Envio_LA_Miami Continuous\nCantidad_de_Envio_New_Orleans_Denver Continuous\nCantidad_de_Envio_New_Orleans_Miami Continuous"
            ]
          }
        }
      ],
      "execution_count": null
    },
    {
      "cell_type": "code",
      "source": [
        "prob = LpProblem('Transporte', LpMinimize)\n",
        "cantidad = LpVariable.dicts('Cantidad de Envio', (origen, destino),0)\n",
        "\n",
        "prob += lpSum(cantidad[i][j]*costo_envio[i][j] for (i,j) in rutas)\n",
        "prob"
      ],
      "metadata": {
        "application/vnd.databricks.v1+cell": {
          "showTitle": false,
          "cellMetadata": {},
          "nuid": "af56db3c-393e-4cce-ab66-5542ce6f72ec",
          "inputWidgets": {},
          "title": ""
        },
        "id": "iiG59uLI_pvP",
        "outputId": "b8b934a4-7d49-4287-e072-682f9593e173"
      },
      "outputs": [
        {
          "output_type": "display_data",
          "metadata": {
            "application/vnd.databricks.v1+output": {
              "name": null,
              "datasetInfos": [],
              "data": "Out[29]: Transporte:\nMINIMIZE\n100*Cantidad_de_Envio_Detroit_Denver + 108*Cantidad_de_Envio_Detroit_Miami + 80*Cantidad_de_Envio_LA_Denver + 215*Cantidad_de_Envio_LA_Miami + 102*Cantidad_de_Envio_New_Orleans_Denver + 68*Cantidad_de_Envio_New_Orleans_Miami + 0\nVARIABLES\nCantidad_de_Envio_Detroit_Denver Continuous\nCantidad_de_Envio_Detroit_Miami Continuous\nCantidad_de_Envio_LA_Denver Continuous\nCantidad_de_Envio_LA_Miami Continuous\nCantidad_de_Envio_New_Orleans_Denver Continuous\nCantidad_de_Envio_New_Orleans_Miami Continuous",
              "removedWidgets": [],
              "addedWidgets": {},
              "metadata": {},
              "type": "ansi",
              "arguments": {}
            }
          },
          "data": {
            "text/plain": [
              "Out[29]: Transporte:\nMINIMIZE\n100*Cantidad_de_Envio_Detroit_Denver + 108*Cantidad_de_Envio_Detroit_Miami + 80*Cantidad_de_Envio_LA_Denver + 215*Cantidad_de_Envio_LA_Miami + 102*Cantidad_de_Envio_New_Orleans_Denver + 68*Cantidad_de_Envio_New_Orleans_Miami + 0\nVARIABLES\nCantidad_de_Envio_Detroit_Denver Continuous\nCantidad_de_Envio_Detroit_Miami Continuous\nCantidad_de_Envio_LA_Denver Continuous\nCantidad_de_Envio_LA_Miami Continuous\nCantidad_de_Envio_New_Orleans_Denver Continuous\nCantidad_de_Envio_New_Orleans_Miami Continuous"
            ]
          }
        }
      ],
      "execution_count": null
    },
    {
      "cell_type": "code",
      "source": [
        "prob = LpProblem('Transporte', LpMinimize)\n",
        "prob"
      ],
      "metadata": {
        "application/vnd.databricks.v1+cell": {
          "showTitle": false,
          "cellMetadata": {},
          "nuid": "4284a8a9-4228-4a70-8fb1-440f6f18a9c1",
          "inputWidgets": {},
          "title": ""
        },
        "id": "qH4u_DW-_pvP",
        "outputId": "0ecabef0-8623-4e59-e059-0f46706030b0"
      },
      "outputs": [
        {
          "output_type": "display_data",
          "metadata": {
            "application/vnd.databricks.v1+output": {
              "name": null,
              "datasetInfos": [],
              "data": "Out[23]: Transporte:\nMINIMIZE\nNone\nVARIABLES",
              "removedWidgets": [],
              "addedWidgets": {},
              "metadata": {},
              "type": "ansi",
              "arguments": {}
            }
          },
          "data": {
            "text/plain": [
              "Out[23]: Transporte:\nMINIMIZE\nNone\nVARIABLES"
            ]
          }
        }
      ],
      "execution_count": null
    },
    {
      "cell_type": "code",
      "source": [],
      "metadata": {
        "application/vnd.databricks.v1+cell": {
          "showTitle": false,
          "cellMetadata": {},
          "nuid": "665b7041-72fb-45ef-9a5f-aa4c61c5e6a4",
          "inputWidgets": {},
          "title": ""
        },
        "id": "eocjU4sW_pvP"
      },
      "outputs": [],
      "execution_count": null
    },
    {
      "cell_type": "code",
      "source": [
        "for j in destino:\n",
        "    prob += lpSum(cantidad[i][j] for i in origen) == demanda[j]\n",
        "prob"
      ],
      "metadata": {
        "application/vnd.databricks.v1+cell": {
          "showTitle": false,
          "cellMetadata": {},
          "nuid": "f10d4d97-3f5a-4fd3-b9ad-bccbea53e600",
          "inputWidgets": {},
          "title": ""
        },
        "id": "hPf90y7y_pvQ",
        "outputId": "944f07d7-1189-4d14-d343-d2cedfa08cf1"
      },
      "outputs": [
        {
          "output_type": "display_data",
          "metadata": {
            "application/vnd.databricks.v1+output": {
              "name": null,
              "datasetInfos": [],
              "data": "Out[30]: Transporte:\nMINIMIZE\n100*Cantidad_de_Envio_Detroit_Denver + 108*Cantidad_de_Envio_Detroit_Miami + 80*Cantidad_de_Envio_LA_Denver + 215*Cantidad_de_Envio_LA_Miami + 102*Cantidad_de_Envio_New_Orleans_Denver + 68*Cantidad_de_Envio_New_Orleans_Miami + 0\nSUBJECT TO\n_C1: Cantidad_de_Envio_Detroit_Denver + Cantidad_de_Envio_LA_Denver\n + Cantidad_de_Envio_New_Orleans_Denver = 2300\n\n_C2: Cantidad_de_Envio_Detroit_Miami + Cantidad_de_Envio_LA_Miami\n + Cantidad_de_Envio_New_Orleans_Miami = 1400\n\nVARIABLES\nCantidad_de_Envio_Detroit_Denver Continuous\nCantidad_de_Envio_Detroit_Miami Continuous\nCantidad_de_Envio_LA_Denver Continuous\nCantidad_de_Envio_LA_Miami Continuous\nCantidad_de_Envio_New_Orleans_Denver Continuous\nCantidad_de_Envio_New_Orleans_Miami Continuous",
              "removedWidgets": [],
              "addedWidgets": {},
              "metadata": {},
              "type": "ansi",
              "arguments": {}
            }
          },
          "data": {
            "text/plain": [
              "Out[30]: Transporte:\nMINIMIZE\n100*Cantidad_de_Envio_Detroit_Denver + 108*Cantidad_de_Envio_Detroit_Miami + 80*Cantidad_de_Envio_LA_Denver + 215*Cantidad_de_Envio_LA_Miami + 102*Cantidad_de_Envio_New_Orleans_Denver + 68*Cantidad_de_Envio_New_Orleans_Miami + 0\nSUBJECT TO\n_C1: Cantidad_de_Envio_Detroit_Denver + Cantidad_de_Envio_LA_Denver\n + Cantidad_de_Envio_New_Orleans_Denver = 2300\n\n_C2: Cantidad_de_Envio_Detroit_Miami + Cantidad_de_Envio_LA_Miami\n + Cantidad_de_Envio_New_Orleans_Miami = 1400\n\nVARIABLES\nCantidad_de_Envio_Detroit_Denver Continuous\nCantidad_de_Envio_Detroit_Miami Continuous\nCantidad_de_Envio_LA_Denver Continuous\nCantidad_de_Envio_LA_Miami Continuous\nCantidad_de_Envio_New_Orleans_Denver Continuous\nCantidad_de_Envio_New_Orleans_Miami Continuous"
            ]
          }
        }
      ],
      "execution_count": null
    },
    {
      "cell_type": "code",
      "source": [
        "for i in origen:\n",
        "    prob += lpSum(cantidad[i][j] for j in destino) <= oferta[i]"
      ],
      "metadata": {
        "application/vnd.databricks.v1+cell": {
          "showTitle": false,
          "cellMetadata": {},
          "nuid": "643cedc0-4b91-4e6d-ba64-f7b2771e3fb3",
          "inputWidgets": {},
          "title": ""
        },
        "id": "x4t2aM3B_pvQ"
      },
      "outputs": [],
      "execution_count": null
    },
    {
      "cell_type": "code",
      "source": [
        "prob"
      ],
      "metadata": {
        "application/vnd.databricks.v1+cell": {
          "showTitle": false,
          "cellMetadata": {},
          "nuid": "b07181e6-575e-4b79-8c07-5687c3bdf52a",
          "inputWidgets": {},
          "title": ""
        },
        "id": "Q7leqPXa_pvQ",
        "outputId": "4232f861-fde5-4012-ca19-2a357bcf2f97"
      },
      "outputs": [
        {
          "output_type": "display_data",
          "metadata": {
            "application/vnd.databricks.v1+output": {
              "name": null,
              "datasetInfos": [],
              "data": "Out[32]: Transporte:\nMINIMIZE\n100*Cantidad_de_Envio_Detroit_Denver + 108*Cantidad_de_Envio_Detroit_Miami + 80*Cantidad_de_Envio_LA_Denver + 215*Cantidad_de_Envio_LA_Miami + 102*Cantidad_de_Envio_New_Orleans_Denver + 68*Cantidad_de_Envio_New_Orleans_Miami + 0\nSUBJECT TO\n_C1: Cantidad_de_Envio_Detroit_Denver + Cantidad_de_Envio_LA_Denver\n + Cantidad_de_Envio_New_Orleans_Denver = 2300\n\n_C2: Cantidad_de_Envio_Detroit_Miami + Cantidad_de_Envio_LA_Miami\n + Cantidad_de_Envio_New_Orleans_Miami = 1400\n\n_C3: Cantidad_de_Envio_LA_Denver + Cantidad_de_Envio_LA_Miami <= 1000\n\n_C4: Cantidad_de_Envio_Detroit_Denver + Cantidad_de_Envio_Detroit_Miami\n <= 1500\n\n_C5: Cantidad_de_Envio_New_Orleans_Denver\n + Cantidad_de_Envio_New_Orleans_Miami <= 1200\n\nVARIABLES\nCantidad_de_Envio_Detroit_Denver Continuous\nCantidad_de_Envio_Detroit_Miami Continuous\nCantidad_de_Envio_LA_Denver Continuous\nCantidad_de_Envio_LA_Miami Continuous\nCantidad_de_Envio_New_Orleans_Denver Continuous\nCantidad_de_Envio_New_Orleans_Miami Continuous",
              "removedWidgets": [],
              "addedWidgets": {},
              "metadata": {},
              "type": "ansi",
              "arguments": {}
            }
          },
          "data": {
            "text/plain": [
              "Out[32]: Transporte:\nMINIMIZE\n100*Cantidad_de_Envio_Detroit_Denver + 108*Cantidad_de_Envio_Detroit_Miami + 80*Cantidad_de_Envio_LA_Denver + 215*Cantidad_de_Envio_LA_Miami + 102*Cantidad_de_Envio_New_Orleans_Denver + 68*Cantidad_de_Envio_New_Orleans_Miami + 0\nSUBJECT TO\n_C1: Cantidad_de_Envio_Detroit_Denver + Cantidad_de_Envio_LA_Denver\n + Cantidad_de_Envio_New_Orleans_Denver = 2300\n\n_C2: Cantidad_de_Envio_Detroit_Miami + Cantidad_de_Envio_LA_Miami\n + Cantidad_de_Envio_New_Orleans_Miami = 1400\n\n_C3: Cantidad_de_Envio_LA_Denver + Cantidad_de_Envio_LA_Miami <= 1000\n\n_C4: Cantidad_de_Envio_Detroit_Denver + Cantidad_de_Envio_Detroit_Miami\n <= 1500\n\n_C5: Cantidad_de_Envio_New_Orleans_Denver\n + Cantidad_de_Envio_New_Orleans_Miami <= 1200\n\nVARIABLES\nCantidad_de_Envio_Detroit_Denver Continuous\nCantidad_de_Envio_Detroit_Miami Continuous\nCantidad_de_Envio_LA_Denver Continuous\nCantidad_de_Envio_LA_Miami Continuous\nCantidad_de_Envio_New_Orleans_Denver Continuous\nCantidad_de_Envio_New_Orleans_Miami Continuous"
            ]
          }
        }
      ],
      "execution_count": null
    },
    {
      "cell_type": "code",
      "source": [],
      "metadata": {
        "application/vnd.databricks.v1+cell": {
          "showTitle": false,
          "cellMetadata": {},
          "nuid": "767558ee-6b19-464d-9853-28344dd09b90",
          "inputWidgets": {},
          "title": ""
        },
        "id": "Ul4C082v_pvQ"
      },
      "outputs": [],
      "execution_count": null
    },
    {
      "cell_type": "code",
      "source": [
        "prob"
      ],
      "metadata": {
        "application/vnd.databricks.v1+cell": {
          "showTitle": false,
          "cellMetadata": {},
          "nuid": "eeb0e51b-1773-4260-887a-c3a17680f530",
          "inputWidgets": {},
          "title": ""
        },
        "id": "oCiP4WLp_pvQ",
        "outputId": "60edede0-f084-45b4-83eb-4a85b046a0f9"
      },
      "outputs": [
        {
          "output_type": "display_data",
          "metadata": {
            "application/vnd.databricks.v1+output": {
              "name": null,
              "datasetInfos": [],
              "data": "Out[25]: Transporte:\nMINIMIZE\nNone\nSUBJECT TO\n_C1: Cantidad_de_Envio_Detroit_Denver + Cantidad_de_Envio_LA_Denver\n + Cantidad_de_Envio_New_Orleans_Denver = 2300\n\n_C2: Cantidad_de_Envio_Detroit_Miami + Cantidad_de_Envio_LA_Miami\n + Cantidad_de_Envio_New_Orleans_Miami = 1400\n\nVARIABLES\nCantidad_de_Envio_Detroit_Denver Continuous\nCantidad_de_Envio_Detroit_Miami Continuous\nCantidad_de_Envio_LA_Denver Continuous\nCantidad_de_Envio_LA_Miami Continuous\nCantidad_de_Envio_New_Orleans_Denver Continuous\nCantidad_de_Envio_New_Orleans_Miami Continuous",
              "removedWidgets": [],
              "addedWidgets": {},
              "metadata": {},
              "type": "ansi",
              "arguments": {}
            }
          },
          "data": {
            "text/plain": [
              "Out[25]: Transporte:\nMINIMIZE\nNone\nSUBJECT TO\n_C1: Cantidad_de_Envio_Detroit_Denver + Cantidad_de_Envio_LA_Denver\n + Cantidad_de_Envio_New_Orleans_Denver = 2300\n\n_C2: Cantidad_de_Envio_Detroit_Miami + Cantidad_de_Envio_LA_Miami\n + Cantidad_de_Envio_New_Orleans_Miami = 1400\n\nVARIABLES\nCantidad_de_Envio_Detroit_Denver Continuous\nCantidad_de_Envio_Detroit_Miami Continuous\nCantidad_de_Envio_LA_Denver Continuous\nCantidad_de_Envio_LA_Miami Continuous\nCantidad_de_Envio_New_Orleans_Denver Continuous\nCantidad_de_Envio_New_Orleans_Miami Continuous"
            ]
          }
        }
      ],
      "execution_count": null
    },
    {
      "cell_type": "code",
      "source": [],
      "metadata": {
        "application/vnd.databricks.v1+cell": {
          "showTitle": false,
          "cellMetadata": {},
          "nuid": "c5276bfd-cc75-43ae-8186-e9e6dbedfd6d",
          "inputWidgets": {},
          "title": ""
        },
        "id": "d6gNHSo__pvQ"
      },
      "outputs": [],
      "execution_count": null
    },
    {
      "cell_type": "code",
      "source": [
        "# Restricciones\n",
        "for j in destino:\n",
        "    prob += lpSum(cantidad[i][j] for i in origen) == demanda[j]\n",
        "#Restricciones\n",
        "for i in origen:\n",
        "    prob += lpSum(cantidad[i][j] for j in destino) <= oferta[i]\n"
      ],
      "metadata": {
        "application/vnd.databricks.v1+cell": {
          "showTitle": false,
          "cellMetadata": {},
          "nuid": "d7306969-07ac-4a06-ac50-de94cedcd2e7",
          "inputWidgets": {},
          "title": ""
        },
        "id": "tSSFMs7f_pvR"
      },
      "outputs": [],
      "execution_count": null
    },
    {
      "cell_type": "code",
      "source": [
        "prob"
      ],
      "metadata": {
        "application/vnd.databricks.v1+cell": {
          "showTitle": false,
          "cellMetadata": {},
          "nuid": "44a49a18-cb64-41fa-9fea-d53879a84b10",
          "inputWidgets": {},
          "title": ""
        },
        "id": "wGQ12lSc_pvR",
        "outputId": "f87772c4-098b-45c1-9f68-fe112aae9d1e"
      },
      "outputs": [
        {
          "output_type": "display_data",
          "metadata": {
            "application/vnd.databricks.v1+output": {
              "name": null,
              "datasetInfos": [],
              "data": "Out[27]: Transporte:\nMINIMIZE\nNone\nSUBJECT TO\n_C1: Cantidad_de_Envio_Detroit_Denver + Cantidad_de_Envio_LA_Denver\n + Cantidad_de_Envio_New_Orleans_Denver = 2300\n\n_C2: Cantidad_de_Envio_Detroit_Miami + Cantidad_de_Envio_LA_Miami\n + Cantidad_de_Envio_New_Orleans_Miami = 1400\n\n_C3: Cantidad_de_Envio_Detroit_Denver + Cantidad_de_Envio_LA_Denver\n + Cantidad_de_Envio_New_Orleans_Denver = 2300\n\n_C4: Cantidad_de_Envio_Detroit_Miami + Cantidad_de_Envio_LA_Miami\n + Cantidad_de_Envio_New_Orleans_Miami = 1400\n\n_C5: Cantidad_de_Envio_LA_Denver + Cantidad_de_Envio_LA_Miami <= 1000\n\n_C6: Cantidad_de_Envio_Detroit_Denver + Cantidad_de_Envio_Detroit_Miami\n <= 1500\n\n_C7: Cantidad_de_Envio_New_Orleans_Denver\n + Cantidad_de_Envio_New_Orleans_Miami <= 1200\n\nVARIABLES\nCantidad_de_Envio_Detroit_Denver Continuous\nCantidad_de_Envio_Detroit_Miami Continuous\nCantidad_de_Envio_LA_Denver Continuous\nCantidad_de_Envio_LA_Miami Continuous\nCantidad_de_Envio_New_Orleans_Denver Continuous\nCantidad_de_Envio_New_Orleans_Miami Continuous",
              "removedWidgets": [],
              "addedWidgets": {},
              "metadata": {},
              "type": "ansi",
              "arguments": {}
            }
          },
          "data": {
            "text/plain": [
              "Out[27]: Transporte:\nMINIMIZE\nNone\nSUBJECT TO\n_C1: Cantidad_de_Envio_Detroit_Denver + Cantidad_de_Envio_LA_Denver\n + Cantidad_de_Envio_New_Orleans_Denver = 2300\n\n_C2: Cantidad_de_Envio_Detroit_Miami + Cantidad_de_Envio_LA_Miami\n + Cantidad_de_Envio_New_Orleans_Miami = 1400\n\n_C3: Cantidad_de_Envio_Detroit_Denver + Cantidad_de_Envio_LA_Denver\n + Cantidad_de_Envio_New_Orleans_Denver = 2300\n\n_C4: Cantidad_de_Envio_Detroit_Miami + Cantidad_de_Envio_LA_Miami\n + Cantidad_de_Envio_New_Orleans_Miami = 1400\n\n_C5: Cantidad_de_Envio_LA_Denver + Cantidad_de_Envio_LA_Miami <= 1000\n\n_C6: Cantidad_de_Envio_Detroit_Denver + Cantidad_de_Envio_Detroit_Miami\n <= 1500\n\n_C7: Cantidad_de_Envio_New_Orleans_Denver\n + Cantidad_de_Envio_New_Orleans_Miami <= 1200\n\nVARIABLES\nCantidad_de_Envio_Detroit_Denver Continuous\nCantidad_de_Envio_Detroit_Miami Continuous\nCantidad_de_Envio_LA_Denver Continuous\nCantidad_de_Envio_LA_Miami Continuous\nCantidad_de_Envio_New_Orleans_Denver Continuous\nCantidad_de_Envio_New_Orleans_Miami Continuous"
            ]
          }
        }
      ],
      "execution_count": null
    },
    {
      "cell_type": "code",
      "source": [
        "### Resolvemos e imprimimos el estatus de la solución\n",
        "prob.solve()\n",
        "print(\"Status:\", LpStatus[prob.status])"
      ],
      "metadata": {
        "application/vnd.databricks.v1+cell": {
          "showTitle": false,
          "cellMetadata": {},
          "nuid": "3067517f-6ff6-4944-bbb1-4d5e5cab6250",
          "inputWidgets": {},
          "title": ""
        },
        "id": "ELEkS-lm_pvR",
        "outputId": "34751522-2acb-4092-8d23-b76210fc9ed5"
      },
      "outputs": [
        {
          "output_type": "display_data",
          "metadata": {
            "application/vnd.databricks.v1+output": {
              "name": null,
              "datasetInfos": [],
              "data": "Status: Optimal\n",
              "removedWidgets": [],
              "addedWidgets": {},
              "metadata": {},
              "type": "ansi",
              "arguments": {}
            }
          },
          "data": {
            "text/plain": [
              "Status: Optimal\n"
            ]
          }
        }
      ],
      "execution_count": null
    },
    {
      "cell_type": "code",
      "source": [
        "### Imprimamos la solución\n",
        "for v in prob.variables():\n",
        "    if v.varValue > 0:\n",
        "        print(v.name, \"=\", v.varValue)\n",
        "print('El costo mínimo es:', value(prob.objective))"
      ],
      "metadata": {
        "application/vnd.databricks.v1+cell": {
          "showTitle": false,
          "cellMetadata": {},
          "nuid": "5f3323fe-6afe-4bc6-bde3-bec054ca3b00",
          "inputWidgets": {},
          "title": ""
        },
        "id": "NWG_gFn1_pvR",
        "outputId": "22db5bbc-6cf8-46e9-d9d0-7e1da93ea12b"
      },
      "outputs": [
        {
          "output_type": "display_data",
          "metadata": {
            "application/vnd.databricks.v1+output": {
              "name": null,
              "datasetInfos": [],
              "data": "Cantidad_de_Envio_Detroit_Denver = 1100.0\nCantidad_de_Envio_Detroit_Miami = 400.0\nCantidad_de_Envio_LA_Miami = 1000.0\nCantidad_de_Envio_New_Orleans_Denver = 1200.0\n",
              "removedWidgets": [],
              "addedWidgets": {},
              "metadata": {},
              "type": "ansi",
              "arguments": {}
            }
          },
          "data": {
            "text/plain": [
              "Cantidad_de_Envio_Detroit_Denver = 1100.0\nCantidad_de_Envio_Detroit_Miami = 400.0\nCantidad_de_Envio_LA_Miami = 1000.0\nCantidad_de_Envio_New_Orleans_Denver = 1200.0\n"
            ]
          }
        },
        {
          "output_type": "display_data",
          "metadata": {
            "application/vnd.databricks.v1+output": {
              "data": "\u001b[0;31m---------------------------------------------------------------------------\u001b[0m\n\u001b[0;31mTypeError\u001b[0m                                 Traceback (most recent call last)\nFile \u001b[0;32m<command-49905302614270>:3\u001b[0m\n\u001b[1;32m      1\u001b[0m \u001b[38;5;66;03m### Imprimamos la solución\u001b[39;00m\n\u001b[1;32m      2\u001b[0m \u001b[38;5;28;01mfor\u001b[39;00m v \u001b[38;5;129;01min\u001b[39;00m prob\u001b[38;5;241m.\u001b[39mvariables():\n\u001b[0;32m----> 3\u001b[0m     \u001b[38;5;28;01mif\u001b[39;00m v\u001b[38;5;241m.\u001b[39mvarValue \u001b[38;5;241m>\u001b[39m \u001b[38;5;241m0\u001b[39m:\n\u001b[1;32m      4\u001b[0m         \u001b[38;5;28mprint\u001b[39m(v\u001b[38;5;241m.\u001b[39mname, \u001b[38;5;124m\"\u001b[39m\u001b[38;5;124m=\u001b[39m\u001b[38;5;124m\"\u001b[39m, v\u001b[38;5;241m.\u001b[39mvarValue)\n\u001b[1;32m      5\u001b[0m \u001b[38;5;28mprint\u001b[39m(\u001b[38;5;124m'\u001b[39m\u001b[38;5;124mEl costo mínimo es:\u001b[39m\u001b[38;5;124m'\u001b[39m, value(prob\u001b[38;5;241m.\u001b[39mobjective))\n\n\u001b[0;31mTypeError\u001b[0m: '>' not supported between instances of 'NoneType' and 'int'",
              "errorSummary": "<span class='ansi-red-fg'>TypeError</span>: '>' not supported between instances of 'NoneType' and 'int'",
              "metadata": {},
              "errorTraceType": "ansi",
              "type": "ipynbError",
              "arguments": {}
            }
          },
          "data": {
            "text/plain": [
              "\u001b[0;31m---------------------------------------------------------------------------\u001b[0m\n\u001b[0;31mTypeError\u001b[0m                                 Traceback (most recent call last)\nFile \u001b[0;32m<command-49905302614270>:3\u001b[0m\n\u001b[1;32m      1\u001b[0m \u001b[38;5;66;03m### Imprimamos la solución\u001b[39;00m\n\u001b[1;32m      2\u001b[0m \u001b[38;5;28;01mfor\u001b[39;00m v \u001b[38;5;129;01min\u001b[39;00m prob\u001b[38;5;241m.\u001b[39mvariables():\n\u001b[0;32m----> 3\u001b[0m     \u001b[38;5;28;01mif\u001b[39;00m v\u001b[38;5;241m.\u001b[39mvarValue \u001b[38;5;241m>\u001b[39m \u001b[38;5;241m0\u001b[39m:\n\u001b[1;32m      4\u001b[0m         \u001b[38;5;28mprint\u001b[39m(v\u001b[38;5;241m.\u001b[39mname, \u001b[38;5;124m\"\u001b[39m\u001b[38;5;124m=\u001b[39m\u001b[38;5;124m\"\u001b[39m, v\u001b[38;5;241m.\u001b[39mvarValue)\n\u001b[1;32m      5\u001b[0m \u001b[38;5;28mprint\u001b[39m(\u001b[38;5;124m'\u001b[39m\u001b[38;5;124mEl costo mínimo es:\u001b[39m\u001b[38;5;124m'\u001b[39m, value(prob\u001b[38;5;241m.\u001b[39mobjective))\n\n\u001b[0;31mTypeError\u001b[0m: '>' not supported between instances of 'NoneType' and 'int'"
            ]
          }
        }
      ],
      "execution_count": null
    },
    {
      "cell_type": "code",
      "source": [],
      "metadata": {
        "application/vnd.databricks.v1+cell": {
          "showTitle": false,
          "cellMetadata": {},
          "nuid": "272322fa-3244-422e-afe7-b03c436cf47b",
          "inputWidgets": {},
          "title": ""
        },
        "id": "CN_TF6-y_pvS"
      },
      "outputs": [],
      "execution_count": null
    }
  ],
  "metadata": {
    "kernelspec": {
      "display_name": "Python 3",
      "language": "python",
      "name": "python3"
    },
    "language_info": {
      "mimetype": "text/x-python",
      "name": "python",
      "pygments_lexer": "ipython3",
      "codemirror_mode": {
        "name": "ipython",
        "version": 3
      },
      "version": "3.8.8",
      "nbconvert_exporter": "python",
      "file_extension": ".py"
    },
    "application/vnd.databricks.v1+notebook": {
      "notebookName": "NB_DS_Explorations_Alex_V_01",
      "dashboards": [],
      "notebookMetadata": {
        "pythonIndentUnit": 2
      },
      "language": "python",
      "widgets": {},
      "notebookOrigID": 49905302614257
    },
    "colab": {
      "provenance": [],
      "include_colab_link": true
    }
  },
  "nbformat": 4,
  "nbformat_minor": 0
}