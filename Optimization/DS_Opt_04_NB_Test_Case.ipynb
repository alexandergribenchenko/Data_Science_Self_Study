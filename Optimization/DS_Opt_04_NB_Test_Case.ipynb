{
  "cells": [
    {
      "cell_type": "markdown",
      "metadata": {
        "id": "view-in-github",
        "colab_type": "text"
      },
      "source": [
        "<a href=\"https://colab.research.google.com/github/alexandergribenchenko/Data_Science_Toolkit/blob/main/Optimization/DS_Opt_04_NB_Test_Case.ipynb\" target=\"_parent\"><img src=\"https://colab.research.google.com/assets/colab-badge.svg\" alt=\"Open In Colab\"/></a>"
      ]
    },
    {
      "cell_type": "markdown",
      "source": [
        "# A. Librerías"
      ],
      "metadata": {
        "id": "pxz87OOnO5p_"
      }
    },
    {
      "cell_type": "code",
      "source": [
        "!pip install pulp"
      ],
      "metadata": {
        "id": "bkBi4688EpZq",
        "outputId": "5d0e7a3c-46be-4902-d410-0e1a781e0ad5",
        "colab": {
          "base_uri": "https://localhost:8080/"
        }
      },
      "execution_count": 1,
      "outputs": [
        {
          "output_type": "stream",
          "name": "stdout",
          "text": [
            "Looking in indexes: https://pypi.org/simple, https://us-python.pkg.dev/colab-wheels/public/simple/\n",
            "Requirement already satisfied: pulp in /usr/local/lib/python3.8/dist-packages (2.7.0)\n"
          ]
        }
      ]
    },
    {
      "cell_type": "code",
      "execution_count": 2,
      "metadata": {
        "id": "EFmbJrymD-mp"
      },
      "outputs": [],
      "source": [
        "import pulp as plp\n",
        "from pulp import *\n",
        "import numpy as np\n",
        "import pandas as pd"
      ]
    },
    {
      "cell_type": "markdown",
      "source": [
        "# 01. Inputs del problema de optimización"
      ],
      "metadata": {
        "id": "9darPAITPoHf"
      }
    },
    {
      "cell_type": "code",
      "source": [
        "# Inputs\n",
        "Lineas = ['L0', 'L1', 'L2', 'L3', 'L4', 'L5'] \n",
        "Flotas = ['F0', 'F1', 'F2', 'F3']\n",
        "\n",
        "Costo = np.array([\n",
        "[100,\t47  ,\t81 ,\t50 ],\n",
        "[51 ,\t200,\t64 ,\t47 ],\n",
        "[79 ,\t79 ,\t300,\t94 ],\n",
        "[45 ,\t59 ,\t94 ,\t400],\n",
        "[125,\t125,\t79 ,\t139],\n",
        "[119,\t149,\t279,\t125]])\n",
        "\n",
        "# Restricciones\n",
        "\n",
        "Flotas_Cantidad = [10, 20, 30, 40]\n",
        "\n",
        "Flotas_restringidas = {}\n",
        "Flotas_restringidas['F0'] = ['L0', 'L1', 'L2']\n",
        "Flotas_restringidas['F1'] = ['L4']\n",
        "Flotas_restringidas['F3'] = ['L4', 'L5']"
      ],
      "metadata": {
        "id": "wdy5_Rafu3Ww"
      },
      "execution_count": 3,
      "outputs": []
    },
    {
      "cell_type": "code",
      "source": [
        "Flotas_restringidas"
      ],
      "metadata": {
        "id": "S3N9tT7MR_zc",
        "outputId": "3433323e-9be8-4922-c4e0-6d276b18aa1d",
        "colab": {
          "base_uri": "https://localhost:8080/"
        }
      },
      "execution_count": 4,
      "outputs": [
        {
          "output_type": "execute_result",
          "data": {
            "text/plain": [
              "{'F0': ['L0', 'L1', 'L2'], 'F1': ['L4'], 'F3': ['L4', 'L5']}"
            ]
          },
          "metadata": {},
          "execution_count": 4
        }
      ]
    },
    {
      "cell_type": "markdown",
      "source": [
        "# 02. Definición e instancia del problema de optimización"
      ],
      "metadata": {
        "id": "eLnQqpkQP41R"
      }
    },
    {
      "cell_type": "code",
      "execution_count": 5,
      "metadata": {
        "id": "UGB126qFD-mr"
      },
      "outputs": [],
      "source": [
        "prob = plp.LpProblem(\"Test_Case\")\n",
        "prob.sense = LpMinimize"
      ]
    },
    {
      "cell_type": "code",
      "source": [
        "prob"
      ],
      "metadata": {
        "colab": {
          "base_uri": "https://localhost:8080/"
        },
        "id": "c9UH5CtptwRQ",
        "outputId": "3922ea55-7f51-49c4-f9b5-d523970e1dba"
      },
      "execution_count": 6,
      "outputs": [
        {
          "output_type": "execute_result",
          "data": {
            "text/plain": [
              "Test_Case:\n",
              "MINIMIZE\n",
              "None\n",
              "VARIABLES"
            ]
          },
          "metadata": {},
          "execution_count": 6
        }
      ]
    },
    {
      "cell_type": "markdown",
      "source": [
        "# 02.01. Variables a optimizar"
      ],
      "metadata": {
        "id": "_H2rL8seQPSi"
      }
    },
    {
      "cell_type": "code",
      "source": [
        "x = {i:{j: plp.LpVariable(name=\"x Linea {} con Flota {}\".format(Lineas[i],Flotas[j]), lowBound = 0, upBound=1, cat = plp.LpBinary)\n",
        "        for j in range(len(Flotas))}\n",
        "    for i in range(len(Lineas))}\n",
        "x"
      ],
      "metadata": {
        "colab": {
          "base_uri": "https://localhost:8080/"
        },
        "id": "jM9l0nhmwHrW",
        "outputId": "a204ef53-5ecd-44c5-ccb5-9315ed46e193"
      },
      "execution_count": 7,
      "outputs": [
        {
          "output_type": "execute_result",
          "data": {
            "text/plain": [
              "{0: {0: x_Linea_L0_con_Flota_F0,\n",
              "  1: x_Linea_L0_con_Flota_F1,\n",
              "  2: x_Linea_L0_con_Flota_F2,\n",
              "  3: x_Linea_L0_con_Flota_F3},\n",
              " 1: {0: x_Linea_L1_con_Flota_F0,\n",
              "  1: x_Linea_L1_con_Flota_F1,\n",
              "  2: x_Linea_L1_con_Flota_F2,\n",
              "  3: x_Linea_L1_con_Flota_F3},\n",
              " 2: {0: x_Linea_L2_con_Flota_F0,\n",
              "  1: x_Linea_L2_con_Flota_F1,\n",
              "  2: x_Linea_L2_con_Flota_F2,\n",
              "  3: x_Linea_L2_con_Flota_F3},\n",
              " 3: {0: x_Linea_L3_con_Flota_F0,\n",
              "  1: x_Linea_L3_con_Flota_F1,\n",
              "  2: x_Linea_L3_con_Flota_F2,\n",
              "  3: x_Linea_L3_con_Flota_F3},\n",
              " 4: {0: x_Linea_L4_con_Flota_F0,\n",
              "  1: x_Linea_L4_con_Flota_F1,\n",
              "  2: x_Linea_L4_con_Flota_F2,\n",
              "  3: x_Linea_L4_con_Flota_F3},\n",
              " 5: {0: x_Linea_L5_con_Flota_F0,\n",
              "  1: x_Linea_L5_con_Flota_F1,\n",
              "  2: x_Linea_L5_con_Flota_F2,\n",
              "  3: x_Linea_L5_con_Flota_F3}}"
            ]
          },
          "metadata": {},
          "execution_count": 7
        }
      ]
    },
    {
      "cell_type": "code",
      "source": [
        "x[1][0]"
      ],
      "metadata": {
        "colab": {
          "base_uri": "https://localhost:8080/"
        },
        "id": "jkfrBHNuxjxS",
        "outputId": "fcab7d04-00dd-44ed-cec6-5ff1ba00828d"
      },
      "execution_count": 8,
      "outputs": [
        {
          "output_type": "execute_result",
          "data": {
            "text/plain": [
              "x_Linea_L1_con_Flota_F0"
            ]
          },
          "metadata": {},
          "execution_count": 8
        }
      ]
    },
    {
      "cell_type": "code",
      "source": [
        "type(x[1][0])"
      ],
      "metadata": {
        "colab": {
          "base_uri": "https://localhost:8080/"
        },
        "id": "BrEwFGTBxjs3",
        "outputId": "d6e08881-5958-4483-f9dc-e5051b79a9b6"
      },
      "execution_count": 9,
      "outputs": [
        {
          "output_type": "execute_result",
          "data": {
            "text/plain": [
              "pulp.pulp.LpVariable"
            ]
          },
          "metadata": {},
          "execution_count": 9
        }
      ]
    },
    {
      "cell_type": "markdown",
      "source": [
        "# 02.02. Función Objetivo"
      ],
      "metadata": {
        "id": "hWGuI9XGQZc-"
      }
    },
    {
      "cell_type": "code",
      "execution_count": 10,
      "metadata": {
        "id": "AVyLlNATD-mw"
      },
      "outputs": [],
      "source": [
        "prob += pulp.lpSum(Costo[i][j]*x[i][j]\n",
        "                       for j in range(len(Flotas))\n",
        "                       for i in range(len(Lineas)))"
      ]
    },
    {
      "cell_type": "code",
      "source": [
        "Costo"
      ],
      "metadata": {
        "colab": {
          "base_uri": "https://localhost:8080/"
        },
        "id": "eIj-r8Dw_jbu",
        "outputId": "6cd020e8-260a-4a2d-efb8-a688184496df"
      },
      "execution_count": 11,
      "outputs": [
        {
          "output_type": "execute_result",
          "data": {
            "text/plain": [
              "array([[100,  47,  81,  50],\n",
              "       [ 51, 200,  64,  47],\n",
              "       [ 79,  79, 300,  94],\n",
              "       [ 45,  59,  94, 400],\n",
              "       [125, 125,  79, 139],\n",
              "       [119, 149, 279, 125]])"
            ]
          },
          "metadata": {},
          "execution_count": 11
        }
      ]
    },
    {
      "cell_type": "code",
      "source": [
        "prob"
      ],
      "metadata": {
        "colab": {
          "base_uri": "https://localhost:8080/"
        },
        "id": "CVmv_i5H_COw",
        "outputId": "aecfa826-3c46-47fe-8c18-8dee91d1fb50"
      },
      "execution_count": 12,
      "outputs": [
        {
          "output_type": "execute_result",
          "data": {
            "text/plain": [
              "Test_Case:\n",
              "MINIMIZE\n",
              "100*x_Linea_L0_con_Flota_F0 + 47*x_Linea_L0_con_Flota_F1 + 81*x_Linea_L0_con_Flota_F2 + 50*x_Linea_L0_con_Flota_F3 + 51*x_Linea_L1_con_Flota_F0 + 200*x_Linea_L1_con_Flota_F1 + 64*x_Linea_L1_con_Flota_F2 + 47*x_Linea_L1_con_Flota_F3 + 79*x_Linea_L2_con_Flota_F0 + 79*x_Linea_L2_con_Flota_F1 + 300*x_Linea_L2_con_Flota_F2 + 94*x_Linea_L2_con_Flota_F3 + 45*x_Linea_L3_con_Flota_F0 + 59*x_Linea_L3_con_Flota_F1 + 94*x_Linea_L3_con_Flota_F2 + 400*x_Linea_L3_con_Flota_F3 + 125*x_Linea_L4_con_Flota_F0 + 125*x_Linea_L4_con_Flota_F1 + 79*x_Linea_L4_con_Flota_F2 + 139*x_Linea_L4_con_Flota_F3 + 119*x_Linea_L5_con_Flota_F0 + 149*x_Linea_L5_con_Flota_F1 + 279*x_Linea_L5_con_Flota_F2 + 125*x_Linea_L5_con_Flota_F3 + 0\n",
              "VARIABLES\n",
              "0 <= x_Linea_L0_con_Flota_F0 <= 1 Integer\n",
              "0 <= x_Linea_L0_con_Flota_F1 <= 1 Integer\n",
              "0 <= x_Linea_L0_con_Flota_F2 <= 1 Integer\n",
              "0 <= x_Linea_L0_con_Flota_F3 <= 1 Integer\n",
              "0 <= x_Linea_L1_con_Flota_F0 <= 1 Integer\n",
              "0 <= x_Linea_L1_con_Flota_F1 <= 1 Integer\n",
              "0 <= x_Linea_L1_con_Flota_F2 <= 1 Integer\n",
              "0 <= x_Linea_L1_con_Flota_F3 <= 1 Integer\n",
              "0 <= x_Linea_L2_con_Flota_F0 <= 1 Integer\n",
              "0 <= x_Linea_L2_con_Flota_F1 <= 1 Integer\n",
              "0 <= x_Linea_L2_con_Flota_F2 <= 1 Integer\n",
              "0 <= x_Linea_L2_con_Flota_F3 <= 1 Integer\n",
              "0 <= x_Linea_L3_con_Flota_F0 <= 1 Integer\n",
              "0 <= x_Linea_L3_con_Flota_F1 <= 1 Integer\n",
              "0 <= x_Linea_L3_con_Flota_F2 <= 1 Integer\n",
              "0 <= x_Linea_L3_con_Flota_F3 <= 1 Integer\n",
              "0 <= x_Linea_L4_con_Flota_F0 <= 1 Integer\n",
              "0 <= x_Linea_L4_con_Flota_F1 <= 1 Integer\n",
              "0 <= x_Linea_L4_con_Flota_F2 <= 1 Integer\n",
              "0 <= x_Linea_L4_con_Flota_F3 <= 1 Integer\n",
              "0 <= x_Linea_L5_con_Flota_F0 <= 1 Integer\n",
              "0 <= x_Linea_L5_con_Flota_F1 <= 1 Integer\n",
              "0 <= x_Linea_L5_con_Flota_F2 <= 1 Integer\n",
              "0 <= x_Linea_L5_con_Flota_F3 <= 1 Integer"
            ]
          },
          "metadata": {},
          "execution_count": 12
        }
      ]
    },
    {
      "cell_type": "markdown",
      "source": [
        "# 02.03. Restriccones"
      ],
      "metadata": {
        "id": "Nmze3DXROc7z"
      }
    },
    {
      "cell_type": "markdown",
      "source": [
        "### ---> Restricción 01. Única flota para cada línea"
      ],
      "metadata": {
        "id": "wus0__LKQy0I"
      }
    },
    {
      "cell_type": "code",
      "source": [
        "for i in range(len(Lineas)):\n",
        "  prob += pulp.lpSum(x[i][j] for j in range(len(Flotas))) == 1,'Restriccion 01 Unica flota para {}'.format(Lineas[i])"
      ],
      "metadata": {
        "id": "m5wDnUQ4BMQT"
      },
      "execution_count": 13,
      "outputs": []
    },
    {
      "cell_type": "code",
      "source": [
        "prob"
      ],
      "metadata": {
        "id": "BCjift9KKYuy",
        "outputId": "c0ac316b-d36a-4329-d952-a9c3a30594d3",
        "colab": {
          "base_uri": "https://localhost:8080/"
        }
      },
      "execution_count": 14,
      "outputs": [
        {
          "output_type": "execute_result",
          "data": {
            "text/plain": [
              "Test_Case:\n",
              "MINIMIZE\n",
              "100*x_Linea_L0_con_Flota_F0 + 47*x_Linea_L0_con_Flota_F1 + 81*x_Linea_L0_con_Flota_F2 + 50*x_Linea_L0_con_Flota_F3 + 51*x_Linea_L1_con_Flota_F0 + 200*x_Linea_L1_con_Flota_F1 + 64*x_Linea_L1_con_Flota_F2 + 47*x_Linea_L1_con_Flota_F3 + 79*x_Linea_L2_con_Flota_F0 + 79*x_Linea_L2_con_Flota_F1 + 300*x_Linea_L2_con_Flota_F2 + 94*x_Linea_L2_con_Flota_F3 + 45*x_Linea_L3_con_Flota_F0 + 59*x_Linea_L3_con_Flota_F1 + 94*x_Linea_L3_con_Flota_F2 + 400*x_Linea_L3_con_Flota_F3 + 125*x_Linea_L4_con_Flota_F0 + 125*x_Linea_L4_con_Flota_F1 + 79*x_Linea_L4_con_Flota_F2 + 139*x_Linea_L4_con_Flota_F3 + 119*x_Linea_L5_con_Flota_F0 + 149*x_Linea_L5_con_Flota_F1 + 279*x_Linea_L5_con_Flota_F2 + 125*x_Linea_L5_con_Flota_F3 + 0\n",
              "SUBJECT TO\n",
              "Restriccion_01_Unica_flota_para_L0: x_Linea_L0_con_Flota_F0\n",
              " + x_Linea_L0_con_Flota_F1 + x_Linea_L0_con_Flota_F2 + x_Linea_L0_con_Flota_F3\n",
              " = 1\n",
              "\n",
              "Restriccion_01_Unica_flota_para_L1: x_Linea_L1_con_Flota_F0\n",
              " + x_Linea_L1_con_Flota_F1 + x_Linea_L1_con_Flota_F2 + x_Linea_L1_con_Flota_F3\n",
              " = 1\n",
              "\n",
              "Restriccion_01_Unica_flota_para_L2: x_Linea_L2_con_Flota_F0\n",
              " + x_Linea_L2_con_Flota_F1 + x_Linea_L2_con_Flota_F2 + x_Linea_L2_con_Flota_F3\n",
              " = 1\n",
              "\n",
              "Restriccion_01_Unica_flota_para_L3: x_Linea_L3_con_Flota_F0\n",
              " + x_Linea_L3_con_Flota_F1 + x_Linea_L3_con_Flota_F2 + x_Linea_L3_con_Flota_F3\n",
              " = 1\n",
              "\n",
              "Restriccion_01_Unica_flota_para_L4: x_Linea_L4_con_Flota_F0\n",
              " + x_Linea_L4_con_Flota_F1 + x_Linea_L4_con_Flota_F2 + x_Linea_L4_con_Flota_F3\n",
              " = 1\n",
              "\n",
              "Restriccion_01_Unica_flota_para_L5: x_Linea_L5_con_Flota_F0\n",
              " + x_Linea_L5_con_Flota_F1 + x_Linea_L5_con_Flota_F2 + x_Linea_L5_con_Flota_F3\n",
              " = 1\n",
              "\n",
              "VARIABLES\n",
              "0 <= x_Linea_L0_con_Flota_F0 <= 1 Integer\n",
              "0 <= x_Linea_L0_con_Flota_F1 <= 1 Integer\n",
              "0 <= x_Linea_L0_con_Flota_F2 <= 1 Integer\n",
              "0 <= x_Linea_L0_con_Flota_F3 <= 1 Integer\n",
              "0 <= x_Linea_L1_con_Flota_F0 <= 1 Integer\n",
              "0 <= x_Linea_L1_con_Flota_F1 <= 1 Integer\n",
              "0 <= x_Linea_L1_con_Flota_F2 <= 1 Integer\n",
              "0 <= x_Linea_L1_con_Flota_F3 <= 1 Integer\n",
              "0 <= x_Linea_L2_con_Flota_F0 <= 1 Integer\n",
              "0 <= x_Linea_L2_con_Flota_F1 <= 1 Integer\n",
              "0 <= x_Linea_L2_con_Flota_F2 <= 1 Integer\n",
              "0 <= x_Linea_L2_con_Flota_F3 <= 1 Integer\n",
              "0 <= x_Linea_L3_con_Flota_F0 <= 1 Integer\n",
              "0 <= x_Linea_L3_con_Flota_F1 <= 1 Integer\n",
              "0 <= x_Linea_L3_con_Flota_F2 <= 1 Integer\n",
              "0 <= x_Linea_L3_con_Flota_F3 <= 1 Integer\n",
              "0 <= x_Linea_L4_con_Flota_F0 <= 1 Integer\n",
              "0 <= x_Linea_L4_con_Flota_F1 <= 1 Integer\n",
              "0 <= x_Linea_L4_con_Flota_F2 <= 1 Integer\n",
              "0 <= x_Linea_L4_con_Flota_F3 <= 1 Integer\n",
              "0 <= x_Linea_L5_con_Flota_F0 <= 1 Integer\n",
              "0 <= x_Linea_L5_con_Flota_F1 <= 1 Integer\n",
              "0 <= x_Linea_L5_con_Flota_F2 <= 1 Integer\n",
              "0 <= x_Linea_L5_con_Flota_F3 <= 1 Integer"
            ]
          },
          "metadata": {},
          "execution_count": 14
        }
      ]
    },
    {
      "cell_type": "markdown",
      "source": [
        "### ---> Restricción 02. Cantidad de flotas disponibles"
      ],
      "metadata": {
        "id": "viZl_eqtRbK-"
      }
    },
    {
      "cell_type": "code",
      "source": [
        "Flotas"
      ],
      "metadata": {
        "id": "NAcoGSMASYh1",
        "outputId": "a4a5dd41-bfd3-4a83-ce79-8977fcc3a496",
        "colab": {
          "base_uri": "https://localhost:8080/"
        }
      },
      "execution_count": 15,
      "outputs": [
        {
          "output_type": "execute_result",
          "data": {
            "text/plain": [
              "['F0', 'F1', 'F2', 'F3']"
            ]
          },
          "metadata": {},
          "execution_count": 15
        }
      ]
    },
    {
      "cell_type": "code",
      "source": [
        "Flotas_Cantidad"
      ],
      "metadata": {
        "id": "gytat0VUSWDn",
        "outputId": "57a3a0fb-5b7b-41a3-c89f-5e6bb74919a2",
        "colab": {
          "base_uri": "https://localhost:8080/"
        }
      },
      "execution_count": 16,
      "outputs": [
        {
          "output_type": "execute_result",
          "data": {
            "text/plain": [
              "[10, 20, 30, 40]"
            ]
          },
          "metadata": {},
          "execution_count": 16
        }
      ]
    },
    {
      "cell_type": "code",
      "source": [
        "for j in range(len(Flotas)):\n",
        "  prob += pulp.lpSum(x[i][j] for i in range(len(Lineas))) <= Flotas_Cantidad[j],'Restriccion 02 Cantidad Flota para {}'.format(Flotas[j])"
      ],
      "metadata": {
        "id": "lRMkAS-BLmtv"
      },
      "execution_count": 17,
      "outputs": []
    },
    {
      "cell_type": "code",
      "source": [
        "prob"
      ],
      "metadata": {
        "id": "x-5nT65CM7aj",
        "outputId": "dcb62304-e5bf-49a6-9194-dc150a89f393",
        "colab": {
          "base_uri": "https://localhost:8080/"
        }
      },
      "execution_count": 18,
      "outputs": [
        {
          "output_type": "execute_result",
          "data": {
            "text/plain": [
              "Test_Case:\n",
              "MINIMIZE\n",
              "100*x_Linea_L0_con_Flota_F0 + 47*x_Linea_L0_con_Flota_F1 + 81*x_Linea_L0_con_Flota_F2 + 50*x_Linea_L0_con_Flota_F3 + 51*x_Linea_L1_con_Flota_F0 + 200*x_Linea_L1_con_Flota_F1 + 64*x_Linea_L1_con_Flota_F2 + 47*x_Linea_L1_con_Flota_F3 + 79*x_Linea_L2_con_Flota_F0 + 79*x_Linea_L2_con_Flota_F1 + 300*x_Linea_L2_con_Flota_F2 + 94*x_Linea_L2_con_Flota_F3 + 45*x_Linea_L3_con_Flota_F0 + 59*x_Linea_L3_con_Flota_F1 + 94*x_Linea_L3_con_Flota_F2 + 400*x_Linea_L3_con_Flota_F3 + 125*x_Linea_L4_con_Flota_F0 + 125*x_Linea_L4_con_Flota_F1 + 79*x_Linea_L4_con_Flota_F2 + 139*x_Linea_L4_con_Flota_F3 + 119*x_Linea_L5_con_Flota_F0 + 149*x_Linea_L5_con_Flota_F1 + 279*x_Linea_L5_con_Flota_F2 + 125*x_Linea_L5_con_Flota_F3 + 0\n",
              "SUBJECT TO\n",
              "Restriccion_01_Unica_flota_para_L0: x_Linea_L0_con_Flota_F0\n",
              " + x_Linea_L0_con_Flota_F1 + x_Linea_L0_con_Flota_F2 + x_Linea_L0_con_Flota_F3\n",
              " = 1\n",
              "\n",
              "Restriccion_01_Unica_flota_para_L1: x_Linea_L1_con_Flota_F0\n",
              " + x_Linea_L1_con_Flota_F1 + x_Linea_L1_con_Flota_F2 + x_Linea_L1_con_Flota_F3\n",
              " = 1\n",
              "\n",
              "Restriccion_01_Unica_flota_para_L2: x_Linea_L2_con_Flota_F0\n",
              " + x_Linea_L2_con_Flota_F1 + x_Linea_L2_con_Flota_F2 + x_Linea_L2_con_Flota_F3\n",
              " = 1\n",
              "\n",
              "Restriccion_01_Unica_flota_para_L3: x_Linea_L3_con_Flota_F0\n",
              " + x_Linea_L3_con_Flota_F1 + x_Linea_L3_con_Flota_F2 + x_Linea_L3_con_Flota_F3\n",
              " = 1\n",
              "\n",
              "Restriccion_01_Unica_flota_para_L4: x_Linea_L4_con_Flota_F0\n",
              " + x_Linea_L4_con_Flota_F1 + x_Linea_L4_con_Flota_F2 + x_Linea_L4_con_Flota_F3\n",
              " = 1\n",
              "\n",
              "Restriccion_01_Unica_flota_para_L5: x_Linea_L5_con_Flota_F0\n",
              " + x_Linea_L5_con_Flota_F1 + x_Linea_L5_con_Flota_F2 + x_Linea_L5_con_Flota_F3\n",
              " = 1\n",
              "\n",
              "Restriccion_02_Cantidad_Flota_para_F0: x_Linea_L0_con_Flota_F0\n",
              " + x_Linea_L1_con_Flota_F0 + x_Linea_L2_con_Flota_F0 + x_Linea_L3_con_Flota_F0\n",
              " + x_Linea_L4_con_Flota_F0 + x_Linea_L5_con_Flota_F0 <= 10\n",
              "\n",
              "Restriccion_02_Cantidad_Flota_para_F1: x_Linea_L0_con_Flota_F1\n",
              " + x_Linea_L1_con_Flota_F1 + x_Linea_L2_con_Flota_F1 + x_Linea_L3_con_Flota_F1\n",
              " + x_Linea_L4_con_Flota_F1 + x_Linea_L5_con_Flota_F1 <= 20\n",
              "\n",
              "Restriccion_02_Cantidad_Flota_para_F2: x_Linea_L0_con_Flota_F2\n",
              " + x_Linea_L1_con_Flota_F2 + x_Linea_L2_con_Flota_F2 + x_Linea_L3_con_Flota_F2\n",
              " + x_Linea_L4_con_Flota_F2 + x_Linea_L5_con_Flota_F2 <= 30\n",
              "\n",
              "Restriccion_02_Cantidad_Flota_para_F3: x_Linea_L0_con_Flota_F3\n",
              " + x_Linea_L1_con_Flota_F3 + x_Linea_L2_con_Flota_F3 + x_Linea_L3_con_Flota_F3\n",
              " + x_Linea_L4_con_Flota_F3 + x_Linea_L5_con_Flota_F3 <= 40\n",
              "\n",
              "VARIABLES\n",
              "0 <= x_Linea_L0_con_Flota_F0 <= 1 Integer\n",
              "0 <= x_Linea_L0_con_Flota_F1 <= 1 Integer\n",
              "0 <= x_Linea_L0_con_Flota_F2 <= 1 Integer\n",
              "0 <= x_Linea_L0_con_Flota_F3 <= 1 Integer\n",
              "0 <= x_Linea_L1_con_Flota_F0 <= 1 Integer\n",
              "0 <= x_Linea_L1_con_Flota_F1 <= 1 Integer\n",
              "0 <= x_Linea_L1_con_Flota_F2 <= 1 Integer\n",
              "0 <= x_Linea_L1_con_Flota_F3 <= 1 Integer\n",
              "0 <= x_Linea_L2_con_Flota_F0 <= 1 Integer\n",
              "0 <= x_Linea_L2_con_Flota_F1 <= 1 Integer\n",
              "0 <= x_Linea_L2_con_Flota_F2 <= 1 Integer\n",
              "0 <= x_Linea_L2_con_Flota_F3 <= 1 Integer\n",
              "0 <= x_Linea_L3_con_Flota_F0 <= 1 Integer\n",
              "0 <= x_Linea_L3_con_Flota_F1 <= 1 Integer\n",
              "0 <= x_Linea_L3_con_Flota_F2 <= 1 Integer\n",
              "0 <= x_Linea_L3_con_Flota_F3 <= 1 Integer\n",
              "0 <= x_Linea_L4_con_Flota_F0 <= 1 Integer\n",
              "0 <= x_Linea_L4_con_Flota_F1 <= 1 Integer\n",
              "0 <= x_Linea_L4_con_Flota_F2 <= 1 Integer\n",
              "0 <= x_Linea_L4_con_Flota_F3 <= 1 Integer\n",
              "0 <= x_Linea_L5_con_Flota_F0 <= 1 Integer\n",
              "0 <= x_Linea_L5_con_Flota_F1 <= 1 Integer\n",
              "0 <= x_Linea_L5_con_Flota_F2 <= 1 Integer\n",
              "0 <= x_Linea_L5_con_Flota_F3 <= 1 Integer"
            ]
          },
          "metadata": {},
          "execution_count": 18
        }
      ]
    },
    {
      "cell_type": "markdown",
      "source": [
        "### ---> Restricción 03. Flotas restringidas para ciertas líneas"
      ],
      "metadata": {
        "id": "mE2jG2uWSFdO"
      }
    },
    {
      "cell_type": "code",
      "source": [
        "Flotas_restringidas"
      ],
      "metadata": {
        "id": "H-xhwwOgSS_0",
        "outputId": "120d5349-c267-4819-c591-9d4bf6086b0b",
        "colab": {
          "base_uri": "https://localhost:8080/"
        }
      },
      "execution_count": 19,
      "outputs": [
        {
          "output_type": "execute_result",
          "data": {
            "text/plain": [
              "{'F0': ['L0', 'L1', 'L2'], 'F1': ['L4'], 'F3': ['L4', 'L5']}"
            ]
          },
          "metadata": {},
          "execution_count": 19
        }
      ]
    },
    {
      "cell_type": "code",
      "source": [
        "for flota in Flotas_restringidas:\n",
        "  for linea in Flotas_restringidas[flota]:\n",
        "    prob += pulp.lpSum(x[Lineas.index(linea)][Flotas.index(flota)]) == 0,'Restriccion 03 Flota {} Linea {}'.format(flota, linea)"
      ],
      "metadata": {
        "id": "RiJ14ZrxL9H4"
      },
      "execution_count": 20,
      "outputs": []
    },
    {
      "cell_type": "code",
      "source": [
        "prob"
      ],
      "metadata": {
        "id": "QRn1x1RGMLMw",
        "outputId": "0cff6f1a-45f4-4f9c-acb1-f7fcf2df925e",
        "colab": {
          "base_uri": "https://localhost:8080/"
        }
      },
      "execution_count": 21,
      "outputs": [
        {
          "output_type": "execute_result",
          "data": {
            "text/plain": [
              "Test_Case:\n",
              "MINIMIZE\n",
              "100*x_Linea_L0_con_Flota_F0 + 47*x_Linea_L0_con_Flota_F1 + 81*x_Linea_L0_con_Flota_F2 + 50*x_Linea_L0_con_Flota_F3 + 51*x_Linea_L1_con_Flota_F0 + 200*x_Linea_L1_con_Flota_F1 + 64*x_Linea_L1_con_Flota_F2 + 47*x_Linea_L1_con_Flota_F3 + 79*x_Linea_L2_con_Flota_F0 + 79*x_Linea_L2_con_Flota_F1 + 300*x_Linea_L2_con_Flota_F2 + 94*x_Linea_L2_con_Flota_F3 + 45*x_Linea_L3_con_Flota_F0 + 59*x_Linea_L3_con_Flota_F1 + 94*x_Linea_L3_con_Flota_F2 + 400*x_Linea_L3_con_Flota_F3 + 125*x_Linea_L4_con_Flota_F0 + 125*x_Linea_L4_con_Flota_F1 + 79*x_Linea_L4_con_Flota_F2 + 139*x_Linea_L4_con_Flota_F3 + 119*x_Linea_L5_con_Flota_F0 + 149*x_Linea_L5_con_Flota_F1 + 279*x_Linea_L5_con_Flota_F2 + 125*x_Linea_L5_con_Flota_F3 + 0\n",
              "SUBJECT TO\n",
              "Restriccion_01_Unica_flota_para_L0: x_Linea_L0_con_Flota_F0\n",
              " + x_Linea_L0_con_Flota_F1 + x_Linea_L0_con_Flota_F2 + x_Linea_L0_con_Flota_F3\n",
              " = 1\n",
              "\n",
              "Restriccion_01_Unica_flota_para_L1: x_Linea_L1_con_Flota_F0\n",
              " + x_Linea_L1_con_Flota_F1 + x_Linea_L1_con_Flota_F2 + x_Linea_L1_con_Flota_F3\n",
              " = 1\n",
              "\n",
              "Restriccion_01_Unica_flota_para_L2: x_Linea_L2_con_Flota_F0\n",
              " + x_Linea_L2_con_Flota_F1 + x_Linea_L2_con_Flota_F2 + x_Linea_L2_con_Flota_F3\n",
              " = 1\n",
              "\n",
              "Restriccion_01_Unica_flota_para_L3: x_Linea_L3_con_Flota_F0\n",
              " + x_Linea_L3_con_Flota_F1 + x_Linea_L3_con_Flota_F2 + x_Linea_L3_con_Flota_F3\n",
              " = 1\n",
              "\n",
              "Restriccion_01_Unica_flota_para_L4: x_Linea_L4_con_Flota_F0\n",
              " + x_Linea_L4_con_Flota_F1 + x_Linea_L4_con_Flota_F2 + x_Linea_L4_con_Flota_F3\n",
              " = 1\n",
              "\n",
              "Restriccion_01_Unica_flota_para_L5: x_Linea_L5_con_Flota_F0\n",
              " + x_Linea_L5_con_Flota_F1 + x_Linea_L5_con_Flota_F2 + x_Linea_L5_con_Flota_F3\n",
              " = 1\n",
              "\n",
              "Restriccion_02_Cantidad_Flota_para_F0: x_Linea_L0_con_Flota_F0\n",
              " + x_Linea_L1_con_Flota_F0 + x_Linea_L2_con_Flota_F0 + x_Linea_L3_con_Flota_F0\n",
              " + x_Linea_L4_con_Flota_F0 + x_Linea_L5_con_Flota_F0 <= 10\n",
              "\n",
              "Restriccion_02_Cantidad_Flota_para_F1: x_Linea_L0_con_Flota_F1\n",
              " + x_Linea_L1_con_Flota_F1 + x_Linea_L2_con_Flota_F1 + x_Linea_L3_con_Flota_F1\n",
              " + x_Linea_L4_con_Flota_F1 + x_Linea_L5_con_Flota_F1 <= 20\n",
              "\n",
              "Restriccion_02_Cantidad_Flota_para_F2: x_Linea_L0_con_Flota_F2\n",
              " + x_Linea_L1_con_Flota_F2 + x_Linea_L2_con_Flota_F2 + x_Linea_L3_con_Flota_F2\n",
              " + x_Linea_L4_con_Flota_F2 + x_Linea_L5_con_Flota_F2 <= 30\n",
              "\n",
              "Restriccion_02_Cantidad_Flota_para_F3: x_Linea_L0_con_Flota_F3\n",
              " + x_Linea_L1_con_Flota_F3 + x_Linea_L2_con_Flota_F3 + x_Linea_L3_con_Flota_F3\n",
              " + x_Linea_L4_con_Flota_F3 + x_Linea_L5_con_Flota_F3 <= 40\n",
              "\n",
              "Restriccion_03_Flota_F0_Linea_L0: x_Linea_L0_con_Flota_F0 = 0\n",
              "\n",
              "Restriccion_03_Flota_F0_Linea_L1: x_Linea_L1_con_Flota_F0 = 0\n",
              "\n",
              "Restriccion_03_Flota_F0_Linea_L2: x_Linea_L2_con_Flota_F0 = 0\n",
              "\n",
              "Restriccion_03_Flota_F1_Linea_L4: x_Linea_L4_con_Flota_F1 = 0\n",
              "\n",
              "Restriccion_03_Flota_F3_Linea_L4: x_Linea_L4_con_Flota_F3 = 0\n",
              "\n",
              "Restriccion_03_Flota_F3_Linea_L5: x_Linea_L5_con_Flota_F3 = 0\n",
              "\n",
              "VARIABLES\n",
              "0 <= x_Linea_L0_con_Flota_F0 <= 1 Integer\n",
              "0 <= x_Linea_L0_con_Flota_F1 <= 1 Integer\n",
              "0 <= x_Linea_L0_con_Flota_F2 <= 1 Integer\n",
              "0 <= x_Linea_L0_con_Flota_F3 <= 1 Integer\n",
              "0 <= x_Linea_L1_con_Flota_F0 <= 1 Integer\n",
              "0 <= x_Linea_L1_con_Flota_F1 <= 1 Integer\n",
              "0 <= x_Linea_L1_con_Flota_F2 <= 1 Integer\n",
              "0 <= x_Linea_L1_con_Flota_F3 <= 1 Integer\n",
              "0 <= x_Linea_L2_con_Flota_F0 <= 1 Integer\n",
              "0 <= x_Linea_L2_con_Flota_F1 <= 1 Integer\n",
              "0 <= x_Linea_L2_con_Flota_F2 <= 1 Integer\n",
              "0 <= x_Linea_L2_con_Flota_F3 <= 1 Integer\n",
              "0 <= x_Linea_L3_con_Flota_F0 <= 1 Integer\n",
              "0 <= x_Linea_L3_con_Flota_F1 <= 1 Integer\n",
              "0 <= x_Linea_L3_con_Flota_F2 <= 1 Integer\n",
              "0 <= x_Linea_L3_con_Flota_F3 <= 1 Integer\n",
              "0 <= x_Linea_L4_con_Flota_F0 <= 1 Integer\n",
              "0 <= x_Linea_L4_con_Flota_F1 <= 1 Integer\n",
              "0 <= x_Linea_L4_con_Flota_F2 <= 1 Integer\n",
              "0 <= x_Linea_L4_con_Flota_F3 <= 1 Integer\n",
              "0 <= x_Linea_L5_con_Flota_F0 <= 1 Integer\n",
              "0 <= x_Linea_L5_con_Flota_F1 <= 1 Integer\n",
              "0 <= x_Linea_L5_con_Flota_F2 <= 1 Integer\n",
              "0 <= x_Linea_L5_con_Flota_F3 <= 1 Integer"
            ]
          },
          "metadata": {},
          "execution_count": 21
        }
      ]
    },
    {
      "cell_type": "markdown",
      "source": [
        "# 03. Solución del problema"
      ],
      "metadata": {
        "id": "f_GyTArgTD5U"
      }
    },
    {
      "cell_type": "code",
      "source": [
        "prob.solve()"
      ],
      "metadata": {
        "id": "OJcjYCjDTDe1",
        "outputId": "7345ea8d-29b3-4532-b5ad-6f085b664925",
        "colab": {
          "base_uri": "https://localhost:8080/"
        }
      },
      "execution_count": 22,
      "outputs": [
        {
          "output_type": "execute_result",
          "data": {
            "text/plain": [
              "1"
            ]
          },
          "metadata": {},
          "execution_count": 22
        }
      ]
    },
    {
      "cell_type": "code",
      "source": [
        "print(\"Status:\", LpStatus[prob.status])"
      ],
      "metadata": {
        "id": "kPFyu6c7TDcd",
        "outputId": "997db9b6-5fb7-414c-bf29-17c83b643c16",
        "colab": {
          "base_uri": "https://localhost:8080/"
        }
      },
      "execution_count": 23,
      "outputs": [
        {
          "output_type": "stream",
          "name": "stdout",
          "text": [
            "Status: Optimal\n"
          ]
        }
      ]
    },
    {
      "cell_type": "code",
      "source": [
        "for v in prob.variables():\n",
        "    if v.varValue > 0:\n",
        "        print(v.name, \"=\", v.varValue)\n",
        "print('El costo mínimo es:', value(prob.objective))"
      ],
      "metadata": {
        "id": "fE685H8ATMui",
        "outputId": "a58190be-a052-4064-a713-9ef4b4696dd7",
        "colab": {
          "base_uri": "https://localhost:8080/"
        }
      },
      "execution_count": 24,
      "outputs": [
        {
          "output_type": "stream",
          "name": "stdout",
          "text": [
            "x_Linea_L0_con_Flota_F1 = 1.0\n",
            "x_Linea_L1_con_Flota_F3 = 1.0\n",
            "x_Linea_L2_con_Flota_F1 = 1.0\n",
            "x_Linea_L3_con_Flota_F0 = 1.0\n",
            "x_Linea_L4_con_Flota_F2 = 1.0\n",
            "x_Linea_L5_con_Flota_F0 = 1.0\n",
            "El costo mínimo es: 416.0\n"
          ]
        }
      ]
    },
    {
      "cell_type": "markdown",
      "source": [
        "# 04. Generación dataframe salida"
      ],
      "metadata": {
        "id": "byZav1qNU60y"
      }
    },
    {
      "cell_type": "code",
      "source": [],
      "metadata": {
        "id": "Hkw8cUgsTMsR"
      },
      "execution_count": 24,
      "outputs": []
    }
  ],
  "metadata": {
    "kernelspec": {
      "display_name": "Python 3",
      "language": "python",
      "name": "python3"
    },
    "language_info": {
      "codemirror_mode": {
        "name": "ipython",
        "version": 3
      },
      "file_extension": ".py",
      "mimetype": "text/x-python",
      "name": "python",
      "nbconvert_exporter": "python",
      "pygments_lexer": "ipython3",
      "version": "3.7.6"
    },
    "colab": {
      "provenance": [],
      "toc_visible": true,
      "include_colab_link": true
    }
  },
  "nbformat": 4,
  "nbformat_minor": 0
}