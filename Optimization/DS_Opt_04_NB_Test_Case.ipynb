{
  "cells": [
    {
      "cell_type": "markdown",
      "metadata": {
        "id": "view-in-github",
        "colab_type": "text"
      },
      "source": [
        "<a href=\"https://colab.research.google.com/github/alexandergribenchenko/Data_Science_Toolkit/blob/main/Optimization/DS_Opt_04_NB_Test_Case.ipynb\" target=\"_parent\"><img src=\"https://colab.research.google.com/assets/colab-badge.svg\" alt=\"Open In Colab\"/></a>"
      ]
    },
    {
      "cell_type": "markdown",
      "source": [
        "# A. Librerías"
      ],
      "metadata": {
        "id": "pxz87OOnO5p_"
      }
    },
    {
      "cell_type": "code",
      "source": [
        "!pip install pulp"
      ],
      "metadata": {
        "id": "bkBi4688EpZq",
        "outputId": "fd685038-65e1-4578-a470-18775c993598",
        "colab": {
          "base_uri": "https://localhost:8080/"
        }
      },
      "execution_count": 1,
      "outputs": [
        {
          "output_type": "stream",
          "name": "stdout",
          "text": [
            "Looking in indexes: https://pypi.org/simple, https://us-python.pkg.dev/colab-wheels/public/simple/\n",
            "Collecting pulp\n",
            "  Downloading PuLP-2.7.0-py3-none-any.whl (14.3 MB)\n",
            "\u001b[2K     \u001b[90m━━━━━━━━━━━━━━━━━━━━━━━━━━━━━━━━━━━━━━━━\u001b[0m \u001b[32m14.3/14.3 MB\u001b[0m \u001b[31m56.2 MB/s\u001b[0m eta \u001b[36m0:00:00\u001b[0m\n",
            "\u001b[?25hInstalling collected packages: pulp\n",
            "Successfully installed pulp-2.7.0\n"
          ]
        }
      ]
    },
    {
      "cell_type": "code",
      "execution_count": 2,
      "metadata": {
        "id": "EFmbJrymD-mp"
      },
      "outputs": [],
      "source": [
        "import pulp as plp\n",
        "from pulp import *\n",
        "import numpy as np\n",
        "import pandas as pd"
      ]
    },
    {
      "cell_type": "markdown",
      "source": [
        "# 01. Inputs del problema de optimización"
      ],
      "metadata": {
        "id": "9darPAITPoHf"
      }
    },
    {
      "cell_type": "code",
      "source": [
        "# Inputs\n",
        "Lineas = ['L0', 'L1', 'L2', 'L3', 'L4', 'L5'] \n",
        "Flotas = ['F0', 'F1', 'F2', 'F3']\n",
        "\n",
        "Costo = np.array([\n",
        "[100,\t47  ,\t81 ,\t50 ],\n",
        "[51 ,\t200,\t64 ,\t47 ],\n",
        "[79 ,\t79 ,\t300,\t94 ],\n",
        "[45 ,\t59 ,\t94 ,\t400],\n",
        "[125,\t125,\t79 ,\t139],\n",
        "[119,\t149,\t279,\t125]])\n",
        "\n",
        "# Restricciones\n",
        "\n",
        "Flotas_Cantidad = [10, 20, 30, 40]\n",
        "\n",
        "Flotas_restringidas = {}\n",
        "Flotas_restringidas['F0'] = ['L0', 'L1', 'L2']\n",
        "Flotas_restringidas['F1'] = ['L4']\n",
        "Flotas_restringidas['F3'] = ['L4', 'L5']"
      ],
      "metadata": {
        "id": "wdy5_Rafu3Ww"
      },
      "execution_count": 3,
      "outputs": []
    },
    {
      "cell_type": "code",
      "source": [
        "Flotas_restringidas"
      ],
      "metadata": {
        "id": "S3N9tT7MR_zc",
        "outputId": "9e13660a-8b61-4d86-84fe-e9b75c185015",
        "colab": {
          "base_uri": "https://localhost:8080/"
        }
      },
      "execution_count": 4,
      "outputs": [
        {
          "output_type": "execute_result",
          "data": {
            "text/plain": [
              "{'F0': ['L0', 'L1', 'L2'], 'F1': ['L4'], 'F3': ['L4', 'L5']}"
            ]
          },
          "metadata": {},
          "execution_count": 4
        }
      ]
    },
    {
      "cell_type": "markdown",
      "source": [
        "# 02. Definición e instancia del problema de optimización"
      ],
      "metadata": {
        "id": "eLnQqpkQP41R"
      }
    },
    {
      "cell_type": "code",
      "execution_count": 5,
      "metadata": {
        "id": "UGB126qFD-mr"
      },
      "outputs": [],
      "source": [
        "prob = plp.LpProblem(\"Test_Case\")\n",
        "prob.sense = LpMinimize"
      ]
    },
    {
      "cell_type": "code",
      "source": [
        "prob"
      ],
      "metadata": {
        "colab": {
          "base_uri": "https://localhost:8080/"
        },
        "id": "c9UH5CtptwRQ",
        "outputId": "146b887d-ad16-4ab4-fa13-963d9858a4be"
      },
      "execution_count": 6,
      "outputs": [
        {
          "output_type": "execute_result",
          "data": {
            "text/plain": [
              "Test_Case:\n",
              "MINIMIZE\n",
              "None\n",
              "VARIABLES"
            ]
          },
          "metadata": {},
          "execution_count": 6
        }
      ]
    },
    {
      "cell_type": "markdown",
      "source": [
        "# 02.01. Variables a optimizar"
      ],
      "metadata": {
        "id": "_H2rL8seQPSi"
      }
    },
    {
      "cell_type": "code",
      "source": [
        "x = {i:{j: plp.LpVariable(name=\"x Linea {} con Flota {}\".format(Lineas[i],Flotas[j]), lowBound = 0, upBound=1, cat = plp.LpBinary)\n",
        "        for j in range(len(Flotas))}\n",
        "    for i in range(len(Lineas))}\n",
        "x"
      ],
      "metadata": {
        "colab": {
          "base_uri": "https://localhost:8080/"
        },
        "id": "jM9l0nhmwHrW",
        "outputId": "4ce92ce4-9530-4fe4-b461-2498298e33a6"
      },
      "execution_count": 7,
      "outputs": [
        {
          "output_type": "execute_result",
          "data": {
            "text/plain": [
              "{0: {0: x_Linea_L0_con_Flota_F0,\n",
              "  1: x_Linea_L0_con_Flota_F1,\n",
              "  2: x_Linea_L0_con_Flota_F2,\n",
              "  3: x_Linea_L0_con_Flota_F3},\n",
              " 1: {0: x_Linea_L1_con_Flota_F0,\n",
              "  1: x_Linea_L1_con_Flota_F1,\n",
              "  2: x_Linea_L1_con_Flota_F2,\n",
              "  3: x_Linea_L1_con_Flota_F3},\n",
              " 2: {0: x_Linea_L2_con_Flota_F0,\n",
              "  1: x_Linea_L2_con_Flota_F1,\n",
              "  2: x_Linea_L2_con_Flota_F2,\n",
              "  3: x_Linea_L2_con_Flota_F3},\n",
              " 3: {0: x_Linea_L3_con_Flota_F0,\n",
              "  1: x_Linea_L3_con_Flota_F1,\n",
              "  2: x_Linea_L3_con_Flota_F2,\n",
              "  3: x_Linea_L3_con_Flota_F3},\n",
              " 4: {0: x_Linea_L4_con_Flota_F0,\n",
              "  1: x_Linea_L4_con_Flota_F1,\n",
              "  2: x_Linea_L4_con_Flota_F2,\n",
              "  3: x_Linea_L4_con_Flota_F3},\n",
              " 5: {0: x_Linea_L5_con_Flota_F0,\n",
              "  1: x_Linea_L5_con_Flota_F1,\n",
              "  2: x_Linea_L5_con_Flota_F2,\n",
              "  3: x_Linea_L5_con_Flota_F3}}"
            ]
          },
          "metadata": {},
          "execution_count": 7
        }
      ]
    },
    {
      "cell_type": "code",
      "source": [
        "x[1][0]"
      ],
      "metadata": {
        "colab": {
          "base_uri": "https://localhost:8080/"
        },
        "id": "jkfrBHNuxjxS",
        "outputId": "f13a693d-4f51-4f7a-8b84-f4819a30eb87"
      },
      "execution_count": 8,
      "outputs": [
        {
          "output_type": "execute_result",
          "data": {
            "text/plain": [
              "x_Linea_L1_con_Flota_F0"
            ]
          },
          "metadata": {},
          "execution_count": 8
        }
      ]
    },
    {
      "cell_type": "code",
      "source": [
        "type(x[1][0])"
      ],
      "metadata": {
        "colab": {
          "base_uri": "https://localhost:8080/"
        },
        "id": "BrEwFGTBxjs3",
        "outputId": "ce373ca2-709e-4476-83c2-e0f902b0bef9"
      },
      "execution_count": 9,
      "outputs": [
        {
          "output_type": "execute_result",
          "data": {
            "text/plain": [
              "pulp.pulp.LpVariable"
            ]
          },
          "metadata": {},
          "execution_count": 9
        }
      ]
    },
    {
      "cell_type": "markdown",
      "source": [
        "# 02.02. Función Objetivo"
      ],
      "metadata": {
        "id": "hWGuI9XGQZc-"
      }
    },
    {
      "cell_type": "code",
      "execution_count": 10,
      "metadata": {
        "id": "AVyLlNATD-mw"
      },
      "outputs": [],
      "source": [
        "prob += pulp.lpSum(Costo[i][j]*x[i][j]\n",
        "                       for j in range(len(Flotas))\n",
        "                       for i in range(len(Lineas)))"
      ]
    },
    {
      "cell_type": "code",
      "source": [
        "Costo"
      ],
      "metadata": {
        "colab": {
          "base_uri": "https://localhost:8080/"
        },
        "id": "eIj-r8Dw_jbu",
        "outputId": "822b8ed6-bdd6-4f45-c083-23ddcfddf81d"
      },
      "execution_count": 11,
      "outputs": [
        {
          "output_type": "execute_result",
          "data": {
            "text/plain": [
              "array([[100,  47,  81,  50],\n",
              "       [ 51, 200,  64,  47],\n",
              "       [ 79,  79, 300,  94],\n",
              "       [ 45,  59,  94, 400],\n",
              "       [125, 125,  79, 139],\n",
              "       [119, 149, 279, 125]])"
            ]
          },
          "metadata": {},
          "execution_count": 11
        }
      ]
    },
    {
      "cell_type": "code",
      "source": [
        "prob"
      ],
      "metadata": {
        "colab": {
          "base_uri": "https://localhost:8080/"
        },
        "id": "CVmv_i5H_COw",
        "outputId": "ec97dfeb-544f-4614-f817-cd18cd8ebda0"
      },
      "execution_count": 12,
      "outputs": [
        {
          "output_type": "execute_result",
          "data": {
            "text/plain": [
              "Test_Case:\n",
              "MINIMIZE\n",
              "100*x_Linea_L0_con_Flota_F0 + 47*x_Linea_L0_con_Flota_F1 + 81*x_Linea_L0_con_Flota_F2 + 50*x_Linea_L0_con_Flota_F3 + 51*x_Linea_L1_con_Flota_F0 + 200*x_Linea_L1_con_Flota_F1 + 64*x_Linea_L1_con_Flota_F2 + 47*x_Linea_L1_con_Flota_F3 + 79*x_Linea_L2_con_Flota_F0 + 79*x_Linea_L2_con_Flota_F1 + 300*x_Linea_L2_con_Flota_F2 + 94*x_Linea_L2_con_Flota_F3 + 45*x_Linea_L3_con_Flota_F0 + 59*x_Linea_L3_con_Flota_F1 + 94*x_Linea_L3_con_Flota_F2 + 400*x_Linea_L3_con_Flota_F3 + 125*x_Linea_L4_con_Flota_F0 + 125*x_Linea_L4_con_Flota_F1 + 79*x_Linea_L4_con_Flota_F2 + 139*x_Linea_L4_con_Flota_F3 + 119*x_Linea_L5_con_Flota_F0 + 149*x_Linea_L5_con_Flota_F1 + 279*x_Linea_L5_con_Flota_F2 + 125*x_Linea_L5_con_Flota_F3 + 0\n",
              "VARIABLES\n",
              "0 <= x_Linea_L0_con_Flota_F0 <= 1 Integer\n",
              "0 <= x_Linea_L0_con_Flota_F1 <= 1 Integer\n",
              "0 <= x_Linea_L0_con_Flota_F2 <= 1 Integer\n",
              "0 <= x_Linea_L0_con_Flota_F3 <= 1 Integer\n",
              "0 <= x_Linea_L1_con_Flota_F0 <= 1 Integer\n",
              "0 <= x_Linea_L1_con_Flota_F1 <= 1 Integer\n",
              "0 <= x_Linea_L1_con_Flota_F2 <= 1 Integer\n",
              "0 <= x_Linea_L1_con_Flota_F3 <= 1 Integer\n",
              "0 <= x_Linea_L2_con_Flota_F0 <= 1 Integer\n",
              "0 <= x_Linea_L2_con_Flota_F1 <= 1 Integer\n",
              "0 <= x_Linea_L2_con_Flota_F2 <= 1 Integer\n",
              "0 <= x_Linea_L2_con_Flota_F3 <= 1 Integer\n",
              "0 <= x_Linea_L3_con_Flota_F0 <= 1 Integer\n",
              "0 <= x_Linea_L3_con_Flota_F1 <= 1 Integer\n",
              "0 <= x_Linea_L3_con_Flota_F2 <= 1 Integer\n",
              "0 <= x_Linea_L3_con_Flota_F3 <= 1 Integer\n",
              "0 <= x_Linea_L4_con_Flota_F0 <= 1 Integer\n",
              "0 <= x_Linea_L4_con_Flota_F1 <= 1 Integer\n",
              "0 <= x_Linea_L4_con_Flota_F2 <= 1 Integer\n",
              "0 <= x_Linea_L4_con_Flota_F3 <= 1 Integer\n",
              "0 <= x_Linea_L5_con_Flota_F0 <= 1 Integer\n",
              "0 <= x_Linea_L5_con_Flota_F1 <= 1 Integer\n",
              "0 <= x_Linea_L5_con_Flota_F2 <= 1 Integer\n",
              "0 <= x_Linea_L5_con_Flota_F3 <= 1 Integer"
            ]
          },
          "metadata": {},
          "execution_count": 12
        }
      ]
    },
    {
      "cell_type": "markdown",
      "source": [
        "# 02.03. Restriccones"
      ],
      "metadata": {
        "id": "Nmze3DXROc7z"
      }
    },
    {
      "cell_type": "markdown",
      "source": [
        "### ---> Restricción 01. Única flota para cada línea"
      ],
      "metadata": {
        "id": "wus0__LKQy0I"
      }
    },
    {
      "cell_type": "code",
      "source": [
        "for i in range(len(Lineas)):\n",
        "  prob += pulp.lpSum(x[i][j] for j in range(len(Flotas))) == 1,'Restriccion 01 Unica flota para {}'.format(Lineas[i])"
      ],
      "metadata": {
        "id": "m5wDnUQ4BMQT"
      },
      "execution_count": 13,
      "outputs": []
    },
    {
      "cell_type": "code",
      "source": [
        "prob"
      ],
      "metadata": {
        "id": "BCjift9KKYuy",
        "outputId": "2a618ffe-8ffc-49c3-9420-4bfbf2c191cb",
        "colab": {
          "base_uri": "https://localhost:8080/"
        }
      },
      "execution_count": 14,
      "outputs": [
        {
          "output_type": "execute_result",
          "data": {
            "text/plain": [
              "Test_Case:\n",
              "MINIMIZE\n",
              "100*x_Linea_L0_con_Flota_F0 + 47*x_Linea_L0_con_Flota_F1 + 81*x_Linea_L0_con_Flota_F2 + 50*x_Linea_L0_con_Flota_F3 + 51*x_Linea_L1_con_Flota_F0 + 200*x_Linea_L1_con_Flota_F1 + 64*x_Linea_L1_con_Flota_F2 + 47*x_Linea_L1_con_Flota_F3 + 79*x_Linea_L2_con_Flota_F0 + 79*x_Linea_L2_con_Flota_F1 + 300*x_Linea_L2_con_Flota_F2 + 94*x_Linea_L2_con_Flota_F3 + 45*x_Linea_L3_con_Flota_F0 + 59*x_Linea_L3_con_Flota_F1 + 94*x_Linea_L3_con_Flota_F2 + 400*x_Linea_L3_con_Flota_F3 + 125*x_Linea_L4_con_Flota_F0 + 125*x_Linea_L4_con_Flota_F1 + 79*x_Linea_L4_con_Flota_F2 + 139*x_Linea_L4_con_Flota_F3 + 119*x_Linea_L5_con_Flota_F0 + 149*x_Linea_L5_con_Flota_F1 + 279*x_Linea_L5_con_Flota_F2 + 125*x_Linea_L5_con_Flota_F3 + 0\n",
              "SUBJECT TO\n",
              "Restriccion_01_Unica_flota_para_L0: x_Linea_L0_con_Flota_F0\n",
              " + x_Linea_L0_con_Flota_F1 + x_Linea_L0_con_Flota_F2 + x_Linea_L0_con_Flota_F3\n",
              " = 1\n",
              "\n",
              "Restriccion_01_Unica_flota_para_L1: x_Linea_L1_con_Flota_F0\n",
              " + x_Linea_L1_con_Flota_F1 + x_Linea_L1_con_Flota_F2 + x_Linea_L1_con_Flota_F3\n",
              " = 1\n",
              "\n",
              "Restriccion_01_Unica_flota_para_L2: x_Linea_L2_con_Flota_F0\n",
              " + x_Linea_L2_con_Flota_F1 + x_Linea_L2_con_Flota_F2 + x_Linea_L2_con_Flota_F3\n",
              " = 1\n",
              "\n",
              "Restriccion_01_Unica_flota_para_L3: x_Linea_L3_con_Flota_F0\n",
              " + x_Linea_L3_con_Flota_F1 + x_Linea_L3_con_Flota_F2 + x_Linea_L3_con_Flota_F3\n",
              " = 1\n",
              "\n",
              "Restriccion_01_Unica_flota_para_L4: x_Linea_L4_con_Flota_F0\n",
              " + x_Linea_L4_con_Flota_F1 + x_Linea_L4_con_Flota_F2 + x_Linea_L4_con_Flota_F3\n",
              " = 1\n",
              "\n",
              "Restriccion_01_Unica_flota_para_L5: x_Linea_L5_con_Flota_F0\n",
              " + x_Linea_L5_con_Flota_F1 + x_Linea_L5_con_Flota_F2 + x_Linea_L5_con_Flota_F3\n",
              " = 1\n",
              "\n",
              "VARIABLES\n",
              "0 <= x_Linea_L0_con_Flota_F0 <= 1 Integer\n",
              "0 <= x_Linea_L0_con_Flota_F1 <= 1 Integer\n",
              "0 <= x_Linea_L0_con_Flota_F2 <= 1 Integer\n",
              "0 <= x_Linea_L0_con_Flota_F3 <= 1 Integer\n",
              "0 <= x_Linea_L1_con_Flota_F0 <= 1 Integer\n",
              "0 <= x_Linea_L1_con_Flota_F1 <= 1 Integer\n",
              "0 <= x_Linea_L1_con_Flota_F2 <= 1 Integer\n",
              "0 <= x_Linea_L1_con_Flota_F3 <= 1 Integer\n",
              "0 <= x_Linea_L2_con_Flota_F0 <= 1 Integer\n",
              "0 <= x_Linea_L2_con_Flota_F1 <= 1 Integer\n",
              "0 <= x_Linea_L2_con_Flota_F2 <= 1 Integer\n",
              "0 <= x_Linea_L2_con_Flota_F3 <= 1 Integer\n",
              "0 <= x_Linea_L3_con_Flota_F0 <= 1 Integer\n",
              "0 <= x_Linea_L3_con_Flota_F1 <= 1 Integer\n",
              "0 <= x_Linea_L3_con_Flota_F2 <= 1 Integer\n",
              "0 <= x_Linea_L3_con_Flota_F3 <= 1 Integer\n",
              "0 <= x_Linea_L4_con_Flota_F0 <= 1 Integer\n",
              "0 <= x_Linea_L4_con_Flota_F1 <= 1 Integer\n",
              "0 <= x_Linea_L4_con_Flota_F2 <= 1 Integer\n",
              "0 <= x_Linea_L4_con_Flota_F3 <= 1 Integer\n",
              "0 <= x_Linea_L5_con_Flota_F0 <= 1 Integer\n",
              "0 <= x_Linea_L5_con_Flota_F1 <= 1 Integer\n",
              "0 <= x_Linea_L5_con_Flota_F2 <= 1 Integer\n",
              "0 <= x_Linea_L5_con_Flota_F3 <= 1 Integer"
            ]
          },
          "metadata": {},
          "execution_count": 14
        }
      ]
    },
    {
      "cell_type": "markdown",
      "source": [
        "### ---> Restricción 02. Cantidad de flotas disponibles"
      ],
      "metadata": {
        "id": "viZl_eqtRbK-"
      }
    },
    {
      "cell_type": "code",
      "source": [
        "Flotas"
      ],
      "metadata": {
        "id": "NAcoGSMASYh1",
        "outputId": "ef9e3c8e-c56d-4c8b-9b39-e2a4e9aa878e",
        "colab": {
          "base_uri": "https://localhost:8080/"
        }
      },
      "execution_count": 15,
      "outputs": [
        {
          "output_type": "execute_result",
          "data": {
            "text/plain": [
              "['F0', 'F1', 'F2', 'F3']"
            ]
          },
          "metadata": {},
          "execution_count": 15
        }
      ]
    },
    {
      "cell_type": "code",
      "source": [
        "Flotas_Cantidad"
      ],
      "metadata": {
        "id": "gytat0VUSWDn",
        "outputId": "bdf91e2b-3949-4905-92b6-bd6af4f63980",
        "colab": {
          "base_uri": "https://localhost:8080/"
        }
      },
      "execution_count": 16,
      "outputs": [
        {
          "output_type": "execute_result",
          "data": {
            "text/plain": [
              "[10, 20, 30, 40]"
            ]
          },
          "metadata": {},
          "execution_count": 16
        }
      ]
    },
    {
      "cell_type": "code",
      "source": [
        "for j in range(len(Flotas)):\n",
        "  prob += pulp.lpSum(x[i][j] for i in range(len(Lineas))) <= Flotas_Cantidad[j],'Restriccion 02 Cantidad Flota para {}'.format(Flotas[j])"
      ],
      "metadata": {
        "id": "lRMkAS-BLmtv"
      },
      "execution_count": 17,
      "outputs": []
    },
    {
      "cell_type": "code",
      "source": [
        "prob"
      ],
      "metadata": {
        "id": "x-5nT65CM7aj",
        "outputId": "49dafbe3-8789-4bf9-eda0-ee75fc1779cf",
        "colab": {
          "base_uri": "https://localhost:8080/"
        }
      },
      "execution_count": 18,
      "outputs": [
        {
          "output_type": "execute_result",
          "data": {
            "text/plain": [
              "Test_Case:\n",
              "MINIMIZE\n",
              "100*x_Linea_L0_con_Flota_F0 + 47*x_Linea_L0_con_Flota_F1 + 81*x_Linea_L0_con_Flota_F2 + 50*x_Linea_L0_con_Flota_F3 + 51*x_Linea_L1_con_Flota_F0 + 200*x_Linea_L1_con_Flota_F1 + 64*x_Linea_L1_con_Flota_F2 + 47*x_Linea_L1_con_Flota_F3 + 79*x_Linea_L2_con_Flota_F0 + 79*x_Linea_L2_con_Flota_F1 + 300*x_Linea_L2_con_Flota_F2 + 94*x_Linea_L2_con_Flota_F3 + 45*x_Linea_L3_con_Flota_F0 + 59*x_Linea_L3_con_Flota_F1 + 94*x_Linea_L3_con_Flota_F2 + 400*x_Linea_L3_con_Flota_F3 + 125*x_Linea_L4_con_Flota_F0 + 125*x_Linea_L4_con_Flota_F1 + 79*x_Linea_L4_con_Flota_F2 + 139*x_Linea_L4_con_Flota_F3 + 119*x_Linea_L5_con_Flota_F0 + 149*x_Linea_L5_con_Flota_F1 + 279*x_Linea_L5_con_Flota_F2 + 125*x_Linea_L5_con_Flota_F3 + 0\n",
              "SUBJECT TO\n",
              "Restriccion_01_Unica_flota_para_L0: x_Linea_L0_con_Flota_F0\n",
              " + x_Linea_L0_con_Flota_F1 + x_Linea_L0_con_Flota_F2 + x_Linea_L0_con_Flota_F3\n",
              " = 1\n",
              "\n",
              "Restriccion_01_Unica_flota_para_L1: x_Linea_L1_con_Flota_F0\n",
              " + x_Linea_L1_con_Flota_F1 + x_Linea_L1_con_Flota_F2 + x_Linea_L1_con_Flota_F3\n",
              " = 1\n",
              "\n",
              "Restriccion_01_Unica_flota_para_L2: x_Linea_L2_con_Flota_F0\n",
              " + x_Linea_L2_con_Flota_F1 + x_Linea_L2_con_Flota_F2 + x_Linea_L2_con_Flota_F3\n",
              " = 1\n",
              "\n",
              "Restriccion_01_Unica_flota_para_L3: x_Linea_L3_con_Flota_F0\n",
              " + x_Linea_L3_con_Flota_F1 + x_Linea_L3_con_Flota_F2 + x_Linea_L3_con_Flota_F3\n",
              " = 1\n",
              "\n",
              "Restriccion_01_Unica_flota_para_L4: x_Linea_L4_con_Flota_F0\n",
              " + x_Linea_L4_con_Flota_F1 + x_Linea_L4_con_Flota_F2 + x_Linea_L4_con_Flota_F3\n",
              " = 1\n",
              "\n",
              "Restriccion_01_Unica_flota_para_L5: x_Linea_L5_con_Flota_F0\n",
              " + x_Linea_L5_con_Flota_F1 + x_Linea_L5_con_Flota_F2 + x_Linea_L5_con_Flota_F3\n",
              " = 1\n",
              "\n",
              "Restriccion_02_Cantidad_Flota_para_F0: x_Linea_L0_con_Flota_F0\n",
              " + x_Linea_L1_con_Flota_F0 + x_Linea_L2_con_Flota_F0 + x_Linea_L3_con_Flota_F0\n",
              " + x_Linea_L4_con_Flota_F0 + x_Linea_L5_con_Flota_F0 <= 10\n",
              "\n",
              "Restriccion_02_Cantidad_Flota_para_F1: x_Linea_L0_con_Flota_F1\n",
              " + x_Linea_L1_con_Flota_F1 + x_Linea_L2_con_Flota_F1 + x_Linea_L3_con_Flota_F1\n",
              " + x_Linea_L4_con_Flota_F1 + x_Linea_L5_con_Flota_F1 <= 20\n",
              "\n",
              "Restriccion_02_Cantidad_Flota_para_F2: x_Linea_L0_con_Flota_F2\n",
              " + x_Linea_L1_con_Flota_F2 + x_Linea_L2_con_Flota_F2 + x_Linea_L3_con_Flota_F2\n",
              " + x_Linea_L4_con_Flota_F2 + x_Linea_L5_con_Flota_F2 <= 30\n",
              "\n",
              "Restriccion_02_Cantidad_Flota_para_F3: x_Linea_L0_con_Flota_F3\n",
              " + x_Linea_L1_con_Flota_F3 + x_Linea_L2_con_Flota_F3 + x_Linea_L3_con_Flota_F3\n",
              " + x_Linea_L4_con_Flota_F3 + x_Linea_L5_con_Flota_F3 <= 40\n",
              "\n",
              "VARIABLES\n",
              "0 <= x_Linea_L0_con_Flota_F0 <= 1 Integer\n",
              "0 <= x_Linea_L0_con_Flota_F1 <= 1 Integer\n",
              "0 <= x_Linea_L0_con_Flota_F2 <= 1 Integer\n",
              "0 <= x_Linea_L0_con_Flota_F3 <= 1 Integer\n",
              "0 <= x_Linea_L1_con_Flota_F0 <= 1 Integer\n",
              "0 <= x_Linea_L1_con_Flota_F1 <= 1 Integer\n",
              "0 <= x_Linea_L1_con_Flota_F2 <= 1 Integer\n",
              "0 <= x_Linea_L1_con_Flota_F3 <= 1 Integer\n",
              "0 <= x_Linea_L2_con_Flota_F0 <= 1 Integer\n",
              "0 <= x_Linea_L2_con_Flota_F1 <= 1 Integer\n",
              "0 <= x_Linea_L2_con_Flota_F2 <= 1 Integer\n",
              "0 <= x_Linea_L2_con_Flota_F3 <= 1 Integer\n",
              "0 <= x_Linea_L3_con_Flota_F0 <= 1 Integer\n",
              "0 <= x_Linea_L3_con_Flota_F1 <= 1 Integer\n",
              "0 <= x_Linea_L3_con_Flota_F2 <= 1 Integer\n",
              "0 <= x_Linea_L3_con_Flota_F3 <= 1 Integer\n",
              "0 <= x_Linea_L4_con_Flota_F0 <= 1 Integer\n",
              "0 <= x_Linea_L4_con_Flota_F1 <= 1 Integer\n",
              "0 <= x_Linea_L4_con_Flota_F2 <= 1 Integer\n",
              "0 <= x_Linea_L4_con_Flota_F3 <= 1 Integer\n",
              "0 <= x_Linea_L5_con_Flota_F0 <= 1 Integer\n",
              "0 <= x_Linea_L5_con_Flota_F1 <= 1 Integer\n",
              "0 <= x_Linea_L5_con_Flota_F2 <= 1 Integer\n",
              "0 <= x_Linea_L5_con_Flota_F3 <= 1 Integer"
            ]
          },
          "metadata": {},
          "execution_count": 18
        }
      ]
    },
    {
      "cell_type": "markdown",
      "source": [
        "### ---> Restricción 03. Flotas restringidas para ciertas líneas"
      ],
      "metadata": {
        "id": "mE2jG2uWSFdO"
      }
    },
    {
      "cell_type": "code",
      "source": [
        "Flotas_restringidas"
      ],
      "metadata": {
        "id": "H-xhwwOgSS_0",
        "outputId": "605f8293-88d1-4b9b-b3a8-f4ce9899bd6d",
        "colab": {
          "base_uri": "https://localhost:8080/"
        }
      },
      "execution_count": 19,
      "outputs": [
        {
          "output_type": "execute_result",
          "data": {
            "text/plain": [
              "{'F0': ['L0', 'L1', 'L2'], 'F1': ['L4'], 'F3': ['L4', 'L5']}"
            ]
          },
          "metadata": {},
          "execution_count": 19
        }
      ]
    },
    {
      "cell_type": "code",
      "source": [
        "for flota in Flotas_restringidas:\n",
        "  for linea in Flotas_restringidas[flota]:\n",
        "    prob += pulp.lpSum(x[Lineas.index(linea)][Flotas.index(flota)]) == 0,'Restriccion 03 Flota {} Linea {}'.format(flota, linea)"
      ],
      "metadata": {
        "id": "RiJ14ZrxL9H4"
      },
      "execution_count": 20,
      "outputs": []
    },
    {
      "cell_type": "code",
      "source": [
        "prob"
      ],
      "metadata": {
        "id": "QRn1x1RGMLMw",
        "outputId": "c4d3f9cc-1ad0-4ed0-a8e3-d5d1b1b5cfb7",
        "colab": {
          "base_uri": "https://localhost:8080/"
        }
      },
      "execution_count": 21,
      "outputs": [
        {
          "output_type": "execute_result",
          "data": {
            "text/plain": [
              "Test_Case:\n",
              "MINIMIZE\n",
              "100*x_Linea_L0_con_Flota_F0 + 47*x_Linea_L0_con_Flota_F1 + 81*x_Linea_L0_con_Flota_F2 + 50*x_Linea_L0_con_Flota_F3 + 51*x_Linea_L1_con_Flota_F0 + 200*x_Linea_L1_con_Flota_F1 + 64*x_Linea_L1_con_Flota_F2 + 47*x_Linea_L1_con_Flota_F3 + 79*x_Linea_L2_con_Flota_F0 + 79*x_Linea_L2_con_Flota_F1 + 300*x_Linea_L2_con_Flota_F2 + 94*x_Linea_L2_con_Flota_F3 + 45*x_Linea_L3_con_Flota_F0 + 59*x_Linea_L3_con_Flota_F1 + 94*x_Linea_L3_con_Flota_F2 + 400*x_Linea_L3_con_Flota_F3 + 125*x_Linea_L4_con_Flota_F0 + 125*x_Linea_L4_con_Flota_F1 + 79*x_Linea_L4_con_Flota_F2 + 139*x_Linea_L4_con_Flota_F3 + 119*x_Linea_L5_con_Flota_F0 + 149*x_Linea_L5_con_Flota_F1 + 279*x_Linea_L5_con_Flota_F2 + 125*x_Linea_L5_con_Flota_F3 + 0\n",
              "SUBJECT TO\n",
              "Restriccion_01_Unica_flota_para_L0: x_Linea_L0_con_Flota_F0\n",
              " + x_Linea_L0_con_Flota_F1 + x_Linea_L0_con_Flota_F2 + x_Linea_L0_con_Flota_F3\n",
              " = 1\n",
              "\n",
              "Restriccion_01_Unica_flota_para_L1: x_Linea_L1_con_Flota_F0\n",
              " + x_Linea_L1_con_Flota_F1 + x_Linea_L1_con_Flota_F2 + x_Linea_L1_con_Flota_F3\n",
              " = 1\n",
              "\n",
              "Restriccion_01_Unica_flota_para_L2: x_Linea_L2_con_Flota_F0\n",
              " + x_Linea_L2_con_Flota_F1 + x_Linea_L2_con_Flota_F2 + x_Linea_L2_con_Flota_F3\n",
              " = 1\n",
              "\n",
              "Restriccion_01_Unica_flota_para_L3: x_Linea_L3_con_Flota_F0\n",
              " + x_Linea_L3_con_Flota_F1 + x_Linea_L3_con_Flota_F2 + x_Linea_L3_con_Flota_F3\n",
              " = 1\n",
              "\n",
              "Restriccion_01_Unica_flota_para_L4: x_Linea_L4_con_Flota_F0\n",
              " + x_Linea_L4_con_Flota_F1 + x_Linea_L4_con_Flota_F2 + x_Linea_L4_con_Flota_F3\n",
              " = 1\n",
              "\n",
              "Restriccion_01_Unica_flota_para_L5: x_Linea_L5_con_Flota_F0\n",
              " + x_Linea_L5_con_Flota_F1 + x_Linea_L5_con_Flota_F2 + x_Linea_L5_con_Flota_F3\n",
              " = 1\n",
              "\n",
              "Restriccion_02_Cantidad_Flota_para_F0: x_Linea_L0_con_Flota_F0\n",
              " + x_Linea_L1_con_Flota_F0 + x_Linea_L2_con_Flota_F0 + x_Linea_L3_con_Flota_F0\n",
              " + x_Linea_L4_con_Flota_F0 + x_Linea_L5_con_Flota_F0 <= 10\n",
              "\n",
              "Restriccion_02_Cantidad_Flota_para_F1: x_Linea_L0_con_Flota_F1\n",
              " + x_Linea_L1_con_Flota_F1 + x_Linea_L2_con_Flota_F1 + x_Linea_L3_con_Flota_F1\n",
              " + x_Linea_L4_con_Flota_F1 + x_Linea_L5_con_Flota_F1 <= 20\n",
              "\n",
              "Restriccion_02_Cantidad_Flota_para_F2: x_Linea_L0_con_Flota_F2\n",
              " + x_Linea_L1_con_Flota_F2 + x_Linea_L2_con_Flota_F2 + x_Linea_L3_con_Flota_F2\n",
              " + x_Linea_L4_con_Flota_F2 + x_Linea_L5_con_Flota_F2 <= 30\n",
              "\n",
              "Restriccion_02_Cantidad_Flota_para_F3: x_Linea_L0_con_Flota_F3\n",
              " + x_Linea_L1_con_Flota_F3 + x_Linea_L2_con_Flota_F3 + x_Linea_L3_con_Flota_F3\n",
              " + x_Linea_L4_con_Flota_F3 + x_Linea_L5_con_Flota_F3 <= 40\n",
              "\n",
              "Restriccion_03_Flota_F0_Linea_L0: x_Linea_L0_con_Flota_F0 = 0\n",
              "\n",
              "Restriccion_03_Flota_F0_Linea_L1: x_Linea_L1_con_Flota_F0 = 0\n",
              "\n",
              "Restriccion_03_Flota_F0_Linea_L2: x_Linea_L2_con_Flota_F0 = 0\n",
              "\n",
              "Restriccion_03_Flota_F1_Linea_L4: x_Linea_L4_con_Flota_F1 = 0\n",
              "\n",
              "Restriccion_03_Flota_F3_Linea_L4: x_Linea_L4_con_Flota_F3 = 0\n",
              "\n",
              "Restriccion_03_Flota_F3_Linea_L5: x_Linea_L5_con_Flota_F3 = 0\n",
              "\n",
              "VARIABLES\n",
              "0 <= x_Linea_L0_con_Flota_F0 <= 1 Integer\n",
              "0 <= x_Linea_L0_con_Flota_F1 <= 1 Integer\n",
              "0 <= x_Linea_L0_con_Flota_F2 <= 1 Integer\n",
              "0 <= x_Linea_L0_con_Flota_F3 <= 1 Integer\n",
              "0 <= x_Linea_L1_con_Flota_F0 <= 1 Integer\n",
              "0 <= x_Linea_L1_con_Flota_F1 <= 1 Integer\n",
              "0 <= x_Linea_L1_con_Flota_F2 <= 1 Integer\n",
              "0 <= x_Linea_L1_con_Flota_F3 <= 1 Integer\n",
              "0 <= x_Linea_L2_con_Flota_F0 <= 1 Integer\n",
              "0 <= x_Linea_L2_con_Flota_F1 <= 1 Integer\n",
              "0 <= x_Linea_L2_con_Flota_F2 <= 1 Integer\n",
              "0 <= x_Linea_L2_con_Flota_F3 <= 1 Integer\n",
              "0 <= x_Linea_L3_con_Flota_F0 <= 1 Integer\n",
              "0 <= x_Linea_L3_con_Flota_F1 <= 1 Integer\n",
              "0 <= x_Linea_L3_con_Flota_F2 <= 1 Integer\n",
              "0 <= x_Linea_L3_con_Flota_F3 <= 1 Integer\n",
              "0 <= x_Linea_L4_con_Flota_F0 <= 1 Integer\n",
              "0 <= x_Linea_L4_con_Flota_F1 <= 1 Integer\n",
              "0 <= x_Linea_L4_con_Flota_F2 <= 1 Integer\n",
              "0 <= x_Linea_L4_con_Flota_F3 <= 1 Integer\n",
              "0 <= x_Linea_L5_con_Flota_F0 <= 1 Integer\n",
              "0 <= x_Linea_L5_con_Flota_F1 <= 1 Integer\n",
              "0 <= x_Linea_L5_con_Flota_F2 <= 1 Integer\n",
              "0 <= x_Linea_L5_con_Flota_F3 <= 1 Integer"
            ]
          },
          "metadata": {},
          "execution_count": 21
        }
      ]
    },
    {
      "cell_type": "markdown",
      "source": [
        "# 03. Solución del problema"
      ],
      "metadata": {
        "id": "f_GyTArgTD5U"
      }
    },
    {
      "cell_type": "code",
      "source": [
        "prob.solve()"
      ],
      "metadata": {
        "id": "OJcjYCjDTDe1",
        "outputId": "a8350e43-2d99-4e60-94f8-8d89792fe6f4",
        "colab": {
          "base_uri": "https://localhost:8080/"
        }
      },
      "execution_count": 22,
      "outputs": [
        {
          "output_type": "execute_result",
          "data": {
            "text/plain": [
              "1"
            ]
          },
          "metadata": {},
          "execution_count": 22
        }
      ]
    },
    {
      "cell_type": "code",
      "source": [
        "print(\"Status:\", LpStatus[prob.status])"
      ],
      "metadata": {
        "id": "kPFyu6c7TDcd",
        "outputId": "bdda1217-520c-4d12-bdbe-543f67e87931",
        "colab": {
          "base_uri": "https://localhost:8080/"
        }
      },
      "execution_count": 66,
      "outputs": [
        {
          "output_type": "stream",
          "name": "stdout",
          "text": [
            "Status: Optimal\n"
          ]
        }
      ]
    },
    {
      "cell_type": "code",
      "source": [
        "df = pd.DataFrame(columns=[\"Variable\", \"Valor\"])\n",
        "\n",
        "for var in prob.variables():\n",
        "    df = df.append({\"Variable\": var.name, \"Valor\": value(var)}, ignore_index=True)\n",
        "\n",
        "df['Linea'] = df['Variable'].str.extract(r'_Linea_(.*?)_con_Flota_')\n",
        "df['Flota'] = df['Variable'].str.extract(r'_Flota_(.*?)$')\n",
        "df = df[['Linea', 'Flota']][df.Valor!=0].sort_values(by='Linea', ascending=True).reset_index(drop=True)\n",
        "df"
      ],
      "metadata": {
        "id": "9exEWJ5GdDig",
        "outputId": "7331780b-c886-481e-9b66-49639285eab0",
        "colab": {
          "base_uri": "https://localhost:8080/",
          "height": 237
        }
      },
      "execution_count": 69,
      "outputs": [
        {
          "output_type": "execute_result",
          "data": {
            "text/plain": [
              "  Linea Flota\n",
              "0    L0    F1\n",
              "1    L1    F3\n",
              "2    L2    F1\n",
              "3    L3    F0\n",
              "4    L4    F2\n",
              "5    L5    F0"
            ],
            "text/html": [
              "\n",
              "  <div id=\"df-03f4838c-3b1a-448b-8016-fe47a43cde6a\">\n",
              "    <div class=\"colab-df-container\">\n",
              "      <div>\n",
              "<style scoped>\n",
              "    .dataframe tbody tr th:only-of-type {\n",
              "        vertical-align: middle;\n",
              "    }\n",
              "\n",
              "    .dataframe tbody tr th {\n",
              "        vertical-align: top;\n",
              "    }\n",
              "\n",
              "    .dataframe thead th {\n",
              "        text-align: right;\n",
              "    }\n",
              "</style>\n",
              "<table border=\"1\" class=\"dataframe\">\n",
              "  <thead>\n",
              "    <tr style=\"text-align: right;\">\n",
              "      <th></th>\n",
              "      <th>Linea</th>\n",
              "      <th>Flota</th>\n",
              "    </tr>\n",
              "  </thead>\n",
              "  <tbody>\n",
              "    <tr>\n",
              "      <th>0</th>\n",
              "      <td>L0</td>\n",
              "      <td>F1</td>\n",
              "    </tr>\n",
              "    <tr>\n",
              "      <th>1</th>\n",
              "      <td>L1</td>\n",
              "      <td>F3</td>\n",
              "    </tr>\n",
              "    <tr>\n",
              "      <th>2</th>\n",
              "      <td>L2</td>\n",
              "      <td>F1</td>\n",
              "    </tr>\n",
              "    <tr>\n",
              "      <th>3</th>\n",
              "      <td>L3</td>\n",
              "      <td>F0</td>\n",
              "    </tr>\n",
              "    <tr>\n",
              "      <th>4</th>\n",
              "      <td>L4</td>\n",
              "      <td>F2</td>\n",
              "    </tr>\n",
              "    <tr>\n",
              "      <th>5</th>\n",
              "      <td>L5</td>\n",
              "      <td>F0</td>\n",
              "    </tr>\n",
              "  </tbody>\n",
              "</table>\n",
              "</div>\n",
              "      <button class=\"colab-df-convert\" onclick=\"convertToInteractive('df-03f4838c-3b1a-448b-8016-fe47a43cde6a')\"\n",
              "              title=\"Convert this dataframe to an interactive table.\"\n",
              "              style=\"display:none;\">\n",
              "        \n",
              "  <svg xmlns=\"http://www.w3.org/2000/svg\" height=\"24px\"viewBox=\"0 0 24 24\"\n",
              "       width=\"24px\">\n",
              "    <path d=\"M0 0h24v24H0V0z\" fill=\"none\"/>\n",
              "    <path d=\"M18.56 5.44l.94 2.06.94-2.06 2.06-.94-2.06-.94-.94-2.06-.94 2.06-2.06.94zm-11 1L8.5 8.5l.94-2.06 2.06-.94-2.06-.94L8.5 2.5l-.94 2.06-2.06.94zm10 10l.94 2.06.94-2.06 2.06-.94-2.06-.94-.94-2.06-.94 2.06-2.06.94z\"/><path d=\"M17.41 7.96l-1.37-1.37c-.4-.4-.92-.59-1.43-.59-.52 0-1.04.2-1.43.59L10.3 9.45l-7.72 7.72c-.78.78-.78 2.05 0 2.83L4 21.41c.39.39.9.59 1.41.59.51 0 1.02-.2 1.41-.59l7.78-7.78 2.81-2.81c.8-.78.8-2.07 0-2.86zM5.41 20L4 18.59l7.72-7.72 1.47 1.35L5.41 20z\"/>\n",
              "  </svg>\n",
              "      </button>\n",
              "      \n",
              "  <style>\n",
              "    .colab-df-container {\n",
              "      display:flex;\n",
              "      flex-wrap:wrap;\n",
              "      gap: 12px;\n",
              "    }\n",
              "\n",
              "    .colab-df-convert {\n",
              "      background-color: #E8F0FE;\n",
              "      border: none;\n",
              "      border-radius: 50%;\n",
              "      cursor: pointer;\n",
              "      display: none;\n",
              "      fill: #1967D2;\n",
              "      height: 32px;\n",
              "      padding: 0 0 0 0;\n",
              "      width: 32px;\n",
              "    }\n",
              "\n",
              "    .colab-df-convert:hover {\n",
              "      background-color: #E2EBFA;\n",
              "      box-shadow: 0px 1px 2px rgba(60, 64, 67, 0.3), 0px 1px 3px 1px rgba(60, 64, 67, 0.15);\n",
              "      fill: #174EA6;\n",
              "    }\n",
              "\n",
              "    [theme=dark] .colab-df-convert {\n",
              "      background-color: #3B4455;\n",
              "      fill: #D2E3FC;\n",
              "    }\n",
              "\n",
              "    [theme=dark] .colab-df-convert:hover {\n",
              "      background-color: #434B5C;\n",
              "      box-shadow: 0px 1px 3px 1px rgba(0, 0, 0, 0.15);\n",
              "      filter: drop-shadow(0px 1px 2px rgba(0, 0, 0, 0.3));\n",
              "      fill: #FFFFFF;\n",
              "    }\n",
              "  </style>\n",
              "\n",
              "      <script>\n",
              "        const buttonEl =\n",
              "          document.querySelector('#df-03f4838c-3b1a-448b-8016-fe47a43cde6a button.colab-df-convert');\n",
              "        buttonEl.style.display =\n",
              "          google.colab.kernel.accessAllowed ? 'block' : 'none';\n",
              "\n",
              "        async function convertToInteractive(key) {\n",
              "          const element = document.querySelector('#df-03f4838c-3b1a-448b-8016-fe47a43cde6a');\n",
              "          const dataTable =\n",
              "            await google.colab.kernel.invokeFunction('convertToInteractive',\n",
              "                                                     [key], {});\n",
              "          if (!dataTable) return;\n",
              "\n",
              "          const docLinkHtml = 'Like what you see? Visit the ' +\n",
              "            '<a target=\"_blank\" href=https://colab.research.google.com/notebooks/data_table.ipynb>data table notebook</a>'\n",
              "            + ' to learn more about interactive tables.';\n",
              "          element.innerHTML = '';\n",
              "          dataTable['output_type'] = 'display_data';\n",
              "          await google.colab.output.renderOutput(dataTable, element);\n",
              "          const docLink = document.createElement('div');\n",
              "          docLink.innerHTML = docLinkHtml;\n",
              "          element.appendChild(docLink);\n",
              "        }\n",
              "      </script>\n",
              "    </div>\n",
              "  </div>\n",
              "  "
            ]
          },
          "metadata": {},
          "execution_count": 69
        }
      ]
    },
    {
      "cell_type": "code",
      "source": [
        "print('El costo mínimo es:', value(prob.objective))"
      ],
      "metadata": {
        "id": "AEq0DtUUD4ka",
        "outputId": "3aff6c84-9efd-410a-a641-0c091467d6a8",
        "colab": {
          "base_uri": "https://localhost:8080/"
        }
      },
      "execution_count": 74,
      "outputs": [
        {
          "output_type": "stream",
          "name": "stdout",
          "text": [
            "El costo mínimo es: 416.0\n"
          ]
        }
      ]
    }
  ],
  "metadata": {
    "kernelspec": {
      "display_name": "Python 3",
      "language": "python",
      "name": "python3"
    },
    "language_info": {
      "codemirror_mode": {
        "name": "ipython",
        "version": 3
      },
      "file_extension": ".py",
      "mimetype": "text/x-python",
      "name": "python",
      "nbconvert_exporter": "python",
      "pygments_lexer": "ipython3",
      "version": "3.7.6"
    },
    "colab": {
      "provenance": [],
      "toc_visible": true,
      "include_colab_link": true
    }
  },
  "nbformat": 4,
  "nbformat_minor": 0
}