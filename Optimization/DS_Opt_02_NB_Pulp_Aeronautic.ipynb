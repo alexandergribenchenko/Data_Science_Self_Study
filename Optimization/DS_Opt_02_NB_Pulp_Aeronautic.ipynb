{
  "cells": [
    {
      "cell_type": "markdown",
      "metadata": {
        "id": "view-in-github",
        "colab_type": "text"
      },
      "source": [
        "<a href=\"https://colab.research.google.com/github/alexandergribenchenko/Data_Science_Toolkit/blob/main/Optimization/DS_Opt_02_NB_Pulp_Aeronautic.ipynb\" target=\"_parent\"><img src=\"https://colab.research.google.com/assets/colab-badge.svg\" alt=\"Open In Colab\"/></a>"
      ]
    },
    {
      "cell_type": "markdown",
      "source": [
        "# A. Librerías"
      ],
      "metadata": {
        "id": "tp02kgE_AVz8"
      }
    },
    {
      "cell_type": "code",
      "source": [
        "!pip install pulp"
      ],
      "metadata": {
        "id": "u_d_FzdcAd2f",
        "outputId": "4fcc8259-c955-474f-fa46-9b7e12a4da8d",
        "colab": {
          "base_uri": "https://localhost:8080/"
        }
      },
      "execution_count": null,
      "outputs": [
        {
          "output_type": "stream",
          "name": "stdout",
          "text": [
            "Looking in indexes: https://pypi.org/simple, https://us-python.pkg.dev/colab-wheels/public/simple/\n",
            "Requirement already satisfied: pulp in /usr/local/lib/python3.8/dist-packages (2.7.0)\n"
          ]
        }
      ]
    },
    {
      "cell_type": "code",
      "source": [
        "import pandas as pd\n",
        "from pulp import *"
      ],
      "metadata": {
        "id": "uX5UQfBUAVA2"
      },
      "execution_count": null,
      "outputs": []
    },
    {
      "cell_type": "markdown",
      "source": [
        "# 01. Problema Ejemplo 01"
      ],
      "metadata": {
        "application/vnd.databricks.v1+cell": {
          "showTitle": false,
          "cellMetadata": {},
          "nuid": "060bcbf1-d54d-407c-8a86-ac5fdf149939",
          "inputWidgets": {},
          "title": ""
        },
        "id": "UeCJ8O6M_pu_"
      }
    },
    {
      "cell_type": "markdown",
      "source": [
        "## 01.01.Planteamiento"
      ],
      "metadata": {
        "application/vnd.databricks.v1+cell": {
          "showTitle": false,
          "cellMetadata": {},
          "nuid": "bcc3fbbf-1b41-47f7-b0e4-3cef3131ca81",
          "inputWidgets": {},
          "title": ""
        },
        "id": "FsM9fyV1_pvD"
      }
    },
    {
      "cell_type": "markdown",
      "source": [
        "[Fuente del problema](https://www.ingenieriaindustrialonline.com/investigacion-de-operaciones/ejercicios-de-programacion-lineal/)"
      ],
      "metadata": {
        "application/vnd.databricks.v1+cell": {
          "showTitle": false,
          "cellMetadata": {},
          "nuid": "2a23fc6d-20f1-4bcc-bec2-f61054c48343",
          "inputWidgets": {},
          "title": ""
        },
        "id": "U5Kg7ycW_pvE"
      }
    },
    {
      "cell_type": "markdown",
      "source": [
        "Un herrero con 80 Kg de acero y 120 Kg de aluminio quiere hacer bicicletas de paseo y de montaña que quiere vender, respectivamente a 20.000 y 15.000 pesos cada una para sacar el máximo beneficio. Para la de paseo empleará 1 Kg De acero y 3 Kg de aluminio, y para la de montaña 2 Kg de ambos metales. La cantida total de acero con que cuenta es 80 Kg y la cantidad total de Aluminio es 120 Kg. \n",
        "\n",
        "¿Cuántas bicicletas de paseo y de montaña deberá fabricar para maximizar las utilidades?"
      ],
      "metadata": {
        "application/vnd.databricks.v1+cell": {
          "showTitle": false,
          "cellMetadata": {},
          "nuid": "2e289cab-789b-43e8-bdc6-5a614d4da6dd",
          "inputWidgets": {},
          "title": ""
        },
        "id": "4A6O6doD_pvE"
      }
    },
    {
      "cell_type": "markdown",
      "source": [
        "|\t|Requerimiento de materiales| |\t\tPrecio de venta|\n",
        "|-|:----:|-|-|\n",
        "|\t              |Acero (Kg)|\tAluminio (Kg)|\t\n",
        "|Bicicleta paseo  |\t1        |\t3|\t20000|\n",
        "|Bicicleta montaña|\t2        |\t2|\t15000|\n",
        "|Total material   |\t80       |\t120|\t |"
      ],
      "metadata": {
        "application/vnd.databricks.v1+cell": {
          "showTitle": false,
          "cellMetadata": {},
          "nuid": "09c7c194-49b4-4b89-a022-1cbee0f0b5f1",
          "inputWidgets": {},
          "title": ""
        },
        "id": "1DzGB5sj_pvF"
      }
    },
    {
      "cell_type": "markdown",
      "source": [
        "#### Definición de las variables\n",
        "- **X** = Cantidad de bicicletas de paseo a producir\n",
        "- **Y** = Cantidad de bicicletas de montaña a producir"
      ],
      "metadata": {
        "application/vnd.databricks.v1+cell": {
          "showTitle": false,
          "cellMetadata": {},
          "nuid": "adb5c103-bdb2-4e93-8fa1-2eba1c8bf45e",
          "inputWidgets": {},
          "title": ""
        },
        "id": "n5OlkxEI_pvF"
      }
    },
    {
      "cell_type": "markdown",
      "source": [
        "#### Función objetivo\n",
        "\n",
        "- Zmax = 20000X + 15000Y"
      ],
      "metadata": {
        "application/vnd.databricks.v1+cell": {
          "showTitle": false,
          "cellMetadata": {},
          "nuid": "6017a198-09ba-434f-918e-9eec07e876c7",
          "inputWidgets": {},
          "title": ""
        },
        "id": "qkhlZh5r_pvF"
      }
    },
    {
      "cell_type": "markdown",
      "source": [
        "#### Restricciones\n",
        "\n",
        "- X + 2Y <= 80 (Disponibilidad de acero)\n",
        "- 3X + 2Y <= 120 (Disponibilidad de aluminio)\n",
        "- X; Y >= 0 (Restricciones de NO negatividad)"
      ],
      "metadata": {
        "application/vnd.databricks.v1+cell": {
          "showTitle": false,
          "cellMetadata": {},
          "nuid": "37fbf16a-b3a4-4944-8518-d4b5dc4c4dc3",
          "inputWidgets": {},
          "title": ""
        },
        "id": "Qvf0J_gW_pvG"
      }
    },
    {
      "cell_type": "code",
      "source": [
        "problema_bicicletas = LpProblem('Bicicletas', LpMaximize)\n",
        "problema_bicicletas"
      ],
      "metadata": {
        "application/vnd.databricks.v1+cell": {
          "showTitle": false,
          "cellMetadata": {},
          "nuid": "a71ebcec-4a07-4787-b9a0-2aff294d9095",
          "inputWidgets": {},
          "title": ""
        },
        "id": "i8wr0ufW_pvI",
        "outputId": "38da184c-78bb-4b6b-98c9-77250f0afab6",
        "colab": {
          "base_uri": "https://localhost:8080/"
        }
      },
      "outputs": [
        {
          "output_type": "execute_result",
          "data": {
            "text/plain": [
              "Bicicletas:\n",
              "MAXIMIZE\n",
              "None\n",
              "VARIABLES"
            ]
          },
          "metadata": {},
          "execution_count": 3
        }
      ],
      "execution_count": null
    },
    {
      "cell_type": "code",
      "source": [
        "origen = ['bic_paseo','bic_montaña']\n",
        "destino = ['venta'] "
      ],
      "metadata": {
        "application/vnd.databricks.v1+cell": {
          "showTitle": false,
          "cellMetadata": {},
          "nuid": "44a25304-5c6c-497d-a3bd-af3e10128d0a",
          "inputWidgets": {},
          "title": ""
        },
        "id": "uoBmEmfv_pvI"
      },
      "outputs": [],
      "execution_count": null
    },
    {
      "cell_type": "code",
      "source": [
        "rutas = [(i,j) for i in origen for j in destino] ### indicamos las rutas (aristas) del modelo\n",
        "rutas"
      ],
      "metadata": {
        "application/vnd.databricks.v1+cell": {
          "showTitle": false,
          "cellMetadata": {},
          "nuid": "7f71afac-90e3-4119-ad97-eb0484abfc5e",
          "inputWidgets": {},
          "title": ""
        },
        "id": "es38x-Nr_pvJ",
        "outputId": "f103e72b-fe97-4f16-c668-958cc94b5822",
        "colab": {
          "base_uri": "https://localhost:8080/"
        }
      },
      "outputs": [
        {
          "output_type": "execute_result",
          "data": {
            "text/plain": [
              "[('bic_paseo', 'venta'), ('bic_montaña', 'venta')]"
            ]
          },
          "metadata": {},
          "execution_count": 5
        }
      ],
      "execution_count": null
    },
    {
      "cell_type": "code",
      "source": [
        "cantidad = LpVariable.dicts('Cantidad', (origen, destino),0)\n",
        "cantidad"
      ],
      "metadata": {
        "application/vnd.databricks.v1+cell": {
          "showTitle": false,
          "cellMetadata": {},
          "nuid": "207d9a11-e391-4df8-b268-844d464becba",
          "inputWidgets": {},
          "title": ""
        },
        "id": "Lie8ovwL_pvJ",
        "outputId": "1745cf91-ef6a-4792-8717-0d835968f59e",
        "colab": {
          "base_uri": "https://localhost:8080/"
        }
      },
      "outputs": [
        {
          "output_type": "execute_result",
          "data": {
            "text/plain": [
              "{'bic_paseo': {'venta': Cantidad_bic_paseo_venta},\n",
              " 'bic_montaña': {'venta': Cantidad_bic_montaña_venta}}"
            ]
          },
          "metadata": {},
          "execution_count": 6
        }
      ],
      "execution_count": null
    },
    {
      "cell_type": "code",
      "source": [
        "origen"
      ],
      "metadata": {
        "application/vnd.databricks.v1+cell": {
          "showTitle": false,
          "cellMetadata": {},
          "nuid": "2a249f0e-8a93-43c6-bab8-e8af046f39ca",
          "inputWidgets": {},
          "title": ""
        },
        "id": "EIsvpfgK_pvJ",
        "outputId": "ffa6fc93-eee5-4b69-be28-0305eababa7e",
        "colab": {
          "base_uri": "https://localhost:8080/"
        }
      },
      "outputs": [
        {
          "output_type": "execute_result",
          "data": {
            "text/plain": [
              "['bic_paseo', 'bic_montaña']"
            ]
          },
          "metadata": {},
          "execution_count": 7
        }
      ],
      "execution_count": null
    },
    {
      "cell_type": "code",
      "source": [
        "valor_venta = {'bic_paseo':{'venta': 20000},\n",
        "               'bic_montaña':{'venta': 15000}}\n",
        "valor_venta"
      ],
      "metadata": {
        "application/vnd.databricks.v1+cell": {
          "showTitle": false,
          "cellMetadata": {},
          "nuid": "7ace62e5-5e39-40a2-bf9d-34870d459c05",
          "inputWidgets": {},
          "title": ""
        },
        "id": "4s-CX2Vw_pvJ",
        "outputId": "fd1737aa-abd1-442c-e5a1-3b9afd52507f",
        "colab": {
          "base_uri": "https://localhost:8080/"
        }
      },
      "outputs": [
        {
          "output_type": "execute_result",
          "data": {
            "text/plain": [
              "{'bic_paseo': {'venta': 20000}, 'bic_montaña': {'venta': 15000}}"
            ]
          },
          "metadata": {},
          "execution_count": 8
        }
      ],
      "execution_count": null
    },
    {
      "cell_type": "code",
      "source": [
        "problema_bicicletas += lpSum(cantidad[i][j]*valor_venta[i][j] for (i,j) in rutas)\n",
        "problema_bicicletas"
      ],
      "metadata": {
        "application/vnd.databricks.v1+cell": {
          "showTitle": false,
          "cellMetadata": {},
          "nuid": "6e00a321-fa41-4f36-9175-c547610be468",
          "inputWidgets": {},
          "title": ""
        },
        "id": "3FJ1WUz__pvK",
        "outputId": "0093005b-b8db-4f56-c6d7-7e67b474c8dc",
        "colab": {
          "base_uri": "https://localhost:8080/"
        }
      },
      "outputs": [
        {
          "output_type": "execute_result",
          "data": {
            "text/plain": [
              "Bicicletas:\n",
              "MAXIMIZE\n",
              "15000*Cantidad_bic_montaña_venta + 20000*Cantidad_bic_paseo_venta + 0\n",
              "VARIABLES\n",
              "Cantidad_bic_montaña_venta Continuous\n",
              "Cantidad_bic_paseo_venta Continuous"
            ]
          },
          "metadata": {},
          "execution_count": 9
        }
      ],
      "execution_count": null
    },
    {
      "cell_type": "code",
      "source": [
        "acero_total = {'venta': 80}"
      ],
      "metadata": {
        "application/vnd.databricks.v1+cell": {
          "showTitle": false,
          "cellMetadata": {},
          "nuid": "316151d5-459f-4009-8945-3eb6323af21b",
          "inputWidgets": {},
          "title": ""
        },
        "id": "LxSy4eRj_pvK"
      },
      "outputs": [],
      "execution_count": null
    },
    {
      "cell_type": "code",
      "source": [
        "aluminio_total = {'venta': 120}"
      ],
      "metadata": {
        "application/vnd.databricks.v1+cell": {
          "showTitle": false,
          "cellMetadata": {},
          "nuid": "d607020a-01a2-4cfb-8ce3-db0dcdd90757",
          "inputWidgets": {},
          "title": ""
        },
        "id": "PPewGanX_pvK"
      },
      "outputs": [],
      "execution_count": null
    },
    {
      "cell_type": "code",
      "source": [
        "destino"
      ],
      "metadata": {
        "application/vnd.databricks.v1+cell": {
          "showTitle": false,
          "cellMetadata": {},
          "nuid": "480d5857-b6a2-4389-b387-766d4688e482",
          "inputWidgets": {},
          "title": ""
        },
        "id": "hq-QhFeC_pvK",
        "outputId": "1c318ad4-38f0-4e41-c021-c5857fff2771",
        "colab": {
          "base_uri": "https://localhost:8080/"
        }
      },
      "outputs": [
        {
          "output_type": "execute_result",
          "data": {
            "text/plain": [
              "['venta']"
            ]
          },
          "metadata": {},
          "execution_count": 12
        }
      ],
      "execution_count": null
    },
    {
      "cell_type": "code",
      "source": [
        "cantidad"
      ],
      "metadata": {
        "application/vnd.databricks.v1+cell": {
          "showTitle": false,
          "cellMetadata": {},
          "nuid": "58b42ed7-8f94-4c0c-bbaf-d4a21e2c47ad",
          "inputWidgets": {},
          "title": ""
        },
        "id": "8XQr7N-f_pvL",
        "outputId": "ef94c6e1-c111-4f2f-b514-be2ae752c022",
        "colab": {
          "base_uri": "https://localhost:8080/"
        }
      },
      "outputs": [
        {
          "output_type": "execute_result",
          "data": {
            "text/plain": [
              "{'bic_paseo': {'venta': Cantidad_bic_paseo_venta},\n",
              " 'bic_montaña': {'venta': Cantidad_bic_montaña_venta}}"
            ]
          },
          "metadata": {},
          "execution_count": 13
        }
      ],
      "execution_count": null
    },
    {
      "cell_type": "code",
      "source": [
        "demanda_acero = {'bic_paseo': 1 , 'bic_montaña': 2}\n",
        "demanda_acero"
      ],
      "metadata": {
        "application/vnd.databricks.v1+cell": {
          "showTitle": false,
          "cellMetadata": {},
          "nuid": "ee5354cb-a572-40d0-8cf1-40e12feb6af5",
          "inputWidgets": {},
          "title": ""
        },
        "id": "nO-ic-3X_pvL",
        "outputId": "4bc5e15b-b0a7-4305-9fd6-fb8e9117410b",
        "colab": {
          "base_uri": "https://localhost:8080/"
        }
      },
      "outputs": [
        {
          "output_type": "execute_result",
          "data": {
            "text/plain": [
              "{'bic_paseo': 1, 'bic_montaña': 2}"
            ]
          },
          "metadata": {},
          "execution_count": 14
        }
      ],
      "execution_count": null
    },
    {
      "cell_type": "code",
      "source": [
        "demanda_aluminio = {'bic_paseo': 3 , 'bic_montaña': 2}\n",
        "demanda_aluminio"
      ],
      "metadata": {
        "application/vnd.databricks.v1+cell": {
          "showTitle": false,
          "cellMetadata": {},
          "nuid": "89cf03a2-2dd4-41db-bc04-b48992193ce4",
          "inputWidgets": {},
          "title": ""
        },
        "id": "k-DZ8YD-_pvL",
        "outputId": "5d0b7327-d4d2-40e1-8679-7a34702ea23c",
        "colab": {
          "base_uri": "https://localhost:8080/"
        }
      },
      "outputs": [
        {
          "output_type": "execute_result",
          "data": {
            "text/plain": [
              "{'bic_paseo': 3, 'bic_montaña': 2}"
            ]
          },
          "metadata": {},
          "execution_count": 15
        }
      ],
      "execution_count": null
    },
    {
      "cell_type": "code",
      "source": [
        "for j in destino:\n",
        "    problema_bicicletas += lpSum(cantidad[i][j]*demanda_acero[i] for i in origen) == acero_total[j]\n",
        "\n",
        "for j in destino:\n",
        "    problema_bicicletas += lpSum(cantidad[i][j]*demanda_aluminio[i] for i in origen) == aluminio_total[j]\n",
        "    \n",
        "problema_bicicletas"
      ],
      "metadata": {
        "application/vnd.databricks.v1+cell": {
          "showTitle": false,
          "cellMetadata": {},
          "nuid": "b4c76923-04bb-47f4-bd10-b1d2b9e31ec7",
          "inputWidgets": {},
          "title": ""
        },
        "id": "YBzjd7ki_pvL",
        "outputId": "df36a863-0c65-402c-b028-22720706ef85",
        "colab": {
          "base_uri": "https://localhost:8080/"
        }
      },
      "outputs": [
        {
          "output_type": "execute_result",
          "data": {
            "text/plain": [
              "Bicicletas:\n",
              "MAXIMIZE\n",
              "15000*Cantidad_bic_montaña_venta + 20000*Cantidad_bic_paseo_venta + 0\n",
              "SUBJECT TO\n",
              "_C1: 2 Cantidad_bic_montaña_venta + Cantidad_bic_paseo_venta = 80\n",
              "\n",
              "_C2: 2 Cantidad_bic_montaña_venta + 3 Cantidad_bic_paseo_venta = 120\n",
              "\n",
              "VARIABLES\n",
              "Cantidad_bic_montaña_venta Continuous\n",
              "Cantidad_bic_paseo_venta Continuous"
            ]
          },
          "metadata": {},
          "execution_count": 16
        }
      ],
      "execution_count": null
    },
    {
      "cell_type": "code",
      "source": [
        "### Resolvemos e imprimimos el estatus de la solución\n",
        "problema_bicicletas.solve()\n",
        "print(\"Status:\", LpStatus[problema_bicicletas.status])"
      ],
      "metadata": {
        "application/vnd.databricks.v1+cell": {
          "showTitle": false,
          "cellMetadata": {},
          "nuid": "aa8804e5-cfec-423a-bbfd-958e144a0513",
          "inputWidgets": {},
          "title": ""
        },
        "id": "CqbVIlRK_pvM",
        "outputId": "383fd347-0759-442d-bf80-4162849bc23b",
        "colab": {
          "base_uri": "https://localhost:8080/"
        }
      },
      "outputs": [
        {
          "output_type": "stream",
          "name": "stdout",
          "text": [
            "Status: Optimal\n"
          ]
        }
      ],
      "execution_count": null
    },
    {
      "cell_type": "code",
      "source": [
        "### Imprimamos la solución\n",
        "for v in problema_bicicletas.variables():\n",
        "    if v.varValue > 0:\n",
        "        print(v.name, \"=\", v.varValue)\n",
        "print('El costo maximo es:', value(problema_bicicletas.objective))"
      ],
      "metadata": {
        "application/vnd.databricks.v1+cell": {
          "showTitle": false,
          "cellMetadata": {},
          "nuid": "92545dc9-3cc1-48cf-ac4c-a3874b6ddc73",
          "inputWidgets": {},
          "title": ""
        },
        "id": "zf02DwFD_pvM",
        "outputId": "ab68bf21-f300-40e8-da95-e2f62761cc2d",
        "colab": {
          "base_uri": "https://localhost:8080/"
        }
      },
      "outputs": [
        {
          "output_type": "stream",
          "name": "stdout",
          "text": [
            "Cantidad_bic_montaña_venta = 30.0\n",
            "Cantidad_bic_paseo_venta = 20.0\n",
            "El costo maximo es: 850000.0\n"
          ]
        }
      ],
      "execution_count": null
    },
    {
      "cell_type": "markdown",
      "source": [
        "# 02. Problema Ejemplo 02"
      ],
      "metadata": {
        "application/vnd.databricks.v1+cell": {
          "showTitle": false,
          "cellMetadata": {},
          "nuid": "fcbcced4-c60f-4e4a-8295-3104228fb500",
          "inputWidgets": {},
          "title": ""
        },
        "id": "SosUM024_pvM"
      }
    },
    {
      "cell_type": "markdown",
      "source": [
        "MG Auto has three plants in Los Angeles, Detroit, and New Orleans, and two major distribution centers in Denver and Miami. The capacities of the three plants during the next quarter are 1000, 1500, and 1200 cars. The quarterly demands at the two distribution centers are 2300 and 1400 cars.\n",
        "\n",
        "The trucking company in charge of transporting the cars charges 8 cents per mile per car. The transportation costs per car on the different routes, rounded to the closest dollar, are given in the table below.\n",
        "\n",
        "MG Auto wants to determine how many cars to transport from each plant to its distribution centers while minimizing the total cost to transport these cars.\n",
        "\n",
        "1. What is the number of car shipped from Detroit to Denver?\n",
        "\n",
        "2. What is the optimal objective value?"
      ],
      "metadata": {
        "application/vnd.databricks.v1+cell": {
          "showTitle": false,
          "cellMetadata": {},
          "nuid": "0216605b-8abb-4ad3-9d02-76fa1a9e40a9",
          "inputWidgets": {},
          "title": ""
        },
        "id": "k8bLTkWm_pvM"
      }
    },
    {
      "cell_type": "code",
      "source": [
        "origen = ['LA', 'Detroit','New Orleans']\n",
        "destino = ['Denver', 'Miami']\n",
        "\n",
        "oferta = {'LA': 1000, 'Detroit': 1500, 'New Orleans': 1200}\n",
        "demanda = {'Denver': 2300, 'Miami': 1400}\n",
        "\n",
        "costo_envio = {'LA':{'Denver': 80, 'Miami': 215},\n",
        "                'Detroit':{'Denver': 100, 'Miami': 108},\n",
        "                'New Orleans': {'Denver':102, 'Miami':68}}"
      ],
      "metadata": {
        "application/vnd.databricks.v1+cell": {
          "showTitle": false,
          "cellMetadata": {},
          "nuid": "f27e687f-307f-4c58-a890-964b3b540495",
          "inputWidgets": {},
          "title": ""
        },
        "id": "DiNIX-iP_pvN"
      },
      "outputs": [],
      "execution_count": null
    },
    {
      "cell_type": "code",
      "source": [
        "prob = LpProblem('Transporte', LpMinimize) ### Buscamos minimizar los costos"
      ],
      "metadata": {
        "application/vnd.databricks.v1+cell": {
          "showTitle": false,
          "cellMetadata": {},
          "nuid": "a0c13f67-7180-4d25-978b-9539532e11af",
          "inputWidgets": {},
          "title": ""
        },
        "id": "8K2R4yWi_pvN"
      },
      "outputs": [],
      "execution_count": null
    },
    {
      "cell_type": "code",
      "source": [
        "type(prob)"
      ],
      "metadata": {
        "application/vnd.databricks.v1+cell": {
          "showTitle": false,
          "cellMetadata": {},
          "nuid": "469a601a-ca55-4afd-8065-537471ca9d4a",
          "inputWidgets": {},
          "title": ""
        },
        "id": "WhfmdZZz_pvN",
        "outputId": "5099c9d3-9054-4053-9058-00798c80d9fa",
        "colab": {
          "base_uri": "https://localhost:8080/"
        }
      },
      "outputs": [
        {
          "output_type": "execute_result",
          "data": {
            "text/plain": [
              "pulp.pulp.LpProblem"
            ]
          },
          "metadata": {},
          "execution_count": 21
        }
      ],
      "execution_count": null
    },
    {
      "cell_type": "code",
      "source": [
        "prob"
      ],
      "metadata": {
        "application/vnd.databricks.v1+cell": {
          "showTitle": false,
          "cellMetadata": {},
          "nuid": "8ae49c13-f4fe-4312-bfe2-b1537375b82e",
          "inputWidgets": {},
          "title": ""
        },
        "id": "Wv65snfu_pvN",
        "outputId": "dd899e99-248e-4d80-c0e5-07d7a4b54db3",
        "colab": {
          "base_uri": "https://localhost:8080/"
        }
      },
      "outputs": [
        {
          "output_type": "execute_result",
          "data": {
            "text/plain": [
              "Transporte:\n",
              "MINIMIZE\n",
              "None\n",
              "VARIABLES"
            ]
          },
          "metadata": {},
          "execution_count": 22
        }
      ],
      "execution_count": null
    },
    {
      "cell_type": "code",
      "source": [
        "rutas = [(i,j) for i in origen for j in destino] ### indicamos las rutas (aristas) del modelo\n",
        "rutas"
      ],
      "metadata": {
        "application/vnd.databricks.v1+cell": {
          "showTitle": false,
          "cellMetadata": {},
          "nuid": "bcd24361-5dd4-4a10-912d-e8771fc8606f",
          "inputWidgets": {},
          "title": ""
        },
        "id": "BRW_yGwJ_pvO",
        "outputId": "973ac8a6-c1b3-4d44-9dfc-5f25e7772b29",
        "colab": {
          "base_uri": "https://localhost:8080/"
        }
      },
      "outputs": [
        {
          "output_type": "execute_result",
          "data": {
            "text/plain": [
              "[('LA', 'Denver'),\n",
              " ('LA', 'Miami'),\n",
              " ('Detroit', 'Denver'),\n",
              " ('Detroit', 'Miami'),\n",
              " ('New Orleans', 'Denver'),\n",
              " ('New Orleans', 'Miami')]"
            ]
          },
          "metadata": {},
          "execution_count": 23
        }
      ],
      "execution_count": null
    },
    {
      "cell_type": "code",
      "source": [
        "cantidad = LpVariable.dicts('Cantidad de Envio', (origen, destino),0)\n",
        "cantidad"
      ],
      "metadata": {
        "application/vnd.databricks.v1+cell": {
          "showTitle": false,
          "cellMetadata": {},
          "nuid": "d0fa397d-d052-4436-8c62-e887ac4662b7",
          "inputWidgets": {},
          "title": ""
        },
        "id": "cgEY7s7V_pvO",
        "outputId": "1e473d9d-3d1b-4c6c-f48b-ba7913641f45",
        "colab": {
          "base_uri": "https://localhost:8080/"
        }
      },
      "outputs": [
        {
          "output_type": "execute_result",
          "data": {
            "text/plain": [
              "{'LA': {'Denver': Cantidad_de_Envio_LA_Denver,\n",
              "  'Miami': Cantidad_de_Envio_LA_Miami},\n",
              " 'Detroit': {'Denver': Cantidad_de_Envio_Detroit_Denver,\n",
              "  'Miami': Cantidad_de_Envio_Detroit_Miami},\n",
              " 'New Orleans': {'Denver': Cantidad_de_Envio_New_Orleans_Denver,\n",
              "  'Miami': Cantidad_de_Envio_New_Orleans_Miami}}"
            ]
          },
          "metadata": {},
          "execution_count": 24
        }
      ],
      "execution_count": null
    },
    {
      "cell_type": "code",
      "source": [
        "costo_envio = {'LA':{'Denver': 80, 'Miami': 215},\n",
        "                'Detroit':{'Denver': 100, 'Miami': 108},\n",
        "                'New Orleans': {'Denver':102, 'Miami':68}}"
      ],
      "metadata": {
        "application/vnd.databricks.v1+cell": {
          "showTitle": false,
          "cellMetadata": {},
          "nuid": "4f3255aa-e2b5-423b-8326-bcfe6e702aaf",
          "inputWidgets": {},
          "title": ""
        },
        "id": "HI6vmIKh_pvO"
      },
      "outputs": [],
      "execution_count": null
    },
    {
      "cell_type": "code",
      "source": [
        "type(cantidad['LA']['Denver'])"
      ],
      "metadata": {
        "application/vnd.databricks.v1+cell": {
          "showTitle": false,
          "cellMetadata": {},
          "nuid": "a568228d-5ae1-41eb-8e7b-923dd01df2b0",
          "inputWidgets": {},
          "title": ""
        },
        "id": "vnfFFGgt_pvO",
        "outputId": "a305a72a-8cef-4aa7-cfe4-002c864c7d05",
        "colab": {
          "base_uri": "https://localhost:8080/"
        }
      },
      "outputs": [
        {
          "output_type": "execute_result",
          "data": {
            "text/plain": [
              "pulp.pulp.LpVariable"
            ]
          },
          "metadata": {},
          "execution_count": 26
        }
      ],
      "execution_count": null
    },
    {
      "cell_type": "code",
      "source": [
        "costo_envio"
      ],
      "metadata": {
        "application/vnd.databricks.v1+cell": {
          "showTitle": false,
          "cellMetadata": {},
          "nuid": "a5027330-2c8e-408a-8227-919aaa22ee00",
          "inputWidgets": {},
          "title": ""
        },
        "id": "PWHOYpRp_pvO",
        "outputId": "bc204e04-c7af-4735-c7b1-002e03ebab2a",
        "colab": {
          "base_uri": "https://localhost:8080/"
        }
      },
      "outputs": [
        {
          "output_type": "execute_result",
          "data": {
            "text/plain": [
              "{'LA': {'Denver': 80, 'Miami': 215},\n",
              " 'Detroit': {'Denver': 100, 'Miami': 108},\n",
              " 'New Orleans': {'Denver': 102, 'Miami': 68}}"
            ]
          },
          "metadata": {},
          "execution_count": 27
        }
      ],
      "execution_count": null
    },
    {
      "cell_type": "code",
      "source": [
        "variable_01 = lpSum(cantidad[i][j]*costo_envio[i][j] for (i,j) in rutas)\n",
        "variable_01"
      ],
      "metadata": {
        "application/vnd.databricks.v1+cell": {
          "showTitle": false,
          "cellMetadata": {},
          "nuid": "028c2483-539b-4089-9c56-e38a71e194a1",
          "inputWidgets": {},
          "title": ""
        },
        "id": "vb0ArmhV_pvP",
        "outputId": "65956f2d-c257-46d9-ebda-523d8a986190",
        "colab": {
          "base_uri": "https://localhost:8080/"
        }
      },
      "outputs": [
        {
          "output_type": "execute_result",
          "data": {
            "text/plain": [
              "100*Cantidad_de_Envio_Detroit_Denver + 108*Cantidad_de_Envio_Detroit_Miami + 80*Cantidad_de_Envio_LA_Denver + 215*Cantidad_de_Envio_LA_Miami + 102*Cantidad_de_Envio_New_Orleans_Denver + 68*Cantidad_de_Envio_New_Orleans_Miami + 0"
            ]
          },
          "metadata": {},
          "execution_count": 28
        }
      ],
      "execution_count": null
    },
    {
      "cell_type": "code",
      "source": [
        "prob += variable_01\n",
        "prob"
      ],
      "metadata": {
        "application/vnd.databricks.v1+cell": {
          "showTitle": false,
          "cellMetadata": {},
          "nuid": "e70bc243-a759-4007-bc69-259a33c4dac2",
          "inputWidgets": {},
          "title": ""
        },
        "id": "I806G2uR_pvP",
        "outputId": "b1612648-c0a6-4c4d-cad6-6ba057891f2f",
        "colab": {
          "base_uri": "https://localhost:8080/"
        }
      },
      "outputs": [
        {
          "output_type": "execute_result",
          "data": {
            "text/plain": [
              "Transporte:\n",
              "MINIMIZE\n",
              "100*Cantidad_de_Envio_Detroit_Denver + 108*Cantidad_de_Envio_Detroit_Miami + 80*Cantidad_de_Envio_LA_Denver + 215*Cantidad_de_Envio_LA_Miami + 102*Cantidad_de_Envio_New_Orleans_Denver + 68*Cantidad_de_Envio_New_Orleans_Miami + 0\n",
              "VARIABLES\n",
              "Cantidad_de_Envio_Detroit_Denver Continuous\n",
              "Cantidad_de_Envio_Detroit_Miami Continuous\n",
              "Cantidad_de_Envio_LA_Denver Continuous\n",
              "Cantidad_de_Envio_LA_Miami Continuous\n",
              "Cantidad_de_Envio_New_Orleans_Denver Continuous\n",
              "Cantidad_de_Envio_New_Orleans_Miami Continuous"
            ]
          },
          "metadata": {},
          "execution_count": 29
        }
      ],
      "execution_count": null
    },
    {
      "cell_type": "code",
      "source": [
        "prob = LpProblem('Transporte', LpMinimize)\n",
        "cantidad = LpVariable.dicts('Cantidad de Envio', (origen, destino),0)\n",
        "\n",
        "prob += lpSum(cantidad[i][j]*costo_envio[i][j] for (i,j) in rutas)\n",
        "prob"
      ],
      "metadata": {
        "application/vnd.databricks.v1+cell": {
          "showTitle": false,
          "cellMetadata": {},
          "nuid": "af56db3c-393e-4cce-ab66-5542ce6f72ec",
          "inputWidgets": {},
          "title": ""
        },
        "id": "iiG59uLI_pvP",
        "outputId": "53036645-35db-4ae9-dcd6-37be4598e8ad",
        "colab": {
          "base_uri": "https://localhost:8080/"
        }
      },
      "outputs": [
        {
          "output_type": "execute_result",
          "data": {
            "text/plain": [
              "Transporte:\n",
              "MINIMIZE\n",
              "100*Cantidad_de_Envio_Detroit_Denver + 108*Cantidad_de_Envio_Detroit_Miami + 80*Cantidad_de_Envio_LA_Denver + 215*Cantidad_de_Envio_LA_Miami + 102*Cantidad_de_Envio_New_Orleans_Denver + 68*Cantidad_de_Envio_New_Orleans_Miami + 0\n",
              "VARIABLES\n",
              "Cantidad_de_Envio_Detroit_Denver Continuous\n",
              "Cantidad_de_Envio_Detroit_Miami Continuous\n",
              "Cantidad_de_Envio_LA_Denver Continuous\n",
              "Cantidad_de_Envio_LA_Miami Continuous\n",
              "Cantidad_de_Envio_New_Orleans_Denver Continuous\n",
              "Cantidad_de_Envio_New_Orleans_Miami Continuous"
            ]
          },
          "metadata": {},
          "execution_count": 30
        }
      ],
      "execution_count": null
    },
    {
      "cell_type": "code",
      "source": [
        "prob = LpProblem('Transporte', LpMinimize)\n",
        "prob"
      ],
      "metadata": {
        "application/vnd.databricks.v1+cell": {
          "showTitle": false,
          "cellMetadata": {},
          "nuid": "4284a8a9-4228-4a70-8fb1-440f6f18a9c1",
          "inputWidgets": {},
          "title": ""
        },
        "id": "qH4u_DW-_pvP",
        "outputId": "ea03d163-ecef-42b1-9551-dfb0d3a05def",
        "colab": {
          "base_uri": "https://localhost:8080/"
        }
      },
      "outputs": [
        {
          "output_type": "execute_result",
          "data": {
            "text/plain": [
              "Transporte:\n",
              "MINIMIZE\n",
              "None\n",
              "VARIABLES"
            ]
          },
          "metadata": {},
          "execution_count": 31
        }
      ],
      "execution_count": null
    },
    {
      "cell_type": "code",
      "source": [],
      "metadata": {
        "application/vnd.databricks.v1+cell": {
          "showTitle": false,
          "cellMetadata": {},
          "nuid": "665b7041-72fb-45ef-9a5f-aa4c61c5e6a4",
          "inputWidgets": {},
          "title": ""
        },
        "id": "eocjU4sW_pvP"
      },
      "outputs": [],
      "execution_count": null
    },
    {
      "cell_type": "code",
      "source": [
        "for j in destino:\n",
        "    prob += lpSum(cantidad[i][j] for i in origen) == demanda[j]\n",
        "prob"
      ],
      "metadata": {
        "application/vnd.databricks.v1+cell": {
          "showTitle": false,
          "cellMetadata": {},
          "nuid": "f10d4d97-3f5a-4fd3-b9ad-bccbea53e600",
          "inputWidgets": {},
          "title": ""
        },
        "id": "hPf90y7y_pvQ",
        "outputId": "8f50aab7-2935-4e25-c382-0b75539d4942",
        "colab": {
          "base_uri": "https://localhost:8080/"
        }
      },
      "outputs": [
        {
          "output_type": "execute_result",
          "data": {
            "text/plain": [
              "Transporte:\n",
              "MINIMIZE\n",
              "None\n",
              "SUBJECT TO\n",
              "_C1: Cantidad_de_Envio_Detroit_Denver + Cantidad_de_Envio_LA_Denver\n",
              " + Cantidad_de_Envio_New_Orleans_Denver = 2300\n",
              "\n",
              "_C2: Cantidad_de_Envio_Detroit_Miami + Cantidad_de_Envio_LA_Miami\n",
              " + Cantidad_de_Envio_New_Orleans_Miami = 1400\n",
              "\n",
              "VARIABLES\n",
              "Cantidad_de_Envio_Detroit_Denver Continuous\n",
              "Cantidad_de_Envio_Detroit_Miami Continuous\n",
              "Cantidad_de_Envio_LA_Denver Continuous\n",
              "Cantidad_de_Envio_LA_Miami Continuous\n",
              "Cantidad_de_Envio_New_Orleans_Denver Continuous\n",
              "Cantidad_de_Envio_New_Orleans_Miami Continuous"
            ]
          },
          "metadata": {},
          "execution_count": 32
        }
      ],
      "execution_count": null
    },
    {
      "cell_type": "code",
      "source": [
        "for i in origen:\n",
        "    prob += lpSum(cantidad[i][j] for j in destino) <= oferta[i]"
      ],
      "metadata": {
        "application/vnd.databricks.v1+cell": {
          "showTitle": false,
          "cellMetadata": {},
          "nuid": "643cedc0-4b91-4e6d-ba64-f7b2771e3fb3",
          "inputWidgets": {},
          "title": ""
        },
        "id": "x4t2aM3B_pvQ"
      },
      "outputs": [],
      "execution_count": null
    },
    {
      "cell_type": "code",
      "source": [
        "prob"
      ],
      "metadata": {
        "application/vnd.databricks.v1+cell": {
          "showTitle": false,
          "cellMetadata": {},
          "nuid": "b07181e6-575e-4b79-8c07-5687c3bdf52a",
          "inputWidgets": {},
          "title": ""
        },
        "id": "Q7leqPXa_pvQ",
        "outputId": "48c54da0-5f74-4092-88a7-4e7ec02bdc93",
        "colab": {
          "base_uri": "https://localhost:8080/"
        }
      },
      "outputs": [
        {
          "output_type": "execute_result",
          "data": {
            "text/plain": [
              "Transporte:\n",
              "MINIMIZE\n",
              "None\n",
              "SUBJECT TO\n",
              "_C1: Cantidad_de_Envio_Detroit_Denver + Cantidad_de_Envio_LA_Denver\n",
              " + Cantidad_de_Envio_New_Orleans_Denver = 2300\n",
              "\n",
              "_C2: Cantidad_de_Envio_Detroit_Miami + Cantidad_de_Envio_LA_Miami\n",
              " + Cantidad_de_Envio_New_Orleans_Miami = 1400\n",
              "\n",
              "_C3: Cantidad_de_Envio_LA_Denver + Cantidad_de_Envio_LA_Miami <= 1000\n",
              "\n",
              "_C4: Cantidad_de_Envio_Detroit_Denver + Cantidad_de_Envio_Detroit_Miami\n",
              " <= 1500\n",
              "\n",
              "_C5: Cantidad_de_Envio_New_Orleans_Denver\n",
              " + Cantidad_de_Envio_New_Orleans_Miami <= 1200\n",
              "\n",
              "VARIABLES\n",
              "Cantidad_de_Envio_Detroit_Denver Continuous\n",
              "Cantidad_de_Envio_Detroit_Miami Continuous\n",
              "Cantidad_de_Envio_LA_Denver Continuous\n",
              "Cantidad_de_Envio_LA_Miami Continuous\n",
              "Cantidad_de_Envio_New_Orleans_Denver Continuous\n",
              "Cantidad_de_Envio_New_Orleans_Miami Continuous"
            ]
          },
          "metadata": {},
          "execution_count": 34
        }
      ],
      "execution_count": null
    },
    {
      "cell_type": "code",
      "source": [
        "### Resolvemos e imprimimos el estatus de la solución\n",
        "prob.solve()\n",
        "print(\"Status:\", LpStatus[prob.status])"
      ],
      "metadata": {
        "application/vnd.databricks.v1+cell": {
          "showTitle": false,
          "cellMetadata": {},
          "nuid": "3067517f-6ff6-4944-bbb1-4d5e5cab6250",
          "inputWidgets": {},
          "title": ""
        },
        "id": "ELEkS-lm_pvR",
        "outputId": "a552072b-2348-458e-f4a9-af7746167171",
        "colab": {
          "base_uri": "https://localhost:8080/"
        }
      },
      "outputs": [
        {
          "output_type": "stream",
          "name": "stdout",
          "text": [
            "Status: Optimal\n"
          ]
        }
      ],
      "execution_count": null
    },
    {
      "cell_type": "code",
      "source": [
        "### Imprimamos la solución\n",
        "for v in prob.variables():\n",
        "    if v.varValue > 0:\n",
        "        print(v.name, \"=\", v.varValue)\n",
        "print('El costo mínimo es:', value(prob.objective))"
      ],
      "metadata": {
        "application/vnd.databricks.v1+cell": {
          "showTitle": false,
          "cellMetadata": {},
          "nuid": "5f3323fe-6afe-4bc6-bde3-bec054ca3b00",
          "inputWidgets": {},
          "title": ""
        },
        "id": "NWG_gFn1_pvR",
        "outputId": "f5d3a01b-e9e4-4c0e-a30e-61723ec33e00",
        "colab": {
          "base_uri": "https://localhost:8080/",
          "height": 304
        }
      },
      "outputs": [
        {
          "output_type": "stream",
          "name": "stdout",
          "text": [
            "Cantidad_de_Envio_Detroit_Denver = 1100.0\n",
            "Cantidad_de_Envio_Detroit_Miami = 400.0\n",
            "Cantidad_de_Envio_LA_Miami = 1000.0\n",
            "Cantidad_de_Envio_New_Orleans_Denver = 1200.0\n"
          ]
        },
        {
          "output_type": "error",
          "ename": "TypeError",
          "evalue": "ignored",
          "traceback": [
            "\u001b[0;31m---------------------------------------------------------------------------\u001b[0m",
            "\u001b[0;31mTypeError\u001b[0m                                 Traceback (most recent call last)",
            "\u001b[0;32m<ipython-input-36-426bc5647f28>\u001b[0m in \u001b[0;36m<module>\u001b[0;34m\u001b[0m\n\u001b[1;32m      1\u001b[0m \u001b[0;31m### Imprimamos la solución\u001b[0m\u001b[0;34m\u001b[0m\u001b[0;34m\u001b[0m\u001b[0;34m\u001b[0m\u001b[0m\n\u001b[1;32m      2\u001b[0m \u001b[0;32mfor\u001b[0m \u001b[0mv\u001b[0m \u001b[0;32min\u001b[0m \u001b[0mprob\u001b[0m\u001b[0;34m.\u001b[0m\u001b[0mvariables\u001b[0m\u001b[0;34m(\u001b[0m\u001b[0;34m)\u001b[0m\u001b[0;34m:\u001b[0m\u001b[0;34m\u001b[0m\u001b[0;34m\u001b[0m\u001b[0m\n\u001b[0;32m----> 3\u001b[0;31m     \u001b[0;32mif\u001b[0m \u001b[0mv\u001b[0m\u001b[0;34m.\u001b[0m\u001b[0mvarValue\u001b[0m \u001b[0;34m>\u001b[0m \u001b[0;36m0\u001b[0m\u001b[0;34m:\u001b[0m\u001b[0;34m\u001b[0m\u001b[0;34m\u001b[0m\u001b[0m\n\u001b[0m\u001b[1;32m      4\u001b[0m         \u001b[0mprint\u001b[0m\u001b[0;34m(\u001b[0m\u001b[0mv\u001b[0m\u001b[0;34m.\u001b[0m\u001b[0mname\u001b[0m\u001b[0;34m,\u001b[0m \u001b[0;34m\"=\"\u001b[0m\u001b[0;34m,\u001b[0m \u001b[0mv\u001b[0m\u001b[0;34m.\u001b[0m\u001b[0mvarValue\u001b[0m\u001b[0;34m)\u001b[0m\u001b[0;34m\u001b[0m\u001b[0;34m\u001b[0m\u001b[0m\n\u001b[1;32m      5\u001b[0m \u001b[0mprint\u001b[0m\u001b[0;34m(\u001b[0m\u001b[0;34m'El costo mínimo es:'\u001b[0m\u001b[0;34m,\u001b[0m \u001b[0mvalue\u001b[0m\u001b[0;34m(\u001b[0m\u001b[0mprob\u001b[0m\u001b[0;34m.\u001b[0m\u001b[0mobjective\u001b[0m\u001b[0;34m)\u001b[0m\u001b[0;34m)\u001b[0m\u001b[0;34m\u001b[0m\u001b[0;34m\u001b[0m\u001b[0m\n",
            "\u001b[0;31mTypeError\u001b[0m: '>' not supported between instances of 'NoneType' and 'int'"
          ]
        }
      ],
      "execution_count": null
    }
  ],
  "metadata": {
    "kernelspec": {
      "display_name": "Python 3",
      "language": "python",
      "name": "python3"
    },
    "language_info": {
      "mimetype": "text/x-python",
      "name": "python",
      "pygments_lexer": "ipython3",
      "codemirror_mode": {
        "name": "ipython",
        "version": 3
      },
      "version": "3.8.8",
      "nbconvert_exporter": "python",
      "file_extension": ".py"
    },
    "application/vnd.databricks.v1+notebook": {
      "notebookName": "NB_DS_Explorations_Alex_V_01",
      "dashboards": [],
      "notebookMetadata": {
        "pythonIndentUnit": 2
      },
      "language": "python",
      "widgets": {},
      "notebookOrigID": 49905302614257
    },
    "colab": {
      "provenance": [],
      "include_colab_link": true
    }
  },
  "nbformat": 4,
  "nbformat_minor": 0
}