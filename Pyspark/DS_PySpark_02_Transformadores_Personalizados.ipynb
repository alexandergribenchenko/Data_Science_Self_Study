{
  "cells": [
    {
      "cell_type": "markdown",
      "metadata": {
        "id": "view-in-github",
        "colab_type": "text"
      },
      "source": [
        "<a href=\"https://colab.research.google.com/github/alexandergribenchenko/Data_Science_Toolkit/blob/main/Pyspark/DS_PySpark_02_Transformadores_Personalizados.ipynb\" target=\"_parent\"><img src=\"https://colab.research.google.com/assets/colab-badge.svg\" alt=\"Open In Colab\"/></a>"
      ]
    },
    {
      "cell_type": "markdown",
      "source": [
        "# A. Instalación y carga de Pyspark"
      ],
      "metadata": {
        "id": "27LsySb9um_2"
      }
    },
    {
      "cell_type": "code",
      "source": [
        "!pip install pyspark"
      ],
      "metadata": {
        "id": "f6DzPJ41tGSw",
        "outputId": "bf0cd8ac-d96f-4f87-a512-cb1629630792",
        "colab": {
          "base_uri": "https://localhost:8080/"
        }
      },
      "execution_count": null,
      "outputs": [
        {
          "output_type": "stream",
          "name": "stdout",
          "text": [
            "Looking in indexes: https://pypi.org/simple, https://us-python.pkg.dev/colab-wheels/public/simple/\n",
            "Requirement already satisfied: pyspark in /usr/local/lib/python3.7/dist-packages (3.3.0)\n",
            "Requirement already satisfied: py4j==0.10.9.5 in /usr/local/lib/python3.7/dist-packages (from pyspark) (0.10.9.5)\n"
          ]
        }
      ]
    },
    {
      "cell_type": "code",
      "source": [
        "from pyspark.sql import SparkSession"
      ],
      "metadata": {
        "id": "UfiaY_GxuGcJ"
      },
      "execution_count": null,
      "outputs": []
    },
    {
      "cell_type": "code",
      "source": [
        "spark = SparkSession.builder.appName('test_pyspark').getOrCreate()"
      ],
      "metadata": {
        "id": "vbDN_AJuuGZr"
      },
      "execution_count": null,
      "outputs": []
    },
    {
      "cell_type": "markdown",
      "source": [
        "# Librerías necesarias"
      ],
      "metadata": {
        "id": "1tz0BiLuuwJ8"
      }
    },
    {
      "cell_type": "code",
      "source": [
        "from pyspark.sql.types import StringType, BooleanType, FloatType, IntegerType, DoubleType, DateType\n",
        "import pyspark.sql.functions as F\n",
        "from pyspark.sql.functions import sum, col, desc, asc, count, countDistinct, round, max, min, avg\n",
        "from pyspark.sql.functions import to_timestamp,date_format\n",
        "from pyspark.sql.window import Window\n",
        "\n",
        "from pyspark.ml import Transformer\n",
        "from pyspark.ml.param.shared import HasInputCol, HasOutputCol, HasInputCols, HasOutputCols, Param, Params, TypeConverters\n",
        "from pyspark import keyword_only\n",
        "from pyspark.ml import Pipeline, PipelineModel\n",
        "from pyspark.ml import Model\n",
        "from pyspark.ml import Estimator\n",
        "\n",
        "from datetime import datetime\n",
        "import numpy as np"
      ],
      "metadata": {
        "id": "XX7HNi3muzFj"
      },
      "execution_count": null,
      "outputs": []
    },
    {
      "cell_type": "markdown",
      "source": [
        "# Transformadores Genéricos"
      ],
      "metadata": {
        "application/vnd.databricks.v1+cell": {
          "title": "",
          "showTitle": false,
          "inputWidgets": {},
          "nuid": "bb5bd8fd-9faa-4e48-b7a4-50d834474fd5"
        },
        "id": "c9CCKUnks3R6"
      }
    },
    {
      "cell_type": "markdown",
      "source": [
        "## Preprocesamiento"
      ],
      "metadata": {
        "application/vnd.databricks.v1+cell": {
          "title": "",
          "showTitle": false,
          "inputWidgets": {},
          "nuid": "abd1abd5-7590-4592-8e62-5de214465fd0"
        },
        "id": "b1H4xKEDs3R-"
      }
    },
    {
      "cell_type": "markdown",
      "source": [
        "### FeatureSelector"
      ],
      "metadata": {
        "application/vnd.databricks.v1+cell": {
          "title": "",
          "showTitle": false,
          "inputWidgets": {},
          "nuid": "87162d86-6a03-4ab6-bd6e-c4108ecc1877"
        },
        "id": "TNXFJlKps3R_"
      }
    },
    {
      "cell_type": "code",
      "source": [
        "class FeatureSelector(Transformer, HasInputCols):\n",
        "  \n",
        "  @keyword_only\n",
        "  def __init__(self, inputCols=None):\n",
        "    super().__init__()\n",
        "    kwargs = self._input_kwargs\n",
        "    self.setParams(**kwargs)\n",
        "    \n",
        "  @keyword_only\n",
        "  def setParams(self, inputCols=None):\n",
        "      kwargs = self._input_kwargs\n",
        "      return self._set(**kwargs)\n",
        "\n",
        "  def setInputCol(self, new_inputCols):\n",
        "    return self.setParams(inputCols=new_inputCols)\n",
        "  \n",
        "  def _transform(self, dataset):\n",
        "    input_columns = (self.getInputCols() if self.isSet(\"inputCols\") else self.getInputCols())\n",
        "    answer = dataset.select(*input_columns)\n",
        "    return answer"
      ],
      "metadata": {
        "application/vnd.databricks.v1+cell": {
          "title": "",
          "showTitle": false,
          "inputWidgets": {},
          "nuid": "2faa49c1-6dd2-4c2c-8ca3-7b99a0e2f1fd"
        },
        "id": "PByPBT9is3R_"
      },
      "outputs": [],
      "execution_count": null
    },
    {
      "cell_type": "markdown",
      "source": [
        "### DfFilterByDate"
      ],
      "metadata": {
        "application/vnd.databricks.v1+cell": {
          "title": "",
          "showTitle": false,
          "inputWidgets": {},
          "nuid": "65b246ff-e2a1-4d7b-9f11-45dc34b060c1"
        },
        "id": "MlP4khpas3SA"
      }
    },
    {
      "cell_type": "code",
      "source": [
        "class DfFilterByDate(Transformer, HasInputCols):\n",
        "  \n",
        "  list_date = Param(Params._dummy(),\"list_date\",\"Diccionario base para renombrar\")\n",
        "  \n",
        "  @keyword_only\n",
        "  def __init__(self, list_date=None, inputCols=None):\n",
        "    super().__init__()\n",
        "    self._setDefault(list_date=None)\n",
        "    kwargs = self._input_kwargs\n",
        "    self.setParams(**kwargs)\n",
        "    \n",
        "  @keyword_only\n",
        "  def setParams(self, list_date=None, inputCols=None):\n",
        "      kwargs = self._input_kwargs\n",
        "      return self._set(**kwargs)\n",
        "  def setlist_date(self, new_list_date):\n",
        "    return self.setParams(list_date=new_list_date)\n",
        "  \n",
        "  def setInputCol(self, new_inputCols):\n",
        "    return self.setParams(inputCols=new_inputCols)\n",
        "  \n",
        "  def getlist_date(self):\n",
        "    return self.getOrDefault(self.list_date)\n",
        "  \n",
        "  def _transform(self, dataset):\n",
        "    list_date = self.getlist_date()\n",
        "    input_columns = (self.getInputCols() if self.isSet(\"inputCols\") else self.getInputCols())\n",
        "    answer = dataset\n",
        "    \n",
        "    date_from = datetime.strptime(list_date[0], '%Y%m%d')\n",
        "    date_to = datetime.strptime(list_date[1], '%Y%m%d')\n",
        "    \n",
        "    answer = answer.filter((answer[input_columns[0]] >= date_from) & \n",
        "                           (answer[input_columns[0]] <= date_to))\n",
        "    return answer"
      ],
      "metadata": {
        "application/vnd.databricks.v1+cell": {
          "title": "",
          "showTitle": false,
          "inputWidgets": {},
          "nuid": "69163398-f8bc-4260-b782-313336e24549"
        },
        "id": "Xmds69bns3SA"
      },
      "outputs": [],
      "execution_count": null
    },
    {
      "cell_type": "markdown",
      "source": [
        "### DfFilterNulls"
      ],
      "metadata": {
        "application/vnd.databricks.v1+cell": {
          "title": "",
          "showTitle": false,
          "inputWidgets": {},
          "nuid": "394e8327-78ae-40d2-a0b8-55c147e65c5f"
        },
        "id": "K32rjliss3SB"
      }
    },
    {
      "cell_type": "code",
      "source": [
        "class DfFilterNulls(Transformer, HasInputCols):\n",
        "    \n",
        "  @keyword_only\n",
        "  def __init__(self, inputCols=None):\n",
        "    super().__init__()\n",
        "    kwargs = self._input_kwargs\n",
        "    self.setParams(**kwargs)\n",
        "    \n",
        "  @keyword_only\n",
        "  def setParams(self, inputCols=None):\n",
        "      kwargs = self._input_kwargs\n",
        "      return self._set(**kwargs)\n",
        "  \n",
        "  def setInputCol(self, new_inputCols):\n",
        "    return self.setParams(inputCols=new_inputCols)\n",
        "  \n",
        "  def _transform(self, dataset):\n",
        "    input_columns = (self.getInputCols() if self.isSet(\"inputCols\") else self.getInputCols())\n",
        "    answer = dataset\n",
        "    \n",
        "    for col_i in input_columns:\n",
        "      answer = answer.filter(~answer[col_i].isNull())\n",
        "    return answer"
      ],
      "metadata": {
        "application/vnd.databricks.v1+cell": {
          "title": "",
          "showTitle": false,
          "inputWidgets": {},
          "nuid": "3b579319-dc33-4657-a93e-80a7a42ff0a4"
        },
        "id": "SCgYh7mCs3SC"
      },
      "outputs": [],
      "execution_count": null
    },
    {
      "cell_type": "markdown",
      "source": [
        "### TypeAssignatorDate"
      ],
      "metadata": {
        "application/vnd.databricks.v1+cell": {
          "title": "",
          "showTitle": false,
          "inputWidgets": {},
          "nuid": "bf94ff6e-28bd-43f1-bc84-6ca1ccaf5ba2"
        },
        "id": "FmoSxkpjs3SC"
      }
    },
    {
      "cell_type": "code",
      "source": [
        "class TypeAssignatorDate(Transformer, HasInputCols):\n",
        "  \n",
        "  @keyword_only\n",
        "  def __init__(self, inputCols=None):\n",
        "    super().__init__()\n",
        "    kwargs = self._input_kwargs\n",
        "    self.setParams(**kwargs)\n",
        "    \n",
        "  @keyword_only\n",
        "  def setParams(self, inputCols=None):\n",
        "      kwargs = self._input_kwargs\n",
        "      return self._set(**kwargs)\n",
        "\n",
        "  def setInputCol(self, new_inputCols):\n",
        "    return self.setParams(inputCols=new_inputCols)\n",
        "  \n",
        "  def _transform(self, dataset):\n",
        "    input_columns = (self.getInputCols() if self.isSet(\"inputCols\") else self.getInputCols())\n",
        "    answer = dataset\n",
        "    udf_str_to_date = udf(lambda x : datetime.strptime(x, '%Y%m%d') if x!=None else x, DateType())\n",
        "    for col_i in input_columns: \n",
        "      answer=answer.withColumn(col_i, udf_str_to_date(col_i))\n",
        "    return answer"
      ],
      "metadata": {
        "application/vnd.databricks.v1+cell": {
          "title": "",
          "showTitle": false,
          "inputWidgets": {},
          "nuid": "ecb58082-c93f-48b6-bdda-911b68657793"
        },
        "id": "BBd8Ab83s3SD"
      },
      "outputs": [],
      "execution_count": null
    },
    {
      "cell_type": "markdown",
      "source": [
        "### TypeAssignatorFloat"
      ],
      "metadata": {
        "application/vnd.databricks.v1+cell": {
          "title": "",
          "showTitle": false,
          "inputWidgets": {},
          "nuid": "f1760cdb-ad6a-4cd2-b14f-d8693c7a12bb"
        },
        "id": "2kgIhNUHs3SD"
      }
    },
    {
      "cell_type": "code",
      "source": [
        "class TypeAssignatorFloat(Transformer, HasInputCols):\n",
        "  \n",
        "  @keyword_only\n",
        "  def __init__(self, inputCols=None):\n",
        "    super().__init__()\n",
        "    kwargs = self._input_kwargs\n",
        "    self.setParams(**kwargs)\n",
        "    \n",
        "  @keyword_only\n",
        "  def setParams(self, inputCols=None):\n",
        "      kwargs = self._input_kwargs\n",
        "      return self._set(**kwargs)\n",
        "\n",
        "  def setInputCol(self, new_inputCols):\n",
        "    return self.setParams(inputCols=new_inputCols)\n",
        "  \n",
        "  def _transform(self, dataset):\n",
        "    input_columns = (self.getInputCols() if self.isSet(\"inputCols\") else self.getInputCols())\n",
        "    answer = dataset\n",
        "    for col_i in input_columns: \n",
        "      answer=answer.withColumn(col_i,F.col(col_i).cast(FloatType()))\n",
        "    return answer"
      ],
      "metadata": {
        "application/vnd.databricks.v1+cell": {
          "title": "",
          "showTitle": false,
          "inputWidgets": {},
          "nuid": "31838fb2-1129-4713-97ec-85b82ebbe3e5"
        },
        "id": "2nrpsQoXs3SE"
      },
      "outputs": [],
      "execution_count": null
    },
    {
      "cell_type": "markdown",
      "source": [
        "### ColumnsRenamer"
      ],
      "metadata": {
        "application/vnd.databricks.v1+cell": {
          "title": "",
          "showTitle": false,
          "inputWidgets": {},
          "nuid": "7faa5538-a5b7-476e-97ce-5ebff5df8362"
        },
        "id": "Me5SZ_bIs3SE"
      }
    },
    {
      "cell_type": "code",
      "source": [
        "class ColumnsRenamer(Transformer):\n",
        "  \n",
        "  RenameDict = Param(Params._dummy(),\"RenameDict\",\"Diccionario base para renombrar\")\n",
        "  \n",
        "  @keyword_only\n",
        "  def __init__(self, RenameDict=None):\n",
        "    super().__init__()\n",
        "    self._setDefault(RenameDict=None)\n",
        "    kwargs = self._input_kwargs\n",
        "    self.setParams(**kwargs)\n",
        "    \n",
        "  @keyword_only\n",
        "  def setParams(self, RenameDict=None):\n",
        "      kwargs = self._input_kwargs\n",
        "      return self._set(**kwargs)\n",
        "  def setRenameDict(self, new_RenameDict):\n",
        "    return self.setParams(RenameDict=new_RenameDict)\n",
        "  \n",
        "  def getRenameDict(self):\n",
        "    return self.getOrDefault(self.RenameDict)\n",
        "  \n",
        "  def _transform(self, dataset):\n",
        "    answer = dataset\n",
        "    rename_dict = self.getRenameDict()\n",
        "    for old_name, new_name in rename_dict.items():\n",
        "      answer=answer.withColumnRenamed(old_name, new_name)\n",
        "    return answer"
      ],
      "metadata": {
        "application/vnd.databricks.v1+cell": {
          "title": "",
          "showTitle": false,
          "inputWidgets": {},
          "nuid": "eaef6922-340f-4962-b16c-51bbf917eed1"
        },
        "id": "vUHDkIPms3SE"
      },
      "outputs": [],
      "execution_count": null
    },
    {
      "cell_type": "markdown",
      "source": [
        "### ColumnsRounder"
      ],
      "metadata": {
        "application/vnd.databricks.v1+cell": {
          "title": "",
          "showTitle": false,
          "inputWidgets": {},
          "nuid": "ef5fd9ba-11c7-43f7-8772-2b679a9d6bda"
        },
        "id": "6Eg9TpjHs3SF"
      }
    },
    {
      "cell_type": "code",
      "source": [
        "class ColumnsRounder(Transformer, HasInputCols):\n",
        "  \n",
        "  RoundValue = Param(Params._dummy(),\"RoundValue\",\"Decimal a redondear\", typeConverter=TypeConverters.toInt)\n",
        "  \n",
        "  @keyword_only\n",
        "  def __init__(self, inputCols=None, RoundValue=None):\n",
        "    super().__init__()\n",
        "    self._setDefault(RoundValue=None)\n",
        "    kwargs = self._input_kwargs\n",
        "    self.setParams(**kwargs)\n",
        "    \n",
        "  @keyword_only\n",
        "  def setParams(self, inputCols=None, RoundValue=None):\n",
        "      kwargs = self._input_kwargs\n",
        "      return self._set(**kwargs)\n",
        "  def setRoundValue(self, new_RoundValue):\n",
        "    return self.setParams(RoundValue=new_RoundValue)\n",
        "  def setInputCol(self, new_inputCols):\n",
        "    return self.setParams(inputCols=new_inputCols)\n",
        "  \n",
        "  def getRoundValue(self):\n",
        "    return self.getOrDefault(self.RoundValue)\n",
        "  \n",
        "  def _transform(self, dataset):\n",
        "    input_columns = (self.getInputCols() if self.isSet(\"inputCols\") else self.getInputCols())\n",
        "    answer = dataset\n",
        "    round_value = self.getRoundValue()\n",
        "    for col_i in input_columns: \n",
        "      answer=answer.withColumn(col_i,round(F.col(col_i),round_value))\n",
        "    return answer"
      ],
      "metadata": {
        "application/vnd.databricks.v1+cell": {
          "title": "",
          "showTitle": false,
          "inputWidgets": {},
          "nuid": "80b0d84d-d95a-430b-a642-26f37cabcc41"
        },
        "id": "QfTjx-50s3SF"
      },
      "outputs": [],
      "execution_count": null
    },
    {
      "cell_type": "markdown",
      "source": [
        "### DfFilterDuplicates"
      ],
      "metadata": {
        "application/vnd.databricks.v1+cell": {
          "title": "",
          "showTitle": false,
          "inputWidgets": {},
          "nuid": "f40ff9c0-df82-47d6-8e88-d781ded51478"
        },
        "id": "OHBCWYbys3SG"
      }
    },
    {
      "cell_type": "code",
      "source": [
        "class DfFilterDuplicates(Transformer):\n",
        "  \n",
        "  @keyword_only\n",
        "  def __init__(self):\n",
        "    super().__init__()\n",
        "    kwargs = self._input_kwargs\n",
        "    self.setParams(**kwargs)\n",
        "    \n",
        "  @keyword_only\n",
        "  def setParams(self):\n",
        "      kwargs = self._input_kwargs\n",
        "      return self._set(**kwargs)\n",
        "  \n",
        "  def _transform(self, dataset):\n",
        "    answer = dataset.distinct()\n",
        "    return answer"
      ],
      "metadata": {
        "application/vnd.databricks.v1+cell": {
          "title": "",
          "showTitle": false,
          "inputWidgets": {},
          "nuid": "d012900a-4a16-4844-ad77-6c8c3c7545e3"
        },
        "id": "USGzqtRSs3SG"
      },
      "outputs": [],
      "execution_count": null
    },
    {
      "cell_type": "markdown",
      "source": [
        "### DfFilterLessEqValue"
      ],
      "metadata": {
        "application/vnd.databricks.v1+cell": {
          "title": "",
          "showTitle": false,
          "inputWidgets": {},
          "nuid": "252b3869-3c0e-4aa4-975a-abad0bfe8dfa"
        },
        "id": "BfAOZvDvs3SG"
      }
    },
    {
      "cell_type": "code",
      "source": [
        "class DfFilterLessEqValue(Transformer, HasInputCols):\n",
        "  \n",
        "  Value = Param(Params._dummy(),\"Value\",\"Decimal a redondear\")\n",
        "  \n",
        "  @keyword_only\n",
        "  def __init__(self, inputCols=None, Value=None):\n",
        "    super().__init__()\n",
        "    self._setDefault(Value=None)\n",
        "    kwargs = self._input_kwargs\n",
        "    self.setParams(**kwargs)\n",
        "    \n",
        "  @keyword_only\n",
        "  def setParams(self, inputCols=None, Value=None):\n",
        "      kwargs = self._input_kwargs\n",
        "      return self._set(**kwargs)\n",
        "  def setValue(self, new_Value):\n",
        "    return self.setParams(Value=new_Value)\n",
        "  def setInputCol(self, new_inputCols):\n",
        "    return self.setParams(inputCols=new_inputCols)\n",
        "  \n",
        "  def getValue(self):\n",
        "    return self.getOrDefault(self.Value)\n",
        "  \n",
        "  def _transform(self, dataset):\n",
        "    input_columns = (self.getInputCols() if self.isSet(\"inputCols\") else self.getInputCols())\n",
        "    value = self.getValue()\n",
        "    \n",
        "    answer = dataset.filter(~(dataset[input_columns[0]]<=value))\n",
        "    return answer"
      ],
      "metadata": {
        "application/vnd.databricks.v1+cell": {
          "title": "",
          "showTitle": false,
          "inputWidgets": {},
          "nuid": "3a26c810-3aaf-47c9-ac43-f1e917f6a7cd"
        },
        "id": "MXw4NpNps3SH"
      },
      "outputs": [],
      "execution_count": null
    },
    {
      "cell_type": "markdown",
      "source": [
        "# Transformadores RFM"
      ],
      "metadata": {
        "application/vnd.databricks.v1+cell": {
          "title": "",
          "showTitle": false,
          "inputWidgets": {},
          "nuid": "a2b42856-2e8f-4982-9eb3-fd456ebd48df"
        },
        "id": "SUxk6KqGs3SH"
      }
    },
    {
      "cell_type": "markdown",
      "source": [
        "## RFMAggregatorPre"
      ],
      "metadata": {
        "application/vnd.databricks.v1+cell": {
          "title": "",
          "showTitle": false,
          "inputWidgets": {},
          "nuid": "80dd89d8-e66d-444a-9885-e489748c49ad"
        },
        "id": "QTyCRLDps3SH"
      }
    },
    {
      "cell_type": "code",
      "source": [
        "class RFMAggregatorPre(Transformer):\n",
        "  \n",
        "  @keyword_only\n",
        "  def __init__(self):\n",
        "    super().__init__()\n",
        "    kwargs = self._input_kwargs\n",
        "    self.setParams(**kwargs)\n",
        "    \n",
        "  @keyword_only\n",
        "  def setParams(self):\n",
        "      kwargs = self._input_kwargs\n",
        "      return self._set(**kwargs)\n",
        "  \n",
        "  def _transform(self, dataset):\n",
        "    # Calcula los valores agregados para el RFM\n",
        "    answer = dataset.groupBy(\"Customer_ID\")\\\n",
        "             .agg(max(\"R_base\").alias(\"R_agg\"),\n",
        "                  countDistinct(\"F_base\").alias(\"F_agg\"),\n",
        "                  round(sum(\"M_base\"),0).alias(\"M_agg\"))\\\n",
        "             .sort(desc(\"M_agg\"))\n",
        "    \n",
        "    # Ajusta el valor de R tomando como referencia la última fecha del dataset\n",
        "    max_R_base = dataset.agg(F.max('R_base')).collect()[0][0]\n",
        "    udf_delta_R = udf(lambda x : (max_R_base - x).days if x!=None else x, IntegerType())\n",
        "    answer = answer.withColumn('R_agg', udf_delta_R('R_agg'))\n",
        "    \n",
        "#     # Incluye el valor de R_prima_agg que es un factor de si esta adelantado o atrasado respecto a compra\n",
        "#     answer =  answer.withColumn('R_prima_agg', round(F.col('R_agg')/(180/(F.col('F_agg'))),2))\n",
        "#     answer = answer.select(*['Customer_ID', 'R_prima_agg', 'R_agg', 'F_agg', 'M_agg'])\n",
        "    return answer"
      ],
      "metadata": {
        "application/vnd.databricks.v1+cell": {
          "title": "",
          "showTitle": false,
          "inputWidgets": {},
          "nuid": "916655de-c3b4-4cbe-9638-a86ff3ae59b4"
        },
        "id": "fLh8JjDXs3SI"
      },
      "outputs": [],
      "execution_count": null
    },
    {
      "cell_type": "markdown",
      "source": [
        "## RFMSegmentator"
      ],
      "metadata": {
        "application/vnd.databricks.v1+cell": {
          "title": "",
          "showTitle": false,
          "inputWidgets": {},
          "nuid": "a31acc09-2433-464f-ad64-1d31e54609d5"
        },
        "id": "4FBEwJ-rs3SI"
      }
    },
    {
      "cell_type": "code",
      "source": [
        "class RFMSegmentator(Transformer):\n",
        "  \n",
        "  Value = Param(Params._dummy(),\"Value\",\"Decimal a redondear\")\n",
        "  \n",
        "  @keyword_only\n",
        "  def __init__(self, Value=None):\n",
        "    super().__init__()\n",
        "    self._setDefault(Value=None)\n",
        "    kwargs = self._input_kwargs\n",
        "    self.setParams(**kwargs)\n",
        "    \n",
        "  @keyword_only\n",
        "  def setParams(self, Value=None):\n",
        "      kwargs = self._input_kwargs\n",
        "      return self._set(**kwargs)\n",
        "  def setValue(self, new_Value):\n",
        "    return self.setParams(Value=new_Value)\n",
        "  \n",
        "  def getValue(self):\n",
        "    return self.getOrDefault(self.Value)\n",
        "\n",
        "  def _transform(self, dataset):\n",
        "    value = self.getValue()\n",
        "    # Calcula los valores agregados para el RFM\n",
        "    umbral_de_corte = value \n",
        "    R_umbral_de_corte = umbral_de_corte\n",
        "    F_umbral_de_corte = 1 - umbral_de_corte\n",
        "    M_umbral_de_corte = 1 - umbral_de_corte\n",
        "    \n",
        "    R_percentile_cut = dataset.approxQuantile(\"R_agg\", [umbral_de_corte], 0.01)[0]\n",
        "    F_percentile_cut = dataset.approxQuantile(\"F_agg\", [umbral_de_corte], 0.01)[0]\n",
        "    M_percentile_cut = dataset.approxQuantile(\"M_agg\", [umbral_de_corte], 0.01)[0]\n",
        "    \n",
        "    df_output = dataset\n",
        "    \n",
        "    udf_delta_R = udf(lambda x : 1 if x<R_percentile_cut else 2, IntegerType())\n",
        "    udf_delta_F = udf(lambda x : 1 if x>F_percentile_cut else 2, IntegerType())\n",
        "    udf_delta_M = udf(lambda x : 1 if x>M_percentile_cut else 2, IntegerType())\n",
        "    \n",
        "    df_output = df_output.withColumn('R', udf_delta_R('R_agg'))\n",
        "    df_output = df_output.withColumn('F', udf_delta_F('F_agg'))\n",
        "    df_output = df_output.withColumn('M', udf_delta_M('M_agg'))\n",
        "    df_output = df_output.withColumn('RFM', F.concat(df_output.R,df_output.F, df_output.M))\n",
        "    \n",
        "    print(umbral_de_corte, R_percentile_cut, F_percentile_cut, M_percentile_cut)\n",
        "\n",
        "#     return df_output, umbral_de_corte, R_percentile_cut\n",
        "    return df_output"
      ],
      "metadata": {
        "application/vnd.databricks.v1+cell": {
          "title": "",
          "showTitle": false,
          "inputWidgets": {},
          "nuid": "95ec0809-a7db-467c-a7c0-b2af0e847cf4"
        },
        "id": "EjMDp__-s3SI"
      },
      "outputs": [],
      "execution_count": null
    },
    {
      "cell_type": "markdown",
      "source": [
        "## RFMAggregatorPost"
      ],
      "metadata": {
        "application/vnd.databricks.v1+cell": {
          "title": "",
          "showTitle": false,
          "inputWidgets": {},
          "nuid": "5327372e-614e-4082-b171-2471c87d880a"
        },
        "id": "UyJl7nWAs3SJ"
      }
    },
    {
      "cell_type": "code",
      "source": [
        "class RFMAggregatorPost(Transformer):\n",
        "  \n",
        "  @keyword_only\n",
        "  def __init__(self):\n",
        "    super().__init__()\n",
        "    kwargs = self._input_kwargs\n",
        "    self.setParams(**kwargs)\n",
        "    \n",
        "  @keyword_only\n",
        "  def setParams(self):\n",
        "      kwargs = self._input_kwargs\n",
        "      return self._set(**kwargs)\n",
        "  \n",
        "  def _transform(self, dataset):\n",
        "\n",
        "      Valores_globales = {}\n",
        "      Valores_globales['N_Total'] = dataset.agg(F.countDistinct('Customer_ID')).collect()[0][0]\n",
        "      Valores_globales['F_Total'] = dataset.agg(F.sum(\"F_agg\")).collect()[0][0]\n",
        "      Valores_globales['M_Total'] = np.round(dataset.agg(F.sum(\"M_agg\")).collect()[0][0]/1E6,2)\n",
        "  \n",
        "      df_output = dataset.groupBy('RFM', 'R', 'F','M').agg(countDistinct('Customer_ID').alias('N_Customer_ID'), \\\n",
        "#                                             round(avg('R_prima_agg'),2).alias('R_prima_mean'), \\\n",
        "                                            round(avg('R_agg'),2).alias('R_mean'), \\\n",
        "                                            min('R_agg').alias('R_min'), \\\n",
        "                                            max('R_agg').alias('R_max'), \\\n",
        "                                            round(avg('F_agg'),2).alias('F_mean'), \\\n",
        "                                            sum('F_agg').alias('F_acom'), \\\n",
        "                                            round(avg('M_agg'),5).alias('M_mean'), \\\n",
        "                                            round(sum('M_agg')/1E6,2).alias('M_acom')). \\\n",
        "                                            sort(['RFM'], ascending=[True])\n",
        "    \n",
        "      df_output = df_output.withColumn('N_Customer_ID_rel',(round(100*F.col('N_Customer_ID')/( Valores_globales['N_Total']),2)))\n",
        "      df_output = df_output.withColumn('F_acom_rel',(round(100*F.col('F_acom')/( Valores_globales['F_Total']),2)))\n",
        "      df_output = df_output.withColumn('M_acom_rel',(round(100*F.col('M_acom')/( Valores_globales['M_Total']),2)))\n",
        "      \n",
        "      print('N_Total:', Valores_globales['N_Total'])\n",
        "      print('F_Total:', Valores_globales['F_Total'])\n",
        "      print('M_Total:', Valores_globales['M_Total'])\n",
        "      \n",
        "      return df_output"
      ],
      "metadata": {
        "application/vnd.databricks.v1+cell": {
          "title": "",
          "showTitle": false,
          "inputWidgets": {},
          "nuid": "cbbcfa9b-0f96-4142-a271-21495fa3ef8f"
        },
        "id": "FV2StpQKs3SJ"
      },
      "outputs": [],
      "execution_count": null
    },
    {
      "cell_type": "markdown",
      "source": [
        "# Espacio de pruebas"
      ],
      "metadata": {
        "application/vnd.databricks.v1+cell": {
          "title": "",
          "showTitle": false,
          "inputWidgets": {},
          "nuid": "12e9e8d1-0ca2-49e8-8a79-d57e54940b8d"
        },
        "id": "AnB_X9zWs3SL"
      }
    },
    {
      "cell_type": "code",
      "source": [
        "data = [(\"James\", \"Sales\", 3000), \\\n",
        "    (\"Michael\", \"Sales\", 4600), \\\n",
        "    (\"Robert\", \"Sales\", 4100), \\\n",
        "    (\"Maria\", \"Finance\", 3000), \\\n",
        "    (\"James\", \"Sales\", 3000), \\\n",
        "    (\"Scott\", \"Finance\", 3300), \\\n",
        "    (\"Jen\", \"Finance\", 3900), \\\n",
        "    (\"Jeff\", \"Marketing\", 3000), \\\n",
        "    (\"Perro\", \"Sales\", 15), \\\n",
        "    (\"Perro\", \"Sales\", 15) \\\n",
        "  ]\n",
        "columns= [\"employee_name\", \"department\", \"salary\"]\n",
        "df = spark.createDataFrame(data = data, schema = columns)"
      ],
      "metadata": {
        "application/vnd.databricks.v1+cell": {
          "title": "",
          "showTitle": false,
          "inputWidgets": {},
          "nuid": "fa9dd842-3489-4204-85c2-46919728aa14"
        },
        "id": "wQd6E73Es3SL"
      },
      "outputs": [],
      "execution_count": null
    },
    {
      "cell_type": "code",
      "source": [
        "df.show()"
      ],
      "metadata": {
        "application/vnd.databricks.v1+cell": {
          "title": "",
          "showTitle": false,
          "inputWidgets": {},
          "nuid": "7667fce0-b321-4a9d-beac-c9bc45170dbb"
        },
        "id": "cw51UP22s3SL",
        "outputId": "c389572c-b7a4-43fb-e0e7-60156d6c1767",
        "colab": {
          "base_uri": "https://localhost:8080/"
        }
      },
      "outputs": [
        {
          "output_type": "stream",
          "name": "stdout",
          "text": [
            "+-------------+----------+------+\n",
            "|employee_name|department|salary|\n",
            "+-------------+----------+------+\n",
            "|        James|     Sales|  3000|\n",
            "|      Michael|     Sales|  4600|\n",
            "|       Robert|     Sales|  4100|\n",
            "|        Maria|   Finance|  3000|\n",
            "|        James|     Sales|  3000|\n",
            "|        Scott|   Finance|  3300|\n",
            "|          Jen|   Finance|  3900|\n",
            "|         Jeff| Marketing|  3000|\n",
            "|        Perro|     Sales|    15|\n",
            "|        Perro|     Sales|    15|\n",
            "+-------------+----------+------+\n",
            "\n"
          ]
        }
      ],
      "execution_count": null
    },
    {
      "cell_type": "code",
      "source": [
        "params_DfFilterLessEqValue = {}\n",
        "params_DfFilterLessEqValue['Value']= 4000\n",
        "params_DfFilterLessEqValue['inputCols']= ['salary']"
      ],
      "metadata": {
        "application/vnd.databricks.v1+cell": {
          "title": "",
          "showTitle": false,
          "inputWidgets": {},
          "nuid": "7f12f9fb-6a8e-4fb9-a70a-cb207a0309b4"
        },
        "id": "VAKf8QpFs3SM"
      },
      "outputs": [],
      "execution_count": null
    },
    {
      "cell_type": "code",
      "source": [
        "Transformer_DfFilterLessEqValue = DfFilterLessEqValue(Value=params_DfFilterLessEqValue['Value'], inputCols=params_DfFilterLessEqValue['inputCols'])"
      ],
      "metadata": {
        "application/vnd.databricks.v1+cell": {
          "title": "",
          "showTitle": false,
          "inputWidgets": {},
          "nuid": "d1366b68-1406-49fa-b0fa-71e8e858d6c6"
        },
        "id": "1vwnRgXNs3SM"
      },
      "outputs": [],
      "execution_count": null
    },
    {
      "cell_type": "code",
      "source": [
        "Transformer_DfFilterLessEqValue.transform(df).show()"
      ],
      "metadata": {
        "application/vnd.databricks.v1+cell": {
          "title": "",
          "showTitle": false,
          "inputWidgets": {},
          "nuid": "51385a71-80f9-400f-94f6-b6387376a924"
        },
        "id": "n9DIcOqks3SM",
        "outputId": "8275a41c-edc4-4df8-c6c6-8d86efb25a3c",
        "colab": {
          "base_uri": "https://localhost:8080/"
        }
      },
      "outputs": [
        {
          "output_type": "stream",
          "name": "stdout",
          "text": [
            "+-------------+----------+------+\n",
            "|employee_name|department|salary|\n",
            "+-------------+----------+------+\n",
            "|      Michael|     Sales|  4600|\n",
            "|       Robert|     Sales|  4100|\n",
            "+-------------+----------+------+\n",
            "\n"
          ]
        }
      ],
      "execution_count": null
    }
  ],
  "metadata": {
    "application/vnd.databricks.v1+notebook": {
      "notebookName": "E_00_Transformadores",
      "dashboards": [],
      "notebookMetadata": {
        "pythonIndentUnit": 2
      },
      "language": "python",
      "widgets": {},
      "notebookOrigID": 4107907380847828
    },
    "colab": {
      "provenance": [],
      "include_colab_link": true
    },
    "language_info": {
      "name": "python"
    },
    "kernelspec": {
      "name": "python3",
      "display_name": "Python 3"
    }
  },
  "nbformat": 4,
  "nbformat_minor": 0
}