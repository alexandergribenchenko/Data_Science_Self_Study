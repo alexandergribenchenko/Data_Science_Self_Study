{
  "nbformat": 4,
  "nbformat_minor": 0,
  "metadata": {
    "colab": {
      "provenance": [],
      "authorship_tag": "ABX9TyP6cfCfs/gAmBj1nFqRCKos",
      "include_colab_link": true
    },
    "kernelspec": {
      "name": "python3",
      "display_name": "Python 3"
    },
    "language_info": {
      "name": "python"
    }
  },
  "cells": [
    {
      "cell_type": "markdown",
      "metadata": {
        "id": "view-in-github",
        "colab_type": "text"
      },
      "source": [
        "<a href=\"https://colab.research.google.com/github/alexandergribenchenko/Data_Science_Toolkit/blob/main/Pyspark/DS_PySpark_03_Filtering_Aggregating.ipynb\" target=\"_parent\"><img src=\"https://colab.research.google.com/assets/colab-badge.svg\" alt=\"Open In Colab\"/></a>"
      ]
    },
    {
      "cell_type": "code",
      "execution_count": null,
      "metadata": {
        "id": "jJ72BGOcuD-7"
      },
      "outputs": [],
      "source": [
        "df_transactions_summary = dfs_raw_transactions_summary.\\\n",
        "    withColumn('source_item_id', dfs_raw_transactions_summary.source_system_id).\\\n",
        "    withColumn('price', col('price').cast('double')).\\\n",
        "    withColumn('units', col('units').cast('double')).\\\n",
        "    select('rest_id',\n",
        "           'brand_id',\n",
        "           'source_item_id',\n",
        "           'units'\n",
        "           ).\\\n",
        "    filter((col('brand_id') ==  dict_parameters['brand']) &\n",
        "           (col('source_item_id').isin(list_parent_child_ids_interest)) &\n",
        "           (col('business_date') >=  dict_parameters['threshold_date']) &\n",
        "           (col('price') >=  0) &\n",
        "           (col('units') >=  0)\n",
        "           ).\\\n",
        "    groupBy('rest_id',\n",
        "            'brand_id',\n",
        "            'source_item_id').\\\n",
        "    agg(sum('units').alias('units')).\\\n",
        "    orderBy(['brand_id',\n",
        "             'rest_id',\n",
        "             'source_item_id'],\n",
        "            ascending=[True,\n",
        "                       True,\n",
        "                       True]).\\\n",
        "    toPandas()\n",
        "df_transactions_summary"
      ]
    },
    {
      "cell_type": "code",
      "source": [
        "dfs_wh_talent__ats_shortforms_fact.limit(25).\\\n",
        "    withColumn('ats_shortform_duration_in_days', col('ats_shortform_duration_in_days').cast('double')).\\\n",
        "    toPandas()"
      ],
      "metadata": {
        "id": "v5-_chbIuM5I"
      },
      "execution_count": null,
      "outputs": []
    },
    {
      "cell_type": "code",
      "source": [
        "display(df_spark)"
      ],
      "metadata": {
        "id": "mwrPk-P8uM3B"
      },
      "execution_count": null,
      "outputs": []
    },
    {
      "cell_type": "code",
      "source": [],
      "metadata": {
        "id": "7vb7bHAsuM0t"
      },
      "execution_count": null,
      "outputs": []
    },
    {
      "cell_type": "code",
      "source": [],
      "metadata": {
        "id": "oikeW8oAuMyh"
      },
      "execution_count": null,
      "outputs": []
    },
    {
      "cell_type": "code",
      "source": [],
      "metadata": {
        "id": "XFpbkU-GuMvu"
      },
      "execution_count": null,
      "outputs": []
    },
    {
      "cell_type": "code",
      "source": [],
      "metadata": {
        "id": "m4Ul3TmauMtg"
      },
      "execution_count": null,
      "outputs": []
    }
  ]
}