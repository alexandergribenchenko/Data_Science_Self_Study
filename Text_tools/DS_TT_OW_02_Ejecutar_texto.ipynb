{
  "nbformat": 4,
  "nbformat_minor": 0,
  "metadata": {
    "colab": {
      "provenance": [],
      "authorship_tag": "ABX9TyMTSI5upL/qAUlrg1YCHrJv",
      "include_colab_link": true
    },
    "kernelspec": {
      "name": "python3",
      "display_name": "Python 3"
    },
    "language_info": {
      "name": "python"
    }
  },
  "cells": [
    {
      "cell_type": "markdown",
      "metadata": {
        "id": "view-in-github",
        "colab_type": "text"
      },
      "source": [
        "<a href=\"https://colab.research.google.com/github/alexandergribenchenko/Data_Science_Toolkit/blob/main/Text_tools/DS_TT_OW_02_Ejecutar_texto.ipynb\" target=\"_parent\"><img src=\"https://colab.research.google.com/assets/colab-badge.svg\" alt=\"Open In Colab\"/></a>"
      ]
    },
    {
      "cell_type": "code",
      "execution_count": 5,
      "metadata": {
        "colab": {
          "base_uri": "https://localhost:8080/"
        },
        "id": "RxQ_oLlMDQuy",
        "outputId": "3fbd565c-997d-480e-a4aa-8fa410b0ae1f"
      },
      "outputs": [
        {
          "output_type": "stream",
          "name": "stdout",
          "text": [
            "0 2 4 6 8\n"
          ]
        }
      ],
      "source": [
        "for k in range(5):\n",
        "    exec(f'cat_{k} = k*2')\n",
        "\n",
        "print(cat_0, cat_1, cat_2, cat_3, cat_4)"
      ]
    },
    {
      "cell_type": "code",
      "source": [
        "text_function = 'def suma(a,b):\\n\\treturn a+b'"
      ],
      "metadata": {
        "id": "TMQnjA39DcfQ"
      },
      "execution_count": 19,
      "outputs": []
    },
    {
      "cell_type": "code",
      "source": [
        "print(text_function)"
      ],
      "metadata": {
        "colab": {
          "base_uri": "https://localhost:8080/"
        },
        "id": "Uscq_aJnDcc-",
        "outputId": "8c18464e-28ec-45e5-ef2b-e62bb0fab62e"
      },
      "execution_count": 20,
      "outputs": [
        {
          "output_type": "stream",
          "name": "stdout",
          "text": [
            "def suma(a,b):\n",
            "\treturn a+b\n"
          ]
        }
      ]
    },
    {
      "cell_type": "code",
      "source": [
        "exec(text_function)"
      ],
      "metadata": {
        "id": "vlGhFv-aPEES"
      },
      "execution_count": 21,
      "outputs": []
    },
    {
      "cell_type": "code",
      "source": [
        "suma(2,3)"
      ],
      "metadata": {
        "colab": {
          "base_uri": "https://localhost:8080/"
        },
        "id": "GpIyTwemQhkS",
        "outputId": "9be09816-8ba2-431d-9da5-6d5d58853d5d"
      },
      "execution_count": 22,
      "outputs": [
        {
          "output_type": "execute_result",
          "data": {
            "text/plain": [
              "5"
            ]
          },
          "metadata": {},
          "execution_count": 22
        }
      ]
    },
    {
      "cell_type": "code",
      "source": [],
      "metadata": {
        "id": "lpAKAR0LSpOL"
      },
      "execution_count": null,
      "outputs": []
    }
  ]
}