{
  "nbformat": 4,
  "nbformat_minor": 0,
  "metadata": {
    "colab": {
      "provenance": [],
      "authorship_tag": "ABX9TyPH9wdpR50103gM20iyGDnM",
      "include_colab_link": true
    },
    "kernelspec": {
      "name": "python3",
      "display_name": "Python 3"
    },
    "language_info": {
      "name": "python"
    }
  },
  "cells": [
    {
      "cell_type": "markdown",
      "metadata": {
        "id": "view-in-github",
        "colab_type": "text"
      },
      "source": [
        "<a href=\"https://colab.research.google.com/github/alexandergribenchenko/Data_Science_Toolkit/blob/main/Text_tools/DS_TT_OW_03_Caracteres_especiales_python.ipynb\" target=\"_parent\"><img src=\"https://colab.research.google.com/assets/colab-badge.svg\" alt=\"Open In Colab\"/></a>"
      ]
    },
    {
      "cell_type": "markdown",
      "source": [
        "# Especial characters in Python"
      ],
      "metadata": {
        "id": "NZQEWkqNPE0d"
      }
    },
    {
      "cell_type": "markdown",
      "source": [
        "| escape characters | Result |\n",
        "| ----------- | -----------  |\n",
        "|\\\\'\t        |Single Quote\t |\n",
        "|\\\\\\\t        |Backslash\t   |\n",
        "|\\n\t          |New Line\t        |\n",
        "|\\r\t          |Carriage Return\t|\n",
        "|\\t\t          |Tab\t            |\n",
        "|\\b\t          |Backspace\t|\n",
        "|\\f\t          |Form Feed\t|\n",
        "|\\ooo\t        |Octal value\t|\n",
        "|\\xhh\t        |Hex value|"
      ],
      "metadata": {
        "id": "DuO58hcIOpLP"
      }
    },
    {
      "cell_type": "markdown",
      "source": [
        "- [Especial characters Python](https://www.w3schools.com/python/gloss_python_escape_characters.asp)"
      ],
      "metadata": {
        "id": "50QHxAyBQGz2"
      }
    },
    {
      "cell_type": "markdown",
      "source": [
        "# Uses"
      ],
      "metadata": {
        "id": "upRuJUzzRRl0"
      }
    },
    {
      "cell_type": "code",
      "source": [
        "text_function = 'def suma(a,b):\\n\\treturn a+b'"
      ],
      "metadata": {
        "id": "TMQnjA39DcfQ"
      },
      "execution_count": 2,
      "outputs": []
    },
    {
      "cell_type": "code",
      "source": [
        "print(text_function)"
      ],
      "metadata": {
        "colab": {
          "base_uri": "https://localhost:8080/"
        },
        "id": "Uscq_aJnDcc-",
        "outputId": "ab8c28e5-67ed-43f5-fd45-6801c6825d91"
      },
      "execution_count": 3,
      "outputs": [
        {
          "output_type": "stream",
          "name": "stdout",
          "text": [
            "def suma(a,b):\n",
            "\treturn a+b\n"
          ]
        }
      ]
    },
    {
      "cell_type": "code",
      "source": [],
      "metadata": {
        "id": "rq1iHXCrRWs0"
      },
      "execution_count": null,
      "outputs": []
    }
  ]
}