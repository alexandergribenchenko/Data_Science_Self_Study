{
  "cells": [
    {
      "cell_type": "markdown",
      "metadata": {
        "id": "view-in-github",
        "colab_type": "text"
      },
      "source": [
        "<a href=\"https://colab.research.google.com/github/alexandergribenchenko/Data_Science_Toolkit/blob/main/Sklearn_Transformers/DS_TS_EX_01_Customized_Transformers.ipynb\" target=\"_parent\"><img src=\"https://colab.research.google.com/assets/colab-badge.svg\" alt=\"Open In Colab\"/></a>"
      ]
    },
    {
      "cell_type": "code",
      "execution_count": 34,
      "metadata": {
        "id": "nv38-z7h9AD5"
      },
      "outputs": [],
      "source": [
        "from sklearn.pipeline import Pipeline\n",
        "\n",
        "from sklearn.preprocessing import StandardScaler\n",
        "from sklearn.linear_model import LogisticRegression\n",
        "\n",
        "from sklearn import set_config"
      ]
    },
    {
      "cell_type": "code",
      "execution_count": 56,
      "metadata": {
        "id": "vzvLRpDz9AEA"
      },
      "outputs": [],
      "source": [
        "mi_pipeline=Pipeline(steps=[(\"mi_escalador\",StandardScaler(with_mean=False)),\n",
        "                     (\"mi_clasificador\",LogisticRegression())])"
      ]
    },
    {
      "cell_type": "code",
      "execution_count": 57,
      "metadata": {
        "id": "wLhDgJ4L9AEB",
        "outputId": "f4d42da8-90dd-4656-ed96-1bdb1424d96c",
        "colab": {
          "base_uri": "https://localhost:8080/",
          "height": 126
        }
      },
      "outputs": [
        {
          "output_type": "execute_result",
          "data": {
            "text/plain": [
              "Pipeline(steps=[('mi_escalador', StandardScaler(with_mean=False)),\n",
              "                ('mi_clasificador', LogisticRegression())])"
            ],
            "text/html": [
              "<style>#sk-4f5bd2e1-8881-45c3-b99a-e2927b40de4a {color: black;background-color: white;}#sk-4f5bd2e1-8881-45c3-b99a-e2927b40de4a pre{padding: 0;}#sk-4f5bd2e1-8881-45c3-b99a-e2927b40de4a div.sk-toggleable {background-color: white;}#sk-4f5bd2e1-8881-45c3-b99a-e2927b40de4a label.sk-toggleable__label {cursor: pointer;display: block;width: 100%;margin-bottom: 0;padding: 0.3em;box-sizing: border-box;text-align: center;}#sk-4f5bd2e1-8881-45c3-b99a-e2927b40de4a label.sk-toggleable__label-arrow:before {content: \"▸\";float: left;margin-right: 0.25em;color: #696969;}#sk-4f5bd2e1-8881-45c3-b99a-e2927b40de4a label.sk-toggleable__label-arrow:hover:before {color: black;}#sk-4f5bd2e1-8881-45c3-b99a-e2927b40de4a div.sk-estimator:hover label.sk-toggleable__label-arrow:before {color: black;}#sk-4f5bd2e1-8881-45c3-b99a-e2927b40de4a div.sk-toggleable__content {max-height: 0;max-width: 0;overflow: hidden;text-align: left;background-color: #f0f8ff;}#sk-4f5bd2e1-8881-45c3-b99a-e2927b40de4a div.sk-toggleable__content pre {margin: 0.2em;color: black;border-radius: 0.25em;background-color: #f0f8ff;}#sk-4f5bd2e1-8881-45c3-b99a-e2927b40de4a input.sk-toggleable__control:checked~div.sk-toggleable__content {max-height: 200px;max-width: 100%;overflow: auto;}#sk-4f5bd2e1-8881-45c3-b99a-e2927b40de4a input.sk-toggleable__control:checked~label.sk-toggleable__label-arrow:before {content: \"▾\";}#sk-4f5bd2e1-8881-45c3-b99a-e2927b40de4a div.sk-estimator input.sk-toggleable__control:checked~label.sk-toggleable__label {background-color: #d4ebff;}#sk-4f5bd2e1-8881-45c3-b99a-e2927b40de4a div.sk-label input.sk-toggleable__control:checked~label.sk-toggleable__label {background-color: #d4ebff;}#sk-4f5bd2e1-8881-45c3-b99a-e2927b40de4a input.sk-hidden--visually {border: 0;clip: rect(1px 1px 1px 1px);clip: rect(1px, 1px, 1px, 1px);height: 1px;margin: -1px;overflow: hidden;padding: 0;position: absolute;width: 1px;}#sk-4f5bd2e1-8881-45c3-b99a-e2927b40de4a div.sk-estimator {font-family: monospace;background-color: #f0f8ff;border: 1px dotted black;border-radius: 0.25em;box-sizing: border-box;margin-bottom: 0.5em;}#sk-4f5bd2e1-8881-45c3-b99a-e2927b40de4a div.sk-estimator:hover {background-color: #d4ebff;}#sk-4f5bd2e1-8881-45c3-b99a-e2927b40de4a div.sk-parallel-item::after {content: \"\";width: 100%;border-bottom: 1px solid gray;flex-grow: 1;}#sk-4f5bd2e1-8881-45c3-b99a-e2927b40de4a div.sk-label:hover label.sk-toggleable__label {background-color: #d4ebff;}#sk-4f5bd2e1-8881-45c3-b99a-e2927b40de4a div.sk-serial::before {content: \"\";position: absolute;border-left: 1px solid gray;box-sizing: border-box;top: 2em;bottom: 0;left: 50%;}#sk-4f5bd2e1-8881-45c3-b99a-e2927b40de4a div.sk-serial {display: flex;flex-direction: column;align-items: center;background-color: white;padding-right: 0.2em;padding-left: 0.2em;}#sk-4f5bd2e1-8881-45c3-b99a-e2927b40de4a div.sk-item {z-index: 1;}#sk-4f5bd2e1-8881-45c3-b99a-e2927b40de4a div.sk-parallel {display: flex;align-items: stretch;justify-content: center;background-color: white;}#sk-4f5bd2e1-8881-45c3-b99a-e2927b40de4a div.sk-parallel::before {content: \"\";position: absolute;border-left: 1px solid gray;box-sizing: border-box;top: 2em;bottom: 0;left: 50%;}#sk-4f5bd2e1-8881-45c3-b99a-e2927b40de4a div.sk-parallel-item {display: flex;flex-direction: column;position: relative;background-color: white;}#sk-4f5bd2e1-8881-45c3-b99a-e2927b40de4a div.sk-parallel-item:first-child::after {align-self: flex-end;width: 50%;}#sk-4f5bd2e1-8881-45c3-b99a-e2927b40de4a div.sk-parallel-item:last-child::after {align-self: flex-start;width: 50%;}#sk-4f5bd2e1-8881-45c3-b99a-e2927b40de4a div.sk-parallel-item:only-child::after {width: 0;}#sk-4f5bd2e1-8881-45c3-b99a-e2927b40de4a div.sk-dashed-wrapped {border: 1px dashed gray;margin: 0 0.4em 0.5em 0.4em;box-sizing: border-box;padding-bottom: 0.4em;background-color: white;position: relative;}#sk-4f5bd2e1-8881-45c3-b99a-e2927b40de4a div.sk-label label {font-family: monospace;font-weight: bold;background-color: white;display: inline-block;line-height: 1.2em;}#sk-4f5bd2e1-8881-45c3-b99a-e2927b40de4a div.sk-label-container {position: relative;z-index: 2;text-align: center;}#sk-4f5bd2e1-8881-45c3-b99a-e2927b40de4a div.sk-container {/* jupyter's `normalize.less` sets `[hidden] { display: none; }` but bootstrap.min.css set `[hidden] { display: none !important; }` so we also need the `!important` here to be able to override the default hidden behavior on the sphinx rendered scikit-learn.org. See: https://github.com/scikit-learn/scikit-learn/issues/21755 */display: inline-block !important;position: relative;}#sk-4f5bd2e1-8881-45c3-b99a-e2927b40de4a div.sk-text-repr-fallback {display: none;}</style><div id=\"sk-4f5bd2e1-8881-45c3-b99a-e2927b40de4a\" class=\"sk-top-container\"><div class=\"sk-text-repr-fallback\"><pre>Pipeline(steps=[(&#x27;mi_escalador&#x27;, StandardScaler(with_mean=False)),\n",
              "                (&#x27;mi_clasificador&#x27;, LogisticRegression())])</pre><b>Please rerun this cell to show the HTML repr or trust the notebook.</b></div><div class=\"sk-container\" hidden><div class=\"sk-item sk-dashed-wrapped\"><div class=\"sk-label-container\"><div class=\"sk-label sk-toggleable\"><input class=\"sk-toggleable__control sk-hidden--visually\" id=\"ec97e0cf-6b78-4f91-99ce-efeaf741c01c\" type=\"checkbox\" ><label for=\"ec97e0cf-6b78-4f91-99ce-efeaf741c01c\" class=\"sk-toggleable__label sk-toggleable__label-arrow\">Pipeline</label><div class=\"sk-toggleable__content\"><pre>Pipeline(steps=[(&#x27;mi_escalador&#x27;, StandardScaler(with_mean=False)),\n",
              "                (&#x27;mi_clasificador&#x27;, LogisticRegression())])</pre></div></div></div><div class=\"sk-serial\"><div class=\"sk-item\"><div class=\"sk-estimator sk-toggleable\"><input class=\"sk-toggleable__control sk-hidden--visually\" id=\"e592ccd4-c0bb-48d8-b337-4bffa3b98edf\" type=\"checkbox\" ><label for=\"e592ccd4-c0bb-48d8-b337-4bffa3b98edf\" class=\"sk-toggleable__label sk-toggleable__label-arrow\">StandardScaler</label><div class=\"sk-toggleable__content\"><pre>StandardScaler(with_mean=False)</pre></div></div></div><div class=\"sk-item\"><div class=\"sk-estimator sk-toggleable\"><input class=\"sk-toggleable__control sk-hidden--visually\" id=\"90e0bf02-f77b-459d-b009-d2e701f99545\" type=\"checkbox\" ><label for=\"90e0bf02-f77b-459d-b009-d2e701f99545\" class=\"sk-toggleable__label sk-toggleable__label-arrow\">LogisticRegression</label><div class=\"sk-toggleable__content\"><pre>LogisticRegression()</pre></div></div></div></div></div></div></div>"
            ]
          },
          "metadata": {},
          "execution_count": 57
        }
      ],
      "source": [
        "set_config(display=\"diagram\")\n",
        "mi_pipeline"
      ]
    },
    {
      "cell_type": "code",
      "source": [
        "set_config(display=\"text\")\n",
        "mi_pipeline"
      ],
      "metadata": {
        "id": "8FyKs_av9fmx",
        "outputId": "029a3c11-7358-4a71-f8f7-f5c1a644a3fd",
        "colab": {
          "base_uri": "https://localhost:8080/"
        }
      },
      "execution_count": 58,
      "outputs": [
        {
          "output_type": "execute_result",
          "data": {
            "text/plain": [
              "Pipeline(steps=[('mi_escalador', StandardScaler(with_mean=False)),\n",
              "                ('mi_clasificador', LogisticRegression())])"
            ]
          },
          "metadata": {},
          "execution_count": 58
        }
      ]
    },
    {
      "cell_type": "code",
      "source": [
        "mi_pipeline.get_params()"
      ],
      "metadata": {
        "id": "kLm3GYMy98cL",
        "outputId": "26ecd2cb-7d4e-4f50-8b08-b6d23c2b572b",
        "colab": {
          "base_uri": "https://localhost:8080/"
        }
      },
      "execution_count": 59,
      "outputs": [
        {
          "output_type": "execute_result",
          "data": {
            "text/plain": [
              "{'memory': None,\n",
              " 'steps': [('mi_escalador', StandardScaler(with_mean=False)),\n",
              "  ('mi_clasificador', LogisticRegression())],\n",
              " 'verbose': False,\n",
              " 'mi_escalador': StandardScaler(with_mean=False),\n",
              " 'mi_clasificador': LogisticRegression(),\n",
              " 'mi_escalador__copy': True,\n",
              " 'mi_escalador__with_mean': False,\n",
              " 'mi_escalador__with_std': True,\n",
              " 'mi_clasificador__C': 1.0,\n",
              " 'mi_clasificador__class_weight': None,\n",
              " 'mi_clasificador__dual': False,\n",
              " 'mi_clasificador__fit_intercept': True,\n",
              " 'mi_clasificador__intercept_scaling': 1,\n",
              " 'mi_clasificador__l1_ratio': None,\n",
              " 'mi_clasificador__max_iter': 100,\n",
              " 'mi_clasificador__multi_class': 'auto',\n",
              " 'mi_clasificador__n_jobs': None,\n",
              " 'mi_clasificador__penalty': 'l2',\n",
              " 'mi_clasificador__random_state': None,\n",
              " 'mi_clasificador__solver': 'lbfgs',\n",
              " 'mi_clasificador__tol': 0.0001,\n",
              " 'mi_clasificador__verbose': 0,\n",
              " 'mi_clasificador__warm_start': False}"
            ]
          },
          "metadata": {},
          "execution_count": 59
        }
      ]
    },
    {
      "cell_type": "code",
      "source": [
        "type(mi_pipeline.get_params())"
      ],
      "metadata": {
        "id": "IYmMFtMR-TVR",
        "outputId": "ac908fe4-8eff-411d-9828-1ab1ed79a056",
        "colab": {
          "base_uri": "https://localhost:8080/"
        }
      },
      "execution_count": 60,
      "outputs": [
        {
          "output_type": "execute_result",
          "data": {
            "text/plain": [
              "dict"
            ]
          },
          "metadata": {},
          "execution_count": 60
        }
      ]
    },
    {
      "cell_type": "code",
      "source": [
        "mi_pipeline.set_params({'mi_escalador__with_mean'=True, 'mi_escalador__copy': True})"
      ],
      "metadata": {
        "id": "26syNCLt9cwN",
        "outputId": "461bd617-2b2d-4e03-f07c-c7f4d8795538",
        "colab": {
          "base_uri": "https://localhost:8080/",
          "height": 130
        }
      },
      "execution_count": 65,
      "outputs": [
        {
          "output_type": "error",
          "ename": "SyntaxError",
          "evalue": "ignored",
          "traceback": [
            "\u001b[0;36m  File \u001b[0;32m\"<ipython-input-65-7dfed9f7098d>\"\u001b[0;36m, line \u001b[0;32m1\u001b[0m\n\u001b[0;31m    mi_pipeline.set_params({'mi_escalador__with_mean'=True, 'mi_escalador__copy': True})\u001b[0m\n\u001b[0m                                                     ^\u001b[0m\n\u001b[0;31mSyntaxError\u001b[0m\u001b[0;31m:\u001b[0m invalid syntax\n"
          ]
        }
      ]
    },
    {
      "cell_type": "code",
      "source": [
        "mi_pipeline.get_params()"
      ],
      "metadata": {
        "id": "wZO9jKis9ckJ",
        "outputId": "ac5995b1-57ca-4c60-cd61-393f12fb0447",
        "colab": {
          "base_uri": "https://localhost:8080/"
        }
      },
      "execution_count": 62,
      "outputs": [
        {
          "output_type": "execute_result",
          "data": {
            "text/plain": [
              "{'memory': None,\n",
              " 'steps': [('mi_escalador', StandardScaler()),\n",
              "  ('mi_clasificador', LogisticRegression())],\n",
              " 'verbose': False,\n",
              " 'mi_escalador': StandardScaler(),\n",
              " 'mi_clasificador': LogisticRegression(),\n",
              " 'mi_escalador__copy': True,\n",
              " 'mi_escalador__with_mean': True,\n",
              " 'mi_escalador__with_std': True,\n",
              " 'mi_clasificador__C': 1.0,\n",
              " 'mi_clasificador__class_weight': None,\n",
              " 'mi_clasificador__dual': False,\n",
              " 'mi_clasificador__fit_intercept': True,\n",
              " 'mi_clasificador__intercept_scaling': 1,\n",
              " 'mi_clasificador__l1_ratio': None,\n",
              " 'mi_clasificador__max_iter': 100,\n",
              " 'mi_clasificador__multi_class': 'auto',\n",
              " 'mi_clasificador__n_jobs': None,\n",
              " 'mi_clasificador__penalty': 'l2',\n",
              " 'mi_clasificador__random_state': None,\n",
              " 'mi_clasificador__solver': 'lbfgs',\n",
              " 'mi_clasificador__tol': 0.0001,\n",
              " 'mi_clasificador__verbose': 0,\n",
              " 'mi_clasificador__warm_start': False}"
            ]
          },
          "metadata": {},
          "execution_count": 62
        }
      ]
    },
    {
      "cell_type": "code",
      "source": [],
      "metadata": {
        "id": "wG1GR8dNE3Vu"
      },
      "execution_count": null,
      "outputs": []
    },
    {
      "cell_type": "code",
      "source": [
        "import pandas as pd\n",
        "from sklearn.base import BaseEstimator, TransformerMixin\n",
        "from sklearn.pipeline import Pipeline\n",
        "class MultiplyColumns(BaseEstimator, TransformerMixin):\n",
        "    def __init__(self, by=1, columns=None):\n",
        "        self.by = by\n",
        "        self.columns = columns\n",
        "    \n",
        "    def fit(self, X, y=None):\n",
        "        return self\n",
        "    def transform(self, X, y=None):\n",
        "        cols_to_transform = list(X.columns)\n",
        "        if self.columns:\n",
        "            cols_to_transform = self.columns\n",
        "        X[cols_to_transform] = X[cols_to_transform] * self.by\n",
        "        return X\n",
        "# Use Custom Transformer\n",
        "df = pd.DataFrame({\"a\": [1, -2, 3], \"b\": [-4, 5, 6], \"c\": [-7, -8, 9]})\n",
        "pipe = Pipeline(steps=[(\"multiply_cols_by_3\", MultiplyColumns(3, columns=[\"a\", \"c\"])),\n",
        "                       (\"multiply_cols_by_5\", MultiplyColumns(5, columns=[\"b\", \"c\"]))]\n",
        "              )\n",
        "transformed_df = pipe.fit_transform(df)\n",
        "print(df)"
      ],
      "metadata": {
        "id": "_HMvEHOtE3T4",
        "outputId": "a492d8ef-95fd-40d7-9c19-774c1bb5b2f6",
        "colab": {
          "base_uri": "https://localhost:8080/"
        }
      },
      "execution_count": 78,
      "outputs": [
        {
          "metadata": {
            "tags": null
          },
          "name": "stdout",
          "output_type": "stream",
          "text": [
            "   a   b    c\n",
            "0  3 -20 -105\n",
            "1 -6  25 -120\n",
            "2  9  30  135\n"
          ]
        }
      ]
    },
    {
      "cell_type": "code",
      "source": [
        "pipe.get_params()"
      ],
      "metadata": {
        "id": "zDKulCJXE3Rj",
        "outputId": "da10b95f-cb58-4c32-d8c4-5f7c4337ec75",
        "colab": {
          "base_uri": "https://localhost:8080/"
        }
      },
      "execution_count": 79,
      "outputs": [
        {
          "output_type": "execute_result",
          "data": {
            "text/plain": [
              "{'memory': None,\n",
              " 'steps': [('multiply_cols_by_3', MultiplyColumns(by=3, columns=['a', 'c'])),\n",
              "  ('multiply_cols_by_5', MultiplyColumns(by=5, columns=['b', 'c']))],\n",
              " 'verbose': False,\n",
              " 'multiply_cols_by_3': MultiplyColumns(by=3, columns=['a', 'c']),\n",
              " 'multiply_cols_by_5': MultiplyColumns(by=5, columns=['b', 'c']),\n",
              " 'multiply_cols_by_3__by': 3,\n",
              " 'multiply_cols_by_3__columns': ['a', 'c'],\n",
              " 'multiply_cols_by_5__by': 5,\n",
              " 'multiply_cols_by_5__columns': ['b', 'c']}"
            ]
          },
          "metadata": {},
          "execution_count": 79
        }
      ]
    },
    {
      "cell_type": "code",
      "source": [
        "set_config(display=\"diagram\")\n",
        "pipe"
      ],
      "metadata": {
        "id": "bsusEBsJE3Px",
        "outputId": "afed347d-5213-440f-8864-e3536644f28f",
        "colab": {
          "base_uri": "https://localhost:8080/",
          "height": 247
        }
      },
      "execution_count": 80,
      "outputs": [
        {
          "output_type": "execute_result",
          "data": {
            "text/plain": [
              "Pipeline(steps=[('multiply_cols_by_3',\n",
              "                 MultiplyColumns(by=3, columns=['a', 'c'])),\n",
              "                ('multiply_cols_by_5',\n",
              "                 MultiplyColumns(by=5, columns=['b', 'c']))])"
            ],
            "text/html": [
              "<style>#sk-997ae739-c0e0-4148-ba2b-74438d1c06af {color: black;background-color: white;}#sk-997ae739-c0e0-4148-ba2b-74438d1c06af pre{padding: 0;}#sk-997ae739-c0e0-4148-ba2b-74438d1c06af div.sk-toggleable {background-color: white;}#sk-997ae739-c0e0-4148-ba2b-74438d1c06af label.sk-toggleable__label {cursor: pointer;display: block;width: 100%;margin-bottom: 0;padding: 0.3em;box-sizing: border-box;text-align: center;}#sk-997ae739-c0e0-4148-ba2b-74438d1c06af label.sk-toggleable__label-arrow:before {content: \"▸\";float: left;margin-right: 0.25em;color: #696969;}#sk-997ae739-c0e0-4148-ba2b-74438d1c06af label.sk-toggleable__label-arrow:hover:before {color: black;}#sk-997ae739-c0e0-4148-ba2b-74438d1c06af div.sk-estimator:hover label.sk-toggleable__label-arrow:before {color: black;}#sk-997ae739-c0e0-4148-ba2b-74438d1c06af div.sk-toggleable__content {max-height: 0;max-width: 0;overflow: hidden;text-align: left;background-color: #f0f8ff;}#sk-997ae739-c0e0-4148-ba2b-74438d1c06af div.sk-toggleable__content pre {margin: 0.2em;color: black;border-radius: 0.25em;background-color: #f0f8ff;}#sk-997ae739-c0e0-4148-ba2b-74438d1c06af input.sk-toggleable__control:checked~div.sk-toggleable__content {max-height: 200px;max-width: 100%;overflow: auto;}#sk-997ae739-c0e0-4148-ba2b-74438d1c06af input.sk-toggleable__control:checked~label.sk-toggleable__label-arrow:before {content: \"▾\";}#sk-997ae739-c0e0-4148-ba2b-74438d1c06af div.sk-estimator input.sk-toggleable__control:checked~label.sk-toggleable__label {background-color: #d4ebff;}#sk-997ae739-c0e0-4148-ba2b-74438d1c06af div.sk-label input.sk-toggleable__control:checked~label.sk-toggleable__label {background-color: #d4ebff;}#sk-997ae739-c0e0-4148-ba2b-74438d1c06af input.sk-hidden--visually {border: 0;clip: rect(1px 1px 1px 1px);clip: rect(1px, 1px, 1px, 1px);height: 1px;margin: -1px;overflow: hidden;padding: 0;position: absolute;width: 1px;}#sk-997ae739-c0e0-4148-ba2b-74438d1c06af div.sk-estimator {font-family: monospace;background-color: #f0f8ff;border: 1px dotted black;border-radius: 0.25em;box-sizing: border-box;margin-bottom: 0.5em;}#sk-997ae739-c0e0-4148-ba2b-74438d1c06af div.sk-estimator:hover {background-color: #d4ebff;}#sk-997ae739-c0e0-4148-ba2b-74438d1c06af div.sk-parallel-item::after {content: \"\";width: 100%;border-bottom: 1px solid gray;flex-grow: 1;}#sk-997ae739-c0e0-4148-ba2b-74438d1c06af div.sk-label:hover label.sk-toggleable__label {background-color: #d4ebff;}#sk-997ae739-c0e0-4148-ba2b-74438d1c06af div.sk-serial::before {content: \"\";position: absolute;border-left: 1px solid gray;box-sizing: border-box;top: 2em;bottom: 0;left: 50%;}#sk-997ae739-c0e0-4148-ba2b-74438d1c06af div.sk-serial {display: flex;flex-direction: column;align-items: center;background-color: white;padding-right: 0.2em;padding-left: 0.2em;}#sk-997ae739-c0e0-4148-ba2b-74438d1c06af div.sk-item {z-index: 1;}#sk-997ae739-c0e0-4148-ba2b-74438d1c06af div.sk-parallel {display: flex;align-items: stretch;justify-content: center;background-color: white;}#sk-997ae739-c0e0-4148-ba2b-74438d1c06af div.sk-parallel::before {content: \"\";position: absolute;border-left: 1px solid gray;box-sizing: border-box;top: 2em;bottom: 0;left: 50%;}#sk-997ae739-c0e0-4148-ba2b-74438d1c06af div.sk-parallel-item {display: flex;flex-direction: column;position: relative;background-color: white;}#sk-997ae739-c0e0-4148-ba2b-74438d1c06af div.sk-parallel-item:first-child::after {align-self: flex-end;width: 50%;}#sk-997ae739-c0e0-4148-ba2b-74438d1c06af div.sk-parallel-item:last-child::after {align-self: flex-start;width: 50%;}#sk-997ae739-c0e0-4148-ba2b-74438d1c06af div.sk-parallel-item:only-child::after {width: 0;}#sk-997ae739-c0e0-4148-ba2b-74438d1c06af div.sk-dashed-wrapped {border: 1px dashed gray;margin: 0 0.4em 0.5em 0.4em;box-sizing: border-box;padding-bottom: 0.4em;background-color: white;position: relative;}#sk-997ae739-c0e0-4148-ba2b-74438d1c06af div.sk-label label {font-family: monospace;font-weight: bold;background-color: white;display: inline-block;line-height: 1.2em;}#sk-997ae739-c0e0-4148-ba2b-74438d1c06af div.sk-label-container {position: relative;z-index: 2;text-align: center;}#sk-997ae739-c0e0-4148-ba2b-74438d1c06af div.sk-container {/* jupyter's `normalize.less` sets `[hidden] { display: none; }` but bootstrap.min.css set `[hidden] { display: none !important; }` so we also need the `!important` here to be able to override the default hidden behavior on the sphinx rendered scikit-learn.org. See: https://github.com/scikit-learn/scikit-learn/issues/21755 */display: inline-block !important;position: relative;}#sk-997ae739-c0e0-4148-ba2b-74438d1c06af div.sk-text-repr-fallback {display: none;}</style><div id=\"sk-997ae739-c0e0-4148-ba2b-74438d1c06af\" class=\"sk-top-container\"><div class=\"sk-text-repr-fallback\"><pre>Pipeline(steps=[(&#x27;multiply_cols_by_3&#x27;,\n",
              "                 MultiplyColumns(by=3, columns=[&#x27;a&#x27;, &#x27;c&#x27;])),\n",
              "                (&#x27;multiply_cols_by_5&#x27;,\n",
              "                 MultiplyColumns(by=5, columns=[&#x27;b&#x27;, &#x27;c&#x27;]))])</pre><b>Please rerun this cell to show the HTML repr or trust the notebook.</b></div><div class=\"sk-container\" hidden><div class=\"sk-item sk-dashed-wrapped\"><div class=\"sk-label-container\"><div class=\"sk-label sk-toggleable\"><input class=\"sk-toggleable__control sk-hidden--visually\" id=\"941eb679-f567-4abf-a555-758cf284d882\" type=\"checkbox\" ><label for=\"941eb679-f567-4abf-a555-758cf284d882\" class=\"sk-toggleable__label sk-toggleable__label-arrow\">Pipeline</label><div class=\"sk-toggleable__content\"><pre>Pipeline(steps=[(&#x27;multiply_cols_by_3&#x27;,\n",
              "                 MultiplyColumns(by=3, columns=[&#x27;a&#x27;, &#x27;c&#x27;])),\n",
              "                (&#x27;multiply_cols_by_5&#x27;,\n",
              "                 MultiplyColumns(by=5, columns=[&#x27;b&#x27;, &#x27;c&#x27;]))])</pre></div></div></div><div class=\"sk-serial\"><div class=\"sk-item\"><div class=\"sk-estimator sk-toggleable\"><input class=\"sk-toggleable__control sk-hidden--visually\" id=\"7c7c60b2-35cb-4d23-8dde-a3917b4a43db\" type=\"checkbox\" ><label for=\"7c7c60b2-35cb-4d23-8dde-a3917b4a43db\" class=\"sk-toggleable__label sk-toggleable__label-arrow\">MultiplyColumns</label><div class=\"sk-toggleable__content\"><pre>MultiplyColumns(by=3, columns=[&#x27;a&#x27;, &#x27;c&#x27;])</pre></div></div></div><div class=\"sk-item\"><div class=\"sk-estimator sk-toggleable\"><input class=\"sk-toggleable__control sk-hidden--visually\" id=\"40679852-3ddf-4645-b940-4ddc955817ed\" type=\"checkbox\" ><label for=\"40679852-3ddf-4645-b940-4ddc955817ed\" class=\"sk-toggleable__label sk-toggleable__label-arrow\">MultiplyColumns</label><div class=\"sk-toggleable__content\"><pre>MultiplyColumns(by=5, columns=[&#x27;b&#x27;, &#x27;c&#x27;])</pre></div></div></div></div></div></div></div>"
            ]
          },
          "metadata": {},
          "execution_count": 80
        }
      ]
    },
    {
      "cell_type": "code",
      "source": [
        "pipe.set_params(multiply_cols_by_3__columns=['a', 'b'])"
      ],
      "metadata": {
        "id": "oipksgYmE3Nl",
        "outputId": "d2b6909d-5e30-4273-8d5c-02b407e83158",
        "colab": {
          "base_uri": "https://localhost:8080/",
          "height": 115
        }
      },
      "execution_count": 72,
      "outputs": [
        {
          "output_type": "execute_result",
          "data": {
            "text/plain": [
              "Pipeline(steps=[('multiply_cols_by_3',\n",
              "                 MultiplyColumns(by=3, columns=['a', 'b']))])"
            ],
            "text/html": [
              "<style>#sk-bcc84c5b-aa8f-4e6d-a2ac-b348303297c9 {color: black;background-color: white;}#sk-bcc84c5b-aa8f-4e6d-a2ac-b348303297c9 pre{padding: 0;}#sk-bcc84c5b-aa8f-4e6d-a2ac-b348303297c9 div.sk-toggleable {background-color: white;}#sk-bcc84c5b-aa8f-4e6d-a2ac-b348303297c9 label.sk-toggleable__label {cursor: pointer;display: block;width: 100%;margin-bottom: 0;padding: 0.3em;box-sizing: border-box;text-align: center;}#sk-bcc84c5b-aa8f-4e6d-a2ac-b348303297c9 label.sk-toggleable__label-arrow:before {content: \"▸\";float: left;margin-right: 0.25em;color: #696969;}#sk-bcc84c5b-aa8f-4e6d-a2ac-b348303297c9 label.sk-toggleable__label-arrow:hover:before {color: black;}#sk-bcc84c5b-aa8f-4e6d-a2ac-b348303297c9 div.sk-estimator:hover label.sk-toggleable__label-arrow:before {color: black;}#sk-bcc84c5b-aa8f-4e6d-a2ac-b348303297c9 div.sk-toggleable__content {max-height: 0;max-width: 0;overflow: hidden;text-align: left;background-color: #f0f8ff;}#sk-bcc84c5b-aa8f-4e6d-a2ac-b348303297c9 div.sk-toggleable__content pre {margin: 0.2em;color: black;border-radius: 0.25em;background-color: #f0f8ff;}#sk-bcc84c5b-aa8f-4e6d-a2ac-b348303297c9 input.sk-toggleable__control:checked~div.sk-toggleable__content {max-height: 200px;max-width: 100%;overflow: auto;}#sk-bcc84c5b-aa8f-4e6d-a2ac-b348303297c9 input.sk-toggleable__control:checked~label.sk-toggleable__label-arrow:before {content: \"▾\";}#sk-bcc84c5b-aa8f-4e6d-a2ac-b348303297c9 div.sk-estimator input.sk-toggleable__control:checked~label.sk-toggleable__label {background-color: #d4ebff;}#sk-bcc84c5b-aa8f-4e6d-a2ac-b348303297c9 div.sk-label input.sk-toggleable__control:checked~label.sk-toggleable__label {background-color: #d4ebff;}#sk-bcc84c5b-aa8f-4e6d-a2ac-b348303297c9 input.sk-hidden--visually {border: 0;clip: rect(1px 1px 1px 1px);clip: rect(1px, 1px, 1px, 1px);height: 1px;margin: -1px;overflow: hidden;padding: 0;position: absolute;width: 1px;}#sk-bcc84c5b-aa8f-4e6d-a2ac-b348303297c9 div.sk-estimator {font-family: monospace;background-color: #f0f8ff;border: 1px dotted black;border-radius: 0.25em;box-sizing: border-box;margin-bottom: 0.5em;}#sk-bcc84c5b-aa8f-4e6d-a2ac-b348303297c9 div.sk-estimator:hover {background-color: #d4ebff;}#sk-bcc84c5b-aa8f-4e6d-a2ac-b348303297c9 div.sk-parallel-item::after {content: \"\";width: 100%;border-bottom: 1px solid gray;flex-grow: 1;}#sk-bcc84c5b-aa8f-4e6d-a2ac-b348303297c9 div.sk-label:hover label.sk-toggleable__label {background-color: #d4ebff;}#sk-bcc84c5b-aa8f-4e6d-a2ac-b348303297c9 div.sk-serial::before {content: \"\";position: absolute;border-left: 1px solid gray;box-sizing: border-box;top: 2em;bottom: 0;left: 50%;}#sk-bcc84c5b-aa8f-4e6d-a2ac-b348303297c9 div.sk-serial {display: flex;flex-direction: column;align-items: center;background-color: white;padding-right: 0.2em;padding-left: 0.2em;}#sk-bcc84c5b-aa8f-4e6d-a2ac-b348303297c9 div.sk-item {z-index: 1;}#sk-bcc84c5b-aa8f-4e6d-a2ac-b348303297c9 div.sk-parallel {display: flex;align-items: stretch;justify-content: center;background-color: white;}#sk-bcc84c5b-aa8f-4e6d-a2ac-b348303297c9 div.sk-parallel::before {content: \"\";position: absolute;border-left: 1px solid gray;box-sizing: border-box;top: 2em;bottom: 0;left: 50%;}#sk-bcc84c5b-aa8f-4e6d-a2ac-b348303297c9 div.sk-parallel-item {display: flex;flex-direction: column;position: relative;background-color: white;}#sk-bcc84c5b-aa8f-4e6d-a2ac-b348303297c9 div.sk-parallel-item:first-child::after {align-self: flex-end;width: 50%;}#sk-bcc84c5b-aa8f-4e6d-a2ac-b348303297c9 div.sk-parallel-item:last-child::after {align-self: flex-start;width: 50%;}#sk-bcc84c5b-aa8f-4e6d-a2ac-b348303297c9 div.sk-parallel-item:only-child::after {width: 0;}#sk-bcc84c5b-aa8f-4e6d-a2ac-b348303297c9 div.sk-dashed-wrapped {border: 1px dashed gray;margin: 0 0.4em 0.5em 0.4em;box-sizing: border-box;padding-bottom: 0.4em;background-color: white;position: relative;}#sk-bcc84c5b-aa8f-4e6d-a2ac-b348303297c9 div.sk-label label {font-family: monospace;font-weight: bold;background-color: white;display: inline-block;line-height: 1.2em;}#sk-bcc84c5b-aa8f-4e6d-a2ac-b348303297c9 div.sk-label-container {position: relative;z-index: 2;text-align: center;}#sk-bcc84c5b-aa8f-4e6d-a2ac-b348303297c9 div.sk-container {/* jupyter's `normalize.less` sets `[hidden] { display: none; }` but bootstrap.min.css set `[hidden] { display: none !important; }` so we also need the `!important` here to be able to override the default hidden behavior on the sphinx rendered scikit-learn.org. See: https://github.com/scikit-learn/scikit-learn/issues/21755 */display: inline-block !important;position: relative;}#sk-bcc84c5b-aa8f-4e6d-a2ac-b348303297c9 div.sk-text-repr-fallback {display: none;}</style><div id=\"sk-bcc84c5b-aa8f-4e6d-a2ac-b348303297c9\" class=\"sk-top-container\"><div class=\"sk-text-repr-fallback\"><pre>Pipeline(steps=[(&#x27;multiply_cols_by_3&#x27;,\n",
              "                 MultiplyColumns(by=3, columns=[&#x27;a&#x27;, &#x27;b&#x27;]))])</pre><b>Please rerun this cell to show the HTML repr or trust the notebook.</b></div><div class=\"sk-container\" hidden><div class=\"sk-item sk-dashed-wrapped\"><div class=\"sk-label-container\"><div class=\"sk-label sk-toggleable\"><input class=\"sk-toggleable__control sk-hidden--visually\" id=\"4395e219-7d6e-4a08-adf7-bdbfa8e326b4\" type=\"checkbox\" ><label for=\"4395e219-7d6e-4a08-adf7-bdbfa8e326b4\" class=\"sk-toggleable__label sk-toggleable__label-arrow\">Pipeline</label><div class=\"sk-toggleable__content\"><pre>Pipeline(steps=[(&#x27;multiply_cols_by_3&#x27;,\n",
              "                 MultiplyColumns(by=3, columns=[&#x27;a&#x27;, &#x27;b&#x27;]))])</pre></div></div></div><div class=\"sk-serial\"><div class=\"sk-item\"><div class=\"sk-estimator sk-toggleable\"><input class=\"sk-toggleable__control sk-hidden--visually\" id=\"86f7a25c-86f1-4497-80e4-9489388bea8b\" type=\"checkbox\" ><label for=\"86f7a25c-86f1-4497-80e4-9489388bea8b\" class=\"sk-toggleable__label sk-toggleable__label-arrow\">MultiplyColumns</label><div class=\"sk-toggleable__content\"><pre>MultiplyColumns(by=3, columns=[&#x27;a&#x27;, &#x27;b&#x27;])</pre></div></div></div></div></div></div></div>"
            ]
          },
          "metadata": {},
          "execution_count": 72
        }
      ]
    },
    {
      "cell_type": "code",
      "source": [
        "set_config(display=\"diagram\")\n",
        "pipe"
      ],
      "metadata": {
        "id": "o-pd7GB-F8N1",
        "outputId": "273e1dc0-e9d6-4931-9bb0-fd7b1d69b40c",
        "colab": {
          "base_uri": "https://localhost:8080/",
          "height": 115
        }
      },
      "execution_count": 74,
      "outputs": [
        {
          "output_type": "execute_result",
          "data": {
            "text/plain": [
              "Pipeline(steps=[('multiply_cols_by_3',\n",
              "                 MultiplyColumns(by=3, columns=['a', 'b']))])"
            ],
            "text/html": [
              "<style>#sk-53635755-46eb-481a-9b34-19a8b351209b {color: black;background-color: white;}#sk-53635755-46eb-481a-9b34-19a8b351209b pre{padding: 0;}#sk-53635755-46eb-481a-9b34-19a8b351209b div.sk-toggleable {background-color: white;}#sk-53635755-46eb-481a-9b34-19a8b351209b label.sk-toggleable__label {cursor: pointer;display: block;width: 100%;margin-bottom: 0;padding: 0.3em;box-sizing: border-box;text-align: center;}#sk-53635755-46eb-481a-9b34-19a8b351209b label.sk-toggleable__label-arrow:before {content: \"▸\";float: left;margin-right: 0.25em;color: #696969;}#sk-53635755-46eb-481a-9b34-19a8b351209b label.sk-toggleable__label-arrow:hover:before {color: black;}#sk-53635755-46eb-481a-9b34-19a8b351209b div.sk-estimator:hover label.sk-toggleable__label-arrow:before {color: black;}#sk-53635755-46eb-481a-9b34-19a8b351209b div.sk-toggleable__content {max-height: 0;max-width: 0;overflow: hidden;text-align: left;background-color: #f0f8ff;}#sk-53635755-46eb-481a-9b34-19a8b351209b div.sk-toggleable__content pre {margin: 0.2em;color: black;border-radius: 0.25em;background-color: #f0f8ff;}#sk-53635755-46eb-481a-9b34-19a8b351209b input.sk-toggleable__control:checked~div.sk-toggleable__content {max-height: 200px;max-width: 100%;overflow: auto;}#sk-53635755-46eb-481a-9b34-19a8b351209b input.sk-toggleable__control:checked~label.sk-toggleable__label-arrow:before {content: \"▾\";}#sk-53635755-46eb-481a-9b34-19a8b351209b div.sk-estimator input.sk-toggleable__control:checked~label.sk-toggleable__label {background-color: #d4ebff;}#sk-53635755-46eb-481a-9b34-19a8b351209b div.sk-label input.sk-toggleable__control:checked~label.sk-toggleable__label {background-color: #d4ebff;}#sk-53635755-46eb-481a-9b34-19a8b351209b input.sk-hidden--visually {border: 0;clip: rect(1px 1px 1px 1px);clip: rect(1px, 1px, 1px, 1px);height: 1px;margin: -1px;overflow: hidden;padding: 0;position: absolute;width: 1px;}#sk-53635755-46eb-481a-9b34-19a8b351209b div.sk-estimator {font-family: monospace;background-color: #f0f8ff;border: 1px dotted black;border-radius: 0.25em;box-sizing: border-box;margin-bottom: 0.5em;}#sk-53635755-46eb-481a-9b34-19a8b351209b div.sk-estimator:hover {background-color: #d4ebff;}#sk-53635755-46eb-481a-9b34-19a8b351209b div.sk-parallel-item::after {content: \"\";width: 100%;border-bottom: 1px solid gray;flex-grow: 1;}#sk-53635755-46eb-481a-9b34-19a8b351209b div.sk-label:hover label.sk-toggleable__label {background-color: #d4ebff;}#sk-53635755-46eb-481a-9b34-19a8b351209b div.sk-serial::before {content: \"\";position: absolute;border-left: 1px solid gray;box-sizing: border-box;top: 2em;bottom: 0;left: 50%;}#sk-53635755-46eb-481a-9b34-19a8b351209b div.sk-serial {display: flex;flex-direction: column;align-items: center;background-color: white;padding-right: 0.2em;padding-left: 0.2em;}#sk-53635755-46eb-481a-9b34-19a8b351209b div.sk-item {z-index: 1;}#sk-53635755-46eb-481a-9b34-19a8b351209b div.sk-parallel {display: flex;align-items: stretch;justify-content: center;background-color: white;}#sk-53635755-46eb-481a-9b34-19a8b351209b div.sk-parallel::before {content: \"\";position: absolute;border-left: 1px solid gray;box-sizing: border-box;top: 2em;bottom: 0;left: 50%;}#sk-53635755-46eb-481a-9b34-19a8b351209b div.sk-parallel-item {display: flex;flex-direction: column;position: relative;background-color: white;}#sk-53635755-46eb-481a-9b34-19a8b351209b div.sk-parallel-item:first-child::after {align-self: flex-end;width: 50%;}#sk-53635755-46eb-481a-9b34-19a8b351209b div.sk-parallel-item:last-child::after {align-self: flex-start;width: 50%;}#sk-53635755-46eb-481a-9b34-19a8b351209b div.sk-parallel-item:only-child::after {width: 0;}#sk-53635755-46eb-481a-9b34-19a8b351209b div.sk-dashed-wrapped {border: 1px dashed gray;margin: 0 0.4em 0.5em 0.4em;box-sizing: border-box;padding-bottom: 0.4em;background-color: white;position: relative;}#sk-53635755-46eb-481a-9b34-19a8b351209b div.sk-label label {font-family: monospace;font-weight: bold;background-color: white;display: inline-block;line-height: 1.2em;}#sk-53635755-46eb-481a-9b34-19a8b351209b div.sk-label-container {position: relative;z-index: 2;text-align: center;}#sk-53635755-46eb-481a-9b34-19a8b351209b div.sk-container {/* jupyter's `normalize.less` sets `[hidden] { display: none; }` but bootstrap.min.css set `[hidden] { display: none !important; }` so we also need the `!important` here to be able to override the default hidden behavior on the sphinx rendered scikit-learn.org. See: https://github.com/scikit-learn/scikit-learn/issues/21755 */display: inline-block !important;position: relative;}#sk-53635755-46eb-481a-9b34-19a8b351209b div.sk-text-repr-fallback {display: none;}</style><div id=\"sk-53635755-46eb-481a-9b34-19a8b351209b\" class=\"sk-top-container\"><div class=\"sk-text-repr-fallback\"><pre>Pipeline(steps=[(&#x27;multiply_cols_by_3&#x27;,\n",
              "                 MultiplyColumns(by=3, columns=[&#x27;a&#x27;, &#x27;b&#x27;]))])</pre><b>Please rerun this cell to show the HTML repr or trust the notebook.</b></div><div class=\"sk-container\" hidden><div class=\"sk-item sk-dashed-wrapped\"><div class=\"sk-label-container\"><div class=\"sk-label sk-toggleable\"><input class=\"sk-toggleable__control sk-hidden--visually\" id=\"7bd9993d-de25-4224-8f1e-9ada6e24e222\" type=\"checkbox\" ><label for=\"7bd9993d-de25-4224-8f1e-9ada6e24e222\" class=\"sk-toggleable__label sk-toggleable__label-arrow\">Pipeline</label><div class=\"sk-toggleable__content\"><pre>Pipeline(steps=[(&#x27;multiply_cols_by_3&#x27;,\n",
              "                 MultiplyColumns(by=3, columns=[&#x27;a&#x27;, &#x27;b&#x27;]))])</pre></div></div></div><div class=\"sk-serial\"><div class=\"sk-item\"><div class=\"sk-estimator sk-toggleable\"><input class=\"sk-toggleable__control sk-hidden--visually\" id=\"1b637cc8-8fb8-4d83-837f-a91c307f9f76\" type=\"checkbox\" ><label for=\"1b637cc8-8fb8-4d83-837f-a91c307f9f76\" class=\"sk-toggleable__label sk-toggleable__label-arrow\">MultiplyColumns</label><div class=\"sk-toggleable__content\"><pre>MultiplyColumns(by=3, columns=[&#x27;a&#x27;, &#x27;b&#x27;])</pre></div></div></div></div></div></div></div>"
            ]
          },
          "metadata": {},
          "execution_count": 74
        }
      ]
    },
    {
      "cell_type": "code",
      "source": [
        "set_config(display=\"text\")\n",
        "pipe"
      ],
      "metadata": {
        "id": "EWxd71zrE3JU",
        "outputId": "76d2699d-5703-4855-d575-506cf38a4351",
        "colab": {
          "base_uri": "https://localhost:8080/"
        }
      },
      "execution_count": 81,
      "outputs": [
        {
          "output_type": "execute_result",
          "data": {
            "text/plain": [
              "Pipeline(steps=[('multiply_cols_by_3',\n",
              "                 MultiplyColumns(by=3, columns=['a', 'c'])),\n",
              "                ('multiply_cols_by_5',\n",
              "                 MultiplyColumns(by=5, columns=['b', 'c']))])"
            ]
          },
          "metadata": {},
          "execution_count": 81
        }
      ]
    },
    {
      "cell_type": "code",
      "source": [
        "pipe.set_params(multiply_cols_by_5__columns=['b', 'a'])"
      ],
      "metadata": {
        "id": "6P35ZQ0-E3Ha",
        "outputId": "ea5de6df-484d-46ef-ff7c-74660e272741",
        "colab": {
          "base_uri": "https://localhost:8080/"
        }
      },
      "execution_count": 82,
      "outputs": [
        {
          "output_type": "execute_result",
          "data": {
            "text/plain": [
              "Pipeline(steps=[('multiply_cols_by_3',\n",
              "                 MultiplyColumns(by=3, columns=['a', 'c'])),\n",
              "                ('multiply_cols_by_5',\n",
              "                 MultiplyColumns(by=5, columns=['b', 'a']))])"
            ]
          },
          "metadata": {},
          "execution_count": 82
        }
      ]
    },
    {
      "cell_type": "code",
      "source": [
        "df"
      ],
      "metadata": {
        "id": "WIIpqsyMH5ha",
        "outputId": "c63e11fc-cda4-4ddb-97d7-3475b1351db5",
        "colab": {
          "base_uri": "https://localhost:8080/",
          "height": 143
        }
      },
      "execution_count": 83,
      "outputs": [
        {
          "output_type": "execute_result",
          "data": {
            "text/plain": [
              "   a   b    c\n",
              "0  3 -20 -105\n",
              "1 -6  25 -120\n",
              "2  9  30  135"
            ],
            "text/html": [
              "\n",
              "  <div id=\"df-ae5dec4b-9e8e-4d57-87c4-5bec9c67f9cd\">\n",
              "    <div class=\"colab-df-container\">\n",
              "      <div>\n",
              "<style scoped>\n",
              "    .dataframe tbody tr th:only-of-type {\n",
              "        vertical-align: middle;\n",
              "    }\n",
              "\n",
              "    .dataframe tbody tr th {\n",
              "        vertical-align: top;\n",
              "    }\n",
              "\n",
              "    .dataframe thead th {\n",
              "        text-align: right;\n",
              "    }\n",
              "</style>\n",
              "<table border=\"1\" class=\"dataframe\">\n",
              "  <thead>\n",
              "    <tr style=\"text-align: right;\">\n",
              "      <th></th>\n",
              "      <th>a</th>\n",
              "      <th>b</th>\n",
              "      <th>c</th>\n",
              "    </tr>\n",
              "  </thead>\n",
              "  <tbody>\n",
              "    <tr>\n",
              "      <th>0</th>\n",
              "      <td>3</td>\n",
              "      <td>-20</td>\n",
              "      <td>-105</td>\n",
              "    </tr>\n",
              "    <tr>\n",
              "      <th>1</th>\n",
              "      <td>-6</td>\n",
              "      <td>25</td>\n",
              "      <td>-120</td>\n",
              "    </tr>\n",
              "    <tr>\n",
              "      <th>2</th>\n",
              "      <td>9</td>\n",
              "      <td>30</td>\n",
              "      <td>135</td>\n",
              "    </tr>\n",
              "  </tbody>\n",
              "</table>\n",
              "</div>\n",
              "      <button class=\"colab-df-convert\" onclick=\"convertToInteractive('df-ae5dec4b-9e8e-4d57-87c4-5bec9c67f9cd')\"\n",
              "              title=\"Convert this dataframe to an interactive table.\"\n",
              "              style=\"display:none;\">\n",
              "        \n",
              "  <svg xmlns=\"http://www.w3.org/2000/svg\" height=\"24px\"viewBox=\"0 0 24 24\"\n",
              "       width=\"24px\">\n",
              "    <path d=\"M0 0h24v24H0V0z\" fill=\"none\"/>\n",
              "    <path d=\"M18.56 5.44l.94 2.06.94-2.06 2.06-.94-2.06-.94-.94-2.06-.94 2.06-2.06.94zm-11 1L8.5 8.5l.94-2.06 2.06-.94-2.06-.94L8.5 2.5l-.94 2.06-2.06.94zm10 10l.94 2.06.94-2.06 2.06-.94-2.06-.94-.94-2.06-.94 2.06-2.06.94z\"/><path d=\"M17.41 7.96l-1.37-1.37c-.4-.4-.92-.59-1.43-.59-.52 0-1.04.2-1.43.59L10.3 9.45l-7.72 7.72c-.78.78-.78 2.05 0 2.83L4 21.41c.39.39.9.59 1.41.59.51 0 1.02-.2 1.41-.59l7.78-7.78 2.81-2.81c.8-.78.8-2.07 0-2.86zM5.41 20L4 18.59l7.72-7.72 1.47 1.35L5.41 20z\"/>\n",
              "  </svg>\n",
              "      </button>\n",
              "      \n",
              "  <style>\n",
              "    .colab-df-container {\n",
              "      display:flex;\n",
              "      flex-wrap:wrap;\n",
              "      gap: 12px;\n",
              "    }\n",
              "\n",
              "    .colab-df-convert {\n",
              "      background-color: #E8F0FE;\n",
              "      border: none;\n",
              "      border-radius: 50%;\n",
              "      cursor: pointer;\n",
              "      display: none;\n",
              "      fill: #1967D2;\n",
              "      height: 32px;\n",
              "      padding: 0 0 0 0;\n",
              "      width: 32px;\n",
              "    }\n",
              "\n",
              "    .colab-df-convert:hover {\n",
              "      background-color: #E2EBFA;\n",
              "      box-shadow: 0px 1px 2px rgba(60, 64, 67, 0.3), 0px 1px 3px 1px rgba(60, 64, 67, 0.15);\n",
              "      fill: #174EA6;\n",
              "    }\n",
              "\n",
              "    [theme=dark] .colab-df-convert {\n",
              "      background-color: #3B4455;\n",
              "      fill: #D2E3FC;\n",
              "    }\n",
              "\n",
              "    [theme=dark] .colab-df-convert:hover {\n",
              "      background-color: #434B5C;\n",
              "      box-shadow: 0px 1px 3px 1px rgba(0, 0, 0, 0.15);\n",
              "      filter: drop-shadow(0px 1px 2px rgba(0, 0, 0, 0.3));\n",
              "      fill: #FFFFFF;\n",
              "    }\n",
              "  </style>\n",
              "\n",
              "      <script>\n",
              "        const buttonEl =\n",
              "          document.querySelector('#df-ae5dec4b-9e8e-4d57-87c4-5bec9c67f9cd button.colab-df-convert');\n",
              "        buttonEl.style.display =\n",
              "          google.colab.kernel.accessAllowed ? 'block' : 'none';\n",
              "\n",
              "        async function convertToInteractive(key) {\n",
              "          const element = document.querySelector('#df-ae5dec4b-9e8e-4d57-87c4-5bec9c67f9cd');\n",
              "          const dataTable =\n",
              "            await google.colab.kernel.invokeFunction('convertToInteractive',\n",
              "                                                     [key], {});\n",
              "          if (!dataTable) return;\n",
              "\n",
              "          const docLinkHtml = 'Like what you see? Visit the ' +\n",
              "            '<a target=\"_blank\" href=https://colab.research.google.com/notebooks/data_table.ipynb>data table notebook</a>'\n",
              "            + ' to learn more about interactive tables.';\n",
              "          element.innerHTML = '';\n",
              "          dataTable['output_type'] = 'display_data';\n",
              "          await google.colab.output.renderOutput(dataTable, element);\n",
              "          const docLink = document.createElement('div');\n",
              "          docLink.innerHTML = docLinkHtml;\n",
              "          element.appendChild(docLink);\n",
              "        }\n",
              "      </script>\n",
              "    </div>\n",
              "  </div>\n",
              "  "
            ]
          },
          "metadata": {},
          "execution_count": 83
        }
      ]
    },
    {
      "cell_type": "code",
      "source": [
        "transformed_df = pipe.transform(df)\n",
        "transformed_df"
      ],
      "metadata": {
        "id": "pY6AZC--E3Fg",
        "outputId": "0f2b4478-fce5-4821-8505-ebca461a30f0",
        "colab": {
          "base_uri": "https://localhost:8080/",
          "height": 143
        }
      },
      "execution_count": 85,
      "outputs": [
        {
          "output_type": "execute_result",
          "data": {
            "text/plain": [
              "      a    b     c\n",
              "0   675 -500  -945\n",
              "1 -1350  625 -1080\n",
              "2  2025  750  1215"
            ],
            "text/html": [
              "\n",
              "  <div id=\"df-8539a206-d2ea-4e62-a70a-2b1155b9e475\">\n",
              "    <div class=\"colab-df-container\">\n",
              "      <div>\n",
              "<style scoped>\n",
              "    .dataframe tbody tr th:only-of-type {\n",
              "        vertical-align: middle;\n",
              "    }\n",
              "\n",
              "    .dataframe tbody tr th {\n",
              "        vertical-align: top;\n",
              "    }\n",
              "\n",
              "    .dataframe thead th {\n",
              "        text-align: right;\n",
              "    }\n",
              "</style>\n",
              "<table border=\"1\" class=\"dataframe\">\n",
              "  <thead>\n",
              "    <tr style=\"text-align: right;\">\n",
              "      <th></th>\n",
              "      <th>a</th>\n",
              "      <th>b</th>\n",
              "      <th>c</th>\n",
              "    </tr>\n",
              "  </thead>\n",
              "  <tbody>\n",
              "    <tr>\n",
              "      <th>0</th>\n",
              "      <td>675</td>\n",
              "      <td>-500</td>\n",
              "      <td>-945</td>\n",
              "    </tr>\n",
              "    <tr>\n",
              "      <th>1</th>\n",
              "      <td>-1350</td>\n",
              "      <td>625</td>\n",
              "      <td>-1080</td>\n",
              "    </tr>\n",
              "    <tr>\n",
              "      <th>2</th>\n",
              "      <td>2025</td>\n",
              "      <td>750</td>\n",
              "      <td>1215</td>\n",
              "    </tr>\n",
              "  </tbody>\n",
              "</table>\n",
              "</div>\n",
              "      <button class=\"colab-df-convert\" onclick=\"convertToInteractive('df-8539a206-d2ea-4e62-a70a-2b1155b9e475')\"\n",
              "              title=\"Convert this dataframe to an interactive table.\"\n",
              "              style=\"display:none;\">\n",
              "        \n",
              "  <svg xmlns=\"http://www.w3.org/2000/svg\" height=\"24px\"viewBox=\"0 0 24 24\"\n",
              "       width=\"24px\">\n",
              "    <path d=\"M0 0h24v24H0V0z\" fill=\"none\"/>\n",
              "    <path d=\"M18.56 5.44l.94 2.06.94-2.06 2.06-.94-2.06-.94-.94-2.06-.94 2.06-2.06.94zm-11 1L8.5 8.5l.94-2.06 2.06-.94-2.06-.94L8.5 2.5l-.94 2.06-2.06.94zm10 10l.94 2.06.94-2.06 2.06-.94-2.06-.94-.94-2.06-.94 2.06-2.06.94z\"/><path d=\"M17.41 7.96l-1.37-1.37c-.4-.4-.92-.59-1.43-.59-.52 0-1.04.2-1.43.59L10.3 9.45l-7.72 7.72c-.78.78-.78 2.05 0 2.83L4 21.41c.39.39.9.59 1.41.59.51 0 1.02-.2 1.41-.59l7.78-7.78 2.81-2.81c.8-.78.8-2.07 0-2.86zM5.41 20L4 18.59l7.72-7.72 1.47 1.35L5.41 20z\"/>\n",
              "  </svg>\n",
              "      </button>\n",
              "      \n",
              "  <style>\n",
              "    .colab-df-container {\n",
              "      display:flex;\n",
              "      flex-wrap:wrap;\n",
              "      gap: 12px;\n",
              "    }\n",
              "\n",
              "    .colab-df-convert {\n",
              "      background-color: #E8F0FE;\n",
              "      border: none;\n",
              "      border-radius: 50%;\n",
              "      cursor: pointer;\n",
              "      display: none;\n",
              "      fill: #1967D2;\n",
              "      height: 32px;\n",
              "      padding: 0 0 0 0;\n",
              "      width: 32px;\n",
              "    }\n",
              "\n",
              "    .colab-df-convert:hover {\n",
              "      background-color: #E2EBFA;\n",
              "      box-shadow: 0px 1px 2px rgba(60, 64, 67, 0.3), 0px 1px 3px 1px rgba(60, 64, 67, 0.15);\n",
              "      fill: #174EA6;\n",
              "    }\n",
              "\n",
              "    [theme=dark] .colab-df-convert {\n",
              "      background-color: #3B4455;\n",
              "      fill: #D2E3FC;\n",
              "    }\n",
              "\n",
              "    [theme=dark] .colab-df-convert:hover {\n",
              "      background-color: #434B5C;\n",
              "      box-shadow: 0px 1px 3px 1px rgba(0, 0, 0, 0.15);\n",
              "      filter: drop-shadow(0px 1px 2px rgba(0, 0, 0, 0.3));\n",
              "      fill: #FFFFFF;\n",
              "    }\n",
              "  </style>\n",
              "\n",
              "      <script>\n",
              "        const buttonEl =\n",
              "          document.querySelector('#df-8539a206-d2ea-4e62-a70a-2b1155b9e475 button.colab-df-convert');\n",
              "        buttonEl.style.display =\n",
              "          google.colab.kernel.accessAllowed ? 'block' : 'none';\n",
              "\n",
              "        async function convertToInteractive(key) {\n",
              "          const element = document.querySelector('#df-8539a206-d2ea-4e62-a70a-2b1155b9e475');\n",
              "          const dataTable =\n",
              "            await google.colab.kernel.invokeFunction('convertToInteractive',\n",
              "                                                     [key], {});\n",
              "          if (!dataTable) return;\n",
              "\n",
              "          const docLinkHtml = 'Like what you see? Visit the ' +\n",
              "            '<a target=\"_blank\" href=https://colab.research.google.com/notebooks/data_table.ipynb>data table notebook</a>'\n",
              "            + ' to learn more about interactive tables.';\n",
              "          element.innerHTML = '';\n",
              "          dataTable['output_type'] = 'display_data';\n",
              "          await google.colab.output.renderOutput(dataTable, element);\n",
              "          const docLink = document.createElement('div');\n",
              "          docLink.innerHTML = docLinkHtml;\n",
              "          element.appendChild(docLink);\n",
              "        }\n",
              "      </script>\n",
              "    </div>\n",
              "  </div>\n",
              "  "
            ]
          },
          "metadata": {},
          "execution_count": 85
        }
      ]
    },
    {
      "cell_type": "code",
      "source": [],
      "metadata": {
        "id": "GhClqo8HE3C9"
      },
      "execution_count": null,
      "outputs": []
    },
    {
      "cell_type": "code",
      "source": [],
      "metadata": {
        "id": "SkYpCM5vE3Ak"
      },
      "execution_count": null,
      "outputs": []
    },
    {
      "cell_type": "code",
      "source": [],
      "metadata": {
        "id": "Pg0ZPyaF9WL9"
      },
      "execution_count": null,
      "outputs": []
    },
    {
      "cell_type": "code",
      "source": [],
      "metadata": {
        "id": "y91KjXmX9Vzr"
      },
      "execution_count": null,
      "outputs": []
    },
    {
      "cell_type": "code",
      "execution_count": null,
      "metadata": {
        "id": "x652xhrY9AEC"
      },
      "outputs": [],
      "source": [
        "##creating a dataset\n",
        "from sklearn.datasets import make_classification\n",
        "X,y=make_classification(n_samples=1000)"
      ]
    },
    {
      "cell_type": "code",
      "execution_count": null,
      "metadata": {
        "id": "f2nUymQ69AEC",
        "outputId": "2709e4de-bdf9-43b7-869b-04660229571b"
      },
      "outputs": [
        {
          "data": {
            "text/plain": [
              "(1000, 20)"
            ]
          },
          "execution_count": 11,
          "metadata": {},
          "output_type": "execute_result"
        }
      ],
      "source": [
        "X.shape"
      ]
    },
    {
      "cell_type": "code",
      "execution_count": null,
      "metadata": {
        "id": "sxGTg5kR9AED"
      },
      "outputs": [],
      "source": [
        "from sklearn.model_selection import train_test_split\n",
        "X_train, X_test, y_train, y_test = train_test_split(\n",
        "    X, y, test_size=0.33, random_state=42)"
      ]
    },
    {
      "cell_type": "code",
      "execution_count": null,
      "metadata": {
        "id": "azk3IlPt9AED",
        "outputId": "17edcbf0-56a1-4794-c979-51dea6c3129e"
      },
      "outputs": [
        {
          "data": {
            "text/plain": [
              "array([[-0.04273089,  0.62733708,  0.73184038, ...,  0.3161405 ,\n",
              "        -0.69896992,  1.64448249],\n",
              "       [ 1.21701213,  0.91859103, -0.61566102, ...,  0.47032105,\n",
              "        -0.69394003,  0.78492765],\n",
              "       [ 0.12829608,  0.66924697, -0.02577067, ..., -0.11017591,\n",
              "         1.56790864, -0.03463564],\n",
              "       ...,\n",
              "       [-1.00451509, -1.5852426 , -0.66870921, ...,  0.32671781,\n",
              "         0.49407756,  0.00962666],\n",
              "       [ 0.51858508,  1.74562552,  0.45465545, ...,  1.11683758,\n",
              "         0.35944106, -0.13306576],\n",
              "       [ 0.16536114, -0.98364616,  1.02300279, ...,  2.03273883,\n",
              "         0.66776423, -0.47030654]])"
            ]
          },
          "execution_count": 14,
          "metadata": {},
          "output_type": "execute_result"
        }
      ],
      "source": [
        "X_train"
      ]
    },
    {
      "cell_type": "code",
      "execution_count": null,
      "metadata": {
        "id": "EmMVQbCw9AEE",
        "outputId": "b15cd02c-9e64-4a57-a56e-c6df8ebea262"
      },
      "outputs": [
        {
          "data": {
            "text/html": [
              "<style>div.sk-top-container {color: black;background-color: white;}div.sk-toggleable {background-color: white;}label.sk-toggleable__label {cursor: pointer;display: block;width: 100%;margin-bottom: 0;padding: 0.2em 0.3em;box-sizing: border-box;text-align: center;}div.sk-toggleable__content {max-height: 0;max-width: 0;overflow: hidden;text-align: left;background-color: #f0f8ff;}div.sk-toggleable__content pre {margin: 0.2em;color: black;border-radius: 0.25em;background-color: #f0f8ff;}input.sk-toggleable__control:checked~div.sk-toggleable__content {max-height: 200px;max-width: 100%;overflow: auto;}div.sk-estimator input.sk-toggleable__control:checked~label.sk-toggleable__label {background-color: #d4ebff;}div.sk-label input.sk-toggleable__control:checked~label.sk-toggleable__label {background-color: #d4ebff;}input.sk-hidden--visually {border: 0;clip: rect(1px 1px 1px 1px);clip: rect(1px, 1px, 1px, 1px);height: 1px;margin: -1px;overflow: hidden;padding: 0;position: absolute;width: 1px;}div.sk-estimator {font-family: monospace;background-color: #f0f8ff;margin: 0.25em 0.25em;border: 1px dotted black;border-radius: 0.25em;box-sizing: border-box;}div.sk-estimator:hover {background-color: #d4ebff;}div.sk-parallel-item::after {content: \"\";width: 100%;border-bottom: 1px solid gray;flex-grow: 1;}div.sk-label:hover label.sk-toggleable__label {background-color: #d4ebff;}div.sk-serial::before {content: \"\";position: absolute;border-left: 1px solid gray;box-sizing: border-box;top: 2em;bottom: 0;left: 50%;}div.sk-serial {display: flex;flex-direction: column;align-items: center;background-color: white;}div.sk-item {z-index: 1;}div.sk-parallel {display: flex;align-items: stretch;justify-content: center;background-color: white;}div.sk-parallel-item {display: flex;flex-direction: column;position: relative;background-color: white;}div.sk-parallel-item:first-child::after {align-self: flex-end;width: 50%;}div.sk-parallel-item:last-child::after {align-self: flex-start;width: 50%;}div.sk-parallel-item:only-child::after {width: 0;}div.sk-dashed-wrapped {border: 1px dashed gray;margin: 0.2em;box-sizing: border-box;padding-bottom: 0.1em;background-color: white;position: relative;}div.sk-label label {font-family: monospace;font-weight: bold;background-color: white;display: inline-block;line-height: 1.2em;}div.sk-label-container {position: relative;z-index: 2;text-align: center;}div.sk-container {display: inline-block;position: relative;}</style><div class=\"sk-top-container\"><div class=\"sk-container\"><div class=\"sk-item sk-dashed-wrapped\"><div class=\"sk-label-container\"><div class=\"sk-label sk-toggleable\"><input class=\"sk-toggleable__control sk-hidden--visually\" id=\"58a58e0d-ebb6-4ac1-ae3d-ab86f1885263\" type=\"checkbox\" ><label class=\"sk-toggleable__label\" for=\"58a58e0d-ebb6-4ac1-ae3d-ab86f1885263\">Pipeline</label><div class=\"sk-toggleable__content\"><pre>Pipeline(steps=[('standard_scaler', StandardScaler()),\n",
              "                ('classifier', LogisticRegression())])</pre></div></div></div><div class=\"sk-serial\"><div class=\"sk-item\"><div class=\"sk-estimator sk-toggleable\"><input class=\"sk-toggleable__control sk-hidden--visually\" id=\"d5ceac8c-019f-4a51-a0a9-5ca660644501\" type=\"checkbox\" ><label class=\"sk-toggleable__label\" for=\"d5ceac8c-019f-4a51-a0a9-5ca660644501\">StandardScaler</label><div class=\"sk-toggleable__content\"><pre>StandardScaler()</pre></div></div></div><div class=\"sk-item\"><div class=\"sk-estimator sk-toggleable\"><input class=\"sk-toggleable__control sk-hidden--visually\" id=\"35b3ccb2-9a74-4262-85b5-35b72b4e81d2\" type=\"checkbox\" ><label class=\"sk-toggleable__label\" for=\"35b3ccb2-9a74-4262-85b5-35b72b4e81d2\">LogisticRegression</label><div class=\"sk-toggleable__content\"><pre>LogisticRegression()</pre></div></div></div></div></div></div></div>"
            ],
            "text/plain": [
              "Pipeline(steps=[('standard_scaler', StandardScaler()),\n",
              "                ('classifier', LogisticRegression())])"
            ]
          },
          "execution_count": 16,
          "metadata": {},
          "output_type": "execute_result"
        }
      ],
      "source": [
        "pipe.fit(X_train,y_train)"
      ]
    },
    {
      "cell_type": "code",
      "execution_count": null,
      "metadata": {
        "id": "e6e9FEnI9AEE"
      },
      "outputs": [],
      "source": [
        "y_pred=pipe.predict(X_test)"
      ]
    },
    {
      "cell_type": "code",
      "execution_count": null,
      "metadata": {
        "id": "blQyxFdx9AEE",
        "outputId": "99cad624-f7ec-4fa0-ecfb-688d353afe9a"
      },
      "outputs": [
        {
          "data": {
            "text/plain": [
              "array([0, 0, 0, 0, 1, 1, 0, 0, 1, 1, 0, 0, 1, 0, 0, 0, 1, 0, 0, 1, 1, 0,\n",
              "       1, 0, 1, 1, 0, 0, 0, 1, 0, 1, 1, 1, 1, 1, 1, 1, 1, 0, 1, 1, 1, 1,\n",
              "       0, 1, 0, 1, 1, 1, 1, 0, 0, 1, 1, 0, 0, 1, 0, 1, 1, 1, 0, 0, 0, 0,\n",
              "       0, 0, 0, 1, 0, 0, 0, 0, 1, 0, 1, 1, 0, 1, 0, 1, 1, 1, 1, 1, 0, 0,\n",
              "       1, 0, 0, 0, 1, 0, 0, 1, 0, 1, 1, 0, 0, 0, 1, 0, 0, 1, 0, 1, 1, 0,\n",
              "       0, 0, 0, 1, 0, 1, 1, 1, 1, 1, 0, 0, 1, 1, 1, 0, 1, 1, 0, 0, 1, 0,\n",
              "       1, 1, 1, 1, 0, 0, 0, 1, 0, 1, 0, 1, 0, 0, 1, 0, 1, 0, 0, 0, 1, 0,\n",
              "       1, 1, 1, 0, 0, 1, 0, 1, 1, 0, 0, 1, 0, 1, 0, 0, 1, 0, 0, 1, 1, 0,\n",
              "       1, 1, 1, 0, 0, 1, 0, 1, 1, 0, 0, 1, 0, 1, 1, 0, 0, 1, 1, 1, 1, 0,\n",
              "       1, 0, 1, 1, 0, 1, 1, 0, 1, 1, 1, 0, 1, 1, 0, 0, 1, 1, 1, 1, 0, 0,\n",
              "       1, 1, 0, 0, 1, 0, 1, 1, 0, 0, 1, 0, 1, 0, 1, 1, 0, 0, 1, 1, 0, 0,\n",
              "       1, 1, 1, 0, 1, 1, 1, 1, 1, 1, 1, 0, 1, 1, 1, 0, 0, 1, 0, 0, 1, 0,\n",
              "       1, 1, 0, 0, 1, 0, 0, 0, 0, 0, 0, 1, 1, 0, 0, 0, 0, 1, 0, 1, 0, 1,\n",
              "       0, 1, 1, 1, 0, 0, 1, 1, 0, 1, 0, 0, 0, 1, 1, 0, 1, 0, 0, 0, 0, 1,\n",
              "       0, 1, 0, 1, 0, 0, 0, 1, 1, 1, 0, 0, 1, 1, 0, 0, 0, 1, 0, 1, 0, 1])"
            ]
          },
          "execution_count": 18,
          "metadata": {},
          "output_type": "execute_result"
        }
      ],
      "source": [
        "y_pred"
      ]
    },
    {
      "cell_type": "markdown",
      "metadata": {
        "id": "O5XvW0s79AEF"
      },
      "source": [
        "## Example 2\n",
        "Displaying a pipeline with standard scaler, dimesnionality reduction and then estimator"
      ]
    },
    {
      "cell_type": "code",
      "execution_count": null,
      "metadata": {
        "id": "-HipSljo9AEG",
        "outputId": "5108c63f-6c6d-4f74-ace7-f6f81ed6594f"
      },
      "outputs": [
        {
          "name": "stderr",
          "output_type": "stream",
          "text": [
            "<frozen importlib._bootstrap>:219: RuntimeWarning: numpy.ufunc size changed, may indicate binary incompatibility. Expected 192 from C header, got 216 from PyObject\n"
          ]
        }
      ],
      "source": [
        "from sklearn.decomposition import PCA\n",
        "from sklearn.svm import SVC"
      ]
    },
    {
      "cell_type": "code",
      "execution_count": null,
      "metadata": {
        "id": "lVEkarDS9AEH"
      },
      "outputs": [],
      "source": [
        "steps=[(\"scaling\",StandardScaler()),\n",
        "      (\"PCA\",PCA(n_components=3)),\n",
        "      (\"SVC\",SVC())]"
      ]
    },
    {
      "cell_type": "code",
      "execution_count": null,
      "metadata": {
        "id": "pGCOenXP9AEH"
      },
      "outputs": [],
      "source": [
        "pipe2=Pipeline(steps)"
      ]
    },
    {
      "cell_type": "code",
      "execution_count": null,
      "metadata": {
        "id": "ha5p5N3Q9AEI",
        "outputId": "bf15fbaf-bd98-4805-9572-214c4a3a63bb"
      },
      "outputs": [
        {
          "data": {
            "text/html": [
              "<style>div.sk-top-container {color: black;background-color: white;}div.sk-toggleable {background-color: white;}label.sk-toggleable__label {cursor: pointer;display: block;width: 100%;margin-bottom: 0;padding: 0.2em 0.3em;box-sizing: border-box;text-align: center;}div.sk-toggleable__content {max-height: 0;max-width: 0;overflow: hidden;text-align: left;background-color: #f0f8ff;}div.sk-toggleable__content pre {margin: 0.2em;color: black;border-radius: 0.25em;background-color: #f0f8ff;}input.sk-toggleable__control:checked~div.sk-toggleable__content {max-height: 200px;max-width: 100%;overflow: auto;}div.sk-estimator input.sk-toggleable__control:checked~label.sk-toggleable__label {background-color: #d4ebff;}div.sk-label input.sk-toggleable__control:checked~label.sk-toggleable__label {background-color: #d4ebff;}input.sk-hidden--visually {border: 0;clip: rect(1px 1px 1px 1px);clip: rect(1px, 1px, 1px, 1px);height: 1px;margin: -1px;overflow: hidden;padding: 0;position: absolute;width: 1px;}div.sk-estimator {font-family: monospace;background-color: #f0f8ff;margin: 0.25em 0.25em;border: 1px dotted black;border-radius: 0.25em;box-sizing: border-box;}div.sk-estimator:hover {background-color: #d4ebff;}div.sk-parallel-item::after {content: \"\";width: 100%;border-bottom: 1px solid gray;flex-grow: 1;}div.sk-label:hover label.sk-toggleable__label {background-color: #d4ebff;}div.sk-serial::before {content: \"\";position: absolute;border-left: 1px solid gray;box-sizing: border-box;top: 2em;bottom: 0;left: 50%;}div.sk-serial {display: flex;flex-direction: column;align-items: center;background-color: white;}div.sk-item {z-index: 1;}div.sk-parallel {display: flex;align-items: stretch;justify-content: center;background-color: white;}div.sk-parallel-item {display: flex;flex-direction: column;position: relative;background-color: white;}div.sk-parallel-item:first-child::after {align-self: flex-end;width: 50%;}div.sk-parallel-item:last-child::after {align-self: flex-start;width: 50%;}div.sk-parallel-item:only-child::after {width: 0;}div.sk-dashed-wrapped {border: 1px dashed gray;margin: 0.2em;box-sizing: border-box;padding-bottom: 0.1em;background-color: white;position: relative;}div.sk-label label {font-family: monospace;font-weight: bold;background-color: white;display: inline-block;line-height: 1.2em;}div.sk-label-container {position: relative;z-index: 2;text-align: center;}div.sk-container {display: inline-block;position: relative;}</style><div class=\"sk-top-container\"><div class=\"sk-container\"><div class=\"sk-item sk-dashed-wrapped\"><div class=\"sk-label-container\"><div class=\"sk-label sk-toggleable\"><input class=\"sk-toggleable__control sk-hidden--visually\" id=\"513360d5-605f-48b3-8a6d-3a6e761ac210\" type=\"checkbox\" ><label class=\"sk-toggleable__label\" for=\"513360d5-605f-48b3-8a6d-3a6e761ac210\">Pipeline</label><div class=\"sk-toggleable__content\"><pre>Pipeline(steps=[('scaling', StandardScaler()), ('PCA', PCA(n_components=3)),\n",
              "                ('SVC', SVC())])</pre></div></div></div><div class=\"sk-serial\"><div class=\"sk-item\"><div class=\"sk-estimator sk-toggleable\"><input class=\"sk-toggleable__control sk-hidden--visually\" id=\"971c7e78-c4ab-4ad1-881f-09ef73bab4d5\" type=\"checkbox\" ><label class=\"sk-toggleable__label\" for=\"971c7e78-c4ab-4ad1-881f-09ef73bab4d5\">StandardScaler</label><div class=\"sk-toggleable__content\"><pre>StandardScaler()</pre></div></div></div><div class=\"sk-item\"><div class=\"sk-estimator sk-toggleable\"><input class=\"sk-toggleable__control sk-hidden--visually\" id=\"9d43773f-9d29-4f9e-95a4-ba604fcfb8d4\" type=\"checkbox\" ><label class=\"sk-toggleable__label\" for=\"9d43773f-9d29-4f9e-95a4-ba604fcfb8d4\">PCA</label><div class=\"sk-toggleable__content\"><pre>PCA(n_components=3)</pre></div></div></div><div class=\"sk-item\"><div class=\"sk-estimator sk-toggleable\"><input class=\"sk-toggleable__control sk-hidden--visually\" id=\"49ec848e-9f65-4503-ac98-d396f5673949\" type=\"checkbox\" ><label class=\"sk-toggleable__label\" for=\"49ec848e-9f65-4503-ac98-d396f5673949\">SVC</label><div class=\"sk-toggleable__content\"><pre>SVC()</pre></div></div></div></div></div></div></div>"
            ],
            "text/plain": [
              "Pipeline(steps=[('scaling', StandardScaler()), ('PCA', PCA(n_components=3)),\n",
              "                ('SVC', SVC())])"
            ]
          },
          "execution_count": 24,
          "metadata": {},
          "output_type": "execute_result"
        }
      ],
      "source": [
        "pipe2.fit(X_train,y_train)"
      ]
    },
    {
      "cell_type": "code",
      "execution_count": null,
      "metadata": {
        "id": "8Wj9tE_49AEI",
        "outputId": "204a5d45-08de-47b4-ff02-1cc37f0059df"
      },
      "outputs": [
        {
          "data": {
            "text/plain": [
              "array([0, 0, 0, 0, 1, 1, 0, 0, 1, 1, 0, 0, 1, 0, 0, 0, 0, 0, 0, 1, 1, 0,\n",
              "       1, 0, 1, 1, 0, 0, 0, 1, 0, 0, 1, 1, 0, 1, 1, 1, 1, 0, 1, 1, 1, 1,\n",
              "       0, 1, 0, 1, 1, 1, 1, 0, 0, 1, 1, 0, 0, 0, 0, 1, 1, 1, 0, 0, 0, 0,\n",
              "       0, 0, 0, 1, 0, 0, 0, 0, 1, 0, 1, 1, 0, 0, 0, 0, 1, 1, 1, 1, 0, 0,\n",
              "       1, 0, 0, 0, 1, 0, 0, 1, 1, 1, 1, 0, 0, 0, 1, 0, 0, 1, 0, 1, 1, 0,\n",
              "       0, 0, 0, 1, 0, 1, 1, 1, 1, 1, 0, 0, 1, 1, 1, 0, 1, 1, 0, 0, 1, 0,\n",
              "       1, 1, 1, 1, 0, 0, 0, 1, 0, 1, 0, 1, 0, 0, 1, 0, 1, 0, 0, 0, 1, 0,\n",
              "       1, 1, 1, 0, 0, 1, 0, 1, 1, 0, 0, 1, 0, 1, 0, 1, 0, 0, 0, 1, 1, 0,\n",
              "       1, 1, 1, 0, 0, 1, 0, 1, 1, 0, 0, 1, 0, 1, 1, 0, 0, 1, 1, 1, 1, 0,\n",
              "       1, 0, 0, 1, 0, 1, 1, 0, 0, 1, 0, 0, 1, 1, 0, 0, 1, 0, 1, 1, 0, 0,\n",
              "       1, 1, 0, 0, 1, 0, 1, 1, 0, 0, 1, 0, 1, 0, 0, 1, 0, 0, 1, 1, 0, 0,\n",
              "       1, 1, 1, 0, 1, 0, 1, 1, 1, 1, 1, 0, 1, 1, 1, 0, 0, 1, 0, 0, 1, 0,\n",
              "       1, 1, 0, 0, 1, 0, 0, 0, 0, 0, 0, 1, 1, 0, 0, 0, 0, 1, 0, 1, 0, 1,\n",
              "       0, 1, 1, 1, 0, 0, 1, 1, 0, 1, 0, 0, 0, 1, 1, 0, 1, 0, 0, 0, 0, 1,\n",
              "       0, 1, 0, 1, 0, 0, 0, 1, 1, 1, 0, 0, 1, 1, 0, 0, 0, 1, 0, 1, 0, 1])"
            ]
          },
          "execution_count": 25,
          "metadata": {},
          "output_type": "execute_result"
        }
      ],
      "source": [
        "pipe2.predict(X_test)"
      ]
    },
    {
      "cell_type": "markdown",
      "metadata": {
        "id": "giS70ulE9AEI"
      },
      "source": [
        "## Complex examples of columns transformer"
      ]
    },
    {
      "cell_type": "code",
      "execution_count": null,
      "metadata": {
        "id": "cVLe0Bs69AEJ"
      },
      "outputs": [],
      "source": [
        "from sklearn.impute import SimpleImputer"
      ]
    },
    {
      "cell_type": "code",
      "execution_count": null,
      "metadata": {
        "id": "YaBiCUD49AEJ"
      },
      "outputs": [],
      "source": [
        "## numerical processing pipeline\n",
        "import numpy as np\n",
        "numeric_processor=Pipeline(\n",
        "    steps=[(\"imputation_mean\",SimpleImputer(missing_values=np.nan,strategy=\"mean\")),\n",
        "          (\"scaler\",StandardScaler())]\n",
        "\n",
        ")"
      ]
    },
    {
      "cell_type": "code",
      "execution_count": null,
      "metadata": {
        "id": "KQ53KXyU9AEJ",
        "outputId": "74c4aa88-620d-4fa9-f53b-32a0c2d4408e"
      },
      "outputs": [
        {
          "data": {
            "text/html": [
              "<style>div.sk-top-container {color: black;background-color: white;}div.sk-toggleable {background-color: white;}label.sk-toggleable__label {cursor: pointer;display: block;width: 100%;margin-bottom: 0;padding: 0.2em 0.3em;box-sizing: border-box;text-align: center;}div.sk-toggleable__content {max-height: 0;max-width: 0;overflow: hidden;text-align: left;background-color: #f0f8ff;}div.sk-toggleable__content pre {margin: 0.2em;color: black;border-radius: 0.25em;background-color: #f0f8ff;}input.sk-toggleable__control:checked~div.sk-toggleable__content {max-height: 200px;max-width: 100%;overflow: auto;}div.sk-estimator input.sk-toggleable__control:checked~label.sk-toggleable__label {background-color: #d4ebff;}div.sk-label input.sk-toggleable__control:checked~label.sk-toggleable__label {background-color: #d4ebff;}input.sk-hidden--visually {border: 0;clip: rect(1px 1px 1px 1px);clip: rect(1px, 1px, 1px, 1px);height: 1px;margin: -1px;overflow: hidden;padding: 0;position: absolute;width: 1px;}div.sk-estimator {font-family: monospace;background-color: #f0f8ff;margin: 0.25em 0.25em;border: 1px dotted black;border-radius: 0.25em;box-sizing: border-box;}div.sk-estimator:hover {background-color: #d4ebff;}div.sk-parallel-item::after {content: \"\";width: 100%;border-bottom: 1px solid gray;flex-grow: 1;}div.sk-label:hover label.sk-toggleable__label {background-color: #d4ebff;}div.sk-serial::before {content: \"\";position: absolute;border-left: 1px solid gray;box-sizing: border-box;top: 2em;bottom: 0;left: 50%;}div.sk-serial {display: flex;flex-direction: column;align-items: center;background-color: white;}div.sk-item {z-index: 1;}div.sk-parallel {display: flex;align-items: stretch;justify-content: center;background-color: white;}div.sk-parallel-item {display: flex;flex-direction: column;position: relative;background-color: white;}div.sk-parallel-item:first-child::after {align-self: flex-end;width: 50%;}div.sk-parallel-item:last-child::after {align-self: flex-start;width: 50%;}div.sk-parallel-item:only-child::after {width: 0;}div.sk-dashed-wrapped {border: 1px dashed gray;margin: 0.2em;box-sizing: border-box;padding-bottom: 0.1em;background-color: white;position: relative;}div.sk-label label {font-family: monospace;font-weight: bold;background-color: white;display: inline-block;line-height: 1.2em;}div.sk-label-container {position: relative;z-index: 2;text-align: center;}div.sk-container {display: inline-block;position: relative;}</style><div class=\"sk-top-container\"><div class=\"sk-container\"><div class=\"sk-item sk-dashed-wrapped\"><div class=\"sk-label-container\"><div class=\"sk-label sk-toggleable\"><input class=\"sk-toggleable__control sk-hidden--visually\" id=\"d5638644-e58b-4788-8b72-4036919416df\" type=\"checkbox\" ><label class=\"sk-toggleable__label\" for=\"d5638644-e58b-4788-8b72-4036919416df\">Pipeline</label><div class=\"sk-toggleable__content\"><pre>Pipeline(steps=[('imputation_mean', SimpleImputer()),\n",
              "                ('scaler', StandardScaler())])</pre></div></div></div><div class=\"sk-serial\"><div class=\"sk-item\"><div class=\"sk-estimator sk-toggleable\"><input class=\"sk-toggleable__control sk-hidden--visually\" id=\"fa25641c-4ece-4f86-b782-d9dad6cf7fd8\" type=\"checkbox\" ><label class=\"sk-toggleable__label\" for=\"fa25641c-4ece-4f86-b782-d9dad6cf7fd8\">SimpleImputer</label><div class=\"sk-toggleable__content\"><pre>SimpleImputer()</pre></div></div></div><div class=\"sk-item\"><div class=\"sk-estimator sk-toggleable\"><input class=\"sk-toggleable__control sk-hidden--visually\" id=\"5388962f-c693-478c-922e-9ccffc4f3160\" type=\"checkbox\" ><label class=\"sk-toggleable__label\" for=\"5388962f-c693-478c-922e-9ccffc4f3160\">StandardScaler</label><div class=\"sk-toggleable__content\"><pre>StandardScaler()</pre></div></div></div></div></div></div></div>"
            ],
            "text/plain": [
              "Pipeline(steps=[('imputation_mean', SimpleImputer()),\n",
              "                ('scaler', StandardScaler())])"
            ]
          },
          "execution_count": 28,
          "metadata": {},
          "output_type": "execute_result"
        }
      ],
      "source": [
        "numeric_processor"
      ]
    },
    {
      "cell_type": "code",
      "execution_count": null,
      "metadata": {
        "id": "NnuRz2LV9AEK"
      },
      "outputs": [],
      "source": [
        "##categorical procesing pipeline"
      ]
    },
    {
      "cell_type": "code",
      "execution_count": null,
      "metadata": {
        "id": "BK4ET1-S9AEK"
      },
      "outputs": [],
      "source": [
        "from sklearn.preprocessing import OneHotEncoder\n",
        "categorical_processor=Pipeline(\n",
        "    steps=[(\"imputation_consatnt\",SimpleImputer(fill_value=\"missing\",strategy=\"constant\")),\n",
        "          (\"onehot\",OneHotEncoder(handle_unknown=\"ignore\"))]\n",
        "\n",
        ")"
      ]
    },
    {
      "cell_type": "code",
      "execution_count": null,
      "metadata": {
        "id": "O_V51lgp9AEK",
        "outputId": "4cbda436-cd34-495c-8fd3-d225c28c110f"
      },
      "outputs": [
        {
          "data": {
            "text/html": [
              "<style>div.sk-top-container {color: black;background-color: white;}div.sk-toggleable {background-color: white;}label.sk-toggleable__label {cursor: pointer;display: block;width: 100%;margin-bottom: 0;padding: 0.2em 0.3em;box-sizing: border-box;text-align: center;}div.sk-toggleable__content {max-height: 0;max-width: 0;overflow: hidden;text-align: left;background-color: #f0f8ff;}div.sk-toggleable__content pre {margin: 0.2em;color: black;border-radius: 0.25em;background-color: #f0f8ff;}input.sk-toggleable__control:checked~div.sk-toggleable__content {max-height: 200px;max-width: 100%;overflow: auto;}div.sk-estimator input.sk-toggleable__control:checked~label.sk-toggleable__label {background-color: #d4ebff;}div.sk-label input.sk-toggleable__control:checked~label.sk-toggleable__label {background-color: #d4ebff;}input.sk-hidden--visually {border: 0;clip: rect(1px 1px 1px 1px);clip: rect(1px, 1px, 1px, 1px);height: 1px;margin: -1px;overflow: hidden;padding: 0;position: absolute;width: 1px;}div.sk-estimator {font-family: monospace;background-color: #f0f8ff;margin: 0.25em 0.25em;border: 1px dotted black;border-radius: 0.25em;box-sizing: border-box;}div.sk-estimator:hover {background-color: #d4ebff;}div.sk-parallel-item::after {content: \"\";width: 100%;border-bottom: 1px solid gray;flex-grow: 1;}div.sk-label:hover label.sk-toggleable__label {background-color: #d4ebff;}div.sk-serial::before {content: \"\";position: absolute;border-left: 1px solid gray;box-sizing: border-box;top: 2em;bottom: 0;left: 50%;}div.sk-serial {display: flex;flex-direction: column;align-items: center;background-color: white;}div.sk-item {z-index: 1;}div.sk-parallel {display: flex;align-items: stretch;justify-content: center;background-color: white;}div.sk-parallel-item {display: flex;flex-direction: column;position: relative;background-color: white;}div.sk-parallel-item:first-child::after {align-self: flex-end;width: 50%;}div.sk-parallel-item:last-child::after {align-self: flex-start;width: 50%;}div.sk-parallel-item:only-child::after {width: 0;}div.sk-dashed-wrapped {border: 1px dashed gray;margin: 0.2em;box-sizing: border-box;padding-bottom: 0.1em;background-color: white;position: relative;}div.sk-label label {font-family: monospace;font-weight: bold;background-color: white;display: inline-block;line-height: 1.2em;}div.sk-label-container {position: relative;z-index: 2;text-align: center;}div.sk-container {display: inline-block;position: relative;}</style><div class=\"sk-top-container\"><div class=\"sk-container\"><div class=\"sk-item sk-dashed-wrapped\"><div class=\"sk-label-container\"><div class=\"sk-label sk-toggleable\"><input class=\"sk-toggleable__control sk-hidden--visually\" id=\"8dab9751-c0db-4b9f-8372-9ac6667c4ad5\" type=\"checkbox\" ><label class=\"sk-toggleable__label\" for=\"8dab9751-c0db-4b9f-8372-9ac6667c4ad5\">Pipeline</label><div class=\"sk-toggleable__content\"><pre>Pipeline(steps=[('imputation_consatnt',\n",
              "                 SimpleImputer(fill_value='missing', strategy='constant')),\n",
              "                ('onehot', OneHotEncoder(handle_unknown='ignore'))])</pre></div></div></div><div class=\"sk-serial\"><div class=\"sk-item\"><div class=\"sk-estimator sk-toggleable\"><input class=\"sk-toggleable__control sk-hidden--visually\" id=\"324c9af1-ab05-4eab-9edf-8ee774276f8d\" type=\"checkbox\" ><label class=\"sk-toggleable__label\" for=\"324c9af1-ab05-4eab-9edf-8ee774276f8d\">SimpleImputer</label><div class=\"sk-toggleable__content\"><pre>SimpleImputer(fill_value='missing', strategy='constant')</pre></div></div></div><div class=\"sk-item\"><div class=\"sk-estimator sk-toggleable\"><input class=\"sk-toggleable__control sk-hidden--visually\" id=\"6444630b-cbba-455f-b6d8-12600428ce75\" type=\"checkbox\" ><label class=\"sk-toggleable__label\" for=\"6444630b-cbba-455f-b6d8-12600428ce75\">OneHotEncoder</label><div class=\"sk-toggleable__content\"><pre>OneHotEncoder(handle_unknown='ignore')</pre></div></div></div></div></div></div></div>"
            ],
            "text/plain": [
              "Pipeline(steps=[('imputation_consatnt',\n",
              "                 SimpleImputer(fill_value='missing', strategy='constant')),\n",
              "                ('onehot', OneHotEncoder(handle_unknown='ignore'))])"
            ]
          },
          "execution_count": 30,
          "metadata": {},
          "output_type": "execute_result"
        }
      ],
      "source": [
        "categorical_processor"
      ]
    },
    {
      "cell_type": "code",
      "execution_count": null,
      "metadata": {
        "id": "PFt1eu4f9AEK"
      },
      "outputs": [],
      "source": [
        "## combine processing technqiues\n",
        "from sklearn.compose import ColumnTransformer"
      ]
    },
    {
      "cell_type": "code",
      "execution_count": null,
      "metadata": {
        "id": "jX61TNMg9AEL"
      },
      "outputs": [],
      "source": [
        "preprocessor=ColumnTransformer(\n",
        "    [(\"categorical\",categorical_processor,[\"gender\",\"City\"]),\n",
        "    (\"numerical\",numeric_processor,[\"age\",\"height\"])]\n",
        "\n",
        "\n",
        ")"
      ]
    },
    {
      "cell_type": "code",
      "execution_count": null,
      "metadata": {
        "id": "3pyDe47A9AEL",
        "outputId": "c76f21a5-9d8b-46d1-d985-287cee2f94f4"
      },
      "outputs": [
        {
          "data": {
            "text/html": [
              "<style>div.sk-top-container {color: black;background-color: white;}div.sk-toggleable {background-color: white;}label.sk-toggleable__label {cursor: pointer;display: block;width: 100%;margin-bottom: 0;padding: 0.2em 0.3em;box-sizing: border-box;text-align: center;}div.sk-toggleable__content {max-height: 0;max-width: 0;overflow: hidden;text-align: left;background-color: #f0f8ff;}div.sk-toggleable__content pre {margin: 0.2em;color: black;border-radius: 0.25em;background-color: #f0f8ff;}input.sk-toggleable__control:checked~div.sk-toggleable__content {max-height: 200px;max-width: 100%;overflow: auto;}div.sk-estimator input.sk-toggleable__control:checked~label.sk-toggleable__label {background-color: #d4ebff;}div.sk-label input.sk-toggleable__control:checked~label.sk-toggleable__label {background-color: #d4ebff;}input.sk-hidden--visually {border: 0;clip: rect(1px 1px 1px 1px);clip: rect(1px, 1px, 1px, 1px);height: 1px;margin: -1px;overflow: hidden;padding: 0;position: absolute;width: 1px;}div.sk-estimator {font-family: monospace;background-color: #f0f8ff;margin: 0.25em 0.25em;border: 1px dotted black;border-radius: 0.25em;box-sizing: border-box;}div.sk-estimator:hover {background-color: #d4ebff;}div.sk-parallel-item::after {content: \"\";width: 100%;border-bottom: 1px solid gray;flex-grow: 1;}div.sk-label:hover label.sk-toggleable__label {background-color: #d4ebff;}div.sk-serial::before {content: \"\";position: absolute;border-left: 1px solid gray;box-sizing: border-box;top: 2em;bottom: 0;left: 50%;}div.sk-serial {display: flex;flex-direction: column;align-items: center;background-color: white;}div.sk-item {z-index: 1;}div.sk-parallel {display: flex;align-items: stretch;justify-content: center;background-color: white;}div.sk-parallel-item {display: flex;flex-direction: column;position: relative;background-color: white;}div.sk-parallel-item:first-child::after {align-self: flex-end;width: 50%;}div.sk-parallel-item:last-child::after {align-self: flex-start;width: 50%;}div.sk-parallel-item:only-child::after {width: 0;}div.sk-dashed-wrapped {border: 1px dashed gray;margin: 0.2em;box-sizing: border-box;padding-bottom: 0.1em;background-color: white;position: relative;}div.sk-label label {font-family: monospace;font-weight: bold;background-color: white;display: inline-block;line-height: 1.2em;}div.sk-label-container {position: relative;z-index: 2;text-align: center;}div.sk-container {display: inline-block;position: relative;}</style><div class=\"sk-top-container\"><div class=\"sk-container\"><div class=\"sk-item sk-dashed-wrapped\"><div class=\"sk-label-container\"><div class=\"sk-label sk-toggleable\"><input class=\"sk-toggleable__control sk-hidden--visually\" id=\"d68e4d72-fb2e-41af-8c3d-4ca1fddd06d3\" type=\"checkbox\" ><label class=\"sk-toggleable__label\" for=\"d68e4d72-fb2e-41af-8c3d-4ca1fddd06d3\">ColumnTransformer</label><div class=\"sk-toggleable__content\"><pre>ColumnTransformer(transformers=[('categorical',\n",
              "                                 Pipeline(steps=[('imputation_consatnt',\n",
              "                                                  SimpleImputer(fill_value='missing',\n",
              "                                                                strategy='constant')),\n",
              "                                                 ('onehot',\n",
              "                                                  OneHotEncoder(handle_unknown='ignore'))]),\n",
              "                                 ['gender', 'City']),\n",
              "                                ('numerical',\n",
              "                                 Pipeline(steps=[('imputation_mean',\n",
              "                                                  SimpleImputer()),\n",
              "                                                 ('scaler', StandardScaler())]),\n",
              "                                 ['age', 'height'])])</pre></div></div></div><div class=\"sk-parallel\"><div class=\"sk-parallel-item\"><div class=\"sk-item\"><div class=\"sk-label-container\"><div class=\"sk-label sk-toggleable\"><input class=\"sk-toggleable__control sk-hidden--visually\" id=\"a18e4e5f-ca87-4b9f-a9a8-b5acefab60eb\" type=\"checkbox\" ><label class=\"sk-toggleable__label\" for=\"a18e4e5f-ca87-4b9f-a9a8-b5acefab60eb\">categorical</label><div class=\"sk-toggleable__content\"><pre>['gender', 'City']</pre></div></div></div><div class=\"sk-serial\"><div class=\"sk-item\"><div class=\"sk-serial\"><div class=\"sk-item\"><div class=\"sk-estimator sk-toggleable\"><input class=\"sk-toggleable__control sk-hidden--visually\" id=\"f6a15daa-bc45-48c0-8252-59f833e96638\" type=\"checkbox\" ><label class=\"sk-toggleable__label\" for=\"f6a15daa-bc45-48c0-8252-59f833e96638\">SimpleImputer</label><div class=\"sk-toggleable__content\"><pre>SimpleImputer(fill_value='missing', strategy='constant')</pre></div></div></div><div class=\"sk-item\"><div class=\"sk-estimator sk-toggleable\"><input class=\"sk-toggleable__control sk-hidden--visually\" id=\"f6118294-4539-49b0-98f1-028ced570d7f\" type=\"checkbox\" ><label class=\"sk-toggleable__label\" for=\"f6118294-4539-49b0-98f1-028ced570d7f\">OneHotEncoder</label><div class=\"sk-toggleable__content\"><pre>OneHotEncoder(handle_unknown='ignore')</pre></div></div></div></div></div></div></div></div><div class=\"sk-parallel-item\"><div class=\"sk-item\"><div class=\"sk-label-container\"><div class=\"sk-label sk-toggleable\"><input class=\"sk-toggleable__control sk-hidden--visually\" id=\"4e2f625e-e346-4e75-8646-c7f744f1fc65\" type=\"checkbox\" ><label class=\"sk-toggleable__label\" for=\"4e2f625e-e346-4e75-8646-c7f744f1fc65\">numerical</label><div class=\"sk-toggleable__content\"><pre>['age', 'height']</pre></div></div></div><div class=\"sk-serial\"><div class=\"sk-item\"><div class=\"sk-serial\"><div class=\"sk-item\"><div class=\"sk-estimator sk-toggleable\"><input class=\"sk-toggleable__control sk-hidden--visually\" id=\"ec2fc999-e1da-4848-8d4e-ddba01fbc3eb\" type=\"checkbox\" ><label class=\"sk-toggleable__label\" for=\"ec2fc999-e1da-4848-8d4e-ddba01fbc3eb\">SimpleImputer</label><div class=\"sk-toggleable__content\"><pre>SimpleImputer()</pre></div></div></div><div class=\"sk-item\"><div class=\"sk-estimator sk-toggleable\"><input class=\"sk-toggleable__control sk-hidden--visually\" id=\"cf660abe-7778-453a-a641-c457451704ab\" type=\"checkbox\" ><label class=\"sk-toggleable__label\" for=\"cf660abe-7778-453a-a641-c457451704ab\">StandardScaler</label><div class=\"sk-toggleable__content\"><pre>StandardScaler()</pre></div></div></div></div></div></div></div></div></div></div></div></div>"
            ],
            "text/plain": [
              "ColumnTransformer(transformers=[('categorical',\n",
              "                                 Pipeline(steps=[('imputation_consatnt',\n",
              "                                                  SimpleImputer(fill_value='missing',\n",
              "                                                                strategy='constant')),\n",
              "                                                 ('onehot',\n",
              "                                                  OneHotEncoder(handle_unknown='ignore'))]),\n",
              "                                 ['gender', 'City']),\n",
              "                                ('numerical',\n",
              "                                 Pipeline(steps=[('imputation_mean',\n",
              "                                                  SimpleImputer()),\n",
              "                                                 ('scaler', StandardScaler())]),\n",
              "                                 ['age', 'height'])])"
            ]
          },
          "execution_count": 33,
          "metadata": {},
          "output_type": "execute_result"
        }
      ],
      "source": [
        "preprocessor"
      ]
    },
    {
      "cell_type": "code",
      "execution_count": null,
      "metadata": {
        "id": "OI6LpYTB9AEL"
      },
      "outputs": [],
      "source": [
        "from sklearn.pipeline import make_pipeline"
      ]
    },
    {
      "cell_type": "code",
      "execution_count": null,
      "metadata": {
        "id": "vIlF2lho9AEL"
      },
      "outputs": [],
      "source": [
        "pipe=make_pipeline(preprocessor,LogisticRegression())"
      ]
    },
    {
      "cell_type": "code",
      "execution_count": null,
      "metadata": {
        "id": "HnjknBR99AEL",
        "outputId": "609285e6-0d9e-4705-fdbe-d07617481a77"
      },
      "outputs": [
        {
          "data": {
            "text/html": [
              "<style>div.sk-top-container {color: black;background-color: white;}div.sk-toggleable {background-color: white;}label.sk-toggleable__label {cursor: pointer;display: block;width: 100%;margin-bottom: 0;padding: 0.2em 0.3em;box-sizing: border-box;text-align: center;}div.sk-toggleable__content {max-height: 0;max-width: 0;overflow: hidden;text-align: left;background-color: #f0f8ff;}div.sk-toggleable__content pre {margin: 0.2em;color: black;border-radius: 0.25em;background-color: #f0f8ff;}input.sk-toggleable__control:checked~div.sk-toggleable__content {max-height: 200px;max-width: 100%;overflow: auto;}div.sk-estimator input.sk-toggleable__control:checked~label.sk-toggleable__label {background-color: #d4ebff;}div.sk-label input.sk-toggleable__control:checked~label.sk-toggleable__label {background-color: #d4ebff;}input.sk-hidden--visually {border: 0;clip: rect(1px 1px 1px 1px);clip: rect(1px, 1px, 1px, 1px);height: 1px;margin: -1px;overflow: hidden;padding: 0;position: absolute;width: 1px;}div.sk-estimator {font-family: monospace;background-color: #f0f8ff;margin: 0.25em 0.25em;border: 1px dotted black;border-radius: 0.25em;box-sizing: border-box;}div.sk-estimator:hover {background-color: #d4ebff;}div.sk-parallel-item::after {content: \"\";width: 100%;border-bottom: 1px solid gray;flex-grow: 1;}div.sk-label:hover label.sk-toggleable__label {background-color: #d4ebff;}div.sk-serial::before {content: \"\";position: absolute;border-left: 1px solid gray;box-sizing: border-box;top: 2em;bottom: 0;left: 50%;}div.sk-serial {display: flex;flex-direction: column;align-items: center;background-color: white;}div.sk-item {z-index: 1;}div.sk-parallel {display: flex;align-items: stretch;justify-content: center;background-color: white;}div.sk-parallel-item {display: flex;flex-direction: column;position: relative;background-color: white;}div.sk-parallel-item:first-child::after {align-self: flex-end;width: 50%;}div.sk-parallel-item:last-child::after {align-self: flex-start;width: 50%;}div.sk-parallel-item:only-child::after {width: 0;}div.sk-dashed-wrapped {border: 1px dashed gray;margin: 0.2em;box-sizing: border-box;padding-bottom: 0.1em;background-color: white;position: relative;}div.sk-label label {font-family: monospace;font-weight: bold;background-color: white;display: inline-block;line-height: 1.2em;}div.sk-label-container {position: relative;z-index: 2;text-align: center;}div.sk-container {display: inline-block;position: relative;}</style><div class=\"sk-top-container\"><div class=\"sk-container\"><div class=\"sk-item sk-dashed-wrapped\"><div class=\"sk-label-container\"><div class=\"sk-label sk-toggleable\"><input class=\"sk-toggleable__control sk-hidden--visually\" id=\"77c58a9c-2087-4b8d-8c42-0a3ad8e8d82d\" type=\"checkbox\" ><label class=\"sk-toggleable__label\" for=\"77c58a9c-2087-4b8d-8c42-0a3ad8e8d82d\">Pipeline</label><div class=\"sk-toggleable__content\"><pre>Pipeline(steps=[('columntransformer',\n",
              "                 ColumnTransformer(transformers=[('categorical',\n",
              "                                                  Pipeline(steps=[('imputation_consatnt',\n",
              "                                                                   SimpleImputer(fill_value='missing',\n",
              "                                                                                 strategy='constant')),\n",
              "                                                                  ('onehot',\n",
              "                                                                   OneHotEncoder(handle_unknown='ignore'))]),\n",
              "                                                  ['gender', 'City']),\n",
              "                                                 ('numerical',\n",
              "                                                  Pipeline(steps=[('imputation_mean',\n",
              "                                                                   SimpleImputer()),\n",
              "                                                                  ('scaler',\n",
              "                                                                   StandardScaler())]),\n",
              "                                                  ['age', 'height'])])),\n",
              "                ('logisticregression', LogisticRegression())])</pre></div></div></div><div class=\"sk-serial\"><div class=\"sk-item sk-dashed-wrapped\"><div class=\"sk-label-container\"><div class=\"sk-label sk-toggleable\"><input class=\"sk-toggleable__control sk-hidden--visually\" id=\"df24eb09-94cb-4644-8e73-b764bf07aaad\" type=\"checkbox\" ><label class=\"sk-toggleable__label\" for=\"df24eb09-94cb-4644-8e73-b764bf07aaad\">columntransformer: ColumnTransformer</label><div class=\"sk-toggleable__content\"><pre>ColumnTransformer(transformers=[('categorical',\n",
              "                                 Pipeline(steps=[('imputation_consatnt',\n",
              "                                                  SimpleImputer(fill_value='missing',\n",
              "                                                                strategy='constant')),\n",
              "                                                 ('onehot',\n",
              "                                                  OneHotEncoder(handle_unknown='ignore'))]),\n",
              "                                 ['gender', 'City']),\n",
              "                                ('numerical',\n",
              "                                 Pipeline(steps=[('imputation_mean',\n",
              "                                                  SimpleImputer()),\n",
              "                                                 ('scaler', StandardScaler())]),\n",
              "                                 ['age', 'height'])])</pre></div></div></div><div class=\"sk-parallel\"><div class=\"sk-parallel-item\"><div class=\"sk-item\"><div class=\"sk-label-container\"><div class=\"sk-label sk-toggleable\"><input class=\"sk-toggleable__control sk-hidden--visually\" id=\"fc8d2b74-8b86-46dd-be86-ca30a9d5bba6\" type=\"checkbox\" ><label class=\"sk-toggleable__label\" for=\"fc8d2b74-8b86-46dd-be86-ca30a9d5bba6\">categorical</label><div class=\"sk-toggleable__content\"><pre>['gender', 'City']</pre></div></div></div><div class=\"sk-serial\"><div class=\"sk-item\"><div class=\"sk-serial\"><div class=\"sk-item\"><div class=\"sk-estimator sk-toggleable\"><input class=\"sk-toggleable__control sk-hidden--visually\" id=\"cfc1a528-20c5-4e46-b5d4-c966a3727d39\" type=\"checkbox\" ><label class=\"sk-toggleable__label\" for=\"cfc1a528-20c5-4e46-b5d4-c966a3727d39\">SimpleImputer</label><div class=\"sk-toggleable__content\"><pre>SimpleImputer(fill_value='missing', strategy='constant')</pre></div></div></div><div class=\"sk-item\"><div class=\"sk-estimator sk-toggleable\"><input class=\"sk-toggleable__control sk-hidden--visually\" id=\"670b7188-d15a-4ba4-bc47-b598da3de1a6\" type=\"checkbox\" ><label class=\"sk-toggleable__label\" for=\"670b7188-d15a-4ba4-bc47-b598da3de1a6\">OneHotEncoder</label><div class=\"sk-toggleable__content\"><pre>OneHotEncoder(handle_unknown='ignore')</pre></div></div></div></div></div></div></div></div><div class=\"sk-parallel-item\"><div class=\"sk-item\"><div class=\"sk-label-container\"><div class=\"sk-label sk-toggleable\"><input class=\"sk-toggleable__control sk-hidden--visually\" id=\"febbc635-0197-455f-ac06-6201d114a1a3\" type=\"checkbox\" ><label class=\"sk-toggleable__label\" for=\"febbc635-0197-455f-ac06-6201d114a1a3\">numerical</label><div class=\"sk-toggleable__content\"><pre>['age', 'height']</pre></div></div></div><div class=\"sk-serial\"><div class=\"sk-item\"><div class=\"sk-serial\"><div class=\"sk-item\"><div class=\"sk-estimator sk-toggleable\"><input class=\"sk-toggleable__control sk-hidden--visually\" id=\"f4cb534d-a291-4c77-9e5e-84df68ffea14\" type=\"checkbox\" ><label class=\"sk-toggleable__label\" for=\"f4cb534d-a291-4c77-9e5e-84df68ffea14\">SimpleImputer</label><div class=\"sk-toggleable__content\"><pre>SimpleImputer()</pre></div></div></div><div class=\"sk-item\"><div class=\"sk-estimator sk-toggleable\"><input class=\"sk-toggleable__control sk-hidden--visually\" id=\"44fe6b52-e58f-4770-9bad-01d4d83e2e09\" type=\"checkbox\" ><label class=\"sk-toggleable__label\" for=\"44fe6b52-e58f-4770-9bad-01d4d83e2e09\">StandardScaler</label><div class=\"sk-toggleable__content\"><pre>StandardScaler()</pre></div></div></div></div></div></div></div></div></div></div><div class=\"sk-item\"><div class=\"sk-estimator sk-toggleable\"><input class=\"sk-toggleable__control sk-hidden--visually\" id=\"a35b3555-c9fc-4654-81d8-55a90120d7c0\" type=\"checkbox\" ><label class=\"sk-toggleable__label\" for=\"a35b3555-c9fc-4654-81d8-55a90120d7c0\">LogisticRegression</label><div class=\"sk-toggleable__content\"><pre>LogisticRegression()</pre></div></div></div></div></div></div></div>"
            ],
            "text/plain": [
              "Pipeline(steps=[('columntransformer',\n",
              "                 ColumnTransformer(transformers=[('categorical',\n",
              "                                                  Pipeline(steps=[('imputation_consatnt',\n",
              "                                                                   SimpleImputer(fill_value='missing',\n",
              "                                                                                 strategy='constant')),\n",
              "                                                                  ('onehot',\n",
              "                                                                   OneHotEncoder(handle_unknown='ignore'))]),\n",
              "                                                  ['gender', 'City']),\n",
              "                                                 ('numerical',\n",
              "                                                  Pipeline(steps=[('imputation_mean',\n",
              "                                                                   SimpleImputer()),\n",
              "                                                                  ('scaler',\n",
              "                                                                   StandardScaler())]),\n",
              "                                                  ['age', 'height'])])),\n",
              "                ('logisticregression', LogisticRegression())])"
            ]
          },
          "execution_count": 36,
          "metadata": {},
          "output_type": "execute_result"
        }
      ],
      "source": [
        "pipe"
      ]
    },
    {
      "cell_type": "code",
      "execution_count": null,
      "metadata": {
        "id": "FyOCZPhE9AEM"
      },
      "outputs": [],
      "source": []
    },
    {
      "cell_type": "code",
      "execution_count": null,
      "metadata": {
        "id": "544d_u0M9AEM"
      },
      "outputs": [],
      "source": []
    },
    {
      "cell_type": "code",
      "execution_count": null,
      "metadata": {
        "id": "Oks37Ks89AEM"
      },
      "outputs": [],
      "source": []
    }
  ],
  "metadata": {
    "kernelspec": {
      "display_name": "Python 3",
      "language": "python",
      "name": "python3"
    },
    "language_info": {
      "codemirror_mode": {
        "name": "ipython",
        "version": 3
      },
      "file_extension": ".py",
      "mimetype": "text/x-python",
      "name": "python",
      "nbconvert_exporter": "python",
      "pygments_lexer": "ipython3",
      "version": "3.8.5"
    },
    "colab": {
      "provenance": [],
      "include_colab_link": true
    }
  },
  "nbformat": 4,
  "nbformat_minor": 0
}