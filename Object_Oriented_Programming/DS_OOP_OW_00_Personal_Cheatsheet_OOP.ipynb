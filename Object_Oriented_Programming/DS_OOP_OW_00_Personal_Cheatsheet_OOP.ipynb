{
  "nbformat": 4,
  "nbformat_minor": 0,
  "metadata": {
    "colab": {
      "provenance": [],
      "authorship_tag": "ABX9TyPFOeL6ThX4QcY6rip85TR8",
      "include_colab_link": true
    },
    "kernelspec": {
      "name": "python3",
      "display_name": "Python 3"
    },
    "language_info": {
      "name": "python"
    }
  },
  "cells": [
    {
      "cell_type": "markdown",
      "metadata": {
        "id": "view-in-github",
        "colab_type": "text"
      },
      "source": [
        "<a href=\"https://colab.research.google.com/github/alexandergribenchenko/Data_Science_Self_Study/blob/main/Object_Oriented_Programming/DS_OOP_OW_00_Personal_Cheatsheet_OOP.ipynb\" target=\"_parent\"><img src=\"https://colab.research.google.com/assets/colab-badge.svg\" alt=\"Open In Colab\"/></a>"
      ]
    },
    {
      "cell_type": "markdown",
      "source": [
        "# Personal Cheatsheet Object Oriented Programming"
      ],
      "metadata": {
        "id": "wJ50jP7GczyN"
      }
    },
    {
      "cell_type": "markdown",
      "source": [
        "# 01. Classes definition"
      ],
      "metadata": {
        "id": "DLZamVArjE7U"
      }
    },
    {
      "cell_type": "code",
      "source": [
        "class Person(object):\n",
        "    public_general_variable = 'pub_gen_var_Person'\n",
        "    _semiprivate_general_variable = '_sempriv_gen_var_Person'\n",
        "    __private_general_variable = '__priv_gen_var_Person'\n",
        "\n",
        "    def __init__(self, name, age):\n",
        "        self.name = name\n",
        "        self.age = age\n",
        "\n",
        "    def greet(self):\n",
        "        print(\"I'm Person\")\n",
        "        print('My name is:', self.name)\n",
        "        print('My age is:', self.age)\n",
        "        print('My public general variable is:', self.public_general_variable)\n",
        "        print('My semiprivate general variable is:', self.public_general_variable)\n",
        "        print('My private general variable is:', self.__private_general_variable)\n",
        "\n",
        "    def have_birthday(self):\n",
        "        self.age += 1\n",
        "\n",
        "    def _semiprivate_method_Person(self):\n",
        "        print('This is a semiprivate method')\n",
        "    \n",
        "    def __private_method_Person(self):\n",
        "        print('This is a private method')\n",
        "\n",
        "class Employee(Person):\n",
        "\n",
        "    def __init__(self, name, age, company, employee_number, income):\n",
        "        Person.__init__(self, name, age)\n",
        "        self.company = company\n",
        "        self._employee_number = employee_number\n",
        "        self.__income = income\n",
        "\n",
        "    def greet(self):\n",
        "        print(\"I'm Person!\")\n",
        "        print('My name is:', self.name)\n",
        "        print('My age is:', self.age)\n",
        "        print('My public general variable is:', self.public_general_variable)\n",
        "        print('My semiprivate general variable is:', self.public_general_variable)\n",
        "        # print('My private general variable is:', self.__private_general_variable)\n",
        "        # No se puede usar, entrega error. Esta invocando una variable privada.\n",
        "        print('My company is:', self.company)\n",
        "        print('My employee number is:', self._employee_number)\n",
        "        print('My income is:', self.__income)\n",
        "\n",
        "    def do_work(self):\n",
        "        print(\"Working hard!\")"
      ],
      "metadata": {
        "id": "of_833dtkUUl"
      },
      "execution_count": 1,
      "outputs": []
    },
    {
      "cell_type": "markdown",
      "source": [
        "# 02. Class instantiation"
      ],
      "metadata": {
        "id": "-Jb5vpZhomax"
      }
    },
    {
      "cell_type": "markdown",
      "source": [
        "### ---> Parent class:"
      ],
      "metadata": {
        "id": "5ydl4OoprodL"
      }
    },
    {
      "cell_type": "code",
      "source": [
        "Object_Person = Person('name_person', 40)"
      ],
      "metadata": {
        "id": "ag53cnf9kUSa"
      },
      "execution_count": 2,
      "outputs": []
    },
    {
      "cell_type": "markdown",
      "source": [
        "### ---> Child class:"
      ],
      "metadata": {
        "id": "tDI2yEY-rwGV"
      }
    },
    {
      "cell_type": "code",
      "source": [
        "Object_Employee = Employee('name_employee', 45, 'company_01', 1213456, 1000)"
      ],
      "metadata": {
        "id": "UKkxPBO6ruEr"
      },
      "execution_count": 3,
      "outputs": []
    },
    {
      "cell_type": "markdown",
      "source": [
        "# 03. Object Attributes"
      ],
      "metadata": {
        "id": "MzoGClNmo1Ej"
      }
    },
    {
      "cell_type": "markdown",
      "source": [
        "### ---> Parent class:"
      ],
      "metadata": {
        "id": "qk04jjgZ1rmH"
      }
    },
    {
      "cell_type": "code",
      "source": [
        "Object_Person.public_general_variable"
      ],
      "metadata": {
        "colab": {
          "base_uri": "https://localhost:8080/",
          "height": 35
        },
        "id": "eAJEmVEVorAl",
        "outputId": "c1a0ddc6-bf22-4369-d6ab-d22ead09e892"
      },
      "execution_count": 4,
      "outputs": [
        {
          "output_type": "execute_result",
          "data": {
            "text/plain": [
              "'pub_gen_var_Person'"
            ],
            "application/vnd.google.colaboratory.intrinsic+json": {
              "type": "string"
            }
          },
          "metadata": {},
          "execution_count": 4
        }
      ]
    },
    {
      "cell_type": "code",
      "source": [
        "Object_Person._semiprivate_general_variable"
      ],
      "metadata": {
        "colab": {
          "base_uri": "https://localhost:8080/",
          "height": 35
        },
        "id": "TNd-G1z8glrs",
        "outputId": "d984c86c-0fce-4107-8802-2ed4d7e8df04"
      },
      "execution_count": 5,
      "outputs": [
        {
          "output_type": "execute_result",
          "data": {
            "text/plain": [
              "'_sempriv_gen_var_Person'"
            ],
            "application/vnd.google.colaboratory.intrinsic+json": {
              "type": "string"
            }
          },
          "metadata": {},
          "execution_count": 5
        }
      ]
    },
    {
      "cell_type": "code",
      "source": [
        "# ## Si descomentamos nos genera error pues los parametros provados no se pueden\n",
        "# ## llamar desde afuera.\n",
        "# Object_Person.__private_general_variable"
      ],
      "metadata": {
        "id": "udDMiCO3glpD"
      },
      "execution_count": 6,
      "outputs": []
    },
    {
      "cell_type": "code",
      "source": [
        "Object_Person.name"
      ],
      "metadata": {
        "colab": {
          "base_uri": "https://localhost:8080/",
          "height": 35
        },
        "id": "csnYjQW6o_sA",
        "outputId": "21328120-740a-4cfa-f4be-090a22369444"
      },
      "execution_count": 7,
      "outputs": [
        {
          "output_type": "execute_result",
          "data": {
            "text/plain": [
              "'name_person'"
            ],
            "application/vnd.google.colaboratory.intrinsic+json": {
              "type": "string"
            }
          },
          "metadata": {},
          "execution_count": 7
        }
      ]
    },
    {
      "cell_type": "code",
      "source": [
        "Object_Person.age"
      ],
      "metadata": {
        "colab": {
          "base_uri": "https://localhost:8080/"
        },
        "id": "lvk1zXQWgfXN",
        "outputId": "c828b858-c7db-40a5-d42d-63c7e4db40ff"
      },
      "execution_count": 8,
      "outputs": [
        {
          "output_type": "execute_result",
          "data": {
            "text/plain": [
              "40"
            ]
          },
          "metadata": {},
          "execution_count": 8
        }
      ]
    },
    {
      "cell_type": "markdown",
      "source": [
        "### ---> Child class:"
      ],
      "metadata": {
        "id": "JxS312aI1oZb"
      }
    },
    {
      "cell_type": "code",
      "source": [
        "Object_Employee.public_general_variable"
      ],
      "metadata": {
        "colab": {
          "base_uri": "https://localhost:8080/",
          "height": 35
        },
        "outputId": "bb1c9763-8644-4066-f1d6-34bdcf55e89f",
        "id": "rsQsRPqGhHcT"
      },
      "execution_count": 9,
      "outputs": [
        {
          "output_type": "execute_result",
          "data": {
            "text/plain": [
              "'pub_gen_var_Person'"
            ],
            "application/vnd.google.colaboratory.intrinsic+json": {
              "type": "string"
            }
          },
          "metadata": {},
          "execution_count": 9
        }
      ]
    },
    {
      "cell_type": "code",
      "source": [
        "Object_Employee._semiprivate_general_variable"
      ],
      "metadata": {
        "colab": {
          "base_uri": "https://localhost:8080/",
          "height": 35
        },
        "outputId": "fa1c8eba-d52a-4a94-9a1b-f989c8df3368",
        "id": "xivB-i90hHcU"
      },
      "execution_count": 10,
      "outputs": [
        {
          "output_type": "execute_result",
          "data": {
            "text/plain": [
              "'_sempriv_gen_var_Person'"
            ],
            "application/vnd.google.colaboratory.intrinsic+json": {
              "type": "string"
            }
          },
          "metadata": {},
          "execution_count": 10
        }
      ]
    },
    {
      "cell_type": "code",
      "source": [
        "# ## Si descomentamos nos genera error pues los parametros provados no se pueden\n",
        "# ## llamar desde afuera.\n",
        "# Object_Person.__private_general_variable"
      ],
      "metadata": {
        "id": "cqeY6YLWhHcU"
      },
      "execution_count": 11,
      "outputs": []
    },
    {
      "cell_type": "code",
      "source": [
        "Object_Employee.name"
      ],
      "metadata": {
        "colab": {
          "base_uri": "https://localhost:8080/",
          "height": 35
        },
        "outputId": "3de7b4c2-ee3c-4a35-faf4-5dadfd8b4cd9",
        "id": "jJXpyRFlhHcU"
      },
      "execution_count": 12,
      "outputs": [
        {
          "output_type": "execute_result",
          "data": {
            "text/plain": [
              "'name_employee'"
            ],
            "application/vnd.google.colaboratory.intrinsic+json": {
              "type": "string"
            }
          },
          "metadata": {},
          "execution_count": 12
        }
      ]
    },
    {
      "cell_type": "code",
      "source": [
        "Object_Employee.age"
      ],
      "metadata": {
        "colab": {
          "base_uri": "https://localhost:8080/"
        },
        "outputId": "874b16c9-2b4a-42a8-fbfb-5e522beb64a9",
        "id": "3f14aI_5hHcU"
      },
      "execution_count": 13,
      "outputs": [
        {
          "output_type": "execute_result",
          "data": {
            "text/plain": [
              "45"
            ]
          },
          "metadata": {},
          "execution_count": 13
        }
      ]
    },
    {
      "cell_type": "code",
      "source": [
        "Object_Employee.company"
      ],
      "metadata": {
        "colab": {
          "base_uri": "https://localhost:8080/",
          "height": 35
        },
        "id": "VXHSVT9vhHCW",
        "outputId": "67b9019f-b8de-40f5-90e7-b4d29f7409f5"
      },
      "execution_count": 14,
      "outputs": [
        {
          "output_type": "execute_result",
          "data": {
            "text/plain": [
              "'company_01'"
            ],
            "application/vnd.google.colaboratory.intrinsic+json": {
              "type": "string"
            }
          },
          "metadata": {},
          "execution_count": 14
        }
      ]
    },
    {
      "cell_type": "code",
      "source": [
        "Object_Employee._employee_number"
      ],
      "metadata": {
        "colab": {
          "base_uri": "https://localhost:8080/"
        },
        "id": "m-NyPlD0hHAO",
        "outputId": "bd610bc7-c5b5-4d54-92cf-b00489283c23"
      },
      "execution_count": 15,
      "outputs": [
        {
          "output_type": "execute_result",
          "data": {
            "text/plain": [
              "1213456"
            ]
          },
          "metadata": {},
          "execution_count": 15
        }
      ]
    },
    {
      "cell_type": "code",
      "source": [
        "# ## Si descomentamos nos genera error pues los parametros provados no se pueden\n",
        "# ## llamar desde afuera.\n",
        "# Object_Employee.__income"
      ],
      "metadata": {
        "id": "h5uMStkYhG-B"
      },
      "execution_count": 16,
      "outputs": []
    },
    {
      "cell_type": "code",
      "source": [
        "# Método tricky para poder obtener los parametros privados\n",
        "Object_Employee._Employee__income"
      ],
      "metadata": {
        "colab": {
          "base_uri": "https://localhost:8080/"
        },
        "id": "Ps-7POJ1hG70",
        "outputId": "27596cea-f72c-4bba-cea5-ddd3b0c2c2a7"
      },
      "execution_count": 17,
      "outputs": [
        {
          "output_type": "execute_result",
          "data": {
            "text/plain": [
              "1000"
            ]
          },
          "metadata": {},
          "execution_count": 17
        }
      ]
    },
    {
      "cell_type": "markdown",
      "source": [
        "# 04. Object methods"
      ],
      "metadata": {
        "id": "Dvw5gggFpeHj"
      }
    },
    {
      "cell_type": "markdown",
      "source": [
        "### ---> Parent class:"
      ],
      "metadata": {
        "id": "BCeSV0p5uZRO"
      }
    },
    {
      "cell_type": "code",
      "source": [
        "Object_Person.greet()"
      ],
      "metadata": {
        "colab": {
          "base_uri": "https://localhost:8080/"
        },
        "id": "ExywJyVBlzwo",
        "outputId": "892510a8-a3e4-4af3-c0e7-38970e5e4794"
      },
      "execution_count": 18,
      "outputs": [
        {
          "output_type": "stream",
          "name": "stdout",
          "text": [
            "I'm Person\n",
            "My name is: name_person\n",
            "My age is: 40\n",
            "My public general variable is: pub_gen_var_Person\n",
            "My semiprivate general variable is: pub_gen_var_Person\n",
            "My private general variable is: __priv_gen_var_Person\n"
          ]
        }
      ]
    },
    {
      "cell_type": "code",
      "source": [
        "Object_Person._semiprivate_method_Person()"
      ],
      "metadata": {
        "colab": {
          "base_uri": "https://localhost:8080/"
        },
        "id": "iK-F70nm9N-e",
        "outputId": "0983cbc7-4003-4e7d-e83e-6a5337fc1e4f"
      },
      "execution_count": 19,
      "outputs": [
        {
          "output_type": "stream",
          "name": "stdout",
          "text": [
            "This is a semiprivate method\n"
          ]
        }
      ]
    },
    {
      "cell_type": "code",
      "source": [
        "# # Si quitamos el comentario se sigue generando error porque es un metodo privado.\n",
        "# Object_Person.__very_private_method_Person()"
      ],
      "metadata": {
        "id": "wIB0oBAA9bNG"
      },
      "execution_count": 20,
      "outputs": []
    },
    {
      "cell_type": "markdown",
      "source": [
        "### ---> Child class:"
      ],
      "metadata": {
        "id": "e8Prv5WCucHG"
      }
    },
    {
      "cell_type": "code",
      "source": [
        "Object_Employee.greet()"
      ],
      "metadata": {
        "colab": {
          "base_uri": "https://localhost:8080/"
        },
        "id": "1A8hpJY1uh5-",
        "outputId": "266f53dc-4044-40ab-d44e-5687e3f6c6be"
      },
      "execution_count": 21,
      "outputs": [
        {
          "output_type": "stream",
          "name": "stdout",
          "text": [
            "I'm Person!\n",
            "My name is: name_employee\n",
            "My age is: 45\n",
            "My public general variable is: pub_gen_var_Person\n",
            "My semiprivate general variable is: pub_gen_var_Person\n",
            "My company is: company_01\n",
            "My employee number is: 1213456\n",
            "My income is: 1000\n"
          ]
        }
      ]
    },
    {
      "cell_type": "code",
      "source": [
        "Object_Employee._semiprivate_method_Person()"
      ],
      "metadata": {
        "colab": {
          "base_uri": "https://localhost:8080/"
        },
        "id": "i4Okcm7NieZt",
        "outputId": "92e5dad9-7305-47d7-a289-d17e91ef8b14"
      },
      "execution_count": 22,
      "outputs": [
        {
          "output_type": "stream",
          "name": "stdout",
          "text": [
            "This is a semiprivate method\n"
          ]
        }
      ]
    },
    {
      "cell_type": "code",
      "source": [
        "# # Si quitamos el comentario se sigue generando error porque es un metodo privado.\n",
        "# Object_Employee.__very_private_method_Person()"
      ],
      "metadata": {
        "id": "Ks45Wbt9iiSU"
      },
      "execution_count": 23,
      "outputs": []
    },
    {
      "cell_type": "code",
      "source": [
        "Object_Employee.do_work()"
      ],
      "metadata": {
        "colab": {
          "base_uri": "https://localhost:8080/"
        },
        "id": "Y3O_VlvIipCQ",
        "outputId": "6f4c872c-ebe6-4995-8f79-1b3f25fc8022"
      },
      "execution_count": 24,
      "outputs": [
        {
          "output_type": "stream",
          "name": "stdout",
          "text": [
            "Working hard!\n"
          ]
        }
      ]
    },
    {
      "cell_type": "markdown",
      "source": [
        "# 05. How to know if Know if a class is a subclass?"
      ],
      "metadata": {
        "id": "dudQCwP5w_d0"
      }
    },
    {
      "cell_type": "code",
      "source": [
        "issubclass(Employee, Person)"
      ],
      "metadata": {
        "colab": {
          "base_uri": "https://localhost:8080/"
        },
        "id": "Hj-snEdfuh1_",
        "outputId": "e565308c-3422-444f-9425-962a965d769a"
      },
      "execution_count": 25,
      "outputs": [
        {
          "output_type": "execute_result",
          "data": {
            "text/plain": [
              "True"
            ]
          },
          "metadata": {},
          "execution_count": 25
        }
      ]
    },
    {
      "cell_type": "code",
      "source": [
        "issubclass(Person, Employee)"
      ],
      "metadata": {
        "colab": {
          "base_uri": "https://localhost:8080/"
        },
        "id": "qhVN1srtuhzp",
        "outputId": "7be0f3b2-6004-4f8c-932d-721208cba586"
      },
      "execution_count": 26,
      "outputs": [
        {
          "output_type": "execute_result",
          "data": {
            "text/plain": [
              "False"
            ]
          },
          "metadata": {},
          "execution_count": 26
        }
      ]
    },
    {
      "cell_type": "markdown",
      "source": [
        "# 06. How to know if an object is an instance of a class?"
      ],
      "metadata": {
        "id": "_4bcy7WQxu00"
      }
    },
    {
      "cell_type": "code",
      "source": [
        "isinstance(Object_Person, Person)"
      ],
      "metadata": {
        "colab": {
          "base_uri": "https://localhost:8080/"
        },
        "id": "ck_dHFkYkULj",
        "outputId": "f51f2550-b039-453e-834e-fefda06441bc"
      },
      "execution_count": 27,
      "outputs": [
        {
          "output_type": "execute_result",
          "data": {
            "text/plain": [
              "True"
            ]
          },
          "metadata": {},
          "execution_count": 27
        }
      ]
    },
    {
      "cell_type": "code",
      "source": [
        "isinstance(Object_Employee, Person)"
      ],
      "metadata": {
        "colab": {
          "base_uri": "https://localhost:8080/"
        },
        "id": "DGV_fo_ZkUIJ",
        "outputId": "2f6df841-51a5-4555-f01a-c1c8705f9c64"
      },
      "execution_count": 28,
      "outputs": [
        {
          "output_type": "execute_result",
          "data": {
            "text/plain": [
              "True"
            ]
          },
          "metadata": {},
          "execution_count": 28
        }
      ]
    },
    {
      "cell_type": "code",
      "source": [
        "isinstance(Object_Person, Employee)"
      ],
      "metadata": {
        "colab": {
          "base_uri": "https://localhost:8080/"
        },
        "id": "YB6EwxICkUFg",
        "outputId": "5a9a187c-0dfb-4843-b147-39d43c342f25"
      },
      "execution_count": 29,
      "outputs": [
        {
          "output_type": "execute_result",
          "data": {
            "text/plain": [
              "False"
            ]
          },
          "metadata": {},
          "execution_count": 29
        }
      ]
    },
    {
      "cell_type": "markdown",
      "source": [
        "# 07. List all methods and attributes of an object"
      ],
      "metadata": {
        "id": "McC5ClwP2zZj"
      }
    },
    {
      "cell_type": "code",
      "source": [
        "# Métodos y atributos que siempre se heredaran del objeto Padre\n",
        "dir(object)"
      ],
      "metadata": {
        "colab": {
          "base_uri": "https://localhost:8080/"
        },
        "id": "ZRxXmgQ04SN0",
        "outputId": "89759f81-54aa-49d9-d528-da6e62c2c3c3"
      },
      "execution_count": 30,
      "outputs": [
        {
          "output_type": "execute_result",
          "data": {
            "text/plain": [
              "['__class__',\n",
              " '__delattr__',\n",
              " '__dir__',\n",
              " '__doc__',\n",
              " '__eq__',\n",
              " '__format__',\n",
              " '__ge__',\n",
              " '__getattribute__',\n",
              " '__gt__',\n",
              " '__hash__',\n",
              " '__init__',\n",
              " '__init_subclass__',\n",
              " '__le__',\n",
              " '__lt__',\n",
              " '__ne__',\n",
              " '__new__',\n",
              " '__reduce__',\n",
              " '__reduce_ex__',\n",
              " '__repr__',\n",
              " '__setattr__',\n",
              " '__sizeof__',\n",
              " '__str__',\n",
              " '__subclasshook__']"
            ]
          },
          "metadata": {},
          "execution_count": 30
        }
      ]
    },
    {
      "cell_type": "markdown",
      "source": [
        "### ---> Parent class:"
      ],
      "metadata": {
        "id": "gnjCOBTF4YxG"
      }
    },
    {
      "cell_type": "code",
      "source": [
        "dir(Object_Person)"
      ],
      "metadata": {
        "colab": {
          "base_uri": "https://localhost:8080/"
        },
        "id": "jbHwKMs-MlkB",
        "outputId": "3aa4be56-d0a9-4adc-cbd9-c4dea55a8fb5"
      },
      "execution_count": 31,
      "outputs": [
        {
          "output_type": "execute_result",
          "data": {
            "text/plain": [
              "['_Person__private_general_variable',\n",
              " '_Person__private_method_Person',\n",
              " '__class__',\n",
              " '__delattr__',\n",
              " '__dict__',\n",
              " '__dir__',\n",
              " '__doc__',\n",
              " '__eq__',\n",
              " '__format__',\n",
              " '__ge__',\n",
              " '__getattribute__',\n",
              " '__gt__',\n",
              " '__hash__',\n",
              " '__init__',\n",
              " '__init_subclass__',\n",
              " '__le__',\n",
              " '__lt__',\n",
              " '__module__',\n",
              " '__ne__',\n",
              " '__new__',\n",
              " '__reduce__',\n",
              " '__reduce_ex__',\n",
              " '__repr__',\n",
              " '__setattr__',\n",
              " '__sizeof__',\n",
              " '__str__',\n",
              " '__subclasshook__',\n",
              " '__weakref__',\n",
              " '_semiprivate_general_variable',\n",
              " '_semiprivate_method_Person',\n",
              " 'age',\n",
              " 'greet',\n",
              " 'have_birthday',\n",
              " 'name',\n",
              " 'public_general_variable']"
            ]
          },
          "metadata": {},
          "execution_count": 31
        }
      ]
    },
    {
      "cell_type": "code",
      "source": [
        "# Métodos y parametros creados exclusivamante por nosotros\n",
        "[x for x in dir(Object_Person) if not x.startswith('__')]"
      ],
      "metadata": {
        "colab": {
          "base_uri": "https://localhost:8080/"
        },
        "id": "kb-8h_ME5AKJ",
        "outputId": "0f83b78b-f757-47f5-d8a3-382dc57d8f31"
      },
      "execution_count": 32,
      "outputs": [
        {
          "output_type": "execute_result",
          "data": {
            "text/plain": [
              "['_Person__private_general_variable',\n",
              " '_Person__private_method_Person',\n",
              " '_semiprivate_general_variable',\n",
              " '_semiprivate_method_Person',\n",
              " 'age',\n",
              " 'greet',\n",
              " 'have_birthday',\n",
              " 'name',\n",
              " 'public_general_variable']"
            ]
          },
          "metadata": {},
          "execution_count": 32
        }
      ]
    },
    {
      "cell_type": "markdown",
      "source": [
        "### ---> Child class:"
      ],
      "metadata": {
        "id": "Z1_dV_Nt4d1N"
      }
    },
    {
      "cell_type": "code",
      "source": [
        "dir(Object_Employee)"
      ],
      "metadata": {
        "colab": {
          "base_uri": "https://localhost:8080/"
        },
        "id": "eoqRDyaJ3xQx",
        "outputId": "8148cae2-f541-4e97-e50a-70f999698290"
      },
      "execution_count": 33,
      "outputs": [
        {
          "output_type": "execute_result",
          "data": {
            "text/plain": [
              "['_Employee__income',\n",
              " '_Person__private_general_variable',\n",
              " '_Person__private_method_Person',\n",
              " '__class__',\n",
              " '__delattr__',\n",
              " '__dict__',\n",
              " '__dir__',\n",
              " '__doc__',\n",
              " '__eq__',\n",
              " '__format__',\n",
              " '__ge__',\n",
              " '__getattribute__',\n",
              " '__gt__',\n",
              " '__hash__',\n",
              " '__init__',\n",
              " '__init_subclass__',\n",
              " '__le__',\n",
              " '__lt__',\n",
              " '__module__',\n",
              " '__ne__',\n",
              " '__new__',\n",
              " '__reduce__',\n",
              " '__reduce_ex__',\n",
              " '__repr__',\n",
              " '__setattr__',\n",
              " '__sizeof__',\n",
              " '__str__',\n",
              " '__subclasshook__',\n",
              " '__weakref__',\n",
              " '_employee_number',\n",
              " '_semiprivate_general_variable',\n",
              " '_semiprivate_method_Person',\n",
              " 'age',\n",
              " 'company',\n",
              " 'do_work',\n",
              " 'greet',\n",
              " 'have_birthday',\n",
              " 'name',\n",
              " 'public_general_variable']"
            ]
          },
          "metadata": {},
          "execution_count": 33
        }
      ]
    },
    {
      "cell_type": "code",
      "source": [
        "# Métodos y parametros creados exclusivamante por nosotros\n",
        "[x for x in dir(Object_Employee) if not x.startswith('__')]"
      ],
      "metadata": {
        "colab": {
          "base_uri": "https://localhost:8080/"
        },
        "id": "s52-_16E5Rbl",
        "outputId": "ef38ed25-7dcd-47dc-e56f-1136fff84176"
      },
      "execution_count": 34,
      "outputs": [
        {
          "output_type": "execute_result",
          "data": {
            "text/plain": [
              "['_Employee__income',\n",
              " '_Person__private_general_variable',\n",
              " '_Person__private_method_Person',\n",
              " '_employee_number',\n",
              " '_semiprivate_general_variable',\n",
              " '_semiprivate_method_Person',\n",
              " 'age',\n",
              " 'company',\n",
              " 'do_work',\n",
              " 'greet',\n",
              " 'have_birthday',\n",
              " 'name',\n",
              " 'public_general_variable']"
            ]
          },
          "metadata": {},
          "execution_count": 34
        }
      ]
    }
  ]
}