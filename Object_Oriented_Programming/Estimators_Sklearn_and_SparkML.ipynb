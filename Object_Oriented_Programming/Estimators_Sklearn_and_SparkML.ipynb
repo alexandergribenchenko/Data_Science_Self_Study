{
  "cells": [
    {
      "cell_type": "markdown",
      "metadata": {
        "id": "view-in-github",
        "colab_type": "text"
      },
      "source": [
        "<a href=\"https://colab.research.google.com/github/alexandergribenchenko/Data_Science_Self_Study/blob/main/Object_Oriented_Programming/Estimators_Sklearn_and_SparkML.ipynb\" target=\"_parent\"><img src=\"https://colab.research.google.com/assets/colab-badge.svg\" alt=\"Open In Colab\"/></a>"
      ]
    },
    {
      "cell_type": "markdown",
      "source": [
        "# 01. Sklearn"
      ],
      "metadata": {
        "application/vnd.databricks.v1+cell": {
          "title": "",
          "showTitle": false,
          "inputWidgets": {},
          "nuid": "4beb2c00-1822-4ab3-834a-15c7f9407c65"
        },
        "id": "XO0Hiv2IaHm9"
      }
    },
    {
      "cell_type": "markdown",
      "source": [
        "## 01.01. Train dataset base"
      ],
      "metadata": {
        "application/vnd.databricks.v1+cell": {
          "title": "",
          "showTitle": false,
          "inputWidgets": {},
          "nuid": "6247f64f-02c2-4674-a67c-99b5b0cd2bc3"
        },
        "id": "qKZSNG9raHm_"
      }
    },
    {
      "cell_type": "code",
      "source": [
        "import pandas as pd\n",
        "  \n",
        "C1_lst = [-21.57, 1.24, -0.84, 32.25, 0.82, -3.11, 0.46, -18.68, 0.04, 30.87]\n",
        "C2_lst = [2.49, 2.27, 0.25, -2.33, -2.91, -3.61, 0.58, -2.59, -3.99, 1.54]\n",
        "C3_lst = [1.14, 4.76, 14.23, -2.65, -3.53, -0.03, 17.50, -0.21, 2.96, 2.31]\n",
        "\n",
        "df_train = pd.DataFrame(list(zip(C1_lst, C2_lst, C3_lst )), columns =['C1', 'C2', 'C3'])\n",
        "df_train"
      ],
      "metadata": {
        "application/vnd.databricks.v1+cell": {
          "title": "",
          "showTitle": false,
          "inputWidgets": {},
          "nuid": "767d6504-e332-4505-ba0a-a9462c7cd1c0"
        },
        "id": "0qh9nggPaHnA",
        "outputId": "9a39038b-b00d-4b2f-d43a-1658ff298f7e"
      },
      "outputs": [
        {
          "output_type": "display_data",
          "metadata": {
            "application/vnd.databricks.v1+output": {
              "datasetInfos": [],
              "data": {
                "text/plain": "",
                "application/vnd.databricks.v1+bamboolib_hint": "{\"pd.DataFrames\": [], \"version\": \"0.0.1\"}"
              },
              "removedWidgets": [],
              "addedWidgets": {},
              "metadata": {},
              "type": "mimeBundle",
              "arguments": {}
            }
          },
          "data": {
            "text/plain": "",
            "application/vnd.databricks.v1+bamboolib_hint": "{\"pd.DataFrames\": [], \"version\": \"0.0.1\"}"
          }
        },
        {
          "output_type": "display_data",
          "metadata": {
            "application/vnd.databricks.v1+output": {
              "datasetInfos": [],
              "data": "<div>\n<style scoped>\n    .dataframe tbody tr th:only-of-type {\n        vertical-align: middle;\n    }\n\n    .dataframe tbody tr th {\n        vertical-align: top;\n    }\n\n    .dataframe thead th {\n        text-align: right;\n    }\n</style>\n<table border=\"1\" class=\"dataframe\">\n  <thead>\n    <tr style=\"text-align: right;\">\n      <th></th>\n      <th>C1</th>\n      <th>C2</th>\n      <th>C3</th>\n    </tr>\n  </thead>\n  <tbody>\n    <tr>\n      <th>0</th>\n      <td>-21.57</td>\n      <td>2.49</td>\n      <td>1.14</td>\n    </tr>\n    <tr>\n      <th>1</th>\n      <td>1.24</td>\n      <td>2.27</td>\n      <td>4.76</td>\n    </tr>\n    <tr>\n      <th>2</th>\n      <td>-0.84</td>\n      <td>0.25</td>\n      <td>14.23</td>\n    </tr>\n    <tr>\n      <th>3</th>\n      <td>32.25</td>\n      <td>-2.33</td>\n      <td>-2.65</td>\n    </tr>\n    <tr>\n      <th>4</th>\n      <td>0.82</td>\n      <td>-2.91</td>\n      <td>-3.53</td>\n    </tr>\n    <tr>\n      <th>5</th>\n      <td>-3.11</td>\n      <td>-3.61</td>\n      <td>-0.03</td>\n    </tr>\n    <tr>\n      <th>6</th>\n      <td>0.46</td>\n      <td>0.58</td>\n      <td>17.50</td>\n    </tr>\n    <tr>\n      <th>7</th>\n      <td>-18.68</td>\n      <td>-2.59</td>\n      <td>-0.21</td>\n    </tr>\n    <tr>\n      <th>8</th>\n      <td>0.04</td>\n      <td>-3.99</td>\n      <td>2.96</td>\n    </tr>\n    <tr>\n      <th>9</th>\n      <td>30.87</td>\n      <td>1.54</td>\n      <td>2.31</td>\n    </tr>\n  </tbody>\n</table>\n</div>",
              "textData": null,
              "removedWidgets": [],
              "addedWidgets": {},
              "metadata": {},
              "type": "htmlSandbox",
              "arguments": {}
            }
          },
          "data": {
            "text/html": [
              "<div>\n<style scoped>\n    .dataframe tbody tr th:only-of-type {\n        vertical-align: middle;\n    }\n\n    .dataframe tbody tr th {\n        vertical-align: top;\n    }\n\n    .dataframe thead th {\n        text-align: right;\n    }\n</style>\n<table border=\"1\" class=\"dataframe\">\n  <thead>\n    <tr style=\"text-align: right;\">\n      <th></th>\n      <th>C1</th>\n      <th>C2</th>\n      <th>C3</th>\n    </tr>\n  </thead>\n  <tbody>\n    <tr>\n      <th>0</th>\n      <td>-21.57</td>\n      <td>2.49</td>\n      <td>1.14</td>\n    </tr>\n    <tr>\n      <th>1</th>\n      <td>1.24</td>\n      <td>2.27</td>\n      <td>4.76</td>\n    </tr>\n    <tr>\n      <th>2</th>\n      <td>-0.84</td>\n      <td>0.25</td>\n      <td>14.23</td>\n    </tr>\n    <tr>\n      <th>3</th>\n      <td>32.25</td>\n      <td>-2.33</td>\n      <td>-2.65</td>\n    </tr>\n    <tr>\n      <th>4</th>\n      <td>0.82</td>\n      <td>-2.91</td>\n      <td>-3.53</td>\n    </tr>\n    <tr>\n      <th>5</th>\n      <td>-3.11</td>\n      <td>-3.61</td>\n      <td>-0.03</td>\n    </tr>\n    <tr>\n      <th>6</th>\n      <td>0.46</td>\n      <td>0.58</td>\n      <td>17.50</td>\n    </tr>\n    <tr>\n      <th>7</th>\n      <td>-18.68</td>\n      <td>-2.59</td>\n      <td>-0.21</td>\n    </tr>\n    <tr>\n      <th>8</th>\n      <td>0.04</td>\n      <td>-3.99</td>\n      <td>2.96</td>\n    </tr>\n    <tr>\n      <th>9</th>\n      <td>30.87</td>\n      <td>1.54</td>\n      <td>2.31</td>\n    </tr>\n  </tbody>\n</table>\n</div>"
            ]
          }
        }
      ],
      "execution_count": null
    },
    {
      "cell_type": "code",
      "source": [
        "df_train.info()"
      ],
      "metadata": {
        "application/vnd.databricks.v1+cell": {
          "title": "",
          "showTitle": false,
          "inputWidgets": {},
          "nuid": "57a990a7-0cf7-4373-a358-90666f697c6c"
        },
        "id": "QZHYGY0faHnC",
        "outputId": "b5ad5064-aa0a-46bd-a2e0-c6749babd5ca"
      },
      "outputs": [
        {
          "output_type": "display_data",
          "metadata": {
            "application/vnd.databricks.v1+output": {
              "datasetInfos": [],
              "data": "<class 'pandas.core.frame.DataFrame'>\nRangeIndex: 10 entries, 0 to 9\nData columns (total 3 columns):\n #   Column  Non-Null Count  Dtype  \n---  ------  --------------  -----  \n 0   C1      10 non-null     float64\n 1   C2      10 non-null     float64\n 2   C3      10 non-null     float64\ndtypes: float64(3)\nmemory usage: 368.0 bytes\n",
              "removedWidgets": [],
              "addedWidgets": {},
              "metadata": {},
              "type": "ansi",
              "arguments": {}
            }
          },
          "data": {
            "text/plain": [
              "<class 'pandas.core.frame.DataFrame'>\nRangeIndex: 10 entries, 0 to 9\nData columns (total 3 columns):\n #   Column  Non-Null Count  Dtype  \n---  ------  --------------  -----  \n 0   C1      10 non-null     float64\n 1   C2      10 non-null     float64\n 2   C3      10 non-null     float64\ndtypes: float64(3)\nmemory usage: 368.0 bytes\n"
            ]
          }
        }
      ],
      "execution_count": null
    },
    {
      "cell_type": "markdown",
      "source": [
        "## 01.02. Function to convert in SKlearn Estimator"
      ],
      "metadata": {
        "application/vnd.databricks.v1+cell": {
          "title": "",
          "showTitle": false,
          "inputWidgets": {},
          "nuid": "1c775ec8-2cae-46a4-8723-a86aac451777"
        },
        "id": "ulNf2XcLaHnC"
      }
    },
    {
      "cell_type": "code",
      "source": [
        "def outliers(df, input_columns):\n",
        "  \n",
        "  Q1 = df[input_columns].quantile(0.25, interpolation='lower')\n",
        "  Q3 = df[input_columns].quantile(0.75, interpolation='lower')\n",
        "  IQR = Q3-Q1\n",
        "  outliers_thresholds_down = Q1-1.5*IQR\n",
        "  outliers_thresholds_up = Q3+1.5*IQR\n",
        "  \n",
        "  dict_outliers_thresholds = {col:[outliers_thresholds_down[idx], outliers_thresholds_up[idx]] for idx, col in enumerate(input_columns)}\n",
        "  \n",
        "  df_output=df.copy()\n",
        "  for col in dict_outliers_thresholds.keys():\n",
        "    df_output[col] = df[col].apply(lambda x: dict_outliers_thresholds[col][0] if x<dict_outliers_thresholds[col][0] else\n",
        "                                             dict_outliers_thresholds[col][1] if x>dict_outliers_thresholds[col][1] else\n",
        "                                             x)\n",
        "  return df_output, dict_outliers_thresholds"
      ],
      "metadata": {
        "application/vnd.databricks.v1+cell": {
          "title": "",
          "showTitle": false,
          "inputWidgets": {},
          "nuid": "a3714c72-31f4-4f7b-9d98-c7d3d734245c"
        },
        "id": "va9nYIVfaHnC"
      },
      "outputs": [],
      "execution_count": null
    },
    {
      "cell_type": "code",
      "source": [
        "df_output, dict_outliers_thresholds = outliers(df_train, input_columns=['C1','C3'])"
      ],
      "metadata": {
        "application/vnd.databricks.v1+cell": {
          "title": "",
          "showTitle": false,
          "inputWidgets": {},
          "nuid": "10c3ff80-10cb-4144-a85d-c84c6434c6d8"
        },
        "id": "3zqImDL5aHnD"
      },
      "outputs": [],
      "execution_count": null
    },
    {
      "cell_type": "code",
      "source": [
        "dict_outliers_thresholds"
      ],
      "metadata": {
        "application/vnd.databricks.v1+cell": {
          "title": "",
          "showTitle": false,
          "inputWidgets": {},
          "nuid": "c7d48abc-8447-4367-b9a8-4d5f0cfa303c"
        },
        "id": "GoUA3-JdaHnD",
        "outputId": "713ac5e1-0068-40d0-b43d-92d36dd5d429"
      },
      "outputs": [
        {
          "output_type": "display_data",
          "metadata": {
            "application/vnd.databricks.v1+output": {
              "datasetInfos": [],
              "data": "Out[33]: {'C1': [-9.004999999999999, 6.715], 'C3': [-4.965, 7.715]}",
              "removedWidgets": [],
              "addedWidgets": {},
              "metadata": {},
              "type": "ansi",
              "arguments": {}
            }
          },
          "data": {
            "text/plain": [
              "Out[33]: {'C1': [-9.004999999999999, 6.715], 'C3': [-4.965, 7.715]}"
            ]
          }
        }
      ],
      "execution_count": null
    },
    {
      "cell_type": "code",
      "source": [
        "df_output"
      ],
      "metadata": {
        "application/vnd.databricks.v1+cell": {
          "title": "",
          "showTitle": false,
          "inputWidgets": {},
          "nuid": "8441e9e0-acab-49b3-b42c-6466ee2f16de"
        },
        "id": "IgbTew9IaHnE",
        "outputId": "c25f66f6-4bdc-4aaa-ff44-12954a3901c9"
      },
      "outputs": [
        {
          "output_type": "display_data",
          "metadata": {
            "application/vnd.databricks.v1+output": {
              "datasetInfos": [],
              "data": "<div>\n<style scoped>\n    .dataframe tbody tr th:only-of-type {\n        vertical-align: middle;\n    }\n\n    .dataframe tbody tr th {\n        vertical-align: top;\n    }\n\n    .dataframe thead th {\n        text-align: right;\n    }\n</style>\n<table border=\"1\" class=\"dataframe\">\n  <thead>\n    <tr style=\"text-align: right;\">\n      <th></th>\n      <th>C1</th>\n      <th>C2</th>\n      <th>C3</th>\n    </tr>\n  </thead>\n  <tbody>\n    <tr>\n      <th>0</th>\n      <td>-9.005</td>\n      <td>2.49</td>\n      <td>1.140</td>\n    </tr>\n    <tr>\n      <th>1</th>\n      <td>1.240</td>\n      <td>2.27</td>\n      <td>4.760</td>\n    </tr>\n    <tr>\n      <th>2</th>\n      <td>-0.840</td>\n      <td>0.25</td>\n      <td>7.715</td>\n    </tr>\n    <tr>\n      <th>3</th>\n      <td>6.715</td>\n      <td>-2.33</td>\n      <td>-2.650</td>\n    </tr>\n    <tr>\n      <th>4</th>\n      <td>0.820</td>\n      <td>-2.91</td>\n      <td>-3.530</td>\n    </tr>\n    <tr>\n      <th>5</th>\n      <td>-3.110</td>\n      <td>-3.61</td>\n      <td>-0.030</td>\n    </tr>\n    <tr>\n      <th>6</th>\n      <td>0.460</td>\n      <td>0.58</td>\n      <td>7.715</td>\n    </tr>\n    <tr>\n      <th>7</th>\n      <td>-9.005</td>\n      <td>-2.59</td>\n      <td>-0.210</td>\n    </tr>\n    <tr>\n      <th>8</th>\n      <td>0.040</td>\n      <td>-3.99</td>\n      <td>2.960</td>\n    </tr>\n    <tr>\n      <th>9</th>\n      <td>6.715</td>\n      <td>1.54</td>\n      <td>2.310</td>\n    </tr>\n  </tbody>\n</table>\n</div>",
              "textData": null,
              "removedWidgets": [],
              "addedWidgets": {},
              "metadata": {},
              "type": "htmlSandbox",
              "arguments": {}
            }
          },
          "data": {
            "text/html": [
              "<div>\n<style scoped>\n    .dataframe tbody tr th:only-of-type {\n        vertical-align: middle;\n    }\n\n    .dataframe tbody tr th {\n        vertical-align: top;\n    }\n\n    .dataframe thead th {\n        text-align: right;\n    }\n</style>\n<table border=\"1\" class=\"dataframe\">\n  <thead>\n    <tr style=\"text-align: right;\">\n      <th></th>\n      <th>C1</th>\n      <th>C2</th>\n      <th>C3</th>\n    </tr>\n  </thead>\n  <tbody>\n    <tr>\n      <th>0</th>\n      <td>-9.005</td>\n      <td>2.49</td>\n      <td>1.140</td>\n    </tr>\n    <tr>\n      <th>1</th>\n      <td>1.240</td>\n      <td>2.27</td>\n      <td>4.760</td>\n    </tr>\n    <tr>\n      <th>2</th>\n      <td>-0.840</td>\n      <td>0.25</td>\n      <td>7.715</td>\n    </tr>\n    <tr>\n      <th>3</th>\n      <td>6.715</td>\n      <td>-2.33</td>\n      <td>-2.650</td>\n    </tr>\n    <tr>\n      <th>4</th>\n      <td>0.820</td>\n      <td>-2.91</td>\n      <td>-3.530</td>\n    </tr>\n    <tr>\n      <th>5</th>\n      <td>-3.110</td>\n      <td>-3.61</td>\n      <td>-0.030</td>\n    </tr>\n    <tr>\n      <th>6</th>\n      <td>0.460</td>\n      <td>0.58</td>\n      <td>7.715</td>\n    </tr>\n    <tr>\n      <th>7</th>\n      <td>-9.005</td>\n      <td>-2.59</td>\n      <td>-0.210</td>\n    </tr>\n    <tr>\n      <th>8</th>\n      <td>0.040</td>\n      <td>-3.99</td>\n      <td>2.960</td>\n    </tr>\n    <tr>\n      <th>9</th>\n      <td>6.715</td>\n      <td>1.54</td>\n      <td>2.310</td>\n    </tr>\n  </tbody>\n</table>\n</div>"
            ]
          }
        }
      ],
      "execution_count": null
    },
    {
      "cell_type": "code",
      "source": [
        "df_train"
      ],
      "metadata": {
        "application/vnd.databricks.v1+cell": {
          "title": "",
          "showTitle": false,
          "inputWidgets": {},
          "nuid": "4ab90506-e621-4fbe-9e24-3f80cf31dea8"
        },
        "id": "WexDwtGgaHnE",
        "outputId": "724d2da1-b411-4357-882b-1946b3adc17f"
      },
      "outputs": [
        {
          "output_type": "display_data",
          "metadata": {
            "application/vnd.databricks.v1+output": {
              "datasetInfos": [],
              "data": "<div>\n<style scoped>\n    .dataframe tbody tr th:only-of-type {\n        vertical-align: middle;\n    }\n\n    .dataframe tbody tr th {\n        vertical-align: top;\n    }\n\n    .dataframe thead th {\n        text-align: right;\n    }\n</style>\n<table border=\"1\" class=\"dataframe\">\n  <thead>\n    <tr style=\"text-align: right;\">\n      <th></th>\n      <th>C1</th>\n      <th>C2</th>\n      <th>C3</th>\n    </tr>\n  </thead>\n  <tbody>\n    <tr>\n      <th>0</th>\n      <td>-21.57</td>\n      <td>2.49</td>\n      <td>1.14</td>\n    </tr>\n    <tr>\n      <th>1</th>\n      <td>1.24</td>\n      <td>2.27</td>\n      <td>4.76</td>\n    </tr>\n    <tr>\n      <th>2</th>\n      <td>-0.84</td>\n      <td>0.25</td>\n      <td>14.23</td>\n    </tr>\n    <tr>\n      <th>3</th>\n      <td>32.25</td>\n      <td>-2.33</td>\n      <td>-2.65</td>\n    </tr>\n    <tr>\n      <th>4</th>\n      <td>0.82</td>\n      <td>-2.91</td>\n      <td>-3.53</td>\n    </tr>\n    <tr>\n      <th>5</th>\n      <td>-3.11</td>\n      <td>-3.61</td>\n      <td>-0.03</td>\n    </tr>\n    <tr>\n      <th>6</th>\n      <td>0.46</td>\n      <td>0.58</td>\n      <td>17.50</td>\n    </tr>\n    <tr>\n      <th>7</th>\n      <td>-18.68</td>\n      <td>-2.59</td>\n      <td>-0.21</td>\n    </tr>\n    <tr>\n      <th>8</th>\n      <td>0.04</td>\n      <td>-3.99</td>\n      <td>2.96</td>\n    </tr>\n    <tr>\n      <th>9</th>\n      <td>30.87</td>\n      <td>1.54</td>\n      <td>2.31</td>\n    </tr>\n  </tbody>\n</table>\n</div>",
              "textData": null,
              "removedWidgets": [],
              "addedWidgets": {},
              "metadata": {},
              "type": "htmlSandbox",
              "arguments": {}
            }
          },
          "data": {
            "text/html": [
              "<div>\n<style scoped>\n    .dataframe tbody tr th:only-of-type {\n        vertical-align: middle;\n    }\n\n    .dataframe tbody tr th {\n        vertical-align: top;\n    }\n\n    .dataframe thead th {\n        text-align: right;\n    }\n</style>\n<table border=\"1\" class=\"dataframe\">\n  <thead>\n    <tr style=\"text-align: right;\">\n      <th></th>\n      <th>C1</th>\n      <th>C2</th>\n      <th>C3</th>\n    </tr>\n  </thead>\n  <tbody>\n    <tr>\n      <th>0</th>\n      <td>-21.57</td>\n      <td>2.49</td>\n      <td>1.14</td>\n    </tr>\n    <tr>\n      <th>1</th>\n      <td>1.24</td>\n      <td>2.27</td>\n      <td>4.76</td>\n    </tr>\n    <tr>\n      <th>2</th>\n      <td>-0.84</td>\n      <td>0.25</td>\n      <td>14.23</td>\n    </tr>\n    <tr>\n      <th>3</th>\n      <td>32.25</td>\n      <td>-2.33</td>\n      <td>-2.65</td>\n    </tr>\n    <tr>\n      <th>4</th>\n      <td>0.82</td>\n      <td>-2.91</td>\n      <td>-3.53</td>\n    </tr>\n    <tr>\n      <th>5</th>\n      <td>-3.11</td>\n      <td>-3.61</td>\n      <td>-0.03</td>\n    </tr>\n    <tr>\n      <th>6</th>\n      <td>0.46</td>\n      <td>0.58</td>\n      <td>17.50</td>\n    </tr>\n    <tr>\n      <th>7</th>\n      <td>-18.68</td>\n      <td>-2.59</td>\n      <td>-0.21</td>\n    </tr>\n    <tr>\n      <th>8</th>\n      <td>0.04</td>\n      <td>-3.99</td>\n      <td>2.96</td>\n    </tr>\n    <tr>\n      <th>9</th>\n      <td>30.87</td>\n      <td>1.54</td>\n      <td>2.31</td>\n    </tr>\n  </tbody>\n</table>\n</div>"
            ]
          }
        }
      ],
      "execution_count": null
    },
    {
      "cell_type": "markdown",
      "source": [
        "## 01.03. SKlearn Estimator"
      ],
      "metadata": {
        "application/vnd.databricks.v1+cell": {
          "title": "",
          "showTitle": false,
          "inputWidgets": {},
          "nuid": "b723a1df-d8d9-4230-b974-4deb51d58b6e"
        },
        "id": "w7nrBeBraHnF"
      }
    },
    {
      "cell_type": "code",
      "source": [
        "from sklearn.base import BaseEstimator, TransformerMixin"
      ],
      "metadata": {
        "application/vnd.databricks.v1+cell": {
          "title": "",
          "showTitle": false,
          "inputWidgets": {},
          "nuid": "84cf83da-23f7-43e6-b74f-da63a32d213f"
        },
        "id": "pi1RrnHWaHnF"
      },
      "outputs": [],
      "execution_count": null
    },
    {
      "cell_type": "code",
      "source": [
        "class SKlearnOutliersEstimator(BaseEstimator, TransformerMixin):\n",
        "\n",
        "  def __init__(self, input_columns=None):\n",
        "    self.input_columns = input_columns\n",
        "\n",
        "  def fit(self, X=None, y=None):\n",
        "    Q1 = X[self.input_columns].quantile(0.25, interpolation='lower')\n",
        "    Q3 = X[self.input_columns].quantile(0.75, interpolation='lower')\n",
        "    IQR = Q3-Q1\n",
        "    outliers_thresholds_down = Q1-1.5*IQR\n",
        "    outliers_thresholds_up = Q3+1.5*IQR\n",
        "  \n",
        "    self.dict_outliers_thresholds_ = {col:[outliers_thresholds_down[idx], outliers_thresholds_up[idx]] for idx, col in enumerate(self.input_columns)}\n",
        "    return self\n",
        "\n",
        "  def transform(self, X):\n",
        "    X_output = X.copy()\n",
        "    for col in dict_outliers_thresholds.keys():\n",
        "      X_output[col] = X[col].apply(lambda x: dict_outliers_thresholds[col][0] if x<dict_outliers_thresholds[col][0] else\n",
        "                                             dict_outliers_thresholds[col][1] if x>dict_outliers_thresholds[col][1] else\n",
        "                                             x)\n",
        "    return X_output"
      ],
      "metadata": {
        "application/vnd.databricks.v1+cell": {
          "title": "",
          "showTitle": false,
          "inputWidgets": {},
          "nuid": "351a33dc-34e5-45f0-863e-355c1c928e7c"
        },
        "id": "kAIxmjXjaHnF"
      },
      "outputs": [],
      "execution_count": null
    },
    {
      "cell_type": "code",
      "source": [
        "Object_SKlearnOutliersEstimator = SKlearnOutliersEstimator(input_columns=['C1', 'C3'])"
      ],
      "metadata": {
        "application/vnd.databricks.v1+cell": {
          "title": "",
          "showTitle": false,
          "inputWidgets": {},
          "nuid": "87fe5076-5409-49da-bddc-020d42c7a5e7"
        },
        "id": "vCjd0GFPaHnG"
      },
      "outputs": [],
      "execution_count": null
    },
    {
      "cell_type": "code",
      "source": [
        "Object_SKlearnOutliersEstimator.fit_transform(X=df_train)"
      ],
      "metadata": {
        "application/vnd.databricks.v1+cell": {
          "title": "",
          "showTitle": false,
          "inputWidgets": {},
          "nuid": "f7df76a7-aaea-4cea-aefb-d6f70ea88571"
        },
        "id": "hAlaXYJ1aHnG",
        "outputId": "926a43f8-ff56-4b0b-b15d-870f8c81c48d"
      },
      "outputs": [
        {
          "output_type": "display_data",
          "metadata": {
            "application/vnd.databricks.v1+output": {
              "datasetInfos": [],
              "data": "<div>\n<style scoped>\n    .dataframe tbody tr th:only-of-type {\n        vertical-align: middle;\n    }\n\n    .dataframe tbody tr th {\n        vertical-align: top;\n    }\n\n    .dataframe thead th {\n        text-align: right;\n    }\n</style>\n<table border=\"1\" class=\"dataframe\">\n  <thead>\n    <tr style=\"text-align: right;\">\n      <th></th>\n      <th>C1</th>\n      <th>C2</th>\n      <th>C3</th>\n    </tr>\n  </thead>\n  <tbody>\n    <tr>\n      <th>0</th>\n      <td>-9.005</td>\n      <td>2.49</td>\n      <td>1.140</td>\n    </tr>\n    <tr>\n      <th>1</th>\n      <td>1.240</td>\n      <td>2.27</td>\n      <td>4.760</td>\n    </tr>\n    <tr>\n      <th>2</th>\n      <td>-0.840</td>\n      <td>0.25</td>\n      <td>7.715</td>\n    </tr>\n    <tr>\n      <th>3</th>\n      <td>6.715</td>\n      <td>-2.33</td>\n      <td>-2.650</td>\n    </tr>\n    <tr>\n      <th>4</th>\n      <td>0.820</td>\n      <td>-2.91</td>\n      <td>-3.530</td>\n    </tr>\n    <tr>\n      <th>5</th>\n      <td>-3.110</td>\n      <td>-3.61</td>\n      <td>-0.030</td>\n    </tr>\n    <tr>\n      <th>6</th>\n      <td>0.460</td>\n      <td>0.58</td>\n      <td>7.715</td>\n    </tr>\n    <tr>\n      <th>7</th>\n      <td>-9.005</td>\n      <td>-2.59</td>\n      <td>-0.210</td>\n    </tr>\n    <tr>\n      <th>8</th>\n      <td>0.040</td>\n      <td>-3.99</td>\n      <td>2.960</td>\n    </tr>\n    <tr>\n      <th>9</th>\n      <td>6.715</td>\n      <td>1.54</td>\n      <td>2.310</td>\n    </tr>\n  </tbody>\n</table>\n</div>",
              "textData": null,
              "removedWidgets": [],
              "addedWidgets": {},
              "metadata": {},
              "type": "htmlSandbox",
              "arguments": {}
            }
          },
          "data": {
            "text/html": [
              "<div>\n<style scoped>\n    .dataframe tbody tr th:only-of-type {\n        vertical-align: middle;\n    }\n\n    .dataframe tbody tr th {\n        vertical-align: top;\n    }\n\n    .dataframe thead th {\n        text-align: right;\n    }\n</style>\n<table border=\"1\" class=\"dataframe\">\n  <thead>\n    <tr style=\"text-align: right;\">\n      <th></th>\n      <th>C1</th>\n      <th>C2</th>\n      <th>C3</th>\n    </tr>\n  </thead>\n  <tbody>\n    <tr>\n      <th>0</th>\n      <td>-9.005</td>\n      <td>2.49</td>\n      <td>1.140</td>\n    </tr>\n    <tr>\n      <th>1</th>\n      <td>1.240</td>\n      <td>2.27</td>\n      <td>4.760</td>\n    </tr>\n    <tr>\n      <th>2</th>\n      <td>-0.840</td>\n      <td>0.25</td>\n      <td>7.715</td>\n    </tr>\n    <tr>\n      <th>3</th>\n      <td>6.715</td>\n      <td>-2.33</td>\n      <td>-2.650</td>\n    </tr>\n    <tr>\n      <th>4</th>\n      <td>0.820</td>\n      <td>-2.91</td>\n      <td>-3.530</td>\n    </tr>\n    <tr>\n      <th>5</th>\n      <td>-3.110</td>\n      <td>-3.61</td>\n      <td>-0.030</td>\n    </tr>\n    <tr>\n      <th>6</th>\n      <td>0.460</td>\n      <td>0.58</td>\n      <td>7.715</td>\n    </tr>\n    <tr>\n      <th>7</th>\n      <td>-9.005</td>\n      <td>-2.59</td>\n      <td>-0.210</td>\n    </tr>\n    <tr>\n      <th>8</th>\n      <td>0.040</td>\n      <td>-3.99</td>\n      <td>2.960</td>\n    </tr>\n    <tr>\n      <th>9</th>\n      <td>6.715</td>\n      <td>1.54</td>\n      <td>2.310</td>\n    </tr>\n  </tbody>\n</table>\n</div>"
            ]
          }
        }
      ],
      "execution_count": null
    },
    {
      "cell_type": "code",
      "source": [
        "Object_SKlearnOutliersEstimator.dict_outliers_thresholds_"
      ],
      "metadata": {
        "application/vnd.databricks.v1+cell": {
          "title": "",
          "showTitle": false,
          "inputWidgets": {},
          "nuid": "59dc76b8-bdf9-4513-b72d-5103291016e9"
        },
        "id": "6kWn9NisaHnH",
        "outputId": "85195aec-d601-4133-bd72-7233c058bca7"
      },
      "outputs": [
        {
          "output_type": "display_data",
          "metadata": {
            "application/vnd.databricks.v1+output": {
              "datasetInfos": [],
              "data": "Out[47]: {'C1': [-9.004999999999999, 6.715], 'C3': [-4.965, 7.715]}",
              "removedWidgets": [],
              "addedWidgets": {},
              "metadata": {},
              "type": "ansi",
              "arguments": {}
            }
          },
          "data": {
            "text/plain": [
              "Out[47]: {'C1': [-9.004999999999999, 6.715], 'C3': [-4.965, 7.715]}"
            ]
          }
        }
      ],
      "execution_count": null
    },
    {
      "cell_type": "code",
      "source": [
        "df_train"
      ],
      "metadata": {
        "application/vnd.databricks.v1+cell": {
          "title": "",
          "showTitle": false,
          "inputWidgets": {},
          "nuid": "9fb322c9-5031-4273-bbe2-4855be2aeb16"
        },
        "id": "ksV8Rt22aHnH",
        "outputId": "9089deef-b240-4f62-b541-b055caca1ad1"
      },
      "outputs": [
        {
          "output_type": "display_data",
          "metadata": {
            "application/vnd.databricks.v1+output": {
              "datasetInfos": [],
              "data": "<div>\n<style scoped>\n    .dataframe tbody tr th:only-of-type {\n        vertical-align: middle;\n    }\n\n    .dataframe tbody tr th {\n        vertical-align: top;\n    }\n\n    .dataframe thead th {\n        text-align: right;\n    }\n</style>\n<table border=\"1\" class=\"dataframe\">\n  <thead>\n    <tr style=\"text-align: right;\">\n      <th></th>\n      <th>C1</th>\n      <th>C2</th>\n      <th>C3</th>\n    </tr>\n  </thead>\n  <tbody>\n    <tr>\n      <th>0</th>\n      <td>-21.57</td>\n      <td>2.49</td>\n      <td>1.14</td>\n    </tr>\n    <tr>\n      <th>1</th>\n      <td>1.24</td>\n      <td>2.27</td>\n      <td>4.76</td>\n    </tr>\n    <tr>\n      <th>2</th>\n      <td>-0.84</td>\n      <td>0.25</td>\n      <td>14.23</td>\n    </tr>\n    <tr>\n      <th>3</th>\n      <td>32.25</td>\n      <td>-2.33</td>\n      <td>-2.65</td>\n    </tr>\n    <tr>\n      <th>4</th>\n      <td>0.82</td>\n      <td>-2.91</td>\n      <td>-3.53</td>\n    </tr>\n    <tr>\n      <th>5</th>\n      <td>-3.11</td>\n      <td>-3.61</td>\n      <td>-0.03</td>\n    </tr>\n    <tr>\n      <th>6</th>\n      <td>0.46</td>\n      <td>0.58</td>\n      <td>17.50</td>\n    </tr>\n    <tr>\n      <th>7</th>\n      <td>-18.68</td>\n      <td>-2.59</td>\n      <td>-0.21</td>\n    </tr>\n    <tr>\n      <th>8</th>\n      <td>0.04</td>\n      <td>-3.99</td>\n      <td>2.96</td>\n    </tr>\n    <tr>\n      <th>9</th>\n      <td>30.87</td>\n      <td>1.54</td>\n      <td>2.31</td>\n    </tr>\n  </tbody>\n</table>\n</div>",
              "textData": null,
              "removedWidgets": [],
              "addedWidgets": {},
              "metadata": {},
              "type": "htmlSandbox",
              "arguments": {}
            }
          },
          "data": {
            "text/html": [
              "<div>\n<style scoped>\n    .dataframe tbody tr th:only-of-type {\n        vertical-align: middle;\n    }\n\n    .dataframe tbody tr th {\n        vertical-align: top;\n    }\n\n    .dataframe thead th {\n        text-align: right;\n    }\n</style>\n<table border=\"1\" class=\"dataframe\">\n  <thead>\n    <tr style=\"text-align: right;\">\n      <th></th>\n      <th>C1</th>\n      <th>C2</th>\n      <th>C3</th>\n    </tr>\n  </thead>\n  <tbody>\n    <tr>\n      <th>0</th>\n      <td>-21.57</td>\n      <td>2.49</td>\n      <td>1.14</td>\n    </tr>\n    <tr>\n      <th>1</th>\n      <td>1.24</td>\n      <td>2.27</td>\n      <td>4.76</td>\n    </tr>\n    <tr>\n      <th>2</th>\n      <td>-0.84</td>\n      <td>0.25</td>\n      <td>14.23</td>\n    </tr>\n    <tr>\n      <th>3</th>\n      <td>32.25</td>\n      <td>-2.33</td>\n      <td>-2.65</td>\n    </tr>\n    <tr>\n      <th>4</th>\n      <td>0.82</td>\n      <td>-2.91</td>\n      <td>-3.53</td>\n    </tr>\n    <tr>\n      <th>5</th>\n      <td>-3.11</td>\n      <td>-3.61</td>\n      <td>-0.03</td>\n    </tr>\n    <tr>\n      <th>6</th>\n      <td>0.46</td>\n      <td>0.58</td>\n      <td>17.50</td>\n    </tr>\n    <tr>\n      <th>7</th>\n      <td>-18.68</td>\n      <td>-2.59</td>\n      <td>-0.21</td>\n    </tr>\n    <tr>\n      <th>8</th>\n      <td>0.04</td>\n      <td>-3.99</td>\n      <td>2.96</td>\n    </tr>\n    <tr>\n      <th>9</th>\n      <td>30.87</td>\n      <td>1.54</td>\n      <td>2.31</td>\n    </tr>\n  </tbody>\n</table>\n</div>"
            ]
          }
        }
      ],
      "execution_count": null
    },
    {
      "cell_type": "markdown",
      "source": [
        "## 01.04. Test estimator with other dataframe"
      ],
      "metadata": {
        "application/vnd.databricks.v1+cell": {
          "title": "",
          "showTitle": false,
          "inputWidgets": {},
          "nuid": "ac9460a1-7667-412f-92ec-1eb454390129"
        },
        "id": "E3e5y6uyaHnH"
      }
    },
    {
      "cell_type": "code",
      "source": [
        "C1_lst = [-20, -10, -5, 0, 5, 10, 20]\n",
        "C2_lst = [-8, -4, -2, 0, 2, 4, 8]\n",
        "C3_lst = [-8, -4, -2, 0, 2, 4, 8]\n",
        "\n",
        "df_test = pd.DataFrame(list(zip(C1_lst, C2_lst, C3_lst )), columns =['C1', 'C2', 'C3'])\n",
        "df_test"
      ],
      "metadata": {
        "application/vnd.databricks.v1+cell": {
          "title": "",
          "showTitle": false,
          "inputWidgets": {},
          "nuid": "fd9d6e0b-c71a-4bf8-9181-c075dedf9d5c"
        },
        "id": "l6eKYUoaaHnI",
        "outputId": "63a46fec-9852-4e43-b80b-5750e5214631"
      },
      "outputs": [
        {
          "output_type": "display_data",
          "metadata": {
            "application/vnd.databricks.v1+output": {
              "datasetInfos": [],
              "data": "<div>\n<style scoped>\n    .dataframe tbody tr th:only-of-type {\n        vertical-align: middle;\n    }\n\n    .dataframe tbody tr th {\n        vertical-align: top;\n    }\n\n    .dataframe thead th {\n        text-align: right;\n    }\n</style>\n<table border=\"1\" class=\"dataframe\">\n  <thead>\n    <tr style=\"text-align: right;\">\n      <th></th>\n      <th>C1</th>\n      <th>C2</th>\n      <th>C3</th>\n    </tr>\n  </thead>\n  <tbody>\n    <tr>\n      <th>0</th>\n      <td>-20</td>\n      <td>-8</td>\n      <td>-8</td>\n    </tr>\n    <tr>\n      <th>1</th>\n      <td>-10</td>\n      <td>-4</td>\n      <td>-4</td>\n    </tr>\n    <tr>\n      <th>2</th>\n      <td>-5</td>\n      <td>-2</td>\n      <td>-2</td>\n    </tr>\n    <tr>\n      <th>3</th>\n      <td>0</td>\n      <td>0</td>\n      <td>0</td>\n    </tr>\n    <tr>\n      <th>4</th>\n      <td>5</td>\n      <td>2</td>\n      <td>2</td>\n    </tr>\n    <tr>\n      <th>5</th>\n      <td>10</td>\n      <td>4</td>\n      <td>4</td>\n    </tr>\n    <tr>\n      <th>6</th>\n      <td>20</td>\n      <td>8</td>\n      <td>8</td>\n    </tr>\n  </tbody>\n</table>\n</div>",
              "textData": null,
              "removedWidgets": [],
              "addedWidgets": {},
              "metadata": {},
              "type": "htmlSandbox",
              "arguments": {}
            }
          },
          "data": {
            "text/html": [
              "<div>\n<style scoped>\n    .dataframe tbody tr th:only-of-type {\n        vertical-align: middle;\n    }\n\n    .dataframe tbody tr th {\n        vertical-align: top;\n    }\n\n    .dataframe thead th {\n        text-align: right;\n    }\n</style>\n<table border=\"1\" class=\"dataframe\">\n  <thead>\n    <tr style=\"text-align: right;\">\n      <th></th>\n      <th>C1</th>\n      <th>C2</th>\n      <th>C3</th>\n    </tr>\n  </thead>\n  <tbody>\n    <tr>\n      <th>0</th>\n      <td>-20</td>\n      <td>-8</td>\n      <td>-8</td>\n    </tr>\n    <tr>\n      <th>1</th>\n      <td>-10</td>\n      <td>-4</td>\n      <td>-4</td>\n    </tr>\n    <tr>\n      <th>2</th>\n      <td>-5</td>\n      <td>-2</td>\n      <td>-2</td>\n    </tr>\n    <tr>\n      <th>3</th>\n      <td>0</td>\n      <td>0</td>\n      <td>0</td>\n    </tr>\n    <tr>\n      <th>4</th>\n      <td>5</td>\n      <td>2</td>\n      <td>2</td>\n    </tr>\n    <tr>\n      <th>5</th>\n      <td>10</td>\n      <td>4</td>\n      <td>4</td>\n    </tr>\n    <tr>\n      <th>6</th>\n      <td>20</td>\n      <td>8</td>\n      <td>8</td>\n    </tr>\n  </tbody>\n</table>\n</div>"
            ]
          }
        }
      ],
      "execution_count": null
    },
    {
      "cell_type": "code",
      "source": [
        "Object_SKlearnOutliersEstimator.dict_outliers_thresholds_"
      ],
      "metadata": {
        "application/vnd.databricks.v1+cell": {
          "title": "",
          "showTitle": false,
          "inputWidgets": {},
          "nuid": "e5c0d37c-4456-4835-bfbb-06323773385b"
        },
        "id": "JvnTRGAAaHnI",
        "outputId": "b0b45c67-b1d3-4dc1-88cc-520eb808eb90"
      },
      "outputs": [
        {
          "output_type": "display_data",
          "metadata": {
            "application/vnd.databricks.v1+output": {
              "datasetInfos": [],
              "data": "Out[52]: {'C1': [-9.004999999999999, 6.715], 'C3': [-4.965, 7.715]}",
              "removedWidgets": [],
              "addedWidgets": {},
              "metadata": {},
              "type": "ansi",
              "arguments": {}
            }
          },
          "data": {
            "text/plain": [
              "Out[52]: {'C1': [-9.004999999999999, 6.715], 'C3': [-4.965, 7.715]}"
            ]
          }
        }
      ],
      "execution_count": null
    },
    {
      "cell_type": "code",
      "source": [
        "Object_SKlearnOutliersEstimator.transform(df_test)"
      ],
      "metadata": {
        "application/vnd.databricks.v1+cell": {
          "title": "",
          "showTitle": false,
          "inputWidgets": {},
          "nuid": "8c80a563-70bb-4e54-aa62-a7967bc05cf9"
        },
        "id": "cIHcrOziaHnJ",
        "outputId": "5823280b-c98f-40c6-d252-c4b30ee4ca21"
      },
      "outputs": [
        {
          "output_type": "display_data",
          "metadata": {
            "application/vnd.databricks.v1+output": {
              "datasetInfos": [],
              "data": "<div>\n<style scoped>\n    .dataframe tbody tr th:only-of-type {\n        vertical-align: middle;\n    }\n\n    .dataframe tbody tr th {\n        vertical-align: top;\n    }\n\n    .dataframe thead th {\n        text-align: right;\n    }\n</style>\n<table border=\"1\" class=\"dataframe\">\n  <thead>\n    <tr style=\"text-align: right;\">\n      <th></th>\n      <th>C1</th>\n      <th>C2</th>\n      <th>C3</th>\n    </tr>\n  </thead>\n  <tbody>\n    <tr>\n      <th>0</th>\n      <td>-9.005</td>\n      <td>-8</td>\n      <td>-4.965</td>\n    </tr>\n    <tr>\n      <th>1</th>\n      <td>-9.005</td>\n      <td>-4</td>\n      <td>-4.000</td>\n    </tr>\n    <tr>\n      <th>2</th>\n      <td>-5.000</td>\n      <td>-2</td>\n      <td>-2.000</td>\n    </tr>\n    <tr>\n      <th>3</th>\n      <td>0.000</td>\n      <td>0</td>\n      <td>0.000</td>\n    </tr>\n    <tr>\n      <th>4</th>\n      <td>5.000</td>\n      <td>2</td>\n      <td>2.000</td>\n    </tr>\n    <tr>\n      <th>5</th>\n      <td>6.715</td>\n      <td>4</td>\n      <td>4.000</td>\n    </tr>\n    <tr>\n      <th>6</th>\n      <td>6.715</td>\n      <td>8</td>\n      <td>7.715</td>\n    </tr>\n  </tbody>\n</table>\n</div>",
              "textData": null,
              "removedWidgets": [],
              "addedWidgets": {},
              "metadata": {},
              "type": "htmlSandbox",
              "arguments": {}
            }
          },
          "data": {
            "text/html": [
              "<div>\n<style scoped>\n    .dataframe tbody tr th:only-of-type {\n        vertical-align: middle;\n    }\n\n    .dataframe tbody tr th {\n        vertical-align: top;\n    }\n\n    .dataframe thead th {\n        text-align: right;\n    }\n</style>\n<table border=\"1\" class=\"dataframe\">\n  <thead>\n    <tr style=\"text-align: right;\">\n      <th></th>\n      <th>C1</th>\n      <th>C2</th>\n      <th>C3</th>\n    </tr>\n  </thead>\n  <tbody>\n    <tr>\n      <th>0</th>\n      <td>-9.005</td>\n      <td>-8</td>\n      <td>-4.965</td>\n    </tr>\n    <tr>\n      <th>1</th>\n      <td>-9.005</td>\n      <td>-4</td>\n      <td>-4.000</td>\n    </tr>\n    <tr>\n      <th>2</th>\n      <td>-5.000</td>\n      <td>-2</td>\n      <td>-2.000</td>\n    </tr>\n    <tr>\n      <th>3</th>\n      <td>0.000</td>\n      <td>0</td>\n      <td>0.000</td>\n    </tr>\n    <tr>\n      <th>4</th>\n      <td>5.000</td>\n      <td>2</td>\n      <td>2.000</td>\n    </tr>\n    <tr>\n      <th>5</th>\n      <td>6.715</td>\n      <td>4</td>\n      <td>4.000</td>\n    </tr>\n    <tr>\n      <th>6</th>\n      <td>6.715</td>\n      <td>8</td>\n      <td>7.715</td>\n    </tr>\n  </tbody>\n</table>\n</div>"
            ]
          }
        }
      ],
      "execution_count": null
    },
    {
      "cell_type": "markdown",
      "source": [
        "# 02. Pyspark (--------Aqui)"
      ],
      "metadata": {
        "application/vnd.databricks.v1+cell": {
          "title": "",
          "showTitle": false,
          "inputWidgets": {},
          "nuid": "f1a273f6-f4ec-4497-9780-a323d909d86f"
        },
        "id": "B7YexwGvaHnJ"
      }
    },
    {
      "cell_type": "markdown",
      "source": [
        "## 02.01. Dataset base"
      ],
      "metadata": {
        "application/vnd.databricks.v1+cell": {
          "title": "",
          "showTitle": false,
          "inputWidgets": {},
          "nuid": "4c0e958f-9b79-44dd-86cd-461408a48f5a"
        },
        "id": "_zIg_lsSaHnJ"
      }
    },
    {
      "cell_type": "code",
      "source": [
        "dfs = spark.createDataFrame(df)\n",
        "dfs.show()"
      ],
      "metadata": {
        "application/vnd.databricks.v1+cell": {
          "title": "",
          "showTitle": false,
          "inputWidgets": {},
          "nuid": "61b25021-08eb-4425-a726-8f088c98cf2b"
        },
        "id": "of5Wt5s3aHnK"
      },
      "outputs": [],
      "execution_count": null
    },
    {
      "cell_type": "code",
      "source": [
        "dfs.printSchema()"
      ],
      "metadata": {
        "application/vnd.databricks.v1+cell": {
          "title": "",
          "showTitle": false,
          "inputWidgets": {},
          "nuid": "446a174e-7a5c-41c8-8b04-61bd9542ea3f"
        },
        "id": "z_XK0_-vaHnK"
      },
      "outputs": [],
      "execution_count": null
    },
    {
      "cell_type": "markdown",
      "source": [
        "## 02.02. Function to convert in Spark.ml Estimator"
      ],
      "metadata": {
        "application/vnd.databricks.v1+cell": {
          "title": "",
          "showTitle": false,
          "inputWidgets": {},
          "nuid": "ecef88eb-55d6-46dc-9b37-8e2bd8f37ab1"
        },
        "id": "orffTYQFaHnK"
      }
    },
    {
      "cell_type": "code",
      "source": [
        "dfs.printSchema()"
      ],
      "metadata": {
        "application/vnd.databricks.v1+cell": {
          "title": "",
          "showTitle": false,
          "inputWidgets": {},
          "nuid": "02c44375-eefd-4cbb-95db-872bc820ca70"
        },
        "id": "i3LkN6qCaHnK"
      },
      "outputs": [],
      "execution_count": null
    },
    {
      "cell_type": "markdown",
      "source": [
        "## 02.03. Spark.ml Estimator"
      ],
      "metadata": {
        "application/vnd.databricks.v1+cell": {
          "title": "",
          "showTitle": false,
          "inputWidgets": {},
          "nuid": "2e6f17af-f68f-45a9-884f-518cb9cd247a"
        },
        "id": "E3GjvWf9aHnL"
      }
    },
    {
      "cell_type": "code",
      "source": [
        "dfs.show()"
      ],
      "metadata": {
        "application/vnd.databricks.v1+cell": {
          "title": "",
          "showTitle": false,
          "inputWidgets": {},
          "nuid": "86b5ebff-054e-4823-977f-86f5bc8bdba0"
        },
        "id": "n2tHnXSLaHnL"
      },
      "outputs": [],
      "execution_count": null
    },
    {
      "cell_type": "code",
      "source": [],
      "metadata": {
        "application/vnd.databricks.v1+cell": {
          "title": "",
          "showTitle": false,
          "inputWidgets": {},
          "nuid": "847b4e2b-dee4-40b5-aab2-85d1a960e338"
        },
        "id": "Z6fU1QSkaHnL"
      },
      "outputs": [],
      "execution_count": null
    },
    {
      "cell_type": "code",
      "source": [
        "from pyspark.ml.param.shared import HasInputCol, HasOutputCol, HasInputCols, HasOutputCols, Param, Params, TypeConverters\n",
        "from pyspark import keyword_only\n",
        "import pyspark.sql.functions as F"
      ],
      "metadata": {
        "application/vnd.databricks.v1+cell": {
          "title": "",
          "showTitle": false,
          "inputWidgets": {},
          "nuid": "f7c7c461-9177-4f8c-912c-cb15c4aa96a9"
        },
        "id": "Wipjcw8BaHnL"
      },
      "outputs": [],
      "execution_count": null
    },
    {
      "cell_type": "code",
      "source": [
        "class _PySparkOutliersEstimatorParams(HasInputCols):\n",
        "  \n",
        "  def __init__(self, *args):\n",
        "    super().__init__(*args)"
      ],
      "metadata": {
        "application/vnd.databricks.v1+cell": {
          "title": "",
          "showTitle": false,
          "inputWidgets": {},
          "nuid": "cb7aaf04-8fde-4fd9-be66-7ac54972c358"
        },
        "id": "z7_rSWAcaHnM"
      },
      "outputs": [],
      "execution_count": null
    },
    {
      "cell_type": "code",
      "source": [
        "from pyspark.sql.functions import when"
      ],
      "metadata": {
        "application/vnd.databricks.v1+cell": {
          "title": "",
          "showTitle": false,
          "inputWidgets": {},
          "nuid": "2ee2d794-a977-408b-81e5-8ba7c1ca3ac3"
        },
        "id": "Ek8RcvNXaHnM"
      },
      "outputs": [],
      "execution_count": null
    },
    {
      "cell_type": "code",
      "source": [
        "from pyspark.ml import Model\n",
        "\n",
        "class PySparkOutliersEstimatorModel(Model, _PySparkOutliersEstimatorParams):\n",
        "  \n",
        "  # He incluido el parametro _boundary de manera complementaria para traerlo de ExtremeValueCapper\n",
        "  outlier_thresholds_down_ = Param(Params._dummy(), \"outlier_thresholds_down_\", \"comment_down.\" \"Comment_down\")\n",
        "  outlier_thresholds_up_ = Param(Params._dummy(), \"outlier_thresholds_up_\", \"comment_up.\" \"Comment_up\")\n",
        "  \n",
        "  @keyword_only\n",
        "  def __init__(self, inputCols=None, outlier_thresholds_down_=None, outlier_thresholds_up_=None):\n",
        "    super().__init__()\n",
        "    kwargs = self._input_kwargs\n",
        "    self.setParams(**kwargs)\n",
        "    \n",
        "  @keyword_only\n",
        "  def setParams(self, inputCols=None, outlier_thresholds_down_=None, outlier_thresholds_up_=None):\n",
        "      kwargs = self._input_kwargs\n",
        "      return self._set(**kwargs)\n",
        "    \n",
        "  def _transform(self, dataset):\n",
        "    input_columns = (self.getInputCols() if self.isSet(\"inputCols\") else self.getInputCols())\n",
        "    outlier_thresholds_down = self.getOrDefault(\"outlier_thresholds_down_\")\n",
        "    outlier_thresholds_up = self.getOrDefault(\"outlier_thresholds_up_\")\n",
        "    \n",
        "    X_output = dataset\n",
        "    \n",
        "    for idx, col in enumerate(input_columns):\n",
        "      list_from_col = X_output.select(col).rdd.flatMap(lambda x: x).collect()\n",
        "      lst_not_outliers = [i for i in list_from_col if i>=outlier_thresholds_down[idx] \n",
        "                                              and i<=outlier_thresholds_up[idx]]\n",
        "      min_not_outlier = min(lst_not_outliers)\n",
        "      max_not_outlier = max(lst_not_outliers)\n",
        "      \n",
        "      X_output = X_output.withColumn(col, when(X_output[col] < min_not_outlier, min_not_outlier)\n",
        "                                         .when(X_output[col] > max_not_outlier, max_not_outlier)\n",
        "                                         .otherwise(X_output[col]))\n",
        "      \n",
        "    return X_output   "
      ],
      "metadata": {
        "application/vnd.databricks.v1+cell": {
          "title": "",
          "showTitle": false,
          "inputWidgets": {},
          "nuid": "f37ca6c7-525d-482c-96cd-f5918a7a3c3c"
        },
        "id": "sktimJgxaHnM"
      },
      "outputs": [],
      "execution_count": null
    },
    {
      "cell_type": "code",
      "source": [
        "from pyspark.ml import Estimator\n",
        "\n",
        "class PySparkOutliersEstimator(Estimator, _PySparkOutliersEstimatorParams):\n",
        "    \n",
        "  @keyword_only\n",
        "  def __init__(self, inputCols=None):\n",
        "    super().__init__()\n",
        "    kwargs = self._input_kwargs\n",
        "    self.setParams(**kwargs)\n",
        "    \n",
        "  @keyword_only\n",
        "  def setParams(self, inputCols=None):\n",
        "      kwargs = self._input_kwargs\n",
        "      return self._set(**kwargs)\n",
        "  def setInputCols(self, new_inputCols):\n",
        "    return self.setParams(inputCols=new_inputCols)\n",
        "    \n",
        "  def _fit(self, dataset):\n",
        "    input_columns = (self.getInputCols() if self.isSet(\"inputCols\") else self.getInputCols())\n",
        "    Q1 = [dataset.approxQuantile(i, [0.25], 0)[0] for i in input_columns]\n",
        "    Q3 = [dataset.approxQuantile(i, [0.75], 0)[0] for i in input_columns]\n",
        "    IQR = [q3_i - q1_i for q3_i, q1_i in zip(Q3,Q1)]\n",
        "    \n",
        "    outlier_thresholds_down = [q1_i - 1.5*iqr_i for q1_i, iqr_i in zip(Q1,IQR)]\n",
        "    outlier_thresholds_up = [q3_i + 1.5*iqr_i for q3_i, iqr_i in zip(Q3,IQR)]\n",
        "    \n",
        "#     return outlier_thresholds_down, outlier_thresholds_up\n",
        "\n",
        "    return PySparkOutliersEstimatorModel(inputCols=input_columns, outlier_thresholds_down_=outlier_thresholds_down, outlier_thresholds_up_=outlier_thresholds_up)"
      ],
      "metadata": {
        "application/vnd.databricks.v1+cell": {
          "title": "",
          "showTitle": false,
          "inputWidgets": {},
          "nuid": "aeaf0c9d-883b-4ae5-be2f-72e8cc7f6674"
        },
        "id": "F_k95cUIaHnN"
      },
      "outputs": [],
      "execution_count": null
    },
    {
      "cell_type": "code",
      "source": [
        "Object_PySparkOutliersEstimator = PySparkOutliersEstimator(inputCols=['C1','C3'])"
      ],
      "metadata": {
        "application/vnd.databricks.v1+cell": {
          "title": "",
          "showTitle": false,
          "inputWidgets": {},
          "nuid": "053fb08f-f334-4340-959b-bfead84e8f84"
        },
        "id": "ceAhTi_6aHnN"
      },
      "outputs": [],
      "execution_count": null
    },
    {
      "cell_type": "code",
      "source": [],
      "metadata": {
        "application/vnd.databricks.v1+cell": {
          "title": "",
          "showTitle": false,
          "inputWidgets": {},
          "nuid": "dab3e1f4-22b6-4632-91ed-6dbe73fb5557"
        },
        "id": "ypk5lZQkaHnO"
      },
      "outputs": [],
      "execution_count": null
    },
    {
      "cell_type": "code",
      "source": [
        "Object_PySparkOutliersEstimator.fit(dfs).transform(dfs).show()"
      ],
      "metadata": {
        "application/vnd.databricks.v1+cell": {
          "title": "",
          "showTitle": false,
          "inputWidgets": {},
          "nuid": "1353dcb4-73ff-4164-82cd-859f797d4451"
        },
        "id": "Gaw17ZcDaHnO"
      },
      "outputs": [],
      "execution_count": null
    },
    {
      "cell_type": "code",
      "source": [
        "dfs.show()"
      ],
      "metadata": {
        "application/vnd.databricks.v1+cell": {
          "title": "",
          "showTitle": false,
          "inputWidgets": {},
          "nuid": "9c69abac-adbb-4950-8a21-733457dd3c02"
        },
        "id": "DkUOYxL-aHnO"
      },
      "outputs": [],
      "execution_count": null
    },
    {
      "cell_type": "code",
      "source": [
        "# Evaluamos el tipo de objeto y los parametros previo al entrenamiento\n",
        "Object_PySparkOutliersEstimator_paramaters = set(dir(Object_PySparkOutliersEstimator))\n",
        "print(type(Object_PySparkOutliersEstimator))\n",
        "print(Object_PySparkOutliersEstimator_paramaters)\n",
        "print(Object_PySparkOutliersEstimator.getOrDefault('inputCols'))"
      ],
      "metadata": {
        "application/vnd.databricks.v1+cell": {
          "title": "",
          "showTitle": false,
          "inputWidgets": {},
          "nuid": "5e33bd6a-bd89-4059-b907-a11b9232e01b"
        },
        "id": "QsJZRlmOaHnO"
      },
      "outputs": [],
      "execution_count": null
    },
    {
      "cell_type": "code",
      "source": [
        "# Evaluamos el tipo de objeto y los parametros posterior al entrenamiento\n",
        "Object_PySparkOutliersEstimator_trained = Object_PySparkOutliersEstimator.fit(dfs)\n",
        "Object_PySparkOutliersEstimator_trained_paramaters = set(dir(Object_PySparkOutliersEstimator_trained))\n",
        "print(type(Object_PySparkOutliersEstimator_trained))\n",
        "print(Object_PySparkOutliersEstimator_trained_paramaters)\n",
        "# print(test_EVC_trained.getOrDefault('_boundary'))\n",
        "print(Object_PySparkOutliersEstimator_trained.getOrDefault('outlier_thresholds_down_'))\n",
        "print(Object_PySparkOutliersEstimator_trained.getOrDefault('outlier_thresholds_up_'))"
      ],
      "metadata": {
        "application/vnd.databricks.v1+cell": {
          "title": "",
          "showTitle": false,
          "inputWidgets": {},
          "nuid": "6903001d-ca1e-49bf-8def-ea75f2622096"
        },
        "id": "x7duJnrzaHnO"
      },
      "outputs": [],
      "execution_count": null
    },
    {
      "cell_type": "code",
      "source": [
        "Object_PySparkOutliersEstimator.fit(dfs).transform(dfs_02).show()"
      ],
      "metadata": {
        "application/vnd.databricks.v1+cell": {
          "title": "",
          "showTitle": false,
          "inputWidgets": {},
          "nuid": "c1cf29b5-8987-4c05-a726-2ead813c0482"
        },
        "id": "sZhW1Z3saHnP"
      },
      "outputs": [],
      "execution_count": null
    },
    {
      "cell_type": "code",
      "source": [],
      "metadata": {
        "application/vnd.databricks.v1+cell": {
          "title": "",
          "showTitle": false,
          "inputWidgets": {},
          "nuid": "91e2fa50-5412-404a-8af0-dda1e4c98141"
        },
        "id": "DBnkKE5ZaHnP"
      },
      "outputs": [],
      "execution_count": null
    },
    {
      "cell_type": "code",
      "source": [
        "C1_lst = [-10, -12, -0.84, 32.25, 0.82, -3.11, 0.46, -18.68, 10, 12]\n",
        "C2_lst = [2.49, 2.27, 0.25, -2.33, -2.91, -3.61, 0.58, -2.59, -3.99, 1.54]\n",
        "C3_lst = [1.14, 4.76, 14.23, -2.65, -3.53, -0.03, 17.50, -0.21, 2.96, 2.31]\n",
        "\n",
        "\n",
        "df_02 = pd.DataFrame(list(zip(C1_lst, C2_lst, C3_lst )), columns =['C1', 'C2', 'C3'])\n",
        "df_02"
      ],
      "metadata": {
        "application/vnd.databricks.v1+cell": {
          "title": "",
          "showTitle": false,
          "inputWidgets": {},
          "nuid": "049e0818-0afd-4464-b119-a096d36d1f87"
        },
        "id": "eo0DQUjKaHnP"
      },
      "outputs": [],
      "execution_count": null
    },
    {
      "cell_type": "code",
      "source": [
        "dfs_02 = spark.createDataFrame(df_02)\n",
        "dfs_02.show()"
      ],
      "metadata": {
        "application/vnd.databricks.v1+cell": {
          "title": "",
          "showTitle": false,
          "inputWidgets": {},
          "nuid": "012fa390-3c80-478c-8faa-bd17e780eb19"
        },
        "id": "gmuu8ArZaHnP"
      },
      "outputs": [],
      "execution_count": null
    },
    {
      "cell_type": "code",
      "source": [],
      "metadata": {
        "application/vnd.databricks.v1+cell": {
          "title": "",
          "showTitle": false,
          "inputWidgets": {},
          "nuid": "a63cb643-4819-44a8-8deb-696912c6c5a4"
        },
        "id": "m9Nlauf1aHnP"
      },
      "outputs": [],
      "execution_count": null
    },
    {
      "cell_type": "code",
      "source": [],
      "metadata": {
        "application/vnd.databricks.v1+cell": {
          "title": "",
          "showTitle": false,
          "inputWidgets": {},
          "nuid": "95da3ce7-23b9-4fb5-a633-48158fe4f9ab"
        },
        "id": "Uak6JbcbaHnQ"
      },
      "outputs": [],
      "execution_count": null
    },
    {
      "cell_type": "code",
      "source": [],
      "metadata": {
        "application/vnd.databricks.v1+cell": {
          "title": "",
          "showTitle": false,
          "inputWidgets": {},
          "nuid": "3ca58c44-1fd4-4905-a675-044316fb6b0c"
        },
        "id": "U62k_vI3aHnQ"
      },
      "outputs": [],
      "execution_count": null
    },
    {
      "cell_type": "code",
      "source": [],
      "metadata": {
        "application/vnd.databricks.v1+cell": {
          "title": "",
          "showTitle": false,
          "inputWidgets": {},
          "nuid": "8f262b97-2a4e-4b66-a99b-c3247d15c743"
        },
        "id": "ybFHM9WpaHnQ"
      },
      "outputs": [],
      "execution_count": null
    },
    {
      "cell_type": "code",
      "source": [],
      "metadata": {
        "application/vnd.databricks.v1+cell": {
          "title": "",
          "showTitle": false,
          "inputWidgets": {},
          "nuid": "22294e91-30bc-40da-9b83-9360c1263747"
        },
        "id": "ze_rfROlaHnQ"
      },
      "outputs": [],
      "execution_count": null
    },
    {
      "cell_type": "code",
      "source": [],
      "metadata": {
        "application/vnd.databricks.v1+cell": {
          "title": "",
          "showTitle": false,
          "inputWidgets": {},
          "nuid": "10f640a0-1ed8-4b8d-b423-a646c101f0e4"
        },
        "id": "OK7X1hWnaHnQ"
      },
      "outputs": [],
      "execution_count": null
    },
    {
      "cell_type": "code",
      "source": [],
      "metadata": {
        "application/vnd.databricks.v1+cell": {
          "title": "",
          "showTitle": false,
          "inputWidgets": {},
          "nuid": "8a134302-4632-4bf3-824d-00523291de08"
        },
        "id": "EMh5jrobaHnQ"
      },
      "outputs": [],
      "execution_count": null
    },
    {
      "cell_type": "code",
      "source": [],
      "metadata": {
        "application/vnd.databricks.v1+cell": {
          "title": "",
          "showTitle": false,
          "inputWidgets": {},
          "nuid": "eb99722d-cff9-4e38-8f21-4480d190e4aa"
        },
        "id": "ZJ3xU0yUaHnQ"
      },
      "outputs": [],
      "execution_count": null
    }
  ],
  "metadata": {
    "application/vnd.databricks.v1+notebook": {
      "notebookName": "Estimators_Sklearn_and_SparkML",
      "dashboards": [],
      "notebookMetadata": {
        "pythonIndentUnit": 2
      },
      "language": "python",
      "widgets": {},
      "notebookOrigID": 4454377275785310
    },
    "colab": {
      "name": "Estimators_Sklearn_and_SparkML.ipynb",
      "provenance": [],
      "include_colab_link": true
    }
  },
  "nbformat": 4,
  "nbformat_minor": 0
}