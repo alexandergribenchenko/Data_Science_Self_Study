{
  "nbformat": 4,
  "nbformat_minor": 0,
  "metadata": {
    "colab": {
      "provenance": [],
      "authorship_tag": "ABX9TyNDDVcOSmCXesMHzTNh8Pn4",
      "include_colab_link": true
    },
    "kernelspec": {
      "name": "python3",
      "display_name": "Python 3"
    },
    "language_info": {
      "name": "python"
    }
  },
  "cells": [
    {
      "cell_type": "markdown",
      "metadata": {
        "id": "view-in-github",
        "colab_type": "text"
      },
      "source": [
        "<a href=\"https://colab.research.google.com/github/alexandergribenchenko/Data_Science_Toolkit/blob/main/Python/DS_PY_EX_02_Lectura_directorios.ipynb\" target=\"_parent\"><img src=\"https://colab.research.google.com/assets/colab-badge.svg\" alt=\"Open In Colab\"/></a>"
      ]
    },
    {
      "cell_type": "markdown",
      "source": [
        "# 01. Lectura directorios atrás"
      ],
      "metadata": {
        "id": "IEAxY35oaFAs"
      }
    },
    {
      "cell_type": "code",
      "source": [
        "df = pd.read_csv('../../data/BPT_POC_Data.csv')\n",
        "df"
      ],
      "metadata": {
        "id": "xVzSASE1Y1dl"
      },
      "execution_count": null,
      "outputs": []
    },
    {
      "cell_type": "markdown",
      "source": [
        "# 02. Lectura explicita: r' (means the string will be treated as raw string)\n",
        "\n"
      ],
      "metadata": {
        "id": "3jTnzZslaFi7"
      }
    },
    {
      "cell_type": "code",
      "execution_count": 1,
      "metadata": {
        "colab": {
          "base_uri": "https://localhost:8080/",
          "height": 36
        },
        "id": "G7sQVt-_X6dM",
        "outputId": "6a7f15e1-da3f-46a4-aab3-8cdcf59cfb28"
      },
      "outputs": [
        {
          "output_type": "execute_result",
          "data": {
            "text/plain": [
              "'path\\to\\the\\thing'"
            ],
            "application/vnd.google.colaboratory.intrinsic+json": {
              "type": "string"
            }
          },
          "metadata": {},
          "execution_count": 1
        }
      ],
      "source": [
        "'path\\to\\the\\thing'"
      ]
    },
    {
      "cell_type": "code",
      "source": [
        "print('path\\to\\the\\thing')"
      ],
      "metadata": {
        "colab": {
          "base_uri": "https://localhost:8080/"
        },
        "id": "rvmY_8IDZrXG",
        "outputId": "6fcc6c21-d5c4-4da9-8a11-a1957ffbfe38"
      },
      "execution_count": 2,
      "outputs": [
        {
          "output_type": "stream",
          "name": "stdout",
          "text": [
            "path\to\the\thing\n"
          ]
        }
      ]
    },
    {
      "cell_type": "code",
      "source": [
        "r'path\\to\\the\\thing'"
      ],
      "metadata": {
        "colab": {
          "base_uri": "https://localhost:8080/",
          "height": 36
        },
        "id": "jPlau-qhZrM7",
        "outputId": "c80207c3-cce4-47c4-8853-6db39eb00818"
      },
      "execution_count": 3,
      "outputs": [
        {
          "output_type": "execute_result",
          "data": {
            "text/plain": [
              "'path\\\\to\\\\the\\\\thing'"
            ],
            "application/vnd.google.colaboratory.intrinsic+json": {
              "type": "string"
            }
          },
          "metadata": {},
          "execution_count": 3
        }
      ]
    },
    {
      "cell_type": "code",
      "source": [
        "print(r'path\\to\\the\\thing')"
      ],
      "metadata": {
        "colab": {
          "base_uri": "https://localhost:8080/"
        },
        "id": "b3Go7jtYZ21C",
        "outputId": "08308ff2-e77b-408f-a06e-3431617b6358"
      },
      "execution_count": 4,
      "outputs": [
        {
          "output_type": "stream",
          "name": "stdout",
          "text": [
            "path\\to\\the\\thing\n"
          ]
        }
      ]
    }
  ]
}