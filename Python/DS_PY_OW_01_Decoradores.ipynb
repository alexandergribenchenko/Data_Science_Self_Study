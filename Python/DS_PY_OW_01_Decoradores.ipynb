{
  "nbformat": 4,
  "nbformat_minor": 0,
  "metadata": {
    "colab": {
      "name": "DS_PY_OW_01_Decoradores.ipynb",
      "provenance": [],
      "authorship_tag": "ABX9TyM86Qg09j6yu9W0+slmNF4x",
      "include_colab_link": true
    },
    "kernelspec": {
      "name": "python3",
      "display_name": "Python 3"
    },
    "language_info": {
      "name": "python"
    }
  },
  "cells": [
    {
      "cell_type": "markdown",
      "metadata": {
        "id": "view-in-github",
        "colab_type": "text"
      },
      "source": [
        "<a href=\"https://colab.research.google.com/github/alexandergribenchenko/Data_Science_Self_Study/blob/main/Python/DS_PY_OW_01_Decoradores.ipynb\" target=\"_parent\"><img src=\"https://colab.research.google.com/assets/colab-badge.svg\" alt=\"Open In Colab\"/></a>"
      ]
    },
    {
      "cell_type": "markdown",
      "source": [
        "# **Tomado de:**"
      ],
      "metadata": {
        "id": "hCVZBWA0f_2b"
      }
    },
    {
      "cell_type": "markdown",
      "source": [
        "- [Curso Python. Decoradores II. Vídeo 74 (youtube)](https://www.youtube.com/watch?v=_IwlE3Z7U04&list=PLU8oAlHdN5BlvPxziopYZRd55pdqFwkeS&index=74)"
      ],
      "metadata": {
        "id": "oJR-WMCmf_z8"
      }
    },
    {
      "cell_type": "markdown",
      "source": [
        "# **Decoradores:**"
      ],
      "metadata": {
        "id": "lGcnFjawW7UG"
      }
    },
    {
      "cell_type": "code",
      "source": [
        "def funcion_decoradora(funcion_parametro):\n",
        "  def funcion_interior(*args, **kwargs):\n",
        "    # Acciones adicionales que decoran\n",
        "    print('Vamos a realizar un cálculo:')\n",
        "    funcion_parametro(*args, **kwargs)\n",
        "    # Acciones adicionales que decoran\n",
        "    print('Hemos terminado el cálculo')\n",
        "  return funcion_interior"
      ],
      "metadata": {
        "id": "1XYZiCG_WiNn"
      },
      "execution_count": 14,
      "outputs": []
    },
    {
      "cell_type": "code",
      "execution_count": 15,
      "metadata": {
        "id": "LYQtEuoPWJVs"
      },
      "outputs": [],
      "source": [
        "@funcion_decoradora\n",
        "def suma(num1, num2, num3):\n",
        "  print(num1+num2+num3)"
      ]
    },
    {
      "cell_type": "code",
      "source": [
        "@funcion_decoradora\n",
        "def resta(num1, num2):\n",
        "  print(num1-num2)"
      ],
      "metadata": {
        "id": "fD_r8GhkYm4H"
      },
      "execution_count": 16,
      "outputs": []
    },
    {
      "cell_type": "code",
      "source": [
        "@funcion_decoradora\n",
        "def potencia(base, exponente):\n",
        "  print(pow(base, exponente))"
      ],
      "metadata": {
        "id": "Ah4zRq3eYu8W"
      },
      "execution_count": 17,
      "outputs": []
    },
    {
      "cell_type": "code",
      "source": [
        "suma(7,5,8)"
      ],
      "metadata": {
        "colab": {
          "base_uri": "https://localhost:8080/"
        },
        "id": "ngFaf03qZEn-",
        "outputId": "62e725cd-533e-439a-e96e-8f0b959e2e31"
      },
      "execution_count": 18,
      "outputs": [
        {
          "output_type": "stream",
          "name": "stdout",
          "text": [
            "Vamos a realizar un cálculo:\n",
            "20\n",
            "Hemos terminado el cálculo\n"
          ]
        }
      ]
    },
    {
      "cell_type": "code",
      "source": [
        "resta(10,5) "
      ],
      "metadata": {
        "colab": {
          "base_uri": "https://localhost:8080/"
        },
        "id": "6jMW2jtKZWLA",
        "outputId": "9c4cd0b4-46f9-4c46-df4d-c09d88bc8277"
      },
      "execution_count": 19,
      "outputs": [
        {
          "output_type": "stream",
          "name": "stdout",
          "text": [
            "Vamos a realizar un cálculo:\n",
            "5\n",
            "Hemos terminado el cálculo\n"
          ]
        }
      ]
    },
    {
      "cell_type": "code",
      "source": [
        "potencia(5,2)"
      ],
      "metadata": {
        "colab": {
          "base_uri": "https://localhost:8080/"
        },
        "id": "fZ4Yysn6ZLkn",
        "outputId": "4ccd970a-8d0e-437e-cadb-78d9c4abc706"
      },
      "execution_count": 20,
      "outputs": [
        {
          "output_type": "stream",
          "name": "stdout",
          "text": [
            "Vamos a realizar un cálculo:\n",
            "25\n",
            "Hemos terminado el cálculo\n"
          ]
        }
      ]
    },
    {
      "cell_type": "code",
      "source": [
        "potencia(exponente=5,base=2)"
      ],
      "metadata": {
        "colab": {
          "base_uri": "https://localhost:8080/"
        },
        "id": "pgBWd72vZayO",
        "outputId": "ac0a7edf-7054-40ef-a6db-72e04454b301"
      },
      "execution_count": 21,
      "outputs": [
        {
          "output_type": "stream",
          "name": "stdout",
          "text": [
            "Vamos a realizar un cálculo:\n",
            "32\n",
            "Hemos terminado el cálculo\n"
          ]
        }
      ]
    },
    {
      "cell_type": "code",
      "source": [
        ""
      ],
      "metadata": {
        "id": "2F0Iw9uAZgpO"
      },
      "execution_count": null,
      "outputs": []
    }
  ]
}