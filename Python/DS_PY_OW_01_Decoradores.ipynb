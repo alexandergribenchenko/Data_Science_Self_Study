{
  "nbformat": 4,
  "nbformat_minor": 0,
  "metadata": {
    "colab": {
      "name": "DS_PY_OW_01_Decoradores.ipynb",
      "provenance": [],
      "authorship_tag": "ABX9TyPhHY4ng5+oPuEax3KUGU5M",
      "include_colab_link": true
    },
    "kernelspec": {
      "name": "python3",
      "display_name": "Python 3"
    },
    "language_info": {
      "name": "python"
    }
  },
  "cells": [
    {
      "cell_type": "markdown",
      "metadata": {
        "id": "view-in-github",
        "colab_type": "text"
      },
      "source": [
        "<a href=\"https://colab.research.google.com/github/alexandergribenchenko/Data_Science_Self_Study/blob/main/Python/DS_PY_OW_01_Decoradores.ipynb\" target=\"_parent\"><img src=\"https://colab.research.google.com/assets/colab-badge.svg\" alt=\"Open In Colab\"/></a>"
      ]
    },
    {
      "cell_type": "markdown",
      "source": [
        "# **Tomado de:**"
      ],
      "metadata": {
        "id": "hCVZBWA0f_2b"
      }
    },
    {
      "cell_type": "markdown",
      "source": [
        "- [Curso Python. Decoradores II. Vídeo 74 (youtube)](https://www.youtube.com/watch?v=_IwlE3Z7U04&list=PLU8oAlHdN5BlvPxziopYZRd55pdqFwkeS&index=74)"
      ],
      "metadata": {
        "id": "oJR-WMCmf_z8"
      }
    },
    {
      "cell_type": "markdown",
      "source": [
        "# **Decoradores:**\n",
        "Su filosofía es generar acciones complementarias a funciones base. \"Decorar\" algo que ya existe. Mantener la base e incluir algo adicional que lo complemente "
      ],
      "metadata": {
        "id": "lGcnFjawW7UG"
      }
    },
    {
      "cell_type": "markdown",
      "source": [
        "- `funcion_decoradora`: función que incluira la acción complementaria a la `funcion_parametro`. Es la que se debe llamar utilizar posteriormente con el el signo `@`para decorar.\n",
        "- `funcion_parametro`: función que recibirá decoración.\n",
        "- `funcion_interior`: función de paso que utiliza el decorador para poder operativizar la decoración."
      ],
      "metadata": {
        "id": "yS6N66iqaJP7"
      }
    },
    {
      "cell_type": "code",
      "source": [
        "def funcion_decoradora(funcion_parametro):\n",
        "  def funcion_interior(*args, **kwargs):\n",
        "    # Acciones adicionales que decoran\n",
        "    print('Vamos a realizar un cálculo:')\n",
        "    funcion_parametro(*args, **kwargs)\n",
        "    # Acciones adicionales que decoran\n",
        "    print('Hemos terminado el cálculo')\n",
        "  return funcion_interior"
      ],
      "metadata": {
        "id": "1XYZiCG_WiNn"
      },
      "execution_count": 1,
      "outputs": []
    },
    {
      "cell_type": "code",
      "execution_count": 2,
      "metadata": {
        "id": "LYQtEuoPWJVs"
      },
      "outputs": [],
      "source": [
        "@funcion_decoradora\n",
        "def suma(num1, num2, num3):\n",
        "  print(num1+num2+num3)"
      ]
    },
    {
      "cell_type": "code",
      "source": [
        "@funcion_decoradora\n",
        "def resta(num1, num2):\n",
        "  print(num1-num2)"
      ],
      "metadata": {
        "id": "fD_r8GhkYm4H"
      },
      "execution_count": 3,
      "outputs": []
    },
    {
      "cell_type": "code",
      "source": [
        "@funcion_decoradora\n",
        "def potencia(base, exponente):\n",
        "  print(pow(base, exponente))"
      ],
      "metadata": {
        "id": "Ah4zRq3eYu8W"
      },
      "execution_count": 4,
      "outputs": []
    },
    {
      "cell_type": "code",
      "source": [
        "suma(7,5,8)"
      ],
      "metadata": {
        "colab": {
          "base_uri": "https://localhost:8080/"
        },
        "id": "ngFaf03qZEn-",
        "outputId": "3a7e6706-d2d3-45da-9058-ad7c2044bf1e"
      },
      "execution_count": 5,
      "outputs": [
        {
          "output_type": "stream",
          "name": "stdout",
          "text": [
            "Vamos a realizar un cálculo:\n",
            "20\n",
            "Hemos terminado el cálculo\n"
          ]
        }
      ]
    },
    {
      "cell_type": "code",
      "source": [
        "resta(10,5) "
      ],
      "metadata": {
        "colab": {
          "base_uri": "https://localhost:8080/"
        },
        "id": "6jMW2jtKZWLA",
        "outputId": "0c4c1abe-4121-411a-b580-93f7d642d1ff"
      },
      "execution_count": 6,
      "outputs": [
        {
          "output_type": "stream",
          "name": "stdout",
          "text": [
            "Vamos a realizar un cálculo:\n",
            "5\n",
            "Hemos terminado el cálculo\n"
          ]
        }
      ]
    },
    {
      "cell_type": "code",
      "source": [
        "potencia(5,2)"
      ],
      "metadata": {
        "colab": {
          "base_uri": "https://localhost:8080/"
        },
        "id": "fZ4Yysn6ZLkn",
        "outputId": "d3bf9337-2bec-435e-92f3-e240a0b0b2ac"
      },
      "execution_count": 7,
      "outputs": [
        {
          "output_type": "stream",
          "name": "stdout",
          "text": [
            "Vamos a realizar un cálculo:\n",
            "25\n",
            "Hemos terminado el cálculo\n"
          ]
        }
      ]
    },
    {
      "cell_type": "code",
      "source": [
        "potencia(exponente=5,base=2)"
      ],
      "metadata": {
        "colab": {
          "base_uri": "https://localhost:8080/"
        },
        "id": "pgBWd72vZayO",
        "outputId": "6d588619-f98f-43c5-a656-d37a6f48322c"
      },
      "execution_count": 8,
      "outputs": [
        {
          "output_type": "stream",
          "name": "stdout",
          "text": [
            "Vamos a realizar un cálculo:\n",
            "32\n",
            "Hemos terminado el cálculo\n"
          ]
        }
      ]
    },
    {
      "cell_type": "code",
      "source": [
        "suma(7,5,8)\n",
        "resta(10,5) \n",
        "potencia(exponente=5,base=2)"
      ],
      "metadata": {
        "id": "2F0Iw9uAZgpO",
        "outputId": "16ead4ea-ee35-4265-e85d-63c828605403",
        "colab": {
          "base_uri": "https://localhost:8080/"
        }
      },
      "execution_count": 9,
      "outputs": [
        {
          "output_type": "stream",
          "name": "stdout",
          "text": [
            "Vamos a realizar un cálculo:\n",
            "20\n",
            "Hemos terminado el cálculo\n",
            "Vamos a realizar un cálculo:\n",
            "5\n",
            "Hemos terminado el cálculo\n",
            "Vamos a realizar un cálculo:\n",
            "32\n",
            "Hemos terminado el cálculo\n"
          ]
        }
      ]
    }
  ]
}