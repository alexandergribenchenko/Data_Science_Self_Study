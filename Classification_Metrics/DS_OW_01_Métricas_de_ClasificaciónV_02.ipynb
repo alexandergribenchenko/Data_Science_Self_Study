{
  "nbformat": 4,
  "nbformat_minor": 0,
  "metadata": {
    "colab": {
      "name": "Métricas de Clasificación.ipynb",
      "provenance": [],
      "authorship_tag": "ABX9TyM2cjjtw9Jsa53xaNlGp+Cs",
      "include_colab_link": true
    },
    "kernelspec": {
      "name": "python3",
      "display_name": "Python 3"
    },
    "language_info": {
      "name": "python"
    }
  },
  "cells": [
    {
      "cell_type": "markdown",
      "metadata": {
        "id": "view-in-github",
        "colab_type": "text"
      },
      "source": [
        "<a href=\"https://colab.research.google.com/github/alexandergribenchenko/Data_Science_Toolkit/blob/main/Classification_Metrics/DS_OW_01_M%C3%A9tricas_de_Clasificaci%C3%B3nV_02.ipynb\" target=\"_parent\"><img src=\"https://colab.research.google.com/assets/colab-badge.svg\" alt=\"Open In Colab\"/></a>"
      ]
    },
    {
      "cell_type": "markdown",
      "source": [
        "# **Métricas de Clasificación**"
      ],
      "metadata": {
        "id": "34Dn5bnQiqxN"
      }
    },
    {
      "cell_type": "markdown",
      "source": [
        "## A. Librerías para importar"
      ],
      "metadata": {
        "id": "lSvVtW9uiUKa"
      }
    },
    {
      "cell_type": "code",
      "execution_count": 1,
      "metadata": {
        "id": "hf9MIqPMJryv"
      },
      "outputs": [],
      "source": [
        "from sklearn.metrics import classification_report, confusion_matrix\n",
        "import numpy as np\n",
        "import seaborn as sns\n",
        "import warnings\n",
        "warnings.filterwarnings(\"ignore\")"
      ]
    },
    {
      "cell_type": "markdown",
      "source": [
        "## B. Función de graficación de la matriz de confusión"
      ],
      "metadata": {
        "id": "BQWGbj2aiolM"
      }
    },
    {
      "cell_type": "code",
      "source": [
        "def ordered_confusion_matrix(input_true, input_pred):\n",
        "  tn, fp, fn, tp = confusion_matrix(input_true, input_pred).ravel()\n",
        "  ordered_cm = np.array([[tp,fn], [fp,tn]])\n",
        "  ordered_cm\n",
        "  x_axis_labels = ['Positive','Negative'] # labels for x-axis\n",
        "  y_axis_labels = ['Positive','Negative'] # labels for y-axis\n",
        "\n",
        "  # create seabvorn heatmap with required labels\n",
        "  ax = sns.heatmap(ordered_cm, xticklabels=x_axis_labels, yticklabels=y_axis_labels, cmap='coolwarm', annot=True)\n",
        "  ax.set_ylabel('Real Label', size=25)\n",
        "  ax.set_xlabel( 'Predicted Label', size=25)\n",
        "  # ax.xaxis.tick_top()\n",
        "  ax.xaxis.set_ticks_position('top')\n",
        "  ax.xaxis.set_label_position('top')"
      ],
      "metadata": {
        "id": "gQ-yFO2hc9hl"
      },
      "execution_count": 2,
      "outputs": []
    },
    {
      "cell_type": "markdown",
      "source": [],
      "metadata": {
        "id": "nRTD7Jt6ieXP"
      }
    },
    {
      "cell_type": "markdown",
      "source": [
        "# Caso 01. Dataset desbalanceado: benchmark todo negativo"
      ],
      "metadata": {
        "id": "ltGgw_PDf5jQ"
      }
    },
    {
      "cell_type": "code",
      "source": [
        "y_true = ['perro', 'perro', 'gato', 'perro', 'gato', 'perro', 'perro', 'perro', 'perro', 'gato']\n",
        "y_pred = ['gato', 'gato', 'perro', 'perro', 'gato', 'perro', 'gato', 'perro', 'perro', 'perro']"
      ],
      "metadata": {
        "id": "ghJMnIOlxe1c"
      },
      "execution_count": 44,
      "outputs": []
    },
    {
      "cell_type": "code",
      "source": [
        "y_true = [0, 0, 1, 0, 1, 0, 0, 0, 0, 1]\n",
        "y_pred = [1, 1, 0, 0, 1, 0, 1, 0, 0, 0]"
      ],
      "metadata": {
        "id": "3e4MoHxarRna"
      },
      "execution_count": 37,
      "outputs": []
    },
    {
      "cell_type": "code",
      "source": [
        "confusion_matrix(y_true, y_pred, labels=['perro','gato'])"
      ],
      "metadata": {
        "colab": {
          "base_uri": "https://localhost:8080/"
        },
        "id": "fCgyrfHqrUJe",
        "outputId": "48c2fba6-582f-4005-e34a-6d70cdd24539"
      },
      "execution_count": 45,
      "outputs": [
        {
          "output_type": "execute_result",
          "data": {
            "text/plain": [
              "array([[4, 3],\n",
              "       [2, 1]])"
            ]
          },
          "metadata": {},
          "execution_count": 45
        }
      ]
    },
    {
      "cell_type": "code",
      "source": [
        "tn, fp, fn, tp = confusion_matrix(y_true, y_pred, labels=[0,1] ).ravel()\n",
        "print(f\"TP: {tp}, TN: {tn}, FP: {fp}, FN: {fn}\")"
      ],
      "metadata": {
        "colab": {
          "base_uri": "https://localhost:8080/"
        },
        "id": "jEPQHsIsrxYv",
        "outputId": "f3bdc62d-6287-4eae-ad98-92b5d371066c"
      },
      "execution_count": 42,
      "outputs": [
        {
          "output_type": "stream",
          "name": "stdout",
          "text": [
            "TP: 1, TN: 4, FP: 3, FN: 2\n"
          ]
        }
      ]
    },
    {
      "cell_type": "code",
      "source": [],
      "metadata": {
        "id": "tXVNKRQovQhr"
      },
      "execution_count": null,
      "outputs": []
    },
    {
      "cell_type": "code",
      "source": [
        "tn/(tn+fn)"
      ],
      "metadata": {
        "colab": {
          "base_uri": "https://localhost:8080/"
        },
        "id": "91UcI4R3sVke",
        "outputId": "4bcff67f-d569-4565-ec02-a13db6257321"
      },
      "execution_count": 17,
      "outputs": [
        {
          "output_type": "execute_result",
          "data": {
            "text/plain": [
              "0.9"
            ]
          },
          "metadata": {},
          "execution_count": 17
        }
      ]
    },
    {
      "cell_type": "code",
      "source": [
        "tp+tn/(tp+tn+fp+fn)"
      ],
      "metadata": {
        "colab": {
          "base_uri": "https://localhost:8080/"
        },
        "id": "Angp2XxmsVIg",
        "outputId": "50cbc1cf-4199-48bd-f05b-bfc4ca05a5a3"
      },
      "execution_count": 18,
      "outputs": [
        {
          "output_type": "execute_result",
          "data": {
            "text/plain": [
              "0.9"
            ]
          },
          "metadata": {},
          "execution_count": 18
        }
      ]
    },
    {
      "cell_type": "code",
      "source": [
        "print(classification_report(y_true, y_pred))"
      ],
      "metadata": {
        "colab": {
          "base_uri": "https://localhost:8080/"
        },
        "id": "RoEHJlzGJuwv",
        "outputId": "dcb45eec-6bc5-4e36-cfb5-847ae483bfeb"
      },
      "execution_count": 15,
      "outputs": [
        {
          "output_type": "stream",
          "name": "stdout",
          "text": [
            "              precision    recall  f1-score   support\n",
            "\n",
            "           0       0.90      1.00      0.95         9\n",
            "           1       0.00      0.00      0.00         1\n",
            "\n",
            "    accuracy                           0.90        10\n",
            "   macro avg       0.45      0.50      0.47        10\n",
            "weighted avg       0.81      0.90      0.85        10\n",
            "\n"
          ]
        }
      ]
    },
    {
      "cell_type": "code",
      "source": [
        "ordered_confusion_matrix(y_true, y_pred)"
      ],
      "metadata": {
        "colab": {
          "base_uri": "https://localhost:8080/",
          "height": 294
        },
        "id": "l_YvPNtIdCaA",
        "outputId": "61e121ac-6811-4bb4-e6a3-c297290375d0"
      },
      "execution_count": 4,
      "outputs": [
        {
          "output_type": "display_data",
          "data": {
            "text/plain": [
              "<Figure size 432x288 with 2 Axes>"
            ],
            "image/png": "[encoded data removed]"
          },
          "metadata": {
            "needs_background": "light"
          }
        }
      ]
    },
    {
      "cell_type": "markdown",
      "source": [
        "# Caso 02. Dataset desbalanceado: benchmark todo positivo"
      ],
      "metadata": {
        "id": "MO5FzykqgezO"
      }
    },
    {
      "cell_type": "code",
      "source": [
        "y_true = [0, 0, 0, 0, 0, 0, 0, 0, 0, 1]\n",
        "y_pred = [1, 1, 1, 1, 1, 1, 1, 1, 1, 1]\n",
        "print(classification_report(y_true, y_pred))"
      ],
      "metadata": {
        "colab": {
          "base_uri": "https://localhost:8080/"
        },
        "outputId": "d7365041-e87e-4fbc-cdbf-42e74f111c29",
        "id": "snYBF3D5gezX"
      },
      "execution_count": 5,
      "outputs": [
        {
          "output_type": "stream",
          "name": "stdout",
          "text": [
            "              precision    recall  f1-score   support\n",
            "\n",
            "           0       0.00      0.00      0.00         9\n",
            "           1       0.10      1.00      0.18         1\n",
            "\n",
            "    accuracy                           0.10        10\n",
            "   macro avg       0.05      0.50      0.09        10\n",
            "weighted avg       0.01      0.10      0.02        10\n",
            "\n"
          ]
        }
      ]
    },
    {
      "cell_type": "code",
      "source": [
        "ordered_confusion_matrix(y_true, y_pred)"
      ],
      "metadata": {
        "colab": {
          "base_uri": "https://localhost:8080/",
          "height": 294
        },
        "outputId": "41622f5b-feca-430c-ccab-042ea48f2176",
        "id": "aunMg66lgezX"
      },
      "execution_count": 6,
      "outputs": [
        {
          "output_type": "display_data",
          "data": {
            "text/plain": [
              "<Figure size 432x288 with 2 Axes>"
            ],
            "image/png": "[encoded data removed]"
          },
          "metadata": {
            "needs_background": "light"
          }
        }
      ]
    },
    {
      "cell_type": "markdown",
      "source": [
        "# Caso 03. Dataset desbalanceado: benchmark random"
      ],
      "metadata": {
        "id": "Nl8BWzduiFZB"
      }
    },
    {
      "cell_type": "code",
      "source": [
        "y_true = [0, 0, 0, 0, 0, 0, 0, 0, 0, 1]\n",
        "y_pred = [1, 0, 1, 0, 1, 0, 1, 0, 1, 0]\n",
        "print(classification_report(y_true, y_pred))"
      ],
      "metadata": {
        "colab": {
          "base_uri": "https://localhost:8080/"
        },
        "outputId": "15b5605f-19b7-4003-d1f5-5bfb61112cfb",
        "id": "HdvAUx8piFZJ"
      },
      "execution_count": 7,
      "outputs": [
        {
          "output_type": "stream",
          "name": "stdout",
          "text": [
            "              precision    recall  f1-score   support\n",
            "\n",
            "           0       0.80      0.44      0.57         9\n",
            "           1       0.00      0.00      0.00         1\n",
            "\n",
            "    accuracy                           0.40        10\n",
            "   macro avg       0.40      0.22      0.29        10\n",
            "weighted avg       0.72      0.40      0.51        10\n",
            "\n"
          ]
        }
      ]
    },
    {
      "cell_type": "code",
      "source": [
        "ordered_confusion_matrix(y_true, y_pred)"
      ],
      "metadata": {
        "colab": {
          "base_uri": "https://localhost:8080/",
          "height": 294
        },
        "outputId": "a4f5bc8f-477a-461d-cf80-e254211df222",
        "id": "nUHhdb70iFZK"
      },
      "execution_count": 8,
      "outputs": [
        {
          "output_type": "display_data",
          "data": {
            "text/plain": [
              "<Figure size 432x288 with 2 Axes>"
            ],
            "image/png": "[encoded data removed]"
          },
          "metadata": {
            "needs_background": "light"
          }
        }
      ]
    }
  ]
}