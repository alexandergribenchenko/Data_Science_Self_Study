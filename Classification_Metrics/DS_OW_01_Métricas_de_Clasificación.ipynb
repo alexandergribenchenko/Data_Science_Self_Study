{
  "nbformat": 4,
  "nbformat_minor": 0,
  "metadata": {
    "colab": {
      "name": "Métricas de Clasificación.ipynb",
      "provenance": [],
      "authorship_tag": "ABX9TyMZ4doxAP1g0xcUsAXD++TT",
      "include_colab_link": true
    },
    "kernelspec": {
      "name": "python3",
      "display_name": "Python 3"
    },
    "language_info": {
      "name": "python"
    }
  },
  "cells": [
    {
      "cell_type": "markdown",
      "metadata": {
        "id": "view-in-github",
        "colab_type": "text"
      },
      "source": [
        "<a href=\"https://colab.research.google.com/github/alexandergribenchenko/02_Self_Study/blob/main/M%C3%A9tricas_de_Clasificaci%C3%B3n.ipynb\" target=\"_parent\"><img src=\"https://colab.research.google.com/assets/colab-badge.svg\" alt=\"Open In Colab\"/></a>"
      ]
    },
    {
      "cell_type": "markdown",
      "source": [
        "# **Métricas de Clasificación**"
      ],
      "metadata": {
        "id": "34Dn5bnQiqxN"
      }
    },
    {
      "cell_type": "markdown",
      "source": [
        "## A. Librerías para importar"
      ],
      "metadata": {
        "id": "lSvVtW9uiUKa"
      }
    },
    {
      "cell_type": "code",
      "execution_count": 109,
      "metadata": {
        "id": "hf9MIqPMJryv"
      },
      "outputs": [],
      "source": [
        "from sklearn.metrics import classification_report, confusion_matrix\n",
        "import numpy as np\n",
        "import seaborn as sns\n",
        "import warnings\n",
        "warnings.filterwarnings(\"ignore\")"
      ]
    },
    {
      "cell_type": "markdown",
      "source": [
        "## B. Función de graficación de la matriz de confusión"
      ],
      "metadata": {
        "id": "BQWGbj2aiolM"
      }
    },
    {
      "cell_type": "code",
      "source": [
        "def ordered_confusion_matrix(input_true, input_pred):\n",
        "  tn, fp, fn, tp = confusion_matrix(input_true, input_pred).ravel()\n",
        "  ordered_cm = np.array([[tp,fn], [fp,tn]])\n",
        "  ordered_cm\n",
        "  x_axis_labels = ['Positive','Negative'] # labels for x-axis\n",
        "  y_axis_labels = ['Positive','Negative'] # labels for y-axis\n",
        "\n",
        "  # create seabvorn heatmap with required labels\n",
        "  ax = sns.heatmap(ordered_cm, xticklabels=x_axis_labels, yticklabels=y_axis_labels, cmap='coolwarm', annot=True)\n",
        "  ax.set_ylabel('Real Label', size=25)\n",
        "  ax.set_xlabel( 'Predicted Label', size=25)\n",
        "  # ax.xaxis.tick_top()\n",
        "  ax.xaxis.set_ticks_position('top')\n",
        "  ax.xaxis.set_label_position('top')"
      ],
      "metadata": {
        "id": "gQ-yFO2hc9hl"
      },
      "execution_count": 103,
      "outputs": []
    },
    {
      "cell_type": "markdown",
      "source": [
        ""
      ],
      "metadata": {
        "id": "nRTD7Jt6ieXP"
      }
    },
    {
      "cell_type": "markdown",
      "source": [
        "# Caso 01. Dataset desbalanceado: benchmark todo negativo"
      ],
      "metadata": {
        "id": "ltGgw_PDf5jQ"
      }
    },
    {
      "cell_type": "code",
      "source": [
        "y_true = [0, 0, 0, 0, 0, 0, 0, 0, 0, 1]\n",
        "y_pred = [0, 0, 0, 0, 0, 0, 0, 0, 0, 0]\n",
        "print(classification_report(y_true, y_pred))"
      ],
      "metadata": {
        "colab": {
          "base_uri": "https://localhost:8080/"
        },
        "id": "RoEHJlzGJuwv",
        "outputId": "e141e721-3148-477a-81b5-1199fca628ba"
      },
      "execution_count": 113,
      "outputs": [
        {
          "output_type": "stream",
          "name": "stdout",
          "text": [
            "              precision    recall  f1-score   support\n",
            "\n",
            "           0       0.90      1.00      0.95         9\n",
            "           1       0.00      0.00      0.00         1\n",
            "\n",
            "    accuracy                           0.90        10\n",
            "   macro avg       0.45      0.50      0.47        10\n",
            "weighted avg       0.81      0.90      0.85        10\n",
            "\n"
          ]
        }
      ]
    },
    {
      "cell_type": "code",
      "source": [
        "ordered_confusion_matrix(y_true, y_pred)"
      ],
      "metadata": {
        "colab": {
          "base_uri": "https://localhost:8080/",
          "height": 294
        },
        "id": "l_YvPNtIdCaA",
        "outputId": "37788bb7-fd36-46da-b336-06135c08422d"
      },
      "execution_count": 114,
      "outputs": [
        {
          "output_type": "display_data",
          "data": {
            "image/png": "[encoded data removed]",
            "text/plain": [
              "<Figure size 432x288 with 2 Axes>"
            ]
          },
          "metadata": {
            "needs_background": "light"
          }
        }
      ]
    },
    {
      "cell_type": "markdown",
      "source": [
        "# Caso 02. Dataset desbalanceado: benchmark todo positivo"
      ],
      "metadata": {
        "id": "MO5FzykqgezO"
      }
    },
    {
      "cell_type": "code",
      "source": [
        "y_true = [0, 0, 0, 0, 0, 0, 0, 0, 0, 1]\n",
        "y_pred = [1, 1, 1, 1, 1, 1, 1, 1, 1, 1]\n",
        "print(classification_report(y_true, y_pred))"
      ],
      "metadata": {
        "colab": {
          "base_uri": "https://localhost:8080/"
        },
        "outputId": "392b6068-687d-4797-a374-e71003982380",
        "id": "snYBF3D5gezX"
      },
      "execution_count": 111,
      "outputs": [
        {
          "output_type": "stream",
          "name": "stdout",
          "text": [
            "              precision    recall  f1-score   support\n",
            "\n",
            "           0       0.00      0.00      0.00         9\n",
            "           1       0.10      1.00      0.18         1\n",
            "\n",
            "    accuracy                           0.10        10\n",
            "   macro avg       0.05      0.50      0.09        10\n",
            "weighted avg       0.01      0.10      0.02        10\n",
            "\n"
          ]
        }
      ]
    },
    {
      "cell_type": "code",
      "source": [
        "ordered_confusion_matrix(y_true, y_pred)"
      ],
      "metadata": {
        "colab": {
          "base_uri": "https://localhost:8080/",
          "height": 294
        },
        "outputId": "272de58e-6fe6-438b-dfaa-e257a310b37d",
        "id": "aunMg66lgezX"
      },
      "execution_count": 112,
      "outputs": [
        {
          "output_type": "display_data",
          "data": {
            "image/png": "[encoded data removed]",
            "text/plain": [
              "<Figure size 432x288 with 2 Axes>"
            ]
          },
          "metadata": {
            "needs_background": "light"
          }
        }
      ]
    },
    {
      "cell_type": "markdown",
      "source": [
        "# Caso 03. Dataset desbalanceado: benchmark random"
      ],
      "metadata": {
        "id": "Nl8BWzduiFZB"
      }
    },
    {
      "cell_type": "code",
      "source": [
        "y_true = [0, 0, 0, 0, 0, 0, 0, 0, 0, 1]\n",
        "y_pred = [1, 0, 1, 0, 1, 0, 1, 0, 1, 0]\n",
        "print(classification_report(y_true, y_pred))"
      ],
      "metadata": {
        "colab": {
          "base_uri": "https://localhost:8080/"
        },
        "outputId": "2d60787b-fc2d-46c5-b364-2ededb6a45cf",
        "id": "HdvAUx8piFZJ"
      },
      "execution_count": 115,
      "outputs": [
        {
          "output_type": "stream",
          "name": "stdout",
          "text": [
            "              precision    recall  f1-score   support\n",
            "\n",
            "           0       0.80      0.44      0.57         9\n",
            "           1       0.00      0.00      0.00         1\n",
            "\n",
            "    accuracy                           0.40        10\n",
            "   macro avg       0.40      0.22      0.29        10\n",
            "weighted avg       0.72      0.40      0.51        10\n",
            "\n"
          ]
        }
      ]
    },
    {
      "cell_type": "code",
      "source": [
        "ordered_confusion_matrix(y_true, y_pred)"
      ],
      "metadata": {
        "colab": {
          "base_uri": "https://localhost:8080/",
          "height": 294
        },
        "outputId": "272de58e-6fe6-438b-dfaa-e257a310b37d",
        "id": "nUHhdb70iFZK"
      },
      "execution_count": null,
      "outputs": [
        {
          "output_type": "display_data",
          "data": {
            "image/png": "[encoded data removed]",
            "text/plain": [
              "<Figure size 432x288 with 2 Axes>"
            ]
          },
          "metadata": {
            "needs_background": "light"
          }
        }
      ]
    }
  ]
}
