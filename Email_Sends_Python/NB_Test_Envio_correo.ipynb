{
  "nbformat": 4,
  "nbformat_minor": 0,
  "metadata": {
    "colab": {
      "provenance": [],
      "authorship_tag": "ABX9TyPWveQ3t3AKuAvdAro1zbmt",
      "include_colab_link": true
    },
    "kernelspec": {
      "name": "python3",
      "display_name": "Python 3"
    },
    "language_info": {
      "name": "python"
    }
  },
  "cells": [
    {
      "cell_type": "markdown",
      "metadata": {
        "id": "view-in-github",
        "colab_type": "text"
      },
      "source": [
        "<a href=\"https://colab.research.google.com/github/alexandergribenchenko/Data_Science_Toolkit/blob/main/Email_Sends_Python/NB_Test_Envio_correo.ipynb\" target=\"_parent\"><img src=\"https://colab.research.google.com/assets/colab-badge.svg\" alt=\"Open In Colab\"/></a>"
      ]
    },
    {
      "cell_type": "markdown",
      "source": [
        "# A. Librerías"
      ],
      "metadata": {
        "id": "OzUfUeMZT4_7"
      }
    },
    {
      "cell_type": "code",
      "source": [
        "!pip install pretty_html_table"
      ],
      "metadata": {
        "colab": {
          "base_uri": "https://localhost:8080/"
        },
        "id": "yaI22-azUIur",
        "outputId": "2b3d88bd-0fb2-4a6f-f39d-b01111ab8dcf"
      },
      "execution_count": 1,
      "outputs": [
        {
          "output_type": "stream",
          "name": "stdout",
          "text": [
            "Looking in indexes: https://pypi.org/simple, https://us-python.pkg.dev/colab-wheels/public/simple/\n",
            "Requirement already satisfied: pretty_html_table in /usr/local/lib/python3.9/dist-packages (0.9.16)\n",
            "Requirement already satisfied: pandas in /usr/local/lib/python3.9/dist-packages (from pretty_html_table) (1.4.4)\n",
            "Requirement already satisfied: pytz>=2020.1 in /usr/local/lib/python3.9/dist-packages (from pandas->pretty_html_table) (2022.7.1)\n",
            "Requirement already satisfied: python-dateutil>=2.8.1 in /usr/local/lib/python3.9/dist-packages (from pandas->pretty_html_table) (2.8.2)\n",
            "Requirement already satisfied: numpy>=1.18.5 in /usr/local/lib/python3.9/dist-packages (from pandas->pretty_html_table) (1.22.4)\n",
            "Requirement already satisfied: six>=1.5 in /usr/local/lib/python3.9/dist-packages (from python-dateutil>=2.8.1->pandas->pretty_html_table) (1.15.0)\n"
          ]
        }
      ]
    },
    {
      "cell_type": "code",
      "source": [
        "import pandas as pd\n",
        "\n",
        "import smtplib\n",
        "from email.message import EmailMessage\n",
        "from pretty_html_table import build_table"
      ],
      "metadata": {
        "id": "9KPG0ZNYT5Pj"
      },
      "execution_count": 2,
      "outputs": []
    },
    {
      "cell_type": "markdown",
      "source": [
        "# 01. Dataset a enviar"
      ],
      "metadata": {
        "id": "6j5q1m2ETwhA"
      }
    },
    {
      "cell_type": "code",
      "source": [
        "path_github = 'https://raw.githubusercontent.com/alexandergribenchenko/Data_Science_Datasets/main/Kaggle_Titanic/train.csv'"
      ],
      "metadata": {
        "id": "WCZaxE5fTm5N"
      },
      "execution_count": 3,
      "outputs": []
    },
    {
      "cell_type": "code",
      "source": [
        "df = pd.read_csv(path_github, dtype=object, nrows=5, usecols=['Name','Sex','Age','Survived'])\n",
        "df"
      ],
      "metadata": {
        "colab": {
          "base_uri": "https://localhost:8080/",
          "height": 206
        },
        "id": "NXhZJHS2Tm1j",
        "outputId": "b35e0d75-8784-4e19-9a2c-60cd0b22fe72"
      },
      "execution_count": 4,
      "outputs": [
        {
          "output_type": "execute_result",
          "data": {
            "text/plain": [
              "  Survived                                               Name     Sex Age\n",
              "0        0                            Braund, Mr. Owen Harris    male  22\n",
              "1        1  Cumings, Mrs. John Bradley (Florence Briggs Th...  female  38\n",
              "2        1                             Heikkinen, Miss. Laina  female  26\n",
              "3        1       Futrelle, Mrs. Jacques Heath (Lily May Peel)  female  35\n",
              "4        0                           Allen, Mr. William Henry    male  35"
            ],
            "text/html": [
              "\n",
              "  <div id=\"df-47aa53cf-26eb-4a0d-b4b2-0150fa338807\">\n",
              "    <div class=\"colab-df-container\">\n",
              "      <div>\n",
              "<style scoped>\n",
              "    .dataframe tbody tr th:only-of-type {\n",
              "        vertical-align: middle;\n",
              "    }\n",
              "\n",
              "    .dataframe tbody tr th {\n",
              "        vertical-align: top;\n",
              "    }\n",
              "\n",
              "    .dataframe thead th {\n",
              "        text-align: right;\n",
              "    }\n",
              "</style>\n",
              "<table border=\"1\" class=\"dataframe\">\n",
              "  <thead>\n",
              "    <tr style=\"text-align: right;\">\n",
              "      <th></th>\n",
              "      <th>Survived</th>\n",
              "      <th>Name</th>\n",
              "      <th>Sex</th>\n",
              "      <th>Age</th>\n",
              "    </tr>\n",
              "  </thead>\n",
              "  <tbody>\n",
              "    <tr>\n",
              "      <th>0</th>\n",
              "      <td>0</td>\n",
              "      <td>Braund, Mr. Owen Harris</td>\n",
              "      <td>male</td>\n",
              "      <td>22</td>\n",
              "    </tr>\n",
              "    <tr>\n",
              "      <th>1</th>\n",
              "      <td>1</td>\n",
              "      <td>Cumings, Mrs. John Bradley (Florence Briggs Th...</td>\n",
              "      <td>female</td>\n",
              "      <td>38</td>\n",
              "    </tr>\n",
              "    <tr>\n",
              "      <th>2</th>\n",
              "      <td>1</td>\n",
              "      <td>Heikkinen, Miss. Laina</td>\n",
              "      <td>female</td>\n",
              "      <td>26</td>\n",
              "    </tr>\n",
              "    <tr>\n",
              "      <th>3</th>\n",
              "      <td>1</td>\n",
              "      <td>Futrelle, Mrs. Jacques Heath (Lily May Peel)</td>\n",
              "      <td>female</td>\n",
              "      <td>35</td>\n",
              "    </tr>\n",
              "    <tr>\n",
              "      <th>4</th>\n",
              "      <td>0</td>\n",
              "      <td>Allen, Mr. William Henry</td>\n",
              "      <td>male</td>\n",
              "      <td>35</td>\n",
              "    </tr>\n",
              "  </tbody>\n",
              "</table>\n",
              "</div>\n",
              "      <button class=\"colab-df-convert\" onclick=\"convertToInteractive('df-47aa53cf-26eb-4a0d-b4b2-0150fa338807')\"\n",
              "              title=\"Convert this dataframe to an interactive table.\"\n",
              "              style=\"display:none;\">\n",
              "        \n",
              "  <svg xmlns=\"http://www.w3.org/2000/svg\" height=\"24px\"viewBox=\"0 0 24 24\"\n",
              "       width=\"24px\">\n",
              "    <path d=\"M0 0h24v24H0V0z\" fill=\"none\"/>\n",
              "    <path d=\"M18.56 5.44l.94 2.06.94-2.06 2.06-.94-2.06-.94-.94-2.06-.94 2.06-2.06.94zm-11 1L8.5 8.5l.94-2.06 2.06-.94-2.06-.94L8.5 2.5l-.94 2.06-2.06.94zm10 10l.94 2.06.94-2.06 2.06-.94-2.06-.94-.94-2.06-.94 2.06-2.06.94z\"/><path d=\"M17.41 7.96l-1.37-1.37c-.4-.4-.92-.59-1.43-.59-.52 0-1.04.2-1.43.59L10.3 9.45l-7.72 7.72c-.78.78-.78 2.05 0 2.83L4 21.41c.39.39.9.59 1.41.59.51 0 1.02-.2 1.41-.59l7.78-7.78 2.81-2.81c.8-.78.8-2.07 0-2.86zM5.41 20L4 18.59l7.72-7.72 1.47 1.35L5.41 20z\"/>\n",
              "  </svg>\n",
              "      </button>\n",
              "      \n",
              "  <style>\n",
              "    .colab-df-container {\n",
              "      display:flex;\n",
              "      flex-wrap:wrap;\n",
              "      gap: 12px;\n",
              "    }\n",
              "\n",
              "    .colab-df-convert {\n",
              "      background-color: #E8F0FE;\n",
              "      border: none;\n",
              "      border-radius: 50%;\n",
              "      cursor: pointer;\n",
              "      display: none;\n",
              "      fill: #1967D2;\n",
              "      height: 32px;\n",
              "      padding: 0 0 0 0;\n",
              "      width: 32px;\n",
              "    }\n",
              "\n",
              "    .colab-df-convert:hover {\n",
              "      background-color: #E2EBFA;\n",
              "      box-shadow: 0px 1px 2px rgba(60, 64, 67, 0.3), 0px 1px 3px 1px rgba(60, 64, 67, 0.15);\n",
              "      fill: #174EA6;\n",
              "    }\n",
              "\n",
              "    [theme=dark] .colab-df-convert {\n",
              "      background-color: #3B4455;\n",
              "      fill: #D2E3FC;\n",
              "    }\n",
              "\n",
              "    [theme=dark] .colab-df-convert:hover {\n",
              "      background-color: #434B5C;\n",
              "      box-shadow: 0px 1px 3px 1px rgba(0, 0, 0, 0.15);\n",
              "      filter: drop-shadow(0px 1px 2px rgba(0, 0, 0, 0.3));\n",
              "      fill: #FFFFFF;\n",
              "    }\n",
              "  </style>\n",
              "\n",
              "      <script>\n",
              "        const buttonEl =\n",
              "          document.querySelector('#df-47aa53cf-26eb-4a0d-b4b2-0150fa338807 button.colab-df-convert');\n",
              "        buttonEl.style.display =\n",
              "          google.colab.kernel.accessAllowed ? 'block' : 'none';\n",
              "\n",
              "        async function convertToInteractive(key) {\n",
              "          const element = document.querySelector('#df-47aa53cf-26eb-4a0d-b4b2-0150fa338807');\n",
              "          const dataTable =\n",
              "            await google.colab.kernel.invokeFunction('convertToInteractive',\n",
              "                                                     [key], {});\n",
              "          if (!dataTable) return;\n",
              "\n",
              "          const docLinkHtml = 'Like what you see? Visit the ' +\n",
              "            '<a target=\"_blank\" href=https://colab.research.google.com/notebooks/data_table.ipynb>data table notebook</a>'\n",
              "            + ' to learn more about interactive tables.';\n",
              "          element.innerHTML = '';\n",
              "          dataTable['output_type'] = 'display_data';\n",
              "          await google.colab.output.renderOutput(dataTable, element);\n",
              "          const docLink = document.createElement('div');\n",
              "          docLink.innerHTML = docLinkHtml;\n",
              "          element.appendChild(docLink);\n",
              "        }\n",
              "      </script>\n",
              "    </div>\n",
              "  </div>\n",
              "  "
            ]
          },
          "metadata": {},
          "execution_count": 4
        }
      ]
    },
    {
      "cell_type": "markdown",
      "source": [
        "# 02. Parámetros de email"
      ],
      "metadata": {
        "id": "OvxtX48AUVTi"
      }
    },
    {
      "cell_type": "code",
      "source": [
        "email_parameters = {}\n",
        "\n",
        "# email_parameters['credentials'] = {'email_adress' : 'email.example@gmail.com',\n",
        "#                                          'email_password' : 'passwordexample',\n",
        "#                                          'email_host' : 'smtp.gmail.com',\n",
        "#                                          'email_port' : 465\n",
        "#                                         }\n",
        "\n",
        "email_parameters['From'] = email_parameters['credentials']['email_adress']\n",
        "email_parameters['To'] = ['otheremailexample@example.com', email_parameters['credentials']['email_adress']]\n",
        "email_parameters['Subject'] = 'Test example subject'\n",
        "email_parameters['Content'] = 'Test example content' + build_table(df, 'red_dark')"
      ],
      "metadata": {
        "id": "cbVRGIO8Tmx_"
      },
      "execution_count": 5,
      "outputs": []
    },
    {
      "cell_type": "markdown",
      "source": [
        "# 03. Instanciamiento objeto email"
      ],
      "metadata": {
        "id": "tT7b0eeHUcR8"
      }
    },
    {
      "cell_type": "code",
      "source": [
        "msg = EmailMessage()\n",
        "msg['From'] = email_parameters['From']\n",
        "msg['To'] = email_parameters['To'] \n",
        "msg['Subject'] = email_parameters['Subject']\n",
        "msg.set_content('')\n",
        "msg.add_alternative(email_parameters['Content'], subtype='html')"
      ],
      "metadata": {
        "id": "3wZv4gYiTmvd"
      },
      "execution_count": 6,
      "outputs": []
    },
    {
      "cell_type": "markdown",
      "source": [
        "# 05. Envio de correo"
      ],
      "metadata": {
        "id": "GFCOwCC9Ur1_"
      }
    },
    {
      "cell_type": "code",
      "source": [
        "with smtplib.SMTP_SSL(email_parameters['credentials']['email_host'], email_parameters['credentials']['email_port']) as smtp:\n",
        "  smtp.login(email_parameters['credentials']['email_adress'], email_parameters['credentials']['email_password'])\n",
        "  print('Procediendo con el envío:')\n",
        "  smtp.send_message(msg)\n",
        "  print('Envio realizado con exito')"
      ],
      "metadata": {
        "id": "Gdlo_XaKUhpW"
      },
      "execution_count": null,
      "outputs": []
    }
  ]
}