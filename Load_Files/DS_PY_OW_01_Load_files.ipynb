{
  "nbformat": 4,
  "nbformat_minor": 0,
  "metadata": {
    "colab": {
      "provenance": [],
      "authorship_tag": "ABX9TyNdunqOJkiCPcthwMW6eD7g",
      "include_colab_link": true
    },
    "kernelspec": {
      "name": "python3",
      "display_name": "Python 3"
    },
    "language_info": {
      "name": "python"
    }
  },
  "cells": [
    {
      "cell_type": "markdown",
      "metadata": {
        "id": "view-in-github",
        "colab_type": "text"
      },
      "source": [
        "<a href=\"https://colab.research.google.com/github/alexandergribenchenko/Data_Science_Toolkit/blob/main/Load_Files/DS_PY_OW_01_Load_files.ipynb\" target=\"_parent\"><img src=\"https://colab.research.google.com/assets/colab-badge.svg\" alt=\"Open In Colab\"/></a>"
      ]
    },
    {
      "cell_type": "markdown",
      "source": [
        "# **Load files**"
      ],
      "metadata": {
        "id": "-UEJS6oyTwoR"
      }
    },
    {
      "cell_type": "markdown",
      "source": [
        "# 01. Load text files (.txt, .json, etc.) from Github"
      ],
      "metadata": {
        "id": "B2tXMtgoS2lu"
      }
    },
    {
      "cell_type": "code",
      "source": [
        "import requests\n",
        "\n",
        "github_path = 'https://raw.githubusercontent.com/alexandergribenchenko/Data_Science_Datasets/main/Text_Files/fun_prueba.txt'\n",
        "req = requests.get(github_path)\n",
        "load_text = req.text"
      ],
      "metadata": {
        "id": "hNLFOSUBNxas"
      },
      "execution_count": 6,
      "outputs": []
    },
    {
      "cell_type": "code",
      "source": [
        "type(load_text)"
      ],
      "metadata": {
        "colab": {
          "base_uri": "https://localhost:8080/"
        },
        "id": "v6TOJuy2OzE8",
        "outputId": "e6fd4178-ab67-40f4-df54-e1c563d4cc79"
      },
      "execution_count": 7,
      "outputs": [
        {
          "output_type": "execute_result",
          "data": {
            "text/plain": [
              "str"
            ]
          },
          "metadata": {},
          "execution_count": 7
        }
      ]
    },
    {
      "cell_type": "code",
      "source": [
        "print(load_text)"
      ],
      "metadata": {
        "id": "8qx4S9wLUaCW",
        "outputId": "34dc4dc0-f119-4da5-9f87-c71ff60865fa",
        "colab": {
          "base_uri": "https://localhost:8080/"
        }
      },
      "execution_count": 8,
      "outputs": [
        {
          "output_type": "stream",
          "name": "stdout",
          "text": [
            "def suma(a,b): \r\n",
            "\treturn a+b\n"
          ]
        }
      ]
    },
    {
      "cell_type": "markdown",
      "source": [
        "# 02. Load csv files in a pandas Dataset from Github"
      ],
      "metadata": {
        "id": "mhy8LLouTKIN"
      }
    },
    {
      "cell_type": "code",
      "source": [
        "import pandas as pd\n",
        "\n",
        "github_path = 'https://raw.githubusercontent.com/alexandergribenchenko/Data_Science_Datasets/main/Kaggle_Titanic/gender_submission.csv'\n",
        "df = pd.read_csv(github_path, dtype=object)\n",
        "df"
      ],
      "metadata": {
        "id": "6077AWV8Rk3i"
      },
      "execution_count": 24,
      "outputs": []
    },
    {
      "cell_type": "markdown",
      "source": [
        "# 03. Load csv files in a pandas Dataset from Drive"
      ],
      "metadata": {
        "id": "qwxbR3zPUwCV"
      }
    },
    {
      "cell_type": "code",
      "source": [],
      "metadata": {
        "id": "W-sA8E63Lm15"
      },
      "execution_count": null,
      "outputs": []
    },
    {
      "cell_type": "code",
      "source": [],
      "metadata": {
        "id": "at1-pQ4fLmze"
      },
      "execution_count": null,
      "outputs": []
    }
  ]
}