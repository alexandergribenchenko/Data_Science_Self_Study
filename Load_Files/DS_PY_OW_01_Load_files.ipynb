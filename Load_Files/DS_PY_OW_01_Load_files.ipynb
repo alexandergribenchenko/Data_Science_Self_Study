{
  "nbformat": 4,
  "nbformat_minor": 0,
  "metadata": {
    "colab": {
      "provenance": [],
      "authorship_tag": "ABX9TyOY/kwe1cDvjRutRipIgmy+",
      "include_colab_link": true
    },
    "kernelspec": {
      "name": "python3",
      "display_name": "Python 3"
    },
    "language_info": {
      "name": "python"
    }
  },
  "cells": [
    {
      "cell_type": "markdown",
      "metadata": {
        "id": "view-in-github",
        "colab_type": "text"
      },
      "source": [
        "<a href=\"https://colab.research.google.com/github/alexandergribenchenko/Data_Science_Toolkit/blob/main/Load_Files/DS_PY_OW_01_Load_files.ipynb\" target=\"_parent\"><img src=\"https://colab.research.google.com/assets/colab-badge.svg\" alt=\"Open In Colab\"/></a>"
      ]
    },
    {
      "cell_type": "markdown",
      "source": [
        "# **Load files**"
      ],
      "metadata": {
        "id": "-UEJS6oyTwoR"
      }
    },
    {
      "cell_type": "markdown",
      "source": [
        "# 01. Load text files (.txt, .json, etc.) in str from Drive"
      ],
      "metadata": {
        "id": "Nr43Jx26ZEgt"
      }
    },
    {
      "cell_type": "code",
      "source": [],
      "metadata": {
        "id": "PWFdRGjEZlOg"
      },
      "execution_count": null,
      "outputs": []
    },
    {
      "cell_type": "markdown",
      "source": [
        "# 02. Load text files (.txt, .json, etc.) in str from Github"
      ],
      "metadata": {
        "id": "B2tXMtgoS2lu"
      }
    },
    {
      "cell_type": "code",
      "source": [
        "import requests\n",
        "\n",
        "path_github = 'https://raw.githubusercontent.com/alexandergribenchenko/Data_Science_Datasets/main/Text_Files/fun_prueba.txt'\n",
        "# path_github = 'https://raw.githubusercontent.com/alexandergribenchenko/Data_Science_Datasets/main/Text_Files/configuracion.json'\n",
        "req = requests.get(path_github)\n",
        "load_text = req.text"
      ],
      "metadata": {
        "id": "hNLFOSUBNxas"
      },
      "execution_count": null,
      "outputs": []
    },
    {
      "cell_type": "code",
      "source": [
        "type(load_text)"
      ],
      "metadata": {
        "colab": {
          "base_uri": "https://localhost:8080/"
        },
        "id": "v6TOJuy2OzE8",
        "outputId": "8c0b5a73-138d-4c76-8478-09f2d171745a"
      },
      "execution_count": null,
      "outputs": [
        {
          "output_type": "execute_result",
          "data": {
            "text/plain": [
              "str"
            ]
          },
          "metadata": {},
          "execution_count": 19
        }
      ]
    },
    {
      "cell_type": "code",
      "source": [
        "load_text"
      ],
      "metadata": {
        "id": "LpE05AHIY6hL",
        "outputId": "046a6d0e-1c95-42df-bb6f-7a6a8f5f94f2",
        "colab": {
          "base_uri": "https://localhost:8080/",
          "height": 36
        }
      },
      "execution_count": null,
      "outputs": [
        {
          "output_type": "execute_result",
          "data": {
            "text/plain": [
              "'def suma(a,b): \\r\\n\\treturn a+b'"
            ],
            "application/vnd.google.colaboratory.intrinsic+json": {
              "type": "string"
            }
          },
          "metadata": {},
          "execution_count": 22
        }
      ]
    },
    {
      "cell_type": "code",
      "source": [
        "print(load_text)"
      ],
      "metadata": {
        "colab": {
          "base_uri": "https://localhost:8080/"
        },
        "id": "8qx4S9wLUaCW",
        "outputId": "0ec643a3-cdbe-43df-8683-0eb1a3e1eeee"
      },
      "execution_count": null,
      "outputs": [
        {
          "output_type": "stream",
          "name": "stdout",
          "text": [
            "def suma(a,b): \r\n",
            "\treturn a+b\n"
          ]
        }
      ]
    }
  ]
}